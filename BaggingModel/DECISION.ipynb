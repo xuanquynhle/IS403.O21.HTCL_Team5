{
 "cells": [
  {
   "cell_type": "markdown",
   "metadata": {},
   "source": [
    "# Hòa phát group (80-20)"
   ]
  },
  {
   "cell_type": "markdown",
   "metadata": {},
   "source": [
    "## Huấn luyện model"
   ]
  },
  {
   "cell_type": "markdown",
   "metadata": {},
   "source": [
    "### Xử lý"
   ]
  },
  {
   "cell_type": "code",
   "execution_count": 1,
   "metadata": {},
   "outputs": [],
   "source": [
    "# 1. Import thư viện cần thiết\n",
    "import numpy as np\n",
    "import pandas as pd\n",
    "import matplotlib.pyplot as plt\n",
    "from sklearn.preprocessing import MinMaxScaler\n",
    "from sklearn.ensemble import BaggingRegressor\n",
    "from sklearn.tree import DecisionTreeRegressor\n",
    "from sklearn.metrics import mean_squared_error, mean_absolute_error, mean_absolute_percentage_error\n",
    "\n",
    "# 2. Đọc file csv và gắng index với giá Price\n",
    "df = pd.read_csv('HPG Historical Data.csv', sep=\",\")\n",
    "df1 = df.reset_index()['Price']\n",
    "\n",
    "# 3. Scaler data\n",
    "scaler = MinMaxScaler(feature_range=(0, 1))\n",
    "df1 = scaler.fit_transform(np.array(df1).reshape(-1, 1))\n",
    "\n",
    "# 4. Chia train test\n",
    "train_size = int(0.8 * len(df1))\n",
    "test_size = len(df1) - train_size\n",
    "train_data = df1[:train_size]\n",
    "test_data = df1[train_size:]\n",
    "\n",
    "# 5. Hàm Create Dataset (convert an array of values into a dataset matrix)\n",
    "def create_dataset(dataset, time_step=1):\n",
    "    dataX, dataY = [], []\n",
    "    for i in range(len(dataset)-time_step-1):\n",
    "        a = dataset[i:(i+time_step), 0]\n",
    "        dataX.append(a)\n",
    "        dataY.append(dataset[i + time_step, 0])\n",
    "    return np.array(dataX), np.array(dataY)\n",
    "\n",
    "# 6. Reshape into X=t,t+1,t+2..t+99 and Y=t+100\n",
    "time_step = 100\n",
    "X_train, y_train = create_dataset(train_data, time_step)\n",
    "X_test, y_test = create_dataset(test_data, time_step)\n",
    "\n",
    "# Reshape input to be [samples, time steps, features] which is required for LSTM\n",
    "X_train = X_train.reshape(X_train.shape[0], X_train.shape[1])\n",
    "X_test = X_test.reshape(X_test.shape[0], X_test.shape[1])\n"
   ]
  },
  {
   "cell_type": "markdown",
   "metadata": {},
   "source": [
    "### Model"
   ]
  },
  {
   "cell_type": "code",
   "execution_count": 2,
   "metadata": {},
   "outputs": [],
   "source": [
    "# 7. Định nghĩa DecisionTree model\n",
    "def create_DecisionTree_model():\n",
    "    model = DecisionTreeRegressor()\n",
    "    return model\n",
    "\n",
    "# Create and train multiple decision tree models\n",
    "n_estimators = 10\n",
    "predictions = []\n",
    "\n",
    "for _ in range(n_estimators):\n",
    "    base_model = create_DecisionTree_model()\n",
    "    bagging_model = BaggingRegressor(base_model, n_estimators=100, random_state=42)\n",
    "    bagging_model.fit(X_train, y_train)\n",
    "    y_pred = bagging_model.predict(X_test)\n",
    "    predictions.append(y_pred.flatten())\n",
    "\n",
    "# Average the predictions\n",
    "bagging_predictions = np.mean(predictions, axis=0)\n",
    "\n",
    "# Inverse transform the predictions\n",
    "y_test_inv = scaler.inverse_transform(y_test.reshape(-1, 1))\n",
    "bagging_predictions_inv = scaler.inverse_transform(bagging_predictions.reshape(-1, 1))"
   ]
  },
  {
   "cell_type": "markdown",
   "metadata": {},
   "source": [
    "### Visualize"
   ]
  },
  {
   "cell_type": "code",
   "execution_count": null,
   "metadata": {},
   "outputs": [],
   "source": []
  },
  {
   "cell_type": "code",
   "execution_count": null,
   "metadata": {},
   "outputs": [],
   "source": [
    "# 9. Trực quan hóa kết quả\n",
    "plt.figure(figsize=(14, 7))\n",
    "plt.plot(y_test_inv, label='Actual Prices', color='blue')\n",
    "plt.plot(bagging_predictions_inv, label='Predicted Prices (Bagging)', color='red')\n",
    "plt.title('Stock Price Prediction with Bagging Regressor')\n",
    "plt.xlabel('Time Steps')\n",
    "plt.ylabel('Stock Price')\n",
    "plt.legend()\n",
    "plt.show()"
   ]
  },
  {
   "cell_type": "markdown",
   "metadata": {},
   "source": [
    "### Đánh giá"
   ]
  },
  {
   "cell_type": "code",
   "execution_count": 1,
   "metadata": {},
   "outputs": [
    {
     "ename": "NameError",
     "evalue": "name 'scaler' is not defined",
     "output_type": "error",
     "traceback": [
      "\u001b[1;31m---------------------------------------------------------------------------\u001b[0m",
      "\u001b[1;31mNameError\u001b[0m                                 Traceback (most recent call last)",
      "Cell \u001b[1;32mIn[1], line 6\u001b[0m\n\u001b[0;32m      3\u001b[0m \u001b[38;5;28;01mimport\u001b[39;00m \u001b[38;5;21;01mnumpy\u001b[39;00m \u001b[38;5;28;01mas\u001b[39;00m \u001b[38;5;21;01mnp\u001b[39;00m\n\u001b[0;32m      5\u001b[0m \u001b[38;5;66;03m# Inverse transform the true values for the testing data\u001b[39;00m\n\u001b[1;32m----> 6\u001b[0m true_values_testing \u001b[38;5;241m=\u001b[39m \u001b[43mscaler\u001b[49m\u001b[38;5;241m.\u001b[39minverse_transform(y_test\u001b[38;5;241m.\u001b[39mreshape(\u001b[38;5;241m-\u001b[39m\u001b[38;5;241m1\u001b[39m, \u001b[38;5;241m1\u001b[39m))\n\u001b[0;32m      8\u001b[0m \u001b[38;5;66;03m# Calculate MAE for testing data\u001b[39;00m\n\u001b[0;32m      9\u001b[0m test_mae \u001b[38;5;241m=\u001b[39m np\u001b[38;5;241m.\u001b[39mmean(\u001b[38;5;28mabs\u001b[39m(bagging_predictions_inv \u001b[38;5;241m-\u001b[39m true_values_testing))\n",
      "\u001b[1;31mNameError\u001b[0m: name 'scaler' is not defined"
     ]
    }
   ],
   "source": [
    "# 8. Dự đoán và đánh giá mô hình\n",
    "rmse_testing = np.sqrt(mean_squared_error(y_test_inv, bagging_predictions_inv))\n",
    "mae_testing = mean_absolute_error(y_test_inv, bagging_predictions_inv)\n",
    "mape_testing = mean_absolute_percentage_error(y_test_inv, bagging_predictions_inv)\n",
    "\n",
    "print(f'Testing RMSE: {rmse_testing}')\n",
    "print(f'Testing MAE: {mae_testing}')\n",
    "print(f'Testing MAPE: {mape_testing}')"
   ]
  },
  {
   "cell_type": "markdown",
   "metadata": {},
   "source": [
    "## Dự đoán"
   ]
  }
 ],
 "metadata": {
  "kernelspec": {
   "display_name": "Python 3",
   "language": "python",
   "name": "python3"
  },
  "language_info": {
   "codemirror_mode": {
    "name": "ipython",
    "version": 3
   },
   "file_extension": ".py",
   "mimetype": "text/x-python",
   "name": "python",
   "nbconvert_exporter": "python",
   "pygments_lexer": "ipython3",
   "version": "3.12.3"
  }
 },
 "nbformat": 4,
 "nbformat_minor": 2
}
