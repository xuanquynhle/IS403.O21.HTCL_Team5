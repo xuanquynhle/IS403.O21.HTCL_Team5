{
  "cells": [
    {
      "cell_type": "markdown",
      "metadata": {
        "id": "Ik-XEHDfAHCb"
      },
      "source": [
        "# NAM KIM GROUP\n"
      ]
    },
    {
      "cell_type": "code",
      "execution_count": 154,
      "metadata": {
        "id": "FMDKda-XIUAK"
      },
      "outputs": [],
      "source": [
        "# 1. Import thư viện cần thiết\n",
        "import numpy as np\n",
        "import pandas as pd\n",
        "import matplotlib.pyplot as plt\n",
        "from sklearn.preprocessing import MinMaxScaler\n",
        "from keras.models import Sequential\n",
        "from keras.layers import Dense, SimpleRNN"
      ]
    },
    {
      "cell_type": "code",
      "execution_count": 155,
      "metadata": {
        "id": "me8vU9MoAHCe"
      },
      "outputs": [],
      "source": [
        "# 2. Đọc file csv và gắng index với giá Price\n",
        "df = pd.read_csv('NKG Historical Data.csv')\n",
        "df1=df.reset_index()['Price']"
      ]
    },
    {
      "cell_type": "code",
      "source": [
        "df.head()"
      ],
      "metadata": {
        "colab": {
          "base_uri": "https://localhost:8080/",
          "height": 206
        },
        "id": "DF37HodNGwmI",
        "outputId": "27cbd5a0-52af-42ef-a3b0-25e3e386a4e5"
      },
      "execution_count": 156,
      "outputs": [
        {
          "output_type": "execute_result",
          "data": {
            "text/plain": [
              "        Date  Price   Open   High    Low    Vol.  Change % Unnamed: 7\n",
              "0   3/1/2024  24.15  24.00  24.20  23.80   5.94M         0        84%\n",
              "1  2/29/2024  23.95  24.25  24.25  23.80   8.67M         0        83%\n",
              "2  2/28/2024  24.15  24.10  24.30  23.90   6.53M         0        21%\n",
              "3  2/27/2024  24.10  23.85  24.55  23.80  11.22M         1        69%\n",
              "4  2/26/2024  23.70  23.35  23.85  23.25   7.55M         1         7%"
            ],
            "text/html": [
              "\n",
              "  <div id=\"df-354496e3-2ec5-4482-98cc-fd3a527a9e76\" class=\"colab-df-container\">\n",
              "    <div>\n",
              "<style scoped>\n",
              "    .dataframe tbody tr th:only-of-type {\n",
              "        vertical-align: middle;\n",
              "    }\n",
              "\n",
              "    .dataframe tbody tr th {\n",
              "        vertical-align: top;\n",
              "    }\n",
              "\n",
              "    .dataframe thead th {\n",
              "        text-align: right;\n",
              "    }\n",
              "</style>\n",
              "<table border=\"1\" class=\"dataframe\">\n",
              "  <thead>\n",
              "    <tr style=\"text-align: right;\">\n",
              "      <th></th>\n",
              "      <th>Date</th>\n",
              "      <th>Price</th>\n",
              "      <th>Open</th>\n",
              "      <th>High</th>\n",
              "      <th>Low</th>\n",
              "      <th>Vol.</th>\n",
              "      <th>Change %</th>\n",
              "      <th>Unnamed: 7</th>\n",
              "    </tr>\n",
              "  </thead>\n",
              "  <tbody>\n",
              "    <tr>\n",
              "      <th>0</th>\n",
              "      <td>3/1/2024</td>\n",
              "      <td>24.15</td>\n",
              "      <td>24.00</td>\n",
              "      <td>24.20</td>\n",
              "      <td>23.80</td>\n",
              "      <td>5.94M</td>\n",
              "      <td>0</td>\n",
              "      <td>84%</td>\n",
              "    </tr>\n",
              "    <tr>\n",
              "      <th>1</th>\n",
              "      <td>2/29/2024</td>\n",
              "      <td>23.95</td>\n",
              "      <td>24.25</td>\n",
              "      <td>24.25</td>\n",
              "      <td>23.80</td>\n",
              "      <td>8.67M</td>\n",
              "      <td>0</td>\n",
              "      <td>83%</td>\n",
              "    </tr>\n",
              "    <tr>\n",
              "      <th>2</th>\n",
              "      <td>2/28/2024</td>\n",
              "      <td>24.15</td>\n",
              "      <td>24.10</td>\n",
              "      <td>24.30</td>\n",
              "      <td>23.90</td>\n",
              "      <td>6.53M</td>\n",
              "      <td>0</td>\n",
              "      <td>21%</td>\n",
              "    </tr>\n",
              "    <tr>\n",
              "      <th>3</th>\n",
              "      <td>2/27/2024</td>\n",
              "      <td>24.10</td>\n",
              "      <td>23.85</td>\n",
              "      <td>24.55</td>\n",
              "      <td>23.80</td>\n",
              "      <td>11.22M</td>\n",
              "      <td>1</td>\n",
              "      <td>69%</td>\n",
              "    </tr>\n",
              "    <tr>\n",
              "      <th>4</th>\n",
              "      <td>2/26/2024</td>\n",
              "      <td>23.70</td>\n",
              "      <td>23.35</td>\n",
              "      <td>23.85</td>\n",
              "      <td>23.25</td>\n",
              "      <td>7.55M</td>\n",
              "      <td>1</td>\n",
              "      <td>7%</td>\n",
              "    </tr>\n",
              "  </tbody>\n",
              "</table>\n",
              "</div>\n",
              "    <div class=\"colab-df-buttons\">\n",
              "\n",
              "  <div class=\"colab-df-container\">\n",
              "    <button class=\"colab-df-convert\" onclick=\"convertToInteractive('df-354496e3-2ec5-4482-98cc-fd3a527a9e76')\"\n",
              "            title=\"Convert this dataframe to an interactive table.\"\n",
              "            style=\"display:none;\">\n",
              "\n",
              "  <svg xmlns=\"http://www.w3.org/2000/svg\" height=\"24px\" viewBox=\"0 -960 960 960\">\n",
              "    <path d=\"M120-120v-720h720v720H120Zm60-500h600v-160H180v160Zm220 220h160v-160H400v160Zm0 220h160v-160H400v160ZM180-400h160v-160H180v160Zm440 0h160v-160H620v160ZM180-180h160v-160H180v160Zm440 0h160v-160H620v160Z\"/>\n",
              "  </svg>\n",
              "    </button>\n",
              "\n",
              "  <style>\n",
              "    .colab-df-container {\n",
              "      display:flex;\n",
              "      gap: 12px;\n",
              "    }\n",
              "\n",
              "    .colab-df-convert {\n",
              "      background-color: #E8F0FE;\n",
              "      border: none;\n",
              "      border-radius: 50%;\n",
              "      cursor: pointer;\n",
              "      display: none;\n",
              "      fill: #1967D2;\n",
              "      height: 32px;\n",
              "      padding: 0 0 0 0;\n",
              "      width: 32px;\n",
              "    }\n",
              "\n",
              "    .colab-df-convert:hover {\n",
              "      background-color: #E2EBFA;\n",
              "      box-shadow: 0px 1px 2px rgba(60, 64, 67, 0.3), 0px 1px 3px 1px rgba(60, 64, 67, 0.15);\n",
              "      fill: #174EA6;\n",
              "    }\n",
              "\n",
              "    .colab-df-buttons div {\n",
              "      margin-bottom: 4px;\n",
              "    }\n",
              "\n",
              "    [theme=dark] .colab-df-convert {\n",
              "      background-color: #3B4455;\n",
              "      fill: #D2E3FC;\n",
              "    }\n",
              "\n",
              "    [theme=dark] .colab-df-convert:hover {\n",
              "      background-color: #434B5C;\n",
              "      box-shadow: 0px 1px 3px 1px rgba(0, 0, 0, 0.15);\n",
              "      filter: drop-shadow(0px 1px 2px rgba(0, 0, 0, 0.3));\n",
              "      fill: #FFFFFF;\n",
              "    }\n",
              "  </style>\n",
              "\n",
              "    <script>\n",
              "      const buttonEl =\n",
              "        document.querySelector('#df-354496e3-2ec5-4482-98cc-fd3a527a9e76 button.colab-df-convert');\n",
              "      buttonEl.style.display =\n",
              "        google.colab.kernel.accessAllowed ? 'block' : 'none';\n",
              "\n",
              "      async function convertToInteractive(key) {\n",
              "        const element = document.querySelector('#df-354496e3-2ec5-4482-98cc-fd3a527a9e76');\n",
              "        const dataTable =\n",
              "          await google.colab.kernel.invokeFunction('convertToInteractive',\n",
              "                                                    [key], {});\n",
              "        if (!dataTable) return;\n",
              "\n",
              "        const docLinkHtml = 'Like what you see? Visit the ' +\n",
              "          '<a target=\"_blank\" href=https://colab.research.google.com/notebooks/data_table.ipynb>data table notebook</a>'\n",
              "          + ' to learn more about interactive tables.';\n",
              "        element.innerHTML = '';\n",
              "        dataTable['output_type'] = 'display_data';\n",
              "        await google.colab.output.renderOutput(dataTable, element);\n",
              "        const docLink = document.createElement('div');\n",
              "        docLink.innerHTML = docLinkHtml;\n",
              "        element.appendChild(docLink);\n",
              "      }\n",
              "    </script>\n",
              "  </div>\n",
              "\n",
              "\n",
              "<div id=\"df-ec1b3209-9ce7-420e-9d7c-6e28d63a3dcf\">\n",
              "  <button class=\"colab-df-quickchart\" onclick=\"quickchart('df-ec1b3209-9ce7-420e-9d7c-6e28d63a3dcf')\"\n",
              "            title=\"Suggest charts\"\n",
              "            style=\"display:none;\">\n",
              "\n",
              "<svg xmlns=\"http://www.w3.org/2000/svg\" height=\"24px\"viewBox=\"0 0 24 24\"\n",
              "     width=\"24px\">\n",
              "    <g>\n",
              "        <path d=\"M19 3H5c-1.1 0-2 .9-2 2v14c0 1.1.9 2 2 2h14c1.1 0 2-.9 2-2V5c0-1.1-.9-2-2-2zM9 17H7v-7h2v7zm4 0h-2V7h2v10zm4 0h-2v-4h2v4z\"/>\n",
              "    </g>\n",
              "</svg>\n",
              "  </button>\n",
              "\n",
              "<style>\n",
              "  .colab-df-quickchart {\n",
              "      --bg-color: #E8F0FE;\n",
              "      --fill-color: #1967D2;\n",
              "      --hover-bg-color: #E2EBFA;\n",
              "      --hover-fill-color: #174EA6;\n",
              "      --disabled-fill-color: #AAA;\n",
              "      --disabled-bg-color: #DDD;\n",
              "  }\n",
              "\n",
              "  [theme=dark] .colab-df-quickchart {\n",
              "      --bg-color: #3B4455;\n",
              "      --fill-color: #D2E3FC;\n",
              "      --hover-bg-color: #434B5C;\n",
              "      --hover-fill-color: #FFFFFF;\n",
              "      --disabled-bg-color: #3B4455;\n",
              "      --disabled-fill-color: #666;\n",
              "  }\n",
              "\n",
              "  .colab-df-quickchart {\n",
              "    background-color: var(--bg-color);\n",
              "    border: none;\n",
              "    border-radius: 50%;\n",
              "    cursor: pointer;\n",
              "    display: none;\n",
              "    fill: var(--fill-color);\n",
              "    height: 32px;\n",
              "    padding: 0;\n",
              "    width: 32px;\n",
              "  }\n",
              "\n",
              "  .colab-df-quickchart:hover {\n",
              "    background-color: var(--hover-bg-color);\n",
              "    box-shadow: 0 1px 2px rgba(60, 64, 67, 0.3), 0 1px 3px 1px rgba(60, 64, 67, 0.15);\n",
              "    fill: var(--button-hover-fill-color);\n",
              "  }\n",
              "\n",
              "  .colab-df-quickchart-complete:disabled,\n",
              "  .colab-df-quickchart-complete:disabled:hover {\n",
              "    background-color: var(--disabled-bg-color);\n",
              "    fill: var(--disabled-fill-color);\n",
              "    box-shadow: none;\n",
              "  }\n",
              "\n",
              "  .colab-df-spinner {\n",
              "    border: 2px solid var(--fill-color);\n",
              "    border-color: transparent;\n",
              "    border-bottom-color: var(--fill-color);\n",
              "    animation:\n",
              "      spin 1s steps(1) infinite;\n",
              "  }\n",
              "\n",
              "  @keyframes spin {\n",
              "    0% {\n",
              "      border-color: transparent;\n",
              "      border-bottom-color: var(--fill-color);\n",
              "      border-left-color: var(--fill-color);\n",
              "    }\n",
              "    20% {\n",
              "      border-color: transparent;\n",
              "      border-left-color: var(--fill-color);\n",
              "      border-top-color: var(--fill-color);\n",
              "    }\n",
              "    30% {\n",
              "      border-color: transparent;\n",
              "      border-left-color: var(--fill-color);\n",
              "      border-top-color: var(--fill-color);\n",
              "      border-right-color: var(--fill-color);\n",
              "    }\n",
              "    40% {\n",
              "      border-color: transparent;\n",
              "      border-right-color: var(--fill-color);\n",
              "      border-top-color: var(--fill-color);\n",
              "    }\n",
              "    60% {\n",
              "      border-color: transparent;\n",
              "      border-right-color: var(--fill-color);\n",
              "    }\n",
              "    80% {\n",
              "      border-color: transparent;\n",
              "      border-right-color: var(--fill-color);\n",
              "      border-bottom-color: var(--fill-color);\n",
              "    }\n",
              "    90% {\n",
              "      border-color: transparent;\n",
              "      border-bottom-color: var(--fill-color);\n",
              "    }\n",
              "  }\n",
              "</style>\n",
              "\n",
              "  <script>\n",
              "    async function quickchart(key) {\n",
              "      const quickchartButtonEl =\n",
              "        document.querySelector('#' + key + ' button');\n",
              "      quickchartButtonEl.disabled = true;  // To prevent multiple clicks.\n",
              "      quickchartButtonEl.classList.add('colab-df-spinner');\n",
              "      try {\n",
              "        const charts = await google.colab.kernel.invokeFunction(\n",
              "            'suggestCharts', [key], {});\n",
              "      } catch (error) {\n",
              "        console.error('Error during call to suggestCharts:', error);\n",
              "      }\n",
              "      quickchartButtonEl.classList.remove('colab-df-spinner');\n",
              "      quickchartButtonEl.classList.add('colab-df-quickchart-complete');\n",
              "    }\n",
              "    (() => {\n",
              "      let quickchartButtonEl =\n",
              "        document.querySelector('#df-ec1b3209-9ce7-420e-9d7c-6e28d63a3dcf button');\n",
              "      quickchartButtonEl.style.display =\n",
              "        google.colab.kernel.accessAllowed ? 'block' : 'none';\n",
              "    })();\n",
              "  </script>\n",
              "</div>\n",
              "    </div>\n",
              "  </div>\n"
            ],
            "application/vnd.google.colaboratory.intrinsic+json": {
              "type": "dataframe",
              "variable_name": "df",
              "summary": "{\n  \"name\": \"df\",\n  \"rows\": 1252,\n  \"fields\": [\n    {\n      \"column\": \"Date\",\n      \"properties\": {\n        \"dtype\": \"object\",\n        \"num_unique_values\": 1252,\n        \"samples\": [\n          \"4/12/2021\",\n          \"3/19/2019\",\n          \"11/21/2019\"\n        ],\n        \"semantic_type\": \"\",\n        \"description\": \"\"\n      }\n    },\n    {\n      \"column\": \"Price\",\n      \"properties\": {\n        \"dtype\": \"number\",\n        \"std\": 10.441389119017641,\n        \"min\": 2.89,\n        \"max\": 44.97,\n        \"num_unique_values\": 678,\n        \"samples\": [\n          3.98,\n          42.63,\n          19.9\n        ],\n        \"semantic_type\": \"\",\n        \"description\": \"\"\n      }\n    },\n    {\n      \"column\": \"Open\",\n      \"properties\": {\n        \"dtype\": \"number\",\n        \"std\": 10.45408898445902,\n        \"min\": 2.878,\n        \"max\": 45.046,\n        \"num_unique_values\": 696,\n        \"samples\": [\n          4.258,\n          39.094,\n          5.467\n        ],\n        \"semantic_type\": \"\",\n        \"description\": \"\"\n      }\n    },\n    {\n      \"column\": \"High\",\n      \"properties\": {\n        \"dtype\": \"number\",\n        \"std\": 10.675489918974586,\n        \"min\": 3.088,\n        \"max\": 45.449,\n        \"num_unique_values\": 746,\n        \"samples\": [\n          21.3,\n          34.589,\n          20.1\n        ],\n        \"semantic_type\": \"\",\n        \"description\": \"\"\n      }\n    },\n    {\n      \"column\": \"Low\",\n      \"properties\": {\n        \"dtype\": \"number\",\n        \"std\": 10.224088247211942,\n        \"min\": 2.878,\n        \"max\": 44.242,\n        \"num_unique_values\": 732,\n        \"samples\": [\n          4.501,\n          23.3,\n          30.286\n        ],\n        \"semantic_type\": \"\",\n        \"description\": \"\"\n      }\n    },\n    {\n      \"column\": \"Vol.\",\n      \"properties\": {\n        \"dtype\": \"string\",\n        \"num_unique_values\": 992,\n        \"samples\": [\n          \"4.00M\",\n          \"16.17M\",\n          \"11.48M\"\n        ],\n        \"semantic_type\": \"\",\n        \"description\": \"\"\n      }\n    },\n    {\n      \"column\": \"Change %\",\n      \"properties\": {\n        \"dtype\": \"number\",\n        \"std\": 2,\n        \"min\": -7,\n        \"max\": 7,\n        \"num_unique_values\": 15,\n        \"samples\": [\n          2,\n          -4,\n          0\n        ],\n        \"semantic_type\": \"\",\n        \"description\": \"\"\n      }\n    },\n    {\n      \"column\": \"Unnamed: 7\",\n      \"properties\": {\n        \"dtype\": \"category\",\n        \"num_unique_values\": 100,\n        \"samples\": [\n          \"62%\",\n          \"13%\",\n          \"52%\"\n        ],\n        \"semantic_type\": \"\",\n        \"description\": \"\"\n      }\n    }\n  ]\n}"
            }
          },
          "metadata": {},
          "execution_count": 156
        }
      ]
    },
    {
      "cell_type": "code",
      "source": [
        "df1.head()"
      ],
      "metadata": {
        "colab": {
          "base_uri": "https://localhost:8080/"
        },
        "id": "JFHc2RydGqCH",
        "outputId": "428a90b9-35f0-45dd-eba4-58d8d6428b8a"
      },
      "execution_count": 157,
      "outputs": [
        {
          "output_type": "execute_result",
          "data": {
            "text/plain": [
              "0    24.15\n",
              "1    23.95\n",
              "2    24.15\n",
              "3    24.10\n",
              "4    23.70\n",
              "Name: Price, dtype: float64"
            ]
          },
          "metadata": {},
          "execution_count": 157
        }
      ]
    },
    {
      "cell_type": "code",
      "execution_count": 158,
      "metadata": {
        "id": "RdVpDho2JgL5"
      },
      "outputs": [],
      "source": [
        "# 3. Scaler data\n",
        "scaler=MinMaxScaler(feature_range=(0,1))\n",
        "df1=scaler.fit_transform(np.array(df1).reshape(-1,1))"
      ]
    },
    {
      "cell_type": "code",
      "execution_count": 159,
      "metadata": {
        "id": "B5JXpenzJoR3"
      },
      "outputs": [],
      "source": [
        "# 4. Chia train test\n",
        "train_size = int(0.65 * len(df1))\n",
        "test_size = int(0.25 * len(df1))\n",
        "val_size = len(df1) - train_size - test_size\n",
        "\n",
        "train_data = df1[:train_size]\n",
        "test_data = df1[train_size:train_size+test_size]\n",
        "val_data = df1[train_size+test_size:]"
      ]
    },
    {
      "cell_type": "code",
      "execution_count": 160,
      "metadata": {
        "id": "yJfmuBORLSfC"
      },
      "outputs": [],
      "source": [
        "# 5. Hàm Create Dataset\n",
        "import numpy\n",
        "# convert an array of values into a dataset matrix\n",
        "def create_dataset(dataset, time_step=1):\n",
        "\tdataX, dataY = [], []\n",
        "\tfor i in range(len(dataset)-time_step-1):\n",
        "\t\ta = dataset[i:(i+time_step), 0]   ###i=0, X=0,1,2,3-----99   Y=100\n",
        "\t\tdataX.append(a)\n",
        "\t\tdataY.append(dataset[i + time_step, 0])\n",
        "\treturn numpy.array(dataX), numpy.array(dataY)"
      ]
    },
    {
      "cell_type": "code",
      "execution_count": 161,
      "metadata": {
        "id": "e81cKq03LXFB"
      },
      "outputs": [],
      "source": [
        "#6. Reshape into X=t,t+1,t+2..t+99 and Y=t+100\n",
        "time_step = 100\n",
        "X_train, y_train = create_dataset(train_data, time_step)\n",
        "X_val, yval = create_dataset(val_data, time_step)\n",
        "X_test, ytest = create_dataset(test_data, time_step)"
      ]
    },
    {
      "cell_type": "code",
      "execution_count": 162,
      "metadata": {
        "id": "RdBVfku7O2qb"
      },
      "outputs": [],
      "source": [
        "# 7. Reshape input to be [samples, time steps, features] which is required for LSTM\n",
        "X_train =X_train.reshape(X_train.shape[0],X_train.shape[1] , 1)\n",
        "X_test = X_test.reshape(X_test.shape[0],X_test.shape[1] , 1)\n",
        "X_val = X_val.reshape(X_val.shape[0],X_val.shape[1] , 1)"
      ]
    },
    {
      "cell_type": "code",
      "execution_count": 163,
      "metadata": {
        "id": "sSfxrE7BO9vX"
      },
      "outputs": [],
      "source": [
        "# 8. Define LSTM Model\n",
        "model = Sequential()\n",
        "model.add(SimpleRNN(50, input_shape=(time_step, 1)))\n",
        "model.add(Dense(1))\n",
        "model.compile(loss='mean_squared_error',optimizer='adam')"
      ]
    },
    {
      "cell_type": "code",
      "execution_count": 164,
      "metadata": {
        "colab": {
          "base_uri": "https://localhost:8080/"
        },
        "id": "zgfeujZSPEKr",
        "outputId": "e558ac9a-6803-4b11-dcda-05392f34d0ab"
      },
      "outputs": [
        {
          "output_type": "stream",
          "name": "stdout",
          "text": [
            "Epoch 1/100\n",
            "12/12 [==============================] - 2s 46ms/step - loss: 0.0234 - val_loss: 4.6568e-04\n",
            "Epoch 2/100\n",
            "12/12 [==============================] - 0s 23ms/step - loss: 0.0065 - val_loss: 0.0019\n",
            "Epoch 3/100\n",
            "12/12 [==============================] - 0s 25ms/step - loss: 0.0024 - val_loss: 9.8888e-04\n",
            "Epoch 4/100\n",
            "12/12 [==============================] - 0s 23ms/step - loss: 0.0016 - val_loss: 3.3934e-04\n",
            "Epoch 5/100\n",
            "12/12 [==============================] - 0s 23ms/step - loss: 0.0012 - val_loss: 4.3581e-04\n",
            "Epoch 6/100\n",
            "12/12 [==============================] - 0s 24ms/step - loss: 9.4929e-04 - val_loss: 5.5618e-04\n",
            "Epoch 7/100\n",
            "12/12 [==============================] - 0s 25ms/step - loss: 8.8800e-04 - val_loss: 5.1030e-04\n",
            "Epoch 8/100\n",
            "12/12 [==============================] - 0s 22ms/step - loss: 8.3937e-04 - val_loss: 3.4666e-04\n",
            "Epoch 9/100\n",
            "12/12 [==============================] - 0s 23ms/step - loss: 7.9799e-04 - val_loss: 3.4800e-04\n",
            "Epoch 10/100\n",
            "12/12 [==============================] - 0s 24ms/step - loss: 8.3291e-04 - val_loss: 5.5730e-04\n",
            "Epoch 11/100\n",
            "12/12 [==============================] - 0s 23ms/step - loss: 7.9226e-04 - val_loss: 6.4492e-04\n",
            "Epoch 12/100\n",
            "12/12 [==============================] - 0s 23ms/step - loss: 7.3076e-04 - val_loss: 3.9731e-04\n",
            "Epoch 13/100\n",
            "12/12 [==============================] - 0s 23ms/step - loss: 6.8046e-04 - val_loss: 4.0515e-04\n",
            "Epoch 14/100\n",
            "12/12 [==============================] - 0s 25ms/step - loss: 6.4767e-04 - val_loss: 3.8500e-04\n",
            "Epoch 15/100\n",
            "12/12 [==============================] - 0s 23ms/step - loss: 6.5453e-04 - val_loss: 3.5951e-04\n",
            "Epoch 16/100\n",
            "12/12 [==============================] - 0s 31ms/step - loss: 6.2712e-04 - val_loss: 3.4036e-04\n",
            "Epoch 17/100\n",
            "12/12 [==============================] - 0s 41ms/step - loss: 6.6517e-04 - val_loss: 4.8089e-04\n",
            "Epoch 18/100\n",
            "12/12 [==============================] - 0s 40ms/step - loss: 6.1681e-04 - val_loss: 3.6317e-04\n",
            "Epoch 19/100\n",
            "12/12 [==============================] - 1s 44ms/step - loss: 6.3117e-04 - val_loss: 3.7082e-04\n",
            "Epoch 20/100\n",
            "12/12 [==============================] - 1s 43ms/step - loss: 5.8784e-04 - val_loss: 4.0491e-04\n",
            "Epoch 21/100\n",
            "12/12 [==============================] - 1s 42ms/step - loss: 5.8089e-04 - val_loss: 5.1845e-04\n",
            "Epoch 22/100\n",
            "12/12 [==============================] - 1s 45ms/step - loss: 5.7546e-04 - val_loss: 4.7674e-04\n",
            "Epoch 23/100\n",
            "12/12 [==============================] - 1s 47ms/step - loss: 5.7883e-04 - val_loss: 3.7226e-04\n",
            "Epoch 24/100\n",
            "12/12 [==============================] - 0s 28ms/step - loss: 5.8843e-04 - val_loss: 3.7343e-04\n",
            "Epoch 25/100\n",
            "12/12 [==============================] - 0s 24ms/step - loss: 5.6520e-04 - val_loss: 3.7336e-04\n",
            "Epoch 26/100\n",
            "12/12 [==============================] - 0s 26ms/step - loss: 5.6409e-04 - val_loss: 4.2470e-04\n",
            "Epoch 27/100\n",
            "12/12 [==============================] - 0s 24ms/step - loss: 5.6006e-04 - val_loss: 4.2313e-04\n",
            "Epoch 28/100\n",
            "12/12 [==============================] - 0s 23ms/step - loss: 5.4809e-04 - val_loss: 3.9076e-04\n",
            "Epoch 29/100\n",
            "12/12 [==============================] - 0s 25ms/step - loss: 5.6431e-04 - val_loss: 3.6151e-04\n",
            "Epoch 30/100\n",
            "12/12 [==============================] - 0s 22ms/step - loss: 5.6459e-04 - val_loss: 3.4475e-04\n",
            "Epoch 31/100\n",
            "12/12 [==============================] - 0s 23ms/step - loss: 5.8238e-04 - val_loss: 4.1662e-04\n",
            "Epoch 32/100\n",
            "12/12 [==============================] - 0s 23ms/step - loss: 5.5534e-04 - val_loss: 4.6947e-04\n",
            "Epoch 33/100\n",
            "12/12 [==============================] - 0s 24ms/step - loss: 5.5751e-04 - val_loss: 3.9283e-04\n",
            "Epoch 34/100\n",
            "12/12 [==============================] - 0s 23ms/step - loss: 5.3683e-04 - val_loss: 3.5828e-04\n",
            "Epoch 35/100\n",
            "12/12 [==============================] - 0s 24ms/step - loss: 5.6589e-04 - val_loss: 3.6491e-04\n",
            "Epoch 36/100\n",
            "12/12 [==============================] - 0s 24ms/step - loss: 5.3790e-04 - val_loss: 3.4309e-04\n",
            "Epoch 37/100\n",
            "12/12 [==============================] - 0s 24ms/step - loss: 5.4151e-04 - val_loss: 3.0882e-04\n",
            "Epoch 38/100\n",
            "12/12 [==============================] - 0s 23ms/step - loss: 5.4210e-04 - val_loss: 2.6855e-04\n",
            "Epoch 39/100\n",
            "12/12 [==============================] - 0s 23ms/step - loss: 5.8417e-04 - val_loss: 3.4349e-04\n",
            "Epoch 40/100\n",
            "12/12 [==============================] - 0s 24ms/step - loss: 5.9893e-04 - val_loss: 3.9759e-04\n",
            "Epoch 41/100\n",
            "12/12 [==============================] - 0s 23ms/step - loss: 5.5887e-04 - val_loss: 3.2689e-04\n",
            "Epoch 42/100\n",
            "12/12 [==============================] - 0s 22ms/step - loss: 5.0535e-04 - val_loss: 2.9529e-04\n",
            "Epoch 43/100\n",
            "12/12 [==============================] - 0s 23ms/step - loss: 5.3591e-04 - val_loss: 3.0730e-04\n",
            "Epoch 44/100\n",
            "12/12 [==============================] - 0s 24ms/step - loss: 4.7927e-04 - val_loss: 3.2893e-04\n",
            "Epoch 45/100\n",
            "12/12 [==============================] - 0s 23ms/step - loss: 4.8769e-04 - val_loss: 3.1924e-04\n",
            "Epoch 46/100\n",
            "12/12 [==============================] - 0s 23ms/step - loss: 4.8788e-04 - val_loss: 2.5239e-04\n",
            "Epoch 47/100\n",
            "12/12 [==============================] - 0s 23ms/step - loss: 4.9006e-04 - val_loss: 2.7859e-04\n",
            "Epoch 48/100\n",
            "12/12 [==============================] - 0s 25ms/step - loss: 4.9011e-04 - val_loss: 2.9058e-04\n",
            "Epoch 49/100\n",
            "12/12 [==============================] - 0s 26ms/step - loss: 5.0062e-04 - val_loss: 3.2040e-04\n",
            "Epoch 50/100\n",
            "12/12 [==============================] - 0s 23ms/step - loss: 4.9508e-04 - val_loss: 2.2483e-04\n",
            "Epoch 51/100\n",
            "12/12 [==============================] - 0s 25ms/step - loss: 5.2916e-04 - val_loss: 3.0411e-04\n",
            "Epoch 52/100\n",
            "12/12 [==============================] - 0s 23ms/step - loss: 6.1165e-04 - val_loss: 4.4981e-04\n",
            "Epoch 53/100\n",
            "12/12 [==============================] - 0s 23ms/step - loss: 5.1143e-04 - val_loss: 2.3854e-04\n",
            "Epoch 54/100\n",
            "12/12 [==============================] - 0s 23ms/step - loss: 4.7100e-04 - val_loss: 2.4635e-04\n",
            "Epoch 55/100\n",
            "12/12 [==============================] - 0s 24ms/step - loss: 4.9867e-04 - val_loss: 2.4734e-04\n",
            "Epoch 56/100\n",
            "12/12 [==============================] - 0s 23ms/step - loss: 4.7830e-04 - val_loss: 2.9218e-04\n",
            "Epoch 57/100\n",
            "12/12 [==============================] - 0s 22ms/step - loss: 5.1315e-04 - val_loss: 3.2603e-04\n",
            "Epoch 58/100\n",
            "12/12 [==============================] - 0s 22ms/step - loss: 4.8095e-04 - val_loss: 2.3473e-04\n",
            "Epoch 59/100\n",
            "12/12 [==============================] - 0s 34ms/step - loss: 4.8071e-04 - val_loss: 2.5059e-04\n",
            "Epoch 60/100\n",
            "12/12 [==============================] - 1s 42ms/step - loss: 5.1516e-04 - val_loss: 3.3612e-04\n",
            "Epoch 61/100\n",
            "12/12 [==============================] - 1s 44ms/step - loss: 5.4926e-04 - val_loss: 3.6189e-04\n",
            "Epoch 62/100\n",
            "12/12 [==============================] - 1s 45ms/step - loss: 4.7083e-04 - val_loss: 1.9206e-04\n",
            "Epoch 63/100\n",
            "12/12 [==============================] - 1s 42ms/step - loss: 4.8006e-04 - val_loss: 2.6657e-04\n",
            "Epoch 64/100\n",
            "12/12 [==============================] - 1s 46ms/step - loss: 4.5091e-04 - val_loss: 2.6909e-04\n",
            "Epoch 65/100\n",
            "12/12 [==============================] - 1s 43ms/step - loss: 4.6892e-04 - val_loss: 2.0102e-04\n",
            "Epoch 66/100\n",
            "12/12 [==============================] - 0s 23ms/step - loss: 4.6070e-04 - val_loss: 1.5450e-04\n",
            "Epoch 67/100\n",
            "12/12 [==============================] - 0s 24ms/step - loss: 4.6211e-04 - val_loss: 2.3952e-04\n",
            "Epoch 68/100\n",
            "12/12 [==============================] - 0s 25ms/step - loss: 4.3990e-04 - val_loss: 2.3794e-04\n",
            "Epoch 69/100\n",
            "12/12 [==============================] - 0s 23ms/step - loss: 5.0503e-04 - val_loss: 1.2624e-04\n",
            "Epoch 70/100\n",
            "12/12 [==============================] - 0s 24ms/step - loss: 4.2087e-04 - val_loss: 1.5697e-04\n",
            "Epoch 71/100\n",
            "12/12 [==============================] - 0s 24ms/step - loss: 4.9063e-04 - val_loss: 1.5649e-04\n",
            "Epoch 72/100\n",
            "12/12 [==============================] - 0s 24ms/step - loss: 4.8840e-04 - val_loss: 2.3921e-04\n",
            "Epoch 73/100\n",
            "12/12 [==============================] - 0s 23ms/step - loss: 4.2480e-04 - val_loss: 1.9683e-04\n",
            "Epoch 74/100\n",
            "12/12 [==============================] - 0s 23ms/step - loss: 4.3106e-04 - val_loss: 2.4072e-04\n",
            "Epoch 75/100\n",
            "12/12 [==============================] - 0s 24ms/step - loss: 5.2008e-04 - val_loss: 1.3432e-04\n",
            "Epoch 76/100\n",
            "12/12 [==============================] - 0s 23ms/step - loss: 4.6382e-04 - val_loss: 1.8973e-04\n",
            "Epoch 77/100\n",
            "12/12 [==============================] - 0s 23ms/step - loss: 4.3239e-04 - val_loss: 1.8954e-04\n",
            "Epoch 78/100\n",
            "12/12 [==============================] - 0s 24ms/step - loss: 4.3235e-04 - val_loss: 1.4677e-04\n",
            "Epoch 79/100\n",
            "12/12 [==============================] - 0s 24ms/step - loss: 4.4282e-04 - val_loss: 1.4839e-04\n",
            "Epoch 80/100\n",
            "12/12 [==============================] - 0s 27ms/step - loss: 4.1477e-04 - val_loss: 2.2661e-04\n",
            "Epoch 81/100\n",
            "12/12 [==============================] - 0s 23ms/step - loss: 4.2227e-04 - val_loss: 1.7297e-04\n",
            "Epoch 82/100\n",
            "12/12 [==============================] - 0s 25ms/step - loss: 5.0414e-04 - val_loss: 1.4771e-04\n",
            "Epoch 83/100\n",
            "12/12 [==============================] - 0s 23ms/step - loss: 4.3754e-04 - val_loss: 7.2039e-05\n",
            "Epoch 84/100\n",
            "12/12 [==============================] - 0s 25ms/step - loss: 6.0306e-04 - val_loss: 1.8798e-04\n",
            "Epoch 85/100\n",
            "12/12 [==============================] - 0s 26ms/step - loss: 4.3146e-04 - val_loss: 1.5183e-04\n",
            "Epoch 86/100\n",
            "12/12 [==============================] - 0s 24ms/step - loss: 4.1370e-04 - val_loss: 1.3299e-04\n",
            "Epoch 87/100\n",
            "12/12 [==============================] - 0s 23ms/step - loss: 4.0975e-04 - val_loss: 1.2557e-04\n",
            "Epoch 88/100\n",
            "12/12 [==============================] - 0s 24ms/step - loss: 4.0922e-04 - val_loss: 1.6704e-04\n",
            "Epoch 89/100\n",
            "12/12 [==============================] - 0s 26ms/step - loss: 3.9928e-04 - val_loss: 1.4844e-04\n",
            "Epoch 90/100\n",
            "12/12 [==============================] - 0s 23ms/step - loss: 3.9748e-04 - val_loss: 1.3788e-04\n",
            "Epoch 91/100\n",
            "12/12 [==============================] - 0s 24ms/step - loss: 4.1208e-04 - val_loss: 1.1803e-04\n",
            "Epoch 92/100\n",
            "12/12 [==============================] - 0s 25ms/step - loss: 3.8746e-04 - val_loss: 1.3521e-04\n",
            "Epoch 93/100\n",
            "12/12 [==============================] - 0s 23ms/step - loss: 4.0390e-04 - val_loss: 1.0973e-04\n",
            "Epoch 94/100\n",
            "12/12 [==============================] - 0s 24ms/step - loss: 3.9262e-04 - val_loss: 1.1468e-04\n",
            "Epoch 95/100\n",
            "12/12 [==============================] - 0s 23ms/step - loss: 4.5591e-04 - val_loss: 1.2228e-04\n",
            "Epoch 96/100\n",
            "12/12 [==============================] - 0s 25ms/step - loss: 4.4036e-04 - val_loss: 1.9515e-04\n",
            "Epoch 97/100\n",
            "12/12 [==============================] - 0s 23ms/step - loss: 5.2495e-04 - val_loss: 7.0354e-05\n",
            "Epoch 98/100\n",
            "12/12 [==============================] - 0s 23ms/step - loss: 5.7111e-04 - val_loss: 1.5127e-04\n",
            "Epoch 99/100\n",
            "12/12 [==============================] - 0s 23ms/step - loss: 4.9233e-04 - val_loss: 1.1219e-04\n",
            "Epoch 100/100\n",
            "12/12 [==============================] - 0s 37ms/step - loss: 4.4200e-04 - val_loss: 7.7855e-05\n"
          ]
        },
        {
          "output_type": "execute_result",
          "data": {
            "text/plain": [
              "<keras.src.callbacks.History at 0x7cd4e1787760>"
            ]
          },
          "metadata": {},
          "execution_count": 164
        }
      ],
      "source": [
        "# 9. Fit mô hình với dữ liệu train\n",
        "model.fit(X_train,y_train,validation_data=(X_test,ytest),epochs=100,batch_size=64,verbose=1)"
      ]
    },
    {
      "cell_type": "code",
      "execution_count": 165,
      "metadata": {
        "colab": {
          "base_uri": "https://localhost:8080/"
        },
        "id": "Rxx_KQSkQpBG",
        "outputId": "1642e042-7112-45cc-81a7-ba59a6a9e74d"
      },
      "outputs": [
        {
          "output_type": "stream",
          "name": "stdout",
          "text": [
            "23/23 [==============================] - 0s 8ms/step\n",
            "7/7 [==============================] - 0s 8ms/step\n",
            "1/1 [==============================] - 0s 37ms/step\n"
          ]
        }
      ],
      "source": [
        "# 10. Dự báo dữ liệu test, val\n",
        "train_predict=model.predict(X_train)\n",
        "y_pred=model.predict(X_test)\n",
        "y_pred_val=model.predict(X_val)"
      ]
    },
    {
      "cell_type": "code",
      "execution_count": 166,
      "metadata": {
        "id": "5rwTN10LQ7rj"
      },
      "outputs": [],
      "source": [
        "# 11. Chuẩn hóa dữ liệu y_pred, y_pred_val\n",
        "train_predict=scaler.inverse_transform(train_predict)\n",
        "y_pred=scaler.inverse_transform(y_pred)\n",
        "y_pred_val=scaler.inverse_transform(y_pred_val)"
      ]
    },
    {
      "cell_type": "code",
      "execution_count": 167,
      "metadata": {
        "id": "r3PeRHARAHCh"
      },
      "outputs": [],
      "source": [
        "ytest = scaler.inverse_transform(ytest.reshape(-1,1))\n",
        "yval = scaler.inverse_transform(yval.reshape(-1,1))"
      ]
    },
    {
      "cell_type": "code",
      "execution_count": 168,
      "metadata": {
        "colab": {
          "base_uri": "https://localhost:8080/"
        },
        "id": "wu_9j94kRonD",
        "outputId": "ddaa4248-6faf-4b11-e505-1b0840e70f9f"
      },
      "outputs": [
        {
          "output_type": "stream",
          "name": "stdout",
          "text": [
            "Validation RMSE: 0.3866643645150356\n",
            "Testing RMSE: 0.3712956938091481\n"
          ]
        }
      ],
      "source": [
        "# 12. Đánh giá độ chính xác thuật toán bằng RMSE\n",
        "valid_rmse = np.sqrt(np.mean((y_pred_val - yval)**2))\n",
        "test_rmse = np.sqrt(np.mean((y_pred - ytest)**2))\n",
        "print('Validation RMSE:', valid_rmse)\n",
        "print('Testing RMSE:', test_rmse)"
      ]
    },
    {
      "cell_type": "code",
      "execution_count": 170,
      "metadata": {
        "colab": {
          "base_uri": "https://localhost:8080/"
        },
        "id": "-Tind_8TAHCh",
        "outputId": "84048d29-71e4-44fe-e68b-8a0ff00a660f"
      },
      "outputs": [
        {
          "output_type": "stream",
          "name": "stdout",
          "text": [
            "Validation MAE: 0.3634478591918946\n",
            "Testing MAE: 0.32758063158898987\n"
          ]
        }
      ],
      "source": [
        "# Đánh giá độ chính xác thuật toán bằng MAE\n",
        "valid_mae = np.mean(abs(y_pred_val - yval))\n",
        "test_mae = np.mean(abs(y_pred - ytest))\n",
        "print('Validation MAE:', valid_mae)\n",
        "print('Testing MAE:', test_mae)"
      ]
    },
    {
      "cell_type": "code",
      "execution_count": 171,
      "metadata": {
        "colab": {
          "base_uri": "https://localhost:8080/"
        },
        "id": "gDFbKEkMAHCi",
        "outputId": "55947afb-8c03-4bb4-e44e-a099745282dc"
      },
      "outputs": [
        {
          "output_type": "stream",
          "name": "stdout",
          "text": [
            "Validation MAPE: 0.06914620701622037\n",
            "Testing MAPE: 0.06873881638849787\n"
          ]
        }
      ],
      "source": [
        "# Đánh giá độ chính xác thuật toán bằng MAPE\n",
        "valid_mape = np.mean(np.abs(y_pred_val - yval)/np.abs(y_pred_val))\n",
        "test_mape = np.mean(np.abs(y_pred - ytest)/np.abs(y_pred))\n",
        "\n",
        "print('Validation MAPE:', valid_mape)\n",
        "print('Testing MAPE:', test_mape)"
      ]
    },
    {
      "cell_type": "code",
      "execution_count": 172,
      "metadata": {
        "colab": {
          "base_uri": "https://localhost:8080/",
          "height": 430
        },
        "id": "0xzNLNCPAHCi",
        "outputId": "86f46769-d9b0-4eb5-bb15-dadd887ae491"
      },
      "outputs": [
        {
          "output_type": "display_data",
          "data": {
            "text/plain": [
              "<Figure size 640x480 with 1 Axes>"
            ],
            "image/png": "[encoded data removed]"
          },
          "metadata": {}
        }
      ],
      "source": [
        "# 14.Vẽ hình\n",
        "# Train\n",
        "train_data_index = pd.RangeIndex(start=0, stop=train_size, step=1)\n",
        "plt.plot(scaler.inverse_transform(train_data))\n",
        "# Test\n",
        "test_data_index = pd.RangeIndex(start=train_size, stop=train_size+test_size, step=1)\n",
        "plt.plot(test_data_index,scaler.inverse_transform(test_data))\n",
        "# Dự đoán trên tập test\n",
        "test_data_index = pd.RangeIndex(start=train_size+101, stop=train_size+test_size, step=1)\n",
        "plt.plot(test_data_index,(y_pred))\n",
        "# Validate\n",
        "val_data_index = pd.RangeIndex(start=train_size+test_size, stop=train_size+test_size+val_size, step=1)\n",
        "plt.plot(val_data_index,scaler.inverse_transform(val_data))\n",
        "# Dự đoán trên tập validated\n",
        "val_data_index = pd.RangeIndex(start=train_size+test_size+101, stop=train_size+test_size+val_size, step=1)\n",
        "plt.plot(val_data_index,y_pred_val)\n",
        "plt.legend(['Train','Test','Predict','Validate','ValidatePred'])\n",
        "plt.show()"
      ]
    }
  ],
  "metadata": {
    "colab": {
      "provenance": []
    },
    "kernelspec": {
      "display_name": "Python 3.11.0 64-bit",
      "language": "python",
      "name": "python3"
    },
    "language_info": {
      "codemirror_mode": {
        "name": "ipython",
        "version": 3
      },
      "file_extension": ".py",
      "mimetype": "text/x-python",
      "name": "python",
      "nbconvert_exporter": "python",
      "pygments_lexer": "ipython3",
      "version": "3.12.3"
    },
    "vscode": {
      "interpreter": {
        "hash": "228ec1c77332413f421e77c28617d1df6074d6a46921cdaeb15ed9feeb460bfe"
      }
    }
  },
  "nbformat": 4,
  "nbformat_minor": 0
}