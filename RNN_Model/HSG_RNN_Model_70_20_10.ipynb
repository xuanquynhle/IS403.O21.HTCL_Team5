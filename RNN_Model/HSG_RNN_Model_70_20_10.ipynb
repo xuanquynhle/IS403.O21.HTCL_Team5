{
  "cells": [
    {
      "cell_type": "code",
      "execution_count": 17,
      "metadata": {
        "id": "FMDKda-XIUAK"
      },
      "outputs": [],
      "source": [
        "# 1. Import thư viện cần thiết\n",
        "import numpy as np\n",
        "import pandas as pd\n",
        "import matplotlib.pyplot as plt\n",
        "from sklearn.preprocessing import MinMaxScaler\n",
        "from keras.models import Sequential\n",
        "from keras.layers import Dense, SimpleRNN"
      ]
    },
    {
      "cell_type": "code",
      "execution_count": 18,
      "metadata": {
        "id": "aRm9GQ8KJJ5N"
      },
      "outputs": [],
      "source": [
        "# 2. Đọc file csv và gắng index với giá Price\n",
        "df = pd.read_csv('HSG Historical Data.csv')\n",
        "df1=df.reset_index()['Price']"
      ]
    },
    {
      "cell_type": "code",
      "execution_count": 19,
      "metadata": {
        "id": "RdVpDho2JgL5"
      },
      "outputs": [],
      "source": [
        "# 3. Scaler data\n",
        "scaler=MinMaxScaler(feature_range=(0,1))\n",
        "df1=scaler.fit_transform(np.array(df1).reshape(-1,1))"
      ]
    },
    {
      "cell_type": "code",
      "execution_count": 20,
      "metadata": {
        "id": "B5JXpenzJoR3"
      },
      "outputs": [],
      "source": [
        "# 4. Chia train test\n",
        "train_size = int(0.7 * len(df1))\n",
        "test_size = int(0.2 * len(df1))\n",
        "val_size = len(df1) - train_size - test_size\n",
        "\n",
        "train_data = df1[:train_size]\n",
        "test_data = df1[train_size:train_size+test_size]\n",
        "val_data = df1[train_size+test_size:]"
      ]
    },
    {
      "cell_type": "code",
      "execution_count": 22,
      "metadata": {
        "id": "yJfmuBORLSfC"
      },
      "outputs": [],
      "source": [
        "# 5. Hàm Create Dataset\n",
        "import numpy\n",
        "# convert an array of values into a dataset matrix\n",
        "def create_dataset(dataset, time_step=1):\n",
        "\tdataX, dataY = [], []\n",
        "\tfor i in range(len(dataset)-time_step-1):\n",
        "\t\ta = dataset[i:(i+time_step), 0]   ###i=0, X=0,1,2,3-----99   Y=100\n",
        "\t\tdataX.append(a)\n",
        "\t\tdataY.append(dataset[i + time_step, 0])\n",
        "\treturn numpy.array(dataX), numpy.array(dataY)"
      ]
    },
    {
      "cell_type": "code",
      "execution_count": 23,
      "metadata": {
        "id": "e81cKq03LXFB"
      },
      "outputs": [],
      "source": [
        "#6. Reshape into X=t,t+1,t+2..t+99 and Y=t+100\n",
        "time_step = 100\n",
        "X_train, y_train = create_dataset(train_data, time_step)\n",
        "X_val, yval = create_dataset(val_data, time_step)\n",
        "X_test, ytest = create_dataset(test_data, time_step)"
      ]
    },
    {
      "cell_type": "code",
      "execution_count": 24,
      "metadata": {
        "id": "RdBVfku7O2qb"
      },
      "outputs": [],
      "source": [
        "# 7. Reshape input to be [samples, time steps, features] which is required for LSTM\n",
        "X_train =X_train.reshape(X_train.shape[0],X_train.shape[1] , 1)\n",
        "X_test = X_test.reshape(X_test.shape[0],X_test.shape[1] , 1)\n",
        "X_val = X_val.reshape(X_val.shape[0],X_val.shape[1] , 1)"
      ]
    },
    {
      "cell_type": "code",
      "execution_count": 25,
      "metadata": {
        "id": "sSfxrE7BO9vX"
      },
      "outputs": [],
      "source": [
        "# 8. Define LSTM Model\n",
        "model = Sequential()\n",
        "model.add(SimpleRNN(50, input_shape=(time_step, 1)))\n",
        "model.add(Dense(1))\n",
        "model.compile(loss='mean_squared_error',optimizer='adam')"
      ]
    },
    {
      "cell_type": "code",
      "execution_count": 26,
      "metadata": {
        "colab": {
          "base_uri": "https://localhost:8080/"
        },
        "id": "zgfeujZSPEKr",
        "outputId": "77b6bc0a-5813-47d9-da1f-4a53607afb16"
      },
      "outputs": [
        {
          "output_type": "stream",
          "name": "stdout",
          "text": [
            "Epoch 1/100\n",
            "13/13 [==============================] - 1s 38ms/step - loss: 0.0947 - val_loss: 0.0170\n",
            "Epoch 2/100\n",
            "13/13 [==============================] - 0s 21ms/step - loss: 0.0041 - val_loss: 3.5015e-04\n",
            "Epoch 3/100\n",
            "13/13 [==============================] - 0s 21ms/step - loss: 0.0019 - val_loss: 1.8027e-04\n",
            "Epoch 4/100\n",
            "13/13 [==============================] - 0s 21ms/step - loss: 0.0016 - val_loss: 1.6216e-04\n",
            "Epoch 5/100\n",
            "13/13 [==============================] - 0s 23ms/step - loss: 0.0015 - val_loss: 3.6377e-04\n",
            "Epoch 6/100\n",
            "13/13 [==============================] - 0s 19ms/step - loss: 0.0015 - val_loss: 2.0312e-04\n",
            "Epoch 7/100\n",
            "13/13 [==============================] - 0s 23ms/step - loss: 0.0014 - val_loss: 2.2822e-04\n",
            "Epoch 8/100\n",
            "13/13 [==============================] - 0s 20ms/step - loss: 0.0014 - val_loss: 1.4257e-04\n",
            "Epoch 9/100\n",
            "13/13 [==============================] - 1s 61ms/step - loss: 0.0015 - val_loss: 2.9686e-04\n",
            "Epoch 10/100\n",
            "13/13 [==============================] - 0s 20ms/step - loss: 0.0014 - val_loss: 2.5333e-04\n",
            "Epoch 11/100\n",
            "13/13 [==============================] - 0s 21ms/step - loss: 0.0015 - val_loss: 8.7288e-05\n",
            "Epoch 12/100\n",
            "13/13 [==============================] - 0s 20ms/step - loss: 0.0015 - val_loss: 9.7502e-05\n",
            "Epoch 13/100\n",
            "13/13 [==============================] - 0s 20ms/step - loss: 0.0013 - val_loss: 1.5136e-04\n",
            "Epoch 14/100\n",
            "13/13 [==============================] - 0s 20ms/step - loss: 0.0013 - val_loss: 1.5883e-04\n",
            "Epoch 15/100\n",
            "13/13 [==============================] - 0s 22ms/step - loss: 0.0013 - val_loss: 2.3343e-04\n",
            "Epoch 16/100\n",
            "13/13 [==============================] - 0s 20ms/step - loss: 0.0013 - val_loss: 1.3030e-04\n",
            "Epoch 17/100\n",
            "13/13 [==============================] - 0s 20ms/step - loss: 0.0012 - val_loss: 1.0912e-04\n",
            "Epoch 18/100\n",
            "13/13 [==============================] - 0s 20ms/step - loss: 0.0012 - val_loss: 1.7920e-04\n",
            "Epoch 19/100\n",
            "13/13 [==============================] - 0s 21ms/step - loss: 0.0012 - val_loss: 7.4772e-05\n",
            "Epoch 20/100\n",
            "13/13 [==============================] - 0s 20ms/step - loss: 0.0013 - val_loss: 2.0309e-04\n",
            "Epoch 21/100\n",
            "13/13 [==============================] - 0s 20ms/step - loss: 0.0013 - val_loss: 1.0051e-04\n",
            "Epoch 22/100\n",
            "13/13 [==============================] - 0s 22ms/step - loss: 0.0012 - val_loss: 1.3563e-04\n",
            "Epoch 23/100\n",
            "13/13 [==============================] - 0s 21ms/step - loss: 0.0012 - val_loss: 1.5627e-04\n",
            "Epoch 24/100\n",
            "13/13 [==============================] - 0s 20ms/step - loss: 0.0013 - val_loss: 1.1993e-04\n",
            "Epoch 25/100\n",
            "13/13 [==============================] - 0s 19ms/step - loss: 0.0011 - val_loss: 1.9739e-04\n",
            "Epoch 26/100\n",
            "13/13 [==============================] - 0s 23ms/step - loss: 0.0012 - val_loss: 9.7416e-05\n",
            "Epoch 27/100\n",
            "13/13 [==============================] - 0s 20ms/step - loss: 0.0011 - val_loss: 9.1395e-05\n",
            "Epoch 28/100\n",
            "13/13 [==============================] - 0s 20ms/step - loss: 0.0011 - val_loss: 6.3050e-05\n",
            "Epoch 29/100\n",
            "13/13 [==============================] - 0s 20ms/step - loss: 0.0012 - val_loss: 2.2851e-04\n",
            "Epoch 30/100\n",
            "13/13 [==============================] - 0s 24ms/step - loss: 0.0012 - val_loss: 3.2773e-04\n",
            "Epoch 31/100\n",
            "13/13 [==============================] - 0s 34ms/step - loss: 0.0012 - val_loss: 1.4545e-04\n",
            "Epoch 32/100\n",
            "13/13 [==============================] - 0s 36ms/step - loss: 0.0012 - val_loss: 1.0367e-04\n",
            "Epoch 33/100\n",
            "13/13 [==============================] - 0s 36ms/step - loss: 0.0012 - val_loss: 1.0020e-04\n",
            "Epoch 34/100\n",
            "13/13 [==============================] - 0s 35ms/step - loss: 0.0012 - val_loss: 2.4032e-04\n",
            "Epoch 35/100\n",
            "13/13 [==============================] - 0s 36ms/step - loss: 0.0013 - val_loss: 1.5952e-04\n",
            "Epoch 36/100\n",
            "13/13 [==============================] - 1s 40ms/step - loss: 0.0013 - val_loss: 1.5994e-04\n",
            "Epoch 37/100\n",
            "13/13 [==============================] - 1s 39ms/step - loss: 0.0013 - val_loss: 8.3261e-05\n",
            "Epoch 38/100\n",
            "13/13 [==============================] - 0s 27ms/step - loss: 0.0010 - val_loss: 7.5928e-05\n",
            "Epoch 39/100\n",
            "13/13 [==============================] - 0s 23ms/step - loss: 0.0011 - val_loss: 5.6210e-05\n",
            "Epoch 40/100\n",
            "13/13 [==============================] - 0s 21ms/step - loss: 0.0010 - val_loss: 5.7334e-05\n",
            "Epoch 41/100\n",
            "13/13 [==============================] - 0s 19ms/step - loss: 0.0011 - val_loss: 1.1400e-04\n",
            "Epoch 42/100\n",
            "13/13 [==============================] - 0s 19ms/step - loss: 9.9092e-04 - val_loss: 6.1831e-05\n",
            "Epoch 43/100\n",
            "13/13 [==============================] - 0s 20ms/step - loss: 0.0011 - val_loss: 5.5809e-05\n",
            "Epoch 44/100\n",
            "13/13 [==============================] - 0s 21ms/step - loss: 9.7420e-04 - val_loss: 6.3087e-05\n",
            "Epoch 45/100\n",
            "13/13 [==============================] - 0s 20ms/step - loss: 9.6277e-04 - val_loss: 5.2683e-05\n",
            "Epoch 46/100\n",
            "13/13 [==============================] - 0s 23ms/step - loss: 9.4930e-04 - val_loss: 5.5406e-05\n",
            "Epoch 47/100\n",
            "13/13 [==============================] - 0s 20ms/step - loss: 9.4561e-04 - val_loss: 6.5534e-05\n",
            "Epoch 48/100\n",
            "13/13 [==============================] - 0s 20ms/step - loss: 9.6738e-04 - val_loss: 1.4173e-04\n",
            "Epoch 49/100\n",
            "13/13 [==============================] - 0s 20ms/step - loss: 9.5826e-04 - val_loss: 8.8615e-05\n",
            "Epoch 50/100\n",
            "13/13 [==============================] - 0s 20ms/step - loss: 9.8512e-04 - val_loss: 5.1254e-05\n",
            "Epoch 51/100\n",
            "13/13 [==============================] - 0s 21ms/step - loss: 9.3418e-04 - val_loss: 5.3821e-05\n",
            "Epoch 52/100\n",
            "13/13 [==============================] - 0s 19ms/step - loss: 9.8744e-04 - val_loss: 4.9555e-05\n",
            "Epoch 53/100\n",
            "13/13 [==============================] - 0s 20ms/step - loss: 9.6483e-04 - val_loss: 8.3442e-05\n",
            "Epoch 54/100\n",
            "13/13 [==============================] - 0s 20ms/step - loss: 9.0080e-04 - val_loss: 2.3731e-04\n",
            "Epoch 55/100\n",
            "13/13 [==============================] - 0s 21ms/step - loss: 9.8007e-04 - val_loss: 1.3911e-04\n",
            "Epoch 56/100\n",
            "13/13 [==============================] - 0s 20ms/step - loss: 9.3038e-04 - val_loss: 5.3031e-05\n",
            "Epoch 57/100\n",
            "13/13 [==============================] - 0s 20ms/step - loss: 8.7967e-04 - val_loss: 2.3344e-04\n",
            "Epoch 58/100\n",
            "13/13 [==============================] - 0s 22ms/step - loss: 0.0010 - val_loss: 6.3425e-05\n",
            "Epoch 59/100\n",
            "13/13 [==============================] - 0s 23ms/step - loss: 9.7754e-04 - val_loss: 1.2393e-04\n",
            "Epoch 60/100\n",
            "13/13 [==============================] - 0s 20ms/step - loss: 9.0491e-04 - val_loss: 1.0660e-04\n",
            "Epoch 61/100\n",
            "13/13 [==============================] - 0s 20ms/step - loss: 0.0010 - val_loss: 5.1344e-05\n",
            "Epoch 62/100\n",
            "13/13 [==============================] - 0s 20ms/step - loss: 9.7988e-04 - val_loss: 2.3993e-04\n",
            "Epoch 63/100\n",
            "13/13 [==============================] - 0s 21ms/step - loss: 0.0010 - val_loss: 5.0551e-05\n",
            "Epoch 64/100\n",
            "13/13 [==============================] - 0s 20ms/step - loss: 8.9164e-04 - val_loss: 1.4183e-04\n",
            "Epoch 65/100\n",
            "13/13 [==============================] - 0s 20ms/step - loss: 9.9160e-04 - val_loss: 1.2314e-04\n",
            "Epoch 66/100\n",
            "13/13 [==============================] - 0s 20ms/step - loss: 9.7030e-04 - val_loss: 4.6321e-05\n",
            "Epoch 67/100\n",
            "13/13 [==============================] - 0s 21ms/step - loss: 9.6523e-04 - val_loss: 6.9528e-05\n",
            "Epoch 68/100\n",
            "13/13 [==============================] - 0s 20ms/step - loss: 8.5389e-04 - val_loss: 6.1284e-05\n",
            "Epoch 69/100\n",
            "13/13 [==============================] - 0s 22ms/step - loss: 8.1874e-04 - val_loss: 1.7875e-04\n",
            "Epoch 70/100\n",
            "13/13 [==============================] - 0s 23ms/step - loss: 9.2684e-04 - val_loss: 1.0254e-04\n",
            "Epoch 71/100\n",
            "13/13 [==============================] - 0s 20ms/step - loss: 8.8782e-04 - val_loss: 8.0042e-05\n",
            "Epoch 72/100\n",
            "13/13 [==============================] - 0s 20ms/step - loss: 8.8729e-04 - val_loss: 4.5737e-04\n",
            "Epoch 73/100\n",
            "13/13 [==============================] - 0s 21ms/step - loss: 0.0010 - val_loss: 4.4437e-05\n",
            "Epoch 74/100\n",
            "13/13 [==============================] - 0s 21ms/step - loss: 7.9255e-04 - val_loss: 4.4401e-05\n",
            "Epoch 75/100\n",
            "13/13 [==============================] - 0s 34ms/step - loss: 8.2327e-04 - val_loss: 7.9987e-05\n",
            "Epoch 76/100\n",
            "13/13 [==============================] - 0s 34ms/step - loss: 7.8680e-04 - val_loss: 2.2335e-04\n",
            "Epoch 77/100\n",
            "13/13 [==============================] - 0s 36ms/step - loss: 8.1960e-04 - val_loss: 1.6679e-04\n",
            "Epoch 78/100\n",
            "13/13 [==============================] - 0s 36ms/step - loss: 0.0010 - val_loss: 6.7468e-04\n",
            "Epoch 79/100\n",
            "13/13 [==============================] - 1s 40ms/step - loss: 0.0012 - val_loss: 1.4639e-04\n",
            "Epoch 80/100\n",
            "13/13 [==============================] - 0s 38ms/step - loss: 9.1840e-04 - val_loss: 5.3902e-05\n",
            "Epoch 81/100\n",
            "13/13 [==============================] - 0s 39ms/step - loss: 8.2850e-04 - val_loss: 2.4145e-04\n",
            "Epoch 82/100\n",
            "13/13 [==============================] - 0s 27ms/step - loss: 0.0011 - val_loss: 4.6603e-05\n",
            "Epoch 83/100\n",
            "13/13 [==============================] - 0s 19ms/step - loss: 9.8394e-04 - val_loss: 4.3568e-05\n",
            "Epoch 84/100\n",
            "13/13 [==============================] - 0s 21ms/step - loss: 8.7301e-04 - val_loss: 4.3989e-05\n",
            "Epoch 85/100\n",
            "13/13 [==============================] - 0s 20ms/step - loss: 7.5647e-04 - val_loss: 1.7018e-04\n",
            "Epoch 86/100\n",
            "13/13 [==============================] - 0s 20ms/step - loss: 8.5591e-04 - val_loss: 9.8888e-05\n",
            "Epoch 87/100\n",
            "13/13 [==============================] - 0s 20ms/step - loss: 8.6035e-04 - val_loss: 1.5005e-04\n",
            "Epoch 88/100\n",
            "13/13 [==============================] - 0s 22ms/step - loss: 8.5474e-04 - val_loss: 1.2904e-04\n",
            "Epoch 89/100\n",
            "13/13 [==============================] - 0s 19ms/step - loss: 9.1646e-04 - val_loss: 4.0979e-05\n",
            "Epoch 90/100\n",
            "13/13 [==============================] - 0s 20ms/step - loss: 9.8523e-04 - val_loss: 2.9870e-04\n",
            "Epoch 91/100\n",
            "13/13 [==============================] - 0s 20ms/step - loss: 0.0011 - val_loss: 1.4282e-04\n",
            "Epoch 92/100\n",
            "13/13 [==============================] - 0s 21ms/step - loss: 8.7938e-04 - val_loss: 4.7921e-05\n",
            "Epoch 93/100\n",
            "13/13 [==============================] - 0s 20ms/step - loss: 7.3761e-04 - val_loss: 4.2372e-05\n",
            "Epoch 94/100\n",
            "13/13 [==============================] - 0s 20ms/step - loss: 8.3531e-04 - val_loss: 2.4772e-04\n",
            "Epoch 95/100\n",
            "13/13 [==============================] - 0s 22ms/step - loss: 8.1584e-04 - val_loss: 5.6401e-05\n",
            "Epoch 96/100\n",
            "13/13 [==============================] - 0s 20ms/step - loss: 7.7360e-04 - val_loss: 1.0724e-04\n",
            "Epoch 97/100\n",
            "13/13 [==============================] - 0s 20ms/step - loss: 7.2369e-04 - val_loss: 4.8517e-05\n",
            "Epoch 98/100\n",
            "13/13 [==============================] - 0s 19ms/step - loss: 7.4695e-04 - val_loss: 9.5509e-05\n",
            "Epoch 99/100\n",
            "13/13 [==============================] - 0s 22ms/step - loss: 8.0925e-04 - val_loss: 4.1067e-05\n",
            "Epoch 100/100\n",
            "13/13 [==============================] - 0s 20ms/step - loss: 6.9843e-04 - val_loss: 7.4747e-05\n"
          ]
        },
        {
          "output_type": "execute_result",
          "data": {
            "text/plain": [
              "<keras.src.callbacks.History at 0x7dc6c1e474f0>"
            ]
          },
          "metadata": {},
          "execution_count": 26
        }
      ],
      "source": [
        "# 9. Fit mô hình với dữ liệu train\n",
        "model.fit(X_train,y_train,validation_data=(X_test,ytest),epochs=100,batch_size=64,verbose=1)"
      ]
    },
    {
      "cell_type": "code",
      "execution_count": 28,
      "metadata": {
        "colab": {
          "base_uri": "https://localhost:8080/"
        },
        "id": "Rxx_KQSkQpBG",
        "outputId": "f3d135d2-e531-433e-f13d-08c4d7faa410"
      },
      "outputs": [
        {
          "output_type": "stream",
          "name": "stdout",
          "text": [
            "25/25 [==============================] - 0s 6ms/step\n",
            "5/5 [==============================] - 0s 6ms/step\n",
            "1/1 [==============================] - 0s 26ms/step\n"
          ]
        }
      ],
      "source": [
        "# 10. Dự báo dữ liệu test, val\n",
        "train_predict=model.predict(X_train)\n",
        "y_pred=model.predict(X_test)\n",
        "y_pred_val=model.predict(X_val)"
      ]
    },
    {
      "cell_type": "code",
      "execution_count": 29,
      "metadata": {
        "id": "5rwTN10LQ7rj"
      },
      "outputs": [],
      "source": [
        "# 11. Chuẩn hóa dữ liệu y_pred, y_pred_val\n",
        "train_predict=scaler.inverse_transform(train_predict)\n",
        "y_pred=scaler.inverse_transform(y_pred)\n",
        "y_pred_val=scaler.inverse_transform(y_pred_val)"
      ]
    },
    {
      "cell_type": "code",
      "execution_count": 30,
      "metadata": {
        "id": "LlzFk8v-LEP3"
      },
      "outputs": [],
      "source": [
        "ytest = scaler.inverse_transform(ytest.reshape(-1,1))\n",
        "yval = scaler.inverse_transform(yval.reshape(-1,1))"
      ]
    },
    {
      "cell_type": "code",
      "execution_count": 31,
      "metadata": {
        "colab": {
          "base_uri": "https://localhost:8080/"
        },
        "id": "wu_9j94kRonD",
        "outputId": "c0763644-9d12-4873-b6eb-cdac2df6c64b"
      },
      "outputs": [
        {
          "output_type": "stream",
          "name": "stdout",
          "text": [
            "Validation RMSE: 0.3152508748331006\n",
            "Testing RMSE: 0.3307814317172038\n"
          ]
        }
      ],
      "source": [
        "# 12. Đánh giá độ chính xác thuật toán bằng RMSE\n",
        "valid_rmse = np.sqrt(np.mean((y_pred_val - yval)**2))\n",
        "test_rmse = np.sqrt(np.mean((y_pred - ytest)**2))\n",
        "print('Validation RMSE:', valid_rmse)\n",
        "print('Testing RMSE:', test_rmse)"
      ]
    },
    {
      "cell_type": "code",
      "execution_count": 32,
      "metadata": {
        "colab": {
          "base_uri": "https://localhost:8080/"
        },
        "id": "KFYTgrQcLEP4",
        "outputId": "cd51dd2d-6f96-4a8c-b5ed-1dd15a80949f"
      },
      "outputs": [
        {
          "output_type": "stream",
          "name": "stdout",
          "text": [
            "Validation MAE: 0.2662130844116211\n",
            "Testing MAE: 0.2797578193997377\n"
          ]
        }
      ],
      "source": [
        "# Đánh giá độ chính xác thuật toán bằng MAE\n",
        "valid_mae = np.mean(abs(y_pred_val - yval))\n",
        "test_mae = np.mean(abs(y_pred - ytest))\n",
        "print('Validation MAE:', valid_mae)\n",
        "print('Testing MAE:', test_mae)"
      ]
    },
    {
      "cell_type": "code",
      "execution_count": 33,
      "metadata": {
        "colab": {
          "base_uri": "https://localhost:8080/"
        },
        "id": "Yu065NrhLEP5",
        "outputId": "3174b6c9-b16d-4814-b816-9fd0224217e6"
      },
      "outputs": [
        {
          "output_type": "stream",
          "name": "stdout",
          "text": [
            "Validation MAPE: 0.04143288930180132\n",
            "Testing MAPE: 0.050850841528764505\n"
          ]
        }
      ],
      "source": [
        "# Đánh giá độ chính xác thuật toán bằng MAPE\n",
        "valid_mape = np.mean(np.abs(y_pred_val - yval)/np.abs(y_pred_val))\n",
        "test_mape = np.mean(np.abs(y_pred - ytest)/np.abs(y_pred))\n",
        "\n",
        "print('Validation MAPE:', valid_mape)\n",
        "print('Testing MAPE:', test_mape)"
      ]
    },
    {
      "cell_type": "code",
      "execution_count": 34,
      "metadata": {
        "colab": {
          "base_uri": "https://localhost:8080/",
          "height": 430
        },
        "id": "t7AfInWyLEP6",
        "outputId": "f9e236a7-1e3e-459d-97bc-8441c32ce6b0"
      },
      "outputs": [
        {
          "output_type": "display_data",
          "data": {
            "text/plain": [
              "<Figure size 640x480 with 1 Axes>"
            ],
            "image/png": "[encoded data removed]"
          },
          "metadata": {}
        }
      ],
      "source": [
        "# 14.Vẽ hình\n",
        "# Train\n",
        "train_data_index = pd.RangeIndex(start=0, stop=train_size, step=1)\n",
        "plt.plot(scaler.inverse_transform(train_data))\n",
        "# Test\n",
        "test_data_index = pd.RangeIndex(start=train_size, stop=train_size+test_size, step=1)\n",
        "plt.plot(test_data_index,scaler.inverse_transform(test_data))\n",
        "# Dự đoán trên tập test\n",
        "test_data_index = pd.RangeIndex(start=train_size+101, stop=train_size+test_size, step=1)\n",
        "plt.plot(test_data_index,(y_pred))\n",
        "# Validate\n",
        "val_data_index = pd.RangeIndex(start=train_size+test_size, stop=train_size+test_size+val_size, step=1)\n",
        "plt.plot(val_data_index,scaler.inverse_transform(val_data))\n",
        "# Dự đoán trên tập validated\n",
        "val_data_index = pd.RangeIndex(start=train_size+test_size+101, stop=train_size+test_size+val_size, step=1)\n",
        "plt.plot(val_data_index,y_pred_val)\n",
        "plt.legend(['Train','Test','Predict','Validate','ValidatePred'])\n",
        "plt.show()"
      ]
    }
  ],
  "metadata": {
    "colab": {
      "provenance": []
    },
    "kernelspec": {
      "display_name": "Python 3.11.0 64-bit",
      "language": "python",
      "name": "python3"
    },
    "language_info": {
      "codemirror_mode": {
        "name": "ipython",
        "version": 3
      },
      "file_extension": ".py",
      "mimetype": "text/x-python",
      "name": "python",
      "nbconvert_exporter": "python",
      "pygments_lexer": "ipython3",
      "version": "3.11.0"
    },
    "vscode": {
      "interpreter": {
        "hash": "228ec1c77332413f421e77c28617d1df6074d6a46921cdaeb15ed9feeb460bfe"
      }
    }
  },
  "nbformat": 4,
  "nbformat_minor": 0
}