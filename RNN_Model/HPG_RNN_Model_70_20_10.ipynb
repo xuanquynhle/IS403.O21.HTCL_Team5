{
  "cells": [
    {
      "cell_type": "code",
      "execution_count": 1,
      "metadata": {
        "id": "FMDKda-XIUAK"
      },
      "outputs": [],
      "source": [
        "# 1. Import thư viện cần thiết\n",
        "import numpy as np\n",
        "import pandas as pd\n",
        "import matplotlib.pyplot as plt\n",
        "from sklearn.preprocessing import MinMaxScaler\n",
        "from keras.models import Sequential\n",
        "from keras.layers import Dense, SimpleRNN"
      ]
    },
    {
      "cell_type": "code",
      "execution_count": 2,
      "metadata": {
        "id": "aRm9GQ8KJJ5N"
      },
      "outputs": [],
      "source": [
        "# 2. Đọc file csv và gắng index với giá Price\n",
        "df = pd.read_csv('HPG Historical Data.csv')\n",
        "df1=df.reset_index()['Price']"
      ]
    },
    {
      "cell_type": "code",
      "execution_count": 3,
      "metadata": {
        "id": "RdVpDho2JgL5"
      },
      "outputs": [],
      "source": [
        "# 3. Scaler data\n",
        "scaler=MinMaxScaler(feature_range=(0,1))\n",
        "df1=scaler.fit_transform(np.array(df1).reshape(-1,1))"
      ]
    },
    {
      "cell_type": "code",
      "execution_count": 4,
      "metadata": {
        "id": "B5JXpenzJoR3"
      },
      "outputs": [],
      "source": [
        "# 4. Chia train test\n",
        "train_size = int(0.7 * len(df1))\n",
        "test_size = int(0.2 * len(df1))\n",
        "val_size = len(df1) - train_size - test_size\n",
        "\n",
        "train_data = df1[:train_size]\n",
        "test_data = df1[train_size:train_size+test_size]\n",
        "val_data = df1[train_size+test_size:]"
      ]
    },
    {
      "cell_type": "code",
      "execution_count": 5,
      "metadata": {
        "id": "yJfmuBORLSfC"
      },
      "outputs": [],
      "source": [
        "# 5. Hàm Create Dataset\n",
        "import numpy\n",
        "# convert an array of values into a dataset matrix\n",
        "def create_dataset(dataset, time_step=1):\n",
        "\tdataX, dataY = [], []\n",
        "\tfor i in range(len(dataset)-time_step-1):\n",
        "\t\ta = dataset[i:(i+time_step), 0]   ###i=0, X=0,1,2,3-----99   Y=100\n",
        "\t\tdataX.append(a)\n",
        "\t\tdataY.append(dataset[i + time_step, 0])\n",
        "\treturn numpy.array(dataX), numpy.array(dataY)"
      ]
    },
    {
      "cell_type": "code",
      "execution_count": 6,
      "metadata": {
        "id": "e81cKq03LXFB"
      },
      "outputs": [],
      "source": [
        "#6. Reshape into X=t,t+1,t+2..t+99 and Y=t+100\n",
        "time_step = 100\n",
        "X_train, y_train = create_dataset(train_data, time_step)\n",
        "X_val, yval = create_dataset(val_data, time_step)\n",
        "X_test, ytest = create_dataset(test_data, time_step)"
      ]
    },
    {
      "cell_type": "code",
      "execution_count": 7,
      "metadata": {
        "id": "RdBVfku7O2qb"
      },
      "outputs": [],
      "source": [
        "# 7. Reshape input to be [samples, time steps, features] which is required for LSTM\n",
        "X_train =X_train.reshape(X_train.shape[0],X_train.shape[1] , 1)\n",
        "X_test = X_test.reshape(X_test.shape[0],X_test.shape[1] , 1)\n",
        "X_val = X_val.reshape(X_val.shape[0],X_val.shape[1] , 1)"
      ]
    },
    {
      "cell_type": "code",
      "execution_count": 8,
      "metadata": {
        "id": "sSfxrE7BO9vX"
      },
      "outputs": [],
      "source": [
        "# 8. Define LSTM Model\n",
        "model = Sequential()\n",
        "model.add(SimpleRNN(50, input_shape=(time_step, 1)))\n",
        "model.add(Dense(1))\n",
        "model.compile(loss='mean_squared_error',optimizer='adam')"
      ]
    },
    {
      "cell_type": "code",
      "execution_count": 9,
      "metadata": {
        "colab": {
          "base_uri": "https://localhost:8080/"
        },
        "id": "zgfeujZSPEKr",
        "outputId": "f2ed5c70-86fe-4967-b353-603895425105"
      },
      "outputs": [
        {
          "name": "stdout",
          "output_type": "stream",
          "text": [
            "Epoch 1/100\n",
            "13/13 [==============================] - 2s 42ms/step - loss: 0.0321 - val_loss: 0.0514\n",
            "Epoch 2/100\n",
            "13/13 [==============================] - 0s 20ms/step - loss: 0.0038 - val_loss: 0.0035\n",
            "Epoch 3/100\n",
            "13/13 [==============================] - 0s 21ms/step - loss: 0.0017 - val_loss: 4.1014e-04\n",
            "Epoch 4/100\n",
            "13/13 [==============================] - 0s 22ms/step - loss: 0.0012 - val_loss: 0.0013\n",
            "Epoch 5/100\n",
            "13/13 [==============================] - 0s 20ms/step - loss: 0.0011 - val_loss: 8.1071e-04\n",
            "Epoch 6/100\n",
            "13/13 [==============================] - 0s 20ms/step - loss: 0.0010 - val_loss: 6.3924e-04\n",
            "Epoch 7/100\n",
            "13/13 [==============================] - 0s 21ms/step - loss: 9.1152e-04 - val_loss: 6.1548e-04\n",
            "Epoch 8/100\n",
            "13/13 [==============================] - 0s 20ms/step - loss: 9.1951e-04 - val_loss: 4.5132e-04\n",
            "Epoch 9/100\n",
            "13/13 [==============================] - 0s 20ms/step - loss: 9.2009e-04 - val_loss: 4.5266e-04\n",
            "Epoch 10/100\n",
            "13/13 [==============================] - 0s 20ms/step - loss: 8.9465e-04 - val_loss: 9.4282e-04\n",
            "Epoch 11/100\n",
            "13/13 [==============================] - 0s 21ms/step - loss: 8.5176e-04 - val_loss: 4.4577e-04\n",
            "Epoch 12/100\n",
            "13/13 [==============================] - 0s 20ms/step - loss: 8.3237e-04 - val_loss: 3.3897e-04\n",
            "Epoch 13/100\n",
            "13/13 [==============================] - 0s 20ms/step - loss: 8.1476e-04 - val_loss: 3.1590e-04\n",
            "Epoch 14/100\n",
            "13/13 [==============================] - 0s 20ms/step - loss: 8.2646e-04 - val_loss: 2.7319e-04\n",
            "Epoch 15/100\n",
            "13/13 [==============================] - 0s 21ms/step - loss: 8.0048e-04 - val_loss: 3.4779e-04\n",
            "Epoch 16/100\n",
            "13/13 [==============================] - 0s 20ms/step - loss: 7.8380e-04 - val_loss: 7.6339e-04\n",
            "Epoch 17/100\n",
            "13/13 [==============================] - 0s 20ms/step - loss: 9.8943e-04 - val_loss: 2.9974e-04\n",
            "Epoch 18/100\n",
            "13/13 [==============================] - 0s 20ms/step - loss: 7.8805e-04 - val_loss: 2.8289e-04\n",
            "Epoch 19/100\n",
            "13/13 [==============================] - 0s 20ms/step - loss: 0.0011 - val_loss: 5.0425e-04\n",
            "Epoch 20/100\n",
            "13/13 [==============================] - 0s 20ms/step - loss: 7.9089e-04 - val_loss: 4.9410e-04\n",
            "Epoch 21/100\n",
            "13/13 [==============================] - 0s 20ms/step - loss: 9.0683e-04 - val_loss: 2.5108e-04\n",
            "Epoch 22/100\n",
            "13/13 [==============================] - 0s 20ms/step - loss: 8.0455e-04 - val_loss: 5.0846e-04\n",
            "Epoch 23/100\n",
            "13/13 [==============================] - 0s 20ms/step - loss: 7.2833e-04 - val_loss: 2.5380e-04\n",
            "Epoch 24/100\n",
            "13/13 [==============================] - 0s 20ms/step - loss: 7.3079e-04 - val_loss: 2.6443e-04\n",
            "Epoch 25/100\n",
            "13/13 [==============================] - 0s 20ms/step - loss: 7.7185e-04 - val_loss: 4.2503e-04\n",
            "Epoch 26/100\n",
            "13/13 [==============================] - 0s 20ms/step - loss: 7.4750e-04 - val_loss: 3.3653e-04\n",
            "Epoch 27/100\n",
            "13/13 [==============================] - 0s 20ms/step - loss: 7.0600e-04 - val_loss: 4.3881e-04\n",
            "Epoch 28/100\n",
            "13/13 [==============================] - 0s 20ms/step - loss: 7.2311e-04 - val_loss: 2.5036e-04\n",
            "Epoch 29/100\n",
            "13/13 [==============================] - 0s 20ms/step - loss: 7.2426e-04 - val_loss: 2.7970e-04\n",
            "Epoch 30/100\n",
            "13/13 [==============================] - 0s 21ms/step - loss: 6.9793e-04 - val_loss: 3.4922e-04\n",
            "Epoch 31/100\n",
            "13/13 [==============================] - 0s 20ms/step - loss: 7.5361e-04 - val_loss: 1.8672e-04\n",
            "Epoch 32/100\n",
            "13/13 [==============================] - 0s 20ms/step - loss: 6.7948e-04 - val_loss: 4.0959e-04\n",
            "Epoch 33/100\n",
            "13/13 [==============================] - 0s 20ms/step - loss: 7.1638e-04 - val_loss: 2.8441e-04\n",
            "Epoch 34/100\n",
            "13/13 [==============================] - 0s 21ms/step - loss: 6.7894e-04 - val_loss: 2.8843e-04\n",
            "Epoch 35/100\n",
            "13/13 [==============================] - 0s 20ms/step - loss: 6.3031e-04 - val_loss: 9.5360e-04\n",
            "Epoch 36/100\n",
            "13/13 [==============================] - 0s 20ms/step - loss: 7.7577e-04 - val_loss: 2.5165e-04\n",
            "Epoch 37/100\n",
            "13/13 [==============================] - 1s 42ms/step - loss: 7.0621e-04 - val_loss: 2.0515e-04\n",
            "Epoch 38/100\n",
            "13/13 [==============================] - 1s 43ms/step - loss: 6.6322e-04 - val_loss: 6.0020e-04\n",
            "Epoch 39/100\n",
            "13/13 [==============================] - 0s 35ms/step - loss: 6.4661e-04 - val_loss: 2.1366e-04\n",
            "Epoch 40/100\n",
            "13/13 [==============================] - 1s 40ms/step - loss: 6.1493e-04 - val_loss: 5.0576e-04\n",
            "Epoch 41/100\n",
            "13/13 [==============================] - 0s 39ms/step - loss: 6.1648e-04 - val_loss: 1.4057e-04\n",
            "Epoch 42/100\n",
            "13/13 [==============================] - 1s 38ms/step - loss: 6.1862e-04 - val_loss: 3.1205e-04\n",
            "Epoch 43/100\n",
            "13/13 [==============================] - 0s 20ms/step - loss: 6.2425e-04 - val_loss: 2.0587e-04\n",
            "Epoch 44/100\n",
            "13/13 [==============================] - 0s 22ms/step - loss: 6.0300e-04 - val_loss: 1.4063e-04\n",
            "Epoch 45/100\n",
            "13/13 [==============================] - 0s 21ms/step - loss: 5.8773e-04 - val_loss: 1.8562e-04\n",
            "Epoch 46/100\n",
            "13/13 [==============================] - 0s 20ms/step - loss: 6.3429e-04 - val_loss: 2.0593e-04\n",
            "Epoch 47/100\n",
            "13/13 [==============================] - 0s 20ms/step - loss: 7.2299e-04 - val_loss: 2.9594e-04\n",
            "Epoch 48/100\n",
            "13/13 [==============================] - 0s 21ms/step - loss: 6.2730e-04 - val_loss: 1.2615e-04\n",
            "Epoch 49/100\n",
            "13/13 [==============================] - 0s 20ms/step - loss: 7.6345e-04 - val_loss: 1.8350e-04\n",
            "Epoch 50/100\n",
            "13/13 [==============================] - 0s 20ms/step - loss: 7.8447e-04 - val_loss: 4.8569e-04\n",
            "Epoch 51/100\n",
            "13/13 [==============================] - 0s 20ms/step - loss: 5.9244e-04 - val_loss: 2.5787e-04\n",
            "Epoch 52/100\n",
            "13/13 [==============================] - 0s 22ms/step - loss: 6.0125e-04 - val_loss: 1.9792e-04\n",
            "Epoch 53/100\n",
            "13/13 [==============================] - 0s 20ms/step - loss: 5.5055e-04 - val_loss: 1.3613e-04\n",
            "Epoch 54/100\n",
            "13/13 [==============================] - 0s 20ms/step - loss: 5.5956e-04 - val_loss: 2.0088e-04\n",
            "Epoch 55/100\n",
            "13/13 [==============================] - 0s 20ms/step - loss: 5.5970e-04 - val_loss: 1.7188e-04\n",
            "Epoch 56/100\n",
            "13/13 [==============================] - 0s 21ms/step - loss: 5.5370e-04 - val_loss: 1.0590e-04\n",
            "Epoch 57/100\n",
            "13/13 [==============================] - 0s 21ms/step - loss: 5.3263e-04 - val_loss: 9.8006e-05\n",
            "Epoch 58/100\n",
            "13/13 [==============================] - 0s 20ms/step - loss: 5.3935e-04 - val_loss: 1.8125e-04\n",
            "Epoch 59/100\n",
            "13/13 [==============================] - 0s 20ms/step - loss: 5.2914e-04 - val_loss: 1.1000e-04\n",
            "Epoch 60/100\n",
            "13/13 [==============================] - 0s 20ms/step - loss: 5.5499e-04 - val_loss: 2.8910e-04\n",
            "Epoch 61/100\n",
            "13/13 [==============================] - 0s 19ms/step - loss: 5.4894e-04 - val_loss: 1.4496e-04\n",
            "Epoch 62/100\n",
            "13/13 [==============================] - 0s 20ms/step - loss: 5.1713e-04 - val_loss: 1.4286e-04\n",
            "Epoch 63/100\n",
            "13/13 [==============================] - 0s 22ms/step - loss: 7.4544e-04 - val_loss: 1.3261e-04\n",
            "Epoch 64/100\n",
            "13/13 [==============================] - 0s 20ms/step - loss: 6.1954e-04 - val_loss: 4.8596e-04\n",
            "Epoch 65/100\n",
            "13/13 [==============================] - 0s 20ms/step - loss: 5.7820e-04 - val_loss: 7.0128e-04\n",
            "Epoch 66/100\n",
            "13/13 [==============================] - 0s 20ms/step - loss: 7.8394e-04 - val_loss: 5.6668e-04\n",
            "Epoch 67/100\n",
            "13/13 [==============================] - 0s 21ms/step - loss: 5.9316e-04 - val_loss: 1.9300e-04\n",
            "Epoch 68/100\n",
            "13/13 [==============================] - 0s 21ms/step - loss: 5.1267e-04 - val_loss: 1.8188e-04\n",
            "Epoch 69/100\n",
            "13/13 [==============================] - 0s 20ms/step - loss: 5.2171e-04 - val_loss: 1.5291e-04\n",
            "Epoch 70/100\n",
            "13/13 [==============================] - 0s 20ms/step - loss: 5.1381e-04 - val_loss: 3.3052e-04\n",
            "Epoch 71/100\n",
            "13/13 [==============================] - 0s 21ms/step - loss: 6.3116e-04 - val_loss: 2.0386e-04\n",
            "Epoch 72/100\n",
            "13/13 [==============================] - 0s 20ms/step - loss: 5.4215e-04 - val_loss: 1.4549e-04\n",
            "Epoch 73/100\n",
            "13/13 [==============================] - 0s 21ms/step - loss: 5.2304e-04 - val_loss: 1.5153e-04\n",
            "Epoch 74/100\n",
            "13/13 [==============================] - 0s 20ms/step - loss: 5.1047e-04 - val_loss: 9.4095e-05\n",
            "Epoch 75/100\n",
            "13/13 [==============================] - 0s 21ms/step - loss: 4.8129e-04 - val_loss: 8.9761e-05\n",
            "Epoch 76/100\n",
            "13/13 [==============================] - 0s 20ms/step - loss: 4.7624e-04 - val_loss: 1.9946e-04\n",
            "Epoch 77/100\n",
            "13/13 [==============================] - 0s 20ms/step - loss: 4.9371e-04 - val_loss: 8.9244e-05\n",
            "Epoch 78/100\n",
            "13/13 [==============================] - 0s 20ms/step - loss: 5.2791e-04 - val_loss: 1.1153e-04\n",
            "Epoch 79/100\n",
            "13/13 [==============================] - 0s 21ms/step - loss: 5.3422e-04 - val_loss: 9.2412e-05\n",
            "Epoch 80/100\n",
            "13/13 [==============================] - 0s 36ms/step - loss: 4.9796e-04 - val_loss: 1.0533e-04\n",
            "Epoch 81/100\n",
            "13/13 [==============================] - 0s 37ms/step - loss: 4.5970e-04 - val_loss: 8.8732e-05\n",
            "Epoch 82/100\n",
            "13/13 [==============================] - 0s 36ms/step - loss: 4.5366e-04 - val_loss: 8.9450e-05\n",
            "Epoch 83/100\n",
            "13/13 [==============================] - 0s 35ms/step - loss: 4.5955e-04 - val_loss: 1.0779e-04\n",
            "Epoch 84/100\n",
            "13/13 [==============================] - 0s 35ms/step - loss: 4.6142e-04 - val_loss: 1.2984e-04\n",
            "Epoch 85/100\n",
            "13/13 [==============================] - 1s 40ms/step - loss: 4.7586e-04 - val_loss: 8.3109e-05\n",
            "Epoch 86/100\n",
            "13/13 [==============================] - 0s 38ms/step - loss: 4.7937e-04 - val_loss: 9.6061e-05\n",
            "Epoch 87/100\n",
            "13/13 [==============================] - 0s 33ms/step - loss: 4.4622e-04 - val_loss: 1.5289e-04\n",
            "Epoch 88/100\n",
            "13/13 [==============================] - 0s 21ms/step - loss: 4.5888e-04 - val_loss: 9.5899e-05\n",
            "Epoch 89/100\n",
            "13/13 [==============================] - 0s 20ms/step - loss: 4.4441e-04 - val_loss: 1.2155e-04\n",
            "Epoch 90/100\n",
            "13/13 [==============================] - 0s 22ms/step - loss: 4.8070e-04 - val_loss: 1.1467e-04\n",
            "Epoch 91/100\n",
            "13/13 [==============================] - 0s 20ms/step - loss: 5.0931e-04 - val_loss: 1.2838e-04\n",
            "Epoch 92/100\n",
            "13/13 [==============================] - 0s 21ms/step - loss: 5.6882e-04 - val_loss: 2.3636e-04\n",
            "Epoch 93/100\n",
            "13/13 [==============================] - 0s 20ms/step - loss: 5.6366e-04 - val_loss: 3.2446e-04\n",
            "Epoch 94/100\n",
            "13/13 [==============================] - 0s 20ms/step - loss: 4.6009e-04 - val_loss: 1.0375e-04\n",
            "Epoch 95/100\n",
            "13/13 [==============================] - 0s 20ms/step - loss: 4.3870e-04 - val_loss: 1.3368e-04\n",
            "Epoch 96/100\n",
            "13/13 [==============================] - 0s 21ms/step - loss: 4.3591e-04 - val_loss: 2.3733e-04\n",
            "Epoch 97/100\n",
            "13/13 [==============================] - 0s 20ms/step - loss: 4.6747e-04 - val_loss: 1.2865e-04\n",
            "Epoch 98/100\n",
            "13/13 [==============================] - 0s 20ms/step - loss: 5.6770e-04 - val_loss: 9.5692e-05\n",
            "Epoch 99/100\n",
            "13/13 [==============================] - 0s 20ms/step - loss: 5.0624e-04 - val_loss: 3.3024e-04\n",
            "Epoch 100/100\n",
            "13/13 [==============================] - 0s 21ms/step - loss: 4.5476e-04 - val_loss: 1.1096e-04\n"
          ]
        },
        {
          "data": {
            "text/plain": [
              "<keras.src.callbacks.History at 0x7dc6c0597fd0>"
            ]
          },
          "execution_count": 9,
          "metadata": {},
          "output_type": "execute_result"
        }
      ],
      "source": [
        "# 9. Fit mô hình với dữ liệu train\n",
        "model.fit(X_train,y_train,validation_data=(X_test,ytest),epochs=100,batch_size=64,verbose=1)"
      ]
    },
    {
      "cell_type": "code",
      "execution_count": 10,
      "metadata": {
        "colab": {
          "base_uri": "https://localhost:8080/"
        },
        "id": "Rxx_KQSkQpBG",
        "outputId": "2d34d6bc-1df1-460d-b998-14a3685500da"
      },
      "outputs": [
        {
          "name": "stdout",
          "output_type": "stream",
          "text": [
            "25/25 [==============================] - 0s 6ms/step\n",
            "5/5 [==============================] - 0s 10ms/step\n",
            "1/1 [==============================] - 0s 42ms/step\n"
          ]
        }
      ],
      "source": [
        "# 10. Dự báo dữ liệu test, val\n",
        "train_predict=model.predict(X_train)\n",
        "y_pred=model.predict(X_test)\n",
        "y_pred_val=model.predict(X_val)"
      ]
    },
    {
      "cell_type": "code",
      "execution_count": 11,
      "metadata": {
        "id": "5rwTN10LQ7rj"
      },
      "outputs": [],
      "source": [
        "# 11. Chuẩn hóa dữ liệu y_pred, y_pred_val\n",
        "train_predict=scaler.inverse_transform(train_predict)\n",
        "y_pred=scaler.inverse_transform(y_pred)\n",
        "y_pred_val=scaler.inverse_transform(y_pred_val)"
      ]
    },
    {
      "cell_type": "code",
      "execution_count": 12,
      "metadata": {
        "id": "LlzFk8v-LEP3"
      },
      "outputs": [],
      "source": [
        "ytest = scaler.inverse_transform(ytest.reshape(-1,1))\n",
        "yval = scaler.inverse_transform(yval.reshape(-1,1))"
      ]
    },
    {
      "cell_type": "code",
      "execution_count": 13,
      "metadata": {
        "colab": {
          "base_uri": "https://localhost:8080/"
        },
        "id": "wu_9j94kRonD",
        "outputId": "61a54b20-748d-4241-c6f3-b01e856e240c"
      },
      "outputs": [
        {
          "name": "stdout",
          "output_type": "stream",
          "text": [
            "Validation RMSE: 0.3598833211105651\n",
            "Testing RMSE: 0.38431354715221183\n"
          ]
        }
      ],
      "source": [
        "# 12. Đánh giá độ chính xác thuật toán bằng RMSE\n",
        "valid_rmse = np.sqrt(np.mean((y_pred_val - yval)**2))\n",
        "test_rmse = np.sqrt(np.mean((y_pred - ytest)**2))\n",
        "print('Validation RMSE:', valid_rmse)\n",
        "print('Testing RMSE:', test_rmse)"
      ]
    },
    {
      "cell_type": "code",
      "execution_count": 14,
      "metadata": {
        "colab": {
          "base_uri": "https://localhost:8080/"
        },
        "id": "KFYTgrQcLEP4",
        "outputId": "802b524b-1923-453c-8334-7512343814bf"
      },
      "outputs": [
        {
          "name": "stdout",
          "output_type": "stream",
          "text": [
            "Validation MAE: 0.31874016510009745\n",
            "Testing MAE: 0.29651184765604527\n"
          ]
        }
      ],
      "source": [
        "# Đánh giá độ chính xác thuật toán bằng MAE\n",
        "valid_mae = np.mean(abs(y_pred_val - yval))\n",
        "test_mae = np.mean(abs(y_pred - ytest))\n",
        "print('Validation MAE:', valid_mae)\n",
        "print('Testing MAE:', test_mae)"
      ]
    },
    {
      "cell_type": "code",
      "execution_count": 15,
      "metadata": {
        "colab": {
          "base_uri": "https://localhost:8080/"
        },
        "id": "Yu065NrhLEP5",
        "outputId": "2a65e41f-ed57-4306-be8f-3d335bf8c9ef"
      },
      "outputs": [
        {
          "name": "stdout",
          "output_type": "stream",
          "text": [
            "Validation MAPE: 0.02680535449814525\n",
            "Testing MAPE: 0.029528789054301348\n"
          ]
        }
      ],
      "source": [
        "# Đánh giá độ chính xác thuật toán bằng MAPE\n",
        "valid_mape = np.mean(np.abs(y_pred_val - yval)/np.abs(y_pred_val))\n",
        "test_mape = np.mean(np.abs(y_pred - ytest)/np.abs(y_pred))\n",
        "\n",
        "print('Validation MAPE:', valid_mape)\n",
        "print('Testing MAPE:', test_mape)"
      ]
    },
    {
      "cell_type": "code",
      "execution_count": 16,
      "metadata": {
        "colab": {
          "base_uri": "https://localhost:8080/",
          "height": 430
        },
        "id": "t7AfInWyLEP6",
        "outputId": "f2ebbb90-172d-4c80-8e88-f21400421741"
      },
      "outputs": [
        {
          "data": {
            "image/png": "[encoded data removed]",
            "text/plain": [
              "<Figure size 640x480 with 1 Axes>"
            ]
          },
          "metadata": {},
          "output_type": "display_data"
        }
      ],
      "source": [
        "# 14.Vẽ hình\n",
        "# Train\n",
        "train_data_index = pd.RangeIndex(start=0, stop=train_size, step=1)\n",
        "plt.plot(scaler.inverse_transform(train_data))\n",
        "# Test\n",
        "test_data_index = pd.RangeIndex(start=train_size, stop=train_size+test_size, step=1)\n",
        "plt.plot(test_data_index,scaler.inverse_transform(test_data))\n",
        "# Dự đoán trên tập test\n",
        "test_data_index = pd.RangeIndex(start=train_size+101, stop=train_size+test_size, step=1)\n",
        "plt.plot(test_data_index,(y_pred))\n",
        "# Validate\n",
        "val_data_index = pd.RangeIndex(start=train_size+test_size, stop=train_size+test_size+val_size, step=1)\n",
        "plt.plot(val_data_index,scaler.inverse_transform(val_data))\n",
        "# Dự đoán trên tập validated\n",
        "val_data_index = pd.RangeIndex(start=train_size+test_size+101, stop=train_size+test_size+val_size, step=1)\n",
        "plt.plot(val_data_index,y_pred_val)\n",
        "plt.legend(['Train','Test','Predict','Validate','ValidatePred'])\n",
        "plt.show()"
      ]
    }
  ],
  "metadata": {
    "colab": {
      "provenance": []
    },
    "kernelspec": {
      "display_name": "Python 3.11.0 64-bit",
      "language": "python",
      "name": "python3"
    },
    "language_info": {
      "codemirror_mode": {
        "name": "ipython",
        "version": 3
      },
      "file_extension": ".py",
      "mimetype": "text/x-python",
      "name": "python",
      "nbconvert_exporter": "python",
      "pygments_lexer": "ipython3",
      "version": "3.12.3"
    },
    "vscode": {
      "interpreter": {
        "hash": "228ec1c77332413f421e77c28617d1df6074d6a46921cdaeb15ed9feeb460bfe"
      }
    }
  },
  "nbformat": 4,
  "nbformat_minor": 0
}
