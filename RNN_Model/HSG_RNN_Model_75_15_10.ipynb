{
  "cells": [
    {
      "cell_type": "code",
      "execution_count": 17,
      "metadata": {
        "id": "FMDKda-XIUAK"
      },
      "outputs": [],
      "source": [
        "# 1. Import thư viện cần thiết\n",
        "import numpy as np\n",
        "import pandas as pd\n",
        "import matplotlib.pyplot as plt\n",
        "from sklearn.preprocessing import MinMaxScaler\n",
        "from keras.models import Sequential\n",
        "from keras.layers import Dense, SimpleRNN"
      ]
    },
    {
      "cell_type": "code",
      "execution_count": 18,
      "metadata": {
        "id": "aRm9GQ8KJJ5N"
      },
      "outputs": [],
      "source": [
        "# 2. Đọc file csv và gắng index với giá Price\n",
        "df = pd.read_csv('HSG Historical Data.csv')\n",
        "df1=df.reset_index()['Price']"
      ]
    },
    {
      "cell_type": "code",
      "execution_count": 19,
      "metadata": {
        "id": "RdVpDho2JgL5"
      },
      "outputs": [],
      "source": [
        "# 3. Scaler data\n",
        "scaler=MinMaxScaler(feature_range=(0,1))\n",
        "df1=scaler.fit_transform(np.array(df1).reshape(-1,1))"
      ]
    },
    {
      "cell_type": "code",
      "execution_count": 20,
      "metadata": {
        "id": "B5JXpenzJoR3"
      },
      "outputs": [],
      "source": [
        "# 4. Chia train test\n",
        "train_size = int(0.75 * len(df1))\n",
        "test_size = int(0.15 * len(df1))\n",
        "val_size = len(df1) - train_size - test_size\n",
        "\n",
        "train_data = df1[:train_size]\n",
        "test_data = df1[train_size:train_size+test_size]\n",
        "val_data = df1[train_size+test_size:]"
      ]
    },
    {
      "cell_type": "code",
      "execution_count": 21,
      "metadata": {
        "id": "yJfmuBORLSfC"
      },
      "outputs": [],
      "source": [
        "# 5. Hàm Create Dataset\n",
        "import numpy\n",
        "# convert an array of values into a dataset matrix\n",
        "def create_dataset(dataset, time_step=1):\n",
        "\tdataX, dataY = [], []\n",
        "\tfor i in range(len(dataset)-time_step-1):\n",
        "\t\ta = dataset[i:(i+time_step), 0]   ###i=0, X=0,1,2,3-----99   Y=100\n",
        "\t\tdataX.append(a)\n",
        "\t\tdataY.append(dataset[i + time_step, 0])\n",
        "\treturn numpy.array(dataX), numpy.array(dataY)"
      ]
    },
    {
      "cell_type": "code",
      "execution_count": 22,
      "metadata": {
        "id": "e81cKq03LXFB"
      },
      "outputs": [],
      "source": [
        "#6. Reshape into X=t,t+1,t+2..t+99 and Y=t+100\n",
        "time_step = 100\n",
        "X_train, y_train = create_dataset(train_data, time_step)\n",
        "X_val, yval = create_dataset(val_data, time_step)\n",
        "X_test, ytest = create_dataset(test_data, time_step)"
      ]
    },
    {
      "cell_type": "code",
      "execution_count": 23,
      "metadata": {
        "id": "RdBVfku7O2qb"
      },
      "outputs": [],
      "source": [
        "# 7. Reshape input to be [samples, time steps, features] which is required for LSTM\n",
        "X_train =X_train.reshape(X_train.shape[0],X_train.shape[1] , 1)\n",
        "X_test = X_test.reshape(X_test.shape[0],X_test.shape[1] , 1)\n",
        "X_val = X_val.reshape(X_val.shape[0],X_val.shape[1] , 1)"
      ]
    },
    {
      "cell_type": "code",
      "execution_count": 24,
      "metadata": {
        "id": "sSfxrE7BO9vX"
      },
      "outputs": [],
      "source": [
        "# 8. Define LSTM Model\n",
        "model = Sequential()\n",
        "model.add(SimpleRNN(50, input_shape=(time_step, 1)))\n",
        "model.add(Dense(1))\n",
        "model.compile(loss='mean_squared_error',optimizer='adam')"
      ]
    },
    {
      "cell_type": "code",
      "execution_count": 25,
      "metadata": {
        "colab": {
          "base_uri": "https://localhost:8080/"
        },
        "id": "zgfeujZSPEKr",
        "outputId": "cc6d5e83-7bdc-4647-9fe9-b593f709ee46"
      },
      "outputs": [
        {
          "output_type": "stream",
          "name": "stdout",
          "text": [
            "Epoch 1/100\n",
            "14/14 [==============================] - 2s 42ms/step - loss: 0.1041 - val_loss: 0.0043\n",
            "Epoch 2/100\n",
            "14/14 [==============================] - 0s 21ms/step - loss: 0.0052 - val_loss: 0.0018\n",
            "Epoch 3/100\n",
            "14/14 [==============================] - 0s 19ms/step - loss: 0.0027 - val_loss: 0.0060\n",
            "Epoch 4/100\n",
            "14/14 [==============================] - 0s 20ms/step - loss: 0.0020 - val_loss: 0.0047\n",
            "Epoch 5/100\n",
            "14/14 [==============================] - 0s 23ms/step - loss: 0.0019 - val_loss: 0.0025\n",
            "Epoch 6/100\n",
            "14/14 [==============================] - 0s 23ms/step - loss: 0.0017 - val_loss: 0.0023\n",
            "Epoch 7/100\n",
            "14/14 [==============================] - 0s 23ms/step - loss: 0.0015 - val_loss: 0.0013\n",
            "Epoch 8/100\n",
            "14/14 [==============================] - 0s 25ms/step - loss: 0.0014 - val_loss: 9.4225e-04\n",
            "Epoch 9/100\n",
            "14/14 [==============================] - 0s 20ms/step - loss: 0.0013 - val_loss: 8.8345e-04\n",
            "Epoch 10/100\n",
            "14/14 [==============================] - 0s 20ms/step - loss: 0.0013 - val_loss: 6.9832e-04\n",
            "Epoch 11/100\n",
            "14/14 [==============================] - 0s 21ms/step - loss: 0.0012 - val_loss: 9.9883e-04\n",
            "Epoch 12/100\n",
            "14/14 [==============================] - 0s 24ms/step - loss: 0.0011 - val_loss: 0.0011\n",
            "Epoch 13/100\n",
            "14/14 [==============================] - 0s 23ms/step - loss: 0.0011 - val_loss: 0.0013\n",
            "Epoch 14/100\n",
            "14/14 [==============================] - 0s 23ms/step - loss: 0.0010 - val_loss: 8.1010e-04\n",
            "Epoch 15/100\n",
            "14/14 [==============================] - 0s 24ms/step - loss: 9.5981e-04 - val_loss: 9.4695e-04\n",
            "Epoch 16/100\n",
            "14/14 [==============================] - 0s 22ms/step - loss: 9.2696e-04 - val_loss: 7.2189e-04\n",
            "Epoch 17/100\n",
            "14/14 [==============================] - 0s 24ms/step - loss: 8.9055e-04 - val_loss: 3.5808e-04\n",
            "Epoch 18/100\n",
            "14/14 [==============================] - 1s 42ms/step - loss: 8.8661e-04 - val_loss: 3.6398e-04\n",
            "Epoch 19/100\n",
            "14/14 [==============================] - 1s 44ms/step - loss: 8.5125e-04 - val_loss: 2.2393e-04\n",
            "Epoch 20/100\n",
            "14/14 [==============================] - 1s 42ms/step - loss: 8.9838e-04 - val_loss: 7.3316e-04\n",
            "Epoch 21/100\n",
            "14/14 [==============================] - 1s 43ms/step - loss: 8.4738e-04 - val_loss: 2.2130e-04\n",
            "Epoch 22/100\n",
            "14/14 [==============================] - 1s 43ms/step - loss: 8.3609e-04 - val_loss: 4.6067e-04\n",
            "Epoch 23/100\n",
            "14/14 [==============================] - 1s 43ms/step - loss: 7.9699e-04 - val_loss: 1.9951e-04\n",
            "Epoch 24/100\n",
            "14/14 [==============================] - 1s 37ms/step - loss: 8.6069e-04 - val_loss: 4.0875e-04\n",
            "Epoch 25/100\n",
            "14/14 [==============================] - 0s 21ms/step - loss: 7.8354e-04 - val_loss: 1.7525e-04\n",
            "Epoch 26/100\n",
            "14/14 [==============================] - 0s 20ms/step - loss: 7.6638e-04 - val_loss: 2.8269e-04\n",
            "Epoch 27/100\n",
            "14/14 [==============================] - 0s 23ms/step - loss: 7.8742e-04 - val_loss: 1.8806e-04\n",
            "Epoch 28/100\n",
            "14/14 [==============================] - 0s 20ms/step - loss: 7.6990e-04 - val_loss: 1.7030e-04\n",
            "Epoch 29/100\n",
            "14/14 [==============================] - 0s 21ms/step - loss: 7.3757e-04 - val_loss: 2.4957e-04\n",
            "Epoch 30/100\n",
            "14/14 [==============================] - 0s 20ms/step - loss: 8.8895e-04 - val_loss: 1.3241e-04\n",
            "Epoch 31/100\n",
            "14/14 [==============================] - 0s 20ms/step - loss: 7.9098e-04 - val_loss: 1.9169e-04\n",
            "Epoch 32/100\n",
            "14/14 [==============================] - 0s 20ms/step - loss: 7.4043e-04 - val_loss: 1.1753e-04\n",
            "Epoch 33/100\n",
            "14/14 [==============================] - 0s 20ms/step - loss: 7.1522e-04 - val_loss: 1.1468e-04\n",
            "Epoch 34/100\n",
            "14/14 [==============================] - 0s 19ms/step - loss: 7.2774e-04 - val_loss: 1.9786e-04\n",
            "Epoch 35/100\n",
            "14/14 [==============================] - 0s 19ms/step - loss: 8.2540e-04 - val_loss: 9.8092e-05\n",
            "Epoch 36/100\n",
            "14/14 [==============================] - 0s 22ms/step - loss: 7.4751e-04 - val_loss: 1.0725e-04\n",
            "Epoch 37/100\n",
            "14/14 [==============================] - 0s 20ms/step - loss: 8.2817e-04 - val_loss: 4.1290e-04\n",
            "Epoch 38/100\n",
            "14/14 [==============================] - 0s 19ms/step - loss: 9.4619e-04 - val_loss: 1.2257e-04\n",
            "Epoch 39/100\n",
            "14/14 [==============================] - 0s 19ms/step - loss: 8.2160e-04 - val_loss: 9.4161e-05\n",
            "Epoch 40/100\n",
            "14/14 [==============================] - 0s 21ms/step - loss: 7.4690e-04 - val_loss: 1.6057e-04\n",
            "Epoch 41/100\n",
            "14/14 [==============================] - 0s 20ms/step - loss: 6.9082e-04 - val_loss: 9.1398e-05\n",
            "Epoch 42/100\n",
            "14/14 [==============================] - 0s 20ms/step - loss: 7.1757e-04 - val_loss: 1.6819e-04\n",
            "Epoch 43/100\n",
            "14/14 [==============================] - 0s 22ms/step - loss: 7.0034e-04 - val_loss: 3.0188e-04\n",
            "Epoch 44/100\n",
            "14/14 [==============================] - 0s 20ms/step - loss: 8.3105e-04 - val_loss: 9.2528e-05\n",
            "Epoch 45/100\n",
            "14/14 [==============================] - 0s 20ms/step - loss: 7.5590e-04 - val_loss: 8.4833e-05\n",
            "Epoch 46/100\n",
            "14/14 [==============================] - 0s 20ms/step - loss: 7.5101e-04 - val_loss: 1.5645e-04\n",
            "Epoch 47/100\n",
            "14/14 [==============================] - 0s 21ms/step - loss: 7.2117e-04 - val_loss: 2.1647e-04\n",
            "Epoch 48/100\n",
            "14/14 [==============================] - 0s 20ms/step - loss: 7.2571e-04 - val_loss: 9.3044e-05\n",
            "Epoch 49/100\n",
            "14/14 [==============================] - 0s 20ms/step - loss: 7.1372e-04 - val_loss: 8.6901e-05\n",
            "Epoch 50/100\n",
            "14/14 [==============================] - 0s 21ms/step - loss: 6.5011e-04 - val_loss: 9.8846e-05\n",
            "Epoch 51/100\n",
            "14/14 [==============================] - 0s 20ms/step - loss: 6.3983e-04 - val_loss: 2.0764e-04\n",
            "Epoch 52/100\n",
            "14/14 [==============================] - 0s 20ms/step - loss: 6.5164e-04 - val_loss: 1.2702e-04\n",
            "Epoch 53/100\n",
            "14/14 [==============================] - 0s 20ms/step - loss: 6.7246e-04 - val_loss: 1.6194e-04\n",
            "Epoch 54/100\n",
            "14/14 [==============================] - 0s 22ms/step - loss: 6.4782e-04 - val_loss: 9.5191e-05\n",
            "Epoch 55/100\n",
            "14/14 [==============================] - 0s 20ms/step - loss: 7.0818e-04 - val_loss: 8.1357e-05\n",
            "Epoch 56/100\n",
            "14/14 [==============================] - 0s 20ms/step - loss: 7.0069e-04 - val_loss: 9.0218e-05\n",
            "Epoch 57/100\n",
            "14/14 [==============================] - 0s 21ms/step - loss: 7.9346e-04 - val_loss: 8.5067e-05\n",
            "Epoch 58/100\n",
            "14/14 [==============================] - 0s 20ms/step - loss: 6.4016e-04 - val_loss: 1.3697e-04\n",
            "Epoch 59/100\n",
            "14/14 [==============================] - 1s 38ms/step - loss: 6.2405e-04 - val_loss: 7.1858e-05\n",
            "Epoch 60/100\n",
            "14/14 [==============================] - 1s 46ms/step - loss: 6.0122e-04 - val_loss: 6.3439e-05\n",
            "Epoch 61/100\n",
            "14/14 [==============================] - 1s 37ms/step - loss: 6.1061e-04 - val_loss: 1.2270e-04\n",
            "Epoch 62/100\n",
            "14/14 [==============================] - 1s 37ms/step - loss: 6.3562e-04 - val_loss: 8.0188e-05\n",
            "Epoch 63/100\n",
            "14/14 [==============================] - 1s 40ms/step - loss: 6.3854e-04 - val_loss: 5.7324e-05\n",
            "Epoch 64/100\n",
            "14/14 [==============================] - 1s 48ms/step - loss: 7.3673e-04 - val_loss: 9.0110e-05\n",
            "Epoch 65/100\n",
            "14/14 [==============================] - 1s 41ms/step - loss: 6.5104e-04 - val_loss: 8.4046e-05\n",
            "Epoch 66/100\n",
            "14/14 [==============================] - 0s 22ms/step - loss: 6.2700e-04 - val_loss: 1.2980e-04\n",
            "Epoch 67/100\n",
            "14/14 [==============================] - 0s 22ms/step - loss: 6.6898e-04 - val_loss: 5.5712e-05\n",
            "Epoch 68/100\n",
            "14/14 [==============================] - 0s 24ms/step - loss: 6.4593e-04 - val_loss: 5.0352e-05\n",
            "Epoch 69/100\n",
            "14/14 [==============================] - 0s 22ms/step - loss: 5.9067e-04 - val_loss: 5.4525e-05\n",
            "Epoch 70/100\n",
            "14/14 [==============================] - 0s 23ms/step - loss: 6.4254e-04 - val_loss: 1.9195e-04\n",
            "Epoch 71/100\n",
            "14/14 [==============================] - 0s 24ms/step - loss: 6.4612e-04 - val_loss: 1.8462e-04\n",
            "Epoch 72/100\n",
            "14/14 [==============================] - 0s 23ms/step - loss: 6.4115e-04 - val_loss: 7.1613e-05\n",
            "Epoch 73/100\n",
            "14/14 [==============================] - 0s 23ms/step - loss: 6.0308e-04 - val_loss: 6.5250e-05\n",
            "Epoch 74/100\n",
            "14/14 [==============================] - 0s 23ms/step - loss: 6.1103e-04 - val_loss: 1.2360e-04\n",
            "Epoch 75/100\n",
            "14/14 [==============================] - 0s 22ms/step - loss: 5.8796e-04 - val_loss: 1.7900e-04\n",
            "Epoch 76/100\n",
            "14/14 [==============================] - 0s 23ms/step - loss: 6.9397e-04 - val_loss: 1.1000e-04\n",
            "Epoch 77/100\n",
            "14/14 [==============================] - 0s 22ms/step - loss: 7.0145e-04 - val_loss: 6.3054e-05\n",
            "Epoch 78/100\n",
            "14/14 [==============================] - 0s 23ms/step - loss: 6.1728e-04 - val_loss: 8.2532e-05\n",
            "Epoch 79/100\n",
            "14/14 [==============================] - 0s 22ms/step - loss: 5.9991e-04 - val_loss: 6.8471e-05\n",
            "Epoch 80/100\n",
            "14/14 [==============================] - 0s 24ms/step - loss: 5.6197e-04 - val_loss: 8.9574e-05\n",
            "Epoch 81/100\n",
            "14/14 [==============================] - 0s 23ms/step - loss: 5.6718e-04 - val_loss: 8.5569e-05\n",
            "Epoch 82/100\n",
            "14/14 [==============================] - 0s 23ms/step - loss: 6.1606e-04 - val_loss: 7.9375e-05\n",
            "Epoch 83/100\n",
            "14/14 [==============================] - 0s 23ms/step - loss: 5.6501e-04 - val_loss: 1.0794e-04\n",
            "Epoch 84/100\n",
            "14/14 [==============================] - 0s 24ms/step - loss: 5.4907e-04 - val_loss: 5.7848e-05\n",
            "Epoch 85/100\n",
            "14/14 [==============================] - 0s 23ms/step - loss: 5.5983e-04 - val_loss: 2.3216e-04\n",
            "Epoch 86/100\n",
            "14/14 [==============================] - 0s 20ms/step - loss: 6.2857e-04 - val_loss: 5.6166e-05\n",
            "Epoch 87/100\n",
            "14/14 [==============================] - 0s 21ms/step - loss: 5.5310e-04 - val_loss: 1.1590e-04\n",
            "Epoch 88/100\n",
            "14/14 [==============================] - 0s 20ms/step - loss: 5.5639e-04 - val_loss: 9.5846e-05\n",
            "Epoch 89/100\n",
            "14/14 [==============================] - 0s 22ms/step - loss: 5.8011e-04 - val_loss: 5.9798e-05\n",
            "Epoch 90/100\n",
            "14/14 [==============================] - 0s 24ms/step - loss: 5.6636e-04 - val_loss: 6.4214e-05\n",
            "Epoch 91/100\n",
            "14/14 [==============================] - 0s 25ms/step - loss: 5.5846e-04 - val_loss: 1.4757e-04\n",
            "Epoch 92/100\n",
            "14/14 [==============================] - 0s 24ms/step - loss: 6.7328e-04 - val_loss: 5.5468e-05\n",
            "Epoch 93/100\n",
            "14/14 [==============================] - 0s 23ms/step - loss: 5.4769e-04 - val_loss: 6.4712e-05\n",
            "Epoch 94/100\n",
            "14/14 [==============================] - 0s 22ms/step - loss: 5.9986e-04 - val_loss: 9.5966e-05\n",
            "Epoch 95/100\n",
            "14/14 [==============================] - 0s 23ms/step - loss: 6.1573e-04 - val_loss: 5.9926e-05\n",
            "Epoch 96/100\n",
            "14/14 [==============================] - 0s 36ms/step - loss: 6.4514e-04 - val_loss: 6.1777e-05\n",
            "Epoch 97/100\n",
            "14/14 [==============================] - 1s 37ms/step - loss: 5.2749e-04 - val_loss: 1.1388e-04\n",
            "Epoch 98/100\n",
            "14/14 [==============================] - 1s 39ms/step - loss: 5.6994e-04 - val_loss: 7.3797e-05\n",
            "Epoch 99/100\n",
            "14/14 [==============================] - 1s 42ms/step - loss: 5.6924e-04 - val_loss: 7.4708e-05\n",
            "Epoch 100/100\n",
            "14/14 [==============================] - 1s 50ms/step - loss: 5.6755e-04 - val_loss: 7.3042e-05\n"
          ]
        },
        {
          "output_type": "execute_result",
          "data": {
            "text/plain": [
              "<keras.src.callbacks.History at 0x7fe19aa8d1b0>"
            ]
          },
          "metadata": {},
          "execution_count": 25
        }
      ],
      "source": [
        "# 9. Fit mô hình với dữ liệu train\n",
        "model.fit(X_train,y_train,validation_data=(X_test,ytest),epochs=100,batch_size=64,verbose=1)"
      ]
    },
    {
      "cell_type": "code",
      "execution_count": 26,
      "metadata": {
        "colab": {
          "base_uri": "https://localhost:8080/"
        },
        "id": "Rxx_KQSkQpBG",
        "outputId": "f2c096e2-62ad-4282-df21-6c63b88e27c3"
      },
      "outputs": [
        {
          "output_type": "stream",
          "name": "stdout",
          "text": [
            "27/27 [==============================] - 0s 6ms/step\n",
            "3/3 [==============================] - 0s 10ms/step\n",
            "1/1 [==============================] - 0s 25ms/step\n"
          ]
        }
      ],
      "source": [
        "# 10. Dự báo dữ liệu test, val\n",
        "train_predict=model.predict(X_train)\n",
        "y_pred=model.predict(X_test)\n",
        "y_pred_val=model.predict(X_val)"
      ]
    },
    {
      "cell_type": "code",
      "execution_count": 27,
      "metadata": {
        "id": "5rwTN10LQ7rj"
      },
      "outputs": [],
      "source": [
        "# 11. Chuẩn hóa dữ liệu y_pred, y_pred_val\n",
        "train_predict=scaler.inverse_transform(train_predict)\n",
        "y_pred=scaler.inverse_transform(y_pred)\n",
        "y_pred_val=scaler.inverse_transform(y_pred_val)"
      ]
    },
    {
      "cell_type": "code",
      "execution_count": 28,
      "metadata": {
        "id": "8u12aHBXNPjR"
      },
      "outputs": [],
      "source": [
        "ytest = scaler.inverse_transform(ytest.reshape(-1,1))\n",
        "yval = scaler.inverse_transform(yval.reshape(-1,1))"
      ]
    },
    {
      "cell_type": "code",
      "execution_count": 29,
      "metadata": {
        "colab": {
          "base_uri": "https://localhost:8080/"
        },
        "id": "wu_9j94kRonD",
        "outputId": "2c131484-5d0b-4bf8-fd25-5b3e02e028be"
      },
      "outputs": [
        {
          "output_type": "stream",
          "name": "stdout",
          "text": [
            "Validation RMSE: 0.21975825746342637\n",
            "Testing RMSE: 0.326986621509114\n"
          ]
        }
      ],
      "source": [
        "# 12. Đánh giá độ chính xác thuật toán bằng RMSE\n",
        "valid_rmse = np.sqrt(np.mean((y_pred_val - yval)**2))\n",
        "test_rmse = np.sqrt(np.mean((y_pred - ytest)**2))\n",
        "print('Validation RMSE:', valid_rmse)\n",
        "print('Testing RMSE:', test_rmse)"
      ]
    },
    {
      "cell_type": "code",
      "execution_count": 30,
      "metadata": {
        "colab": {
          "base_uri": "https://localhost:8080/"
        },
        "id": "AFQd1oObNPjR",
        "outputId": "d2798885-c773-43fa-8b42-70816903d936"
      },
      "outputs": [
        {
          "output_type": "stream",
          "name": "stdout",
          "text": [
            "Validation MAE: 0.1917845909118653\n",
            "Testing MAE: 0.26453848217808934\n"
          ]
        }
      ],
      "source": [
        "# Đánh giá độ chính xác thuật toán bằng MAE\n",
        "valid_mae = np.mean(abs(y_pred_val - yval))\n",
        "test_mae = np.mean(abs(y_pred - ytest))\n",
        "print('Validation MAE:', valid_mae)\n",
        "print('Testing MAE:', test_mae)"
      ]
    },
    {
      "cell_type": "code",
      "execution_count": 31,
      "metadata": {
        "colab": {
          "base_uri": "https://localhost:8080/"
        },
        "id": "IkDc4ydLNPjS",
        "outputId": "4ac8a60a-da85-4e53-c582-80f277aa1df6"
      },
      "outputs": [
        {
          "output_type": "stream",
          "name": "stdout",
          "text": [
            "Validation MAPE: 0.03178153220390454\n",
            "Testing MAPE: 0.050101856611617514\n"
          ]
        }
      ],
      "source": [
        "# Đánh giá độ chính xác thuật toán bằng MAPE\n",
        "valid_mape = np.mean(np.abs(y_pred_val - yval)/np.abs(y_pred_val))\n",
        "test_mape = np.mean(np.abs(y_pred - ytest)/np.abs(y_pred))\n",
        "\n",
        "print('Validation MAPE:', valid_mape)\n",
        "print('Testing MAPE:', test_mape)"
      ]
    },
    {
      "cell_type": "code",
      "execution_count": 32,
      "metadata": {
        "colab": {
          "base_uri": "https://localhost:8080/",
          "height": 430
        },
        "id": "BeF_-RuoNPjS",
        "outputId": "ad1ba2c5-0b90-44a7-d06b-09d760721f0b"
      },
      "outputs": [
        {
          "output_type": "display_data",
          "data": {
            "text/plain": [
              "<Figure size 640x480 with 1 Axes>"
            ],
            "image/png": "[encoded data removed]"
          },
          "metadata": {}
        }
      ],
      "source": [
        "# 14.Vẽ hình\n",
        "# Train\n",
        "train_data_index = pd.RangeIndex(start=0, stop=train_size, step=1)\n",
        "plt.plot(scaler.inverse_transform(train_data))\n",
        "# Test\n",
        "test_data_index = pd.RangeIndex(start=train_size, stop=train_size+test_size, step=1)\n",
        "plt.plot(test_data_index,scaler.inverse_transform(test_data))\n",
        "# Dự đoán trên tập test\n",
        "test_data_index = pd.RangeIndex(start=train_size+101, stop=train_size+test_size, step=1)\n",
        "plt.plot(test_data_index,(y_pred))\n",
        "# Validate\n",
        "val_data_index = pd.RangeIndex(start=train_size+test_size, stop=train_size+test_size+val_size, step=1)\n",
        "plt.plot(val_data_index,scaler.inverse_transform(val_data))\n",
        "# Dự đoán trên tập validated\n",
        "val_data_index = pd.RangeIndex(start=train_size+test_size+101, stop=train_size+test_size+val_size, step=1)\n",
        "plt.plot(val_data_index,y_pred_val)\n",
        "plt.legend(['Train','Test','Predict','Validate','ValidatePred'])\n",
        "plt.show()"
      ]
    }
  ],
  "metadata": {
    "colab": {
      "provenance": []
    },
    "kernelspec": {
      "display_name": "Python 3.11.0 64-bit",
      "language": "python",
      "name": "python3"
    },
    "language_info": {
      "codemirror_mode": {
        "name": "ipython",
        "version": 3
      },
      "file_extension": ".py",
      "mimetype": "text/x-python",
      "name": "python",
      "nbconvert_exporter": "python",
      "pygments_lexer": "ipython3",
      "version": "3.11.0"
    },
    "vscode": {
      "interpreter": {
        "hash": "228ec1c77332413f421e77c28617d1df6074d6a46921cdaeb15ed9feeb460bfe"
      }
    }
  },
  "nbformat": 4,
  "nbformat_minor": 0
}