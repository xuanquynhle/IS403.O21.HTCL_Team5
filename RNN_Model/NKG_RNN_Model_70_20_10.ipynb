{
  "cells": [
    {
      "cell_type": "code",
      "execution_count": 35,
      "metadata": {
        "id": "FMDKda-XIUAK"
      },
      "outputs": [],
      "source": [
        "# 1. Import thư viện cần thiết\n",
        "import numpy as np\n",
        "import pandas as pd\n",
        "import matplotlib.pyplot as plt\n",
        "from sklearn.preprocessing import MinMaxScaler\n",
        "from keras.models import Sequential\n",
        "from keras.layers import Dense, SimpleRNN"
      ]
    },
    {
      "cell_type": "code",
      "execution_count": 36,
      "metadata": {
        "id": "aRm9GQ8KJJ5N"
      },
      "outputs": [],
      "source": [
        "# 2. Đọc file csv và gắng index với giá Price\n",
        "df = pd.read_csv('NKG Historical Data.csv')\n",
        "df1=df.reset_index()['Price']"
      ]
    },
    {
      "cell_type": "code",
      "execution_count": 37,
      "metadata": {
        "id": "RdVpDho2JgL5"
      },
      "outputs": [],
      "source": [
        "# 3. Scaler data\n",
        "scaler=MinMaxScaler(feature_range=(0,1))\n",
        "df1=scaler.fit_transform(np.array(df1).reshape(-1,1))"
      ]
    },
    {
      "cell_type": "code",
      "execution_count": 38,
      "metadata": {
        "id": "B5JXpenzJoR3"
      },
      "outputs": [],
      "source": [
        "# 4. Chia train test\n",
        "train_size = int(0.7 * len(df1))\n",
        "test_size = int(0.2 * len(df1))\n",
        "val_size = len(df1) - train_size - test_size\n",
        "\n",
        "train_data = df1[:train_size]\n",
        "test_data = df1[train_size:train_size+test_size]\n",
        "val_data = df1[train_size+test_size:]"
      ]
    },
    {
      "cell_type": "code",
      "execution_count": 39,
      "metadata": {
        "id": "yJfmuBORLSfC"
      },
      "outputs": [],
      "source": [
        "# 5. Hàm Create Dataset\n",
        "import numpy\n",
        "# convert an array of values into a dataset matrix\n",
        "def create_dataset(dataset, time_step=1):\n",
        "\tdataX, dataY = [], []\n",
        "\tfor i in range(len(dataset)-time_step-1):\n",
        "\t\ta = dataset[i:(i+time_step), 0]   ###i=0, X=0,1,2,3-----99   Y=100\n",
        "\t\tdataX.append(a)\n",
        "\t\tdataY.append(dataset[i + time_step, 0])\n",
        "\treturn numpy.array(dataX), numpy.array(dataY)"
      ]
    },
    {
      "cell_type": "code",
      "execution_count": 40,
      "metadata": {
        "id": "e81cKq03LXFB"
      },
      "outputs": [],
      "source": [
        "#6. Reshape into X=t,t+1,t+2..t+99 and Y=t+100\n",
        "time_step = 100\n",
        "X_train, y_train = create_dataset(train_data, time_step)\n",
        "X_val, yval = create_dataset(val_data, time_step)\n",
        "X_test, ytest = create_dataset(test_data, time_step)"
      ]
    },
    {
      "cell_type": "code",
      "execution_count": 41,
      "metadata": {
        "id": "RdBVfku7O2qb"
      },
      "outputs": [],
      "source": [
        "# 7. Reshape input to be [samples, time steps, features] which is required for LSTM\n",
        "X_train =X_train.reshape(X_train.shape[0],X_train.shape[1] , 1)\n",
        "X_test = X_test.reshape(X_test.shape[0],X_test.shape[1] , 1)\n",
        "X_val = X_val.reshape(X_val.shape[0],X_val.shape[1] , 1)"
      ]
    },
    {
      "cell_type": "code",
      "execution_count": 42,
      "metadata": {
        "id": "sSfxrE7BO9vX"
      },
      "outputs": [],
      "source": [
        "# 8. Define LSTM Model\n",
        "model = Sequential()\n",
        "model.add(SimpleRNN(50, input_shape=(time_step, 1)))\n",
        "model.add(Dense(1))\n",
        "model.compile(loss='mean_squared_error',optimizer='adam')"
      ]
    },
    {
      "cell_type": "code",
      "execution_count": 43,
      "metadata": {
        "colab": {
          "base_uri": "https://localhost:8080/"
        },
        "id": "zgfeujZSPEKr",
        "outputId": "81f62f65-82b1-482a-b560-ef84be251611"
      },
      "outputs": [
        {
          "output_type": "stream",
          "name": "stdout",
          "text": [
            "Epoch 1/100\n",
            "13/13 [==============================] - 2s 40ms/step - loss: 0.0545 - val_loss: 0.0066\n",
            "Epoch 2/100\n",
            "13/13 [==============================] - 0s 22ms/step - loss: 0.0082 - val_loss: 0.0015\n",
            "Epoch 3/100\n",
            "13/13 [==============================] - 0s 20ms/step - loss: 0.0032 - val_loss: 8.3816e-04\n",
            "Epoch 4/100\n",
            "13/13 [==============================] - 0s 21ms/step - loss: 0.0021 - val_loss: 7.1353e-04\n",
            "Epoch 5/100\n",
            "13/13 [==============================] - 0s 20ms/step - loss: 0.0017 - val_loss: 0.0014\n",
            "Epoch 6/100\n",
            "13/13 [==============================] - 0s 21ms/step - loss: 0.0016 - val_loss: 8.2314e-04\n",
            "Epoch 7/100\n",
            "13/13 [==============================] - 0s 20ms/step - loss: 0.0016 - val_loss: 5.4753e-04\n",
            "Epoch 8/100\n",
            "13/13 [==============================] - 0s 20ms/step - loss: 0.0014 - val_loss: 3.6272e-04\n",
            "Epoch 9/100\n",
            "13/13 [==============================] - 0s 20ms/step - loss: 0.0014 - val_loss: 4.2913e-04\n",
            "Epoch 10/100\n",
            "13/13 [==============================] - 0s 21ms/step - loss: 0.0013 - val_loss: 5.2478e-04\n",
            "Epoch 11/100\n",
            "13/13 [==============================] - 0s 20ms/step - loss: 0.0013 - val_loss: 5.1558e-04\n",
            "Epoch 12/100\n",
            "13/13 [==============================] - 0s 20ms/step - loss: 0.0012 - val_loss: 5.6305e-04\n",
            "Epoch 13/100\n",
            "13/13 [==============================] - 0s 20ms/step - loss: 0.0012 - val_loss: 3.5286e-04\n",
            "Epoch 14/100\n",
            "13/13 [==============================] - 0s 21ms/step - loss: 0.0011 - val_loss: 3.2762e-04\n",
            "Epoch 15/100\n",
            "13/13 [==============================] - 0s 19ms/step - loss: 0.0011 - val_loss: 3.9159e-04\n",
            "Epoch 16/100\n",
            "13/13 [==============================] - 0s 20ms/step - loss: 0.0011 - val_loss: 2.9885e-04\n",
            "Epoch 17/100\n",
            "13/13 [==============================] - 0s 20ms/step - loss: 0.0010 - val_loss: 2.3043e-04\n",
            "Epoch 18/100\n",
            "13/13 [==============================] - 0s 21ms/step - loss: 0.0010 - val_loss: 2.2801e-04\n",
            "Epoch 19/100\n",
            "13/13 [==============================] - 0s 19ms/step - loss: 9.6508e-04 - val_loss: 1.9637e-04\n",
            "Epoch 20/100\n",
            "13/13 [==============================] - 0s 23ms/step - loss: 9.9386e-04 - val_loss: 2.8849e-04\n",
            "Epoch 21/100\n",
            "13/13 [==============================] - 0s 38ms/step - loss: 9.0614e-04 - val_loss: 2.8995e-04\n",
            "Epoch 22/100\n",
            "13/13 [==============================] - 0s 37ms/step - loss: 8.9093e-04 - val_loss: 2.8717e-04\n",
            "Epoch 23/100\n",
            "13/13 [==============================] - 0s 34ms/step - loss: 9.2446e-04 - val_loss: 3.9486e-04\n",
            "Epoch 24/100\n",
            "13/13 [==============================] - 0s 39ms/step - loss: 9.4738e-04 - val_loss: 8.0023e-04\n",
            "Epoch 25/100\n",
            "13/13 [==============================] - 1s 39ms/step - loss: 9.0077e-04 - val_loss: 6.9562e-04\n",
            "Epoch 26/100\n",
            "13/13 [==============================] - 0s 39ms/step - loss: 8.6271e-04 - val_loss: 5.2508e-04\n",
            "Epoch 27/100\n",
            "13/13 [==============================] - 0s 38ms/step - loss: 8.0334e-04 - val_loss: 5.6446e-04\n",
            "Epoch 28/100\n",
            "13/13 [==============================] - 0s 24ms/step - loss: 8.2356e-04 - val_loss: 5.8592e-04\n",
            "Epoch 29/100\n",
            "13/13 [==============================] - 0s 20ms/step - loss: 7.6541e-04 - val_loss: 5.6638e-04\n",
            "Epoch 30/100\n",
            "13/13 [==============================] - 0s 20ms/step - loss: 7.4333e-04 - val_loss: 3.8765e-04\n",
            "Epoch 31/100\n",
            "13/13 [==============================] - 0s 21ms/step - loss: 8.0386e-04 - val_loss: 6.0374e-04\n",
            "Epoch 32/100\n",
            "13/13 [==============================] - 0s 19ms/step - loss: 7.2161e-04 - val_loss: 4.0624e-04\n",
            "Epoch 33/100\n",
            "13/13 [==============================] - 0s 21ms/step - loss: 7.1652e-04 - val_loss: 2.9246e-04\n",
            "Epoch 34/100\n",
            "13/13 [==============================] - 0s 20ms/step - loss: 7.8891e-04 - val_loss: 5.6412e-04\n",
            "Epoch 35/100\n",
            "13/13 [==============================] - 0s 21ms/step - loss: 6.6741e-04 - val_loss: 5.8157e-04\n",
            "Epoch 36/100\n",
            "13/13 [==============================] - 0s 20ms/step - loss: 7.0561e-04 - val_loss: 6.1281e-04\n",
            "Epoch 37/100\n",
            "13/13 [==============================] - 0s 21ms/step - loss: 7.1617e-04 - val_loss: 3.4311e-04\n",
            "Epoch 38/100\n",
            "13/13 [==============================] - 0s 20ms/step - loss: 6.2142e-04 - val_loss: 3.8923e-04\n",
            "Epoch 39/100\n",
            "13/13 [==============================] - 0s 21ms/step - loss: 6.2367e-04 - val_loss: 2.4533e-04\n",
            "Epoch 40/100\n",
            "13/13 [==============================] - 0s 19ms/step - loss: 5.9280e-04 - val_loss: 2.7453e-04\n",
            "Epoch 41/100\n",
            "13/13 [==============================] - 0s 22ms/step - loss: 6.6256e-04 - val_loss: 2.7547e-04\n",
            "Epoch 42/100\n",
            "13/13 [==============================] - 0s 20ms/step - loss: 5.9486e-04 - val_loss: 3.0888e-04\n",
            "Epoch 43/100\n",
            "13/13 [==============================] - 0s 20ms/step - loss: 5.8071e-04 - val_loss: 4.6752e-04\n",
            "Epoch 44/100\n",
            "13/13 [==============================] - 0s 20ms/step - loss: 6.3300e-04 - val_loss: 2.3597e-04\n",
            "Epoch 45/100\n",
            "13/13 [==============================] - 0s 19ms/step - loss: 5.8995e-04 - val_loss: 1.9618e-04\n",
            "Epoch 46/100\n",
            "13/13 [==============================] - 0s 20ms/step - loss: 5.7171e-04 - val_loss: 1.9315e-04\n",
            "Epoch 47/100\n",
            "13/13 [==============================] - 0s 20ms/step - loss: 5.7934e-04 - val_loss: 1.7183e-04\n",
            "Epoch 48/100\n",
            "13/13 [==============================] - 0s 20ms/step - loss: 5.6527e-04 - val_loss: 3.3434e-04\n",
            "Epoch 49/100\n",
            "13/13 [==============================] - 0s 20ms/step - loss: 7.1643e-04 - val_loss: 7.4181e-04\n",
            "Epoch 50/100\n",
            "13/13 [==============================] - 0s 22ms/step - loss: 6.1776e-04 - val_loss: 5.6187e-04\n",
            "Epoch 51/100\n",
            "13/13 [==============================] - 0s 19ms/step - loss: 6.0055e-04 - val_loss: 2.4787e-04\n",
            "Epoch 52/100\n",
            "13/13 [==============================] - 0s 22ms/step - loss: 6.3916e-04 - val_loss: 2.4303e-04\n",
            "Epoch 53/100\n",
            "13/13 [==============================] - 0s 21ms/step - loss: 5.6330e-04 - val_loss: 4.5602e-04\n",
            "Epoch 54/100\n",
            "13/13 [==============================] - 0s 22ms/step - loss: 6.3021e-04 - val_loss: 6.9409e-04\n",
            "Epoch 55/100\n",
            "13/13 [==============================] - 0s 20ms/step - loss: 5.5635e-04 - val_loss: 4.2994e-04\n",
            "Epoch 56/100\n",
            "13/13 [==============================] - 0s 20ms/step - loss: 5.1073e-04 - val_loss: 1.8041e-04\n",
            "Epoch 57/100\n",
            "13/13 [==============================] - 0s 19ms/step - loss: 5.0200e-04 - val_loss: 1.7010e-04\n",
            "Epoch 58/100\n",
            "13/13 [==============================] - 0s 20ms/step - loss: 5.3347e-04 - val_loss: 1.0517e-04\n",
            "Epoch 59/100\n",
            "13/13 [==============================] - 0s 20ms/step - loss: 5.1209e-04 - val_loss: 1.0819e-04\n",
            "Epoch 60/100\n",
            "13/13 [==============================] - 0s 20ms/step - loss: 4.9958e-04 - val_loss: 9.8359e-05\n",
            "Epoch 61/100\n",
            "13/13 [==============================] - 0s 20ms/step - loss: 5.0087e-04 - val_loss: 1.7876e-04\n",
            "Epoch 62/100\n",
            "13/13 [==============================] - 0s 21ms/step - loss: 5.0027e-04 - val_loss: 1.6803e-04\n",
            "Epoch 63/100\n",
            "13/13 [==============================] - 0s 19ms/step - loss: 4.9903e-04 - val_loss: 1.4386e-04\n",
            "Epoch 64/100\n",
            "13/13 [==============================] - 0s 20ms/step - loss: 5.7071e-04 - val_loss: 1.5745e-04\n",
            "Epoch 65/100\n",
            "13/13 [==============================] - 0s 24ms/step - loss: 5.2926e-04 - val_loss: 3.3801e-04\n",
            "Epoch 66/100\n",
            "13/13 [==============================] - 0s 36ms/step - loss: 5.1679e-04 - val_loss: 3.1439e-04\n",
            "Epoch 67/100\n",
            "13/13 [==============================] - 0s 38ms/step - loss: 4.7887e-04 - val_loss: 3.8565e-04\n",
            "Epoch 68/100\n",
            "13/13 [==============================] - 0s 34ms/step - loss: 6.7819e-04 - val_loss: 6.0592e-04\n",
            "Epoch 69/100\n",
            "13/13 [==============================] - 0s 38ms/step - loss: 6.7113e-04 - val_loss: 0.0010\n",
            "Epoch 70/100\n",
            "13/13 [==============================] - 0s 37ms/step - loss: 4.9629e-04 - val_loss: 4.5327e-04\n",
            "Epoch 71/100\n",
            "13/13 [==============================] - 1s 41ms/step - loss: 4.6951e-04 - val_loss: 2.0441e-04\n",
            "Epoch 72/100\n",
            "13/13 [==============================] - 0s 27ms/step - loss: 4.6834e-04 - val_loss: 1.5159e-04\n",
            "Epoch 73/100\n",
            "13/13 [==============================] - 0s 20ms/step - loss: 4.6128e-04 - val_loss: 1.2488e-04\n",
            "Epoch 74/100\n",
            "13/13 [==============================] - 0s 20ms/step - loss: 4.8389e-04 - val_loss: 1.0671e-04\n",
            "Epoch 75/100\n",
            "13/13 [==============================] - 0s 19ms/step - loss: 4.5914e-04 - val_loss: 1.4060e-04\n",
            "Epoch 76/100\n",
            "13/13 [==============================] - 0s 21ms/step - loss: 4.7518e-04 - val_loss: 1.2502e-04\n",
            "Epoch 77/100\n",
            "13/13 [==============================] - 0s 19ms/step - loss: 4.4756e-04 - val_loss: 1.7580e-04\n",
            "Epoch 78/100\n",
            "13/13 [==============================] - 0s 20ms/step - loss: 4.9634e-04 - val_loss: 2.9827e-04\n",
            "Epoch 79/100\n",
            "13/13 [==============================] - 0s 20ms/step - loss: 4.6083e-04 - val_loss: 3.2095e-04\n",
            "Epoch 80/100\n",
            "13/13 [==============================] - 0s 22ms/step - loss: 4.7865e-04 - val_loss: 3.0987e-04\n",
            "Epoch 81/100\n",
            "13/13 [==============================] - 0s 22ms/step - loss: 4.4929e-04 - val_loss: 1.5664e-04\n",
            "Epoch 82/100\n",
            "13/13 [==============================] - 0s 20ms/step - loss: 4.5047e-04 - val_loss: 2.5019e-04\n",
            "Epoch 83/100\n",
            "13/13 [==============================] - 0s 20ms/step - loss: 4.8310e-04 - val_loss: 3.0006e-04\n",
            "Epoch 84/100\n",
            "13/13 [==============================] - 0s 21ms/step - loss: 4.8034e-04 - val_loss: 3.2711e-04\n",
            "Epoch 85/100\n",
            "13/13 [==============================] - 0s 20ms/step - loss: 5.3718e-04 - val_loss: 3.7455e-04\n",
            "Epoch 86/100\n",
            "13/13 [==============================] - 0s 20ms/step - loss: 5.6243e-04 - val_loss: 7.4397e-04\n",
            "Epoch 87/100\n",
            "13/13 [==============================] - 0s 20ms/step - loss: 4.8140e-04 - val_loss: 4.2093e-04\n",
            "Epoch 88/100\n",
            "13/13 [==============================] - 0s 21ms/step - loss: 4.8074e-04 - val_loss: 2.2888e-04\n",
            "Epoch 89/100\n",
            "13/13 [==============================] - 0s 20ms/step - loss: 5.0278e-04 - val_loss: 5.7929e-04\n",
            "Epoch 90/100\n",
            "13/13 [==============================] - 0s 19ms/step - loss: 5.0685e-04 - val_loss: 4.9063e-04\n",
            "Epoch 91/100\n",
            "13/13 [==============================] - 0s 21ms/step - loss: 4.3366e-04 - val_loss: 1.5575e-04\n",
            "Epoch 92/100\n",
            "13/13 [==============================] - 0s 20ms/step - loss: 4.6006e-04 - val_loss: 1.2244e-04\n",
            "Epoch 93/100\n",
            "13/13 [==============================] - 0s 20ms/step - loss: 4.2009e-04 - val_loss: 8.3124e-05\n",
            "Epoch 94/100\n",
            "13/13 [==============================] - 0s 20ms/step - loss: 4.2317e-04 - val_loss: 9.1274e-05\n",
            "Epoch 95/100\n",
            "13/13 [==============================] - 0s 21ms/step - loss: 4.4295e-04 - val_loss: 8.8961e-05\n",
            "Epoch 96/100\n",
            "13/13 [==============================] - 0s 20ms/step - loss: 4.6938e-04 - val_loss: 1.9304e-04\n",
            "Epoch 97/100\n",
            "13/13 [==============================] - 0s 20ms/step - loss: 4.2812e-04 - val_loss: 2.0395e-04\n",
            "Epoch 98/100\n",
            "13/13 [==============================] - 0s 20ms/step - loss: 4.7719e-04 - val_loss: 3.7868e-04\n",
            "Epoch 99/100\n",
            "13/13 [==============================] - 0s 21ms/step - loss: 4.5257e-04 - val_loss: 1.7245e-04\n",
            "Epoch 100/100\n",
            "13/13 [==============================] - 0s 20ms/step - loss: 4.7108e-04 - val_loss: 2.2822e-04\n"
          ]
        },
        {
          "output_type": "execute_result",
          "data": {
            "text/plain": [
              "<keras.src.callbacks.History at 0x7dc6b8c5f460>"
            ]
          },
          "metadata": {},
          "execution_count": 43
        }
      ],
      "source": [
        "# 9. Fit mô hình với dữ liệu train\n",
        "model.fit(X_train,y_train,validation_data=(X_test,ytest),epochs=100,batch_size=64,verbose=1)"
      ]
    },
    {
      "cell_type": "code",
      "execution_count": 44,
      "metadata": {
        "colab": {
          "base_uri": "https://localhost:8080/"
        },
        "id": "Rxx_KQSkQpBG",
        "outputId": "f0a911cc-bff6-47b8-b765-cd21b35e4766"
      },
      "outputs": [
        {
          "output_type": "stream",
          "name": "stdout",
          "text": [
            "25/25 [==============================] - 0s 6ms/step\n",
            "5/5 [==============================] - 0s 6ms/step\n",
            "1/1 [==============================] - 0s 25ms/step\n"
          ]
        }
      ],
      "source": [
        "# 10. Dự báo dữ liệu test, val\n",
        "train_predict=model.predict(X_train)\n",
        "y_pred=model.predict(X_test)\n",
        "y_pred_val=model.predict(X_val)"
      ]
    },
    {
      "cell_type": "code",
      "execution_count": 45,
      "metadata": {
        "id": "5rwTN10LQ7rj"
      },
      "outputs": [],
      "source": [
        "# 11. Chuẩn hóa dữ liệu y_pred, y_pred_val\n",
        "train_predict=scaler.inverse_transform(train_predict)\n",
        "y_pred=scaler.inverse_transform(y_pred)\n",
        "y_pred_val=scaler.inverse_transform(y_pred_val)"
      ]
    },
    {
      "cell_type": "code",
      "execution_count": 46,
      "metadata": {
        "id": "LlzFk8v-LEP3"
      },
      "outputs": [],
      "source": [
        "ytest = scaler.inverse_transform(ytest.reshape(-1,1))\n",
        "yval = scaler.inverse_transform(yval.reshape(-1,1))"
      ]
    },
    {
      "cell_type": "code",
      "execution_count": 47,
      "metadata": {
        "colab": {
          "base_uri": "https://localhost:8080/"
        },
        "id": "wu_9j94kRonD",
        "outputId": "f6e36138-6839-47dc-b3d7-fba89d298de5"
      },
      "outputs": [
        {
          "output_type": "stream",
          "name": "stdout",
          "text": [
            "Validation RMSE: 0.6052914467087088\n",
            "Testing RMSE: 0.6357027135132189\n"
          ]
        }
      ],
      "source": [
        "# 12. Đánh giá độ chính xác thuật toán bằng RMSE\n",
        "valid_rmse = np.sqrt(np.mean((y_pred_val - yval)**2))\n",
        "test_rmse = np.sqrt(np.mean((y_pred - ytest)**2))\n",
        "print('Validation RMSE:', valid_rmse)\n",
        "print('Testing RMSE:', test_rmse)"
      ]
    },
    {
      "cell_type": "code",
      "execution_count": 48,
      "metadata": {
        "colab": {
          "base_uri": "https://localhost:8080/"
        },
        "id": "KFYTgrQcLEP4",
        "outputId": "0038d4e9-98f0-409c-bcb0-3c61a25c01e9"
      },
      "outputs": [
        {
          "output_type": "stream",
          "name": "stdout",
          "text": [
            "Validation MAE: 0.5937940811157227\n",
            "Testing MAE: 0.5016829500902419\n"
          ]
        }
      ],
      "source": [
        "# Đánh giá độ chính xác thuật toán bằng MAE\n",
        "valid_mae = np.mean(abs(y_pred_val - yval))\n",
        "test_mae = np.mean(abs(y_pred - ytest))\n",
        "print('Validation MAE:', valid_mae)\n",
        "print('Testing MAE:', test_mae)"
      ]
    },
    {
      "cell_type": "code",
      "execution_count": 49,
      "metadata": {
        "colab": {
          "base_uri": "https://localhost:8080/"
        },
        "id": "Yu065NrhLEP5",
        "outputId": "3eda3465-dff6-444a-b7a0-40ee528f152a"
      },
      "outputs": [
        {
          "output_type": "stream",
          "name": "stdout",
          "text": [
            "Validation MAPE: 0.10867319476568574\n",
            "Testing MAPE: 0.09490298331935139\n"
          ]
        }
      ],
      "source": [
        "# Đánh giá độ chính xác thuật toán bằng MAPE\n",
        "valid_mape = np.mean(np.abs(y_pred_val - yval)/np.abs(y_pred_val))\n",
        "test_mape = np.mean(np.abs(y_pred - ytest)/np.abs(y_pred))\n",
        "\n",
        "print('Validation MAPE:', valid_mape)\n",
        "print('Testing MAPE:', test_mape)"
      ]
    },
    {
      "cell_type": "code",
      "execution_count": 50,
      "metadata": {
        "colab": {
          "base_uri": "https://localhost:8080/",
          "height": 430
        },
        "id": "t7AfInWyLEP6",
        "outputId": "c9d186cc-df99-46a1-b35b-b8847a0128c4"
      },
      "outputs": [
        {
          "output_type": "display_data",
          "data": {
            "text/plain": [
              "<Figure size 640x480 with 1 Axes>"
            ],
            "image/png": "[encoded data removed]"
          },
          "metadata": {}
        }
      ],
      "source": [
        "# 14.Vẽ hình\n",
        "# Train\n",
        "train_data_index = pd.RangeIndex(start=0, stop=train_size, step=1)\n",
        "plt.plot(scaler.inverse_transform(train_data))\n",
        "# Test\n",
        "test_data_index = pd.RangeIndex(start=train_size, stop=train_size+test_size, step=1)\n",
        "plt.plot(test_data_index,scaler.inverse_transform(test_data))\n",
        "# Dự đoán trên tập test\n",
        "test_data_index = pd.RangeIndex(start=train_size+101, stop=train_size+test_size, step=1)\n",
        "plt.plot(test_data_index,(y_pred))\n",
        "# Validate\n",
        "val_data_index = pd.RangeIndex(start=train_size+test_size, stop=train_size+test_size+val_size, step=1)\n",
        "plt.plot(val_data_index,scaler.inverse_transform(val_data))\n",
        "# Dự đoán trên tập validated\n",
        "val_data_index = pd.RangeIndex(start=train_size+test_size+101, stop=train_size+test_size+val_size, step=1)\n",
        "plt.plot(val_data_index,y_pred_val)\n",
        "plt.legend(['Train','Test','Predict','Validate','ValidatePred'])\n",
        "plt.show()"
      ]
    }
  ],
  "metadata": {
    "colab": {
      "provenance": []
    },
    "kernelspec": {
      "display_name": "Python 3.11.0 64-bit",
      "language": "python",
      "name": "python3"
    },
    "language_info": {
      "codemirror_mode": {
        "name": "ipython",
        "version": 3
      },
      "file_extension": ".py",
      "mimetype": "text/x-python",
      "name": "python",
      "nbconvert_exporter": "python",
      "pygments_lexer": "ipython3",
      "version": "3.11.0"
    },
    "vscode": {
      "interpreter": {
        "hash": "228ec1c77332413f421e77c28617d1df6074d6a46921cdaeb15ed9feeb460bfe"
      }
    }
  },
  "nbformat": 4,
  "nbformat_minor": 0
}