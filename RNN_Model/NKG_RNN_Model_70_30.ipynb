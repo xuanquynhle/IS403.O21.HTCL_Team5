{
  "cells": [
    {
      "cell_type": "markdown",
      "metadata": {
        "id": "Ik-XEHDfAHCb"
      },
      "source": [
        "# NGUYỄN KIM GROUP"
      ]
    },
    {
      "cell_type": "code",
      "execution_count": 1,
      "metadata": {
        "id": "FMDKda-XIUAK"
      },
      "outputs": [],
      "source": [
        "# 1. Import thư viện cần thiết\n",
        "import numpy as np\n",
        "import pandas as pd\n",
        "import matplotlib.pyplot as plt\n",
        "from sklearn.preprocessing import MinMaxScaler\n",
        "from keras.models import Sequential\n",
        "from keras.layers import Dense, SimpleRNN"
      ]
    },
    {
      "cell_type": "code",
      "execution_count": 2,
      "metadata": {
        "id": "me8vU9MoAHCe"
      },
      "outputs": [],
      "source": [
        "# 2. Đọc file csv và gắng index với giá Price\n",
        "df = pd.read_csv('NKG Historical Data.csv')\n",
        "df1=df.reset_index()['Price']"
      ]
    },
    {
      "cell_type": "code",
      "execution_count": 3,
      "metadata": {
        "colab": {
          "base_uri": "https://localhost:8080/",
          "height": 206
        },
        "id": "DF37HodNGwmI",
        "outputId": "e390aa7d-005b-4527-8693-9f3f137eb520"
      },
      "outputs": [
        {
          "name": "stdout",
          "output_type": "stream",
          "text": [
            "<class 'pandas.core.frame.DataFrame'>\n",
            "RangeIndex: 24 entries, 0 to 23\n",
            "Data columns (total 7 columns):\n",
            " #   Column    Non-Null Count  Dtype  \n",
            "---  ------    --------------  -----  \n",
            " 0   Date      24 non-null     object \n",
            " 1   Price     24 non-null     float64\n",
            " 2   Open      24 non-null     object \n",
            " 3   High      24 non-null     object \n",
            " 4   Low       24 non-null     object \n",
            " 5   Vol.      24 non-null     object \n",
            " 6   Change %  24 non-null     object \n",
            "dtypes: float64(1), object(6)\n",
            "memory usage: 1.4+ KB\n"
          ]
        }
      ],
      "source": [
        "df.info()"
      ]
    },
    {
      "cell_type": "code",
      "execution_count": 4,
      "metadata": {
        "colab": {
          "base_uri": "https://localhost:8080/"
        },
        "id": "JFHc2RydGqCH",
        "outputId": "678d27c4-ca4f-4801-f4b8-54dbcc991290"
      },
      "outputs": [
        {
          "data": {
            "text/plain": [
              "0    25650.0\n",
              "1    25700.0\n",
              "2    25500.0\n",
              "3    25500.0\n",
              "4    24850.0\n",
              "Name: Price, dtype: float64"
            ]
          },
          "execution_count": 4,
          "metadata": {},
          "output_type": "execute_result"
        }
      ],
      "source": [
        "df1.head()"
      ]
    },
    {
      "cell_type": "code",
      "execution_count": 5,
      "metadata": {
        "id": "RdVpDho2JgL5"
      },
      "outputs": [],
      "source": [
        "# 3. Scaler data\n",
        "scaler=MinMaxScaler(feature_range=(0,1))\n",
        "df1=scaler.fit_transform(np.array(df1).reshape(-1,1))"
      ]
    },
    {
      "cell_type": "code",
      "execution_count": 6,
      "metadata": {
        "id": "B5JXpenzJoR3"
      },
      "outputs": [],
      "source": [
        "# 4. Chia train test\n",
        "train_size = int(0.7 * len(df1))\n",
        "test_size = int(0.3 * len(df1))\n",
        "\n",
        "train_data = df1[:train_size]\n",
        "test_data = df1[train_size:train_size+test_size]"
      ]
    },
    {
      "cell_type": "code",
      "execution_count": 7,
      "metadata": {
        "id": "yJfmuBORLSfC"
      },
      "outputs": [],
      "source": [
        "# 5. Hàm Create Dataset\n",
        "import numpy\n",
        "# convert an array of values into a dataset matrix\n",
        "def create_dataset(dataset, time_step=1):\n",
        "\tdataX, dataY = [], []\n",
        "\tfor i in range(len(dataset)-time_step-1):\n",
        "\t\ta = dataset[i:(i+time_step), 0]   ###i=0, X=0,1,2,3-----99   Y=100\n",
        "\t\tdataX.append(a)\n",
        "\t\tdataY.append(dataset[i + time_step, 0])\n",
        "\treturn numpy.array(dataX), numpy.array(dataY)"
      ]
    },
    {
      "cell_type": "code",
      "execution_count": 8,
      "metadata": {
        "id": "e81cKq03LXFB"
      },
      "outputs": [],
      "source": [
        "#6. Reshape into X=t,t+1,t+2..t+99 and Y=t+100\n",
        "time_step = 100\n",
        "X_train, y_train = create_dataset(train_data, time_step)\n",
        "X_test, ytest = create_dataset(test_data, time_step)"
      ]
    },
    {
      "cell_type": "code",
      "execution_count": 9,
      "metadata": {
        "id": "RdBVfku7O2qb"
      },
      "outputs": [
        {
          "ename": "IndexError",
          "evalue": "tuple index out of range",
          "output_type": "error",
          "traceback": [
            "\u001b[1;31m---------------------------------------------------------------------------\u001b[0m",
            "\u001b[1;31mIndexError\u001b[0m                                Traceback (most recent call last)",
            "Cell \u001b[1;32mIn[9], line 2\u001b[0m\n\u001b[0;32m      1\u001b[0m \u001b[38;5;66;03m# 7. Reshape input to be [samples, time steps, features] which is required for LSTM\u001b[39;00m\n\u001b[1;32m----> 2\u001b[0m X_train \u001b[38;5;241m=\u001b[39mX_train\u001b[38;5;241m.\u001b[39mreshape(X_train\u001b[38;5;241m.\u001b[39mshape[\u001b[38;5;241m0\u001b[39m],\u001b[43mX_train\u001b[49m\u001b[38;5;241;43m.\u001b[39;49m\u001b[43mshape\u001b[49m\u001b[43m[\u001b[49m\u001b[38;5;241;43m1\u001b[39;49m\u001b[43m]\u001b[49m , \u001b[38;5;241m1\u001b[39m)\n\u001b[0;32m      3\u001b[0m X_test \u001b[38;5;241m=\u001b[39m X_test\u001b[38;5;241m.\u001b[39mreshape(X_test\u001b[38;5;241m.\u001b[39mshape[\u001b[38;5;241m0\u001b[39m],X_test\u001b[38;5;241m.\u001b[39mshape[\u001b[38;5;241m1\u001b[39m] , \u001b[38;5;241m1\u001b[39m)\n",
            "\u001b[1;31mIndexError\u001b[0m: tuple index out of range"
          ]
        }
      ],
      "source": [
        "# 7. Reshape input to be [samples, time steps, features] which is required for LSTM\n",
        "X_train =X_train.reshape(X_train.shape[0],X_train.shape[1] , 1)\n",
        "X_test = X_test.reshape(X_test.shape[0],X_test.shape[1] , 1)"
      ]
    },
    {
      "cell_type": "code",
      "execution_count": null,
      "metadata": {
        "id": "sSfxrE7BO9vX"
      },
      "outputs": [
        {
          "name": "stderr",
          "output_type": "stream",
          "text": [
            "c:\\Users\\hangt\\AppData\\Local\\Programs\\Python\\Python312\\Lib\\site-packages\\keras\\src\\layers\\rnn\\rnn.py:204: UserWarning: Do not pass an `input_shape`/`input_dim` argument to a layer. When using Sequential models, prefer using an `Input(shape)` object as the first layer in the model instead.\n",
            "  super().__init__(**kwargs)\n"
          ]
        }
      ],
      "source": [
        "# 8. Define LSTM Model\n",
        "model = Sequential()\n",
        "model.add(SimpleRNN(50, input_shape=(time_step, 1)))\n",
        "model.add(Dense(1))\n",
        "model.compile(loss='mean_squared_error',optimizer='adam')"
      ]
    },
    {
      "cell_type": "code",
      "execution_count": null,
      "metadata": {
        "colab": {
          "base_uri": "https://localhost:8080/"
        },
        "id": "zgfeujZSPEKr",
        "outputId": "b4e2e288-2102-4cca-f993-105634589bdc"
      },
      "outputs": [
        {
          "name": "stdout",
          "output_type": "stream",
          "text": [
            "Epoch 1/100\n",
            "\u001b[1m13/13\u001b[0m \u001b[32m━━━━━━━━━━━━━━━━━━━━\u001b[0m\u001b[37m\u001b[0m \u001b[1m14s\u001b[0m 83ms/step - loss: 0.1144\n",
            "Epoch 2/100\n",
            "\u001b[1m13/13\u001b[0m \u001b[32m━━━━━━━━━━━━━━━━━━━━\u001b[0m\u001b[37m\u001b[0m \u001b[1m1s\u001b[0m 33ms/step - loss: 0.0109\n",
            "Epoch 3/100\n",
            "\u001b[1m13/13\u001b[0m \u001b[32m━━━━━━━━━━━━━━━━━━━━\u001b[0m\u001b[37m\u001b[0m \u001b[1m1s\u001b[0m 45ms/step - loss: 0.0029\n",
            "Epoch 4/100\n",
            "\u001b[1m13/13\u001b[0m \u001b[32m━━━━━━━━━━━━━━━━━━━━\u001b[0m\u001b[37m\u001b[0m \u001b[1m1s\u001b[0m 34ms/step - loss: 0.0015\n",
            "Epoch 5/100\n",
            "\u001b[1m13/13\u001b[0m \u001b[32m━━━━━━━━━━━━━━━━━━━━\u001b[0m\u001b[37m\u001b[0m \u001b[1m1s\u001b[0m 45ms/step - loss: 0.0013\n",
            "Epoch 6/100\n",
            "\u001b[1m13/13\u001b[0m \u001b[32m━━━━━━━━━━━━━━━━━━━━\u001b[0m\u001b[37m\u001b[0m \u001b[1m1s\u001b[0m 50ms/step - loss: 0.0013\n",
            "Epoch 7/100\n",
            "\u001b[1m13/13\u001b[0m \u001b[32m━━━━━━━━━━━━━━━━━━━━\u001b[0m\u001b[37m\u001b[0m \u001b[1m1s\u001b[0m 44ms/step - loss: 0.0011\n",
            "Epoch 8/100\n",
            "\u001b[1m13/13\u001b[0m \u001b[32m━━━━━━━━━━━━━━━━━━━━\u001b[0m\u001b[37m\u001b[0m \u001b[1m1s\u001b[0m 37ms/step - loss: 0.0011\n",
            "Epoch 9/100\n",
            "\u001b[1m13/13\u001b[0m \u001b[32m━━━━━━━━━━━━━━━━━━━━\u001b[0m\u001b[37m\u001b[0m \u001b[1m1s\u001b[0m 55ms/step - loss: 0.0011\n",
            "Epoch 10/100\n",
            "\u001b[1m13/13\u001b[0m \u001b[32m━━━━━━━━━━━━━━━━━━━━\u001b[0m\u001b[37m\u001b[0m \u001b[1m1s\u001b[0m 52ms/step - loss: 9.5678e-04\n",
            "Epoch 11/100\n",
            "\u001b[1m13/13\u001b[0m \u001b[32m━━━━━━━━━━━━━━━━━━━━\u001b[0m\u001b[37m\u001b[0m \u001b[1m1s\u001b[0m 45ms/step - loss: 9.8574e-04\n",
            "Epoch 12/100\n",
            "\u001b[1m13/13\u001b[0m \u001b[32m━━━━━━━━━━━━━━━━━━━━\u001b[0m\u001b[37m\u001b[0m \u001b[1m1s\u001b[0m 31ms/step - loss: 0.0010\n",
            "Epoch 13/100\n",
            "\u001b[1m13/13\u001b[0m \u001b[32m━━━━━━━━━━━━━━━━━━━━\u001b[0m\u001b[37m\u001b[0m \u001b[1m1s\u001b[0m 47ms/step - loss: 8.9104e-04\n",
            "Epoch 14/100\n",
            "\u001b[1m13/13\u001b[0m \u001b[32m━━━━━━━━━━━━━━━━━━━━\u001b[0m\u001b[37m\u001b[0m \u001b[1m1s\u001b[0m 53ms/step - loss: 8.7124e-04\n",
            "Epoch 15/100\n",
            "\u001b[1m13/13\u001b[0m \u001b[32m━━━━━━━━━━━━━━━━━━━━\u001b[0m\u001b[37m\u001b[0m \u001b[1m1s\u001b[0m 50ms/step - loss: 9.5909e-04\n",
            "Epoch 16/100\n",
            "\u001b[1m13/13\u001b[0m \u001b[32m━━━━━━━━━━━━━━━━━━━━\u001b[0m\u001b[37m\u001b[0m \u001b[1m2s\u001b[0m 64ms/step - loss: 8.0522e-04\n",
            "Epoch 17/100\n",
            "\u001b[1m13/13\u001b[0m \u001b[32m━━━━━━━━━━━━━━━━━━━━\u001b[0m\u001b[37m\u001b[0m \u001b[1m1s\u001b[0m 68ms/step - loss: 9.2047e-04\n",
            "Epoch 18/100\n",
            "\u001b[1m13/13\u001b[0m \u001b[32m━━━━━━━━━━━━━━━━━━━━\u001b[0m\u001b[37m\u001b[0m \u001b[1m1s\u001b[0m 78ms/step - loss: 7.8200e-04\n",
            "Epoch 19/100\n",
            "\u001b[1m13/13\u001b[0m \u001b[32m━━━━━━━━━━━━━━━━━━━━\u001b[0m\u001b[37m\u001b[0m \u001b[1m1s\u001b[0m 73ms/step - loss: 8.9938e-04\n",
            "Epoch 20/100\n",
            "\u001b[1m13/13\u001b[0m \u001b[32m━━━━━━━━━━━━━━━━━━━━\u001b[0m\u001b[37m\u001b[0m \u001b[1m1s\u001b[0m 43ms/step - loss: 8.4947e-04\n",
            "Epoch 21/100\n",
            "\u001b[1m13/13\u001b[0m \u001b[32m━━━━━━━━━━━━━━━━━━━━\u001b[0m\u001b[37m\u001b[0m \u001b[1m2s\u001b[0m 79ms/step - loss: 7.7761e-04\n",
            "Epoch 22/100\n",
            "\u001b[1m13/13\u001b[0m \u001b[32m━━━━━━━━━━━━━━━━━━━━\u001b[0m\u001b[37m\u001b[0m \u001b[1m2s\u001b[0m 83ms/step - loss: 8.7280e-04\n",
            "Epoch 23/100\n",
            "\u001b[1m13/13\u001b[0m \u001b[32m━━━━━━━━━━━━━━━━━━━━\u001b[0m\u001b[37m\u001b[0m \u001b[1m1s\u001b[0m 70ms/step - loss: 7.2252e-04\n",
            "Epoch 24/100\n",
            "\u001b[1m13/13\u001b[0m \u001b[32m━━━━━━━━━━━━━━━━━━━━\u001b[0m\u001b[37m\u001b[0m \u001b[1m1s\u001b[0m 67ms/step - loss: 6.8840e-04\n",
            "Epoch 25/100\n",
            "\u001b[1m13/13\u001b[0m \u001b[32m━━━━━━━━━━━━━━━━━━━━\u001b[0m\u001b[37m\u001b[0m \u001b[1m1s\u001b[0m 53ms/step - loss: 7.8201e-04\n",
            "Epoch 26/100\n",
            "\u001b[1m13/13\u001b[0m \u001b[32m━━━━━━━━━━━━━━━━━━━━\u001b[0m\u001b[37m\u001b[0m \u001b[1m1s\u001b[0m 67ms/step - loss: 7.5495e-04\n",
            "Epoch 27/100\n",
            "\u001b[1m13/13\u001b[0m \u001b[32m━━━━━━━━━━━━━━━━━━━━\u001b[0m\u001b[37m\u001b[0m \u001b[1m1s\u001b[0m 85ms/step - loss: 8.9048e-04\n",
            "Epoch 28/100\n",
            "\u001b[1m13/13\u001b[0m \u001b[32m━━━━━━━━━━━━━━━━━━━━\u001b[0m\u001b[37m\u001b[0m \u001b[1m2s\u001b[0m 95ms/step - loss: 8.7868e-04 \n",
            "Epoch 29/100\n",
            "\u001b[1m13/13\u001b[0m \u001b[32m━━━━━━━━━━━━━━━━━━━━\u001b[0m\u001b[37m\u001b[0m \u001b[1m1s\u001b[0m 60ms/step - loss: 7.3135e-04\n",
            "Epoch 30/100\n",
            "\u001b[1m13/13\u001b[0m \u001b[32m━━━━━━━━━━━━━━━━━━━━\u001b[0m\u001b[37m\u001b[0m \u001b[1m1s\u001b[0m 51ms/step - loss: 6.7652e-04\n",
            "Epoch 31/100\n",
            "\u001b[1m13/13\u001b[0m \u001b[32m━━━━━━━━━━━━━━━━━━━━\u001b[0m\u001b[37m\u001b[0m \u001b[1m2s\u001b[0m 41ms/step - loss: 6.8172e-04\n",
            "Epoch 32/100\n",
            "\u001b[1m13/13\u001b[0m \u001b[32m━━━━━━━━━━━━━━━━━━━━\u001b[0m\u001b[37m\u001b[0m \u001b[1m1s\u001b[0m 45ms/step - loss: 7.7879e-04\n",
            "Epoch 33/100\n",
            "\u001b[1m13/13\u001b[0m \u001b[32m━━━━━━━━━━━━━━━━━━━━\u001b[0m\u001b[37m\u001b[0m \u001b[1m2s\u001b[0m 82ms/step - loss: 7.0369e-04\n",
            "Epoch 34/100\n",
            "\u001b[1m13/13\u001b[0m \u001b[32m━━━━━━━━━━━━━━━━━━━━\u001b[0m\u001b[37m\u001b[0m \u001b[1m3s\u001b[0m 86ms/step - loss: 6.5151e-04\n",
            "Epoch 35/100\n",
            "\u001b[1m13/13\u001b[0m \u001b[32m━━━━━━━━━━━━━━━━━━━━\u001b[0m\u001b[37m\u001b[0m \u001b[1m3s\u001b[0m 68ms/step - loss: 7.1414e-04\n",
            "Epoch 36/100\n",
            "\u001b[1m13/13\u001b[0m \u001b[32m━━━━━━━━━━━━━━━━━━━━\u001b[0m\u001b[37m\u001b[0m \u001b[1m1s\u001b[0m 45ms/step - loss: 5.9814e-04\n",
            "Epoch 37/100\n",
            "\u001b[1m13/13\u001b[0m \u001b[32m━━━━━━━━━━━━━━━━━━━━\u001b[0m\u001b[37m\u001b[0m \u001b[1m2s\u001b[0m 78ms/step - loss: 6.2981e-04\n",
            "Epoch 38/100\n",
            "\u001b[1m13/13\u001b[0m \u001b[32m━━━━━━━━━━━━━━━━━━━━\u001b[0m\u001b[37m\u001b[0m \u001b[1m2s\u001b[0m 85ms/step - loss: 7.1004e-04\n",
            "Epoch 39/100\n",
            "\u001b[1m13/13\u001b[0m \u001b[32m━━━━━━━━━━━━━━━━━━━━\u001b[0m\u001b[37m\u001b[0m \u001b[1m2s\u001b[0m 62ms/step - loss: 6.2395e-04\n",
            "Epoch 40/100\n",
            "\u001b[1m13/13\u001b[0m \u001b[32m━━━━━━━━━━━━━━━━━━━━\u001b[0m\u001b[37m\u001b[0m \u001b[1m2s\u001b[0m 59ms/step - loss: 5.8220e-04\n",
            "Epoch 41/100\n",
            "\u001b[1m13/13\u001b[0m \u001b[32m━━━━━━━━━━━━━━━━━━━━\u001b[0m\u001b[37m\u001b[0m \u001b[1m1s\u001b[0m 61ms/step - loss: 7.1826e-04\n",
            "Epoch 42/100\n",
            "\u001b[1m13/13\u001b[0m \u001b[32m━━━━━━━━━━━━━━━━━━━━\u001b[0m\u001b[37m\u001b[0m \u001b[1m1s\u001b[0m 78ms/step - loss: 6.0537e-04\n",
            "Epoch 43/100\n",
            "\u001b[1m13/13\u001b[0m \u001b[32m━━━━━━━━━━━━━━━━━━━━\u001b[0m\u001b[37m\u001b[0m \u001b[1m1s\u001b[0m 73ms/step - loss: 5.7018e-04\n",
            "Epoch 44/100\n",
            "\u001b[1m13/13\u001b[0m \u001b[32m━━━━━━━━━━━━━━━━━━━━\u001b[0m\u001b[37m\u001b[0m \u001b[1m2s\u001b[0m 62ms/step - loss: 5.9072e-04\n",
            "Epoch 45/100\n",
            "\u001b[1m13/13\u001b[0m \u001b[32m━━━━━━━━━━━━━━━━━━━━\u001b[0m\u001b[37m\u001b[0m \u001b[1m1s\u001b[0m 52ms/step - loss: 6.0165e-04\n",
            "Epoch 46/100\n",
            "\u001b[1m13/13\u001b[0m \u001b[32m━━━━━━━━━━━━━━━━━━━━\u001b[0m\u001b[37m\u001b[0m \u001b[1m1s\u001b[0m 55ms/step - loss: 6.5817e-04\n",
            "Epoch 47/100\n",
            "\u001b[1m13/13\u001b[0m \u001b[32m━━━━━━━━━━━━━━━━━━━━\u001b[0m\u001b[37m\u001b[0m \u001b[1m1s\u001b[0m 49ms/step - loss: 5.6454e-04\n",
            "Epoch 48/100\n",
            "\u001b[1m13/13\u001b[0m \u001b[32m━━━━━━━━━━━━━━━━━━━━\u001b[0m\u001b[37m\u001b[0m \u001b[1m1s\u001b[0m 62ms/step - loss: 5.7216e-04\n",
            "Epoch 49/100\n",
            "\u001b[1m13/13\u001b[0m \u001b[32m━━━━━━━━━━━━━━━━━━━━\u001b[0m\u001b[37m\u001b[0m \u001b[1m1s\u001b[0m 62ms/step - loss: 5.5373e-04\n",
            "Epoch 50/100\n",
            "\u001b[1m13/13\u001b[0m \u001b[32m━━━━━━━━━━━━━━━━━━━━\u001b[0m\u001b[37m\u001b[0m \u001b[1m1s\u001b[0m 66ms/step - loss: 5.7730e-04\n",
            "Epoch 51/100\n",
            "\u001b[1m13/13\u001b[0m \u001b[32m━━━━━━━━━━━━━━━━━━━━\u001b[0m\u001b[37m\u001b[0m \u001b[1m2s\u001b[0m 69ms/step - loss: 5.3876e-04\n",
            "Epoch 52/100\n",
            "\u001b[1m13/13\u001b[0m \u001b[32m━━━━━━━━━━━━━━━━━━━━\u001b[0m\u001b[37m\u001b[0m \u001b[1m2s\u001b[0m 58ms/step - loss: 5.5507e-04\n",
            "Epoch 53/100\n",
            "\u001b[1m13/13\u001b[0m \u001b[32m━━━━━━━━━━━━━━━━━━━━\u001b[0m\u001b[37m\u001b[0m \u001b[1m1s\u001b[0m 38ms/step - loss: 5.4345e-04\n",
            "Epoch 54/100\n",
            "\u001b[1m13/13\u001b[0m \u001b[32m━━━━━━━━━━━━━━━━━━━━\u001b[0m\u001b[37m\u001b[0m \u001b[1m1s\u001b[0m 59ms/step - loss: 5.2189e-04\n",
            "Epoch 55/100\n",
            "\u001b[1m13/13\u001b[0m \u001b[32m━━━━━━━━━━━━━━━━━━━━\u001b[0m\u001b[37m\u001b[0m \u001b[1m1s\u001b[0m 50ms/step - loss: 5.0960e-04\n",
            "Epoch 56/100\n",
            "\u001b[1m13/13\u001b[0m \u001b[32m━━━━━━━━━━━━━━━━━━━━\u001b[0m\u001b[37m\u001b[0m \u001b[1m1s\u001b[0m 49ms/step - loss: 5.1915e-04\n",
            "Epoch 57/100\n",
            "\u001b[1m13/13\u001b[0m \u001b[32m━━━━━━━━━━━━━━━━━━━━\u001b[0m\u001b[37m\u001b[0m \u001b[1m1s\u001b[0m 54ms/step - loss: 5.4774e-04\n",
            "Epoch 58/100\n",
            "\u001b[1m13/13\u001b[0m \u001b[32m━━━━━━━━━━━━━━━━━━━━\u001b[0m\u001b[37m\u001b[0m \u001b[1m2s\u001b[0m 57ms/step - loss: 5.0725e-04\n",
            "Epoch 59/100\n",
            "\u001b[1m13/13\u001b[0m \u001b[32m━━━━━━━━━━━━━━━━━━━━\u001b[0m\u001b[37m\u001b[0m \u001b[1m1s\u001b[0m 57ms/step - loss: 5.2373e-04\n",
            "Epoch 60/100\n",
            "\u001b[1m13/13\u001b[0m \u001b[32m━━━━━━━━━━━━━━━━━━━━\u001b[0m\u001b[37m\u001b[0m \u001b[1m2s\u001b[0m 112ms/step - loss: 5.4896e-04\n",
            "Epoch 61/100\n",
            "\u001b[1m13/13\u001b[0m \u001b[32m━━━━━━━━━━━━━━━━━━━━\u001b[0m\u001b[37m\u001b[0m \u001b[1m1s\u001b[0m 55ms/step - loss: 5.8081e-04\n",
            "Epoch 62/100\n",
            "\u001b[1m13/13\u001b[0m \u001b[32m━━━━━━━━━━━━━━━━━━━━\u001b[0m\u001b[37m\u001b[0m \u001b[1m2s\u001b[0m 62ms/step - loss: 4.6706e-04\n",
            "Epoch 63/100\n",
            "\u001b[1m13/13\u001b[0m \u001b[32m━━━━━━━━━━━━━━━━━━━━\u001b[0m\u001b[37m\u001b[0m \u001b[1m1s\u001b[0m 44ms/step - loss: 6.1508e-04\n",
            "Epoch 64/100\n",
            "\u001b[1m13/13\u001b[0m \u001b[32m━━━━━━━━━━━━━━━━━━━━\u001b[0m\u001b[37m\u001b[0m \u001b[1m1s\u001b[0m 73ms/step - loss: 4.7667e-04\n",
            "Epoch 65/100\n",
            "\u001b[1m13/13\u001b[0m \u001b[32m━━━━━━━━━━━━━━━━━━━━\u001b[0m\u001b[37m\u001b[0m \u001b[1m1s\u001b[0m 71ms/step - loss: 4.8074e-04\n",
            "Epoch 66/100\n",
            "\u001b[1m13/13\u001b[0m \u001b[32m━━━━━━━━━━━━━━━━━━━━\u001b[0m\u001b[37m\u001b[0m \u001b[1m2s\u001b[0m 66ms/step - loss: 6.0385e-04\n",
            "Epoch 67/100\n",
            "\u001b[1m13/13\u001b[0m \u001b[32m━━━━━━━━━━━━━━━━━━━━\u001b[0m\u001b[37m\u001b[0m \u001b[1m2s\u001b[0m 105ms/step - loss: 4.7687e-04\n",
            "Epoch 68/100\n",
            "\u001b[1m13/13\u001b[0m \u001b[32m━━━━━━━━━━━━━━━━━━━━\u001b[0m\u001b[37m\u001b[0m \u001b[1m2s\u001b[0m 70ms/step - loss: 5.2302e-04\n",
            "Epoch 69/100\n",
            "\u001b[1m13/13\u001b[0m \u001b[32m━━━━━━━━━━━━━━━━━━━━\u001b[0m\u001b[37m\u001b[0m \u001b[1m3s\u001b[0m 76ms/step - loss: 5.4442e-04\n",
            "Epoch 70/100\n",
            "\u001b[1m13/13\u001b[0m \u001b[32m━━━━━━━━━━━━━━━━━━━━\u001b[0m\u001b[37m\u001b[0m \u001b[1m2s\u001b[0m 71ms/step - loss: 4.7556e-04\n",
            "Epoch 71/100\n",
            "\u001b[1m13/13\u001b[0m \u001b[32m━━━━━━━━━━━━━━━━━━━━\u001b[0m\u001b[37m\u001b[0m \u001b[1m1s\u001b[0m 69ms/step - loss: 4.9511e-04\n",
            "Epoch 72/100\n",
            "\u001b[1m13/13\u001b[0m \u001b[32m━━━━━━━━━━━━━━━━━━━━\u001b[0m\u001b[37m\u001b[0m \u001b[1m1s\u001b[0m 37ms/step - loss: 4.9339e-04\n",
            "Epoch 73/100\n",
            "\u001b[1m13/13\u001b[0m \u001b[32m━━━━━━━━━━━━━━━━━━━━\u001b[0m\u001b[37m\u001b[0m \u001b[1m1s\u001b[0m 57ms/step - loss: 4.5851e-04\n",
            "Epoch 74/100\n",
            "\u001b[1m13/13\u001b[0m \u001b[32m━━━━━━━━━━━━━━━━━━━━\u001b[0m\u001b[37m\u001b[0m \u001b[1m1s\u001b[0m 41ms/step - loss: 5.5324e-04\n",
            "Epoch 75/100\n",
            "\u001b[1m13/13\u001b[0m \u001b[32m━━━━━━━━━━━━━━━━━━━━\u001b[0m\u001b[37m\u001b[0m \u001b[1m1s\u001b[0m 38ms/step - loss: 6.0551e-04\n",
            "Epoch 76/100\n",
            "\u001b[1m13/13\u001b[0m \u001b[32m━━━━━━━━━━━━━━━━━━━━\u001b[0m\u001b[37m\u001b[0m \u001b[1m1s\u001b[0m 51ms/step - loss: 4.3445e-04\n",
            "Epoch 77/100\n",
            "\u001b[1m13/13\u001b[0m \u001b[32m━━━━━━━━━━━━━━━━━━━━\u001b[0m\u001b[37m\u001b[0m \u001b[1m2s\u001b[0m 70ms/step - loss: 5.0577e-04\n",
            "Epoch 78/100\n",
            "\u001b[1m13/13\u001b[0m \u001b[32m━━━━━━━━━━━━━━━━━━━━\u001b[0m\u001b[37m\u001b[0m \u001b[1m2s\u001b[0m 90ms/step - loss: 4.3341e-04\n",
            "Epoch 79/100\n",
            "\u001b[1m13/13\u001b[0m \u001b[32m━━━━━━━━━━━━━━━━━━━━\u001b[0m\u001b[37m\u001b[0m \u001b[1m1s\u001b[0m 63ms/step - loss: 4.3627e-04\n",
            "Epoch 80/100\n",
            "\u001b[1m13/13\u001b[0m \u001b[32m━━━━━━━━━━━━━━━━━━━━\u001b[0m\u001b[37m\u001b[0m \u001b[1m1s\u001b[0m 68ms/step - loss: 5.1104e-04\n",
            "Epoch 81/100\n",
            "\u001b[1m13/13\u001b[0m \u001b[32m━━━━━━━━━━━━━━━━━━━━\u001b[0m\u001b[37m\u001b[0m \u001b[1m1s\u001b[0m 52ms/step - loss: 4.6047e-04\n",
            "Epoch 82/100\n",
            "\u001b[1m13/13\u001b[0m \u001b[32m━━━━━━━━━━━━━━━━━━━━\u001b[0m\u001b[37m\u001b[0m \u001b[1m1s\u001b[0m 36ms/step - loss: 4.8055e-04\n",
            "Epoch 83/100\n",
            "\u001b[1m13/13\u001b[0m \u001b[32m━━━━━━━━━━━━━━━━━━━━\u001b[0m\u001b[37m\u001b[0m \u001b[1m1s\u001b[0m 63ms/step - loss: 4.9192e-04\n",
            "Epoch 84/100\n",
            "\u001b[1m13/13\u001b[0m \u001b[32m━━━━━━━━━━━━━━━━━━━━\u001b[0m\u001b[37m\u001b[0m \u001b[1m1s\u001b[0m 91ms/step - loss: 6.5498e-04\n",
            "Epoch 85/100\n",
            "\u001b[1m13/13\u001b[0m \u001b[32m━━━━━━━━━━━━━━━━━━━━\u001b[0m\u001b[37m\u001b[0m \u001b[1m1s\u001b[0m 38ms/step - loss: 5.7497e-04\n",
            "Epoch 86/100\n",
            "\u001b[1m13/13\u001b[0m \u001b[32m━━━━━━━━━━━━━━━━━━━━\u001b[0m\u001b[37m\u001b[0m \u001b[1m1s\u001b[0m 42ms/step - loss: 5.5461e-04\n",
            "Epoch 87/100\n",
            "\u001b[1m13/13\u001b[0m \u001b[32m━━━━━━━━━━━━━━━━━━━━\u001b[0m\u001b[37m\u001b[0m \u001b[1m1s\u001b[0m 59ms/step - loss: 5.0364e-04\n",
            "Epoch 88/100\n",
            "\u001b[1m13/13\u001b[0m \u001b[32m━━━━━━━━━━━━━━━━━━━━\u001b[0m\u001b[37m\u001b[0m \u001b[1m1s\u001b[0m 53ms/step - loss: 4.7231e-04\n",
            "Epoch 89/100\n",
            "\u001b[1m13/13\u001b[0m \u001b[32m━━━━━━━━━━━━━━━━━━━━\u001b[0m\u001b[37m\u001b[0m \u001b[1m1s\u001b[0m 64ms/step - loss: 4.7194e-04\n",
            "Epoch 90/100\n",
            "\u001b[1m13/13\u001b[0m \u001b[32m━━━━━━━━━━━━━━━━━━━━\u001b[0m\u001b[37m\u001b[0m \u001b[1m1s\u001b[0m 46ms/step - loss: 4.1971e-04\n",
            "Epoch 91/100\n",
            "\u001b[1m13/13\u001b[0m \u001b[32m━━━━━━━━━━━━━━━━━━━━\u001b[0m\u001b[37m\u001b[0m \u001b[1m1s\u001b[0m 56ms/step - loss: 3.7395e-04\n",
            "Epoch 92/100\n",
            "\u001b[1m13/13\u001b[0m \u001b[32m━━━━━━━━━━━━━━━━━━━━\u001b[0m\u001b[37m\u001b[0m \u001b[1m1s\u001b[0m 63ms/step - loss: 4.6311e-04\n",
            "Epoch 93/100\n",
            "\u001b[1m13/13\u001b[0m \u001b[32m━━━━━━━━━━━━━━━━━━━━\u001b[0m\u001b[37m\u001b[0m \u001b[1m1s\u001b[0m 45ms/step - loss: 4.1166e-04\n",
            "Epoch 94/100\n",
            "\u001b[1m13/13\u001b[0m \u001b[32m━━━━━━━━━━━━━━━━━━━━\u001b[0m\u001b[37m\u001b[0m \u001b[1m1s\u001b[0m 74ms/step - loss: 4.0594e-04\n",
            "Epoch 95/100\n",
            "\u001b[1m13/13\u001b[0m \u001b[32m━━━━━━━━━━━━━━━━━━━━\u001b[0m\u001b[37m\u001b[0m \u001b[1m1s\u001b[0m 48ms/step - loss: 3.8859e-04\n",
            "Epoch 96/100\n",
            "\u001b[1m13/13\u001b[0m \u001b[32m━━━━━━━━━━━━━━━━━━━━\u001b[0m\u001b[37m\u001b[0m \u001b[1m2s\u001b[0m 64ms/step - loss: 4.7399e-04\n",
            "Epoch 97/100\n",
            "\u001b[1m13/13\u001b[0m \u001b[32m━━━━━━━━━━━━━━━━━━━━\u001b[0m\u001b[37m\u001b[0m \u001b[1m2s\u001b[0m 69ms/step - loss: 3.9400e-04\n",
            "Epoch 98/100\n",
            "\u001b[1m13/13\u001b[0m \u001b[32m━━━━━━━━━━━━━━━━━━━━\u001b[0m\u001b[37m\u001b[0m \u001b[1m1s\u001b[0m 65ms/step - loss: 5.4623e-04\n",
            "Epoch 99/100\n",
            "\u001b[1m13/13\u001b[0m \u001b[32m━━━━━━━━━━━━━━━━━━━━\u001b[0m\u001b[37m\u001b[0m \u001b[1m2s\u001b[0m 55ms/step - loss: 5.1376e-04\n",
            "Epoch 100/100\n",
            "\u001b[1m13/13\u001b[0m \u001b[32m━━━━━━━━━━━━━━━━━━━━\u001b[0m\u001b[37m\u001b[0m \u001b[1m1s\u001b[0m 47ms/step - loss: 4.4450e-04\n"
          ]
        },
        {
          "data": {
            "text/plain": [
              "<keras.src.callbacks.history.History at 0x2ab3236b8f0>"
            ]
          },
          "execution_count": 11,
          "metadata": {},
          "output_type": "execute_result"
        }
      ],
      "source": [
        "# 9. Fit mô hình với dữ liệu train\n",
        "model.fit(X_train,y_train,epochs=100,batch_size=64,verbose=1)"
      ]
    },
    {
      "cell_type": "code",
      "execution_count": null,
      "metadata": {
        "colab": {
          "base_uri": "https://localhost:8080/"
        },
        "id": "Rxx_KQSkQpBG",
        "outputId": "833f6791-4388-46f4-e4cb-0a712fe2c6a9"
      },
      "outputs": [
        {
          "name": "stdout",
          "output_type": "stream",
          "text": [
            "\u001b[1m25/25\u001b[0m \u001b[32m━━━━━━━━━━━━━━━━━━━━\u001b[0m\u001b[37m\u001b[0m \u001b[1m3s\u001b[0m 66ms/step\n",
            "\u001b[1m9/9\u001b[0m \u001b[32m━━━━━━━━━━━━━━━━━━━━\u001b[0m\u001b[37m\u001b[0m \u001b[1m1s\u001b[0m 12ms/step\n"
          ]
        }
      ],
      "source": [
        "# 10. Dự báo dữ liệu test, val\n",
        "train_predict=model.predict(X_train)\n",
        "y_pred=model.predict(X_test)"
      ]
    },
    {
      "cell_type": "code",
      "execution_count": null,
      "metadata": {
        "id": "5rwTN10LQ7rj"
      },
      "outputs": [],
      "source": [
        "# 11. Chuẩn hóa dữ liệu y_pred, y_pred_val\n",
        "train_predict=scaler.inverse_transform(train_predict)\n",
        "y_pred=scaler.inverse_transform(y_pred)"
      ]
    },
    {
      "cell_type": "code",
      "execution_count": null,
      "metadata": {
        "id": "r3PeRHARAHCh"
      },
      "outputs": [],
      "source": [
        "ytest = scaler.inverse_transform(ytest.reshape(-1,1))"
      ]
    },
    {
      "cell_type": "code",
      "execution_count": null,
      "metadata": {
        "colab": {
          "base_uri": "https://localhost:8080/"
        },
        "id": "wu_9j94kRonD",
        "outputId": "2ac60ff6-2715-4fe0-ae6e-8a938d49e7ce"
      },
      "outputs": [
        {
          "name": "stdout",
          "output_type": "stream",
          "text": [
            "Testing RMSE: 0.24516374852653733\n"
          ]
        }
      ],
      "source": [
        "# 12. Đánh giá độ chính xác thuật toán bằng RMSE\n",
        "test_rmse = np.sqrt(np.mean((y_pred - ytest)**2))\n",
        "print('Testing RMSE:', test_rmse)"
      ]
    },
    {
      "cell_type": "code",
      "execution_count": null,
      "metadata": {
        "colab": {
          "base_uri": "https://localhost:8080/"
        },
        "id": "-Tind_8TAHCh",
        "outputId": "7bff1981-c5d1-4f86-b9bf-d1e383b40700"
      },
      "outputs": [
        {
          "name": "stdout",
          "output_type": "stream",
          "text": [
            "Testing MAE: 0.1997853891344836\n"
          ]
        }
      ],
      "source": [
        "# Đánh giá độ chính xác thuật toán bằng MAE\n",
        "test_mae = np.mean(abs(y_pred - ytest))\n",
        "print('Testing MAE:', test_mae)"
      ]
    },
    {
      "cell_type": "code",
      "execution_count": null,
      "metadata": {
        "colab": {
          "base_uri": "https://localhost:8080/"
        },
        "id": "gDFbKEkMAHCi",
        "outputId": "6ccc2bc7-35c0-4624-caca-8de8c0830fa8"
      },
      "outputs": [
        {
          "name": "stdout",
          "output_type": "stream",
          "text": [
            "Testing MAPE: 0.04886851395972764\n"
          ]
        }
      ],
      "source": [
        "# Đánh giá độ chính xác thuật toán bằng MAPE\n",
        "test_mape = np.mean(np.abs(y_pred - ytest)/np.abs(y_pred))\n",
        "print('Testing MAPE:', test_mape)"
      ]
    },
    {
      "cell_type": "code",
      "execution_count": null,
      "metadata": {
        "colab": {
          "base_uri": "https://localhost:8080/",
          "height": 430
        },
        "id": "0xzNLNCPAHCi",
        "outputId": "d11deaf3-f2b7-42c9-e2c0-ba1122479997"
      },
      "outputs": [
        {
          "data": {
            "image/png": "[encoded data removed]",
            "text/plain": [
              "<Figure size 640x480 with 1 Axes>"
            ]
          },
          "metadata": {},
          "output_type": "display_data"
        }
      ],
      "source": [
        "# 14.Vẽ hình\n",
        "# Train\n",
        "train_data_index = pd.RangeIndex(start=0, stop=train_size, step=1)\n",
        "plt.plot(scaler.inverse_transform(train_data))\n",
        "# Test\n",
        "test_data_index = pd.RangeIndex(start=train_size, stop=train_size+test_size, step=1)\n",
        "plt.plot(test_data_index,scaler.inverse_transform(test_data))\n",
        "# Dự đoán trên tập test\n",
        "test_data_index = pd.RangeIndex(start=train_size+101, stop=train_size+test_size, step=1)\n",
        "plt.plot(test_data_index,(y_pred))\n",
        "plt.legend(['Train','Test','Predict'])\n",
        "plt.show()"
      ]
    },
    {
      "cell_type": "markdown",
      "metadata": {},
      "source": [
        "# Dự đoán 30 ngày tiếp theo"
      ]
    },
    {
      "cell_type": "code",
      "execution_count": null,
      "metadata": {},
      "outputs": [
        {
          "name": "stdout",
          "output_type": "stream",
          "text": [
            "[0.05190546]\n",
            "101\n",
            "1 day input [0.02590304 0.02685361 0.02637833 0.02756654 0.02804183 0.02804183\n",
            " 0.02804183 0.02851711 0.02851711 0.02970532 0.03041825 0.03041825\n",
            " 0.0289924  0.0289924  0.02780418 0.0273289  0.0289924  0.0289924\n",
            " 0.03065589 0.02804183 0.03136882 0.03136882 0.02875475 0.02946768\n",
            " 0.03231939 0.03136882 0.02661597 0.02685361 0.02709125 0.02780418\n",
            " 0.0289924  0.02923004 0.02851711 0.02685361 0.02709125 0.02709125\n",
            " 0.02590304 0.02590304 0.02804183 0.0289924  0.02970532 0.02780418\n",
            " 0.02542776 0.02994297 0.02970532 0.03136882 0.0289924  0.02994297\n",
            " 0.02994297 0.02994297 0.02970532 0.02970532 0.02827947 0.02780418\n",
            " 0.0273289  0.02709125 0.02661597 0.0289924  0.0335076  0.03374525\n",
            " 0.0368346  0.03588403 0.03707224 0.03540875 0.03540875 0.03754753\n",
            " 0.03635932 0.03802281 0.04396388 0.04681559 0.04776616 0.04538973\n",
            " 0.04538973 0.05038023 0.04990494 0.05537072 0.0529943  0.04610266\n",
            " 0.04610266 0.04538973 0.04538973 0.04348859 0.04277567 0.04111217\n",
            " 0.04443916 0.04396388 0.04538973 0.04443916 0.04586502 0.04325095\n",
            " 0.04538973 0.04538973 0.04491445 0.0463403  0.04443916 0.04871673\n",
            " 0.0529943  0.05537072 0.05537072 0.05190546]\n",
            "1 day output [[0.05054153]]\n",
            "2 day input [0.02685361 0.02637833 0.02756654 0.02804183 0.02804183 0.02804183\n",
            " 0.02851711 0.02851711 0.02970532 0.03041825 0.03041825 0.0289924\n",
            " 0.0289924  0.02780418 0.0273289  0.0289924  0.0289924  0.03065589\n",
            " 0.02804183 0.03136882 0.03136882 0.02875475 0.02946768 0.03231939\n",
            " 0.03136882 0.02661597 0.02685361 0.02709125 0.02780418 0.0289924\n",
            " 0.02923004 0.02851711 0.02685361 0.02709125 0.02709125 0.02590304\n",
            " 0.02590304 0.02804183 0.0289924  0.02970532 0.02780418 0.02542776\n",
            " 0.02994297 0.02970532 0.03136882 0.0289924  0.02994297 0.02994297\n",
            " 0.02994297 0.02970532 0.02970532 0.02827947 0.02780418 0.0273289\n",
            " 0.02709125 0.02661597 0.0289924  0.0335076  0.03374525 0.0368346\n",
            " 0.03588403 0.03707224 0.03540875 0.03540875 0.03754753 0.03635932\n",
            " 0.03802281 0.04396388 0.04681559 0.04776616 0.04538973 0.04538973\n",
            " 0.05038023 0.04990494 0.05537072 0.0529943  0.04610266 0.04610266\n",
            " 0.04538973 0.04538973 0.04348859 0.04277567 0.04111217 0.04443916\n",
            " 0.04396388 0.04538973 0.04443916 0.04586502 0.04325095 0.04538973\n",
            " 0.04538973 0.04491445 0.0463403  0.04443916 0.04871673 0.0529943\n",
            " 0.05537072 0.05537072 0.05190546 0.05054153]\n"
          ]
        },
        {
          "name": "stdout",
          "output_type": "stream",
          "text": [
            "2 day output [[0.04821635]]\n",
            "3 day input [0.02637833 0.02756654 0.02804183 0.02804183 0.02804183 0.02851711\n",
            " 0.02851711 0.02970532 0.03041825 0.03041825 0.0289924  0.0289924\n",
            " 0.02780418 0.0273289  0.0289924  0.0289924  0.03065589 0.02804183\n",
            " 0.03136882 0.03136882 0.02875475 0.02946768 0.03231939 0.03136882\n",
            " 0.02661597 0.02685361 0.02709125 0.02780418 0.0289924  0.02923004\n",
            " 0.02851711 0.02685361 0.02709125 0.02709125 0.02590304 0.02590304\n",
            " 0.02804183 0.0289924  0.02970532 0.02780418 0.02542776 0.02994297\n",
            " 0.02970532 0.03136882 0.0289924  0.02994297 0.02994297 0.02994297\n",
            " 0.02970532 0.02970532 0.02827947 0.02780418 0.0273289  0.02709125\n",
            " 0.02661597 0.0289924  0.0335076  0.03374525 0.0368346  0.03588403\n",
            " 0.03707224 0.03540875 0.03540875 0.03754753 0.03635932 0.03802281\n",
            " 0.04396388 0.04681559 0.04776616 0.04538973 0.04538973 0.05038023\n",
            " 0.04990494 0.05537072 0.0529943  0.04610266 0.04610266 0.04538973\n",
            " 0.04538973 0.04348859 0.04277567 0.04111217 0.04443916 0.04396388\n",
            " 0.04538973 0.04443916 0.04586502 0.04325095 0.04538973 0.04538973\n",
            " 0.04491445 0.0463403  0.04443916 0.04871673 0.0529943  0.05537072\n",
            " 0.05537072 0.05190546 0.05054153 0.04821635]\n",
            "3 day output [[0.04170307]]\n",
            "4 day input [0.02756654 0.02804183 0.02804183 0.02804183 0.02851711 0.02851711\n",
            " 0.02970532 0.03041825 0.03041825 0.0289924  0.0289924  0.02780418\n",
            " 0.0273289  0.0289924  0.0289924  0.03065589 0.02804183 0.03136882\n",
            " 0.03136882 0.02875475 0.02946768 0.03231939 0.03136882 0.02661597\n",
            " 0.02685361 0.02709125 0.02780418 0.0289924  0.02923004 0.02851711\n",
            " 0.02685361 0.02709125 0.02709125 0.02590304 0.02590304 0.02804183\n",
            " 0.0289924  0.02970532 0.02780418 0.02542776 0.02994297 0.02970532\n",
            " 0.03136882 0.0289924  0.02994297 0.02994297 0.02994297 0.02970532\n",
            " 0.02970532 0.02827947 0.02780418 0.0273289  0.02709125 0.02661597\n",
            " 0.0289924  0.0335076  0.03374525 0.0368346  0.03588403 0.03707224\n",
            " 0.03540875 0.03540875 0.03754753 0.03635932 0.03802281 0.04396388\n",
            " 0.04681559 0.04776616 0.04538973 0.04538973 0.05038023 0.04990494\n",
            " 0.05537072 0.0529943  0.04610266 0.04610266 0.04538973 0.04538973\n",
            " 0.04348859 0.04277567 0.04111217 0.04443916 0.04396388 0.04538973\n",
            " 0.04443916 0.04586502 0.04325095 0.04538973 0.04538973 0.04491445\n",
            " 0.0463403  0.04443916 0.04871673 0.0529943  0.05537072 0.05537072\n",
            " 0.05190546 0.05054153 0.04821635 0.04170307]\n",
            "4 day output [[0.03824292]]\n",
            "5 day input [0.02804183 0.02804183 0.02804183 0.02851711 0.02851711 0.02970532\n",
            " 0.03041825 0.03041825 0.0289924  0.0289924  0.02780418 0.0273289\n",
            " 0.0289924  0.0289924  0.03065589 0.02804183 0.03136882 0.03136882\n",
            " 0.02875475 0.02946768 0.03231939 0.03136882 0.02661597 0.02685361\n",
            " 0.02709125 0.02780418 0.0289924  0.02923004 0.02851711 0.02685361\n",
            " 0.02709125 0.02709125 0.02590304 0.02590304 0.02804183 0.0289924\n",
            " 0.02970532 0.02780418 0.02542776 0.02994297 0.02970532 0.03136882\n",
            " 0.0289924  0.02994297 0.02994297 0.02994297 0.02970532 0.02970532\n",
            " 0.02827947 0.02780418 0.0273289  0.02709125 0.02661597 0.0289924\n",
            " 0.0335076  0.03374525 0.0368346  0.03588403 0.03707224 0.03540875\n",
            " 0.03540875 0.03754753 0.03635932 0.03802281 0.04396388 0.04681559\n",
            " 0.04776616 0.04538973 0.04538973 0.05038023 0.04990494 0.05537072\n",
            " 0.0529943  0.04610266 0.04610266 0.04538973 0.04538973 0.04348859\n",
            " 0.04277567 0.04111217 0.04443916 0.04396388 0.04538973 0.04443916\n",
            " 0.04586502 0.04325095 0.04538973 0.04538973 0.04491445 0.0463403\n",
            " 0.04443916 0.04871673 0.0529943  0.05537072 0.05537072 0.05190546\n",
            " 0.05054153 0.04821635 0.04170307 0.03824292]\n",
            "5 day output [[0.03222706]]\n",
            "6 day input [0.02804183 0.02804183 0.02851711 0.02851711 0.02970532 0.03041825\n",
            " 0.03041825 0.0289924  0.0289924  0.02780418 0.0273289  0.0289924\n",
            " 0.0289924  0.03065589 0.02804183 0.03136882 0.03136882 0.02875475\n",
            " 0.02946768 0.03231939 0.03136882 0.02661597 0.02685361 0.02709125\n",
            " 0.02780418 0.0289924  0.02923004 0.02851711 0.02685361 0.02709125\n",
            " 0.02709125 0.02590304 0.02590304 0.02804183 0.0289924  0.02970532\n",
            " 0.02780418 0.02542776 0.02994297 0.02970532 0.03136882 0.0289924\n",
            " 0.02994297 0.02994297 0.02994297 0.02970532 0.02970532 0.02827947\n",
            " 0.02780418 0.0273289  0.02709125 0.02661597 0.0289924  0.0335076\n",
            " 0.03374525 0.0368346  0.03588403 0.03707224 0.03540875 0.03540875\n",
            " 0.03754753 0.03635932 0.03802281 0.04396388 0.04681559 0.04776616\n",
            " 0.04538973 0.04538973 0.05038023 0.04990494 0.05537072 0.0529943\n",
            " 0.04610266 0.04610266 0.04538973 0.04538973 0.04348859 0.04277567\n",
            " 0.04111217 0.04443916 0.04396388 0.04538973 0.04443916 0.04586502\n",
            " 0.04325095 0.04538973 0.04538973 0.04491445 0.0463403  0.04443916\n",
            " 0.04871673 0.0529943  0.05537072 0.05537072 0.05190546 0.05054153\n",
            " 0.04821635 0.04170307 0.03824292 0.03222706]\n",
            "6 day output [[0.02888623]]\n",
            "7 day input [0.02804183 0.02851711 0.02851711 0.02970532 0.03041825 0.03041825\n",
            " 0.0289924  0.0289924  0.02780418 0.0273289  0.0289924  0.0289924\n",
            " 0.03065589 0.02804183 0.03136882 0.03136882 0.02875475 0.02946768\n",
            " 0.03231939 0.03136882 0.02661597 0.02685361 0.02709125 0.02780418\n",
            " 0.0289924  0.02923004 0.02851711 0.02685361 0.02709125 0.02709125\n",
            " 0.02590304 0.02590304 0.02804183 0.0289924  0.02970532 0.02780418\n",
            " 0.02542776 0.02994297 0.02970532 0.03136882 0.0289924  0.02994297\n",
            " 0.02994297 0.02994297 0.02970532 0.02970532 0.02827947 0.02780418\n",
            " 0.0273289  0.02709125 0.02661597 0.0289924  0.0335076  0.03374525\n",
            " 0.0368346  0.03588403 0.03707224 0.03540875 0.03540875 0.03754753\n",
            " 0.03635932 0.03802281 0.04396388 0.04681559 0.04776616 0.04538973\n",
            " 0.04538973 0.05038023 0.04990494 0.05537072 0.0529943  0.04610266\n",
            " 0.04610266 0.04538973 0.04538973 0.04348859 0.04277567 0.04111217\n",
            " 0.04443916 0.04396388 0.04538973 0.04443916 0.04586502 0.04325095\n",
            " 0.04538973 0.04538973 0.04491445 0.0463403  0.04443916 0.04871673\n",
            " 0.0529943  0.05537072 0.05537072 0.05190546 0.05054153 0.04821635\n",
            " 0.04170307 0.03824292 0.03222706 0.02888623]\n",
            "7 day output [[0.02901225]]\n",
            "8 day input [0.02851711 0.02851711 0.02970532 0.03041825 0.03041825 0.0289924\n",
            " 0.0289924  0.02780418 0.0273289  0.0289924  0.0289924  0.03065589\n",
            " 0.02804183 0.03136882 0.03136882 0.02875475 0.02946768 0.03231939\n",
            " 0.03136882 0.02661597 0.02685361 0.02709125 0.02780418 0.0289924\n",
            " 0.02923004 0.02851711 0.02685361 0.02709125 0.02709125 0.02590304\n",
            " 0.02590304 0.02804183 0.0289924  0.02970532 0.02780418 0.02542776\n",
            " 0.02994297 0.02970532 0.03136882 0.0289924  0.02994297 0.02994297\n",
            " 0.02994297 0.02970532 0.02970532 0.02827947 0.02780418 0.0273289\n",
            " 0.02709125 0.02661597 0.0289924  0.0335076  0.03374525 0.0368346\n",
            " 0.03588403 0.03707224 0.03540875 0.03540875 0.03754753 0.03635932\n",
            " 0.03802281 0.04396388 0.04681559 0.04776616 0.04538973 0.04538973\n",
            " 0.05038023 0.04990494 0.05537072 0.0529943  0.04610266 0.04610266\n",
            " 0.04538973 0.04538973 0.04348859 0.04277567 0.04111217 0.04443916\n",
            " 0.04396388 0.04538973 0.04443916 0.04586502 0.04325095 0.04538973\n",
            " 0.04538973 0.04491445 0.0463403  0.04443916 0.04871673 0.0529943\n",
            " 0.05537072 0.05537072 0.05190546 0.05054153 0.04821635 0.04170307\n",
            " 0.03824292 0.03222706 0.02888623 0.02901225]\n",
            "8 day output [[0.02620897]]\n",
            "9 day input [0.02851711 0.02970532 0.03041825 0.03041825 0.0289924  0.0289924\n",
            " 0.02780418 0.0273289  0.0289924  0.0289924  0.03065589 0.02804183\n",
            " 0.03136882 0.03136882 0.02875475 0.02946768 0.03231939 0.03136882\n",
            " 0.02661597 0.02685361 0.02709125 0.02780418 0.0289924  0.02923004\n",
            " 0.02851711 0.02685361 0.02709125 0.02709125 0.02590304 0.02590304\n",
            " 0.02804183 0.0289924  0.02970532 0.02780418 0.02542776 0.02994297\n",
            " 0.02970532 0.03136882 0.0289924  0.02994297 0.02994297 0.02994297\n",
            " 0.02970532 0.02970532 0.02827947 0.02780418 0.0273289  0.02709125\n",
            " 0.02661597 0.0289924  0.0335076  0.03374525 0.0368346  0.03588403\n",
            " 0.03707224 0.03540875 0.03540875 0.03754753 0.03635932 0.03802281\n",
            " 0.04396388 0.04681559 0.04776616 0.04538973 0.04538973 0.05038023\n",
            " 0.04990494 0.05537072 0.0529943  0.04610266 0.04610266 0.04538973\n",
            " 0.04538973 0.04348859 0.04277567 0.04111217 0.04443916 0.04396388\n",
            " 0.04538973 0.04443916 0.04586502 0.04325095 0.04538973 0.04538973\n",
            " 0.04491445 0.0463403  0.04443916 0.04871673 0.0529943  0.05537072\n",
            " 0.05537072 0.05190546 0.05054153 0.04821635 0.04170307 0.03824292\n",
            " 0.03222706 0.02888623 0.02901225 0.02620897]\n",
            "9 day output [[0.02670633]]\n",
            "10 day input [0.02970532 0.03041825 0.03041825 0.0289924  0.0289924  0.02780418\n",
            " 0.0273289  0.0289924  0.0289924  0.03065589 0.02804183 0.03136882\n",
            " 0.03136882 0.02875475 0.02946768 0.03231939 0.03136882 0.02661597\n",
            " 0.02685361 0.02709125 0.02780418 0.0289924  0.02923004 0.02851711\n",
            " 0.02685361 0.02709125 0.02709125 0.02590304 0.02590304 0.02804183\n",
            " 0.0289924  0.02970532 0.02780418 0.02542776 0.02994297 0.02970532\n",
            " 0.03136882 0.0289924  0.02994297 0.02994297 0.02994297 0.02970532\n",
            " 0.02970532 0.02827947 0.02780418 0.0273289  0.02709125 0.02661597\n",
            " 0.0289924  0.0335076  0.03374525 0.0368346  0.03588403 0.03707224\n",
            " 0.03540875 0.03540875 0.03754753 0.03635932 0.03802281 0.04396388\n",
            " 0.04681559 0.04776616 0.04538973 0.04538973 0.05038023 0.04990494\n",
            " 0.05537072 0.0529943  0.04610266 0.04610266 0.04538973 0.04538973\n",
            " 0.04348859 0.04277567 0.04111217 0.04443916 0.04396388 0.04538973\n",
            " 0.04443916 0.04586502 0.04325095 0.04538973 0.04538973 0.04491445\n",
            " 0.0463403  0.04443916 0.04871673 0.0529943  0.05537072 0.05537072\n",
            " 0.05190546 0.05054153 0.04821635 0.04170307 0.03824292 0.03222706\n",
            " 0.02888623 0.02901225 0.02620897 0.02670633]\n",
            "10 day output [[0.02117584]]\n",
            "11 day input [0.03041825 0.03041825 0.0289924  0.0289924  0.02780418 0.0273289\n",
            " 0.0289924  0.0289924  0.03065589 0.02804183 0.03136882 0.03136882\n",
            " 0.02875475 0.02946768 0.03231939 0.03136882 0.02661597 0.02685361\n",
            " 0.02709125 0.02780418 0.0289924  0.02923004 0.02851711 0.02685361\n",
            " 0.02709125 0.02709125 0.02590304 0.02590304 0.02804183 0.0289924\n",
            " 0.02970532 0.02780418 0.02542776 0.02994297 0.02970532 0.03136882\n",
            " 0.0289924  0.02994297 0.02994297 0.02994297 0.02970532 0.02970532\n",
            " 0.02827947 0.02780418 0.0273289  0.02709125 0.02661597 0.0289924\n",
            " 0.0335076  0.03374525 0.0368346  0.03588403 0.03707224 0.03540875\n",
            " 0.03540875 0.03754753 0.03635932 0.03802281 0.04396388 0.04681559\n",
            " 0.04776616 0.04538973 0.04538973 0.05038023 0.04990494 0.05537072\n",
            " 0.0529943  0.04610266 0.04610266 0.04538973 0.04538973 0.04348859\n",
            " 0.04277567 0.04111217 0.04443916 0.04396388 0.04538973 0.04443916\n",
            " 0.04586502 0.04325095 0.04538973 0.04538973 0.04491445 0.0463403\n",
            " 0.04443916 0.04871673 0.0529943  0.05537072 0.05537072 0.05190546\n",
            " 0.05054153 0.04821635 0.04170307 0.03824292 0.03222706 0.02888623\n",
            " 0.02901225 0.02620897 0.02670633 0.02117584]\n",
            "11 day output [[0.01880229]]\n",
            "12 day input [0.03041825 0.0289924  0.0289924  0.02780418 0.0273289  0.0289924\n",
            " 0.0289924  0.03065589 0.02804183 0.03136882 0.03136882 0.02875475\n",
            " 0.02946768 0.03231939 0.03136882 0.02661597 0.02685361 0.02709125\n",
            " 0.02780418 0.0289924  0.02923004 0.02851711 0.02685361 0.02709125\n",
            " 0.02709125 0.02590304 0.02590304 0.02804183 0.0289924  0.02970532\n",
            " 0.02780418 0.02542776 0.02994297 0.02970532 0.03136882 0.0289924\n",
            " 0.02994297 0.02994297 0.02994297 0.02970532 0.02970532 0.02827947\n",
            " 0.02780418 0.0273289  0.02709125 0.02661597 0.0289924  0.0335076\n",
            " 0.03374525 0.0368346  0.03588403 0.03707224 0.03540875 0.03540875\n",
            " 0.03754753 0.03635932 0.03802281 0.04396388 0.04681559 0.04776616\n",
            " 0.04538973 0.04538973 0.05038023 0.04990494 0.05537072 0.0529943\n",
            " 0.04610266 0.04610266 0.04538973 0.04538973 0.04348859 0.04277567\n",
            " 0.04111217 0.04443916 0.04396388 0.04538973 0.04443916 0.04586502\n",
            " 0.04325095 0.04538973 0.04538973 0.04491445 0.0463403  0.04443916\n",
            " 0.04871673 0.0529943  0.05537072 0.05537072 0.05190546 0.05054153\n",
            " 0.04821635 0.04170307 0.03824292 0.03222706 0.02888623 0.02901225\n",
            " 0.02620897 0.02670633 0.02117584 0.01880229]\n",
            "12 day output [[0.01929436]]\n",
            "13 day input [0.0289924  0.0289924  0.02780418 0.0273289  0.0289924  0.0289924\n",
            " 0.03065589 0.02804183 0.03136882 0.03136882 0.02875475 0.02946768\n",
            " 0.03231939 0.03136882 0.02661597 0.02685361 0.02709125 0.02780418\n",
            " 0.0289924  0.02923004 0.02851711 0.02685361 0.02709125 0.02709125\n",
            " 0.02590304 0.02590304 0.02804183 0.0289924  0.02970532 0.02780418\n",
            " 0.02542776 0.02994297 0.02970532 0.03136882 0.0289924  0.02994297\n",
            " 0.02994297 0.02994297 0.02970532 0.02970532 0.02827947 0.02780418\n",
            " 0.0273289  0.02709125 0.02661597 0.0289924  0.0335076  0.03374525\n",
            " 0.0368346  0.03588403 0.03707224 0.03540875 0.03540875 0.03754753\n",
            " 0.03635932 0.03802281 0.04396388 0.04681559 0.04776616 0.04538973\n",
            " 0.04538973 0.05038023 0.04990494 0.05537072 0.0529943  0.04610266\n",
            " 0.04610266 0.04538973 0.04538973 0.04348859 0.04277567 0.04111217\n",
            " 0.04443916 0.04396388 0.04538973 0.04443916 0.04586502 0.04325095\n",
            " 0.04538973 0.04538973 0.04491445 0.0463403  0.04443916 0.04871673\n",
            " 0.0529943  0.05537072 0.05537072 0.05190546 0.05054153 0.04821635\n",
            " 0.04170307 0.03824292 0.03222706 0.02888623 0.02901225 0.02620897\n",
            " 0.02670633 0.02117584 0.01880229 0.01929436]\n",
            "13 day output [[0.01304425]]\n",
            "14 day input [0.0289924  0.02780418 0.0273289  0.0289924  0.0289924  0.03065589\n",
            " 0.02804183 0.03136882 0.03136882 0.02875475 0.02946768 0.03231939\n",
            " 0.03136882 0.02661597 0.02685361 0.02709125 0.02780418 0.0289924\n",
            " 0.02923004 0.02851711 0.02685361 0.02709125 0.02709125 0.02590304\n",
            " 0.02590304 0.02804183 0.0289924  0.02970532 0.02780418 0.02542776\n",
            " 0.02994297 0.02970532 0.03136882 0.0289924  0.02994297 0.02994297\n",
            " 0.02994297 0.02970532 0.02970532 0.02827947 0.02780418 0.0273289\n",
            " 0.02709125 0.02661597 0.0289924  0.0335076  0.03374525 0.0368346\n",
            " 0.03588403 0.03707224 0.03540875 0.03540875 0.03754753 0.03635932\n",
            " 0.03802281 0.04396388 0.04681559 0.04776616 0.04538973 0.04538973\n",
            " 0.05038023 0.04990494 0.05537072 0.0529943  0.04610266 0.04610266\n",
            " 0.04538973 0.04538973 0.04348859 0.04277567 0.04111217 0.04443916\n",
            " 0.04396388 0.04538973 0.04443916 0.04586502 0.04325095 0.04538973\n",
            " 0.04538973 0.04491445 0.0463403  0.04443916 0.04871673 0.0529943\n",
            " 0.05537072 0.05537072 0.05190546 0.05054153 0.04821635 0.04170307\n",
            " 0.03824292 0.03222706 0.02888623 0.02901225 0.02620897 0.02670633\n",
            " 0.02117584 0.01880229 0.01929436 0.01304425]\n",
            "14 day output [[0.0113203]]\n",
            "15 day input [0.02780418 0.0273289  0.0289924  0.0289924  0.03065589 0.02804183\n",
            " 0.03136882 0.03136882 0.02875475 0.02946768 0.03231939 0.03136882\n",
            " 0.02661597 0.02685361 0.02709125 0.02780418 0.0289924  0.02923004\n",
            " 0.02851711 0.02685361 0.02709125 0.02709125 0.02590304 0.02590304\n",
            " 0.02804183 0.0289924  0.02970532 0.02780418 0.02542776 0.02994297\n",
            " 0.02970532 0.03136882 0.0289924  0.02994297 0.02994297 0.02994297\n",
            " 0.02970532 0.02970532 0.02827947 0.02780418 0.0273289  0.02709125\n",
            " 0.02661597 0.0289924  0.0335076  0.03374525 0.0368346  0.03588403\n",
            " 0.03707224 0.03540875 0.03540875 0.03754753 0.03635932 0.03802281\n",
            " 0.04396388 0.04681559 0.04776616 0.04538973 0.04538973 0.05038023\n",
            " 0.04990494 0.05537072 0.0529943  0.04610266 0.04610266 0.04538973\n",
            " 0.04538973 0.04348859 0.04277567 0.04111217 0.04443916 0.04396388\n",
            " 0.04538973 0.04443916 0.04586502 0.04325095 0.04538973 0.04538973\n",
            " 0.04491445 0.0463403  0.04443916 0.04871673 0.0529943  0.05537072\n",
            " 0.05537072 0.05190546 0.05054153 0.04821635 0.04170307 0.03824292\n",
            " 0.03222706 0.02888623 0.02901225 0.02620897 0.02670633 0.02117584\n",
            " 0.01880229 0.01929436 0.01304425 0.0113203 ]\n",
            "15 day output [[0.00759527]]\n",
            "16 day input [0.0273289  0.0289924  0.0289924  0.03065589 0.02804183 0.03136882\n",
            " 0.03136882 0.02875475 0.02946768 0.03231939 0.03136882 0.02661597\n",
            " 0.02685361 0.02709125 0.02780418 0.0289924  0.02923004 0.02851711\n",
            " 0.02685361 0.02709125 0.02709125 0.02590304 0.02590304 0.02804183\n",
            " 0.0289924  0.02970532 0.02780418 0.02542776 0.02994297 0.02970532\n",
            " 0.03136882 0.0289924  0.02994297 0.02994297 0.02994297 0.02970532\n",
            " 0.02970532 0.02827947 0.02780418 0.0273289  0.02709125 0.02661597\n",
            " 0.0289924  0.0335076  0.03374525 0.0368346  0.03588403 0.03707224\n",
            " 0.03540875 0.03540875 0.03754753 0.03635932 0.03802281 0.04396388\n",
            " 0.04681559 0.04776616 0.04538973 0.04538973 0.05038023 0.04990494\n",
            " 0.05537072 0.0529943  0.04610266 0.04610266 0.04538973 0.04538973\n",
            " 0.04348859 0.04277567 0.04111217 0.04443916 0.04396388 0.04538973\n",
            " 0.04443916 0.04586502 0.04325095 0.04538973 0.04538973 0.04491445\n",
            " 0.0463403  0.04443916 0.04871673 0.0529943  0.05537072 0.05537072\n",
            " 0.05190546 0.05054153 0.04821635 0.04170307 0.03824292 0.03222706\n",
            " 0.02888623 0.02901225 0.02620897 0.02670633 0.02117584 0.01880229\n",
            " 0.01929436 0.01304425 0.0113203  0.00759527]\n",
            "16 day output [[0.0040535]]\n",
            "17 day input [0.0289924  0.0289924  0.03065589 0.02804183 0.03136882 0.03136882\n",
            " 0.02875475 0.02946768 0.03231939 0.03136882 0.02661597 0.02685361\n",
            " 0.02709125 0.02780418 0.0289924  0.02923004 0.02851711 0.02685361\n",
            " 0.02709125 0.02709125 0.02590304 0.02590304 0.02804183 0.0289924\n",
            " 0.02970532 0.02780418 0.02542776 0.02994297 0.02970532 0.03136882\n",
            " 0.0289924  0.02994297 0.02994297 0.02994297 0.02970532 0.02970532\n",
            " 0.02827947 0.02780418 0.0273289  0.02709125 0.02661597 0.0289924\n",
            " 0.0335076  0.03374525 0.0368346  0.03588403 0.03707224 0.03540875\n",
            " 0.03540875 0.03754753 0.03635932 0.03802281 0.04396388 0.04681559\n",
            " 0.04776616 0.04538973 0.04538973 0.05038023 0.04990494 0.05537072\n",
            " 0.0529943  0.04610266 0.04610266 0.04538973 0.04538973 0.04348859\n",
            " 0.04277567 0.04111217 0.04443916 0.04396388 0.04538973 0.04443916\n",
            " 0.04586502 0.04325095 0.04538973 0.04538973 0.04491445 0.0463403\n",
            " 0.04443916 0.04871673 0.0529943  0.05537072 0.05537072 0.05190546\n",
            " 0.05054153 0.04821635 0.04170307 0.03824292 0.03222706 0.02888623\n",
            " 0.02901225 0.02620897 0.02670633 0.02117584 0.01880229 0.01929436\n",
            " 0.01304425 0.0113203  0.00759527 0.0040535 ]\n",
            "17 day output [[0.00113051]]\n",
            "18 day input [0.0289924  0.03065589 0.02804183 0.03136882 0.03136882 0.02875475\n",
            " 0.02946768 0.03231939 0.03136882 0.02661597 0.02685361 0.02709125\n",
            " 0.02780418 0.0289924  0.02923004 0.02851711 0.02685361 0.02709125\n",
            " 0.02709125 0.02590304 0.02590304 0.02804183 0.0289924  0.02970532\n",
            " 0.02780418 0.02542776 0.02994297 0.02970532 0.03136882 0.0289924\n",
            " 0.02994297 0.02994297 0.02994297 0.02970532 0.02970532 0.02827947\n",
            " 0.02780418 0.0273289  0.02709125 0.02661597 0.0289924  0.0335076\n",
            " 0.03374525 0.0368346  0.03588403 0.03707224 0.03540875 0.03540875\n",
            " 0.03754753 0.03635932 0.03802281 0.04396388 0.04681559 0.04776616\n",
            " 0.04538973 0.04538973 0.05038023 0.04990494 0.05537072 0.0529943\n",
            " 0.04610266 0.04610266 0.04538973 0.04538973 0.04348859 0.04277567\n",
            " 0.04111217 0.04443916 0.04396388 0.04538973 0.04443916 0.04586502\n",
            " 0.04325095 0.04538973 0.04538973 0.04491445 0.0463403  0.04443916\n",
            " 0.04871673 0.0529943  0.05537072 0.05537072 0.05190546 0.05054153\n",
            " 0.04821635 0.04170307 0.03824292 0.03222706 0.02888623 0.02901225\n",
            " 0.02620897 0.02670633 0.02117584 0.01880229 0.01929436 0.01304425\n",
            " 0.0113203  0.00759527 0.0040535  0.00113051]\n",
            "18 day output [[-0.00203456]]\n",
            "19 day input [ 0.03065589  0.02804183  0.03136882  0.03136882  0.02875475  0.02946768\n",
            "  0.03231939  0.03136882  0.02661597  0.02685361  0.02709125  0.02780418\n",
            "  0.0289924   0.02923004  0.02851711  0.02685361  0.02709125  0.02709125\n",
            "  0.02590304  0.02590304  0.02804183  0.0289924   0.02970532  0.02780418\n",
            "  0.02542776  0.02994297  0.02970532  0.03136882  0.0289924   0.02994297\n",
            "  0.02994297  0.02994297  0.02970532  0.02970532  0.02827947  0.02780418\n",
            "  0.0273289   0.02709125  0.02661597  0.0289924   0.0335076   0.03374525\n",
            "  0.0368346   0.03588403  0.03707224  0.03540875  0.03540875  0.03754753\n",
            "  0.03635932  0.03802281  0.04396388  0.04681559  0.04776616  0.04538973\n",
            "  0.04538973  0.05038023  0.04990494  0.05537072  0.0529943   0.04610266\n",
            "  0.04610266  0.04538973  0.04538973  0.04348859  0.04277567  0.04111217\n",
            "  0.04443916  0.04396388  0.04538973  0.04443916  0.04586502  0.04325095\n",
            "  0.04538973  0.04538973  0.04491445  0.0463403   0.04443916  0.04871673\n",
            "  0.0529943   0.05537072  0.05537072  0.05190546  0.05054153  0.04821635\n",
            "  0.04170307  0.03824292  0.03222706  0.02888623  0.02901225  0.02620897\n",
            "  0.02670633  0.02117584  0.01880229  0.01929436  0.01304425  0.0113203\n",
            "  0.00759527  0.0040535   0.00113051 -0.00203456]\n",
            "19 day output [[-0.00720507]]\n",
            "20 day input [ 0.02804183  0.03136882  0.03136882  0.02875475  0.02946768  0.03231939\n",
            "  0.03136882  0.02661597  0.02685361  0.02709125  0.02780418  0.0289924\n",
            "  0.02923004  0.02851711  0.02685361  0.02709125  0.02709125  0.02590304\n",
            "  0.02590304  0.02804183  0.0289924   0.02970532  0.02780418  0.02542776\n",
            "  0.02994297  0.02970532  0.03136882  0.0289924   0.02994297  0.02994297\n",
            "  0.02994297  0.02970532  0.02970532  0.02827947  0.02780418  0.0273289\n",
            "  0.02709125  0.02661597  0.0289924   0.0335076   0.03374525  0.0368346\n",
            "  0.03588403  0.03707224  0.03540875  0.03540875  0.03754753  0.03635932\n",
            "  0.03802281  0.04396388  0.04681559  0.04776616  0.04538973  0.04538973\n",
            "  0.05038023  0.04990494  0.05537072  0.0529943   0.04610266  0.04610266\n",
            "  0.04538973  0.04538973  0.04348859  0.04277567  0.04111217  0.04443916\n",
            "  0.04396388  0.04538973  0.04443916  0.04586502  0.04325095  0.04538973\n",
            "  0.04538973  0.04491445  0.0463403   0.04443916  0.04871673  0.0529943\n",
            "  0.05537072  0.05537072  0.05190546  0.05054153  0.04821635  0.04170307\n",
            "  0.03824292  0.03222706  0.02888623  0.02901225  0.02620897  0.02670633\n",
            "  0.02117584  0.01880229  0.01929436  0.01304425  0.0113203   0.00759527\n",
            "  0.0040535   0.00113051 -0.00203456 -0.00720507]\n",
            "20 day output [[-0.01319643]]\n",
            "21 day input [ 0.03136882  0.03136882  0.02875475  0.02946768  0.03231939  0.03136882\n",
            "  0.02661597  0.02685361  0.02709125  0.02780418  0.0289924   0.02923004\n",
            "  0.02851711  0.02685361  0.02709125  0.02709125  0.02590304  0.02590304\n",
            "  0.02804183  0.0289924   0.02970532  0.02780418  0.02542776  0.02994297\n",
            "  0.02970532  0.03136882  0.0289924   0.02994297  0.02994297  0.02994297\n",
            "  0.02970532  0.02970532  0.02827947  0.02780418  0.0273289   0.02709125\n",
            "  0.02661597  0.0289924   0.0335076   0.03374525  0.0368346   0.03588403\n",
            "  0.03707224  0.03540875  0.03540875  0.03754753  0.03635932  0.03802281\n",
            "  0.04396388  0.04681559  0.04776616  0.04538973  0.04538973  0.05038023\n",
            "  0.04990494  0.05537072  0.0529943   0.04610266  0.04610266  0.04538973\n",
            "  0.04538973  0.04348859  0.04277567  0.04111217  0.04443916  0.04396388\n",
            "  0.04538973  0.04443916  0.04586502  0.04325095  0.04538973  0.04538973\n",
            "  0.04491445  0.0463403   0.04443916  0.04871673  0.0529943   0.05537072\n",
            "  0.05537072  0.05190546  0.05054153  0.04821635  0.04170307  0.03824292\n",
            "  0.03222706  0.02888623  0.02901225  0.02620897  0.02670633  0.02117584\n",
            "  0.01880229  0.01929436  0.01304425  0.0113203   0.00759527  0.0040535\n",
            "  0.00113051 -0.00203456 -0.00720507 -0.01319643]\n",
            "21 day output [[-0.01681806]]\n",
            "22 day input [ 0.03136882  0.02875475  0.02946768  0.03231939  0.03136882  0.02661597\n",
            "  0.02685361  0.02709125  0.02780418  0.0289924   0.02923004  0.02851711\n",
            "  0.02685361  0.02709125  0.02709125  0.02590304  0.02590304  0.02804183\n",
            "  0.0289924   0.02970532  0.02780418  0.02542776  0.02994297  0.02970532\n",
            "  0.03136882  0.0289924   0.02994297  0.02994297  0.02994297  0.02970532\n",
            "  0.02970532  0.02827947  0.02780418  0.0273289   0.02709125  0.02661597\n",
            "  0.0289924   0.0335076   0.03374525  0.0368346   0.03588403  0.03707224\n",
            "  0.03540875  0.03540875  0.03754753  0.03635932  0.03802281  0.04396388\n",
            "  0.04681559  0.04776616  0.04538973  0.04538973  0.05038023  0.04990494\n",
            "  0.05537072  0.0529943   0.04610266  0.04610266  0.04538973  0.04538973\n",
            "  0.04348859  0.04277567  0.04111217  0.04443916  0.04396388  0.04538973\n",
            "  0.04443916  0.04586502  0.04325095  0.04538973  0.04538973  0.04491445\n",
            "  0.0463403   0.04443916  0.04871673  0.0529943   0.05537072  0.05537072\n",
            "  0.05190546  0.05054153  0.04821635  0.04170307  0.03824292  0.03222706\n",
            "  0.02888623  0.02901225  0.02620897  0.02670633  0.02117584  0.01880229\n",
            "  0.01929436  0.01304425  0.0113203   0.00759527  0.0040535   0.00113051\n",
            " -0.00203456 -0.00720507 -0.01319643 -0.01681806]\n",
            "22 day output [[-0.01684347]]\n",
            "23 day input [ 0.02875475  0.02946768  0.03231939  0.03136882  0.02661597  0.02685361\n",
            "  0.02709125  0.02780418  0.0289924   0.02923004  0.02851711  0.02685361\n",
            "  0.02709125  0.02709125  0.02590304  0.02590304  0.02804183  0.0289924\n",
            "  0.02970532  0.02780418  0.02542776  0.02994297  0.02970532  0.03136882\n",
            "  0.0289924   0.02994297  0.02994297  0.02994297  0.02970532  0.02970532\n",
            "  0.02827947  0.02780418  0.0273289   0.02709125  0.02661597  0.0289924\n",
            "  0.0335076   0.03374525  0.0368346   0.03588403  0.03707224  0.03540875\n",
            "  0.03540875  0.03754753  0.03635932  0.03802281  0.04396388  0.04681559\n",
            "  0.04776616  0.04538973  0.04538973  0.05038023  0.04990494  0.05537072\n",
            "  0.0529943   0.04610266  0.04610266  0.04538973  0.04538973  0.04348859\n",
            "  0.04277567  0.04111217  0.04443916  0.04396388  0.04538973  0.04443916\n",
            "  0.04586502  0.04325095  0.04538973  0.04538973  0.04491445  0.0463403\n",
            "  0.04443916  0.04871673  0.0529943   0.05537072  0.05537072  0.05190546\n",
            "  0.05054153  0.04821635  0.04170307  0.03824292  0.03222706  0.02888623\n",
            "  0.02901225  0.02620897  0.02670633  0.02117584  0.01880229  0.01929436\n",
            "  0.01304425  0.0113203   0.00759527  0.0040535   0.00113051 -0.00203456\n",
            " -0.00720507 -0.01319643 -0.01681806 -0.01684347]\n",
            "23 day output [[-0.01907544]]\n",
            "24 day input [ 0.02946768  0.03231939  0.03136882  0.02661597  0.02685361  0.02709125\n",
            "  0.02780418  0.0289924   0.02923004  0.02851711  0.02685361  0.02709125\n",
            "  0.02709125  0.02590304  0.02590304  0.02804183  0.0289924   0.02970532\n",
            "  0.02780418  0.02542776  0.02994297  0.02970532  0.03136882  0.0289924\n",
            "  0.02994297  0.02994297  0.02994297  0.02970532  0.02970532  0.02827947\n",
            "  0.02780418  0.0273289   0.02709125  0.02661597  0.0289924   0.0335076\n",
            "  0.03374525  0.0368346   0.03588403  0.03707224  0.03540875  0.03540875\n",
            "  0.03754753  0.03635932  0.03802281  0.04396388  0.04681559  0.04776616\n",
            "  0.04538973  0.04538973  0.05038023  0.04990494  0.05537072  0.0529943\n",
            "  0.04610266  0.04610266  0.04538973  0.04538973  0.04348859  0.04277567\n",
            "  0.04111217  0.04443916  0.04396388  0.04538973  0.04443916  0.04586502\n",
            "  0.04325095  0.04538973  0.04538973  0.04491445  0.0463403   0.04443916\n",
            "  0.04871673  0.0529943   0.05537072  0.05537072  0.05190546  0.05054153\n",
            "  0.04821635  0.04170307  0.03824292  0.03222706  0.02888623  0.02901225\n",
            "  0.02620897  0.02670633  0.02117584  0.01880229  0.01929436  0.01304425\n",
            "  0.0113203   0.00759527  0.0040535   0.00113051 -0.00203456 -0.00720507\n",
            " -0.01319643 -0.01681806 -0.01684347 -0.01907544]\n",
            "24 day output [[-0.01925413]]\n",
            "25 day input [ 0.03231939  0.03136882  0.02661597  0.02685361  0.02709125  0.02780418\n",
            "  0.0289924   0.02923004  0.02851711  0.02685361  0.02709125  0.02709125\n",
            "  0.02590304  0.02590304  0.02804183  0.0289924   0.02970532  0.02780418\n",
            "  0.02542776  0.02994297  0.02970532  0.03136882  0.0289924   0.02994297\n",
            "  0.02994297  0.02994297  0.02970532  0.02970532  0.02827947  0.02780418\n",
            "  0.0273289   0.02709125  0.02661597  0.0289924   0.0335076   0.03374525\n",
            "  0.0368346   0.03588403  0.03707224  0.03540875  0.03540875  0.03754753\n",
            "  0.03635932  0.03802281  0.04396388  0.04681559  0.04776616  0.04538973\n",
            "  0.04538973  0.05038023  0.04990494  0.05537072  0.0529943   0.04610266\n",
            "  0.04610266  0.04538973  0.04538973  0.04348859  0.04277567  0.04111217\n",
            "  0.04443916  0.04396388  0.04538973  0.04443916  0.04586502  0.04325095\n",
            "  0.04538973  0.04538973  0.04491445  0.0463403   0.04443916  0.04871673\n",
            "  0.0529943   0.05537072  0.05537072  0.05190546  0.05054153  0.04821635\n",
            "  0.04170307  0.03824292  0.03222706  0.02888623  0.02901225  0.02620897\n",
            "  0.02670633  0.02117584  0.01880229  0.01929436  0.01304425  0.0113203\n",
            "  0.00759527  0.0040535   0.00113051 -0.00203456 -0.00720507 -0.01319643\n",
            " -0.01681806 -0.01684347 -0.01907544 -0.01925413]\n",
            "25 day output [[-0.02544627]]\n",
            "26 day input [ 0.03136882  0.02661597  0.02685361  0.02709125  0.02780418  0.0289924\n",
            "  0.02923004  0.02851711  0.02685361  0.02709125  0.02709125  0.02590304\n",
            "  0.02590304  0.02804183  0.0289924   0.02970532  0.02780418  0.02542776\n",
            "  0.02994297  0.02970532  0.03136882  0.0289924   0.02994297  0.02994297\n",
            "  0.02994297  0.02970532  0.02970532  0.02827947  0.02780418  0.0273289\n",
            "  0.02709125  0.02661597  0.0289924   0.0335076   0.03374525  0.0368346\n",
            "  0.03588403  0.03707224  0.03540875  0.03540875  0.03754753  0.03635932\n",
            "  0.03802281  0.04396388  0.04681559  0.04776616  0.04538973  0.04538973\n",
            "  0.05038023  0.04990494  0.05537072  0.0529943   0.04610266  0.04610266\n",
            "  0.04538973  0.04538973  0.04348859  0.04277567  0.04111217  0.04443916\n",
            "  0.04396388  0.04538973  0.04443916  0.04586502  0.04325095  0.04538973\n",
            "  0.04538973  0.04491445  0.0463403   0.04443916  0.04871673  0.0529943\n",
            "  0.05537072  0.05537072  0.05190546  0.05054153  0.04821635  0.04170307\n",
            "  0.03824292  0.03222706  0.02888623  0.02901225  0.02620897  0.02670633\n",
            "  0.02117584  0.01880229  0.01929436  0.01304425  0.0113203   0.00759527\n",
            "  0.0040535   0.00113051 -0.00203456 -0.00720507 -0.01319643 -0.01681806\n",
            " -0.01684347 -0.01907544 -0.01925413 -0.02544627]\n",
            "26 day output [[-0.02929907]]\n",
            "27 day input [ 0.02661597  0.02685361  0.02709125  0.02780418  0.0289924   0.02923004\n",
            "  0.02851711  0.02685361  0.02709125  0.02709125  0.02590304  0.02590304\n",
            "  0.02804183  0.0289924   0.02970532  0.02780418  0.02542776  0.02994297\n",
            "  0.02970532  0.03136882  0.0289924   0.02994297  0.02994297  0.02994297\n",
            "  0.02970532  0.02970532  0.02827947  0.02780418  0.0273289   0.02709125\n",
            "  0.02661597  0.0289924   0.0335076   0.03374525  0.0368346   0.03588403\n",
            "  0.03707224  0.03540875  0.03540875  0.03754753  0.03635932  0.03802281\n",
            "  0.04396388  0.04681559  0.04776616  0.04538973  0.04538973  0.05038023\n",
            "  0.04990494  0.05537072  0.0529943   0.04610266  0.04610266  0.04538973\n",
            "  0.04538973  0.04348859  0.04277567  0.04111217  0.04443916  0.04396388\n",
            "  0.04538973  0.04443916  0.04586502  0.04325095  0.04538973  0.04538973\n",
            "  0.04491445  0.0463403   0.04443916  0.04871673  0.0529943   0.05537072\n",
            "  0.05537072  0.05190546  0.05054153  0.04821635  0.04170307  0.03824292\n",
            "  0.03222706  0.02888623  0.02901225  0.02620897  0.02670633  0.02117584\n",
            "  0.01880229  0.01929436  0.01304425  0.0113203   0.00759527  0.0040535\n",
            "  0.00113051 -0.00203456 -0.00720507 -0.01319643 -0.01681806 -0.01684347\n",
            " -0.01907544 -0.01925413 -0.02544627 -0.02929907]\n",
            "27 day output [[-0.03048686]]\n",
            "28 day input [ 0.02685361  0.02709125  0.02780418  0.0289924   0.02923004  0.02851711\n",
            "  0.02685361  0.02709125  0.02709125  0.02590304  0.02590304  0.02804183\n",
            "  0.0289924   0.02970532  0.02780418  0.02542776  0.02994297  0.02970532\n",
            "  0.03136882  0.0289924   0.02994297  0.02994297  0.02994297  0.02970532\n",
            "  0.02970532  0.02827947  0.02780418  0.0273289   0.02709125  0.02661597\n",
            "  0.0289924   0.0335076   0.03374525  0.0368346   0.03588403  0.03707224\n",
            "  0.03540875  0.03540875  0.03754753  0.03635932  0.03802281  0.04396388\n",
            "  0.04681559  0.04776616  0.04538973  0.04538973  0.05038023  0.04990494\n",
            "  0.05537072  0.0529943   0.04610266  0.04610266  0.04538973  0.04538973\n",
            "  0.04348859  0.04277567  0.04111217  0.04443916  0.04396388  0.04538973\n",
            "  0.04443916  0.04586502  0.04325095  0.04538973  0.04538973  0.04491445\n",
            "  0.0463403   0.04443916  0.04871673  0.0529943   0.05537072  0.05537072\n",
            "  0.05190546  0.05054153  0.04821635  0.04170307  0.03824292  0.03222706\n",
            "  0.02888623  0.02901225  0.02620897  0.02670633  0.02117584  0.01880229\n",
            "  0.01929436  0.01304425  0.0113203   0.00759527  0.0040535   0.00113051\n",
            " -0.00203456 -0.00720507 -0.01319643 -0.01681806 -0.01684347 -0.01907544\n",
            " -0.01925413 -0.02544627 -0.02929907 -0.03048686]\n",
            "28 day output [[-0.03579174]]\n",
            "29 day input [ 0.02709125  0.02780418  0.0289924   0.02923004  0.02851711  0.02685361\n",
            "  0.02709125  0.02709125  0.02590304  0.02590304  0.02804183  0.0289924\n",
            "  0.02970532  0.02780418  0.02542776  0.02994297  0.02970532  0.03136882\n",
            "  0.0289924   0.02994297  0.02994297  0.02994297  0.02970532  0.02970532\n",
            "  0.02827947  0.02780418  0.0273289   0.02709125  0.02661597  0.0289924\n",
            "  0.0335076   0.03374525  0.0368346   0.03588403  0.03707224  0.03540875\n",
            "  0.03540875  0.03754753  0.03635932  0.03802281  0.04396388  0.04681559\n",
            "  0.04776616  0.04538973  0.04538973  0.05038023  0.04990494  0.05537072\n",
            "  0.0529943   0.04610266  0.04610266  0.04538973  0.04538973  0.04348859\n",
            "  0.04277567  0.04111217  0.04443916  0.04396388  0.04538973  0.04443916\n",
            "  0.04586502  0.04325095  0.04538973  0.04538973  0.04491445  0.0463403\n",
            "  0.04443916  0.04871673  0.0529943   0.05537072  0.05537072  0.05190546\n",
            "  0.05054153  0.04821635  0.04170307  0.03824292  0.03222706  0.02888623\n",
            "  0.02901225  0.02620897  0.02670633  0.02117584  0.01880229  0.01929436\n",
            "  0.01304425  0.0113203   0.00759527  0.0040535   0.00113051 -0.00203456\n",
            " -0.00720507 -0.01319643 -0.01681806 -0.01684347 -0.01907544 -0.01925413\n",
            " -0.02544627 -0.02929907 -0.03048686 -0.03579174]\n",
            "29 day output [[-0.03691887]]\n"
          ]
        }
      ],
      "source": [
        "\n",
        "# 13. Predict the next 30 days\n",
        "x_input = test_data[-100:].reshape(1, -1)\n",
        "x_input.shape\n",
        "\n",
        "temp_input = list(x_input)\n",
        "temp_input = temp_input[0].tolist()\n",
        "\n",
        "from numpy import array\n",
        "\n",
        "lst_output = []\n",
        "n_steps = 100\n",
        "i = 0\n",
        "while i < 30:\n",
        "    if len(temp_input) > 100:\n",
        "        x_input = np.array(temp_input[1:])\n",
        "        print(\"{} day input {}\".format(i, x_input))\n",
        "        x_input = x_input.reshape(1, -1)\n",
        "        x_input = x_input.reshape((1, n_steps, 1))\n",
        "        yhat = model.predict(x_input, verbose=0)\n",
        "        print(\"{} day output {}\".format(i, yhat))\n",
        "        temp_input.extend(yhat[0].tolist())\n",
        "        temp_input = temp_input[1:]\n",
        "        lst_output.extend(yhat.tolist())\n",
        "        i += 1\n",
        "    else:\n",
        "        x_input = x_input.reshape((1, n_steps, 1))\n",
        "        yhat = model.predict(x_input, verbose=0)\n",
        "        print(yhat[0])\n",
        "        temp_input.extend(yhat[0].tolist())\n",
        "        print(len(temp_input))\n",
        "        lst_output.extend(yhat.tolist())\n",
        "        i += 1"
      ]
    },
    {
      "cell_type": "code",
      "execution_count": null,
      "metadata": {},
      "outputs": [
        {
          "data": {
            "image/png": "[encoded data removed]",
            "text/plain": [
              "<Figure size 640x480 with 1 Axes>"
            ]
          },
          "metadata": {},
          "output_type": "display_data"
        }
      ],
      "source": [
        "\n",
        "# 14.Vẽ hình\n",
        "train_data_index = pd.RangeIndex(start=0, stop=train_size, step=1)\n",
        "plt.plot(scaler.inverse_transform(train_data))\n",
        "test_data_index = pd.RangeIndex(start=train_size, stop=train_size+test_size, step=1)\n",
        "plt.plot(test_data_index,scaler.inverse_transform(test_data))\n",
        "test_data_index = pd.RangeIndex(start=train_size+101, stop=train_size+test_size, step=1)\n",
        "plt.plot(test_data_index,(y_pred))\n",
        "prediect_data_index = pd.RangeIndex(start=len(df1)-1, stop=len(df1)+29, step=1)\n",
        "plt.plot(prediect_data_index,scaler.inverse_transform(lst_output))\n",
        "plt.legend(['Train','Test','Predict','Predict30days'])\n",
        "plt.show()"
      ]
    },
    {
      "cell_type": "code",
      "execution_count": null,
      "metadata": {},
      "outputs": [
        {
          "data": {
            "image/png": "[encoded data removed]",
            "text/plain": [
              "<Figure size 640x480 with 1 Axes>"
            ]
          },
          "metadata": {},
          "output_type": "display_data"
        }
      ],
      "source": [
        "# 14.Vẽ hình\n",
        "# Dự đoán 30 ngày tiếp theo\n",
        "prediect_data_index = pd.RangeIndex(start=len(df1)-1, stop=len(df1)+29, step=1)\n",
        "plt.plot(prediect_data_index,scaler.inverse_transform(lst_output))\n",
        "plt.legend(['Predict30days'])\n",
        "plt.show()"
      ]
    },
    {
      "cell_type": "code",
      "execution_count": null,
      "metadata": {},
      "outputs": [
        {
          "name": "stdout",
          "output_type": "stream",
          "text": [
            "[[5.07418194]\n",
            " [5.01678748]\n",
            " [4.91894387]\n",
            " [4.64486509]\n",
            " [4.49926197]\n",
            " [4.2461146 ]\n",
            " [4.10553259]\n",
            " [4.11083563]\n",
            " [3.99287364]\n",
            " [4.01380239]\n",
            " [3.78107931]\n",
            " [3.68120047]\n",
            " [3.70190646]\n",
            " [3.43890197]\n",
            " [3.36635816]\n",
            " [3.20960876]\n",
            " [3.06057134]\n",
            " [2.93757183]\n",
            " [2.80438553]\n",
            " [2.58681075]\n",
            " [2.33469441]\n",
            " [2.18229605]\n",
            " [2.18122687]\n",
            " [2.08730555]\n",
            " [2.07978616]\n",
            " [1.81922113]\n",
            " [1.65709509]\n",
            " [1.60711272]\n",
            " [1.38388375]\n",
            " [1.33645406]]\n"
          ]
        }
      ],
      "source": [
        "print(scaler.inverse_transform(lst_output))"
      ]
    }
  ],
  "metadata": {
    "colab": {
      "provenance": []
    },
    "kernelspec": {
      "display_name": "Python 3.11.0 64-bit",
      "language": "python",
      "name": "python3"
    },
    "language_info": {
      "codemirror_mode": {
        "name": "ipython",
        "version": 3
      },
      "file_extension": ".py",
      "mimetype": "text/x-python",
      "name": "python",
      "nbconvert_exporter": "python",
      "pygments_lexer": "ipython3",
      "version": "3.12.3"
    },
    "vscode": {
      "interpreter": {
        "hash": "228ec1c77332413f421e77c28617d1df6074d6a46921cdaeb15ed9feeb460bfe"
      }
    }
  },
  "nbformat": 4,
  "nbformat_minor": 0
}
