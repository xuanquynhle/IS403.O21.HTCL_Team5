{
  "cells": [
    {
      "cell_type": "markdown",
      "metadata": {
        "id": "Ik-XEHDfAHCb"
      },
      "source": [
        "# NGUYỄN KIM GROUP"
      ]
    },
    {
      "cell_type": "code",
      "execution_count": 1,
      "metadata": {
        "id": "FMDKda-XIUAK"
      },
      "outputs": [],
      "source": [
        "# 1. Import thư viện cần thiết\n",
        "import numpy as np\n",
        "import pandas as pd\n",
        "import matplotlib.pyplot as plt\n",
        "from sklearn.preprocessing import MinMaxScaler\n",
        "from keras.models import Sequential\n",
        "from keras.layers import Dense, SimpleRNN"
      ]
    },
    {
      "cell_type": "code",
      "execution_count": 2,
      "metadata": {
        "id": "me8vU9MoAHCe"
      },
      "outputs": [],
      "source": [
        "# 2. Đọc file csv và gắng index với giá Price\n",
        "df = pd.read_csv('NKG Historical Data.csv')\n",
        "df1=df.reset_index()['Price']"
      ]
    },
    {
      "cell_type": "code",
      "execution_count": 3,
      "metadata": {
        "colab": {
          "base_uri": "https://localhost:8080/",
          "height": 206
        },
        "id": "DF37HodNGwmI",
        "outputId": "e390aa7d-005b-4527-8693-9f3f137eb520"
      },
      "outputs": [
        {
          "name": "stdout",
          "output_type": "stream",
          "text": [
            "<class 'pandas.core.frame.DataFrame'>\n",
            "RangeIndex: 1313 entries, 0 to 1312\n",
            "Data columns (total 7 columns):\n",
            " #   Column    Non-Null Count  Dtype  \n",
            "---  ------    --------------  -----  \n",
            " 0   Date      1313 non-null   object \n",
            " 1   Price     1313 non-null   float64\n",
            " 2   Open      1313 non-null   object \n",
            " 3   High      1313 non-null   object \n",
            " 4   Low       1313 non-null   object \n",
            " 5   Vol.      1313 non-null   object \n",
            " 6   Change %  1313 non-null   object \n",
            "dtypes: float64(1), object(6)\n",
            "memory usage: 71.9+ KB\n"
          ]
        }
      ],
      "source": [
        "df.info()"
      ]
    },
    {
      "cell_type": "code",
      "execution_count": 4,
      "metadata": {
        "colab": {
          "base_uri": "https://localhost:8080/"
        },
        "id": "JFHc2RydGqCH",
        "outputId": "678d27c4-ca4f-4801-f4b8-54dbcc991290"
      },
      "outputs": [
        {
          "data": {
            "text/plain": [
              "0    24400.0\n",
              "1    24350.0\n",
              "2    24750.0\n",
              "3    25050.0\n",
              "4    24900.0\n",
              "Name: Price, dtype: float64"
            ]
          },
          "execution_count": 4,
          "metadata": {},
          "output_type": "execute_result"
        }
      ],
      "source": [
        "df1.head()"
      ]
    },
    {
      "cell_type": "code",
      "execution_count": 5,
      "metadata": {
        "id": "RdVpDho2JgL5"
      },
      "outputs": [],
      "source": [
        "# 3. Scaler data\n",
        "scaler=MinMaxScaler(feature_range=(0,1))\n",
        "df1=scaler.fit_transform(np.array(df1).reshape(-1,1))"
      ]
    },
    {
      "cell_type": "code",
      "execution_count": 6,
      "metadata": {
        "id": "B5JXpenzJoR3"
      },
      "outputs": [],
      "source": [
        "# 4. Chia train test\n",
        "train_size = int(0.7 * len(df1))\n",
        "test_size = int(0.3 * len(df1))\n",
        "\n",
        "train_data = df1[:train_size]\n",
        "test_data = df1[train_size:train_size+test_size]"
      ]
    },
    {
      "cell_type": "code",
      "execution_count": 7,
      "metadata": {
        "id": "yJfmuBORLSfC"
      },
      "outputs": [],
      "source": [
        "# 5. Hàm Create Dataset\n",
        "import numpy\n",
        "# convert an array of values into a dataset matrix\n",
        "def create_dataset(dataset, time_step=1):\n",
        "\tdataX, dataY = [], []\n",
        "\tfor i in range(len(dataset)-time_step-1):\n",
        "\t\ta = dataset[i:(i+time_step), 0]   ###i=0, X=0,1,2,3-----99   Y=100\n",
        "\t\tdataX.append(a)\n",
        "\t\tdataY.append(dataset[i + time_step, 0])\n",
        "\treturn numpy.array(dataX), numpy.array(dataY)"
      ]
    },
    {
      "cell_type": "code",
      "execution_count": 8,
      "metadata": {
        "id": "e81cKq03LXFB"
      },
      "outputs": [],
      "source": [
        "#6. Reshape into X=t,t+1,t+2..t+99 and Y=t+100\n",
        "time_step = 100\n",
        "X_train, y_train = create_dataset(train_data, time_step)\n",
        "X_test, ytest = create_dataset(test_data, time_step)"
      ]
    },
    {
      "cell_type": "code",
      "execution_count": 9,
      "metadata": {
        "id": "RdBVfku7O2qb"
      },
      "outputs": [],
      "source": [
        "# 7. Reshape input to be [samples, time steps, features] which is required for LSTM\n",
        "X_train =X_train.reshape(X_train.shape[0],X_train.shape[1] , 1)\n",
        "X_test = X_test.reshape(X_test.shape[0],X_test.shape[1] , 1)"
      ]
    },
    {
      "cell_type": "code",
      "execution_count": 10,
      "metadata": {
        "id": "sSfxrE7BO9vX"
      },
      "outputs": [
        {
          "name": "stderr",
          "output_type": "stream",
          "text": [
            "c:\\Users\\hangt\\AppData\\Local\\Programs\\Python\\Python312\\Lib\\site-packages\\keras\\src\\layers\\rnn\\rnn.py:204: UserWarning: Do not pass an `input_shape`/`input_dim` argument to a layer. When using Sequential models, prefer using an `Input(shape)` object as the first layer in the model instead.\n",
            "  super().__init__(**kwargs)\n"
          ]
        }
      ],
      "source": [
        "# 8. Define LSTM Model\n",
        "model = Sequential()\n",
        "model.add(SimpleRNN(50, input_shape=(time_step, 1)))\n",
        "model.add(Dense(1))\n",
        "model.compile(loss='mean_squared_error',optimizer='adam')"
      ]
    },
    {
      "cell_type": "code",
      "execution_count": 11,
      "metadata": {
        "colab": {
          "base_uri": "https://localhost:8080/"
        },
        "id": "zgfeujZSPEKr",
        "outputId": "b4e2e288-2102-4cca-f993-105634589bdc"
      },
      "outputs": [
        {
          "name": "stdout",
          "output_type": "stream",
          "text": [
            "Epoch 1/100\n"
          ]
        },
        {
          "name": "stdout",
          "output_type": "stream",
          "text": [
            "\u001b[1m13/13\u001b[0m \u001b[32m━━━━━━━━━━━━━━━━━━━━\u001b[0m\u001b[37m\u001b[0m \u001b[1m14s\u001b[0m 48ms/step - loss: 0.3929\n",
            "Epoch 2/100\n",
            "\u001b[1m13/13\u001b[0m \u001b[32m━━━━━━━━━━━━━━━━━━━━\u001b[0m\u001b[37m\u001b[0m \u001b[1m1s\u001b[0m 69ms/step - loss: 0.0170\n",
            "Epoch 3/100\n",
            "\u001b[1m13/13\u001b[0m \u001b[32m━━━━━━━━━━━━━━━━━━━━\u001b[0m\u001b[37m\u001b[0m \u001b[1m1s\u001b[0m 66ms/step - loss: 0.0087\n",
            "Epoch 4/100\n",
            "\u001b[1m13/13\u001b[0m \u001b[32m━━━━━━━━━━━━━━━━━━━━\u001b[0m\u001b[37m\u001b[0m \u001b[1m1s\u001b[0m 43ms/step - loss: 0.0054\n",
            "Epoch 5/100\n",
            "\u001b[1m13/13\u001b[0m \u001b[32m━━━━━━━━━━━━━━━━━━━━\u001b[0m\u001b[37m\u001b[0m \u001b[1m1s\u001b[0m 45ms/step - loss: 0.0037\n",
            "Epoch 6/100\n",
            "\u001b[1m13/13\u001b[0m \u001b[32m━━━━━━━━━━━━━━━━━━━━\u001b[0m\u001b[37m\u001b[0m \u001b[1m1s\u001b[0m 43ms/step - loss: 0.0033\n",
            "Epoch 7/100\n",
            "\u001b[1m13/13\u001b[0m \u001b[32m━━━━━━━━━━━━━━━━━━━━\u001b[0m\u001b[37m\u001b[0m \u001b[1m2s\u001b[0m 63ms/step - loss: 0.0030\n",
            "Epoch 8/100\n",
            "\u001b[1m13/13\u001b[0m \u001b[32m━━━━━━━━━━━━━━━━━━━━\u001b[0m\u001b[37m\u001b[0m \u001b[1m1s\u001b[0m 44ms/step - loss: 0.0024\n",
            "Epoch 9/100\n",
            "\u001b[1m13/13\u001b[0m \u001b[32m━━━━━━━━━━━━━━━━━━━━\u001b[0m\u001b[37m\u001b[0m \u001b[1m1s\u001b[0m 39ms/step - loss: 0.0024\n",
            "Epoch 10/100\n",
            "\u001b[1m13/13\u001b[0m \u001b[32m━━━━━━━━━━━━━━━━━━━━\u001b[0m\u001b[37m\u001b[0m \u001b[1m1s\u001b[0m 66ms/step - loss: 0.0023\n",
            "Epoch 11/100\n",
            "\u001b[1m13/13\u001b[0m \u001b[32m━━━━━━━━━━━━━━━━━━━━\u001b[0m\u001b[37m\u001b[0m \u001b[1m1s\u001b[0m 39ms/step - loss: 0.0022\n",
            "Epoch 12/100\n",
            "\u001b[1m13/13\u001b[0m \u001b[32m━━━━━━━━━━━━━━━━━━━━\u001b[0m\u001b[37m\u001b[0m \u001b[1m1s\u001b[0m 31ms/step - loss: 0.0021\n",
            "Epoch 13/100\n",
            "\u001b[1m13/13\u001b[0m \u001b[32m━━━━━━━━━━━━━━━━━━━━\u001b[0m\u001b[37m\u001b[0m \u001b[1m1s\u001b[0m 42ms/step - loss: 0.0020\n",
            "Epoch 14/100\n",
            "\u001b[1m13/13\u001b[0m \u001b[32m━━━━━━━━━━━━━━━━━━━━\u001b[0m\u001b[37m\u001b[0m \u001b[1m1s\u001b[0m 46ms/step - loss: 0.0018\n",
            "Epoch 15/100\n",
            "\u001b[1m13/13\u001b[0m \u001b[32m━━━━━━━━━━━━━━━━━━━━\u001b[0m\u001b[37m\u001b[0m \u001b[1m1s\u001b[0m 46ms/step - loss: 0.0019\n",
            "Epoch 16/100\n",
            "\u001b[1m13/13\u001b[0m \u001b[32m━━━━━━━━━━━━━━━━━━━━\u001b[0m\u001b[37m\u001b[0m \u001b[1m1s\u001b[0m 60ms/step - loss: 0.0017\n",
            "Epoch 17/100\n",
            "\u001b[1m13/13\u001b[0m \u001b[32m━━━━━━━━━━━━━━━━━━━━\u001b[0m\u001b[37m\u001b[0m \u001b[1m1s\u001b[0m 41ms/step - loss: 0.0018\n",
            "Epoch 18/100\n",
            "\u001b[1m13/13\u001b[0m \u001b[32m━━━━━━━━━━━━━━━━━━━━\u001b[0m\u001b[37m\u001b[0m \u001b[1m1s\u001b[0m 49ms/step - loss: 0.0016\n",
            "Epoch 19/100\n",
            "\u001b[1m13/13\u001b[0m \u001b[32m━━━━━━━━━━━━━━━━━━━━\u001b[0m\u001b[37m\u001b[0m \u001b[1m1s\u001b[0m 40ms/step - loss: 0.0015\n",
            "Epoch 20/100\n",
            "\u001b[1m13/13\u001b[0m \u001b[32m━━━━━━━━━━━━━━━━━━━━\u001b[0m\u001b[37m\u001b[0m \u001b[1m1s\u001b[0m 41ms/step - loss: 0.0015\n",
            "Epoch 21/100\n",
            "\u001b[1m13/13\u001b[0m \u001b[32m━━━━━━━━━━━━━━━━━━━━\u001b[0m\u001b[37m\u001b[0m \u001b[1m1s\u001b[0m 65ms/step - loss: 0.0015\n",
            "Epoch 22/100\n",
            "\u001b[1m13/13\u001b[0m \u001b[32m━━━━━━━━━━━━━━━━━━━━\u001b[0m\u001b[37m\u001b[0m \u001b[1m1s\u001b[0m 50ms/step - loss: 0.0015\n",
            "Epoch 23/100\n",
            "\u001b[1m13/13\u001b[0m \u001b[32m━━━━━━━━━━━━━━━━━━━━\u001b[0m\u001b[37m\u001b[0m \u001b[1m1s\u001b[0m 44ms/step - loss: 0.0015\n",
            "Epoch 24/100\n",
            "\u001b[1m13/13\u001b[0m \u001b[32m━━━━━━━━━━━━━━━━━━━━\u001b[0m\u001b[37m\u001b[0m \u001b[1m1s\u001b[0m 52ms/step - loss: 0.0014\n",
            "Epoch 25/100\n",
            "\u001b[1m13/13\u001b[0m \u001b[32m━━━━━━━━━━━━━━━━━━━━\u001b[0m\u001b[37m\u001b[0m \u001b[1m1s\u001b[0m 41ms/step - loss: 0.0014\n",
            "Epoch 26/100\n",
            "\u001b[1m13/13\u001b[0m \u001b[32m━━━━━━━━━━━━━━━━━━━━\u001b[0m\u001b[37m\u001b[0m \u001b[1m1s\u001b[0m 48ms/step - loss: 0.0013\n",
            "Epoch 27/100\n",
            "\u001b[1m13/13\u001b[0m \u001b[32m━━━━━━━━━━━━━━━━━━━━\u001b[0m\u001b[37m\u001b[0m \u001b[1m1s\u001b[0m 44ms/step - loss: 0.0012\n",
            "Epoch 28/100\n",
            "\u001b[1m13/13\u001b[0m \u001b[32m━━━━━━━━━━━━━━━━━━━━\u001b[0m\u001b[37m\u001b[0m \u001b[1m2s\u001b[0m 40ms/step - loss: 0.0014\n",
            "Epoch 29/100\n",
            "\u001b[1m13/13\u001b[0m \u001b[32m━━━━━━━━━━━━━━━━━━━━\u001b[0m\u001b[37m\u001b[0m \u001b[1m1s\u001b[0m 42ms/step - loss: 0.0012\n",
            "Epoch 30/100\n",
            "\u001b[1m13/13\u001b[0m \u001b[32m━━━━━━━━━━━━━━━━━━━━\u001b[0m\u001b[37m\u001b[0m \u001b[1m1s\u001b[0m 38ms/step - loss: 0.0013\n",
            "Epoch 31/100\n",
            "\u001b[1m13/13\u001b[0m \u001b[32m━━━━━━━━━━━━━━━━━━━━\u001b[0m\u001b[37m\u001b[0m \u001b[1m1s\u001b[0m 46ms/step - loss: 9.7958e-04\n",
            "Epoch 32/100\n",
            "\u001b[1m13/13\u001b[0m \u001b[32m━━━━━━━━━━━━━━━━━━━━\u001b[0m\u001b[37m\u001b[0m \u001b[1m1s\u001b[0m 45ms/step - loss: 0.0012\n",
            "Epoch 33/100\n",
            "\u001b[1m13/13\u001b[0m \u001b[32m━━━━━━━━━━━━━━━━━━━━\u001b[0m\u001b[37m\u001b[0m \u001b[1m1s\u001b[0m 53ms/step - loss: 0.0012\n",
            "Epoch 34/100\n",
            "\u001b[1m13/13\u001b[0m \u001b[32m━━━━━━━━━━━━━━━━━━━━\u001b[0m\u001b[37m\u001b[0m \u001b[1m1s\u001b[0m 48ms/step - loss: 0.0011\n",
            "Epoch 35/100\n",
            "\u001b[1m13/13\u001b[0m \u001b[32m━━━━━━━━━━━━━━━━━━━━\u001b[0m\u001b[37m\u001b[0m \u001b[1m1s\u001b[0m 34ms/step - loss: 0.0011\n",
            "Epoch 36/100\n",
            "\u001b[1m13/13\u001b[0m \u001b[32m━━━━━━━━━━━━━━━━━━━━\u001b[0m\u001b[37m\u001b[0m \u001b[1m1s\u001b[0m 59ms/step - loss: 9.8530e-04\n",
            "Epoch 37/100\n",
            "\u001b[1m13/13\u001b[0m \u001b[32m━━━━━━━━━━━━━━━━━━━━\u001b[0m\u001b[37m\u001b[0m \u001b[1m1s\u001b[0m 65ms/step - loss: 0.0011\n",
            "Epoch 38/100\n",
            "\u001b[1m13/13\u001b[0m \u001b[32m━━━━━━━━━━━━━━━━━━━━\u001b[0m\u001b[37m\u001b[0m \u001b[1m1s\u001b[0m 60ms/step - loss: 0.0011\n",
            "Epoch 39/100\n",
            "\u001b[1m13/13\u001b[0m \u001b[32m━━━━━━━━━━━━━━━━━━━━\u001b[0m\u001b[37m\u001b[0m \u001b[1m1s\u001b[0m 38ms/step - loss: 9.8779e-04\n",
            "Epoch 40/100\n",
            "\u001b[1m13/13\u001b[0m \u001b[32m━━━━━━━━━━━━━━━━━━━━\u001b[0m\u001b[37m\u001b[0m \u001b[1m1s\u001b[0m 48ms/step - loss: 0.0011\n",
            "Epoch 41/100\n",
            "\u001b[1m13/13\u001b[0m \u001b[32m━━━━━━━━━━━━━━━━━━━━\u001b[0m\u001b[37m\u001b[0m \u001b[1m1s\u001b[0m 44ms/step - loss: 0.0010\n",
            "Epoch 42/100\n",
            "\u001b[1m13/13\u001b[0m \u001b[32m━━━━━━━━━━━━━━━━━━━━\u001b[0m\u001b[37m\u001b[0m \u001b[1m1s\u001b[0m 40ms/step - loss: 0.0010\n",
            "Epoch 43/100\n",
            "\u001b[1m13/13\u001b[0m \u001b[32m━━━━━━━━━━━━━━━━━━━━\u001b[0m\u001b[37m\u001b[0m \u001b[1m1s\u001b[0m 66ms/step - loss: 8.9112e-04\n",
            "Epoch 44/100\n",
            "\u001b[1m13/13\u001b[0m \u001b[32m━━━━━━━━━━━━━━━━━━━━\u001b[0m\u001b[37m\u001b[0m \u001b[1m1s\u001b[0m 39ms/step - loss: 0.0010\n",
            "Epoch 45/100\n",
            "\u001b[1m13/13\u001b[0m \u001b[32m━━━━━━━━━━━━━━━━━━━━\u001b[0m\u001b[37m\u001b[0m \u001b[1m1s\u001b[0m 36ms/step - loss: 9.4418e-04\n",
            "Epoch 46/100\n",
            "\u001b[1m13/13\u001b[0m \u001b[32m━━━━━━━━━━━━━━━━━━━━\u001b[0m\u001b[37m\u001b[0m \u001b[1m1s\u001b[0m 49ms/step - loss: 9.5451e-04\n",
            "Epoch 47/100\n",
            "\u001b[1m13/13\u001b[0m \u001b[32m━━━━━━━━━━━━━━━━━━━━\u001b[0m\u001b[37m\u001b[0m \u001b[1m1s\u001b[0m 57ms/step - loss: 9.6937e-04\n",
            "Epoch 48/100\n",
            "\u001b[1m13/13\u001b[0m \u001b[32m━━━━━━━━━━━━━━━━━━━━\u001b[0m\u001b[37m\u001b[0m \u001b[1m1s\u001b[0m 49ms/step - loss: 8.8843e-04\n",
            "Epoch 49/100\n",
            "\u001b[1m13/13\u001b[0m \u001b[32m━━━━━━━━━━━━━━━━━━━━\u001b[0m\u001b[37m\u001b[0m \u001b[1m1s\u001b[0m 40ms/step - loss: 8.3388e-04\n",
            "Epoch 50/100\n",
            "\u001b[1m13/13\u001b[0m \u001b[32m━━━━━━━━━━━━━━━━━━━━\u001b[0m\u001b[37m\u001b[0m \u001b[1m1s\u001b[0m 54ms/step - loss: 8.3763e-04\n",
            "Epoch 51/100\n",
            "\u001b[1m13/13\u001b[0m \u001b[32m━━━━━━━━━━━━━━━━━━━━\u001b[0m\u001b[37m\u001b[0m \u001b[1m2s\u001b[0m 61ms/step - loss: 8.3904e-04\n",
            "Epoch 52/100\n",
            "\u001b[1m13/13\u001b[0m \u001b[32m━━━━━━━━━━━━━━━━━━━━\u001b[0m\u001b[37m\u001b[0m \u001b[1m1s\u001b[0m 48ms/step - loss: 7.9011e-04\n",
            "Epoch 53/100\n",
            "\u001b[1m13/13\u001b[0m \u001b[32m━━━━━━━━━━━━━━━━━━━━\u001b[0m\u001b[37m\u001b[0m \u001b[1m1s\u001b[0m 37ms/step - loss: 8.6888e-04\n",
            "Epoch 54/100\n",
            "\u001b[1m13/13\u001b[0m \u001b[32m━━━━━━━━━━━━━━━━━━━━\u001b[0m\u001b[37m\u001b[0m \u001b[1m2s\u001b[0m 48ms/step - loss: 8.9515e-04\n",
            "Epoch 55/100\n",
            "\u001b[1m13/13\u001b[0m \u001b[32m━━━━━━━━━━━━━━━━━━━━\u001b[0m\u001b[37m\u001b[0m \u001b[1m1s\u001b[0m 54ms/step - loss: 8.9232e-04\n",
            "Epoch 56/100\n",
            "\u001b[1m13/13\u001b[0m \u001b[32m━━━━━━━━━━━━━━━━━━━━\u001b[0m\u001b[37m\u001b[0m \u001b[1m1s\u001b[0m 63ms/step - loss: 7.8976e-04\n",
            "Epoch 57/100\n",
            "\u001b[1m13/13\u001b[0m \u001b[32m━━━━━━━━━━━━━━━━━━━━\u001b[0m\u001b[37m\u001b[0m \u001b[1m1s\u001b[0m 55ms/step - loss: 8.6637e-04\n",
            "Epoch 58/100\n",
            "\u001b[1m13/13\u001b[0m \u001b[32m━━━━━━━━━━━━━━━━━━━━\u001b[0m\u001b[37m\u001b[0m \u001b[1m1s\u001b[0m 43ms/step - loss: 7.9195e-04\n",
            "Epoch 59/100\n",
            "\u001b[1m13/13\u001b[0m \u001b[32m━━━━━━━━━━━━━━━━━━━━\u001b[0m\u001b[37m\u001b[0m \u001b[1m1s\u001b[0m 60ms/step - loss: 7.2856e-04\n",
            "Epoch 60/100\n",
            "\u001b[1m13/13\u001b[0m \u001b[32m━━━━━━━━━━━━━━━━━━━━\u001b[0m\u001b[37m\u001b[0m \u001b[1m1s\u001b[0m 45ms/step - loss: 8.6362e-04\n",
            "Epoch 61/100\n",
            "\u001b[1m13/13\u001b[0m \u001b[32m━━━━━━━━━━━━━━━━━━━━\u001b[0m\u001b[37m\u001b[0m \u001b[1m1s\u001b[0m 47ms/step - loss: 8.2236e-04\n",
            "Epoch 62/100\n",
            "\u001b[1m13/13\u001b[0m \u001b[32m━━━━━━━━━━━━━━━━━━━━\u001b[0m\u001b[37m\u001b[0m \u001b[1m1s\u001b[0m 40ms/step - loss: 7.6207e-04\n",
            "Epoch 63/100\n",
            "\u001b[1m13/13\u001b[0m \u001b[32m━━━━━━━━━━━━━━━━━━━━\u001b[0m\u001b[37m\u001b[0m \u001b[1m2s\u001b[0m 65ms/step - loss: 7.3428e-04\n",
            "Epoch 64/100\n",
            "\u001b[1m13/13\u001b[0m \u001b[32m━━━━━━━━━━━━━━━━━━━━\u001b[0m\u001b[37m\u001b[0m \u001b[1m1s\u001b[0m 44ms/step - loss: 8.6417e-04\n",
            "Epoch 65/100\n",
            "\u001b[1m13/13\u001b[0m \u001b[32m━━━━━━━━━━━━━━━━━━━━\u001b[0m\u001b[37m\u001b[0m \u001b[1m1s\u001b[0m 16ms/step - loss: 7.7118e-04\n",
            "Epoch 66/100\n",
            "\u001b[1m13/13\u001b[0m \u001b[32m━━━━━━━━━━━━━━━━━━━━\u001b[0m\u001b[37m\u001b[0m \u001b[1m0s\u001b[0m 20ms/step - loss: 7.4150e-04\n",
            "Epoch 67/100\n",
            "\u001b[1m13/13\u001b[0m \u001b[32m━━━━━━━━━━━━━━━━━━━━\u001b[0m\u001b[37m\u001b[0m \u001b[1m0s\u001b[0m 27ms/step - loss: 7.7097e-04\n",
            "Epoch 68/100\n",
            "\u001b[1m13/13\u001b[0m \u001b[32m━━━━━━━━━━━━━━━━━━━━\u001b[0m\u001b[37m\u001b[0m \u001b[1m1s\u001b[0m 41ms/step - loss: 7.3346e-04\n",
            "Epoch 69/100\n",
            "\u001b[1m13/13\u001b[0m \u001b[32m━━━━━━━━━━━━━━━━━━━━\u001b[0m\u001b[37m\u001b[0m \u001b[1m1s\u001b[0m 53ms/step - loss: 7.0694e-04\n",
            "Epoch 70/100\n",
            "\u001b[1m13/13\u001b[0m \u001b[32m━━━━━━━━━━━━━━━━━━━━\u001b[0m\u001b[37m\u001b[0m \u001b[1m1s\u001b[0m 53ms/step - loss: 7.5109e-04\n",
            "Epoch 71/100\n",
            "\u001b[1m13/13\u001b[0m \u001b[32m━━━━━━━━━━━━━━━━━━━━\u001b[0m\u001b[37m\u001b[0m \u001b[1m1s\u001b[0m 31ms/step - loss: 6.6930e-04\n",
            "Epoch 72/100\n",
            "\u001b[1m13/13\u001b[0m \u001b[32m━━━━━━━━━━━━━━━━━━━━\u001b[0m\u001b[37m\u001b[0m \u001b[1m1s\u001b[0m 70ms/step - loss: 7.0027e-04\n",
            "Epoch 73/100\n",
            "\u001b[1m13/13\u001b[0m \u001b[32m━━━━━━━━━━━━━━━━━━━━\u001b[0m\u001b[37m\u001b[0m \u001b[1m1s\u001b[0m 41ms/step - loss: 6.4837e-04\n",
            "Epoch 74/100\n",
            "\u001b[1m13/13\u001b[0m \u001b[32m━━━━━━━━━━━━━━━━━━━━\u001b[0m\u001b[37m\u001b[0m \u001b[1m1s\u001b[0m 54ms/step - loss: 6.7806e-04\n",
            "Epoch 75/100\n",
            "\u001b[1m13/13\u001b[0m \u001b[32m━━━━━━━━━━━━━━━━━━━━\u001b[0m\u001b[37m\u001b[0m \u001b[1m1s\u001b[0m 53ms/step - loss: 6.9272e-04\n",
            "Epoch 76/100\n",
            "\u001b[1m13/13\u001b[0m \u001b[32m━━━━━━━━━━━━━━━━━━━━\u001b[0m\u001b[37m\u001b[0m \u001b[1m1s\u001b[0m 45ms/step - loss: 7.5252e-04\n",
            "Epoch 77/100\n",
            "\u001b[1m13/13\u001b[0m \u001b[32m━━━━━━━━━━━━━━━━━━━━\u001b[0m\u001b[37m\u001b[0m \u001b[1m1s\u001b[0m 37ms/step - loss: 6.8799e-04\n",
            "Epoch 78/100\n",
            "\u001b[1m13/13\u001b[0m \u001b[32m━━━━━━━━━━━━━━━━━━━━\u001b[0m\u001b[37m\u001b[0m \u001b[1m1s\u001b[0m 33ms/step - loss: 7.1673e-04\n",
            "Epoch 79/100\n",
            "\u001b[1m13/13\u001b[0m \u001b[32m━━━━━━━━━━━━━━━━━━━━\u001b[0m\u001b[37m\u001b[0m \u001b[1m1s\u001b[0m 42ms/step - loss: 6.7420e-04\n",
            "Epoch 80/100\n",
            "\u001b[1m13/13\u001b[0m \u001b[32m━━━━━━━━━━━━━━━━━━━━\u001b[0m\u001b[37m\u001b[0m \u001b[1m1s\u001b[0m 52ms/step - loss: 6.6457e-04\n",
            "Epoch 81/100\n",
            "\u001b[1m13/13\u001b[0m \u001b[32m━━━━━━━━━━━━━━━━━━━━\u001b[0m\u001b[37m\u001b[0m \u001b[1m1s\u001b[0m 63ms/step - loss: 6.6592e-04\n",
            "Epoch 82/100\n",
            "\u001b[1m13/13\u001b[0m \u001b[32m━━━━━━━━━━━━━━━━━━━━\u001b[0m\u001b[37m\u001b[0m \u001b[1m1s\u001b[0m 41ms/step - loss: 6.4240e-04\n",
            "Epoch 83/100\n",
            "\u001b[1m13/13\u001b[0m \u001b[32m━━━━━━━━━━━━━━━━━━━━\u001b[0m\u001b[37m\u001b[0m \u001b[1m1s\u001b[0m 48ms/step - loss: 7.6187e-04\n",
            "Epoch 84/100\n",
            "\u001b[1m13/13\u001b[0m \u001b[32m━━━━━━━━━━━━━━━━━━━━\u001b[0m\u001b[37m\u001b[0m \u001b[1m2s\u001b[0m 41ms/step - loss: 7.3614e-04\n",
            "Epoch 85/100\n",
            "\u001b[1m13/13\u001b[0m \u001b[32m━━━━━━━━━━━━━━━━━━━━\u001b[0m\u001b[37m\u001b[0m \u001b[1m2s\u001b[0m 95ms/step - loss: 5.8427e-04\n",
            "Epoch 86/100\n",
            "\u001b[1m13/13\u001b[0m \u001b[32m━━━━━━━━━━━━━━━━━━━━\u001b[0m\u001b[37m\u001b[0m \u001b[1m1s\u001b[0m 41ms/step - loss: 6.6043e-04\n",
            "Epoch 87/100\n",
            "\u001b[1m13/13\u001b[0m \u001b[32m━━━━━━━━━━━━━━━━━━━━\u001b[0m\u001b[37m\u001b[0m \u001b[1m2s\u001b[0m 56ms/step - loss: 6.9142e-04\n",
            "Epoch 88/100\n",
            "\u001b[1m13/13\u001b[0m \u001b[32m━━━━━━━━━━━━━━━━━━━━\u001b[0m\u001b[37m\u001b[0m \u001b[1m2s\u001b[0m 58ms/step - loss: 6.4530e-04\n",
            "Epoch 89/100\n",
            "\u001b[1m13/13\u001b[0m \u001b[32m━━━━━━━━━━━━━━━━━━━━\u001b[0m\u001b[37m\u001b[0m \u001b[1m1s\u001b[0m 44ms/step - loss: 6.3626e-04\n",
            "Epoch 90/100\n",
            "\u001b[1m13/13\u001b[0m \u001b[32m━━━━━━━━━━━━━━━━━━━━\u001b[0m\u001b[37m\u001b[0m \u001b[1m1s\u001b[0m 51ms/step - loss: 6.2546e-04\n",
            "Epoch 91/100\n",
            "\u001b[1m13/13\u001b[0m \u001b[32m━━━━━━━━━━━━━━━━━━━━\u001b[0m\u001b[37m\u001b[0m \u001b[1m2s\u001b[0m 61ms/step - loss: 6.6042e-04\n",
            "Epoch 92/100\n",
            "\u001b[1m13/13\u001b[0m \u001b[32m━━━━━━━━━━━━━━━━━━━━\u001b[0m\u001b[37m\u001b[0m \u001b[1m3s\u001b[0m 82ms/step - loss: 6.0937e-04\n",
            "Epoch 93/100\n",
            "\u001b[1m13/13\u001b[0m \u001b[32m━━━━━━━━━━━━━━━━━━━━\u001b[0m\u001b[37m\u001b[0m \u001b[1m1s\u001b[0m 61ms/step - loss: 6.4710e-04\n",
            "Epoch 94/100\n",
            "\u001b[1m13/13\u001b[0m \u001b[32m━━━━━━━━━━━━━━━━━━━━\u001b[0m\u001b[37m\u001b[0m \u001b[1m1s\u001b[0m 64ms/step - loss: 6.4478e-04\n",
            "Epoch 95/100\n",
            "\u001b[1m13/13\u001b[0m \u001b[32m━━━━━━━━━━━━━━━━━━━━\u001b[0m\u001b[37m\u001b[0m \u001b[1m2s\u001b[0m 63ms/step - loss: 6.0706e-04\n",
            "Epoch 96/100\n",
            "\u001b[1m13/13\u001b[0m \u001b[32m━━━━━━━━━━━━━━━━━━━━\u001b[0m\u001b[37m\u001b[0m \u001b[1m1s\u001b[0m 92ms/step - loss: 6.4255e-04\n",
            "Epoch 97/100\n",
            "\u001b[1m13/13\u001b[0m \u001b[32m━━━━━━━━━━━━━━━━━━━━\u001b[0m\u001b[37m\u001b[0m \u001b[1m2s\u001b[0m 95ms/step - loss: 5.8572e-04\n",
            "Epoch 98/100\n",
            "\u001b[1m13/13\u001b[0m \u001b[32m━━━━━━━━━━━━━━━━━━━━\u001b[0m\u001b[37m\u001b[0m \u001b[1m3s\u001b[0m 150ms/step - loss: 6.6091e-04\n",
            "Epoch 99/100\n",
            "\u001b[1m13/13\u001b[0m \u001b[32m━━━━━━━━━━━━━━━━━━━━\u001b[0m\u001b[37m\u001b[0m \u001b[1m1s\u001b[0m 38ms/step - loss: 6.0616e-04\n",
            "Epoch 100/100\n",
            "\u001b[1m13/13\u001b[0m \u001b[32m━━━━━━━━━━━━━━━━━━━━\u001b[0m\u001b[37m\u001b[0m \u001b[1m1s\u001b[0m 58ms/step - loss: 6.4605e-04\n"
          ]
        },
        {
          "data": {
            "text/plain": [
              "<keras.src.callbacks.history.History at 0x294a835ef90>"
            ]
          },
          "execution_count": 11,
          "metadata": {},
          "output_type": "execute_result"
        }
      ],
      "source": [
        "# 9. Fit mô hình với dữ liệu train\n",
        "model.fit(X_train,y_train,epochs=100,batch_size=64,verbose=1)"
      ]
    },
    {
      "cell_type": "code",
      "execution_count": 12,
      "metadata": {
        "colab": {
          "base_uri": "https://localhost:8080/"
        },
        "id": "Rxx_KQSkQpBG",
        "outputId": "833f6791-4388-46f4-e4cb-0a712fe2c6a9"
      },
      "outputs": [
        {
          "name": "stdout",
          "output_type": "stream",
          "text": [
            "\u001b[1m26/26\u001b[0m \u001b[32m━━━━━━━━━━━━━━━━━━━━\u001b[0m\u001b[37m\u001b[0m \u001b[1m2s\u001b[0m 55ms/step\n",
            "\u001b[1m10/10\u001b[0m \u001b[32m━━━━━━━━━━━━━━━━━━━━\u001b[0m\u001b[37m\u001b[0m \u001b[1m0s\u001b[0m 13ms/step\n"
          ]
        }
      ],
      "source": [
        "# 10. Dự báo dữ liệu test, val\n",
        "train_predict=model.predict(X_train)\n",
        "y_pred=model.predict(X_test)"
      ]
    },
    {
      "cell_type": "code",
      "execution_count": 13,
      "metadata": {
        "id": "5rwTN10LQ7rj"
      },
      "outputs": [],
      "source": [
        "# 11. Chuẩn hóa dữ liệu y_pred, y_pred_val\n",
        "train_predict=scaler.inverse_transform(train_predict)\n",
        "y_pred=scaler.inverse_transform(y_pred)"
      ]
    },
    {
      "cell_type": "code",
      "execution_count": 14,
      "metadata": {
        "id": "r3PeRHARAHCh"
      },
      "outputs": [],
      "source": [
        "ytest = scaler.inverse_transform(ytest.reshape(-1,1))"
      ]
    },
    {
      "cell_type": "code",
      "execution_count": 15,
      "metadata": {
        "colab": {
          "base_uri": "https://localhost:8080/"
        },
        "id": "wu_9j94kRonD",
        "outputId": "2ac60ff6-2715-4fe0-ae6e-8a938d49e7ce"
      },
      "outputs": [
        {
          "name": "stdout",
          "output_type": "stream",
          "text": [
            "Testing RMSE: 414.7989893285526\n"
          ]
        }
      ],
      "source": [
        "# 12. Đánh giá độ chính xác thuật toán bằng RMSE\n",
        "test_rmse = np.sqrt(np.mean((y_pred - ytest)**2))\n",
        "print('Testing RMSE:', test_rmse)"
      ]
    },
    {
      "cell_type": "code",
      "execution_count": 16,
      "metadata": {
        "colab": {
          "base_uri": "https://localhost:8080/"
        },
        "id": "-Tind_8TAHCh",
        "outputId": "7bff1981-c5d1-4f86-b9bf-d1e383b40700"
      },
      "outputs": [
        {
          "name": "stdout",
          "output_type": "stream",
          "text": [
            "Testing MAE: 377.0462166564105\n"
          ]
        }
      ],
      "source": [
        "# Đánh giá độ chính xác thuật toán bằng MAE\n",
        "test_mae = np.mean(abs(y_pred - ytest))\n",
        "print('Testing MAE:', test_mae)"
      ]
    },
    {
      "cell_type": "code",
      "execution_count": 17,
      "metadata": {
        "colab": {
          "base_uri": "https://localhost:8080/"
        },
        "id": "gDFbKEkMAHCi",
        "outputId": "6ccc2bc7-35c0-4624-caca-8de8c0830fa8"
      },
      "outputs": [
        {
          "name": "stdout",
          "output_type": "stream",
          "text": [
            "Testing MAPE: 0.08036402513251269\n"
          ]
        }
      ],
      "source": [
        "# Đánh giá độ chính xác thuật toán bằng MAPE\n",
        "test_mape = np.mean(np.abs(y_pred - ytest)/np.abs(y_pred))\n",
        "print('Testing MAPE:', test_mape)"
      ]
    },
    {
      "cell_type": "code",
      "execution_count": 18,
      "metadata": {
        "colab": {
          "base_uri": "https://localhost:8080/",
          "height": 430
        },
        "id": "0xzNLNCPAHCi",
        "outputId": "d11deaf3-f2b7-42c9-e2c0-ba1122479997"
      },
      "outputs": [
        {
          "data": {
            "image/png": "[encoded data removed]",
            "text/plain": [
              "<Figure size 640x480 with 1 Axes>"
            ]
          },
          "metadata": {},
          "output_type": "display_data"
        }
      ],
      "source": [
        "# 14.Vẽ hình\n",
        "# Train\n",
        "train_data_index = pd.RangeIndex(start=0, stop=train_size, step=1)\n",
        "plt.plot(scaler.inverse_transform(train_data))\n",
        "# Test\n",
        "test_data_index = pd.RangeIndex(start=train_size, stop=train_size+test_size, step=1)\n",
        "plt.plot(test_data_index,scaler.inverse_transform(test_data))\n",
        "# Dự đoán trên tập test\n",
        "test_data_index = pd.RangeIndex(start=train_size+101, stop=train_size+test_size, step=1)\n",
        "plt.plot(test_data_index,(y_pred))\n",
        "plt.legend(['Train','Test','Predict'])\n",
        "plt.show()"
      ]
    },
    {
      "cell_type": "markdown",
      "metadata": {},
      "source": [
        "# Dự đoán 30 ngày tiếp theo"
      ]
    },
    {
      "cell_type": "code",
      "execution_count": 19,
      "metadata": {},
      "outputs": [
        {
          "name": "stdout",
          "output_type": "stream",
          "text": [
            "[0.06909084]\n",
            "101\n",
            "1 day input [0.02592294 0.02670251 0.02623429 0.02763894 0.02810953 0.02810953\n",
            " 0.02810953 0.02842088 0.02842088 0.02967104 0.03029374 0.03029374\n",
            " 0.02904596 0.02904596 0.0277958  0.02732759 0.02888909 0.02888909\n",
            " 0.03060747 0.02810953 0.03123255 0.03138703 0.02873223 0.02935731\n",
            " 0.03232584 0.03123255 0.02654802 0.02685937 0.02717072 0.0277958\n",
            " 0.02888909 0.02920282 0.02842088 0.02685937 0.02701624 0.02717072\n",
            " 0.02592294 0.02576608 0.02795267 0.02904596 0.02967104 0.0277958\n",
            " 0.02545473 0.02982552 0.02967104 0.03123255 0.02888909 0.02982552\n",
            " 0.02998239 0.02982552 0.02967104 0.02967104 0.02826402 0.0277958\n",
            " 0.02732759 0.02701624 0.02654802 0.02888909 0.03357362 0.03373048\n",
            " 0.0368535  0.03591707 0.03701036 0.03529199 0.03529199 0.03747858\n",
            " 0.03622842 0.03794679 0.04388148 0.04669314 0.04762957 0.04528612\n",
            " 0.04528612 0.05028438 0.04997065 0.05543712 0.05293918 0.04606806\n",
            " 0.04606806 0.04528612 0.04528612 0.04341326 0.04263132 0.04106981\n",
            " 0.04450656 0.04388148 0.04544299 0.04434969 0.04575434 0.04309953\n",
            " 0.04528612 0.04528612 0.04497477 0.04637942 0.04450656 0.048566\n",
            " 0.05293918 0.05543712 0.05543712 0.06909084]\n",
            "1 day output [[0.06705794]]\n",
            "2 day input [0.02670251 0.02623429 0.02763894 0.02810953 0.02810953 0.02810953\n",
            " 0.02842088 0.02842088 0.02967104 0.03029374 0.03029374 0.02904596\n",
            " 0.02904596 0.0277958  0.02732759 0.02888909 0.02888909 0.03060747\n",
            " 0.02810953 0.03123255 0.03138703 0.02873223 0.02935731 0.03232584\n",
            " 0.03123255 0.02654802 0.02685937 0.02717072 0.0277958  0.02888909\n",
            " 0.02920282 0.02842088 0.02685937 0.02701624 0.02717072 0.02592294\n",
            " 0.02576608 0.02795267 0.02904596 0.02967104 0.0277958  0.02545473\n",
            " 0.02982552 0.02967104 0.03123255 0.02888909 0.02982552 0.02998239\n",
            " 0.02982552 0.02967104 0.02967104 0.02826402 0.0277958  0.02732759\n",
            " 0.02701624 0.02654802 0.02888909 0.03357362 0.03373048 0.0368535\n",
            " 0.03591707 0.03701036 0.03529199 0.03529199 0.03747858 0.03622842\n",
            " 0.03794679 0.04388148 0.04669314 0.04762957 0.04528612 0.04528612\n",
            " 0.05028438 0.04997065 0.05543712 0.05293918 0.04606806 0.04606806\n",
            " 0.04528612 0.04528612 0.04341326 0.04263132 0.04106981 0.04450656\n",
            " 0.04388148 0.04544299 0.04434969 0.04575434 0.04309953 0.04528612\n",
            " 0.04528612 0.04497477 0.04637942 0.04450656 0.048566   0.05293918\n",
            " 0.05543712 0.05543712 0.06909084 0.06705794]\n",
            "2 day output [[0.07643043]]\n",
            "3 day input [0.02623429 0.02763894 0.02810953 0.02810953 0.02810953 0.02842088\n",
            " 0.02842088 0.02967104 0.03029374 0.03029374 0.02904596 0.02904596\n",
            " 0.0277958  0.02732759 0.02888909 0.02888909 0.03060747 0.02810953\n",
            " 0.03123255 0.03138703 0.02873223 0.02935731 0.03232584 0.03123255\n",
            " 0.02654802 0.02685937 0.02717072 0.0277958  0.02888909 0.02920282\n",
            " 0.02842088 0.02685937 0.02701624 0.02717072 0.02592294 0.02576608\n",
            " 0.02795267 0.02904596 0.02967104 0.0277958  0.02545473 0.02982552\n",
            " 0.02967104 0.03123255 0.02888909 0.02982552 0.02998239 0.02982552\n",
            " 0.02967104 0.02967104 0.02826402 0.0277958  0.02732759 0.02701624\n",
            " 0.02654802 0.02888909 0.03357362 0.03373048 0.0368535  0.03591707\n",
            " 0.03701036 0.03529199 0.03529199 0.03747858 0.03622842 0.03794679\n",
            " 0.04388148 0.04669314 0.04762957 0.04528612 0.04528612 0.05028438\n",
            " 0.04997065 0.05543712 0.05293918 0.04606806 0.04606806 0.04528612\n",
            " 0.04528612 0.04341326 0.04263132 0.04106981 0.04450656 0.04388148\n",
            " 0.04544299 0.04434969 0.04575434 0.04309953 0.04528612 0.04528612\n",
            " 0.04497477 0.04637942 0.04450656 0.048566   0.05293918 0.05543712\n",
            " 0.05543712 0.06909084 0.06705794 0.07643043]\n",
            "3 day output [[0.08098563]]\n",
            "4 day input [0.02763894 0.02810953 0.02810953 0.02810953 0.02842088 0.02842088\n",
            " 0.02967104 0.03029374 0.03029374 0.02904596 0.02904596 0.0277958\n",
            " 0.02732759 0.02888909 0.02888909 0.03060747 0.02810953 0.03123255\n",
            " 0.03138703 0.02873223 0.02935731 0.03232584 0.03123255 0.02654802\n",
            " 0.02685937 0.02717072 0.0277958  0.02888909 0.02920282 0.02842088\n",
            " 0.02685937 0.02701624 0.02717072 0.02592294 0.02576608 0.02795267\n",
            " 0.02904596 0.02967104 0.0277958  0.02545473 0.02982552 0.02967104\n",
            " 0.03123255 0.02888909 0.02982552 0.02998239 0.02982552 0.02967104\n",
            " 0.02967104 0.02826402 0.0277958  0.02732759 0.02701624 0.02654802\n",
            " 0.02888909 0.03357362 0.03373048 0.0368535  0.03591707 0.03701036\n",
            " 0.03529199 0.03529199 0.03747858 0.03622842 0.03794679 0.04388148\n",
            " 0.04669314 0.04762957 0.04528612 0.04528612 0.05028438 0.04997065\n",
            " 0.05543712 0.05293918 0.04606806 0.04606806 0.04528612 0.04528612\n",
            " 0.04341326 0.04263132 0.04106981 0.04450656 0.04388148 0.04544299\n",
            " 0.04434969 0.04575434 0.04309953 0.04528612 0.04528612 0.04497477\n",
            " 0.04637942 0.04450656 0.048566   0.05293918 0.05543712 0.05543712\n",
            " 0.06909084 0.06705794 0.07643043 0.08098563]\n",
            "4 day output [[0.0828475]]\n",
            "5 day input [0.02810953 0.02810953 0.02810953 0.02842088 0.02842088 0.02967104\n",
            " 0.03029374 0.03029374 0.02904596 0.02904596 0.0277958  0.02732759\n",
            " 0.02888909 0.02888909 0.03060747 0.02810953 0.03123255 0.03138703\n",
            " 0.02873223 0.02935731 0.03232584 0.03123255 0.02654802 0.02685937\n",
            " 0.02717072 0.0277958  0.02888909 0.02920282 0.02842088 0.02685937\n",
            " 0.02701624 0.02717072 0.02592294 0.02576608 0.02795267 0.02904596\n",
            " 0.02967104 0.0277958  0.02545473 0.02982552 0.02967104 0.03123255\n",
            " 0.02888909 0.02982552 0.02998239 0.02982552 0.02967104 0.02967104\n",
            " 0.02826402 0.0277958  0.02732759 0.02701624 0.02654802 0.02888909\n",
            " 0.03357362 0.03373048 0.0368535  0.03591707 0.03701036 0.03529199\n",
            " 0.03529199 0.03747858 0.03622842 0.03794679 0.04388148 0.04669314\n",
            " 0.04762957 0.04528612 0.04528612 0.05028438 0.04997065 0.05543712\n",
            " 0.05293918 0.04606806 0.04606806 0.04528612 0.04528612 0.04341326\n",
            " 0.04263132 0.04106981 0.04450656 0.04388148 0.04544299 0.04434969\n",
            " 0.04575434 0.04309953 0.04528612 0.04528612 0.04497477 0.04637942\n",
            " 0.04450656 0.048566   0.05293918 0.05543712 0.05543712 0.06909084\n",
            " 0.06705794 0.07643043 0.08098563 0.0828475 ]\n",
            "5 day output [[0.09337017]]\n",
            "6 day input [0.02810953 0.02810953 0.02842088 0.02842088 0.02967104 0.03029374\n",
            " 0.03029374 0.02904596 0.02904596 0.0277958  0.02732759 0.02888909\n",
            " 0.02888909 0.03060747 0.02810953 0.03123255 0.03138703 0.02873223\n",
            " 0.02935731 0.03232584 0.03123255 0.02654802 0.02685937 0.02717072\n",
            " 0.0277958  0.02888909 0.02920282 0.02842088 0.02685937 0.02701624\n",
            " 0.02717072 0.02592294 0.02576608 0.02795267 0.02904596 0.02967104\n",
            " 0.0277958  0.02545473 0.02982552 0.02967104 0.03123255 0.02888909\n",
            " 0.02982552 0.02998239 0.02982552 0.02967104 0.02967104 0.02826402\n",
            " 0.0277958  0.02732759 0.02701624 0.02654802 0.02888909 0.03357362\n",
            " 0.03373048 0.0368535  0.03591707 0.03701036 0.03529199 0.03529199\n",
            " 0.03747858 0.03622842 0.03794679 0.04388148 0.04669314 0.04762957\n",
            " 0.04528612 0.04528612 0.05028438 0.04997065 0.05543712 0.05293918\n",
            " 0.04606806 0.04606806 0.04528612 0.04528612 0.04341326 0.04263132\n",
            " 0.04106981 0.04450656 0.04388148 0.04544299 0.04434969 0.04575434\n",
            " 0.04309953 0.04528612 0.04528612 0.04497477 0.04637942 0.04450656\n",
            " 0.048566   0.05293918 0.05543712 0.05543712 0.06909084 0.06705794\n",
            " 0.07643043 0.08098563 0.0828475  0.09337017]\n",
            "6 day output [[0.09819735]]\n",
            "7 day input [0.02810953 0.02842088 0.02842088 0.02967104 0.03029374 0.03029374\n",
            " 0.02904596 0.02904596 0.0277958  0.02732759 0.02888909 0.02888909\n",
            " 0.03060747 0.02810953 0.03123255 0.03138703 0.02873223 0.02935731\n",
            " 0.03232584 0.03123255 0.02654802 0.02685937 0.02717072 0.0277958\n",
            " 0.02888909 0.02920282 0.02842088 0.02685937 0.02701624 0.02717072\n",
            " 0.02592294 0.02576608 0.02795267 0.02904596 0.02967104 0.0277958\n",
            " 0.02545473 0.02982552 0.02967104 0.03123255 0.02888909 0.02982552\n",
            " 0.02998239 0.02982552 0.02967104 0.02967104 0.02826402 0.0277958\n",
            " 0.02732759 0.02701624 0.02654802 0.02888909 0.03357362 0.03373048\n",
            " 0.0368535  0.03591707 0.03701036 0.03529199 0.03529199 0.03747858\n",
            " 0.03622842 0.03794679 0.04388148 0.04669314 0.04762957 0.04528612\n",
            " 0.04528612 0.05028438 0.04997065 0.05543712 0.05293918 0.04606806\n",
            " 0.04606806 0.04528612 0.04528612 0.04341326 0.04263132 0.04106981\n",
            " 0.04450656 0.04388148 0.04544299 0.04434969 0.04575434 0.04309953\n",
            " 0.04528612 0.04528612 0.04497477 0.04637942 0.04450656 0.048566\n",
            " 0.05293918 0.05543712 0.05543712 0.06909084 0.06705794 0.07643043\n",
            " 0.08098563 0.0828475  0.09337017 0.09819735]\n",
            "7 day output [[0.10433866]]\n",
            "8 day input [0.02842088 0.02842088 0.02967104 0.03029374 0.03029374 0.02904596\n",
            " 0.02904596 0.0277958  0.02732759 0.02888909 0.02888909 0.03060747\n",
            " 0.02810953 0.03123255 0.03138703 0.02873223 0.02935731 0.03232584\n",
            " 0.03123255 0.02654802 0.02685937 0.02717072 0.0277958  0.02888909\n",
            " 0.02920282 0.02842088 0.02685937 0.02701624 0.02717072 0.02592294\n",
            " 0.02576608 0.02795267 0.02904596 0.02967104 0.0277958  0.02545473\n",
            " 0.02982552 0.02967104 0.03123255 0.02888909 0.02982552 0.02998239\n",
            " 0.02982552 0.02967104 0.02967104 0.02826402 0.0277958  0.02732759\n",
            " 0.02701624 0.02654802 0.02888909 0.03357362 0.03373048 0.0368535\n",
            " 0.03591707 0.03701036 0.03529199 0.03529199 0.03747858 0.03622842\n",
            " 0.03794679 0.04388148 0.04669314 0.04762957 0.04528612 0.04528612\n",
            " 0.05028438 0.04997065 0.05543712 0.05293918 0.04606806 0.04606806\n",
            " 0.04528612 0.04528612 0.04341326 0.04263132 0.04106981 0.04450656\n",
            " 0.04388148 0.04544299 0.04434969 0.04575434 0.04309953 0.04528612\n",
            " 0.04528612 0.04497477 0.04637942 0.04450656 0.048566   0.05293918\n",
            " 0.05543712 0.05543712 0.06909084 0.06705794 0.07643043 0.08098563\n",
            " 0.0828475  0.09337017 0.09819735 0.10433866]\n",
            "8 day output [[0.11142918]]\n",
            "9 day input [0.02842088 0.02967104 0.03029374 0.03029374 0.02904596 0.02904596\n",
            " 0.0277958  0.02732759 0.02888909 0.02888909 0.03060747 0.02810953\n",
            " 0.03123255 0.03138703 0.02873223 0.02935731 0.03232584 0.03123255\n",
            " 0.02654802 0.02685937 0.02717072 0.0277958  0.02888909 0.02920282\n",
            " 0.02842088 0.02685937 0.02701624 0.02717072 0.02592294 0.02576608\n",
            " 0.02795267 0.02904596 0.02967104 0.0277958  0.02545473 0.02982552\n",
            " 0.02967104 0.03123255 0.02888909 0.02982552 0.02998239 0.02982552\n",
            " 0.02967104 0.02967104 0.02826402 0.0277958  0.02732759 0.02701624\n",
            " 0.02654802 0.02888909 0.03357362 0.03373048 0.0368535  0.03591707\n",
            " 0.03701036 0.03529199 0.03529199 0.03747858 0.03622842 0.03794679\n",
            " 0.04388148 0.04669314 0.04762957 0.04528612 0.04528612 0.05028438\n",
            " 0.04997065 0.05543712 0.05293918 0.04606806 0.04606806 0.04528612\n",
            " 0.04528612 0.04341326 0.04263132 0.04106981 0.04450656 0.04388148\n",
            " 0.04544299 0.04434969 0.04575434 0.04309953 0.04528612 0.04528612\n",
            " 0.04497477 0.04637942 0.04450656 0.048566   0.05293918 0.05543712\n",
            " 0.05543712 0.06909084 0.06705794 0.07643043 0.08098563 0.0828475\n",
            " 0.09337017 0.09819735 0.10433866 0.11142918]\n",
            "9 day output [[0.12032572]]\n",
            "10 day input [0.02967104 0.03029374 0.03029374 0.02904596 0.02904596 0.0277958\n",
            " 0.02732759 0.02888909 0.02888909 0.03060747 0.02810953 0.03123255\n",
            " 0.03138703 0.02873223 0.02935731 0.03232584 0.03123255 0.02654802\n",
            " 0.02685937 0.02717072 0.0277958  0.02888909 0.02920282 0.02842088\n",
            " 0.02685937 0.02701624 0.02717072 0.02592294 0.02576608 0.02795267\n",
            " 0.02904596 0.02967104 0.0277958  0.02545473 0.02982552 0.02967104\n",
            " 0.03123255 0.02888909 0.02982552 0.02998239 0.02982552 0.02967104\n",
            " 0.02967104 0.02826402 0.0277958  0.02732759 0.02701624 0.02654802\n",
            " 0.02888909 0.03357362 0.03373048 0.0368535  0.03591707 0.03701036\n",
            " 0.03529199 0.03529199 0.03747858 0.03622842 0.03794679 0.04388148\n",
            " 0.04669314 0.04762957 0.04528612 0.04528612 0.05028438 0.04997065\n",
            " 0.05543712 0.05293918 0.04606806 0.04606806 0.04528612 0.04528612\n",
            " 0.04341326 0.04263132 0.04106981 0.04450656 0.04388148 0.04544299\n",
            " 0.04434969 0.04575434 0.04309953 0.04528612 0.04528612 0.04497477\n",
            " 0.04637942 0.04450656 0.048566   0.05293918 0.05543712 0.05543712\n",
            " 0.06909084 0.06705794 0.07643043 0.08098563 0.0828475  0.09337017\n",
            " 0.09819735 0.10433866 0.11142918 0.12032572]\n",
            "10 day output [[0.12401151]]\n",
            "11 day input [0.03029374 0.03029374 0.02904596 0.02904596 0.0277958  0.02732759\n",
            " 0.02888909 0.02888909 0.03060747 0.02810953 0.03123255 0.03138703\n",
            " 0.02873223 0.02935731 0.03232584 0.03123255 0.02654802 0.02685937\n",
            " 0.02717072 0.0277958  0.02888909 0.02920282 0.02842088 0.02685937\n",
            " 0.02701624 0.02717072 0.02592294 0.02576608 0.02795267 0.02904596\n",
            " 0.02967104 0.0277958  0.02545473 0.02982552 0.02967104 0.03123255\n",
            " 0.02888909 0.02982552 0.02998239 0.02982552 0.02967104 0.02967104\n",
            " 0.02826402 0.0277958  0.02732759 0.02701624 0.02654802 0.02888909\n",
            " 0.03357362 0.03373048 0.0368535  0.03591707 0.03701036 0.03529199\n",
            " 0.03529199 0.03747858 0.03622842 0.03794679 0.04388148 0.04669314\n",
            " 0.04762957 0.04528612 0.04528612 0.05028438 0.04997065 0.05543712\n",
            " 0.05293918 0.04606806 0.04606806 0.04528612 0.04528612 0.04341326\n",
            " 0.04263132 0.04106981 0.04450656 0.04388148 0.04544299 0.04434969\n",
            " 0.04575434 0.04309953 0.04528612 0.04528612 0.04497477 0.04637942\n",
            " 0.04450656 0.048566   0.05293918 0.05543712 0.05543712 0.06909084\n",
            " 0.06705794 0.07643043 0.08098563 0.0828475  0.09337017 0.09819735\n",
            " 0.10433866 0.11142918 0.12032572 0.12401151]\n",
            "11 day output [[0.13171694]]\n",
            "12 day input [0.03029374 0.02904596 0.02904596 0.0277958  0.02732759 0.02888909\n",
            " 0.02888909 0.03060747 0.02810953 0.03123255 0.03138703 0.02873223\n",
            " 0.02935731 0.03232584 0.03123255 0.02654802 0.02685937 0.02717072\n",
            " 0.0277958  0.02888909 0.02920282 0.02842088 0.02685937 0.02701624\n",
            " 0.02717072 0.02592294 0.02576608 0.02795267 0.02904596 0.02967104\n",
            " 0.0277958  0.02545473 0.02982552 0.02967104 0.03123255 0.02888909\n",
            " 0.02982552 0.02998239 0.02982552 0.02967104 0.02967104 0.02826402\n",
            " 0.0277958  0.02732759 0.02701624 0.02654802 0.02888909 0.03357362\n",
            " 0.03373048 0.0368535  0.03591707 0.03701036 0.03529199 0.03529199\n",
            " 0.03747858 0.03622842 0.03794679 0.04388148 0.04669314 0.04762957\n",
            " 0.04528612 0.04528612 0.05028438 0.04997065 0.05543712 0.05293918\n",
            " 0.04606806 0.04606806 0.04528612 0.04528612 0.04341326 0.04263132\n",
            " 0.04106981 0.04450656 0.04388148 0.04544299 0.04434969 0.04575434\n",
            " 0.04309953 0.04528612 0.04528612 0.04497477 0.04637942 0.04450656\n",
            " 0.048566   0.05293918 0.05543712 0.05543712 0.06909084 0.06705794\n",
            " 0.07643043 0.08098563 0.0828475  0.09337017 0.09819735 0.10433866\n",
            " 0.11142918 0.12032572 0.12401151 0.13171694]\n",
            "12 day output [[0.13989861]]\n",
            "13 day input [0.02904596 0.02904596 0.0277958  0.02732759 0.02888909 0.02888909\n",
            " 0.03060747 0.02810953 0.03123255 0.03138703 0.02873223 0.02935731\n",
            " 0.03232584 0.03123255 0.02654802 0.02685937 0.02717072 0.0277958\n",
            " 0.02888909 0.02920282 0.02842088 0.02685937 0.02701624 0.02717072\n",
            " 0.02592294 0.02576608 0.02795267 0.02904596 0.02967104 0.0277958\n",
            " 0.02545473 0.02982552 0.02967104 0.03123255 0.02888909 0.02982552\n",
            " 0.02998239 0.02982552 0.02967104 0.02967104 0.02826402 0.0277958\n",
            " 0.02732759 0.02701624 0.02654802 0.02888909 0.03357362 0.03373048\n",
            " 0.0368535  0.03591707 0.03701036 0.03529199 0.03529199 0.03747858\n",
            " 0.03622842 0.03794679 0.04388148 0.04669314 0.04762957 0.04528612\n",
            " 0.04528612 0.05028438 0.04997065 0.05543712 0.05293918 0.04606806\n",
            " 0.04606806 0.04528612 0.04528612 0.04341326 0.04263132 0.04106981\n",
            " 0.04450656 0.04388148 0.04544299 0.04434969 0.04575434 0.04309953\n",
            " 0.04528612 0.04528612 0.04497477 0.04637942 0.04450656 0.048566\n",
            " 0.05293918 0.05543712 0.05543712 0.06909084 0.06705794 0.07643043\n",
            " 0.08098563 0.0828475  0.09337017 0.09819735 0.10433866 0.11142918\n",
            " 0.12032572 0.12401151 0.13171694 0.13989861]\n",
            "13 day output [[0.1463221]]\n",
            "14 day input [0.02904596 0.0277958  0.02732759 0.02888909 0.02888909 0.03060747\n",
            " 0.02810953 0.03123255 0.03138703 0.02873223 0.02935731 0.03232584\n",
            " 0.03123255 0.02654802 0.02685937 0.02717072 0.0277958  0.02888909\n",
            " 0.02920282 0.02842088 0.02685937 0.02701624 0.02717072 0.02592294\n",
            " 0.02576608 0.02795267 0.02904596 0.02967104 0.0277958  0.02545473\n",
            " 0.02982552 0.02967104 0.03123255 0.02888909 0.02982552 0.02998239\n",
            " 0.02982552 0.02967104 0.02967104 0.02826402 0.0277958  0.02732759\n",
            " 0.02701624 0.02654802 0.02888909 0.03357362 0.03373048 0.0368535\n",
            " 0.03591707 0.03701036 0.03529199 0.03529199 0.03747858 0.03622842\n",
            " 0.03794679 0.04388148 0.04669314 0.04762957 0.04528612 0.04528612\n",
            " 0.05028438 0.04997065 0.05543712 0.05293918 0.04606806 0.04606806\n",
            " 0.04528612 0.04528612 0.04341326 0.04263132 0.04106981 0.04450656\n",
            " 0.04388148 0.04544299 0.04434969 0.04575434 0.04309953 0.04528612\n",
            " 0.04528612 0.04497477 0.04637942 0.04450656 0.048566   0.05293918\n",
            " 0.05543712 0.05543712 0.06909084 0.06705794 0.07643043 0.08098563\n",
            " 0.0828475  0.09337017 0.09819735 0.10433866 0.11142918 0.12032572\n",
            " 0.12401151 0.13171694 0.13989861 0.1463221 ]\n",
            "14 day output [[0.15636884]]\n",
            "15 day input [0.0277958  0.02732759 0.02888909 0.02888909 0.03060747 0.02810953\n",
            " 0.03123255 0.03138703 0.02873223 0.02935731 0.03232584 0.03123255\n",
            " 0.02654802 0.02685937 0.02717072 0.0277958  0.02888909 0.02920282\n",
            " 0.02842088 0.02685937 0.02701624 0.02717072 0.02592294 0.02576608\n",
            " 0.02795267 0.02904596 0.02967104 0.0277958  0.02545473 0.02982552\n",
            " 0.02967104 0.03123255 0.02888909 0.02982552 0.02998239 0.02982552\n",
            " 0.02967104 0.02967104 0.02826402 0.0277958  0.02732759 0.02701624\n",
            " 0.02654802 0.02888909 0.03357362 0.03373048 0.0368535  0.03591707\n",
            " 0.03701036 0.03529199 0.03529199 0.03747858 0.03622842 0.03794679\n",
            " 0.04388148 0.04669314 0.04762957 0.04528612 0.04528612 0.05028438\n",
            " 0.04997065 0.05543712 0.05293918 0.04606806 0.04606806 0.04528612\n",
            " 0.04528612 0.04341326 0.04263132 0.04106981 0.04450656 0.04388148\n",
            " 0.04544299 0.04434969 0.04575434 0.04309953 0.04528612 0.04528612\n",
            " 0.04497477 0.04637942 0.04450656 0.048566   0.05293918 0.05543712\n",
            " 0.05543712 0.06909084 0.06705794 0.07643043 0.08098563 0.0828475\n",
            " 0.09337017 0.09819735 0.10433866 0.11142918 0.12032572 0.12401151\n",
            " 0.13171694 0.13989861 0.1463221  0.15636884]\n",
            "15 day output [[0.1604766]]\n",
            "16 day input [0.02732759 0.02888909 0.02888909 0.03060747 0.02810953 0.03123255\n",
            " 0.03138703 0.02873223 0.02935731 0.03232584 0.03123255 0.02654802\n",
            " 0.02685937 0.02717072 0.0277958  0.02888909 0.02920282 0.02842088\n",
            " 0.02685937 0.02701624 0.02717072 0.02592294 0.02576608 0.02795267\n",
            " 0.02904596 0.02967104 0.0277958  0.02545473 0.02982552 0.02967104\n",
            " 0.03123255 0.02888909 0.02982552 0.02998239 0.02982552 0.02967104\n",
            " 0.02967104 0.02826402 0.0277958  0.02732759 0.02701624 0.02654802\n",
            " 0.02888909 0.03357362 0.03373048 0.0368535  0.03591707 0.03701036\n",
            " 0.03529199 0.03529199 0.03747858 0.03622842 0.03794679 0.04388148\n",
            " 0.04669314 0.04762957 0.04528612 0.04528612 0.05028438 0.04997065\n",
            " 0.05543712 0.05293918 0.04606806 0.04606806 0.04528612 0.04528612\n",
            " 0.04341326 0.04263132 0.04106981 0.04450656 0.04388148 0.04544299\n",
            " 0.04434969 0.04575434 0.04309953 0.04528612 0.04528612 0.04497477\n",
            " 0.04637942 0.04450656 0.048566   0.05293918 0.05543712 0.05543712\n",
            " 0.06909084 0.06705794 0.07643043 0.08098563 0.0828475  0.09337017\n",
            " 0.09819735 0.10433866 0.11142918 0.12032572 0.12401151 0.13171694\n",
            " 0.13989861 0.1463221  0.15636884 0.1604766 ]\n",
            "16 day output [[0.16854094]]\n",
            "17 day input [0.02888909 0.02888909 0.03060747 0.02810953 0.03123255 0.03138703\n",
            " 0.02873223 0.02935731 0.03232584 0.03123255 0.02654802 0.02685937\n",
            " 0.02717072 0.0277958  0.02888909 0.02920282 0.02842088 0.02685937\n",
            " 0.02701624 0.02717072 0.02592294 0.02576608 0.02795267 0.02904596\n",
            " 0.02967104 0.0277958  0.02545473 0.02982552 0.02967104 0.03123255\n",
            " 0.02888909 0.02982552 0.02998239 0.02982552 0.02967104 0.02967104\n",
            " 0.02826402 0.0277958  0.02732759 0.02701624 0.02654802 0.02888909\n",
            " 0.03357362 0.03373048 0.0368535  0.03591707 0.03701036 0.03529199\n",
            " 0.03529199 0.03747858 0.03622842 0.03794679 0.04388148 0.04669314\n",
            " 0.04762957 0.04528612 0.04528612 0.05028438 0.04997065 0.05543712\n",
            " 0.05293918 0.04606806 0.04606806 0.04528612 0.04528612 0.04341326\n",
            " 0.04263132 0.04106981 0.04450656 0.04388148 0.04544299 0.04434969\n",
            " 0.04575434 0.04309953 0.04528612 0.04528612 0.04497477 0.04637942\n",
            " 0.04450656 0.048566   0.05293918 0.05543712 0.05543712 0.06909084\n",
            " 0.06705794 0.07643043 0.08098563 0.0828475  0.09337017 0.09819735\n",
            " 0.10433866 0.11142918 0.12032572 0.12401151 0.13171694 0.13989861\n",
            " 0.1463221  0.15636884 0.1604766  0.16854094]\n",
            "17 day output [[0.1741633]]\n",
            "18 day input [0.02888909 0.03060747 0.02810953 0.03123255 0.03138703 0.02873223\n",
            " 0.02935731 0.03232584 0.03123255 0.02654802 0.02685937 0.02717072\n",
            " 0.0277958  0.02888909 0.02920282 0.02842088 0.02685937 0.02701624\n",
            " 0.02717072 0.02592294 0.02576608 0.02795267 0.02904596 0.02967104\n",
            " 0.0277958  0.02545473 0.02982552 0.02967104 0.03123255 0.02888909\n",
            " 0.02982552 0.02998239 0.02982552 0.02967104 0.02967104 0.02826402\n",
            " 0.0277958  0.02732759 0.02701624 0.02654802 0.02888909 0.03357362\n",
            " 0.03373048 0.0368535  0.03591707 0.03701036 0.03529199 0.03529199\n",
            " 0.03747858 0.03622842 0.03794679 0.04388148 0.04669314 0.04762957\n",
            " 0.04528612 0.04528612 0.05028438 0.04997065 0.05543712 0.05293918\n",
            " 0.04606806 0.04606806 0.04528612 0.04528612 0.04341326 0.04263132\n",
            " 0.04106981 0.04450656 0.04388148 0.04544299 0.04434969 0.04575434\n",
            " 0.04309953 0.04528612 0.04528612 0.04497477 0.04637942 0.04450656\n",
            " 0.048566   0.05293918 0.05543712 0.05543712 0.06909084 0.06705794\n",
            " 0.07643043 0.08098563 0.0828475  0.09337017 0.09819735 0.10433866\n",
            " 0.11142918 0.12032572 0.12401151 0.13171694 0.13989861 0.1463221\n",
            " 0.15636884 0.1604766  0.16854094 0.1741633 ]\n",
            "18 day output [[0.17709549]]\n",
            "19 day input [0.03060747 0.02810953 0.03123255 0.03138703 0.02873223 0.02935731\n",
            " 0.03232584 0.03123255 0.02654802 0.02685937 0.02717072 0.0277958\n",
            " 0.02888909 0.02920282 0.02842088 0.02685937 0.02701624 0.02717072\n",
            " 0.02592294 0.02576608 0.02795267 0.02904596 0.02967104 0.0277958\n",
            " 0.02545473 0.02982552 0.02967104 0.03123255 0.02888909 0.02982552\n",
            " 0.02998239 0.02982552 0.02967104 0.02967104 0.02826402 0.0277958\n",
            " 0.02732759 0.02701624 0.02654802 0.02888909 0.03357362 0.03373048\n",
            " 0.0368535  0.03591707 0.03701036 0.03529199 0.03529199 0.03747858\n",
            " 0.03622842 0.03794679 0.04388148 0.04669314 0.04762957 0.04528612\n",
            " 0.04528612 0.05028438 0.04997065 0.05543712 0.05293918 0.04606806\n",
            " 0.04606806 0.04528612 0.04528612 0.04341326 0.04263132 0.04106981\n",
            " 0.04450656 0.04388148 0.04544299 0.04434969 0.04575434 0.04309953\n",
            " 0.04528612 0.04528612 0.04497477 0.04637942 0.04450656 0.048566\n",
            " 0.05293918 0.05543712 0.05543712 0.06909084 0.06705794 0.07643043\n",
            " 0.08098563 0.0828475  0.09337017 0.09819735 0.10433866 0.11142918\n",
            " 0.12032572 0.12401151 0.13171694 0.13989861 0.1463221  0.15636884\n",
            " 0.1604766  0.16854094 0.1741633  0.17709549]\n",
            "19 day output [[0.18648705]]\n",
            "20 day input [0.02810953 0.03123255 0.03138703 0.02873223 0.02935731 0.03232584\n",
            " 0.03123255 0.02654802 0.02685937 0.02717072 0.0277958  0.02888909\n",
            " 0.02920282 0.02842088 0.02685937 0.02701624 0.02717072 0.02592294\n",
            " 0.02576608 0.02795267 0.02904596 0.02967104 0.0277958  0.02545473\n",
            " 0.02982552 0.02967104 0.03123255 0.02888909 0.02982552 0.02998239\n",
            " 0.02982552 0.02967104 0.02967104 0.02826402 0.0277958  0.02732759\n",
            " 0.02701624 0.02654802 0.02888909 0.03357362 0.03373048 0.0368535\n",
            " 0.03591707 0.03701036 0.03529199 0.03529199 0.03747858 0.03622842\n",
            " 0.03794679 0.04388148 0.04669314 0.04762957 0.04528612 0.04528612\n",
            " 0.05028438 0.04997065 0.05543712 0.05293918 0.04606806 0.04606806\n",
            " 0.04528612 0.04528612 0.04341326 0.04263132 0.04106981 0.04450656\n",
            " 0.04388148 0.04544299 0.04434969 0.04575434 0.04309953 0.04528612\n",
            " 0.04528612 0.04497477 0.04637942 0.04450656 0.048566   0.05293918\n",
            " 0.05543712 0.05543712 0.06909084 0.06705794 0.07643043 0.08098563\n",
            " 0.0828475  0.09337017 0.09819735 0.10433866 0.11142918 0.12032572\n",
            " 0.12401151 0.13171694 0.13989861 0.1463221  0.15636884 0.1604766\n",
            " 0.16854094 0.1741633  0.17709549 0.18648705]\n",
            "20 day output [[0.19204517]]\n",
            "21 day input [0.03123255 0.03138703 0.02873223 0.02935731 0.03232584 0.03123255\n",
            " 0.02654802 0.02685937 0.02717072 0.0277958  0.02888909 0.02920282\n",
            " 0.02842088 0.02685937 0.02701624 0.02717072 0.02592294 0.02576608\n",
            " 0.02795267 0.02904596 0.02967104 0.0277958  0.02545473 0.02982552\n",
            " 0.02967104 0.03123255 0.02888909 0.02982552 0.02998239 0.02982552\n",
            " 0.02967104 0.02967104 0.02826402 0.0277958  0.02732759 0.02701624\n",
            " 0.02654802 0.02888909 0.03357362 0.03373048 0.0368535  0.03591707\n",
            " 0.03701036 0.03529199 0.03529199 0.03747858 0.03622842 0.03794679\n",
            " 0.04388148 0.04669314 0.04762957 0.04528612 0.04528612 0.05028438\n",
            " 0.04997065 0.05543712 0.05293918 0.04606806 0.04606806 0.04528612\n",
            " 0.04528612 0.04341326 0.04263132 0.04106981 0.04450656 0.04388148\n",
            " 0.04544299 0.04434969 0.04575434 0.04309953 0.04528612 0.04528612\n",
            " 0.04497477 0.04637942 0.04450656 0.048566   0.05293918 0.05543712\n",
            " 0.05543712 0.06909084 0.06705794 0.07643043 0.08098563 0.0828475\n",
            " 0.09337017 0.09819735 0.10433866 0.11142918 0.12032572 0.12401151\n",
            " 0.13171694 0.13989861 0.1463221  0.15636884 0.1604766  0.16854094\n",
            " 0.1741633  0.17709549 0.18648705 0.19204517]\n",
            "21 day output [[0.19833492]]\n",
            "22 day input [0.03138703 0.02873223 0.02935731 0.03232584 0.03123255 0.02654802\n",
            " 0.02685937 0.02717072 0.0277958  0.02888909 0.02920282 0.02842088\n",
            " 0.02685937 0.02701624 0.02717072 0.02592294 0.02576608 0.02795267\n",
            " 0.02904596 0.02967104 0.0277958  0.02545473 0.02982552 0.02967104\n",
            " 0.03123255 0.02888909 0.02982552 0.02998239 0.02982552 0.02967104\n",
            " 0.02967104 0.02826402 0.0277958  0.02732759 0.02701624 0.02654802\n",
            " 0.02888909 0.03357362 0.03373048 0.0368535  0.03591707 0.03701036\n",
            " 0.03529199 0.03529199 0.03747858 0.03622842 0.03794679 0.04388148\n",
            " 0.04669314 0.04762957 0.04528612 0.04528612 0.05028438 0.04997065\n",
            " 0.05543712 0.05293918 0.04606806 0.04606806 0.04528612 0.04528612\n",
            " 0.04341326 0.04263132 0.04106981 0.04450656 0.04388148 0.04544299\n",
            " 0.04434969 0.04575434 0.04309953 0.04528612 0.04528612 0.04497477\n",
            " 0.04637942 0.04450656 0.048566   0.05293918 0.05543712 0.05543712\n",
            " 0.06909084 0.06705794 0.07643043 0.08098563 0.0828475  0.09337017\n",
            " 0.09819735 0.10433866 0.11142918 0.12032572 0.12401151 0.13171694\n",
            " 0.13989861 0.1463221  0.15636884 0.1604766  0.16854094 0.1741633\n",
            " 0.17709549 0.18648705 0.19204517 0.19833492]\n",
            "22 day output [[0.2075544]]\n",
            "23 day input [0.02873223 0.02935731 0.03232584 0.03123255 0.02654802 0.02685937\n",
            " 0.02717072 0.0277958  0.02888909 0.02920282 0.02842088 0.02685937\n",
            " 0.02701624 0.02717072 0.02592294 0.02576608 0.02795267 0.02904596\n",
            " 0.02967104 0.0277958  0.02545473 0.02982552 0.02967104 0.03123255\n",
            " 0.02888909 0.02982552 0.02998239 0.02982552 0.02967104 0.02967104\n",
            " 0.02826402 0.0277958  0.02732759 0.02701624 0.02654802 0.02888909\n",
            " 0.03357362 0.03373048 0.0368535  0.03591707 0.03701036 0.03529199\n",
            " 0.03529199 0.03747858 0.03622842 0.03794679 0.04388148 0.04669314\n",
            " 0.04762957 0.04528612 0.04528612 0.05028438 0.04997065 0.05543712\n",
            " 0.05293918 0.04606806 0.04606806 0.04528612 0.04528612 0.04341326\n",
            " 0.04263132 0.04106981 0.04450656 0.04388148 0.04544299 0.04434969\n",
            " 0.04575434 0.04309953 0.04528612 0.04528612 0.04497477 0.04637942\n",
            " 0.04450656 0.048566   0.05293918 0.05543712 0.05543712 0.06909084\n",
            " 0.06705794 0.07643043 0.08098563 0.0828475  0.09337017 0.09819735\n",
            " 0.10433866 0.11142918 0.12032572 0.12401151 0.13171694 0.13989861\n",
            " 0.1463221  0.15636884 0.1604766  0.16854094 0.1741633  0.17709549\n",
            " 0.18648705 0.19204517 0.19833492 0.2075544 ]\n",
            "23 day output [[0.21486545]]\n",
            "24 day input [0.02935731 0.03232584 0.03123255 0.02654802 0.02685937 0.02717072\n",
            " 0.0277958  0.02888909 0.02920282 0.02842088 0.02685937 0.02701624\n",
            " 0.02717072 0.02592294 0.02576608 0.02795267 0.02904596 0.02967104\n",
            " 0.0277958  0.02545473 0.02982552 0.02967104 0.03123255 0.02888909\n",
            " 0.02982552 0.02998239 0.02982552 0.02967104 0.02967104 0.02826402\n",
            " 0.0277958  0.02732759 0.02701624 0.02654802 0.02888909 0.03357362\n",
            " 0.03373048 0.0368535  0.03591707 0.03701036 0.03529199 0.03529199\n",
            " 0.03747858 0.03622842 0.03794679 0.04388148 0.04669314 0.04762957\n",
            " 0.04528612 0.04528612 0.05028438 0.04997065 0.05543712 0.05293918\n",
            " 0.04606806 0.04606806 0.04528612 0.04528612 0.04341326 0.04263132\n",
            " 0.04106981 0.04450656 0.04388148 0.04544299 0.04434969 0.04575434\n",
            " 0.04309953 0.04528612 0.04528612 0.04497477 0.04637942 0.04450656\n",
            " 0.048566   0.05293918 0.05543712 0.05543712 0.06909084 0.06705794\n",
            " 0.07643043 0.08098563 0.0828475  0.09337017 0.09819735 0.10433866\n",
            " 0.11142918 0.12032572 0.12401151 0.13171694 0.13989861 0.1463221\n",
            " 0.15636884 0.1604766  0.16854094 0.1741633  0.17709549 0.18648705\n",
            " 0.19204517 0.19833492 0.2075544  0.21486545]\n",
            "24 day output [[0.22183935]]\n",
            "25 day input [0.03232584 0.03123255 0.02654802 0.02685937 0.02717072 0.0277958\n",
            " 0.02888909 0.02920282 0.02842088 0.02685937 0.02701624 0.02717072\n",
            " 0.02592294 0.02576608 0.02795267 0.02904596 0.02967104 0.0277958\n",
            " 0.02545473 0.02982552 0.02967104 0.03123255 0.02888909 0.02982552\n",
            " 0.02998239 0.02982552 0.02967104 0.02967104 0.02826402 0.0277958\n",
            " 0.02732759 0.02701624 0.02654802 0.02888909 0.03357362 0.03373048\n",
            " 0.0368535  0.03591707 0.03701036 0.03529199 0.03529199 0.03747858\n",
            " 0.03622842 0.03794679 0.04388148 0.04669314 0.04762957 0.04528612\n",
            " 0.04528612 0.05028438 0.04997065 0.05543712 0.05293918 0.04606806\n",
            " 0.04606806 0.04528612 0.04528612 0.04341326 0.04263132 0.04106981\n",
            " 0.04450656 0.04388148 0.04544299 0.04434969 0.04575434 0.04309953\n",
            " 0.04528612 0.04528612 0.04497477 0.04637942 0.04450656 0.048566\n",
            " 0.05293918 0.05543712 0.05543712 0.06909084 0.06705794 0.07643043\n",
            " 0.08098563 0.0828475  0.09337017 0.09819735 0.10433866 0.11142918\n",
            " 0.12032572 0.12401151 0.13171694 0.13989861 0.1463221  0.15636884\n",
            " 0.1604766  0.16854094 0.1741633  0.17709549 0.18648705 0.19204517\n",
            " 0.19833492 0.2075544  0.21486545 0.22183935]\n",
            "25 day output [[0.23007199]]\n",
            "26 day input [0.03123255 0.02654802 0.02685937 0.02717072 0.0277958  0.02888909\n",
            " 0.02920282 0.02842088 0.02685937 0.02701624 0.02717072 0.02592294\n",
            " 0.02576608 0.02795267 0.02904596 0.02967104 0.0277958  0.02545473\n",
            " 0.02982552 0.02967104 0.03123255 0.02888909 0.02982552 0.02998239\n",
            " 0.02982552 0.02967104 0.02967104 0.02826402 0.0277958  0.02732759\n",
            " 0.02701624 0.02654802 0.02888909 0.03357362 0.03373048 0.0368535\n",
            " 0.03591707 0.03701036 0.03529199 0.03529199 0.03747858 0.03622842\n",
            " 0.03794679 0.04388148 0.04669314 0.04762957 0.04528612 0.04528612\n",
            " 0.05028438 0.04997065 0.05543712 0.05293918 0.04606806 0.04606806\n",
            " 0.04528612 0.04528612 0.04341326 0.04263132 0.04106981 0.04450656\n",
            " 0.04388148 0.04544299 0.04434969 0.04575434 0.04309953 0.04528612\n",
            " 0.04528612 0.04497477 0.04637942 0.04450656 0.048566   0.05293918\n",
            " 0.05543712 0.05543712 0.06909084 0.06705794 0.07643043 0.08098563\n",
            " 0.0828475  0.09337017 0.09819735 0.10433866 0.11142918 0.12032572\n",
            " 0.12401151 0.13171694 0.13989861 0.1463221  0.15636884 0.1604766\n",
            " 0.16854094 0.1741633  0.17709549 0.18648705 0.19204517 0.19833492\n",
            " 0.2075544  0.21486545 0.22183935 0.23007199]\n",
            "26 day output [[0.2373432]]\n",
            "27 day input [0.02654802 0.02685937 0.02717072 0.0277958  0.02888909 0.02920282\n",
            " 0.02842088 0.02685937 0.02701624 0.02717072 0.02592294 0.02576608\n",
            " 0.02795267 0.02904596 0.02967104 0.0277958  0.02545473 0.02982552\n",
            " 0.02967104 0.03123255 0.02888909 0.02982552 0.02998239 0.02982552\n",
            " 0.02967104 0.02967104 0.02826402 0.0277958  0.02732759 0.02701624\n",
            " 0.02654802 0.02888909 0.03357362 0.03373048 0.0368535  0.03591707\n",
            " 0.03701036 0.03529199 0.03529199 0.03747858 0.03622842 0.03794679\n",
            " 0.04388148 0.04669314 0.04762957 0.04528612 0.04528612 0.05028438\n",
            " 0.04997065 0.05543712 0.05293918 0.04606806 0.04606806 0.04528612\n",
            " 0.04528612 0.04341326 0.04263132 0.04106981 0.04450656 0.04388148\n",
            " 0.04544299 0.04434969 0.04575434 0.04309953 0.04528612 0.04528612\n",
            " 0.04497477 0.04637942 0.04450656 0.048566   0.05293918 0.05543712\n",
            " 0.05543712 0.06909084 0.06705794 0.07643043 0.08098563 0.0828475\n",
            " 0.09337017 0.09819735 0.10433866 0.11142918 0.12032572 0.12401151\n",
            " 0.13171694 0.13989861 0.1463221  0.15636884 0.1604766  0.16854094\n",
            " 0.1741633  0.17709549 0.18648705 0.19204517 0.19833492 0.2075544\n",
            " 0.21486545 0.22183935 0.23007199 0.23734321]\n",
            "27 day output [[0.24598293]]\n",
            "28 day input [0.02685937 0.02717072 0.0277958  0.02888909 0.02920282 0.02842088\n",
            " 0.02685937 0.02701624 0.02717072 0.02592294 0.02576608 0.02795267\n",
            " 0.02904596 0.02967104 0.0277958  0.02545473 0.02982552 0.02967104\n",
            " 0.03123255 0.02888909 0.02982552 0.02998239 0.02982552 0.02967104\n",
            " 0.02967104 0.02826402 0.0277958  0.02732759 0.02701624 0.02654802\n",
            " 0.02888909 0.03357362 0.03373048 0.0368535  0.03591707 0.03701036\n",
            " 0.03529199 0.03529199 0.03747858 0.03622842 0.03794679 0.04388148\n",
            " 0.04669314 0.04762957 0.04528612 0.04528612 0.05028438 0.04997065\n",
            " 0.05543712 0.05293918 0.04606806 0.04606806 0.04528612 0.04528612\n",
            " 0.04341326 0.04263132 0.04106981 0.04450656 0.04388148 0.04544299\n",
            " 0.04434969 0.04575434 0.04309953 0.04528612 0.04528612 0.04497477\n",
            " 0.04637942 0.04450656 0.048566   0.05293918 0.05543712 0.05543712\n",
            " 0.06909084 0.06705794 0.07643043 0.08098563 0.0828475  0.09337017\n",
            " 0.09819735 0.10433866 0.11142918 0.12032572 0.12401151 0.13171694\n",
            " 0.13989861 0.1463221  0.15636884 0.1604766  0.16854094 0.1741633\n",
            " 0.17709549 0.18648705 0.19204517 0.19833492 0.2075544  0.21486545\n",
            " 0.22183935 0.23007199 0.23734321 0.24598293]\n",
            "28 day output [[0.2545275]]\n",
            "29 day input [0.02717072 0.0277958  0.02888909 0.02920282 0.02842088 0.02685937\n",
            " 0.02701624 0.02717072 0.02592294 0.02576608 0.02795267 0.02904596\n",
            " 0.02967104 0.0277958  0.02545473 0.02982552 0.02967104 0.03123255\n",
            " 0.02888909 0.02982552 0.02998239 0.02982552 0.02967104 0.02967104\n",
            " 0.02826402 0.0277958  0.02732759 0.02701624 0.02654802 0.02888909\n",
            " 0.03357362 0.03373048 0.0368535  0.03591707 0.03701036 0.03529199\n",
            " 0.03529199 0.03747858 0.03622842 0.03794679 0.04388148 0.04669314\n",
            " 0.04762957 0.04528612 0.04528612 0.05028438 0.04997065 0.05543712\n",
            " 0.05293918 0.04606806 0.04606806 0.04528612 0.04528612 0.04341326\n",
            " 0.04263132 0.04106981 0.04450656 0.04388148 0.04544299 0.04434969\n",
            " 0.04575434 0.04309953 0.04528612 0.04528612 0.04497477 0.04637942\n",
            " 0.04450656 0.048566   0.05293918 0.05543712 0.05543712 0.06909084\n",
            " 0.06705794 0.07643043 0.08098563 0.0828475  0.09337017 0.09819735\n",
            " 0.10433866 0.11142918 0.12032572 0.12401151 0.13171694 0.13989861\n",
            " 0.1463221  0.15636884 0.1604766  0.16854094 0.1741633  0.17709549\n",
            " 0.18648705 0.19204517 0.19833492 0.2075544  0.21486545 0.22183935\n",
            " 0.23007199 0.23734321 0.24598293 0.25452751]\n",
            "29 day output [[0.26470882]]\n"
          ]
        }
      ],
      "source": [
        "\n",
        "# 13. Predict the next 30 days\n",
        "x_input = test_data[-100:].reshape(1, -1)\n",
        "x_input.shape\n",
        "\n",
        "temp_input = list(x_input)\n",
        "temp_input = temp_input[0].tolist()\n",
        "\n",
        "from numpy import array\n",
        "\n",
        "lst_output = []\n",
        "n_steps = 100\n",
        "i = 0\n",
        "while i < 30:\n",
        "    if len(temp_input) > 100:\n",
        "        x_input = np.array(temp_input[1:])\n",
        "        print(\"{} day input {}\".format(i, x_input))\n",
        "        x_input = x_input.reshape(1, -1)\n",
        "        x_input = x_input.reshape((1, n_steps, 1))\n",
        "        yhat = model.predict(x_input, verbose=0)\n",
        "        print(\"{} day output {}\".format(i, yhat))\n",
        "        temp_input.extend(yhat[0].tolist())\n",
        "        temp_input = temp_input[1:]\n",
        "        lst_output.extend(yhat.tolist())\n",
        "        i += 1\n",
        "    else:\n",
        "        x_input = x_input.reshape((1, n_steps, 1))\n",
        "        yhat = model.predict(x_input, verbose=0)\n",
        "        print(yhat[0])\n",
        "        temp_input.extend(yhat[0].tolist())\n",
        "        print(len(temp_input))\n",
        "        lst_output.extend(yhat.tolist())\n",
        "        i += 1"
      ]
    },
    {
      "cell_type": "code",
      "execution_count": 20,
      "metadata": {},
      "outputs": [
        {
          "data": {
            "image/png": "[encoded data removed]",
            "text/plain": [
              "<Figure size 640x480 with 1 Axes>"
            ]
          },
          "metadata": {},
          "output_type": "display_data"
        }
      ],
      "source": [
        "\n",
        "# 14.Vẽ hình\n",
        "train_data_index = pd.RangeIndex(start=0, stop=train_size, step=1)\n",
        "plt.plot(scaler.inverse_transform(train_data))\n",
        "test_data_index = pd.RangeIndex(start=train_size, stop=train_size+test_size, step=1)\n",
        "plt.plot(test_data_index,scaler.inverse_transform(test_data))\n",
        "test_data_index = pd.RangeIndex(start=train_size+101, stop=train_size+test_size, step=1)\n",
        "plt.plot(test_data_index,(y_pred))\n",
        "prediect_data_index = pd.RangeIndex(start=len(df1)-1, stop=len(df1)+29, step=1)\n",
        "plt.plot(prediect_data_index,scaler.inverse_transform(lst_output))\n",
        "plt.legend(['Train','Test','Predict','Predict30days'])\n",
        "plt.show()"
      ]
    },
    {
      "cell_type": "code",
      "execution_count": 21,
      "metadata": {},
      "outputs": [
        {
          "data": {
            "image/png": "[encoded data removed]",
            "text/plain": [
              "<Figure size 640x480 with 1 Axes>"
            ]
          },
          "metadata": {},
          "output_type": "display_data"
        }
      ],
      "source": [
        "# 14.Vẽ hình\n",
        "# Dự đoán 30 ngày tiếp theo\n",
        "prediect_data_index = pd.RangeIndex(start=len(df1)-1, stop=len(df1)+29, step=1)\n",
        "plt.plot(prediect_data_index,scaler.inverse_transform(lst_output))\n",
        "plt.legend(['Predict30days'])\n",
        "plt.show()"
      ]
    },
    {
      "cell_type": "code",
      "execution_count": 22,
      "metadata": {},
      "outputs": [
        {
          "name": "stdout",
          "output_type": "stream",
          "text": [
            "[[ 5798.07650042]\n",
            " [ 5712.54291152]\n",
            " [ 6106.88720476]\n",
            " [ 6298.54600529]\n",
            " [ 6376.88363913]\n",
            " [ 6819.6218665 ]\n",
            " [ 7022.72397539]\n",
            " [ 7281.11785309]\n",
            " [ 7579.44920297]\n",
            " [ 7953.76864703]\n",
            " [ 8108.84704279]\n",
            " [ 8433.0506019 ]\n",
            " [ 8777.2921764 ]\n",
            " [ 9047.55851786]\n",
            " [ 9470.27189605]\n",
            " [ 9643.10459852]\n",
            " [ 9982.40947512]\n",
            " [10218.96846466]\n",
            " [10342.33951691]\n",
            " [10737.48663485]\n",
            " [10971.3427917 ]\n",
            " [11235.98215023]\n",
            " [11623.8891123 ]\n",
            " [11931.49918463]\n",
            " [12224.92424427]\n",
            " [12571.31002842]\n",
            " [12877.24423163]\n",
            " [13240.75798757]\n",
            " [13600.26859186]\n",
            " [14028.64406285]]\n"
          ]
        }
      ],
      "source": [
        "print(scaler.inverse_transform(lst_output))"
      ]
    }
  ],
  "metadata": {
    "colab": {
      "provenance": []
    },
    "kernelspec": {
      "display_name": "Python 3.11.0 64-bit",
      "language": "python",
      "name": "python3"
    },
    "language_info": {
      "codemirror_mode": {
        "name": "ipython",
        "version": 3
      },
      "file_extension": ".py",
      "mimetype": "text/x-python",
      "name": "python",
      "nbconvert_exporter": "python",
      "pygments_lexer": "ipython3",
      "version": "3.12.3"
    },
    "vscode": {
      "interpreter": {
        "hash": "228ec1c77332413f421e77c28617d1df6074d6a46921cdaeb15ed9feeb460bfe"
      }
    }
  },
  "nbformat": 4,
  "nbformat_minor": 0
}
