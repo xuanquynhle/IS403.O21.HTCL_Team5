{
  "cells": [
    {
      "cell_type": "markdown",
      "metadata": {
        "id": "Ik-XEHDfAHCb"
      },
      "source": [
        "# HÒA PHÁT GROUP hi\n"
      ]
    },
    {
      "cell_type": "code",
      "execution_count": 1,
      "metadata": {
        "id": "FMDKda-XIUAK"
      },
      "outputs": [],
      "source": [
        "# 1. Import thư viện cần thiết\n",
        "import numpy as np\n",
        "import pandas as pd\n",
        "import matplotlib.pyplot as plt\n",
        "from sklearn.preprocessing import MinMaxScaler\n",
        "from keras.models import Sequential\n",
        "from keras.layers import Dense, SimpleRNN"
      ]
    },
    {
      "cell_type": "code",
      "execution_count": 2,
      "metadata": {
        "id": "me8vU9MoAHCe"
      },
      "outputs": [],
      "source": [
        "# 2. Đọc file csv và gắng index với giá Price\n",
        "df = pd.read_csv('HPG Historical Data.csv')\n",
        "df1=df.reset_index()['Price']"
      ]
    },
    {
      "cell_type": "code",
      "execution_count": 6,
      "metadata": {
        "colab": {
          "base_uri": "https://localhost:8080/",
          "height": 206
        },
        "id": "DF37HodNGwmI",
        "outputId": "e390aa7d-005b-4527-8693-9f3f137eb520"
      },
      "outputs": [
        {
          "name": "stdout",
          "output_type": "stream",
          "text": [
            "<class 'pandas.core.frame.DataFrame'>\n",
            "RangeIndex: 1252 entries, 0 to 1251\n",
            "Data columns (total 8 columns):\n",
            " #   Column      Non-Null Count  Dtype  \n",
            "---  ------      --------------  -----  \n",
            " 0   Date        1252 non-null   object \n",
            " 1   Price       1252 non-null   float64\n",
            " 2   Open        1252 non-null   float64\n",
            " 3   High        1252 non-null   float64\n",
            " 4   Low         1252 non-null   float64\n",
            " 5   Vol.        1252 non-null   object \n",
            " 6   Change %    1252 non-null   int64  \n",
            " 7   Unnamed: 7  1252 non-null   object \n",
            "dtypes: float64(4), int64(1), object(3)\n",
            "memory usage: 78.4+ KB\n"
          ]
        }
      ],
      "source": [
        "df.info()"
      ]
    },
    {
      "cell_type": "code",
      "execution_count": 7,
      "metadata": {
        "colab": {
          "base_uri": "https://localhost:8080/"
        },
        "id": "JFHc2RydGqCH",
        "outputId": "678d27c4-ca4f-4801-f4b8-54dbcc991290"
      },
      "outputs": [
        {
          "data": {
            "text/plain": [
              "0    30.85\n",
              "1    31.00\n",
              "2    30.60\n",
              "3    30.35\n",
              "4    28.80\n",
              "Name: Price, dtype: float64"
            ]
          },
          "execution_count": 7,
          "metadata": {},
          "output_type": "execute_result"
        }
      ],
      "source": [
        "df1.head()"
      ]
    },
    {
      "cell_type": "code",
      "execution_count": 8,
      "metadata": {
        "id": "RdVpDho2JgL5"
      },
      "outputs": [],
      "source": [
        "# 3. Scaler data\n",
        "scaler=MinMaxScaler(feature_range=(0,1))\n",
        "df1=scaler.fit_transform(np.array(df1).reshape(-1,1))"
      ]
    },
    {
      "cell_type": "code",
      "execution_count": 9,
      "metadata": {
        "id": "B5JXpenzJoR3"
      },
      "outputs": [],
      "source": [
        "# 4. Chia train test\n",
        "train_size = int(0.65 * len(df1))\n",
        "test_size = int(0.25 * len(df1))\n",
        "val_size = len(df1) - train_size - test_size\n",
        "\n",
        "train_data = df1[:train_size]\n",
        "test_data = df1[train_size:train_size+test_size]\n",
        "val_data = df1[train_size+test_size:]"
      ]
    },
    {
      "cell_type": "code",
      "execution_count": 106,
      "metadata": {
        "id": "yJfmuBORLSfC"
      },
      "outputs": [],
      "source": [
        "# 5. Hàm Create Dataset\n",
        "import numpy\n",
        "# convert an array of values into a dataset matrix\n",
        "def create_dataset(dataset, time_step=1):\n",
        "\tdataX, dataY = [], []\n",
        "\tfor i in range(len(dataset)-time_step-1):\n",
        "\t\ta = dataset[i:(i+time_step), 0]   ###i=0, X=0,1,2,3-----99   Y=100\n",
        "\t\tdataX.append(a)\n",
        "\t\tdataY.append(dataset[i + time_step, 0])\n",
        "\treturn numpy.array(dataX), numpy.array(dataY)"
      ]
    },
    {
      "cell_type": "code",
      "execution_count": 107,
      "metadata": {
        "id": "e81cKq03LXFB"
      },
      "outputs": [],
      "source": [
        "#6. Reshape into X=t,t+1,t+2..t+99 and Y=t+100\n",
        "time_step = 100\n",
        "X_train, y_train = create_dataset(train_data, time_step)\n",
        "X_val, yval = create_dataset(val_data, time_step)\n",
        "X_test, ytest = create_dataset(test_data, time_step)"
      ]
    },
    {
      "cell_type": "code",
      "execution_count": 108,
      "metadata": {
        "id": "RdBVfku7O2qb"
      },
      "outputs": [],
      "source": [
        "# 7. Reshape input to be [samples, time steps, features] which is required for LSTM\n",
        "X_train =X_train.reshape(X_train.shape[0],X_train.shape[1] , 1)\n",
        "X_test = X_test.reshape(X_test.shape[0],X_test.shape[1] , 1)\n",
        "X_val = X_val.reshape(X_val.shape[0],X_val.shape[1] , 1)"
      ]
    },
    {
      "cell_type": "code",
      "execution_count": 109,
      "metadata": {
        "id": "sSfxrE7BO9vX"
      },
      "outputs": [],
      "source": [
        "# 8. Define LSTM Model\n",
        "model = Sequential()\n",
        "model.add(SimpleRNN(50, input_shape=(time_step, 1)))\n",
        "model.add(Dense(1))\n",
        "model.compile(loss='mean_squared_error',optimizer='adam')"
      ]
    },
    {
      "cell_type": "code",
      "execution_count": 110,
      "metadata": {
        "colab": {
          "base_uri": "https://localhost:8080/"
        },
        "id": "zgfeujZSPEKr",
        "outputId": "b4e2e288-2102-4cca-f993-105634589bdc"
      },
      "outputs": [
        {
          "name": "stdout",
          "output_type": "stream",
          "text": [
            "Epoch 1/100\n",
            "12/12 [==============================] - 3s 87ms/step - loss: 0.1375 - val_loss: 0.0364\n",
            "Epoch 2/100\n",
            "12/12 [==============================] - 1s 57ms/step - loss: 0.0151 - val_loss: 0.0181\n",
            "Epoch 3/100\n",
            "12/12 [==============================] - 1s 83ms/step - loss: 0.0058 - val_loss: 0.0628\n",
            "Epoch 4/100\n",
            "12/12 [==============================] - 1s 55ms/step - loss: 0.0024 - val_loss: 0.0023\n",
            "Epoch 5/100\n",
            "12/12 [==============================] - 1s 63ms/step - loss: 0.0018 - val_loss: 0.0017\n",
            "Epoch 6/100\n",
            "12/12 [==============================] - 1s 63ms/step - loss: 0.0017 - val_loss: 9.7300e-04\n",
            "Epoch 7/100\n",
            "12/12 [==============================] - 0s 40ms/step - loss: 0.0015 - val_loss: 4.7071e-04\n",
            "Epoch 8/100\n",
            "12/12 [==============================] - 0s 39ms/step - loss: 0.0015 - val_loss: 2.7873e-04\n",
            "Epoch 9/100\n",
            "12/12 [==============================] - 0s 38ms/step - loss: 0.0014 - val_loss: 2.6247e-04\n",
            "Epoch 10/100\n",
            "12/12 [==============================] - 1s 42ms/step - loss: 0.0013 - val_loss: 2.1812e-04\n",
            "Epoch 11/100\n",
            "12/12 [==============================] - 0s 39ms/step - loss: 0.0013 - val_loss: 1.8679e-04\n",
            "Epoch 12/100\n",
            "12/12 [==============================] - 0s 32ms/step - loss: 0.0013 - val_loss: 1.7408e-04\n",
            "Epoch 13/100\n",
            "12/12 [==============================] - 0s 25ms/step - loss: 0.0013 - val_loss: 2.4539e-04\n",
            "Epoch 14/100\n",
            "12/12 [==============================] - 0s 23ms/step - loss: 0.0012 - val_loss: 1.5526e-04\n",
            "Epoch 15/100\n",
            "12/12 [==============================] - 0s 22ms/step - loss: 0.0012 - val_loss: 1.4705e-04\n",
            "Epoch 16/100\n",
            "12/12 [==============================] - 0s 22ms/step - loss: 0.0012 - val_loss: 1.6224e-04\n",
            "Epoch 17/100\n",
            "12/12 [==============================] - 0s 24ms/step - loss: 0.0012 - val_loss: 2.1732e-04\n",
            "Epoch 18/100\n",
            "12/12 [==============================] - 0s 22ms/step - loss: 0.0011 - val_loss: 2.5542e-04\n",
            "Epoch 19/100\n",
            "12/12 [==============================] - 0s 22ms/step - loss: 0.0010 - val_loss: 2.6004e-04\n",
            "Epoch 20/100\n",
            "12/12 [==============================] - 0s 22ms/step - loss: 9.9058e-04 - val_loss: 2.1837e-04\n",
            "Epoch 21/100\n",
            "12/12 [==============================] - 0s 23ms/step - loss: 0.0010 - val_loss: 5.5724e-04\n",
            "Epoch 22/100\n",
            "12/12 [==============================] - 0s 22ms/step - loss: 0.0010 - val_loss: 4.7502e-04\n",
            "Epoch 23/100\n",
            "12/12 [==============================] - 0s 23ms/step - loss: 9.3868e-04 - val_loss: 4.6522e-04\n",
            "Epoch 24/100\n",
            "12/12 [==============================] - 0s 24ms/step - loss: 9.3510e-04 - val_loss: 4.2335e-04\n",
            "Epoch 25/100\n",
            "12/12 [==============================] - 0s 23ms/step - loss: 9.6465e-04 - val_loss: 6.9951e-04\n",
            "Epoch 26/100\n",
            "12/12 [==============================] - 0s 22ms/step - loss: 9.3855e-04 - val_loss: 2.5736e-04\n",
            "Epoch 27/100\n",
            "12/12 [==============================] - 0s 23ms/step - loss: 9.1616e-04 - val_loss: 2.9453e-04\n",
            "Epoch 28/100\n",
            "12/12 [==============================] - 0s 24ms/step - loss: 9.1151e-04 - val_loss: 7.4559e-04\n",
            "Epoch 29/100\n",
            "12/12 [==============================] - 0s 23ms/step - loss: 9.8901e-04 - val_loss: 0.0012\n",
            "Epoch 30/100\n",
            "12/12 [==============================] - 0s 23ms/step - loss: 9.5792e-04 - val_loss: 2.9072e-04\n",
            "Epoch 31/100\n",
            "12/12 [==============================] - 0s 23ms/step - loss: 8.6746e-04 - val_loss: 6.3226e-04\n",
            "Epoch 32/100\n",
            "12/12 [==============================] - 0s 25ms/step - loss: 8.4415e-04 - val_loss: 3.4435e-04\n",
            "Epoch 33/100\n",
            "12/12 [==============================] - 0s 22ms/step - loss: 8.4384e-04 - val_loss: 3.8144e-04\n",
            "Epoch 34/100\n",
            "12/12 [==============================] - 0s 22ms/step - loss: 8.6371e-04 - val_loss: 8.2565e-04\n",
            "Epoch 35/100\n",
            "12/12 [==============================] - 0s 23ms/step - loss: 8.1362e-04 - val_loss: 4.0753e-04\n",
            "Epoch 36/100\n",
            "12/12 [==============================] - 0s 23ms/step - loss: 8.1081e-04 - val_loss: 4.4994e-04\n",
            "Epoch 37/100\n",
            "12/12 [==============================] - 0s 22ms/step - loss: 8.0200e-04 - val_loss: 5.8654e-04\n",
            "Epoch 38/100\n",
            "12/12 [==============================] - 0s 22ms/step - loss: 7.9694e-04 - val_loss: 5.1585e-04\n",
            "Epoch 39/100\n",
            "12/12 [==============================] - 0s 25ms/step - loss: 8.1059e-04 - val_loss: 3.2782e-04\n",
            "Epoch 40/100\n",
            "12/12 [==============================] - 0s 22ms/step - loss: 8.5123e-04 - val_loss: 7.1158e-04\n",
            "Epoch 41/100\n",
            "12/12 [==============================] - 0s 22ms/step - loss: 7.7252e-04 - val_loss: 2.8919e-04\n",
            "Epoch 42/100\n",
            "12/12 [==============================] - 0s 23ms/step - loss: 7.8024e-04 - val_loss: 3.4739e-04\n",
            "Epoch 43/100\n",
            "12/12 [==============================] - 0s 25ms/step - loss: 7.6735e-04 - val_loss: 0.0012\n",
            "Epoch 44/100\n",
            "12/12 [==============================] - 0s 23ms/step - loss: 8.5254e-04 - val_loss: 4.7928e-04\n",
            "Epoch 45/100\n",
            "12/12 [==============================] - 0s 24ms/step - loss: 7.6272e-04 - val_loss: 6.6170e-04\n",
            "Epoch 46/100\n",
            "12/12 [==============================] - 0s 24ms/step - loss: 7.6297e-04 - val_loss: 8.2088e-04\n",
            "Epoch 47/100\n",
            "12/12 [==============================] - 0s 23ms/step - loss: 7.6559e-04 - val_loss: 5.8641e-04\n",
            "Epoch 48/100\n",
            "12/12 [==============================] - 0s 36ms/step - loss: 7.5354e-04 - val_loss: 7.6353e-04\n",
            "Epoch 49/100\n",
            "12/12 [==============================] - 0s 39ms/step - loss: 8.1919e-04 - val_loss: 6.7979e-04\n",
            "Epoch 50/100\n",
            "12/12 [==============================] - 0s 42ms/step - loss: 8.4816e-04 - val_loss: 1.2211e-04\n",
            "Epoch 51/100\n",
            "12/12 [==============================] - 1s 43ms/step - loss: 7.9105e-04 - val_loss: 8.6056e-04\n",
            "Epoch 52/100\n",
            "12/12 [==============================] - 0s 39ms/step - loss: 7.7918e-04 - val_loss: 2.5895e-04\n",
            "Epoch 53/100\n",
            "12/12 [==============================] - 1s 42ms/step - loss: 7.3012e-04 - val_loss: 6.6917e-04\n",
            "Epoch 54/100\n",
            "12/12 [==============================] - 0s 41ms/step - loss: 7.2257e-04 - val_loss: 4.7763e-04\n",
            "Epoch 55/100\n",
            "12/12 [==============================] - 0s 42ms/step - loss: 7.0372e-04 - val_loss: 4.1214e-04\n",
            "Epoch 56/100\n",
            "12/12 [==============================] - 0s 27ms/step - loss: 6.9535e-04 - val_loss: 2.5996e-04\n",
            "Epoch 57/100\n",
            "12/12 [==============================] - 0s 23ms/step - loss: 7.7706e-04 - val_loss: 6.0507e-04\n",
            "Epoch 58/100\n",
            "12/12 [==============================] - 0s 23ms/step - loss: 7.6715e-04 - val_loss: 3.7171e-04\n",
            "Epoch 59/100\n",
            "12/12 [==============================] - 0s 24ms/step - loss: 7.1787e-04 - val_loss: 2.9622e-04\n",
            "Epoch 60/100\n",
            "12/12 [==============================] - 0s 23ms/step - loss: 6.7996e-04 - val_loss: 6.5840e-04\n",
            "Epoch 61/100\n",
            "12/12 [==============================] - 0s 23ms/step - loss: 6.8501e-04 - val_loss: 4.1997e-04\n",
            "Epoch 62/100\n",
            "12/12 [==============================] - 0s 23ms/step - loss: 7.0025e-04 - val_loss: 2.3931e-04\n",
            "Epoch 63/100\n",
            "12/12 [==============================] - 0s 23ms/step - loss: 7.3247e-04 - val_loss: 4.1203e-04\n",
            "Epoch 64/100\n",
            "12/12 [==============================] - 0s 23ms/step - loss: 6.5280e-04 - val_loss: 4.6876e-04\n",
            "Epoch 65/100\n",
            "12/12 [==============================] - 0s 24ms/step - loss: 6.4954e-04 - val_loss: 2.4387e-04\n",
            "Epoch 66/100\n",
            "12/12 [==============================] - 0s 25ms/step - loss: 6.4211e-04 - val_loss: 3.2479e-04\n",
            "Epoch 67/100\n",
            "12/12 [==============================] - 0s 23ms/step - loss: 6.5544e-04 - val_loss: 4.5047e-04\n",
            "Epoch 68/100\n",
            "12/12 [==============================] - 0s 22ms/step - loss: 6.3850e-04 - val_loss: 5.7009e-04\n",
            "Epoch 69/100\n",
            "12/12 [==============================] - 0s 22ms/step - loss: 6.6696e-04 - val_loss: 3.0296e-04\n",
            "Epoch 70/100\n",
            "12/12 [==============================] - 0s 27ms/step - loss: 6.7513e-04 - val_loss: 0.0010\n",
            "Epoch 71/100\n",
            "12/12 [==============================] - 0s 23ms/step - loss: 7.1733e-04 - val_loss: 3.0610e-04\n",
            "Epoch 72/100\n",
            "12/12 [==============================] - 0s 23ms/step - loss: 6.2047e-04 - val_loss: 4.5690e-04\n",
            "Epoch 73/100\n",
            "12/12 [==============================] - 0s 24ms/step - loss: 6.3136e-04 - val_loss: 3.6073e-04\n",
            "Epoch 74/100\n",
            "12/12 [==============================] - 0s 23ms/step - loss: 6.5650e-04 - val_loss: 9.6411e-04\n",
            "Epoch 75/100\n",
            "12/12 [==============================] - 0s 23ms/step - loss: 6.9969e-04 - val_loss: 1.4485e-04\n",
            "Epoch 76/100\n",
            "12/12 [==============================] - 0s 23ms/step - loss: 7.6592e-04 - val_loss: 6.4930e-04\n",
            "Epoch 77/100\n",
            "12/12 [==============================] - 0s 25ms/step - loss: 6.3515e-04 - val_loss: 5.3523e-04\n",
            "Epoch 78/100\n",
            "12/12 [==============================] - 0s 24ms/step - loss: 6.1309e-04 - val_loss: 2.7490e-04\n",
            "Epoch 79/100\n",
            "12/12 [==============================] - 0s 23ms/step - loss: 6.5009e-04 - val_loss: 6.8863e-04\n",
            "Epoch 80/100\n",
            "12/12 [==============================] - 0s 24ms/step - loss: 6.4594e-04 - val_loss: 2.8316e-04\n",
            "Epoch 81/100\n",
            "12/12 [==============================] - 0s 23ms/step - loss: 8.0917e-04 - val_loss: 6.9675e-04\n",
            "Epoch 82/100\n",
            "12/12 [==============================] - 0s 24ms/step - loss: 8.7296e-04 - val_loss: 3.3367e-04\n",
            "Epoch 83/100\n",
            "12/12 [==============================] - 0s 23ms/step - loss: 7.1421e-04 - val_loss: 5.9431e-04\n",
            "Epoch 84/100\n",
            "12/12 [==============================] - 0s 24ms/step - loss: 5.8965e-04 - val_loss: 3.5646e-04\n",
            "Epoch 85/100\n",
            "12/12 [==============================] - 0s 23ms/step - loss: 5.7736e-04 - val_loss: 7.2389e-04\n",
            "Epoch 86/100\n",
            "12/12 [==============================] - 0s 23ms/step - loss: 5.8352e-04 - val_loss: 4.3680e-04\n",
            "Epoch 87/100\n",
            "12/12 [==============================] - 0s 22ms/step - loss: 5.8775e-04 - val_loss: 4.8829e-04\n",
            "Epoch 88/100\n",
            "12/12 [==============================] - 0s 23ms/step - loss: 6.1175e-04 - val_loss: 2.8923e-04\n",
            "Epoch 89/100\n",
            "12/12 [==============================] - 0s 24ms/step - loss: 6.5136e-04 - val_loss: 6.2483e-04\n",
            "Epoch 90/100\n",
            "12/12 [==============================] - 0s 23ms/step - loss: 6.3485e-04 - val_loss: 7.7436e-04\n",
            "Epoch 91/100\n",
            "12/12 [==============================] - 0s 34ms/step - loss: 6.5043e-04 - val_loss: 3.6269e-04\n",
            "Epoch 92/100\n",
            "12/12 [==============================] - 0s 40ms/step - loss: 5.7163e-04 - val_loss: 7.6388e-04\n",
            "Epoch 93/100\n",
            "12/12 [==============================] - 0s 39ms/step - loss: 6.5532e-04 - val_loss: 2.3149e-04\n",
            "Epoch 94/100\n",
            "12/12 [==============================] - 0s 39ms/step - loss: 5.7131e-04 - val_loss: 3.1846e-04\n",
            "Epoch 95/100\n",
            "12/12 [==============================] - 0s 38ms/step - loss: 5.6629e-04 - val_loss: 5.3620e-04\n",
            "Epoch 96/100\n",
            "12/12 [==============================] - 0s 41ms/step - loss: 5.6457e-04 - val_loss: 6.5623e-04\n",
            "Epoch 97/100\n",
            "12/12 [==============================] - 1s 46ms/step - loss: 5.5506e-04 - val_loss: 4.1670e-04\n",
            "Epoch 98/100\n",
            "12/12 [==============================] - 0s 41ms/step - loss: 5.4611e-04 - val_loss: 4.2530e-04\n",
            "Epoch 99/100\n",
            "12/12 [==============================] - 0s 22ms/step - loss: 5.4892e-04 - val_loss: 1.4248e-04\n",
            "Epoch 100/100\n",
            "12/12 [==============================] - 0s 22ms/step - loss: 6.6281e-04 - val_loss: 3.0570e-04\n"
          ]
        },
        {
          "data": {
            "text/plain": [
              "<keras.src.callbacks.History at 0x7cd4e36115a0>"
            ]
          },
          "execution_count": 110,
          "metadata": {},
          "output_type": "execute_result"
        }
      ],
      "source": [
        "# 9. Fit mô hình với dữ liệu train\n",
        "model.fit(X_train,y_train,validation_data=(X_test,ytest),epochs=100,batch_size=64,verbose=1)"
      ]
    },
    {
      "cell_type": "code",
      "execution_count": 111,
      "metadata": {
        "colab": {
          "base_uri": "https://localhost:8080/"
        },
        "id": "Rxx_KQSkQpBG",
        "outputId": "833f6791-4388-46f4-e4cb-0a712fe2c6a9"
      },
      "outputs": [
        {
          "name": "stdout",
          "output_type": "stream",
          "text": [
            "23/23 [==============================] - 0s 7ms/step\n",
            "7/7 [==============================] - 0s 7ms/step\n",
            "1/1 [==============================] - 0s 26ms/step\n"
          ]
        }
      ],
      "source": [
        "# 10. Dự báo dữ liệu test, val\n",
        "train_predict=model.predict(X_train)\n",
        "y_pred=model.predict(X_test)\n",
        "y_pred_val=model.predict(X_val)"
      ]
    },
    {
      "cell_type": "code",
      "execution_count": 112,
      "metadata": {
        "id": "5rwTN10LQ7rj"
      },
      "outputs": [],
      "source": [
        "# 11. Chuẩn hóa dữ liệu y_pred, y_pred_val\n",
        "train_predict=scaler.inverse_transform(train_predict)\n",
        "y_pred=scaler.inverse_transform(y_pred)\n",
        "y_pred_val=scaler.inverse_transform(y_pred_val)"
      ]
    },
    {
      "cell_type": "code",
      "execution_count": 113,
      "metadata": {
        "id": "r3PeRHARAHCh"
      },
      "outputs": [],
      "source": [
        "ytest = scaler.inverse_transform(ytest.reshape(-1,1))\n",
        "yval = scaler.inverse_transform(yval.reshape(-1,1))"
      ]
    },
    {
      "cell_type": "code",
      "execution_count": 114,
      "metadata": {
        "colab": {
          "base_uri": "https://localhost:8080/"
        },
        "id": "wu_9j94kRonD",
        "outputId": "2ac60ff6-2715-4fe0-ae6e-8a938d49e7ce"
      },
      "outputs": [
        {
          "name": "stdout",
          "output_type": "stream",
          "text": [
            "Validation RMSE: 0.5417379598415739\n",
            "Testing RMSE: 0.637899093927058\n"
          ]
        }
      ],
      "source": [
        "# 12. Đánh giá độ chính xác thuật toán bằng RMSE\n",
        "valid_rmse = np.sqrt(np.mean((y_pred_val - yval)**2))\n",
        "test_rmse = np.sqrt(np.mean((y_pred - ytest)**2))\n",
        "print('Validation RMSE:', valid_rmse)\n",
        "print('Testing RMSE:', test_rmse)"
      ]
    },
    {
      "cell_type": "code",
      "execution_count": 115,
      "metadata": {
        "colab": {
          "base_uri": "https://localhost:8080/"
        },
        "id": "-Tind_8TAHCh",
        "outputId": "7bff1981-c5d1-4f86-b9bf-d1e383b40700"
      },
      "outputs": [
        {
          "name": "stdout",
          "output_type": "stream",
          "text": [
            "Validation MAE: 0.4820460671997069\n",
            "Testing MAE: 0.5680619853757463\n"
          ]
        }
      ],
      "source": [
        "# Đánh giá độ chính xác thuật toán bằng MAE\n",
        "valid_mae = np.mean(abs(y_pred_val - yval))\n",
        "test_mae = np.mean(abs(y_pred - ytest))\n",
        "print('Validation MAE:', valid_mae)\n",
        "print('Testing MAE:', test_mae)"
      ]
    },
    {
      "cell_type": "code",
      "execution_count": 116,
      "metadata": {
        "colab": {
          "base_uri": "https://localhost:8080/"
        },
        "id": "gDFbKEkMAHCi",
        "outputId": "6ccc2bc7-35c0-4624-caca-8de8c0830fa8"
      },
      "outputs": [
        {
          "name": "stdout",
          "output_type": "stream",
          "text": [
            "Validation MAPE: 0.04003289080023007\n",
            "Testing MAPE: 0.051945813745510584\n"
          ]
        }
      ],
      "source": [
        "# Đánh giá độ chính xác thuật toán bằng MAPE\n",
        "valid_mape = np.mean(np.abs(y_pred_val - yval)/np.abs(y_pred_val))\n",
        "test_mape = np.mean(np.abs(y_pred - ytest)/np.abs(y_pred))\n",
        "\n",
        "print('Validation MAPE:', valid_mape)\n",
        "print('Testing MAPE:', test_mape)"
      ]
    },
    {
      "cell_type": "code",
      "execution_count": 117,
      "metadata": {
        "colab": {
          "base_uri": "https://localhost:8080/",
          "height": 430
        },
        "id": "0xzNLNCPAHCi",
        "outputId": "d11deaf3-f2b7-42c9-e2c0-ba1122479997"
      },
      "outputs": [
        {
          "data": {
            "image/png": "[encoded data removed]",
            "text/plain": [
              "<Figure size 640x480 with 1 Axes>"
            ]
          },
          "metadata": {},
          "output_type": "display_data"
        }
      ],
      "source": [
        "# 14.Vẽ hình\n",
        "# Train\n",
        "train_data_index = pd.RangeIndex(start=0, stop=train_size, step=1)\n",
        "plt.plot(scaler.inverse_transform(train_data))\n",
        "# Test\n",
        "test_data_index = pd.RangeIndex(start=train_size, stop=train_size+test_size, step=1)\n",
        "plt.plot(test_data_index,scaler.inverse_transform(test_data))\n",
        "# Dự đoán trên tập test\n",
        "test_data_index = pd.RangeIndex(start=train_size+101, stop=train_size+test_size, step=1)\n",
        "plt.plot(test_data_index,(y_pred))\n",
        "# Validate\n",
        "val_data_index = pd.RangeIndex(start=train_size+test_size, stop=train_size+test_size+val_size, step=1)\n",
        "plt.plot(val_data_index,scaler.inverse_transform(val_data))\n",
        "# Dự đoán trên tập validated\n",
        "val_data_index = pd.RangeIndex(start=train_size+test_size+101, stop=train_size+test_size+val_size, step=1)\n",
        "plt.plot(val_data_index,y_pred_val)\n",
        "plt.legend(['Train','Test','Predict','Validate','ValidatePred'])\n",
        "plt.show()"
      ]
    }
  ],
  "metadata": {
    "colab": {
      "provenance": []
    },
    "kernelspec": {
      "display_name": "Python 3.11.0 64-bit",
      "language": "python",
      "name": "python3"
    },
    "language_info": {
      "codemirror_mode": {
        "name": "ipython",
        "version": 3
      },
      "file_extension": ".py",
      "mimetype": "text/x-python",
      "name": "python",
      "nbconvert_exporter": "python",
      "pygments_lexer": "ipython3",
      "version": "3.12.3"
    },
    "vscode": {
      "interpreter": {
        "hash": "228ec1c77332413f421e77c28617d1df6074d6a46921cdaeb15ed9feeb460bfe"
      }
    }
  },
  "nbformat": 4,
  "nbformat_minor": 0
}
