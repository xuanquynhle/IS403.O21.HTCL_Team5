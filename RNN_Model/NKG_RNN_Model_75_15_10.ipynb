{
  "cells": [
    {
      "cell_type": "code",
      "execution_count": 33,
      "metadata": {
        "id": "FMDKda-XIUAK"
      },
      "outputs": [],
      "source": [
        "# 1. Import thư viện cần thiết\n",
        "import numpy as np\n",
        "import pandas as pd\n",
        "import matplotlib.pyplot as plt\n",
        "from sklearn.preprocessing import MinMaxScaler\n",
        "from keras.models import Sequential\n",
        "from keras.layers import Dense, SimpleRNN"
      ]
    },
    {
      "cell_type": "code",
      "execution_count": 34,
      "metadata": {
        "id": "aRm9GQ8KJJ5N"
      },
      "outputs": [],
      "source": [
        "# 2. Đọc file csv và gắng index với giá Price\n",
        "df = pd.read_csv('NKG Historical Data.csv')\n",
        "df1=df.reset_index()['Price']"
      ]
    },
    {
      "cell_type": "code",
      "execution_count": 35,
      "metadata": {
        "id": "RdVpDho2JgL5"
      },
      "outputs": [],
      "source": [
        "# 3. Scaler data\n",
        "scaler=MinMaxScaler(feature_range=(0,1))\n",
        "df1=scaler.fit_transform(np.array(df1).reshape(-1,1))"
      ]
    },
    {
      "cell_type": "code",
      "execution_count": 36,
      "metadata": {
        "id": "B5JXpenzJoR3"
      },
      "outputs": [],
      "source": [
        "# 4. Chia train test\n",
        "train_size = int(0.75 * len(df1))\n",
        "test_size = int(0.15 * len(df1))\n",
        "val_size = len(df1) - train_size - test_size\n",
        "\n",
        "train_data = df1[:train_size]\n",
        "test_data = df1[train_size:train_size+test_size]\n",
        "val_data = df1[train_size+test_size:]"
      ]
    },
    {
      "cell_type": "code",
      "execution_count": 37,
      "metadata": {
        "id": "yJfmuBORLSfC"
      },
      "outputs": [],
      "source": [
        "# 5. Hàm Create Dataset\n",
        "import numpy\n",
        "# convert an array of values into a dataset matrix\n",
        "def create_dataset(dataset, time_step=1):\n",
        "\tdataX, dataY = [], []\n",
        "\tfor i in range(len(dataset)-time_step-1):\n",
        "\t\ta = dataset[i:(i+time_step), 0]   ###i=0, X=0,1,2,3-----99   Y=100\n",
        "\t\tdataX.append(a)\n",
        "\t\tdataY.append(dataset[i + time_step, 0])\n",
        "\treturn numpy.array(dataX), numpy.array(dataY)"
      ]
    },
    {
      "cell_type": "code",
      "execution_count": 38,
      "metadata": {
        "id": "e81cKq03LXFB"
      },
      "outputs": [],
      "source": [
        "#6. Reshape into X=t,t+1,t+2..t+99 and Y=t+100\n",
        "time_step = 100\n",
        "X_train, y_train = create_dataset(train_data, time_step)\n",
        "X_val, yval = create_dataset(val_data, time_step)\n",
        "X_test, ytest = create_dataset(test_data, time_step)"
      ]
    },
    {
      "cell_type": "code",
      "execution_count": 39,
      "metadata": {
        "id": "RdBVfku7O2qb"
      },
      "outputs": [],
      "source": [
        "# 7. Reshape input to be [samples, time steps, features] which is required for LSTM\n",
        "X_train =X_train.reshape(X_train.shape[0],X_train.shape[1] , 1)\n",
        "X_test = X_test.reshape(X_test.shape[0],X_test.shape[1] , 1)\n",
        "X_val = X_val.reshape(X_val.shape[0],X_val.shape[1] , 1)"
      ]
    },
    {
      "cell_type": "code",
      "execution_count": 40,
      "metadata": {
        "id": "sSfxrE7BO9vX"
      },
      "outputs": [],
      "source": [
        "# 8. Define LSTM Model\n",
        "model = Sequential()\n",
        "model.add(SimpleRNN(50, input_shape=(time_step, 1)))\n",
        "model.add(Dense(1))\n",
        "model.compile(loss='mean_squared_error',optimizer='adam')"
      ]
    },
    {
      "cell_type": "code",
      "execution_count": 41,
      "metadata": {
        "colab": {
          "base_uri": "https://localhost:8080/"
        },
        "id": "zgfeujZSPEKr",
        "outputId": "1a69fa96-2e88-4fc4-ccba-d2e7beb23418"
      },
      "outputs": [
        {
          "output_type": "stream",
          "name": "stdout",
          "text": [
            "Epoch 1/100\n",
            "14/14 [==============================] - 2s 37ms/step - loss: 0.1253 - val_loss: 7.6585e-04\n",
            "Epoch 2/100\n",
            "14/14 [==============================] - 0s 26ms/step - loss: 0.0054 - val_loss: 0.0055\n",
            "Epoch 3/100\n",
            "14/14 [==============================] - 1s 70ms/step - loss: 0.0025 - val_loss: 0.0022\n",
            "Epoch 4/100\n",
            "14/14 [==============================] - 1s 43ms/step - loss: 0.0017 - val_loss: 9.6914e-04\n",
            "Epoch 5/100\n",
            "14/14 [==============================] - 1s 52ms/step - loss: 0.0015 - val_loss: 6.2245e-04\n",
            "Epoch 6/100\n",
            "14/14 [==============================] - 0s 23ms/step - loss: 0.0014 - val_loss: 6.4446e-04\n",
            "Epoch 7/100\n",
            "14/14 [==============================] - 0s 22ms/step - loss: 0.0013 - val_loss: 5.5274e-04\n",
            "Epoch 8/100\n",
            "14/14 [==============================] - 0s 22ms/step - loss: 0.0013 - val_loss: 6.5074e-04\n",
            "Epoch 9/100\n",
            "14/14 [==============================] - 0s 23ms/step - loss: 0.0013 - val_loss: 3.4013e-04\n",
            "Epoch 10/100\n",
            "14/14 [==============================] - 0s 23ms/step - loss: 0.0011 - val_loss: 4.7357e-04\n",
            "Epoch 11/100\n",
            "14/14 [==============================] - 0s 23ms/step - loss: 9.8323e-04 - val_loss: 2.9499e-04\n",
            "Epoch 12/100\n",
            "14/14 [==============================] - 0s 22ms/step - loss: 9.5401e-04 - val_loss: 3.2950e-04\n",
            "Epoch 13/100\n",
            "14/14 [==============================] - 0s 21ms/step - loss: 9.0433e-04 - val_loss: 2.7925e-04\n",
            "Epoch 14/100\n",
            "14/14 [==============================] - 0s 23ms/step - loss: 8.9179e-04 - val_loss: 2.2848e-04\n",
            "Epoch 15/100\n",
            "14/14 [==============================] - 0s 21ms/step - loss: 8.6816e-04 - val_loss: 2.2001e-04\n",
            "Epoch 16/100\n",
            "14/14 [==============================] - 0s 22ms/step - loss: 8.2726e-04 - val_loss: 1.8978e-04\n",
            "Epoch 17/100\n",
            "14/14 [==============================] - 0s 21ms/step - loss: 8.0022e-04 - val_loss: 2.1302e-04\n",
            "Epoch 18/100\n",
            "14/14 [==============================] - 0s 21ms/step - loss: 9.0614e-04 - val_loss: 2.2013e-04\n",
            "Epoch 19/100\n",
            "14/14 [==============================] - 0s 23ms/step - loss: 9.3414e-04 - val_loss: 1.5343e-04\n",
            "Epoch 20/100\n",
            "14/14 [==============================] - 0s 29ms/step - loss: 7.5101e-04 - val_loss: 1.4324e-04\n",
            "Epoch 21/100\n",
            "14/14 [==============================] - 1s 37ms/step - loss: 7.3424e-04 - val_loss: 1.1851e-04\n",
            "Epoch 22/100\n",
            "14/14 [==============================] - 1s 38ms/step - loss: 7.4089e-04 - val_loss: 1.1610e-04\n",
            "Epoch 23/100\n",
            "14/14 [==============================] - 1s 44ms/step - loss: 7.0349e-04 - val_loss: 1.1339e-04\n",
            "Epoch 24/100\n",
            "14/14 [==============================] - 1s 38ms/step - loss: 6.9835e-04 - val_loss: 1.0268e-04\n",
            "Epoch 25/100\n",
            "14/14 [==============================] - 1s 45ms/step - loss: 6.8028e-04 - val_loss: 1.1316e-04\n",
            "Epoch 26/100\n",
            "14/14 [==============================] - 1s 39ms/step - loss: 6.9002e-04 - val_loss: 8.7116e-05\n",
            "Epoch 27/100\n",
            "14/14 [==============================] - 0s 22ms/step - loss: 6.6856e-04 - val_loss: 1.0242e-04\n",
            "Epoch 28/100\n",
            "14/14 [==============================] - 0s 23ms/step - loss: 9.0381e-04 - val_loss: 8.3974e-05\n",
            "Epoch 29/100\n",
            "14/14 [==============================] - 0s 22ms/step - loss: 7.0119e-04 - val_loss: 8.3201e-05\n",
            "Epoch 30/100\n",
            "14/14 [==============================] - 0s 22ms/step - loss: 6.8501e-04 - val_loss: 9.3561e-05\n",
            "Epoch 31/100\n",
            "14/14 [==============================] - 0s 23ms/step - loss: 6.3099e-04 - val_loss: 8.2987e-05\n",
            "Epoch 32/100\n",
            "14/14 [==============================] - 0s 20ms/step - loss: 6.4545e-04 - val_loss: 7.3971e-05\n",
            "Epoch 33/100\n",
            "14/14 [==============================] - 0s 21ms/step - loss: 6.3279e-04 - val_loss: 6.5033e-05\n",
            "Epoch 34/100\n",
            "14/14 [==============================] - 0s 21ms/step - loss: 5.9796e-04 - val_loss: 6.3886e-05\n",
            "Epoch 35/100\n",
            "14/14 [==============================] - 0s 20ms/step - loss: 5.7945e-04 - val_loss: 6.4373e-05\n",
            "Epoch 36/100\n",
            "14/14 [==============================] - 0s 20ms/step - loss: 5.7610e-04 - val_loss: 5.7835e-05\n",
            "Epoch 37/100\n",
            "14/14 [==============================] - 0s 19ms/step - loss: 5.6364e-04 - val_loss: 8.8855e-05\n",
            "Epoch 38/100\n",
            "14/14 [==============================] - 0s 20ms/step - loss: 5.9921e-04 - val_loss: 5.3722e-05\n",
            "Epoch 39/100\n",
            "14/14 [==============================] - 0s 20ms/step - loss: 5.5506e-04 - val_loss: 7.0439e-05\n",
            "Epoch 40/100\n",
            "14/14 [==============================] - 0s 20ms/step - loss: 6.0444e-04 - val_loss: 4.7929e-05\n",
            "Epoch 41/100\n",
            "14/14 [==============================] - 0s 20ms/step - loss: 5.3451e-04 - val_loss: 5.1127e-05\n",
            "Epoch 42/100\n",
            "14/14 [==============================] - 0s 20ms/step - loss: 5.1701e-04 - val_loss: 4.9069e-05\n",
            "Epoch 43/100\n",
            "14/14 [==============================] - 0s 22ms/step - loss: 6.3635e-04 - val_loss: 4.9605e-05\n",
            "Epoch 44/100\n",
            "14/14 [==============================] - 0s 21ms/step - loss: 5.1177e-04 - val_loss: 4.3617e-05\n",
            "Epoch 45/100\n",
            "14/14 [==============================] - 0s 24ms/step - loss: 4.9828e-04 - val_loss: 4.5241e-05\n",
            "Epoch 46/100\n",
            "14/14 [==============================] - 0s 19ms/step - loss: 4.9121e-04 - val_loss: 5.1014e-05\n",
            "Epoch 47/100\n",
            "14/14 [==============================] - 0s 19ms/step - loss: 5.1494e-04 - val_loss: 4.1916e-05\n",
            "Epoch 48/100\n",
            "14/14 [==============================] - 0s 19ms/step - loss: 5.7101e-04 - val_loss: 5.6352e-05\n",
            "Epoch 49/100\n",
            "14/14 [==============================] - 0s 22ms/step - loss: 5.4203e-04 - val_loss: 3.4781e-05\n",
            "Epoch 50/100\n",
            "14/14 [==============================] - 0s 22ms/step - loss: 4.9811e-04 - val_loss: 3.3750e-05\n",
            "Epoch 51/100\n",
            "14/14 [==============================] - 0s 21ms/step - loss: 5.4735e-04 - val_loss: 8.3805e-05\n",
            "Epoch 52/100\n",
            "14/14 [==============================] - 0s 23ms/step - loss: 5.9145e-04 - val_loss: 3.1284e-05\n",
            "Epoch 53/100\n",
            "14/14 [==============================] - 0s 20ms/step - loss: 4.8818e-04 - val_loss: 3.0560e-05\n",
            "Epoch 54/100\n",
            "14/14 [==============================] - 0s 20ms/step - loss: 4.4893e-04 - val_loss: 4.3332e-05\n",
            "Epoch 55/100\n",
            "14/14 [==============================] - 0s 20ms/step - loss: 4.4738e-04 - val_loss: 2.6896e-05\n",
            "Epoch 56/100\n",
            "14/14 [==============================] - 0s 22ms/step - loss: 4.4829e-04 - val_loss: 5.0943e-05\n",
            "Epoch 57/100\n",
            "14/14 [==============================] - 0s 20ms/step - loss: 4.9672e-04 - val_loss: 3.1239e-05\n",
            "Epoch 58/100\n",
            "14/14 [==============================] - 0s 20ms/step - loss: 4.6676e-04 - val_loss: 2.3844e-05\n",
            "Epoch 59/100\n",
            "14/14 [==============================] - 0s 21ms/step - loss: 4.4959e-04 - val_loss: 2.4728e-05\n",
            "Epoch 60/100\n",
            "14/14 [==============================] - 0s 23ms/step - loss: 4.6162e-04 - val_loss: 3.2703e-05\n",
            "Epoch 61/100\n",
            "14/14 [==============================] - 1s 37ms/step - loss: 4.6710e-04 - val_loss: 9.2602e-05\n",
            "Epoch 62/100\n",
            "14/14 [==============================] - 0s 34ms/step - loss: 4.9064e-04 - val_loss: 3.4422e-05\n",
            "Epoch 63/100\n",
            "14/14 [==============================] - 1s 36ms/step - loss: 4.5919e-04 - val_loss: 4.0305e-05\n",
            "Epoch 64/100\n",
            "14/14 [==============================] - 0s 34ms/step - loss: 4.2317e-04 - val_loss: 2.7020e-05\n",
            "Epoch 65/100\n",
            "14/14 [==============================] - 0s 35ms/step - loss: 4.0509e-04 - val_loss: 2.2859e-05\n",
            "Epoch 66/100\n",
            "14/14 [==============================] - 1s 36ms/step - loss: 4.0827e-04 - val_loss: 2.2157e-05\n",
            "Epoch 67/100\n",
            "14/14 [==============================] - 1s 37ms/step - loss: 4.1531e-04 - val_loss: 2.3134e-05\n",
            "Epoch 68/100\n",
            "14/14 [==============================] - 0s 28ms/step - loss: 4.3039e-04 - val_loss: 2.3421e-05\n",
            "Epoch 69/100\n",
            "14/14 [==============================] - 0s 20ms/step - loss: 3.9492e-04 - val_loss: 2.4430e-05\n",
            "Epoch 70/100\n",
            "14/14 [==============================] - 0s 20ms/step - loss: 4.3648e-04 - val_loss: 5.8712e-05\n",
            "Epoch 71/100\n",
            "14/14 [==============================] - 0s 20ms/step - loss: 4.3504e-04 - val_loss: 3.8914e-05\n",
            "Epoch 72/100\n",
            "14/14 [==============================] - 0s 21ms/step - loss: 3.9814e-04 - val_loss: 2.3834e-05\n",
            "Epoch 73/100\n",
            "14/14 [==============================] - 0s 21ms/step - loss: 4.0897e-04 - val_loss: 2.9296e-05\n",
            "Epoch 74/100\n",
            "14/14 [==============================] - 0s 20ms/step - loss: 4.5184e-04 - val_loss: 4.4504e-05\n",
            "Epoch 75/100\n",
            "14/14 [==============================] - 0s 21ms/step - loss: 4.5504e-04 - val_loss: 2.5331e-05\n",
            "Epoch 76/100\n",
            "14/14 [==============================] - 0s 19ms/step - loss: 4.5165e-04 - val_loss: 7.2380e-05\n",
            "Epoch 77/100\n",
            "14/14 [==============================] - 0s 20ms/step - loss: 4.5799e-04 - val_loss: 2.4593e-05\n",
            "Epoch 78/100\n",
            "14/14 [==============================] - 0s 20ms/step - loss: 3.8867e-04 - val_loss: 9.1149e-05\n",
            "Epoch 79/100\n",
            "14/14 [==============================] - 0s 21ms/step - loss: 4.0539e-04 - val_loss: 6.2044e-05\n",
            "Epoch 80/100\n",
            "14/14 [==============================] - 0s 20ms/step - loss: 4.3053e-04 - val_loss: 2.9934e-05\n",
            "Epoch 81/100\n",
            "14/14 [==============================] - 0s 20ms/step - loss: 3.8966e-04 - val_loss: 2.0816e-05\n",
            "Epoch 82/100\n",
            "14/14 [==============================] - 0s 22ms/step - loss: 4.2535e-04 - val_loss: 2.3867e-05\n",
            "Epoch 83/100\n",
            "14/14 [==============================] - 0s 21ms/step - loss: 4.3165e-04 - val_loss: 2.0292e-05\n",
            "Epoch 84/100\n",
            "14/14 [==============================] - 0s 20ms/step - loss: 4.0934e-04 - val_loss: 2.5033e-05\n",
            "Epoch 85/100\n",
            "14/14 [==============================] - 0s 20ms/step - loss: 3.9282e-04 - val_loss: 1.8294e-05\n",
            "Epoch 86/100\n",
            "14/14 [==============================] - 0s 22ms/step - loss: 3.8966e-04 - val_loss: 4.2300e-05\n",
            "Epoch 87/100\n",
            "14/14 [==============================] - 0s 21ms/step - loss: 4.0606e-04 - val_loss: 2.1457e-05\n",
            "Epoch 88/100\n",
            "14/14 [==============================] - 0s 20ms/step - loss: 3.6169e-04 - val_loss: 2.3853e-05\n",
            "Epoch 89/100\n",
            "14/14 [==============================] - 0s 21ms/step - loss: 3.6192e-04 - val_loss: 7.1503e-05\n",
            "Epoch 90/100\n",
            "14/14 [==============================] - 0s 20ms/step - loss: 3.8943e-04 - val_loss: 2.3711e-05\n",
            "Epoch 91/100\n",
            "14/14 [==============================] - 0s 21ms/step - loss: 3.8054e-04 - val_loss: 3.5577e-05\n",
            "Epoch 92/100\n",
            "14/14 [==============================] - 0s 20ms/step - loss: 3.5965e-04 - val_loss: 2.7704e-05\n",
            "Epoch 93/100\n",
            "14/14 [==============================] - 0s 21ms/step - loss: 3.7094e-04 - val_loss: 1.7783e-05\n",
            "Epoch 94/100\n",
            "14/14 [==============================] - 0s 21ms/step - loss: 3.5880e-04 - val_loss: 1.6315e-05\n",
            "Epoch 95/100\n",
            "14/14 [==============================] - 0s 20ms/step - loss: 3.4976e-04 - val_loss: 2.2178e-05\n",
            "Epoch 96/100\n",
            "14/14 [==============================] - 0s 21ms/step - loss: 3.6220e-04 - val_loss: 3.4194e-05\n",
            "Epoch 97/100\n",
            "14/14 [==============================] - 0s 20ms/step - loss: 3.4599e-04 - val_loss: 2.0212e-05\n",
            "Epoch 98/100\n",
            "14/14 [==============================] - 0s 21ms/step - loss: 3.4143e-04 - val_loss: 1.8086e-05\n",
            "Epoch 99/100\n",
            "14/14 [==============================] - 0s 20ms/step - loss: 3.4585e-04 - val_loss: 3.4426e-05\n",
            "Epoch 100/100\n",
            "14/14 [==============================] - 0s 22ms/step - loss: 3.3904e-04 - val_loss: 1.8931e-05\n"
          ]
        },
        {
          "output_type": "execute_result",
          "data": {
            "text/plain": [
              "<keras.src.callbacks.History at 0x7fe1892ee860>"
            ]
          },
          "metadata": {},
          "execution_count": 41
        }
      ],
      "source": [
        "# 9. Fit mô hình với dữ liệu train\n",
        "model.fit(X_train,y_train,validation_data=(X_test,ytest),epochs=100,batch_size=64,verbose=1)"
      ]
    },
    {
      "cell_type": "code",
      "execution_count": 42,
      "metadata": {
        "colab": {
          "base_uri": "https://localhost:8080/"
        },
        "id": "Rxx_KQSkQpBG",
        "outputId": "676af049-68bf-4068-b1d2-29171f05ba27"
      },
      "outputs": [
        {
          "output_type": "stream",
          "name": "stdout",
          "text": [
            "27/27 [==============================] - 0s 7ms/step\n",
            "3/3 [==============================] - 0s 8ms/step\n",
            "1/1 [==============================] - 0s 30ms/step\n"
          ]
        }
      ],
      "source": [
        "# 10. Dự báo dữ liệu test, val\n",
        "train_predict=model.predict(X_train)\n",
        "y_pred=model.predict(X_test)\n",
        "y_pred_val=model.predict(X_val)"
      ]
    },
    {
      "cell_type": "code",
      "execution_count": 43,
      "metadata": {
        "id": "5rwTN10LQ7rj"
      },
      "outputs": [],
      "source": [
        "# 11. Chuẩn hóa dữ liệu y_pred, y_pred_val\n",
        "train_predict=scaler.inverse_transform(train_predict)\n",
        "y_pred=scaler.inverse_transform(y_pred)\n",
        "y_pred_val=scaler.inverse_transform(y_pred_val)"
      ]
    },
    {
      "cell_type": "code",
      "execution_count": 44,
      "metadata": {
        "id": "8u12aHBXNPjR"
      },
      "outputs": [],
      "source": [
        "ytest = scaler.inverse_transform(ytest.reshape(-1,1))\n",
        "yval = scaler.inverse_transform(yval.reshape(-1,1))"
      ]
    },
    {
      "cell_type": "code",
      "execution_count": 45,
      "metadata": {
        "colab": {
          "base_uri": "https://localhost:8080/"
        },
        "id": "wu_9j94kRonD",
        "outputId": "9a04e867-eb96-4d3e-f11c-acbe0bf43881"
      },
      "outputs": [
        {
          "output_type": "stream",
          "name": "stdout",
          "text": [
            "Validation RMSE: 0.16278563700858514\n",
            "Testing RMSE: 0.18308802258798682\n"
          ]
        }
      ],
      "source": [
        "# 12. Đánh giá độ chính xác thuật toán bằng RMSE\n",
        "valid_rmse = np.sqrt(np.mean((y_pred_val - yval)**2))\n",
        "test_rmse = np.sqrt(np.mean((y_pred - ytest)**2))\n",
        "print('Validation RMSE:', valid_rmse)\n",
        "print('Testing RMSE:', test_rmse)"
      ]
    },
    {
      "cell_type": "code",
      "execution_count": 46,
      "metadata": {
        "colab": {
          "base_uri": "https://localhost:8080/"
        },
        "id": "AFQd1oObNPjR",
        "outputId": "e0657a00-e842-484d-965a-a823c951c1d5"
      },
      "outputs": [
        {
          "output_type": "stream",
          "name": "stdout",
          "text": [
            "Validation MAE: 0.13265113296508788\n",
            "Testing MAE: 0.13913733704145567\n"
          ]
        }
      ],
      "source": [
        "# Đánh giá độ chính xác thuật toán bằng MAE\n",
        "valid_mae = np.mean(abs(y_pred_val - yval))\n",
        "test_mae = np.mean(abs(y_pred - ytest))\n",
        "print('Validation MAE:', valid_mae)\n",
        "print('Testing MAE:', test_mae)"
      ]
    },
    {
      "cell_type": "code",
      "execution_count": 47,
      "metadata": {
        "colab": {
          "base_uri": "https://localhost:8080/"
        },
        "id": "IkDc4ydLNPjS",
        "outputId": "fe56d3f1-d227-41bc-9d75-b0c321f8bb94"
      },
      "outputs": [
        {
          "output_type": "stream",
          "name": "stdout",
          "text": [
            "Validation MAPE: 0.027687152044792506\n",
            "Testing MAPE: 0.03457054581303336\n"
          ]
        }
      ],
      "source": [
        "# Đánh giá độ chính xác thuật toán bằng MAPE\n",
        "valid_mape = np.mean(np.abs(y_pred_val - yval)/np.abs(y_pred_val))\n",
        "test_mape = np.mean(np.abs(y_pred - ytest)/np.abs(y_pred))\n",
        "\n",
        "print('Validation MAPE:', valid_mape)\n",
        "print('Testing MAPE:', test_mape)"
      ]
    },
    {
      "cell_type": "code",
      "execution_count": 48,
      "metadata": {
        "colab": {
          "base_uri": "https://localhost:8080/",
          "height": 430
        },
        "id": "BeF_-RuoNPjS",
        "outputId": "e6be9d56-30e3-4ce7-fb03-003352c3117c"
      },
      "outputs": [
        {
          "output_type": "display_data",
          "data": {
            "text/plain": [
              "<Figure size 640x480 with 1 Axes>"
            ],
            "image/png": "[encoded data removed]"
          },
          "metadata": {}
        }
      ],
      "source": [
        "# 14.Vẽ hình\n",
        "# Train\n",
        "train_data_index = pd.RangeIndex(start=0, stop=train_size, step=1)\n",
        "plt.plot(scaler.inverse_transform(train_data))\n",
        "# Test\n",
        "test_data_index = pd.RangeIndex(start=train_size, stop=train_size+test_size, step=1)\n",
        "plt.plot(test_data_index,scaler.inverse_transform(test_data))\n",
        "# Dự đoán trên tập test\n",
        "test_data_index = pd.RangeIndex(start=train_size+101, stop=train_size+test_size, step=1)\n",
        "plt.plot(test_data_index,(y_pred))\n",
        "# Validate\n",
        "val_data_index = pd.RangeIndex(start=train_size+test_size, stop=train_size+test_size+val_size, step=1)\n",
        "plt.plot(val_data_index,scaler.inverse_transform(val_data))\n",
        "# Dự đoán trên tập validated\n",
        "val_data_index = pd.RangeIndex(start=train_size+test_size+101, stop=train_size+test_size+val_size, step=1)\n",
        "plt.plot(val_data_index,y_pred_val)\n",
        "plt.legend(['Train','Test','Predict','Validate','ValidatePred'])\n",
        "plt.show()"
      ]
    }
  ],
  "metadata": {
    "colab": {
      "provenance": []
    },
    "kernelspec": {
      "display_name": "Python 3.11.0 64-bit",
      "language": "python",
      "name": "python3"
    },
    "language_info": {
      "codemirror_mode": {
        "name": "ipython",
        "version": 3
      },
      "file_extension": ".py",
      "mimetype": "text/x-python",
      "name": "python",
      "nbconvert_exporter": "python",
      "pygments_lexer": "ipython3",
      "version": "3.11.0"
    },
    "vscode": {
      "interpreter": {
        "hash": "228ec1c77332413f421e77c28617d1df6074d6a46921cdaeb15ed9feeb460bfe"
      }
    }
  },
  "nbformat": 4,
  "nbformat_minor": 0
}