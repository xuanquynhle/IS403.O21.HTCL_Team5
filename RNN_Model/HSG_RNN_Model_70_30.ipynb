{
  "cells": [
    {
      "cell_type": "markdown",
      "metadata": {
        "id": "Ik-XEHDfAHCb"
      },
      "source": [
        "# HOA SEN GROUP \n"
      ]
    },
    {
      "cell_type": "code",
      "execution_count": 1,
      "metadata": {
        "id": "FMDKda-XIUAK"
      },
      "outputs": [],
      "source": [
        "# 1. Import thư viện cần thiết\n",
        "import numpy as np\n",
        "import pandas as pd\n",
        "import matplotlib.pyplot as plt\n",
        "from sklearn.preprocessing import MinMaxScaler\n",
        "from keras.models import Sequential\n",
        "from keras.layers import Dense, SimpleRNN"
      ]
    },
    {
      "cell_type": "code",
      "execution_count": 2,
      "metadata": {
        "id": "me8vU9MoAHCe"
      },
      "outputs": [],
      "source": [
        "# 2. Đọc file csv và gắng index với giá Price\n",
        "df = pd.read_csv('HSG Historical Data.csv')\n",
        "df1=df.reset_index()['Price']"
      ]
    },
    {
      "cell_type": "code",
      "execution_count": 3,
      "metadata": {
        "colab": {
          "base_uri": "https://localhost:8080/",
          "height": 206
        },
        "id": "DF37HodNGwmI",
        "outputId": "e390aa7d-005b-4527-8693-9f3f137eb520"
      },
      "outputs": [
        {
          "name": "stdout",
          "output_type": "stream",
          "text": [
            "<class 'pandas.core.frame.DataFrame'>\n",
            "RangeIndex: 1252 entries, 0 to 1251\n",
            "Data columns (total 8 columns):\n",
            " #   Column      Non-Null Count  Dtype  \n",
            "---  ------      --------------  -----  \n",
            " 0   Date        1252 non-null   object \n",
            " 1   Price       1252 non-null   float64\n",
            " 2   Open        1252 non-null   float64\n",
            " 3   High        1252 non-null   float64\n",
            " 4   Low         1252 non-null   float64\n",
            " 5   Vol.        1252 non-null   object \n",
            " 6   Change %    1252 non-null   int64  \n",
            " 7   Unnamed: 7  1252 non-null   object \n",
            "dtypes: float64(4), int64(1), object(3)\n",
            "memory usage: 78.4+ KB\n"
          ]
        }
      ],
      "source": [
        "df.info()"
      ]
    },
    {
      "cell_type": "code",
      "execution_count": 4,
      "metadata": {
        "colab": {
          "base_uri": "https://localhost:8080/"
        },
        "id": "JFHc2RydGqCH",
        "outputId": "678d27c4-ca4f-4801-f4b8-54dbcc991290"
      },
      "outputs": [
        {
          "data": {
            "text/plain": [
              "0    23.05\n",
              "1    22.75\n",
              "2    22.90\n",
              "3    22.85\n",
              "4    22.45\n",
              "Name: Price, dtype: float64"
            ]
          },
          "execution_count": 4,
          "metadata": {},
          "output_type": "execute_result"
        }
      ],
      "source": [
        "df1.head()"
      ]
    },
    {
      "cell_type": "code",
      "execution_count": 5,
      "metadata": {
        "id": "RdVpDho2JgL5"
      },
      "outputs": [],
      "source": [
        "# 3. Scaler data\n",
        "scaler=MinMaxScaler(feature_range=(0,1))\n",
        "df1=scaler.fit_transform(np.array(df1).reshape(-1,1))"
      ]
    },
    {
      "cell_type": "code",
      "execution_count": 6,
      "metadata": {
        "id": "B5JXpenzJoR3"
      },
      "outputs": [],
      "source": [
        "# 4. Chia train test\n",
        "train_size = int(0.7 * len(df1))\n",
        "test_size = int(0.3 * len(df1))\n",
        "\n",
        "train_data = df1[:train_size]\n",
        "test_data = df1[train_size:train_size+test_size]"
      ]
    },
    {
      "cell_type": "code",
      "execution_count": 7,
      "metadata": {
        "id": "yJfmuBORLSfC"
      },
      "outputs": [],
      "source": [
        "# 5. Hàm Create Dataset\n",
        "import numpy\n",
        "# convert an array of values into a dataset matrix\n",
        "def create_dataset(dataset, time_step=1):\n",
        "\tdataX, dataY = [], []\n",
        "\tfor i in range(len(dataset)-time_step-1):\n",
        "\t\ta = dataset[i:(i+time_step), 0]   ###i=0, X=0,1,2,3-----99   Y=100\n",
        "\t\tdataX.append(a)\n",
        "\t\tdataY.append(dataset[i + time_step, 0])\n",
        "\treturn numpy.array(dataX), numpy.array(dataY)"
      ]
    },
    {
      "cell_type": "code",
      "execution_count": 8,
      "metadata": {
        "id": "e81cKq03LXFB"
      },
      "outputs": [],
      "source": [
        "#6. Reshape into X=t,t+1,t+2..t+99 and Y=t+100\n",
        "time_step = 100\n",
        "X_train, y_train = create_dataset(train_data, time_step)\n",
        "X_test, ytest = create_dataset(test_data, time_step)"
      ]
    },
    {
      "cell_type": "code",
      "execution_count": 9,
      "metadata": {
        "id": "RdBVfku7O2qb"
      },
      "outputs": [],
      "source": [
        "# 7. Reshape input to be [samples, time steps, features] which is required for LSTM\n",
        "X_train =X_train.reshape(X_train.shape[0],X_train.shape[1] , 1)\n",
        "X_test = X_test.reshape(X_test.shape[0],X_test.shape[1] , 1)"
      ]
    },
    {
      "cell_type": "code",
      "execution_count": 10,
      "metadata": {
        "id": "sSfxrE7BO9vX"
      },
      "outputs": [
        {
          "name": "stderr",
          "output_type": "stream",
          "text": [
            "c:\\Users\\hangt\\AppData\\Local\\Programs\\Python\\Python312\\Lib\\site-packages\\keras\\src\\layers\\rnn\\rnn.py:204: UserWarning: Do not pass an `input_shape`/`input_dim` argument to a layer. When using Sequential models, prefer using an `Input(shape)` object as the first layer in the model instead.\n",
            "  super().__init__(**kwargs)\n"
          ]
        }
      ],
      "source": [
        "# 8. Define LSTM Model\n",
        "model = Sequential()\n",
        "model.add(SimpleRNN(50, input_shape=(time_step, 1)))\n",
        "model.add(Dense(1))\n",
        "model.compile(loss='mean_squared_error',optimizer='adam')"
      ]
    },
    {
      "cell_type": "code",
      "execution_count": 11,
      "metadata": {
        "colab": {
          "base_uri": "https://localhost:8080/"
        },
        "id": "zgfeujZSPEKr",
        "outputId": "b4e2e288-2102-4cca-f993-105634589bdc"
      },
      "outputs": [
        {
          "name": "stdout",
          "output_type": "stream",
          "text": [
            "Epoch 1/100\n"
          ]
        },
        {
          "name": "stdout",
          "output_type": "stream",
          "text": [
            "\u001b[1m13/13\u001b[0m \u001b[32m━━━━━━━━━━━━━━━━━━━━\u001b[0m\u001b[37m\u001b[0m \u001b[1m4s\u001b[0m 32ms/step - loss: 0.0645\n",
            "Epoch 2/100\n",
            "\u001b[1m13/13\u001b[0m \u001b[32m━━━━━━━━━━━━━━━━━━━━\u001b[0m\u001b[37m\u001b[0m \u001b[1m1s\u001b[0m 43ms/step - loss: 0.0070\n",
            "Epoch 3/100\n",
            "\u001b[1m13/13\u001b[0m \u001b[32m━━━━━━━━━━━━━━━━━━━━\u001b[0m\u001b[37m\u001b[0m \u001b[1m1s\u001b[0m 36ms/step - loss: 0.0023\n",
            "Epoch 4/100\n",
            "\u001b[1m13/13\u001b[0m \u001b[32m━━━━━━━━━━━━━━━━━━━━\u001b[0m\u001b[37m\u001b[0m \u001b[1m1s\u001b[0m 42ms/step - loss: 0.0018\n",
            "Epoch 5/100\n",
            "\u001b[1m13/13\u001b[0m \u001b[32m━━━━━━━━━━━━━━━━━━━━\u001b[0m\u001b[37m\u001b[0m \u001b[1m1s\u001b[0m 43ms/step - loss: 0.0015\n",
            "Epoch 6/100\n",
            "\u001b[1m13/13\u001b[0m \u001b[32m━━━━━━━━━━━━━━━━━━━━\u001b[0m\u001b[37m\u001b[0m \u001b[1m1s\u001b[0m 36ms/step - loss: 0.0014\n",
            "Epoch 7/100\n",
            "\u001b[1m13/13\u001b[0m \u001b[32m━━━━━━━━━━━━━━━━━━━━\u001b[0m\u001b[37m\u001b[0m \u001b[1m1s\u001b[0m 41ms/step - loss: 0.0014\n",
            "Epoch 8/100\n",
            "\u001b[1m13/13\u001b[0m \u001b[32m━━━━━━━━━━━━━━━━━━━━\u001b[0m\u001b[37m\u001b[0m \u001b[1m1s\u001b[0m 34ms/step - loss: 0.0014\n",
            "Epoch 9/100\n",
            "\u001b[1m13/13\u001b[0m \u001b[32m━━━━━━━━━━━━━━━━━━━━\u001b[0m\u001b[37m\u001b[0m \u001b[1m1s\u001b[0m 33ms/step - loss: 0.0012\n",
            "Epoch 10/100\n",
            "\u001b[1m13/13\u001b[0m \u001b[32m━━━━━━━━━━━━━━━━━━━━\u001b[0m\u001b[37m\u001b[0m \u001b[1m1s\u001b[0m 43ms/step - loss: 0.0012\n",
            "Epoch 11/100\n",
            "\u001b[1m13/13\u001b[0m \u001b[32m━━━━━━━━━━━━━━━━━━━━\u001b[0m\u001b[37m\u001b[0m \u001b[1m1s\u001b[0m 41ms/step - loss: 0.0012\n",
            "Epoch 12/100\n",
            "\u001b[1m13/13\u001b[0m \u001b[32m━━━━━━━━━━━━━━━━━━━━\u001b[0m\u001b[37m\u001b[0m \u001b[1m1s\u001b[0m 35ms/step - loss: 0.0011\n",
            "Epoch 13/100\n",
            "\u001b[1m13/13\u001b[0m \u001b[32m━━━━━━━━━━━━━━━━━━━━\u001b[0m\u001b[37m\u001b[0m \u001b[1m1s\u001b[0m 44ms/step - loss: 0.0011\n",
            "Epoch 14/100\n",
            "\u001b[1m13/13\u001b[0m \u001b[32m━━━━━━━━━━━━━━━━━━━━\u001b[0m\u001b[37m\u001b[0m \u001b[1m1s\u001b[0m 37ms/step - loss: 9.7408e-04\n",
            "Epoch 15/100\n",
            "\u001b[1m13/13\u001b[0m \u001b[32m━━━━━━━━━━━━━━━━━━━━\u001b[0m\u001b[37m\u001b[0m \u001b[1m1s\u001b[0m 37ms/step - loss: 9.6210e-04\n",
            "Epoch 16/100\n",
            "\u001b[1m13/13\u001b[0m \u001b[32m━━━━━━━━━━━━━━━━━━━━\u001b[0m\u001b[37m\u001b[0m \u001b[1m1s\u001b[0m 33ms/step - loss: 8.8543e-04\n",
            "Epoch 17/100\n",
            "\u001b[1m13/13\u001b[0m \u001b[32m━━━━━━━━━━━━━━━━━━━━\u001b[0m\u001b[37m\u001b[0m \u001b[1m1s\u001b[0m 54ms/step - loss: 7.5840e-04\n",
            "Epoch 18/100\n",
            "\u001b[1m13/13\u001b[0m \u001b[32m━━━━━━━━━━━━━━━━━━━━\u001b[0m\u001b[37m\u001b[0m \u001b[1m1s\u001b[0m 43ms/step - loss: 9.7799e-04\n",
            "Epoch 19/100\n",
            "\u001b[1m13/13\u001b[0m \u001b[32m━━━━━━━━━━━━━━━━━━━━\u001b[0m\u001b[37m\u001b[0m \u001b[1m1s\u001b[0m 55ms/step - loss: 9.2915e-04\n",
            "Epoch 20/100\n",
            "\u001b[1m13/13\u001b[0m \u001b[32m━━━━━━━━━━━━━━━━━━━━\u001b[0m\u001b[37m\u001b[0m \u001b[1m1s\u001b[0m 51ms/step - loss: 8.3754e-04\n",
            "Epoch 21/100\n",
            "\u001b[1m13/13\u001b[0m \u001b[32m━━━━━━━━━━━━━━━━━━━━\u001b[0m\u001b[37m\u001b[0m \u001b[1m1s\u001b[0m 48ms/step - loss: 8.1211e-04\n",
            "Epoch 22/100\n",
            "\u001b[1m13/13\u001b[0m \u001b[32m━━━━━━━━━━━━━━━━━━━━\u001b[0m\u001b[37m\u001b[0m \u001b[1m1s\u001b[0m 54ms/step - loss: 9.2141e-04\n",
            "Epoch 23/100\n",
            "\u001b[1m13/13\u001b[0m \u001b[32m━━━━━━━━━━━━━━━━━━━━\u001b[0m\u001b[37m\u001b[0m \u001b[1m1s\u001b[0m 35ms/step - loss: 7.3538e-04\n",
            "Epoch 24/100\n",
            "\u001b[1m13/13\u001b[0m \u001b[32m━━━━━━━━━━━━━━━━━━━━\u001b[0m\u001b[37m\u001b[0m \u001b[1m1s\u001b[0m 44ms/step - loss: 7.0374e-04\n",
            "Epoch 25/100\n",
            "\u001b[1m13/13\u001b[0m \u001b[32m━━━━━━━━━━━━━━━━━━━━\u001b[0m\u001b[37m\u001b[0m \u001b[1m1s\u001b[0m 37ms/step - loss: 7.1274e-04\n",
            "Epoch 26/100\n",
            "\u001b[1m13/13\u001b[0m \u001b[32m━━━━━━━━━━━━━━━━━━━━\u001b[0m\u001b[37m\u001b[0m \u001b[1m0s\u001b[0m 28ms/step - loss: 6.1624e-04\n",
            "Epoch 27/100\n",
            "\u001b[1m13/13\u001b[0m \u001b[32m━━━━━━━━━━━━━━━━━━━━\u001b[0m\u001b[37m\u001b[0m \u001b[1m1s\u001b[0m 45ms/step - loss: 7.3945e-04\n",
            "Epoch 28/100\n",
            "\u001b[1m13/13\u001b[0m \u001b[32m━━━━━━━━━━━━━━━━━━━━\u001b[0m\u001b[37m\u001b[0m \u001b[1m1s\u001b[0m 39ms/step - loss: 6.3992e-04\n",
            "Epoch 29/100\n",
            "\u001b[1m13/13\u001b[0m \u001b[32m━━━━━━━━━━━━━━━━━━━━\u001b[0m\u001b[37m\u001b[0m \u001b[1m1s\u001b[0m 35ms/step - loss: 6.3209e-04\n",
            "Epoch 30/100\n",
            "\u001b[1m13/13\u001b[0m \u001b[32m━━━━━━━━━━━━━━━━━━━━\u001b[0m\u001b[37m\u001b[0m \u001b[1m1s\u001b[0m 34ms/step - loss: 6.6628e-04\n",
            "Epoch 31/100\n",
            "\u001b[1m13/13\u001b[0m \u001b[32m━━━━━━━━━━━━━━━━━━━━\u001b[0m\u001b[37m\u001b[0m \u001b[1m1s\u001b[0m 34ms/step - loss: 5.1626e-04\n",
            "Epoch 32/100\n",
            "\u001b[1m13/13\u001b[0m \u001b[32m━━━━━━━━━━━━━━━━━━━━\u001b[0m\u001b[37m\u001b[0m \u001b[1m1s\u001b[0m 36ms/step - loss: 6.7346e-04\n",
            "Epoch 33/100\n",
            "\u001b[1m13/13\u001b[0m \u001b[32m━━━━━━━━━━━━━━━━━━━━\u001b[0m\u001b[37m\u001b[0m \u001b[1m1s\u001b[0m 40ms/step - loss: 6.4067e-04\n",
            "Epoch 34/100\n",
            "\u001b[1m13/13\u001b[0m \u001b[32m━━━━━━━━━━━━━━━━━━━━\u001b[0m\u001b[37m\u001b[0m \u001b[1m1s\u001b[0m 59ms/step - loss: 6.0258e-04\n",
            "Epoch 35/100\n",
            "\u001b[1m13/13\u001b[0m \u001b[32m━━━━━━━━━━━━━━━━━━━━\u001b[0m\u001b[37m\u001b[0m \u001b[1m1s\u001b[0m 36ms/step - loss: 5.9009e-04\n",
            "Epoch 36/100\n",
            "\u001b[1m13/13\u001b[0m \u001b[32m━━━━━━━━━━━━━━━━━━━━\u001b[0m\u001b[37m\u001b[0m \u001b[1m1s\u001b[0m 52ms/step - loss: 5.2366e-04\n",
            "Epoch 37/100\n",
            "\u001b[1m13/13\u001b[0m \u001b[32m━━━━━━━━━━━━━━━━━━━━\u001b[0m\u001b[37m\u001b[0m \u001b[1m1s\u001b[0m 45ms/step - loss: 6.1079e-04\n",
            "Epoch 38/100\n",
            "\u001b[1m13/13\u001b[0m \u001b[32m━━━━━━━━━━━━━━━━━━━━\u001b[0m\u001b[37m\u001b[0m \u001b[1m2s\u001b[0m 64ms/step - loss: 5.1545e-04\n",
            "Epoch 39/100\n",
            "\u001b[1m13/13\u001b[0m \u001b[32m━━━━━━━━━━━━━━━━━━━━\u001b[0m\u001b[37m\u001b[0m \u001b[1m1s\u001b[0m 43ms/step - loss: 5.8313e-04\n",
            "Epoch 40/100\n",
            "\u001b[1m13/13\u001b[0m \u001b[32m━━━━━━━━━━━━━━━━━━━━\u001b[0m\u001b[37m\u001b[0m \u001b[1m1s\u001b[0m 44ms/step - loss: 5.3395e-04\n",
            "Epoch 41/100\n",
            "\u001b[1m13/13\u001b[0m \u001b[32m━━━━━━━━━━━━━━━━━━━━\u001b[0m\u001b[37m\u001b[0m \u001b[1m1s\u001b[0m 53ms/step - loss: 5.3443e-04\n",
            "Epoch 42/100\n",
            "\u001b[1m13/13\u001b[0m \u001b[32m━━━━━━━━━━━━━━━━━━━━\u001b[0m\u001b[37m\u001b[0m \u001b[1m1s\u001b[0m 48ms/step - loss: 5.6107e-04\n",
            "Epoch 43/100\n",
            "\u001b[1m13/13\u001b[0m \u001b[32m━━━━━━━━━━━━━━━━━━━━\u001b[0m\u001b[37m\u001b[0m \u001b[1m1s\u001b[0m 52ms/step - loss: 5.6301e-04\n",
            "Epoch 44/100\n",
            "\u001b[1m13/13\u001b[0m \u001b[32m━━━━━━━━━━━━━━━━━━━━\u001b[0m\u001b[37m\u001b[0m \u001b[1m2s\u001b[0m 56ms/step - loss: 5.1204e-04\n",
            "Epoch 45/100\n",
            "\u001b[1m13/13\u001b[0m \u001b[32m━━━━━━━━━━━━━━━━━━━━\u001b[0m\u001b[37m\u001b[0m \u001b[1m1s\u001b[0m 64ms/step - loss: 4.4625e-04\n",
            "Epoch 46/100\n",
            "\u001b[1m13/13\u001b[0m \u001b[32m━━━━━━━━━━━━━━━━━━━━\u001b[0m\u001b[37m\u001b[0m \u001b[1m1s\u001b[0m 54ms/step - loss: 4.9683e-04\n",
            "Epoch 47/100\n",
            "\u001b[1m13/13\u001b[0m \u001b[32m━━━━━━━━━━━━━━━━━━━━\u001b[0m\u001b[37m\u001b[0m \u001b[1m1s\u001b[0m 52ms/step - loss: 6.4509e-04\n",
            "Epoch 48/100\n",
            "\u001b[1m13/13\u001b[0m \u001b[32m━━━━━━━━━━━━━━━━━━━━\u001b[0m\u001b[37m\u001b[0m \u001b[1m1s\u001b[0m 50ms/step - loss: 5.2005e-04\n",
            "Epoch 49/100\n",
            "\u001b[1m13/13\u001b[0m \u001b[32m━━━━━━━━━━━━━━━━━━━━\u001b[0m\u001b[37m\u001b[0m \u001b[1m1s\u001b[0m 59ms/step - loss: 5.8625e-04\n",
            "Epoch 50/100\n",
            "\u001b[1m13/13\u001b[0m \u001b[32m━━━━━━━━━━━━━━━━━━━━\u001b[0m\u001b[37m\u001b[0m \u001b[1m1s\u001b[0m 87ms/step - loss: 5.2661e-04\n",
            "Epoch 51/100\n",
            "\u001b[1m13/13\u001b[0m \u001b[32m━━━━━━━━━━━━━━━━━━━━\u001b[0m\u001b[37m\u001b[0m \u001b[1m1s\u001b[0m 49ms/step - loss: 4.8324e-04\n",
            "Epoch 52/100\n",
            "\u001b[1m13/13\u001b[0m \u001b[32m━━━━━━━━━━━━━━━━━━━━\u001b[0m\u001b[37m\u001b[0m \u001b[1m1s\u001b[0m 83ms/step - loss: 4.4773e-04\n",
            "Epoch 53/100\n",
            "\u001b[1m13/13\u001b[0m \u001b[32m━━━━━━━━━━━━━━━━━━━━\u001b[0m\u001b[37m\u001b[0m \u001b[1m1s\u001b[0m 54ms/step - loss: 4.6019e-04\n",
            "Epoch 54/100\n",
            "\u001b[1m13/13\u001b[0m \u001b[32m━━━━━━━━━━━━━━━━━━━━\u001b[0m\u001b[37m\u001b[0m \u001b[1m2s\u001b[0m 38ms/step - loss: 4.9603e-04\n",
            "Epoch 55/100\n",
            "\u001b[1m13/13\u001b[0m \u001b[32m━━━━━━━━━━━━━━━━━━━━\u001b[0m\u001b[37m\u001b[0m \u001b[1m1s\u001b[0m 86ms/step - loss: 4.9668e-04\n",
            "Epoch 56/100\n",
            "\u001b[1m13/13\u001b[0m \u001b[32m━━━━━━━━━━━━━━━━━━━━\u001b[0m\u001b[37m\u001b[0m \u001b[1m2s\u001b[0m 88ms/step - loss: 4.5787e-04\n",
            "Epoch 57/100\n",
            "\u001b[1m13/13\u001b[0m \u001b[32m━━━━━━━━━━━━━━━━━━━━\u001b[0m\u001b[37m\u001b[0m \u001b[1m2s\u001b[0m 53ms/step - loss: 6.0353e-04\n",
            "Epoch 58/100\n",
            "\u001b[1m13/13\u001b[0m \u001b[32m━━━━━━━━━━━━━━━━━━━━\u001b[0m\u001b[37m\u001b[0m \u001b[1m1s\u001b[0m 75ms/step - loss: 5.0754e-04\n",
            "Epoch 59/100\n",
            "\u001b[1m13/13\u001b[0m \u001b[32m━━━━━━━━━━━━━━━━━━━━\u001b[0m\u001b[37m\u001b[0m \u001b[1m1s\u001b[0m 38ms/step - loss: 5.1267e-04\n",
            "Epoch 60/100\n",
            "\u001b[1m13/13\u001b[0m \u001b[32m━━━━━━━━━━━━━━━━━━━━\u001b[0m\u001b[37m\u001b[0m \u001b[1m1s\u001b[0m 56ms/step - loss: 4.6105e-04\n",
            "Epoch 61/100\n",
            "\u001b[1m13/13\u001b[0m \u001b[32m━━━━━━━━━━━━━━━━━━━━\u001b[0m\u001b[37m\u001b[0m \u001b[1m2s\u001b[0m 86ms/step - loss: 4.4264e-04\n",
            "Epoch 62/100\n",
            "\u001b[1m13/13\u001b[0m \u001b[32m━━━━━━━━━━━━━━━━━━━━\u001b[0m\u001b[37m\u001b[0m \u001b[1m2s\u001b[0m 72ms/step - loss: 4.6838e-04\n",
            "Epoch 63/100\n",
            "\u001b[1m13/13\u001b[0m \u001b[32m━━━━━━━━━━━━━━━━━━━━\u001b[0m\u001b[37m\u001b[0m \u001b[1m2s\u001b[0m 88ms/step - loss: 4.3924e-04\n",
            "Epoch 64/100\n",
            "\u001b[1m13/13\u001b[0m \u001b[32m━━━━━━━━━━━━━━━━━━━━\u001b[0m\u001b[37m\u001b[0m \u001b[1m1s\u001b[0m 47ms/step - loss: 4.3858e-04\n",
            "Epoch 65/100\n",
            "\u001b[1m13/13\u001b[0m \u001b[32m━━━━━━━━━━━━━━━━━━━━\u001b[0m\u001b[37m\u001b[0m \u001b[1m1s\u001b[0m 50ms/step - loss: 4.4751e-04\n",
            "Epoch 66/100\n",
            "\u001b[1m13/13\u001b[0m \u001b[32m━━━━━━━━━━━━━━━━━━━━\u001b[0m\u001b[37m\u001b[0m \u001b[1m1s\u001b[0m 60ms/step - loss: 4.3575e-04\n",
            "Epoch 67/100\n",
            "\u001b[1m13/13\u001b[0m \u001b[32m━━━━━━━━━━━━━━━━━━━━\u001b[0m\u001b[37m\u001b[0m \u001b[1m1s\u001b[0m 82ms/step - loss: 4.1161e-04\n",
            "Epoch 68/100\n",
            "\u001b[1m13/13\u001b[0m \u001b[32m━━━━━━━━━━━━━━━━━━━━\u001b[0m\u001b[37m\u001b[0m \u001b[1m1s\u001b[0m 59ms/step - loss: 4.3446e-04\n",
            "Epoch 69/100\n",
            "\u001b[1m13/13\u001b[0m \u001b[32m━━━━━━━━━━━━━━━━━━━━\u001b[0m\u001b[37m\u001b[0m \u001b[1m1s\u001b[0m 46ms/step - loss: 4.7913e-04\n",
            "Epoch 70/100\n",
            "\u001b[1m13/13\u001b[0m \u001b[32m━━━━━━━━━━━━━━━━━━━━\u001b[0m\u001b[37m\u001b[0m \u001b[1m1s\u001b[0m 44ms/step - loss: 4.3562e-04\n",
            "Epoch 71/100\n",
            "\u001b[1m13/13\u001b[0m \u001b[32m━━━━━━━━━━━━━━━━━━━━\u001b[0m\u001b[37m\u001b[0m \u001b[1m1s\u001b[0m 46ms/step - loss: 4.7788e-04\n",
            "Epoch 72/100\n",
            "\u001b[1m13/13\u001b[0m \u001b[32m━━━━━━━━━━━━━━━━━━━━\u001b[0m\u001b[37m\u001b[0m \u001b[1m2s\u001b[0m 50ms/step - loss: 4.1937e-04\n",
            "Epoch 73/100\n",
            "\u001b[1m13/13\u001b[0m \u001b[32m━━━━━━━━━━━━━━━━━━━━\u001b[0m\u001b[37m\u001b[0m \u001b[1m1s\u001b[0m 33ms/step - loss: 4.5265e-04\n",
            "Epoch 74/100\n",
            "\u001b[1m13/13\u001b[0m \u001b[32m━━━━━━━━━━━━━━━━━━━━\u001b[0m\u001b[37m\u001b[0m \u001b[1m1s\u001b[0m 38ms/step - loss: 4.4060e-04\n",
            "Epoch 75/100\n",
            "\u001b[1m13/13\u001b[0m \u001b[32m━━━━━━━━━━━━━━━━━━━━\u001b[0m\u001b[37m\u001b[0m \u001b[1m2s\u001b[0m 63ms/step - loss: 4.4234e-04\n",
            "Epoch 76/100\n",
            "\u001b[1m13/13\u001b[0m \u001b[32m━━━━━━━━━━━━━━━━━━━━\u001b[0m\u001b[37m\u001b[0m \u001b[1m1s\u001b[0m 62ms/step - loss: 5.3161e-04\n",
            "Epoch 77/100\n",
            "\u001b[1m13/13\u001b[0m \u001b[32m━━━━━━━━━━━━━━━━━━━━\u001b[0m\u001b[37m\u001b[0m \u001b[1m1s\u001b[0m 54ms/step - loss: 4.4395e-04\n",
            "Epoch 78/100\n",
            "\u001b[1m13/13\u001b[0m \u001b[32m━━━━━━━━━━━━━━━━━━━━\u001b[0m\u001b[37m\u001b[0m \u001b[1m2s\u001b[0m 47ms/step - loss: 4.5950e-04\n",
            "Epoch 79/100\n",
            "\u001b[1m13/13\u001b[0m \u001b[32m━━━━━━━━━━━━━━━━━━━━\u001b[0m\u001b[37m\u001b[0m \u001b[1m1s\u001b[0m 69ms/step - loss: 4.4173e-04\n",
            "Epoch 80/100\n",
            "\u001b[1m13/13\u001b[0m \u001b[32m━━━━━━━━━━━━━━━━━━━━\u001b[0m\u001b[37m\u001b[0m \u001b[1m1s\u001b[0m 53ms/step - loss: 4.3318e-04\n",
            "Epoch 81/100\n",
            "\u001b[1m13/13\u001b[0m \u001b[32m━━━━━━━━━━━━━━━━━━━━\u001b[0m\u001b[37m\u001b[0m \u001b[1m1s\u001b[0m 73ms/step - loss: 5.3231e-04\n",
            "Epoch 82/100\n",
            "\u001b[1m13/13\u001b[0m \u001b[32m━━━━━━━━━━━━━━━━━━━━\u001b[0m\u001b[37m\u001b[0m \u001b[1m1s\u001b[0m 72ms/step - loss: 4.2890e-04\n",
            "Epoch 83/100\n",
            "\u001b[1m13/13\u001b[0m \u001b[32m━━━━━━━━━━━━━━━━━━━━\u001b[0m\u001b[37m\u001b[0m \u001b[1m1s\u001b[0m 82ms/step - loss: 3.7574e-04\n",
            "Epoch 84/100\n",
            "\u001b[1m13/13\u001b[0m \u001b[32m━━━━━━━━━━━━━━━━━━━━\u001b[0m\u001b[37m\u001b[0m \u001b[1m2s\u001b[0m 54ms/step - loss: 3.8174e-04\n",
            "Epoch 85/100\n",
            "\u001b[1m13/13\u001b[0m \u001b[32m━━━━━━━━━━━━━━━━━━━━\u001b[0m\u001b[37m\u001b[0m \u001b[1m2s\u001b[0m 60ms/step - loss: 3.8619e-04\n",
            "Epoch 86/100\n",
            "\u001b[1m13/13\u001b[0m \u001b[32m━━━━━━━━━━━━━━━━━━━━\u001b[0m\u001b[37m\u001b[0m \u001b[1m1s\u001b[0m 60ms/step - loss: 4.8308e-04\n",
            "Epoch 87/100\n",
            "\u001b[1m13/13\u001b[0m \u001b[32m━━━━━━━━━━━━━━━━━━━━\u001b[0m\u001b[37m\u001b[0m \u001b[1m2s\u001b[0m 55ms/step - loss: 5.1851e-04\n",
            "Epoch 88/100\n",
            "\u001b[1m13/13\u001b[0m \u001b[32m━━━━━━━━━━━━━━━━━━━━\u001b[0m\u001b[37m\u001b[0m \u001b[1m2s\u001b[0m 77ms/step - loss: 3.9660e-04\n",
            "Epoch 89/100\n",
            "\u001b[1m13/13\u001b[0m \u001b[32m━━━━━━━━━━━━━━━━━━━━\u001b[0m\u001b[37m\u001b[0m \u001b[1m2s\u001b[0m 54ms/step - loss: 4.0168e-04\n",
            "Epoch 90/100\n",
            "\u001b[1m13/13\u001b[0m \u001b[32m━━━━━━━━━━━━━━━━━━━━\u001b[0m\u001b[37m\u001b[0m \u001b[1m2s\u001b[0m 76ms/step - loss: 3.9681e-04\n",
            "Epoch 91/100\n",
            "\u001b[1m13/13\u001b[0m \u001b[32m━━━━━━━━━━━━━━━━━━━━\u001b[0m\u001b[37m\u001b[0m \u001b[1m2s\u001b[0m 93ms/step - loss: 4.6486e-04\n",
            "Epoch 92/100\n",
            "\u001b[1m13/13\u001b[0m \u001b[32m━━━━━━━━━━━━━━━━━━━━\u001b[0m\u001b[37m\u001b[0m \u001b[1m1s\u001b[0m 49ms/step - loss: 4.2674e-04\n",
            "Epoch 93/100\n",
            "\u001b[1m13/13\u001b[0m \u001b[32m━━━━━━━━━━━━━━━━━━━━\u001b[0m\u001b[37m\u001b[0m \u001b[1m2s\u001b[0m 101ms/step - loss: 4.1334e-04\n",
            "Epoch 94/100\n",
            "\u001b[1m13/13\u001b[0m \u001b[32m━━━━━━━━━━━━━━━━━━━━\u001b[0m\u001b[37m\u001b[0m \u001b[1m1s\u001b[0m 43ms/step - loss: 3.7629e-04\n",
            "Epoch 95/100\n",
            "\u001b[1m13/13\u001b[0m \u001b[32m━━━━━━━━━━━━━━━━━━━━\u001b[0m\u001b[37m\u001b[0m \u001b[1m1s\u001b[0m 55ms/step - loss: 3.5862e-04\n",
            "Epoch 96/100\n",
            "\u001b[1m13/13\u001b[0m \u001b[32m━━━━━━━━━━━━━━━━━━━━\u001b[0m\u001b[37m\u001b[0m \u001b[1m2s\u001b[0m 91ms/step - loss: 3.7758e-04\n",
            "Epoch 97/100\n",
            "\u001b[1m13/13\u001b[0m \u001b[32m━━━━━━━━━━━━━━━━━━━━\u001b[0m\u001b[37m\u001b[0m \u001b[1m2s\u001b[0m 93ms/step - loss: 4.1421e-04\n",
            "Epoch 98/100\n",
            "\u001b[1m13/13\u001b[0m \u001b[32m━━━━━━━━━━━━━━━━━━━━\u001b[0m\u001b[37m\u001b[0m \u001b[1m2s\u001b[0m 65ms/step - loss: 3.7609e-04\n",
            "Epoch 99/100\n",
            "\u001b[1m13/13\u001b[0m \u001b[32m━━━━━━━━━━━━━━━━━━━━\u001b[0m\u001b[37m\u001b[0m \u001b[1m2s\u001b[0m 115ms/step - loss: 3.5166e-04\n",
            "Epoch 100/100\n",
            "\u001b[1m13/13\u001b[0m \u001b[32m━━━━━━━━━━━━━━━━━━━━\u001b[0m\u001b[37m\u001b[0m \u001b[1m3s\u001b[0m 96ms/step - loss: 4.0063e-04\n"
          ]
        },
        {
          "data": {
            "text/plain": [
              "<keras.src.callbacks.history.History at 0x25e4532ef30>"
            ]
          },
          "execution_count": 11,
          "metadata": {},
          "output_type": "execute_result"
        }
      ],
      "source": [
        "# 9. Fit mô hình với dữ liệu train\n",
        "model.fit(X_train,y_train,epochs=100,batch_size=64,verbose=1)"
      ]
    },
    {
      "cell_type": "code",
      "execution_count": 12,
      "metadata": {
        "colab": {
          "base_uri": "https://localhost:8080/"
        },
        "id": "Rxx_KQSkQpBG",
        "outputId": "833f6791-4388-46f4-e4cb-0a712fe2c6a9"
      },
      "outputs": [
        {
          "name": "stdout",
          "output_type": "stream",
          "text": [
            "\u001b[1m25/25\u001b[0m \u001b[32m━━━━━━━━━━━━━━━━━━━━\u001b[0m\u001b[37m\u001b[0m \u001b[1m5s\u001b[0m 91ms/step\n",
            "\u001b[1m9/9\u001b[0m \u001b[32m━━━━━━━━━━━━━━━━━━━━\u001b[0m\u001b[37m\u001b[0m \u001b[1m0s\u001b[0m 12ms/step\n"
          ]
        }
      ],
      "source": [
        "# 10. Dự báo dữ liệu test, val\n",
        "train_predict=model.predict(X_train)\n",
        "y_pred=model.predict(X_test)"
      ]
    },
    {
      "cell_type": "code",
      "execution_count": 13,
      "metadata": {
        "id": "5rwTN10LQ7rj"
      },
      "outputs": [],
      "source": [
        "# 11. Chuẩn hóa dữ liệu y_pred, y_pred_val\n",
        "train_predict=scaler.inverse_transform(train_predict)\n",
        "y_pred=scaler.inverse_transform(y_pred)"
      ]
    },
    {
      "cell_type": "code",
      "execution_count": 14,
      "metadata": {
        "id": "r3PeRHARAHCh"
      },
      "outputs": [],
      "source": [
        "ytest = scaler.inverse_transform(ytest.reshape(-1,1))"
      ]
    },
    {
      "cell_type": "code",
      "execution_count": 15,
      "metadata": {
        "colab": {
          "base_uri": "https://localhost:8080/"
        },
        "id": "wu_9j94kRonD",
        "outputId": "2ac60ff6-2715-4fe0-ae6e-8a938d49e7ce"
      },
      "outputs": [
        {
          "name": "stdout",
          "output_type": "stream",
          "text": [
            "Testing RMSE: 0.21795627154414612\n"
          ]
        }
      ],
      "source": [
        "# 12. Đánh giá độ chính xác thuật toán bằng RMSE\n",
        "test_rmse = np.sqrt(np.mean((y_pred - ytest)**2))\n",
        "print('Testing RMSE:', test_rmse)"
      ]
    },
    {
      "cell_type": "code",
      "execution_count": 16,
      "metadata": {
        "colab": {
          "base_uri": "https://localhost:8080/"
        },
        "id": "-Tind_8TAHCh",
        "outputId": "7bff1981-c5d1-4f86-b9bf-d1e383b40700"
      },
      "outputs": [
        {
          "name": "stdout",
          "output_type": "stream",
          "text": [
            "Testing MAE: 0.16619727138185156\n"
          ]
        }
      ],
      "source": [
        "# Đánh giá độ chính xác thuật toán bằng MAE\n",
        "test_mae = np.mean(abs(y_pred - ytest))\n",
        "print('Testing MAE:', test_mae)"
      ]
    },
    {
      "cell_type": "code",
      "execution_count": 17,
      "metadata": {
        "colab": {
          "base_uri": "https://localhost:8080/"
        },
        "id": "gDFbKEkMAHCi",
        "outputId": "6ccc2bc7-35c0-4624-caca-8de8c0830fa8"
      },
      "outputs": [
        {
          "name": "stdout",
          "output_type": "stream",
          "text": [
            "Testing MAPE: 0.029896104359208704\n"
          ]
        }
      ],
      "source": [
        "# Đánh giá độ chính xác thuật toán bằng MAPE\n",
        "test_mape = np.mean(np.abs(y_pred - ytest)/np.abs(y_pred))\n",
        "print('Testing MAPE:', test_mape)"
      ]
    },
    {
      "cell_type": "code",
      "execution_count": 18,
      "metadata": {
        "colab": {
          "base_uri": "https://localhost:8080/",
          "height": 430
        },
        "id": "0xzNLNCPAHCi",
        "outputId": "d11deaf3-f2b7-42c9-e2c0-ba1122479997"
      },
      "outputs": [
        {
          "data": {
            "image/png": "[encoded data removed]",
            "text/plain": [
              "<Figure size 640x480 with 1 Axes>"
            ]
          },
          "metadata": {},
          "output_type": "display_data"
        }
      ],
      "source": [
        "# 14.Vẽ hình\n",
        "# Train\n",
        "train_data_index = pd.RangeIndex(start=0, stop=train_size, step=1)\n",
        "plt.plot(scaler.inverse_transform(train_data))\n",
        "# Test\n",
        "test_data_index = pd.RangeIndex(start=train_size, stop=train_size+test_size, step=1)\n",
        "plt.plot(test_data_index,scaler.inverse_transform(test_data))\n",
        "# Dự đoán trên tập test\n",
        "test_data_index = pd.RangeIndex(start=train_size+101, stop=train_size+test_size, step=1)\n",
        "plt.plot(test_data_index,(y_pred))\n",
        "plt.legend(['Train','Test','Predict'])\n",
        "plt.show()"
      ]
    },
    {
      "cell_type": "markdown",
      "metadata": {},
      "source": [
        "# Dự đoán 30 ngày tiếp theo"
      ]
    },
    {
      "cell_type": "code",
      "execution_count": 19,
      "metadata": {},
      "outputs": [
        {
          "name": "stdout",
          "output_type": "stream",
          "text": [
            "[0.08793036]\n",
            "101\n",
            "1 day input [0.05541035 0.05567172 0.05567172 0.05854679 0.05802405 0.05776268\n",
            " 0.05828542 0.05541035 0.05201255 0.05044433 0.05279665 0.05488761\n",
            " 0.05541035 0.05697857 0.05567172 0.05619446 0.05880815 0.05959226\n",
            " 0.0541035  0.05331939 0.05593309 0.05723994 0.05959226 0.060115\n",
            " 0.05985363 0.05906952 0.05959226 0.05906952 0.06168322 0.06089911\n",
            " 0.06089911 0.06246733 0.06037637 0.05828542 0.05828542 0.06089911\n",
            " 0.06168322 0.06168322 0.06769472 0.07030842 0.07239937 0.07344485\n",
            " 0.07083116 0.06821746 0.06900157 0.06821746 0.06769472 0.06795609\n",
            " 0.06743335 0.06900157 0.07030842 0.07083116 0.06900157 0.06717198\n",
            " 0.06508102 0.06743335 0.06795609 0.06795609 0.07187663 0.07187663\n",
            " 0.06508102 0.06429692 0.06508102 0.05959226 0.05959226 0.05541035\n",
            " 0.04626242 0.05227392 0.06246733 0.07083116 0.07004705 0.06952431\n",
            " 0.07135389 0.07161526 0.07344485 0.07292211 0.07344485 0.07109252\n",
            " 0.07161526 0.07553581 0.07736539 0.07266074 0.06952431 0.07030842\n",
            " 0.0747517  0.07187663 0.07109252 0.07056979 0.07396759 0.06978568\n",
            " 0.07553581 0.07187663 0.07631992 0.07971772 0.07292211 0.07187663\n",
            " 0.07841087 0.084161   0.08494511 0.08793036]\n",
            "1 day output [[0.08873054]]\n",
            "2 day input [0.05567172 0.05567172 0.05854679 0.05802405 0.05776268 0.05828542\n",
            " 0.05541035 0.05201255 0.05044433 0.05279665 0.05488761 0.05541035\n",
            " 0.05697857 0.05567172 0.05619446 0.05880815 0.05959226 0.0541035\n",
            " 0.05331939 0.05593309 0.05723994 0.05959226 0.060115   0.05985363\n",
            " 0.05906952 0.05959226 0.05906952 0.06168322 0.06089911 0.06089911\n",
            " 0.06246733 0.06037637 0.05828542 0.05828542 0.06089911 0.06168322\n",
            " 0.06168322 0.06769472 0.07030842 0.07239937 0.07344485 0.07083116\n",
            " 0.06821746 0.06900157 0.06821746 0.06769472 0.06795609 0.06743335\n",
            " 0.06900157 0.07030842 0.07083116 0.06900157 0.06717198 0.06508102\n",
            " 0.06743335 0.06795609 0.06795609 0.07187663 0.07187663 0.06508102\n",
            " 0.06429692 0.06508102 0.05959226 0.05959226 0.05541035 0.04626242\n",
            " 0.05227392 0.06246733 0.07083116 0.07004705 0.06952431 0.07135389\n",
            " 0.07161526 0.07344485 0.07292211 0.07344485 0.07109252 0.07161526\n",
            " 0.07553581 0.07736539 0.07266074 0.06952431 0.07030842 0.0747517\n",
            " 0.07187663 0.07109252 0.07056979 0.07396759 0.06978568 0.07553581\n",
            " 0.07187663 0.07631992 0.07971772 0.07292211 0.07187663 0.07841087\n",
            " 0.084161   0.08494511 0.08793036 0.08873054]\n",
            "2 day output [[0.09396739]]\n",
            "3 day input [0.05567172 0.05854679 0.05802405 0.05776268 0.05828542 0.05541035\n",
            " 0.05201255 0.05044433 0.05279665 0.05488761 0.05541035 0.05697857\n",
            " 0.05567172 0.05619446 0.05880815 0.05959226 0.0541035  0.05331939\n",
            " 0.05593309 0.05723994 0.05959226 0.060115   0.05985363 0.05906952\n",
            " 0.05959226 0.05906952 0.06168322 0.06089911 0.06089911 0.06246733\n",
            " 0.06037637 0.05828542 0.05828542 0.06089911 0.06168322 0.06168322\n",
            " 0.06769472 0.07030842 0.07239937 0.07344485 0.07083116 0.06821746\n",
            " 0.06900157 0.06821746 0.06769472 0.06795609 0.06743335 0.06900157\n",
            " 0.07030842 0.07083116 0.06900157 0.06717198 0.06508102 0.06743335\n",
            " 0.06795609 0.06795609 0.07187663 0.07187663 0.06508102 0.06429692\n",
            " 0.06508102 0.05959226 0.05959226 0.05541035 0.04626242 0.05227392\n",
            " 0.06246733 0.07083116 0.07004705 0.06952431 0.07135389 0.07161526\n",
            " 0.07344485 0.07292211 0.07344485 0.07109252 0.07161526 0.07553581\n",
            " 0.07736539 0.07266074 0.06952431 0.07030842 0.0747517  0.07187663\n",
            " 0.07109252 0.07056979 0.07396759 0.06978568 0.07553581 0.07187663\n",
            " 0.07631992 0.07971772 0.07292211 0.07187663 0.07841087 0.084161\n",
            " 0.08494511 0.08793036 0.08873054 0.09396739]\n",
            "3 day output [[0.09999382]]\n",
            "4 day input [0.05854679 0.05802405 0.05776268 0.05828542 0.05541035 0.05201255\n",
            " 0.05044433 0.05279665 0.05488761 0.05541035 0.05697857 0.05567172\n",
            " 0.05619446 0.05880815 0.05959226 0.0541035  0.05331939 0.05593309\n",
            " 0.05723994 0.05959226 0.060115   0.05985363 0.05906952 0.05959226\n",
            " 0.05906952 0.06168322 0.06089911 0.06089911 0.06246733 0.06037637\n",
            " 0.05828542 0.05828542 0.06089911 0.06168322 0.06168322 0.06769472\n",
            " 0.07030842 0.07239937 0.07344485 0.07083116 0.06821746 0.06900157\n",
            " 0.06821746 0.06769472 0.06795609 0.06743335 0.06900157 0.07030842\n",
            " 0.07083116 0.06900157 0.06717198 0.06508102 0.06743335 0.06795609\n",
            " 0.06795609 0.07187663 0.07187663 0.06508102 0.06429692 0.06508102\n",
            " 0.05959226 0.05959226 0.05541035 0.04626242 0.05227392 0.06246733\n",
            " 0.07083116 0.07004705 0.06952431 0.07135389 0.07161526 0.07344485\n",
            " 0.07292211 0.07344485 0.07109252 0.07161526 0.07553581 0.07736539\n",
            " 0.07266074 0.06952431 0.07030842 0.0747517  0.07187663 0.07109252\n",
            " 0.07056979 0.07396759 0.06978568 0.07553581 0.07187663 0.07631992\n",
            " 0.07971772 0.07292211 0.07187663 0.07841087 0.084161   0.08494511\n",
            " 0.08793036 0.08873054 0.09396739 0.09999382]\n",
            "4 day output [[0.10256687]]\n",
            "5 day input [0.05802405 0.05776268 0.05828542 0.05541035 0.05201255 0.05044433\n",
            " 0.05279665 0.05488761 0.05541035 0.05697857 0.05567172 0.05619446\n",
            " 0.05880815 0.05959226 0.0541035  0.05331939 0.05593309 0.05723994\n",
            " 0.05959226 0.060115   0.05985363 0.05906952 0.05959226 0.05906952\n",
            " 0.06168322 0.06089911 0.06089911 0.06246733 0.06037637 0.05828542\n",
            " 0.05828542 0.06089911 0.06168322 0.06168322 0.06769472 0.07030842\n",
            " 0.07239937 0.07344485 0.07083116 0.06821746 0.06900157 0.06821746\n",
            " 0.06769472 0.06795609 0.06743335 0.06900157 0.07030842 0.07083116\n",
            " 0.06900157 0.06717198 0.06508102 0.06743335 0.06795609 0.06795609\n",
            " 0.07187663 0.07187663 0.06508102 0.06429692 0.06508102 0.05959226\n",
            " 0.05959226 0.05541035 0.04626242 0.05227392 0.06246733 0.07083116\n",
            " 0.07004705 0.06952431 0.07135389 0.07161526 0.07344485 0.07292211\n",
            " 0.07344485 0.07109252 0.07161526 0.07553581 0.07736539 0.07266074\n",
            " 0.06952431 0.07030842 0.0747517  0.07187663 0.07109252 0.07056979\n",
            " 0.07396759 0.06978568 0.07553581 0.07187663 0.07631992 0.07971772\n",
            " 0.07292211 0.07187663 0.07841087 0.084161   0.08494511 0.08793036\n",
            " 0.08873054 0.09396739 0.09999382 0.10256687]\n",
            "5 day output [[0.10721738]]\n",
            "6 day input [0.05776268 0.05828542 0.05541035 0.05201255 0.05044433 0.05279665\n",
            " 0.05488761 0.05541035 0.05697857 0.05567172 0.05619446 0.05880815\n",
            " 0.05959226 0.0541035  0.05331939 0.05593309 0.05723994 0.05959226\n",
            " 0.060115   0.05985363 0.05906952 0.05959226 0.05906952 0.06168322\n",
            " 0.06089911 0.06089911 0.06246733 0.06037637 0.05828542 0.05828542\n",
            " 0.06089911 0.06168322 0.06168322 0.06769472 0.07030842 0.07239937\n",
            " 0.07344485 0.07083116 0.06821746 0.06900157 0.06821746 0.06769472\n",
            " 0.06795609 0.06743335 0.06900157 0.07030842 0.07083116 0.06900157\n",
            " 0.06717198 0.06508102 0.06743335 0.06795609 0.06795609 0.07187663\n",
            " 0.07187663 0.06508102 0.06429692 0.06508102 0.05959226 0.05959226\n",
            " 0.05541035 0.04626242 0.05227392 0.06246733 0.07083116 0.07004705\n",
            " 0.06952431 0.07135389 0.07161526 0.07344485 0.07292211 0.07344485\n",
            " 0.07109252 0.07161526 0.07553581 0.07736539 0.07266074 0.06952431\n",
            " 0.07030842 0.0747517  0.07187663 0.07109252 0.07056979 0.07396759\n",
            " 0.06978568 0.07553581 0.07187663 0.07631992 0.07971772 0.07292211\n",
            " 0.07187663 0.07841087 0.084161   0.08494511 0.08793036 0.08873054\n",
            " 0.09396739 0.09999382 0.10256687 0.10721738]\n",
            "6 day output [[0.11172599]]\n",
            "7 day input [0.05828542 0.05541035 0.05201255 0.05044433 0.05279665 0.05488761\n",
            " 0.05541035 0.05697857 0.05567172 0.05619446 0.05880815 0.05959226\n",
            " 0.0541035  0.05331939 0.05593309 0.05723994 0.05959226 0.060115\n",
            " 0.05985363 0.05906952 0.05959226 0.05906952 0.06168322 0.06089911\n",
            " 0.06089911 0.06246733 0.06037637 0.05828542 0.05828542 0.06089911\n",
            " 0.06168322 0.06168322 0.06769472 0.07030842 0.07239937 0.07344485\n",
            " 0.07083116 0.06821746 0.06900157 0.06821746 0.06769472 0.06795609\n",
            " 0.06743335 0.06900157 0.07030842 0.07083116 0.06900157 0.06717198\n",
            " 0.06508102 0.06743335 0.06795609 0.06795609 0.07187663 0.07187663\n",
            " 0.06508102 0.06429692 0.06508102 0.05959226 0.05959226 0.05541035\n",
            " 0.04626242 0.05227392 0.06246733 0.07083116 0.07004705 0.06952431\n",
            " 0.07135389 0.07161526 0.07344485 0.07292211 0.07344485 0.07109252\n",
            " 0.07161526 0.07553581 0.07736539 0.07266074 0.06952431 0.07030842\n",
            " 0.0747517  0.07187663 0.07109252 0.07056979 0.07396759 0.06978568\n",
            " 0.07553581 0.07187663 0.07631992 0.07971772 0.07292211 0.07187663\n",
            " 0.07841087 0.084161   0.08494511 0.08793036 0.08873054 0.09396739\n",
            " 0.09999382 0.10256687 0.10721738 0.11172599]\n",
            "7 day output [[0.11762474]]\n",
            "8 day input [0.05541035 0.05201255 0.05044433 0.05279665 0.05488761 0.05541035\n",
            " 0.05697857 0.05567172 0.05619446 0.05880815 0.05959226 0.0541035\n",
            " 0.05331939 0.05593309 0.05723994 0.05959226 0.060115   0.05985363\n",
            " 0.05906952 0.05959226 0.05906952 0.06168322 0.06089911 0.06089911\n",
            " 0.06246733 0.06037637 0.05828542 0.05828542 0.06089911 0.06168322\n",
            " 0.06168322 0.06769472 0.07030842 0.07239937 0.07344485 0.07083116\n",
            " 0.06821746 0.06900157 0.06821746 0.06769472 0.06795609 0.06743335\n",
            " 0.06900157 0.07030842 0.07083116 0.06900157 0.06717198 0.06508102\n",
            " 0.06743335 0.06795609 0.06795609 0.07187663 0.07187663 0.06508102\n",
            " 0.06429692 0.06508102 0.05959226 0.05959226 0.05541035 0.04626242\n",
            " 0.05227392 0.06246733 0.07083116 0.07004705 0.06952431 0.07135389\n",
            " 0.07161526 0.07344485 0.07292211 0.07344485 0.07109252 0.07161526\n",
            " 0.07553581 0.07736539 0.07266074 0.06952431 0.07030842 0.0747517\n",
            " 0.07187663 0.07109252 0.07056979 0.07396759 0.06978568 0.07553581\n",
            " 0.07187663 0.07631992 0.07971772 0.07292211 0.07187663 0.07841087\n",
            " 0.084161   0.08494511 0.08793036 0.08873054 0.09396739 0.09999382\n",
            " 0.10256687 0.10721738 0.11172599 0.11762474]\n",
            "8 day output [[0.12043359]]\n",
            "9 day input [0.05201255 0.05044433 0.05279665 0.05488761 0.05541035 0.05697857\n",
            " 0.05567172 0.05619446 0.05880815 0.05959226 0.0541035  0.05331939\n",
            " 0.05593309 0.05723994 0.05959226 0.060115   0.05985363 0.05906952\n",
            " 0.05959226 0.05906952 0.06168322 0.06089911 0.06089911 0.06246733\n",
            " 0.06037637 0.05828542 0.05828542 0.06089911 0.06168322 0.06168322\n",
            " 0.06769472 0.07030842 0.07239937 0.07344485 0.07083116 0.06821746\n",
            " 0.06900157 0.06821746 0.06769472 0.06795609 0.06743335 0.06900157\n",
            " 0.07030842 0.07083116 0.06900157 0.06717198 0.06508102 0.06743335\n",
            " 0.06795609 0.06795609 0.07187663 0.07187663 0.06508102 0.06429692\n",
            " 0.06508102 0.05959226 0.05959226 0.05541035 0.04626242 0.05227392\n",
            " 0.06246733 0.07083116 0.07004705 0.06952431 0.07135389 0.07161526\n",
            " 0.07344485 0.07292211 0.07344485 0.07109252 0.07161526 0.07553581\n",
            " 0.07736539 0.07266074 0.06952431 0.07030842 0.0747517  0.07187663\n",
            " 0.07109252 0.07056979 0.07396759 0.06978568 0.07553581 0.07187663\n",
            " 0.07631992 0.07971772 0.07292211 0.07187663 0.07841087 0.084161\n",
            " 0.08494511 0.08793036 0.08873054 0.09396739 0.09999382 0.10256687\n",
            " 0.10721738 0.11172599 0.11762474 0.12043359]\n",
            "9 day output [[0.12394109]]\n",
            "10 day input [0.05044433 0.05279665 0.05488761 0.05541035 0.05697857 0.05567172\n",
            " 0.05619446 0.05880815 0.05959226 0.0541035  0.05331939 0.05593309\n",
            " 0.05723994 0.05959226 0.060115   0.05985363 0.05906952 0.05959226\n",
            " 0.05906952 0.06168322 0.06089911 0.06089911 0.06246733 0.06037637\n",
            " 0.05828542 0.05828542 0.06089911 0.06168322 0.06168322 0.06769472\n",
            " 0.07030842 0.07239937 0.07344485 0.07083116 0.06821746 0.06900157\n",
            " 0.06821746 0.06769472 0.06795609 0.06743335 0.06900157 0.07030842\n",
            " 0.07083116 0.06900157 0.06717198 0.06508102 0.06743335 0.06795609\n",
            " 0.06795609 0.07187663 0.07187663 0.06508102 0.06429692 0.06508102\n",
            " 0.05959226 0.05959226 0.05541035 0.04626242 0.05227392 0.06246733\n",
            " 0.07083116 0.07004705 0.06952431 0.07135389 0.07161526 0.07344485\n",
            " 0.07292211 0.07344485 0.07109252 0.07161526 0.07553581 0.07736539\n",
            " 0.07266074 0.06952431 0.07030842 0.0747517  0.07187663 0.07109252\n",
            " 0.07056979 0.07396759 0.06978568 0.07553581 0.07187663 0.07631992\n",
            " 0.07971772 0.07292211 0.07187663 0.07841087 0.084161   0.08494511\n",
            " 0.08793036 0.08873054 0.09396739 0.09999382 0.10256687 0.10721738\n",
            " 0.11172599 0.11762474 0.12043359 0.12394109]\n",
            "10 day output [[0.1282517]]\n",
            "11 day input [0.05279665 0.05488761 0.05541035 0.05697857 0.05567172 0.05619446\n",
            " 0.05880815 0.05959226 0.0541035  0.05331939 0.05593309 0.05723994\n",
            " 0.05959226 0.060115   0.05985363 0.05906952 0.05959226 0.05906952\n",
            " 0.06168322 0.06089911 0.06089911 0.06246733 0.06037637 0.05828542\n",
            " 0.05828542 0.06089911 0.06168322 0.06168322 0.06769472 0.07030842\n",
            " 0.07239937 0.07344485 0.07083116 0.06821746 0.06900157 0.06821746\n",
            " 0.06769472 0.06795609 0.06743335 0.06900157 0.07030842 0.07083116\n",
            " 0.06900157 0.06717198 0.06508102 0.06743335 0.06795609 0.06795609\n",
            " 0.07187663 0.07187663 0.06508102 0.06429692 0.06508102 0.05959226\n",
            " 0.05959226 0.05541035 0.04626242 0.05227392 0.06246733 0.07083116\n",
            " 0.07004705 0.06952431 0.07135389 0.07161526 0.07344485 0.07292211\n",
            " 0.07344485 0.07109252 0.07161526 0.07553581 0.07736539 0.07266074\n",
            " 0.06952431 0.07030842 0.0747517  0.07187663 0.07109252 0.07056979\n",
            " 0.07396759 0.06978568 0.07553581 0.07187663 0.07631992 0.07971772\n",
            " 0.07292211 0.07187663 0.07841087 0.084161   0.08494511 0.08793036\n",
            " 0.08873054 0.09396739 0.09999382 0.10256687 0.10721738 0.11172599\n",
            " 0.11762474 0.12043359 0.12394109 0.1282517 ]\n",
            "11 day output [[0.13401122]]\n",
            "12 day input [0.05488761 0.05541035 0.05697857 0.05567172 0.05619446 0.05880815\n",
            " 0.05959226 0.0541035  0.05331939 0.05593309 0.05723994 0.05959226\n",
            " 0.060115   0.05985363 0.05906952 0.05959226 0.05906952 0.06168322\n",
            " 0.06089911 0.06089911 0.06246733 0.06037637 0.05828542 0.05828542\n",
            " 0.06089911 0.06168322 0.06168322 0.06769472 0.07030842 0.07239937\n",
            " 0.07344485 0.07083116 0.06821746 0.06900157 0.06821746 0.06769472\n",
            " 0.06795609 0.06743335 0.06900157 0.07030842 0.07083116 0.06900157\n",
            " 0.06717198 0.06508102 0.06743335 0.06795609 0.06795609 0.07187663\n",
            " 0.07187663 0.06508102 0.06429692 0.06508102 0.05959226 0.05959226\n",
            " 0.05541035 0.04626242 0.05227392 0.06246733 0.07083116 0.07004705\n",
            " 0.06952431 0.07135389 0.07161526 0.07344485 0.07292211 0.07344485\n",
            " 0.07109252 0.07161526 0.07553581 0.07736539 0.07266074 0.06952431\n",
            " 0.07030842 0.0747517  0.07187663 0.07109252 0.07056979 0.07396759\n",
            " 0.06978568 0.07553581 0.07187663 0.07631992 0.07971772 0.07292211\n",
            " 0.07187663 0.07841087 0.084161   0.08494511 0.08793036 0.08873054\n",
            " 0.09396739 0.09999382 0.10256687 0.10721738 0.11172599 0.11762474\n",
            " 0.12043359 0.12394109 0.1282517  0.13401122]\n",
            "12 day output [[0.13600808]]\n",
            "13 day input [0.05541035 0.05697857 0.05567172 0.05619446 0.05880815 0.05959226\n",
            " 0.0541035  0.05331939 0.05593309 0.05723994 0.05959226 0.060115\n",
            " 0.05985363 0.05906952 0.05959226 0.05906952 0.06168322 0.06089911\n",
            " 0.06089911 0.06246733 0.06037637 0.05828542 0.05828542 0.06089911\n",
            " 0.06168322 0.06168322 0.06769472 0.07030842 0.07239937 0.07344485\n",
            " 0.07083116 0.06821746 0.06900157 0.06821746 0.06769472 0.06795609\n",
            " 0.06743335 0.06900157 0.07030842 0.07083116 0.06900157 0.06717198\n",
            " 0.06508102 0.06743335 0.06795609 0.06795609 0.07187663 0.07187663\n",
            " 0.06508102 0.06429692 0.06508102 0.05959226 0.05959226 0.05541035\n",
            " 0.04626242 0.05227392 0.06246733 0.07083116 0.07004705 0.06952431\n",
            " 0.07135389 0.07161526 0.07344485 0.07292211 0.07344485 0.07109252\n",
            " 0.07161526 0.07553581 0.07736539 0.07266074 0.06952431 0.07030842\n",
            " 0.0747517  0.07187663 0.07109252 0.07056979 0.07396759 0.06978568\n",
            " 0.07553581 0.07187663 0.07631992 0.07971772 0.07292211 0.07187663\n",
            " 0.07841087 0.084161   0.08494511 0.08793036 0.08873054 0.09396739\n",
            " 0.09999382 0.10256687 0.10721738 0.11172599 0.11762474 0.12043359\n",
            " 0.12394109 0.1282517  0.13401122 0.13600808]\n",
            "13 day output [[0.14123978]]\n",
            "14 day input [0.05697857 0.05567172 0.05619446 0.05880815 0.05959226 0.0541035\n",
            " 0.05331939 0.05593309 0.05723994 0.05959226 0.060115   0.05985363\n",
            " 0.05906952 0.05959226 0.05906952 0.06168322 0.06089911 0.06089911\n",
            " 0.06246733 0.06037637 0.05828542 0.05828542 0.06089911 0.06168322\n",
            " 0.06168322 0.06769472 0.07030842 0.07239937 0.07344485 0.07083116\n",
            " 0.06821746 0.06900157 0.06821746 0.06769472 0.06795609 0.06743335\n",
            " 0.06900157 0.07030842 0.07083116 0.06900157 0.06717198 0.06508102\n",
            " 0.06743335 0.06795609 0.06795609 0.07187663 0.07187663 0.06508102\n",
            " 0.06429692 0.06508102 0.05959226 0.05959226 0.05541035 0.04626242\n",
            " 0.05227392 0.06246733 0.07083116 0.07004705 0.06952431 0.07135389\n",
            " 0.07161526 0.07344485 0.07292211 0.07344485 0.07109252 0.07161526\n",
            " 0.07553581 0.07736539 0.07266074 0.06952431 0.07030842 0.0747517\n",
            " 0.07187663 0.07109252 0.07056979 0.07396759 0.06978568 0.07553581\n",
            " 0.07187663 0.07631992 0.07971772 0.07292211 0.07187663 0.07841087\n",
            " 0.084161   0.08494511 0.08793036 0.08873054 0.09396739 0.09999382\n",
            " 0.10256687 0.10721738 0.11172599 0.11762474 0.12043359 0.12394109\n",
            " 0.1282517  0.13401122 0.13600808 0.14123978]\n",
            "14 day output [[0.1486239]]\n",
            "15 day input [0.05567172 0.05619446 0.05880815 0.05959226 0.0541035  0.05331939\n",
            " 0.05593309 0.05723994 0.05959226 0.060115   0.05985363 0.05906952\n",
            " 0.05959226 0.05906952 0.06168322 0.06089911 0.06089911 0.06246733\n",
            " 0.06037637 0.05828542 0.05828542 0.06089911 0.06168322 0.06168322\n",
            " 0.06769472 0.07030842 0.07239937 0.07344485 0.07083116 0.06821746\n",
            " 0.06900157 0.06821746 0.06769472 0.06795609 0.06743335 0.06900157\n",
            " 0.07030842 0.07083116 0.06900157 0.06717198 0.06508102 0.06743335\n",
            " 0.06795609 0.06795609 0.07187663 0.07187663 0.06508102 0.06429692\n",
            " 0.06508102 0.05959226 0.05959226 0.05541035 0.04626242 0.05227392\n",
            " 0.06246733 0.07083116 0.07004705 0.06952431 0.07135389 0.07161526\n",
            " 0.07344485 0.07292211 0.07344485 0.07109252 0.07161526 0.07553581\n",
            " 0.07736539 0.07266074 0.06952431 0.07030842 0.0747517  0.07187663\n",
            " 0.07109252 0.07056979 0.07396759 0.06978568 0.07553581 0.07187663\n",
            " 0.07631992 0.07971772 0.07292211 0.07187663 0.07841087 0.084161\n",
            " 0.08494511 0.08793036 0.08873054 0.09396739 0.09999382 0.10256687\n",
            " 0.10721738 0.11172599 0.11762474 0.12043359 0.12394109 0.1282517\n",
            " 0.13401122 0.13600808 0.14123978 0.1486239 ]\n",
            "15 day output [[0.15116307]]\n",
            "16 day input [0.05619446 0.05880815 0.05959226 0.0541035  0.05331939 0.05593309\n",
            " 0.05723994 0.05959226 0.060115   0.05985363 0.05906952 0.05959226\n",
            " 0.05906952 0.06168322 0.06089911 0.06089911 0.06246733 0.06037637\n",
            " 0.05828542 0.05828542 0.06089911 0.06168322 0.06168322 0.06769472\n",
            " 0.07030842 0.07239937 0.07344485 0.07083116 0.06821746 0.06900157\n",
            " 0.06821746 0.06769472 0.06795609 0.06743335 0.06900157 0.07030842\n",
            " 0.07083116 0.06900157 0.06717198 0.06508102 0.06743335 0.06795609\n",
            " 0.06795609 0.07187663 0.07187663 0.06508102 0.06429692 0.06508102\n",
            " 0.05959226 0.05959226 0.05541035 0.04626242 0.05227392 0.06246733\n",
            " 0.07083116 0.07004705 0.06952431 0.07135389 0.07161526 0.07344485\n",
            " 0.07292211 0.07344485 0.07109252 0.07161526 0.07553581 0.07736539\n",
            " 0.07266074 0.06952431 0.07030842 0.0747517  0.07187663 0.07109252\n",
            " 0.07056979 0.07396759 0.06978568 0.07553581 0.07187663 0.07631992\n",
            " 0.07971772 0.07292211 0.07187663 0.07841087 0.084161   0.08494511\n",
            " 0.08793036 0.08873054 0.09396739 0.09999382 0.10256687 0.10721738\n",
            " 0.11172599 0.11762474 0.12043359 0.12394109 0.1282517  0.13401122\n",
            " 0.13600808 0.14123978 0.1486239  0.15116307]\n",
            "16 day output [[0.15931779]]\n",
            "17 day input [0.05880815 0.05959226 0.0541035  0.05331939 0.05593309 0.05723994\n",
            " 0.05959226 0.060115   0.05985363 0.05906952 0.05959226 0.05906952\n",
            " 0.06168322 0.06089911 0.06089911 0.06246733 0.06037637 0.05828542\n",
            " 0.05828542 0.06089911 0.06168322 0.06168322 0.06769472 0.07030842\n",
            " 0.07239937 0.07344485 0.07083116 0.06821746 0.06900157 0.06821746\n",
            " 0.06769472 0.06795609 0.06743335 0.06900157 0.07030842 0.07083116\n",
            " 0.06900157 0.06717198 0.06508102 0.06743335 0.06795609 0.06795609\n",
            " 0.07187663 0.07187663 0.06508102 0.06429692 0.06508102 0.05959226\n",
            " 0.05959226 0.05541035 0.04626242 0.05227392 0.06246733 0.07083116\n",
            " 0.07004705 0.06952431 0.07135389 0.07161526 0.07344485 0.07292211\n",
            " 0.07344485 0.07109252 0.07161526 0.07553581 0.07736539 0.07266074\n",
            " 0.06952431 0.07030842 0.0747517  0.07187663 0.07109252 0.07056979\n",
            " 0.07396759 0.06978568 0.07553581 0.07187663 0.07631992 0.07971772\n",
            " 0.07292211 0.07187663 0.07841087 0.084161   0.08494511 0.08793036\n",
            " 0.08873054 0.09396739 0.09999382 0.10256687 0.10721738 0.11172599\n",
            " 0.11762474 0.12043359 0.12394109 0.1282517  0.13401122 0.13600808\n",
            " 0.14123978 0.1486239  0.15116307 0.15931779]\n",
            "17 day output [[0.16360909]]\n",
            "18 day input [0.05959226 0.0541035  0.05331939 0.05593309 0.05723994 0.05959226\n",
            " 0.060115   0.05985363 0.05906952 0.05959226 0.05906952 0.06168322\n",
            " 0.06089911 0.06089911 0.06246733 0.06037637 0.05828542 0.05828542\n",
            " 0.06089911 0.06168322 0.06168322 0.06769472 0.07030842 0.07239937\n",
            " 0.07344485 0.07083116 0.06821746 0.06900157 0.06821746 0.06769472\n",
            " 0.06795609 0.06743335 0.06900157 0.07030842 0.07083116 0.06900157\n",
            " 0.06717198 0.06508102 0.06743335 0.06795609 0.06795609 0.07187663\n",
            " 0.07187663 0.06508102 0.06429692 0.06508102 0.05959226 0.05959226\n",
            " 0.05541035 0.04626242 0.05227392 0.06246733 0.07083116 0.07004705\n",
            " 0.06952431 0.07135389 0.07161526 0.07344485 0.07292211 0.07344485\n",
            " 0.07109252 0.07161526 0.07553581 0.07736539 0.07266074 0.06952431\n",
            " 0.07030842 0.0747517  0.07187663 0.07109252 0.07056979 0.07396759\n",
            " 0.06978568 0.07553581 0.07187663 0.07631992 0.07971772 0.07292211\n",
            " 0.07187663 0.07841087 0.084161   0.08494511 0.08793036 0.08873054\n",
            " 0.09396739 0.09999382 0.10256687 0.10721738 0.11172599 0.11762474\n",
            " 0.12043359 0.12394109 0.1282517  0.13401122 0.13600808 0.14123978\n",
            " 0.1486239  0.15116307 0.15931779 0.16360909]\n",
            "18 day output [[0.17091358]]\n",
            "19 day input [0.0541035  0.05331939 0.05593309 0.05723994 0.05959226 0.060115\n",
            " 0.05985363 0.05906952 0.05959226 0.05906952 0.06168322 0.06089911\n",
            " 0.06089911 0.06246733 0.06037637 0.05828542 0.05828542 0.06089911\n",
            " 0.06168322 0.06168322 0.06769472 0.07030842 0.07239937 0.07344485\n",
            " 0.07083116 0.06821746 0.06900157 0.06821746 0.06769472 0.06795609\n",
            " 0.06743335 0.06900157 0.07030842 0.07083116 0.06900157 0.06717198\n",
            " 0.06508102 0.06743335 0.06795609 0.06795609 0.07187663 0.07187663\n",
            " 0.06508102 0.06429692 0.06508102 0.05959226 0.05959226 0.05541035\n",
            " 0.04626242 0.05227392 0.06246733 0.07083116 0.07004705 0.06952431\n",
            " 0.07135389 0.07161526 0.07344485 0.07292211 0.07344485 0.07109252\n",
            " 0.07161526 0.07553581 0.07736539 0.07266074 0.06952431 0.07030842\n",
            " 0.0747517  0.07187663 0.07109252 0.07056979 0.07396759 0.06978568\n",
            " 0.07553581 0.07187663 0.07631992 0.07971772 0.07292211 0.07187663\n",
            " 0.07841087 0.084161   0.08494511 0.08793036 0.08873054 0.09396739\n",
            " 0.09999382 0.10256687 0.10721738 0.11172599 0.11762474 0.12043359\n",
            " 0.12394109 0.1282517  0.13401122 0.13600808 0.14123978 0.1486239\n",
            " 0.15116307 0.15931779 0.16360909 0.17091358]\n",
            "19 day output [[0.17598209]]\n",
            "20 day input [0.05331939 0.05593309 0.05723994 0.05959226 0.060115   0.05985363\n",
            " 0.05906952 0.05959226 0.05906952 0.06168322 0.06089911 0.06089911\n",
            " 0.06246733 0.06037637 0.05828542 0.05828542 0.06089911 0.06168322\n",
            " 0.06168322 0.06769472 0.07030842 0.07239937 0.07344485 0.07083116\n",
            " 0.06821746 0.06900157 0.06821746 0.06769472 0.06795609 0.06743335\n",
            " 0.06900157 0.07030842 0.07083116 0.06900157 0.06717198 0.06508102\n",
            " 0.06743335 0.06795609 0.06795609 0.07187663 0.07187663 0.06508102\n",
            " 0.06429692 0.06508102 0.05959226 0.05959226 0.05541035 0.04626242\n",
            " 0.05227392 0.06246733 0.07083116 0.07004705 0.06952431 0.07135389\n",
            " 0.07161526 0.07344485 0.07292211 0.07344485 0.07109252 0.07161526\n",
            " 0.07553581 0.07736539 0.07266074 0.06952431 0.07030842 0.0747517\n",
            " 0.07187663 0.07109252 0.07056979 0.07396759 0.06978568 0.07553581\n",
            " 0.07187663 0.07631992 0.07971772 0.07292211 0.07187663 0.07841087\n",
            " 0.084161   0.08494511 0.08793036 0.08873054 0.09396739 0.09999382\n",
            " 0.10256687 0.10721738 0.11172599 0.11762474 0.12043359 0.12394109\n",
            " 0.1282517  0.13401122 0.13600808 0.14123978 0.1486239  0.15116307\n",
            " 0.15931779 0.16360909 0.17091358 0.17598209]\n",
            "20 day output [[0.18237534]]\n",
            "21 day input [0.05593309 0.05723994 0.05959226 0.060115   0.05985363 0.05906952\n",
            " 0.05959226 0.05906952 0.06168322 0.06089911 0.06089911 0.06246733\n",
            " 0.06037637 0.05828542 0.05828542 0.06089911 0.06168322 0.06168322\n",
            " 0.06769472 0.07030842 0.07239937 0.07344485 0.07083116 0.06821746\n",
            " 0.06900157 0.06821746 0.06769472 0.06795609 0.06743335 0.06900157\n",
            " 0.07030842 0.07083116 0.06900157 0.06717198 0.06508102 0.06743335\n",
            " 0.06795609 0.06795609 0.07187663 0.07187663 0.06508102 0.06429692\n",
            " 0.06508102 0.05959226 0.05959226 0.05541035 0.04626242 0.05227392\n",
            " 0.06246733 0.07083116 0.07004705 0.06952431 0.07135389 0.07161526\n",
            " 0.07344485 0.07292211 0.07344485 0.07109252 0.07161526 0.07553581\n",
            " 0.07736539 0.07266074 0.06952431 0.07030842 0.0747517  0.07187663\n",
            " 0.07109252 0.07056979 0.07396759 0.06978568 0.07553581 0.07187663\n",
            " 0.07631992 0.07971772 0.07292211 0.07187663 0.07841087 0.084161\n",
            " 0.08494511 0.08793036 0.08873054 0.09396739 0.09999382 0.10256687\n",
            " 0.10721738 0.11172599 0.11762474 0.12043359 0.12394109 0.1282517\n",
            " 0.13401122 0.13600808 0.14123978 0.1486239  0.15116307 0.15931779\n",
            " 0.16360909 0.17091358 0.17598209 0.18237534]\n",
            "21 day output [[0.18797833]]\n",
            "22 day input [0.05723994 0.05959226 0.060115   0.05985363 0.05906952 0.05959226\n",
            " 0.05906952 0.06168322 0.06089911 0.06089911 0.06246733 0.06037637\n",
            " 0.05828542 0.05828542 0.06089911 0.06168322 0.06168322 0.06769472\n",
            " 0.07030842 0.07239937 0.07344485 0.07083116 0.06821746 0.06900157\n",
            " 0.06821746 0.06769472 0.06795609 0.06743335 0.06900157 0.07030842\n",
            " 0.07083116 0.06900157 0.06717198 0.06508102 0.06743335 0.06795609\n",
            " 0.06795609 0.07187663 0.07187663 0.06508102 0.06429692 0.06508102\n",
            " 0.05959226 0.05959226 0.05541035 0.04626242 0.05227392 0.06246733\n",
            " 0.07083116 0.07004705 0.06952431 0.07135389 0.07161526 0.07344485\n",
            " 0.07292211 0.07344485 0.07109252 0.07161526 0.07553581 0.07736539\n",
            " 0.07266074 0.06952431 0.07030842 0.0747517  0.07187663 0.07109252\n",
            " 0.07056979 0.07396759 0.06978568 0.07553581 0.07187663 0.07631992\n",
            " 0.07971772 0.07292211 0.07187663 0.07841087 0.084161   0.08494511\n",
            " 0.08793036 0.08873054 0.09396739 0.09999382 0.10256687 0.10721738\n",
            " 0.11172599 0.11762474 0.12043359 0.12394109 0.1282517  0.13401122\n",
            " 0.13600808 0.14123978 0.1486239  0.15116307 0.15931779 0.16360909\n",
            " 0.17091358 0.17598209 0.18237534 0.18797833]\n",
            "22 day output [[0.1933233]]\n",
            "23 day input [0.05959226 0.060115   0.05985363 0.05906952 0.05959226 0.05906952\n",
            " 0.06168322 0.06089911 0.06089911 0.06246733 0.06037637 0.05828542\n",
            " 0.05828542 0.06089911 0.06168322 0.06168322 0.06769472 0.07030842\n",
            " 0.07239937 0.07344485 0.07083116 0.06821746 0.06900157 0.06821746\n",
            " 0.06769472 0.06795609 0.06743335 0.06900157 0.07030842 0.07083116\n",
            " 0.06900157 0.06717198 0.06508102 0.06743335 0.06795609 0.06795609\n",
            " 0.07187663 0.07187663 0.06508102 0.06429692 0.06508102 0.05959226\n",
            " 0.05959226 0.05541035 0.04626242 0.05227392 0.06246733 0.07083116\n",
            " 0.07004705 0.06952431 0.07135389 0.07161526 0.07344485 0.07292211\n",
            " 0.07344485 0.07109252 0.07161526 0.07553581 0.07736539 0.07266074\n",
            " 0.06952431 0.07030842 0.0747517  0.07187663 0.07109252 0.07056979\n",
            " 0.07396759 0.06978568 0.07553581 0.07187663 0.07631992 0.07971772\n",
            " 0.07292211 0.07187663 0.07841087 0.084161   0.08494511 0.08793036\n",
            " 0.08873054 0.09396739 0.09999382 0.10256687 0.10721738 0.11172599\n",
            " 0.11762474 0.12043359 0.12394109 0.1282517  0.13401122 0.13600808\n",
            " 0.14123978 0.1486239  0.15116307 0.15931779 0.16360909 0.17091358\n",
            " 0.17598209 0.18237534 0.18797833 0.1933233 ]\n",
            "23 day output [[0.20075652]]\n",
            "24 day input [0.060115   0.05985363 0.05906952 0.05959226 0.05906952 0.06168322\n",
            " 0.06089911 0.06089911 0.06246733 0.06037637 0.05828542 0.05828542\n",
            " 0.06089911 0.06168322 0.06168322 0.06769472 0.07030842 0.07239937\n",
            " 0.07344485 0.07083116 0.06821746 0.06900157 0.06821746 0.06769472\n",
            " 0.06795609 0.06743335 0.06900157 0.07030842 0.07083116 0.06900157\n",
            " 0.06717198 0.06508102 0.06743335 0.06795609 0.06795609 0.07187663\n",
            " 0.07187663 0.06508102 0.06429692 0.06508102 0.05959226 0.05959226\n",
            " 0.05541035 0.04626242 0.05227392 0.06246733 0.07083116 0.07004705\n",
            " 0.06952431 0.07135389 0.07161526 0.07344485 0.07292211 0.07344485\n",
            " 0.07109252 0.07161526 0.07553581 0.07736539 0.07266074 0.06952431\n",
            " 0.07030842 0.0747517  0.07187663 0.07109252 0.07056979 0.07396759\n",
            " 0.06978568 0.07553581 0.07187663 0.07631992 0.07971772 0.07292211\n",
            " 0.07187663 0.07841087 0.084161   0.08494511 0.08793036 0.08873054\n",
            " 0.09396739 0.09999382 0.10256687 0.10721738 0.11172599 0.11762474\n",
            " 0.12043359 0.12394109 0.1282517  0.13401122 0.13600808 0.14123978\n",
            " 0.1486239  0.15116307 0.15931779 0.16360909 0.17091358 0.17598209\n",
            " 0.18237534 0.18797833 0.1933233  0.20075652]\n",
            "24 day output [[0.20998189]]\n",
            "25 day input [0.05985363 0.05906952 0.05959226 0.05906952 0.06168322 0.06089911\n",
            " 0.06089911 0.06246733 0.06037637 0.05828542 0.05828542 0.06089911\n",
            " 0.06168322 0.06168322 0.06769472 0.07030842 0.07239937 0.07344485\n",
            " 0.07083116 0.06821746 0.06900157 0.06821746 0.06769472 0.06795609\n",
            " 0.06743335 0.06900157 0.07030842 0.07083116 0.06900157 0.06717198\n",
            " 0.06508102 0.06743335 0.06795609 0.06795609 0.07187663 0.07187663\n",
            " 0.06508102 0.06429692 0.06508102 0.05959226 0.05959226 0.05541035\n",
            " 0.04626242 0.05227392 0.06246733 0.07083116 0.07004705 0.06952431\n",
            " 0.07135389 0.07161526 0.07344485 0.07292211 0.07344485 0.07109252\n",
            " 0.07161526 0.07553581 0.07736539 0.07266074 0.06952431 0.07030842\n",
            " 0.0747517  0.07187663 0.07109252 0.07056979 0.07396759 0.06978568\n",
            " 0.07553581 0.07187663 0.07631992 0.07971772 0.07292211 0.07187663\n",
            " 0.07841087 0.084161   0.08494511 0.08793036 0.08873054 0.09396739\n",
            " 0.09999382 0.10256687 0.10721738 0.11172599 0.11762474 0.12043359\n",
            " 0.12394109 0.1282517  0.13401122 0.13600808 0.14123978 0.1486239\n",
            " 0.15116307 0.15931779 0.16360909 0.17091358 0.17598209 0.18237534\n",
            " 0.18797833 0.1933233  0.20075652 0.20998189]\n",
            "25 day output [[0.21721467]]\n",
            "26 day input [0.05906952 0.05959226 0.05906952 0.06168322 0.06089911 0.06089911\n",
            " 0.06246733 0.06037637 0.05828542 0.05828542 0.06089911 0.06168322\n",
            " 0.06168322 0.06769472 0.07030842 0.07239937 0.07344485 0.07083116\n",
            " 0.06821746 0.06900157 0.06821746 0.06769472 0.06795609 0.06743335\n",
            " 0.06900157 0.07030842 0.07083116 0.06900157 0.06717198 0.06508102\n",
            " 0.06743335 0.06795609 0.06795609 0.07187663 0.07187663 0.06508102\n",
            " 0.06429692 0.06508102 0.05959226 0.05959226 0.05541035 0.04626242\n",
            " 0.05227392 0.06246733 0.07083116 0.07004705 0.06952431 0.07135389\n",
            " 0.07161526 0.07344485 0.07292211 0.07344485 0.07109252 0.07161526\n",
            " 0.07553581 0.07736539 0.07266074 0.06952431 0.07030842 0.0747517\n",
            " 0.07187663 0.07109252 0.07056979 0.07396759 0.06978568 0.07553581\n",
            " 0.07187663 0.07631992 0.07971772 0.07292211 0.07187663 0.07841087\n",
            " 0.084161   0.08494511 0.08793036 0.08873054 0.09396739 0.09999382\n",
            " 0.10256687 0.10721738 0.11172599 0.11762474 0.12043359 0.12394109\n",
            " 0.1282517  0.13401122 0.13600808 0.14123978 0.1486239  0.15116307\n",
            " 0.15931779 0.16360909 0.17091358 0.17598209 0.18237534 0.18797833\n",
            " 0.1933233  0.20075652 0.20998189 0.21721467]\n",
            "26 day output [[0.2281484]]\n",
            "27 day input [0.05959226 0.05906952 0.06168322 0.06089911 0.06089911 0.06246733\n",
            " 0.06037637 0.05828542 0.05828542 0.06089911 0.06168322 0.06168322\n",
            " 0.06769472 0.07030842 0.07239937 0.07344485 0.07083116 0.06821746\n",
            " 0.06900157 0.06821746 0.06769472 0.06795609 0.06743335 0.06900157\n",
            " 0.07030842 0.07083116 0.06900157 0.06717198 0.06508102 0.06743335\n",
            " 0.06795609 0.06795609 0.07187663 0.07187663 0.06508102 0.06429692\n",
            " 0.06508102 0.05959226 0.05959226 0.05541035 0.04626242 0.05227392\n",
            " 0.06246733 0.07083116 0.07004705 0.06952431 0.07135389 0.07161526\n",
            " 0.07344485 0.07292211 0.07344485 0.07109252 0.07161526 0.07553581\n",
            " 0.07736539 0.07266074 0.06952431 0.07030842 0.0747517  0.07187663\n",
            " 0.07109252 0.07056979 0.07396759 0.06978568 0.07553581 0.07187663\n",
            " 0.07631992 0.07971772 0.07292211 0.07187663 0.07841087 0.084161\n",
            " 0.08494511 0.08793036 0.08873054 0.09396739 0.09999382 0.10256687\n",
            " 0.10721738 0.11172599 0.11762474 0.12043359 0.12394109 0.1282517\n",
            " 0.13401122 0.13600808 0.14123978 0.1486239  0.15116307 0.15931779\n",
            " 0.16360909 0.17091358 0.17598209 0.18237534 0.18797833 0.1933233\n",
            " 0.20075652 0.20998189 0.21721467 0.2281484 ]\n",
            "27 day output [[0.23744239]]\n",
            "28 day input [0.05906952 0.06168322 0.06089911 0.06089911 0.06246733 0.06037637\n",
            " 0.05828542 0.05828542 0.06089911 0.06168322 0.06168322 0.06769472\n",
            " 0.07030842 0.07239937 0.07344485 0.07083116 0.06821746 0.06900157\n",
            " 0.06821746 0.06769472 0.06795609 0.06743335 0.06900157 0.07030842\n",
            " 0.07083116 0.06900157 0.06717198 0.06508102 0.06743335 0.06795609\n",
            " 0.06795609 0.07187663 0.07187663 0.06508102 0.06429692 0.06508102\n",
            " 0.05959226 0.05959226 0.05541035 0.04626242 0.05227392 0.06246733\n",
            " 0.07083116 0.07004705 0.06952431 0.07135389 0.07161526 0.07344485\n",
            " 0.07292211 0.07344485 0.07109252 0.07161526 0.07553581 0.07736539\n",
            " 0.07266074 0.06952431 0.07030842 0.0747517  0.07187663 0.07109252\n",
            " 0.07056979 0.07396759 0.06978568 0.07553581 0.07187663 0.07631992\n",
            " 0.07971772 0.07292211 0.07187663 0.07841087 0.084161   0.08494511\n",
            " 0.08793036 0.08873054 0.09396739 0.09999382 0.10256687 0.10721738\n",
            " 0.11172599 0.11762474 0.12043359 0.12394109 0.1282517  0.13401122\n",
            " 0.13600808 0.14123978 0.1486239  0.15116307 0.15931779 0.16360909\n",
            " 0.17091358 0.17598209 0.18237534 0.18797833 0.1933233  0.20075652\n",
            " 0.20998189 0.21721467 0.2281484  0.23744239]\n",
            "28 day output [[0.2441534]]\n",
            "29 day input [0.06168322 0.06089911 0.06089911 0.06246733 0.06037637 0.05828542\n",
            " 0.05828542 0.06089911 0.06168322 0.06168322 0.06769472 0.07030842\n",
            " 0.07239937 0.07344485 0.07083116 0.06821746 0.06900157 0.06821746\n",
            " 0.06769472 0.06795609 0.06743335 0.06900157 0.07030842 0.07083116\n",
            " 0.06900157 0.06717198 0.06508102 0.06743335 0.06795609 0.06795609\n",
            " 0.07187663 0.07187663 0.06508102 0.06429692 0.06508102 0.05959226\n",
            " 0.05959226 0.05541035 0.04626242 0.05227392 0.06246733 0.07083116\n",
            " 0.07004705 0.06952431 0.07135389 0.07161526 0.07344485 0.07292211\n",
            " 0.07344485 0.07109252 0.07161526 0.07553581 0.07736539 0.07266074\n",
            " 0.06952431 0.07030842 0.0747517  0.07187663 0.07109252 0.07056979\n",
            " 0.07396759 0.06978568 0.07553581 0.07187663 0.07631992 0.07971772\n",
            " 0.07292211 0.07187663 0.07841087 0.084161   0.08494511 0.08793036\n",
            " 0.08873054 0.09396739 0.09999382 0.10256687 0.10721738 0.11172599\n",
            " 0.11762474 0.12043359 0.12394109 0.1282517  0.13401122 0.13600808\n",
            " 0.14123978 0.1486239  0.15116307 0.15931779 0.16360909 0.17091358\n",
            " 0.17598209 0.18237534 0.18797833 0.1933233  0.20075652 0.20998189\n",
            " 0.21721467 0.2281484  0.23744239 0.2441534 ]\n",
            "29 day output [[0.251658]]\n"
          ]
        }
      ],
      "source": [
        "\n",
        "# 13. Predict the next 30 days\n",
        "x_input = test_data[-100:].reshape(1, -1)\n",
        "x_input.shape\n",
        "\n",
        "temp_input = list(x_input)\n",
        "temp_input = temp_input[0].tolist()\n",
        "\n",
        "from numpy import array\n",
        "\n",
        "lst_output = []\n",
        "n_steps = 100\n",
        "i = 0\n",
        "while i < 30:\n",
        "    if len(temp_input) > 100:\n",
        "        x_input = np.array(temp_input[1:])\n",
        "        print(\"{} day input {}\".format(i, x_input))\n",
        "        x_input = x_input.reshape(1, -1)\n",
        "        x_input = x_input.reshape((1, n_steps, 1))\n",
        "        yhat = model.predict(x_input, verbose=0)\n",
        "        print(\"{} day output {}\".format(i, yhat))\n",
        "        temp_input.extend(yhat[0].tolist())\n",
        "        temp_input = temp_input[1:]\n",
        "        lst_output.extend(yhat.tolist())\n",
        "        i += 1\n",
        "    else:\n",
        "        x_input = x_input.reshape((1, n_steps, 1))\n",
        "        yhat = model.predict(x_input, verbose=0)\n",
        "        print(yhat[0])\n",
        "        temp_input.extend(yhat[0].tolist())\n",
        "        print(len(temp_input))\n",
        "        lst_output.extend(yhat.tolist())\n",
        "        i += 1"
      ]
    },
    {
      "cell_type": "code",
      "execution_count": 20,
      "metadata": {},
      "outputs": [
        {
          "data": {
            "image/png": "[encoded data removed]",
            "text/plain": [
              "<Figure size 640x480 with 1 Axes>"
            ]
          },
          "metadata": {},
          "output_type": "display_data"
        }
      ],
      "source": [
        "\n",
        "# 14.Vẽ hình\n",
        "train_data_index = pd.RangeIndex(start=0, stop=train_size, step=1)\n",
        "plt.plot(scaler.inverse_transform(train_data))\n",
        "test_data_index = pd.RangeIndex(start=train_size, stop=train_size+test_size, step=1)\n",
        "plt.plot(test_data_index,scaler.inverse_transform(test_data))\n",
        "test_data_index = pd.RangeIndex(start=train_size+101, stop=train_size+test_size, step=1)\n",
        "plt.plot(test_data_index,(y_pred))\n",
        "prediect_data_index = pd.RangeIndex(start=len(df1)-1, stop=len(df1)+29, step=1)\n",
        "plt.plot(prediect_data_index,scaler.inverse_transform(lst_output))\n",
        "plt.legend(['Train','Test','Predict','Predict30days'])\n",
        "plt.show()"
      ]
    },
    {
      "cell_type": "code",
      "execution_count": 21,
      "metadata": {},
      "outputs": [
        {
          "data": {
            "image/png": "[encoded data removed]",
            "text/plain": [
              "<Figure size 640x480 with 1 Axes>"
            ]
          },
          "metadata": {},
          "output_type": "display_data"
        }
      ],
      "source": [
        "# 14.Vẽ hình\n",
        "# Dự đoán 30 ngày tiếp theo\n",
        "prediect_data_index = pd.RangeIndex(start=len(df1)-1, stop=len(df1)+29, step=1)\n",
        "plt.plot(prediect_data_index,scaler.inverse_transform(lst_output))\n",
        "plt.legend(['Predict30days'])\n",
        "plt.show()"
      ]
    },
    {
      "cell_type": "code",
      "execution_count": 22,
      "metadata": {},
      "outputs": [
        {
          "name": "stdout",
          "output_type": "stream",
          "text": [
            "[[ 6.64421553]\n",
            " [ 6.67483061]\n",
            " [ 6.87519217]\n",
            " [ 7.10576374]\n",
            " [ 7.20420837]\n",
            " [ 7.38213692]\n",
            " [ 7.55463622]\n",
            " [ 7.78032274]\n",
            " [ 7.8877892 ]\n",
            " [ 8.02198624]\n",
            " [ 8.1869101 ]\n",
            " [ 8.40726943]\n",
            " [ 8.48366929]\n",
            " [ 8.68383388]\n",
            " [ 8.96635036]\n",
            " [ 9.06349911]\n",
            " [ 9.3754987 ]\n",
            " [ 9.53968369]\n",
            " [ 9.81915346]\n",
            " [10.01307468]\n",
            " [10.25768057]\n",
            " [10.4720508 ]\n",
            " [10.67654943]\n",
            " [10.96094446]\n",
            " [11.31390706]\n",
            " [11.59063342]\n",
            " [12.00895781]\n",
            " [12.36454581]\n",
            " [12.6213089 ]\n",
            " [12.9084348 ]]\n"
          ]
        }
      ],
      "source": [
        "print(scaler.inverse_transform(lst_output))"
      ]
    }
  ],
  "metadata": {
    "colab": {
      "provenance": []
    },
    "kernelspec": {
      "display_name": "Python 3.11.0 64-bit",
      "language": "python",
      "name": "python3"
    },
    "language_info": {
      "codemirror_mode": {
        "name": "ipython",
        "version": 3
      },
      "file_extension": ".py",
      "mimetype": "text/x-python",
      "name": "python",
      "nbconvert_exporter": "python",
      "pygments_lexer": "ipython3",
      "version": "3.12.3"
    },
    "vscode": {
      "interpreter": {
        "hash": "228ec1c77332413f421e77c28617d1df6074d6a46921cdaeb15ed9feeb460bfe"
      }
    }
  },
  "nbformat": 4,
  "nbformat_minor": 0
}
