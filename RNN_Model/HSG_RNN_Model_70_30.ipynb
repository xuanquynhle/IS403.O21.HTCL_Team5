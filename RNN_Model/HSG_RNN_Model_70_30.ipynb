{
  "cells": [
    {
      "cell_type": "markdown",
      "metadata": {
        "id": "Ik-XEHDfAHCb"
      },
      "source": [
        "# HOA SEN GROUP \n"
      ]
    },
    {
      "cell_type": "code",
      "execution_count": 1,
      "metadata": {
        "id": "FMDKda-XIUAK"
      },
      "outputs": [],
      "source": [
        "# 1. Import thư viện cần thiết\n",
        "import numpy as np\n",
        "import pandas as pd\n",
        "import matplotlib.pyplot as plt\n",
        "from sklearn.preprocessing import MinMaxScaler\n",
        "from keras.models import Sequential\n",
        "from keras.layers import Dense, SimpleRNN"
      ]
    },
    {
      "cell_type": "code",
      "execution_count": 2,
      "metadata": {
        "id": "me8vU9MoAHCe"
      },
      "outputs": [],
      "source": [
        "# 2. Đọc file csv và gắng index với giá Price\n",
        "df = pd.read_csv('HSG Historical Data.csv')\n",
        "df1=df.reset_index()['Price']"
      ]
    },
    {
      "cell_type": "code",
      "execution_count": 3,
      "metadata": {
        "colab": {
          "base_uri": "https://localhost:8080/",
          "height": 206
        },
        "id": "DF37HodNGwmI",
        "outputId": "e390aa7d-005b-4527-8693-9f3f137eb520"
      },
      "outputs": [
        {
          "name": "stdout",
          "output_type": "stream",
          "text": [
            "<class 'pandas.core.frame.DataFrame'>\n",
            "RangeIndex: 1313 entries, 0 to 1312\n",
            "Data columns (total 7 columns):\n",
            " #   Column    Non-Null Count  Dtype  \n",
            "---  ------    --------------  -----  \n",
            " 0   Date      1313 non-null   object \n",
            " 1   Price     1313 non-null   float64\n",
            " 2   Open      1313 non-null   object \n",
            " 3   High      1313 non-null   object \n",
            " 4   Low       1313 non-null   object \n",
            " 5   Vol.      1313 non-null   object \n",
            " 6   Change %  1313 non-null   object \n",
            "dtypes: float64(1), object(6)\n",
            "memory usage: 71.9+ KB\n"
          ]
        }
      ],
      "source": [
        "df.info()"
      ]
    },
    {
      "cell_type": "code",
      "execution_count": 4,
      "metadata": {
        "colab": {
          "base_uri": "https://localhost:8080/"
        },
        "id": "JFHc2RydGqCH",
        "outputId": "678d27c4-ca4f-4801-f4b8-54dbcc991290"
      },
      "outputs": [
        {
          "data": {
            "text/plain": [
              "0    21800.0\n",
              "1    21550.0\n",
              "2    21850.0\n",
              "3    22050.0\n",
              "4    22000.0\n",
              "Name: Price, dtype: float64"
            ]
          },
          "execution_count": 4,
          "metadata": {},
          "output_type": "execute_result"
        }
      ],
      "source": [
        "df1.head()"
      ]
    },
    {
      "cell_type": "code",
      "execution_count": 5,
      "metadata": {
        "id": "RdVpDho2JgL5"
      },
      "outputs": [],
      "source": [
        "# 3. Scaler data\n",
        "scaler=MinMaxScaler(feature_range=(0,1))\n",
        "df1=scaler.fit_transform(np.array(df1).reshape(-1,1))"
      ]
    },
    {
      "cell_type": "code",
      "execution_count": 6,
      "metadata": {
        "id": "B5JXpenzJoR3"
      },
      "outputs": [],
      "source": [
        "# 4. Chia train test\n",
        "train_size = int(0.7 * len(df1))\n",
        "test_size = int(0.3 * len(df1))\n",
        "\n",
        "train_data = df1[:train_size]\n",
        "test_data = df1[train_size:train_size+test_size]"
      ]
    },
    {
      "cell_type": "code",
      "execution_count": 7,
      "metadata": {
        "id": "yJfmuBORLSfC"
      },
      "outputs": [],
      "source": [
        "# 5. Hàm Create Dataset\n",
        "import numpy\n",
        "# convert an array of values into a dataset matrix\n",
        "def create_dataset(dataset, time_step=1):\n",
        "\tdataX, dataY = [], []\n",
        "\tfor i in range(len(dataset)-time_step-1):\n",
        "\t\ta = dataset[i:(i+time_step), 0]   ###i=0, X=0,1,2,3-----99   Y=100\n",
        "\t\tdataX.append(a)\n",
        "\t\tdataY.append(dataset[i + time_step, 0])\n",
        "\treturn numpy.array(dataX), numpy.array(dataY)"
      ]
    },
    {
      "cell_type": "code",
      "execution_count": 8,
      "metadata": {
        "id": "e81cKq03LXFB"
      },
      "outputs": [],
      "source": [
        "#6. Reshape into X=t,t+1,t+2..t+99 and Y=t+100\n",
        "time_step = 100\n",
        "X_train, y_train = create_dataset(train_data, time_step)\n",
        "X_test, ytest = create_dataset(test_data, time_step)"
      ]
    },
    {
      "cell_type": "code",
      "execution_count": 9,
      "metadata": {
        "id": "RdBVfku7O2qb"
      },
      "outputs": [],
      "source": [
        "## 7. Reshape input to be [samples, time steps, features] which is required for LSTM\n",
        "X_train = X_train.reshape(X_train.shape[0],X_train.shape[1] , 1)\n",
        "X_test = X_test.reshape(X_test.shape[0],X_test.shape[1] , 1)"
      ]
    },
    {
      "cell_type": "code",
      "execution_count": 10,
      "metadata": {
        "id": "sSfxrE7BO9vX"
      },
      "outputs": [
        {
          "name": "stderr",
          "output_type": "stream",
          "text": [
            "c:\\Users\\hangt\\AppData\\Local\\Programs\\Python\\Python312\\Lib\\site-packages\\keras\\src\\layers\\rnn\\rnn.py:204: UserWarning: Do not pass an `input_shape`/`input_dim` argument to a layer. When using Sequential models, prefer using an `Input(shape)` object as the first layer in the model instead.\n",
            "  super().__init__(**kwargs)\n"
          ]
        }
      ],
      "source": [
        "# 8. Define LSTM Model\n",
        "model = Sequential()\n",
        "model.add(SimpleRNN(50, input_shape=(time_step, 1)))\n",
        "model.add(Dense(1))\n",
        "model.compile(loss='mean_squared_error',optimizer='adam')"
      ]
    },
    {
      "cell_type": "code",
      "execution_count": 11,
      "metadata": {
        "colab": {
          "base_uri": "https://localhost:8080/"
        },
        "id": "zgfeujZSPEKr",
        "outputId": "b4e2e288-2102-4cca-f993-105634589bdc"
      },
      "outputs": [
        {
          "name": "stdout",
          "output_type": "stream",
          "text": [
            "Epoch 1/100\n"
          ]
        },
        {
          "name": "stdout",
          "output_type": "stream",
          "text": [
            "\u001b[1m13/13\u001b[0m \u001b[32m━━━━━━━━━━━━━━━━━━━━\u001b[0m\u001b[37m\u001b[0m \u001b[1m6s\u001b[0m 16ms/step - loss: 0.1991\n",
            "Epoch 2/100\n",
            "\u001b[1m13/13\u001b[0m \u001b[32m━━━━━━━━━━━━━━━━━━━━\u001b[0m\u001b[37m\u001b[0m \u001b[1m0s\u001b[0m 17ms/step - loss: 0.0380\n",
            "Epoch 3/100\n",
            "\u001b[1m13/13\u001b[0m \u001b[32m━━━━━━━━━━━━━━━━━━━━\u001b[0m\u001b[37m\u001b[0m \u001b[1m0s\u001b[0m 16ms/step - loss: 0.0129\n",
            "Epoch 4/100\n",
            "\u001b[1m13/13\u001b[0m \u001b[32m━━━━━━━━━━━━━━━━━━━━\u001b[0m\u001b[37m\u001b[0m \u001b[1m0s\u001b[0m 28ms/step - loss: 0.0047\n",
            "Epoch 5/100\n",
            "\u001b[1m13/13\u001b[0m \u001b[32m━━━━━━━━━━━━━━━━━━━━\u001b[0m\u001b[37m\u001b[0m \u001b[1m1s\u001b[0m 45ms/step - loss: 0.0025\n",
            "Epoch 6/100\n",
            "\u001b[1m13/13\u001b[0m \u001b[32m━━━━━━━━━━━━━━━━━━━━\u001b[0m\u001b[37m\u001b[0m \u001b[1m1s\u001b[0m 34ms/step - loss: 0.0024\n",
            "Epoch 7/100\n",
            "\u001b[1m13/13\u001b[0m \u001b[32m━━━━━━━━━━━━━━━━━━━━\u001b[0m\u001b[37m\u001b[0m \u001b[1m1s\u001b[0m 43ms/step - loss: 0.0021\n",
            "Epoch 8/100\n",
            "\u001b[1m13/13\u001b[0m \u001b[32m━━━━━━━━━━━━━━━━━━━━\u001b[0m\u001b[37m\u001b[0m \u001b[1m1s\u001b[0m 37ms/step - loss: 0.0019\n",
            "Epoch 9/100\n",
            "\u001b[1m13/13\u001b[0m \u001b[32m━━━━━━━━━━━━━━━━━━━━\u001b[0m\u001b[37m\u001b[0m \u001b[1m1s\u001b[0m 39ms/step - loss: 0.0019\n",
            "Epoch 10/100\n",
            "\u001b[1m13/13\u001b[0m \u001b[32m━━━━━━━━━━━━━━━━━━━━\u001b[0m\u001b[37m\u001b[0m \u001b[1m1s\u001b[0m 48ms/step - loss: 0.0019\n",
            "Epoch 11/100\n",
            "\u001b[1m13/13\u001b[0m \u001b[32m━━━━━━━━━━━━━━━━━━━━\u001b[0m\u001b[37m\u001b[0m \u001b[1m1s\u001b[0m 34ms/step - loss: 0.0018\n",
            "Epoch 12/100\n",
            "\u001b[1m13/13\u001b[0m \u001b[32m━━━━━━━━━━━━━━━━━━━━\u001b[0m\u001b[37m\u001b[0m \u001b[1m1s\u001b[0m 35ms/step - loss: 0.0020\n",
            "Epoch 13/100\n",
            "\u001b[1m13/13\u001b[0m \u001b[32m━━━━━━━━━━━━━━━━━━━━\u001b[0m\u001b[37m\u001b[0m \u001b[1m1s\u001b[0m 39ms/step - loss: 0.0018\n",
            "Epoch 14/100\n",
            "\u001b[1m13/13\u001b[0m \u001b[32m━━━━━━━━━━━━━━━━━━━━\u001b[0m\u001b[37m\u001b[0m \u001b[1m1s\u001b[0m 41ms/step - loss: 0.0015\n",
            "Epoch 15/100\n",
            "\u001b[1m13/13\u001b[0m \u001b[32m━━━━━━━━━━━━━━━━━━━━\u001b[0m\u001b[37m\u001b[0m \u001b[1m1s\u001b[0m 38ms/step - loss: 0.0016\n",
            "Epoch 16/100\n",
            "\u001b[1m13/13\u001b[0m \u001b[32m━━━━━━━━━━━━━━━━━━━━\u001b[0m\u001b[37m\u001b[0m \u001b[1m1s\u001b[0m 39ms/step - loss: 0.0016\n",
            "Epoch 17/100\n",
            "\u001b[1m13/13\u001b[0m \u001b[32m━━━━━━━━━━━━━━━━━━━━\u001b[0m\u001b[37m\u001b[0m \u001b[1m1s\u001b[0m 61ms/step - loss: 0.0017\n",
            "Epoch 18/100\n",
            "\u001b[1m13/13\u001b[0m \u001b[32m━━━━━━━━━━━━━━━━━━━━\u001b[0m\u001b[37m\u001b[0m \u001b[1m1s\u001b[0m 75ms/step - loss: 0.0016\n",
            "Epoch 19/100\n",
            "\u001b[1m13/13\u001b[0m \u001b[32m━━━━━━━━━━━━━━━━━━━━\u001b[0m\u001b[37m\u001b[0m \u001b[1m1s\u001b[0m 40ms/step - loss: 0.0015\n",
            "Epoch 20/100\n",
            "\u001b[1m13/13\u001b[0m \u001b[32m━━━━━━━━━━━━━━━━━━━━\u001b[0m\u001b[37m\u001b[0m \u001b[1m1s\u001b[0m 44ms/step - loss: 0.0013\n",
            "Epoch 21/100\n",
            "\u001b[1m13/13\u001b[0m \u001b[32m━━━━━━━━━━━━━━━━━━━━\u001b[0m\u001b[37m\u001b[0m \u001b[1m1s\u001b[0m 50ms/step - loss: 0.0015\n",
            "Epoch 22/100\n",
            "\u001b[1m13/13\u001b[0m \u001b[32m━━━━━━━━━━━━━━━━━━━━\u001b[0m\u001b[37m\u001b[0m \u001b[1m1s\u001b[0m 64ms/step - loss: 0.0013\n",
            "Epoch 23/100\n",
            "\u001b[1m13/13\u001b[0m \u001b[32m━━━━━━━━━━━━━━━━━━━━\u001b[0m\u001b[37m\u001b[0m \u001b[1m1s\u001b[0m 45ms/step - loss: 0.0011\n",
            "Epoch 24/100\n",
            "\u001b[1m13/13\u001b[0m \u001b[32m━━━━━━━━━━━━━━━━━━━━\u001b[0m\u001b[37m\u001b[0m \u001b[1m1s\u001b[0m 40ms/step - loss: 0.0013\n",
            "Epoch 25/100\n",
            "\u001b[1m13/13\u001b[0m \u001b[32m━━━━━━━━━━━━━━━━━━━━\u001b[0m\u001b[37m\u001b[0m \u001b[1m1s\u001b[0m 54ms/step - loss: 0.0012\n",
            "Epoch 26/100\n",
            "\u001b[1m13/13\u001b[0m \u001b[32m━━━━━━━━━━━━━━━━━━━━\u001b[0m\u001b[37m\u001b[0m \u001b[1m1s\u001b[0m 30ms/step - loss: 0.0012\n",
            "Epoch 27/100\n",
            "\u001b[1m13/13\u001b[0m \u001b[32m━━━━━━━━━━━━━━━━━━━━\u001b[0m\u001b[37m\u001b[0m \u001b[1m1s\u001b[0m 37ms/step - loss: 0.0013\n",
            "Epoch 28/100\n",
            "\u001b[1m13/13\u001b[0m \u001b[32m━━━━━━━━━━━━━━━━━━━━\u001b[0m\u001b[37m\u001b[0m \u001b[1m1s\u001b[0m 54ms/step - loss: 0.0014\n",
            "Epoch 29/100\n",
            "\u001b[1m13/13\u001b[0m \u001b[32m━━━━━━━━━━━━━━━━━━━━\u001b[0m\u001b[37m\u001b[0m \u001b[1m1s\u001b[0m 49ms/step - loss: 0.0011\n",
            "Epoch 30/100\n",
            "\u001b[1m13/13\u001b[0m \u001b[32m━━━━━━━━━━━━━━━━━━━━\u001b[0m\u001b[37m\u001b[0m \u001b[1m1s\u001b[0m 53ms/step - loss: 0.0014\n",
            "Epoch 31/100\n",
            "\u001b[1m13/13\u001b[0m \u001b[32m━━━━━━━━━━━━━━━━━━━━\u001b[0m\u001b[37m\u001b[0m \u001b[1m1s\u001b[0m 55ms/step - loss: 0.0011\n",
            "Epoch 32/100\n",
            "\u001b[1m13/13\u001b[0m \u001b[32m━━━━━━━━━━━━━━━━━━━━\u001b[0m\u001b[37m\u001b[0m \u001b[1m1s\u001b[0m 50ms/step - loss: 9.9766e-04\n",
            "Epoch 33/100\n",
            "\u001b[1m13/13\u001b[0m \u001b[32m━━━━━━━━━━━━━━━━━━━━\u001b[0m\u001b[37m\u001b[0m \u001b[1m1s\u001b[0m 34ms/step - loss: 9.6171e-04\n",
            "Epoch 34/100\n",
            "\u001b[1m13/13\u001b[0m \u001b[32m━━━━━━━━━━━━━━━━━━━━\u001b[0m\u001b[37m\u001b[0m \u001b[1m1s\u001b[0m 46ms/step - loss: 0.0010\n",
            "Epoch 35/100\n",
            "\u001b[1m13/13\u001b[0m \u001b[32m━━━━━━━━━━━━━━━━━━━━\u001b[0m\u001b[37m\u001b[0m \u001b[1m2s\u001b[0m 55ms/step - loss: 9.7184e-04\n",
            "Epoch 36/100\n",
            "\u001b[1m13/13\u001b[0m \u001b[32m━━━━━━━━━━━━━━━━━━━━\u001b[0m\u001b[37m\u001b[0m \u001b[1m1s\u001b[0m 33ms/step - loss: 0.0010\n",
            "Epoch 37/100\n",
            "\u001b[1m13/13\u001b[0m \u001b[32m━━━━━━━━━━━━━━━━━━━━\u001b[0m\u001b[37m\u001b[0m \u001b[1m1s\u001b[0m 47ms/step - loss: 0.0010\n",
            "Epoch 38/100\n",
            "\u001b[1m13/13\u001b[0m \u001b[32m━━━━━━━━━━━━━━━━━━━━\u001b[0m\u001b[37m\u001b[0m \u001b[1m2s\u001b[0m 53ms/step - loss: 9.8830e-04\n",
            "Epoch 39/100\n",
            "\u001b[1m13/13\u001b[0m \u001b[32m━━━━━━━━━━━━━━━━━━━━\u001b[0m\u001b[37m\u001b[0m \u001b[1m1s\u001b[0m 49ms/step - loss: 9.7682e-04\n",
            "Epoch 40/100\n",
            "\u001b[1m13/13\u001b[0m \u001b[32m━━━━━━━━━━━━━━━━━━━━\u001b[0m\u001b[37m\u001b[0m \u001b[1m1s\u001b[0m 55ms/step - loss: 9.8013e-04\n",
            "Epoch 41/100\n",
            "\u001b[1m13/13\u001b[0m \u001b[32m━━━━━━━━━━━━━━━━━━━━\u001b[0m\u001b[37m\u001b[0m \u001b[1m2s\u001b[0m 54ms/step - loss: 0.0010\n",
            "Epoch 42/100\n",
            "\u001b[1m13/13\u001b[0m \u001b[32m━━━━━━━━━━━━━━━━━━━━\u001b[0m\u001b[37m\u001b[0m \u001b[1m1s\u001b[0m 56ms/step - loss: 8.5205e-04\n",
            "Epoch 43/100\n",
            "\u001b[1m13/13\u001b[0m \u001b[32m━━━━━━━━━━━━━━━━━━━━\u001b[0m\u001b[37m\u001b[0m \u001b[1m2s\u001b[0m 75ms/step - loss: 0.0010\n",
            "Epoch 44/100\n",
            "\u001b[1m13/13\u001b[0m \u001b[32m━━━━━━━━━━━━━━━━━━━━\u001b[0m\u001b[37m\u001b[0m \u001b[1m1s\u001b[0m 41ms/step - loss: 8.5501e-04\n",
            "Epoch 45/100\n",
            "\u001b[1m13/13\u001b[0m \u001b[32m━━━━━━━━━━━━━━━━━━━━\u001b[0m\u001b[37m\u001b[0m \u001b[1m1s\u001b[0m 47ms/step - loss: 9.5719e-04\n",
            "Epoch 46/100\n",
            "\u001b[1m13/13\u001b[0m \u001b[32m━━━━━━━━━━━━━━━━━━━━\u001b[0m\u001b[37m\u001b[0m \u001b[1m1s\u001b[0m 60ms/step - loss: 8.9208e-04\n",
            "Epoch 47/100\n",
            "\u001b[1m13/13\u001b[0m \u001b[32m━━━━━━━━━━━━━━━━━━━━\u001b[0m\u001b[37m\u001b[0m \u001b[1m1s\u001b[0m 43ms/step - loss: 9.0027e-04\n",
            "Epoch 48/100\n",
            "\u001b[1m13/13\u001b[0m \u001b[32m━━━━━━━━━━━━━━━━━━━━\u001b[0m\u001b[37m\u001b[0m \u001b[1m1s\u001b[0m 40ms/step - loss: 9.0143e-04\n",
            "Epoch 49/100\n",
            "\u001b[1m13/13\u001b[0m \u001b[32m━━━━━━━━━━━━━━━━━━━━\u001b[0m\u001b[37m\u001b[0m \u001b[1m1s\u001b[0m 34ms/step - loss: 8.3949e-04\n",
            "Epoch 50/100\n",
            "\u001b[1m13/13\u001b[0m \u001b[32m━━━━━━━━━━━━━━━━━━━━\u001b[0m\u001b[37m\u001b[0m \u001b[1m1s\u001b[0m 39ms/step - loss: 7.9225e-04\n",
            "Epoch 51/100\n",
            "\u001b[1m13/13\u001b[0m \u001b[32m━━━━━━━━━━━━━━━━━━━━\u001b[0m\u001b[37m\u001b[0m \u001b[1m1s\u001b[0m 46ms/step - loss: 8.8535e-04\n",
            "Epoch 52/100\n",
            "\u001b[1m13/13\u001b[0m \u001b[32m━━━━━━━━━━━━━━━━━━━━\u001b[0m\u001b[37m\u001b[0m \u001b[1m1s\u001b[0m 48ms/step - loss: 9.1977e-04\n",
            "Epoch 53/100\n",
            "\u001b[1m13/13\u001b[0m \u001b[32m━━━━━━━━━━━━━━━━━━━━\u001b[0m\u001b[37m\u001b[0m \u001b[1m1s\u001b[0m 39ms/step - loss: 0.0010\n",
            "Epoch 54/100\n",
            "\u001b[1m13/13\u001b[0m \u001b[32m━━━━━━━━━━━━━━━━━━━━\u001b[0m\u001b[37m\u001b[0m \u001b[1m1s\u001b[0m 43ms/step - loss: 9.5573e-04\n",
            "Epoch 55/100\n",
            "\u001b[1m13/13\u001b[0m \u001b[32m━━━━━━━━━━━━━━━━━━━━\u001b[0m\u001b[37m\u001b[0m \u001b[1m1s\u001b[0m 47ms/step - loss: 9.0045e-04\n",
            "Epoch 56/100\n",
            "\u001b[1m13/13\u001b[0m \u001b[32m━━━━━━━━━━━━━━━━━━━━\u001b[0m\u001b[37m\u001b[0m \u001b[1m1s\u001b[0m 62ms/step - loss: 9.0580e-04\n",
            "Epoch 57/100\n",
            "\u001b[1m13/13\u001b[0m \u001b[32m━━━━━━━━━━━━━━━━━━━━\u001b[0m\u001b[37m\u001b[0m \u001b[1m1s\u001b[0m 34ms/step - loss: 8.4955e-04\n",
            "Epoch 58/100\n",
            "\u001b[1m13/13\u001b[0m \u001b[32m━━━━━━━━━━━━━━━━━━━━\u001b[0m\u001b[37m\u001b[0m \u001b[1m1s\u001b[0m 46ms/step - loss: 8.3691e-04\n",
            "Epoch 59/100\n",
            "\u001b[1m13/13\u001b[0m \u001b[32m━━━━━━━━━━━━━━━━━━━━\u001b[0m\u001b[37m\u001b[0m \u001b[1m1s\u001b[0m 46ms/step - loss: 7.5014e-04\n",
            "Epoch 60/100\n",
            "\u001b[1m13/13\u001b[0m \u001b[32m━━━━━━━━━━━━━━━━━━━━\u001b[0m\u001b[37m\u001b[0m \u001b[1m1s\u001b[0m 55ms/step - loss: 6.8763e-04\n",
            "Epoch 61/100\n",
            "\u001b[1m13/13\u001b[0m \u001b[32m━━━━━━━━━━━━━━━━━━━━\u001b[0m\u001b[37m\u001b[0m \u001b[1m1s\u001b[0m 49ms/step - loss: 6.9341e-04\n",
            "Epoch 62/100\n",
            "\u001b[1m13/13\u001b[0m \u001b[32m━━━━━━━━━━━━━━━━━━━━\u001b[0m\u001b[37m\u001b[0m \u001b[1m1s\u001b[0m 72ms/step - loss: 6.9116e-04\n",
            "Epoch 63/100\n",
            "\u001b[1m13/13\u001b[0m \u001b[32m━━━━━━━━━━━━━━━━━━━━\u001b[0m\u001b[37m\u001b[0m \u001b[1m1s\u001b[0m 46ms/step - loss: 8.1683e-04\n",
            "Epoch 64/100\n",
            "\u001b[1m13/13\u001b[0m \u001b[32m━━━━━━━━━━━━━━━━━━━━\u001b[0m\u001b[37m\u001b[0m \u001b[1m1s\u001b[0m 49ms/step - loss: 7.2951e-04\n",
            "Epoch 65/100\n",
            "\u001b[1m13/13\u001b[0m \u001b[32m━━━━━━━━━━━━━━━━━━━━\u001b[0m\u001b[37m\u001b[0m \u001b[1m1s\u001b[0m 50ms/step - loss: 7.3404e-04\n",
            "Epoch 66/100\n",
            "\u001b[1m13/13\u001b[0m \u001b[32m━━━━━━━━━━━━━━━━━━━━\u001b[0m\u001b[37m\u001b[0m \u001b[1m1s\u001b[0m 60ms/step - loss: 7.7013e-04\n",
            "Epoch 67/100\n",
            "\u001b[1m13/13\u001b[0m \u001b[32m━━━━━━━━━━━━━━━━━━━━\u001b[0m\u001b[37m\u001b[0m \u001b[1m1s\u001b[0m 46ms/step - loss: 7.4232e-04\n",
            "Epoch 68/100\n",
            "\u001b[1m13/13\u001b[0m \u001b[32m━━━━━━━━━━━━━━━━━━━━\u001b[0m\u001b[37m\u001b[0m \u001b[1m1s\u001b[0m 45ms/step - loss: 8.1473e-04\n",
            "Epoch 69/100\n",
            "\u001b[1m13/13\u001b[0m \u001b[32m━━━━━━━━━━━━━━━━━━━━\u001b[0m\u001b[37m\u001b[0m \u001b[1m1s\u001b[0m 38ms/step - loss: 8.1745e-04\n",
            "Epoch 70/100\n",
            "\u001b[1m13/13\u001b[0m \u001b[32m━━━━━━━━━━━━━━━━━━━━\u001b[0m\u001b[37m\u001b[0m \u001b[1m1s\u001b[0m 37ms/step - loss: 7.3179e-04\n",
            "Epoch 71/100\n",
            "\u001b[1m13/13\u001b[0m \u001b[32m━━━━━━━━━━━━━━━━━━━━\u001b[0m\u001b[37m\u001b[0m \u001b[1m1s\u001b[0m 41ms/step - loss: 7.4640e-04\n",
            "Epoch 72/100\n",
            "\u001b[1m13/13\u001b[0m \u001b[32m━━━━━━━━━━━━━━━━━━━━\u001b[0m\u001b[37m\u001b[0m \u001b[1m1s\u001b[0m 41ms/step - loss: 7.3147e-04\n",
            "Epoch 73/100\n",
            "\u001b[1m13/13\u001b[0m \u001b[32m━━━━━━━━━━━━━━━━━━━━\u001b[0m\u001b[37m\u001b[0m \u001b[1m1s\u001b[0m 57ms/step - loss: 7.9513e-04\n",
            "Epoch 74/100\n",
            "\u001b[1m13/13\u001b[0m \u001b[32m━━━━━━━━━━━━━━━━━━━━\u001b[0m\u001b[37m\u001b[0m \u001b[1m1s\u001b[0m 42ms/step - loss: 7.1784e-04\n",
            "Epoch 75/100\n",
            "\u001b[1m13/13\u001b[0m \u001b[32m━━━━━━━━━━━━━━━━━━━━\u001b[0m\u001b[37m\u001b[0m \u001b[1m1s\u001b[0m 57ms/step - loss: 6.9080e-04\n",
            "Epoch 76/100\n",
            "\u001b[1m13/13\u001b[0m \u001b[32m━━━━━━━━━━━━━━━━━━━━\u001b[0m\u001b[37m\u001b[0m \u001b[1m1s\u001b[0m 44ms/step - loss: 7.4596e-04\n",
            "Epoch 77/100\n",
            "\u001b[1m13/13\u001b[0m \u001b[32m━━━━━━━━━━━━━━━━━━━━\u001b[0m\u001b[37m\u001b[0m \u001b[1m1s\u001b[0m 51ms/step - loss: 6.6770e-04\n",
            "Epoch 78/100\n",
            "\u001b[1m13/13\u001b[0m \u001b[32m━━━━━━━━━━━━━━━━━━━━\u001b[0m\u001b[37m\u001b[0m \u001b[1m1s\u001b[0m 38ms/step - loss: 7.2992e-04\n",
            "Epoch 79/100\n",
            "\u001b[1m13/13\u001b[0m \u001b[32m━━━━━━━━━━━━━━━━━━━━\u001b[0m\u001b[37m\u001b[0m \u001b[1m2s\u001b[0m 49ms/step - loss: 5.8400e-04\n",
            "Epoch 80/100\n",
            "\u001b[1m13/13\u001b[0m \u001b[32m━━━━━━━━━━━━━━━━━━━━\u001b[0m\u001b[37m\u001b[0m \u001b[1m1s\u001b[0m 47ms/step - loss: 7.0406e-04\n",
            "Epoch 81/100\n",
            "\u001b[1m13/13\u001b[0m \u001b[32m━━━━━━━━━━━━━━━━━━━━\u001b[0m\u001b[37m\u001b[0m \u001b[1m1s\u001b[0m 44ms/step - loss: 7.8034e-04\n",
            "Epoch 82/100\n",
            "\u001b[1m13/13\u001b[0m \u001b[32m━━━━━━━━━━━━━━━━━━━━\u001b[0m\u001b[37m\u001b[0m \u001b[1m1s\u001b[0m 59ms/step - loss: 7.3327e-04\n",
            "Epoch 83/100\n",
            "\u001b[1m13/13\u001b[0m \u001b[32m━━━━━━━━━━━━━━━━━━━━\u001b[0m\u001b[37m\u001b[0m \u001b[1m1s\u001b[0m 29ms/step - loss: 7.1458e-04\n",
            "Epoch 84/100\n",
            "\u001b[1m13/13\u001b[0m \u001b[32m━━━━━━━━━━━━━━━━━━━━\u001b[0m\u001b[37m\u001b[0m \u001b[1m0s\u001b[0m 26ms/step - loss: 7.2029e-04\n",
            "Epoch 85/100\n",
            "\u001b[1m13/13\u001b[0m \u001b[32m━━━━━━━━━━━━━━━━━━━━\u001b[0m\u001b[37m\u001b[0m \u001b[1m0s\u001b[0m 20ms/step - loss: 7.0344e-04\n",
            "Epoch 86/100\n",
            "\u001b[1m13/13\u001b[0m \u001b[32m━━━━━━━━━━━━━━━━━━━━\u001b[0m\u001b[37m\u001b[0m \u001b[1m0s\u001b[0m 19ms/step - loss: 7.4205e-04\n",
            "Epoch 87/100\n",
            "\u001b[1m13/13\u001b[0m \u001b[32m━━━━━━━━━━━━━━━━━━━━\u001b[0m\u001b[37m\u001b[0m \u001b[1m1s\u001b[0m 34ms/step - loss: 9.7654e-04\n",
            "Epoch 88/100\n",
            "\u001b[1m13/13\u001b[0m \u001b[32m━━━━━━━━━━━━━━━━━━━━\u001b[0m\u001b[37m\u001b[0m \u001b[1m1s\u001b[0m 66ms/step - loss: 6.5908e-04\n",
            "Epoch 89/100\n",
            "\u001b[1m13/13\u001b[0m \u001b[32m━━━━━━━━━━━━━━━━━━━━\u001b[0m\u001b[37m\u001b[0m \u001b[1m1s\u001b[0m 51ms/step - loss: 7.7303e-04\n",
            "Epoch 90/100\n",
            "\u001b[1m13/13\u001b[0m \u001b[32m━━━━━━━━━━━━━━━━━━━━\u001b[0m\u001b[37m\u001b[0m \u001b[1m2s\u001b[0m 58ms/step - loss: 5.7862e-04\n",
            "Epoch 91/100\n",
            "\u001b[1m13/13\u001b[0m \u001b[32m━━━━━━━━━━━━━━━━━━━━\u001b[0m\u001b[37m\u001b[0m \u001b[1m1s\u001b[0m 37ms/step - loss: 6.6587e-04\n",
            "Epoch 92/100\n",
            "\u001b[1m13/13\u001b[0m \u001b[32m━━━━━━━━━━━━━━━━━━━━\u001b[0m\u001b[37m\u001b[0m \u001b[1m2s\u001b[0m 55ms/step - loss: 7.0459e-04\n",
            "Epoch 93/100\n",
            "\u001b[1m13/13\u001b[0m \u001b[32m━━━━━━━━━━━━━━━━━━━━\u001b[0m\u001b[37m\u001b[0m \u001b[1m1s\u001b[0m 41ms/step - loss: 7.9838e-04\n",
            "Epoch 94/100\n",
            "\u001b[1m13/13\u001b[0m \u001b[32m━━━━━━━━━━━━━━━━━━━━\u001b[0m\u001b[37m\u001b[0m \u001b[1m1s\u001b[0m 50ms/step - loss: 7.2462e-04\n",
            "Epoch 95/100\n",
            "\u001b[1m13/13\u001b[0m \u001b[32m━━━━━━━━━━━━━━━━━━━━\u001b[0m\u001b[37m\u001b[0m \u001b[1m1s\u001b[0m 35ms/step - loss: 6.0547e-04\n",
            "Epoch 96/100\n",
            "\u001b[1m13/13\u001b[0m \u001b[32m━━━━━━━━━━━━━━━━━━━━\u001b[0m\u001b[37m\u001b[0m \u001b[1m1s\u001b[0m 50ms/step - loss: 5.8579e-04\n",
            "Epoch 97/100\n",
            "\u001b[1m13/13\u001b[0m \u001b[32m━━━━━━━━━━━━━━━━━━━━\u001b[0m\u001b[37m\u001b[0m \u001b[1m1s\u001b[0m 74ms/step - loss: 7.3470e-04\n",
            "Epoch 98/100\n",
            "\u001b[1m13/13\u001b[0m \u001b[32m━━━━━━━━━━━━━━━━━━━━\u001b[0m\u001b[37m\u001b[0m \u001b[1m1s\u001b[0m 45ms/step - loss: 6.3094e-04\n",
            "Epoch 99/100\n",
            "\u001b[1m13/13\u001b[0m \u001b[32m━━━━━━━━━━━━━━━━━━━━\u001b[0m\u001b[37m\u001b[0m \u001b[1m1s\u001b[0m 40ms/step - loss: 5.8022e-04\n",
            "Epoch 100/100\n",
            "\u001b[1m13/13\u001b[0m \u001b[32m━━━━━━━━━━━━━━━━━━━━\u001b[0m\u001b[37m\u001b[0m \u001b[1m1s\u001b[0m 43ms/step - loss: 5.9803e-04\n"
          ]
        },
        {
          "data": {
            "text/plain": [
              "<keras.src.callbacks.history.History at 0x22135d3d340>"
            ]
          },
          "execution_count": 11,
          "metadata": {},
          "output_type": "execute_result"
        }
      ],
      "source": [
        "# 9. Fit mô hình với dữ liệu train\n",
        "model.fit(X_train,y_train,epochs=100,batch_size=64,verbose=1)"
      ]
    },
    {
      "cell_type": "code",
      "execution_count": 12,
      "metadata": {
        "colab": {
          "base_uri": "https://localhost:8080/"
        },
        "id": "Rxx_KQSkQpBG",
        "outputId": "833f6791-4388-46f4-e4cb-0a712fe2c6a9"
      },
      "outputs": [
        {
          "name": "stdout",
          "output_type": "stream",
          "text": [
            "\u001b[1m26/26\u001b[0m \u001b[32m━━━━━━━━━━━━━━━━━━━━\u001b[0m\u001b[37m\u001b[0m \u001b[1m4s\u001b[0m 68ms/step\n",
            "\u001b[1m10/10\u001b[0m \u001b[32m━━━━━━━━━━━━━━━━━━━━\u001b[0m\u001b[37m\u001b[0m \u001b[1m0s\u001b[0m 10ms/step\n"
          ]
        }
      ],
      "source": [
        "# 10. Dự báo dữ liệu test, val\n",
        "train_predict=model.predict(X_train)\n",
        "y_pred=model.predict(X_test)"
      ]
    },
    {
      "cell_type": "code",
      "execution_count": 13,
      "metadata": {
        "id": "5rwTN10LQ7rj"
      },
      "outputs": [],
      "source": [
        "# 11. Chuẩn hóa dữ liệu y_pred, y_pred_val\n",
        "train_predict=scaler.inverse_transform(train_predict)\n",
        "y_pred=scaler.inverse_transform(y_pred)"
      ]
    },
    {
      "cell_type": "code",
      "execution_count": 14,
      "metadata": {
        "id": "r3PeRHARAHCh"
      },
      "outputs": [],
      "source": [
        "ytest = scaler.inverse_transform(ytest.reshape(-1,1))"
      ]
    },
    {
      "cell_type": "code",
      "execution_count": 15,
      "metadata": {
        "colab": {
          "base_uri": "https://localhost:8080/"
        },
        "id": "wu_9j94kRonD",
        "outputId": "2ac60ff6-2715-4fe0-ae6e-8a938d49e7ce"
      },
      "outputs": [
        {
          "name": "stdout",
          "output_type": "stream",
          "text": [
            "Testing RMSE: 452.38154701588826\n"
          ]
        }
      ],
      "source": [
        "# 12. Đánh giá độ chính xác thuật toán bằng RMSE\n",
        "test_rmse = np.sqrt(np.mean((y_pred - ytest)**2))\n",
        "print('Testing RMSE:', test_rmse)"
      ]
    },
    {
      "cell_type": "code",
      "execution_count": 16,
      "metadata": {
        "colab": {
          "base_uri": "https://localhost:8080/"
        },
        "id": "-Tind_8TAHCh",
        "outputId": "7bff1981-c5d1-4f86-b9bf-d1e383b40700"
      },
      "outputs": [
        {
          "name": "stdout",
          "output_type": "stream",
          "text": [
            "Testing MAE: 417.3236172610766\n"
          ]
        }
      ],
      "source": [
        "# Đánh giá độ chính xác thuật toán bằng MAE\n",
        "test_mae = np.mean(abs(y_pred - ytest))\n",
        "print('Testing MAE:', test_mae)"
      ]
    },
    {
      "cell_type": "code",
      "execution_count": 17,
      "metadata": {
        "colab": {
          "base_uri": "https://localhost:8080/"
        },
        "id": "gDFbKEkMAHCi",
        "outputId": "6ccc2bc7-35c0-4624-caca-8de8c0830fa8"
      },
      "outputs": [
        {
          "name": "stdout",
          "output_type": "stream",
          "text": [
            "Testing MAPE: 0.07261272036175602\n"
          ]
        }
      ],
      "source": [
        "# Đánh giá độ chính xác thuật toán bằng MAPE\n",
        "test_mape = np.mean(np.abs(y_pred - ytest)/np.abs(y_pred))\n",
        "print('Testing MAPE:', test_mape)"
      ]
    },
    {
      "cell_type": "code",
      "execution_count": 18,
      "metadata": {
        "colab": {
          "base_uri": "https://localhost:8080/",
          "height": 430
        },
        "id": "0xzNLNCPAHCi",
        "outputId": "d11deaf3-f2b7-42c9-e2c0-ba1122479997"
      },
      "outputs": [
        {
          "data": {
            "image/png": "[encoded data removed]",
            "text/plain": [
              "<Figure size 640x480 with 1 Axes>"
            ]
          },
          "metadata": {},
          "output_type": "display_data"
        }
      ],
      "source": [
        "# 14.Vẽ hình\n",
        "# Train\n",
        "train_data_index = pd.RangeIndex(start=0, stop=train_size, step=1)\n",
        "plt.plot(scaler.inverse_transform(train_data))\n",
        "# Test\n",
        "test_data_index = pd.RangeIndex(start=train_size, stop=train_size+test_size, step=1)\n",
        "plt.plot(test_data_index,scaler.inverse_transform(test_data))\n",
        "# Dự đoán trên tập test\n",
        "test_data_index = pd.RangeIndex(start=train_size+101, stop=train_size+test_size, step=1)\n",
        "plt.plot(test_data_index,(y_pred))\n",
        "plt.legend(['Train','Test','Predict'])\n",
        "plt.show()"
      ]
    },
    {
      "cell_type": "markdown",
      "metadata": {},
      "source": [
        "# Dự đoán 30 ngày tiếp theo"
      ]
    },
    {
      "cell_type": "code",
      "execution_count": 19,
      "metadata": {},
      "outputs": [
        {
          "name": "stdout",
          "output_type": "stream",
          "text": [
            "[0.09151989]\n",
            "101\n",
            "1 day input [0.05544331 0.05563411 0.05563411 0.05846221 0.05789503 0.05770683\n",
            " 0.05808322 0.05525512 0.05186244 0.05035168 0.05261521 0.05487873\n",
            " 0.05525512 0.05676326 0.05563411 0.0560105  0.0588386  0.05940579\n",
            " 0.05412335 0.0531824  0.05582231 0.05714226 0.05940579 0.05997036\n",
            " 0.05978217 0.05902679 0.05940579 0.05902679 0.0616667  0.06072574\n",
            " 0.06091393 0.06242208 0.06034674 0.05827402 0.05827402 0.06072574\n",
            " 0.0616667  0.06147851 0.0675137  0.07015361 0.07241714 0.07336071\n",
            " 0.0707208  0.06807828 0.06902185 0.06807828 0.06770189 0.06789009\n",
            " 0.06732551 0.06902185 0.07015361 0.0707208  0.06902185 0.06713732\n",
            " 0.06506199 0.06732551 0.06789009 0.06789009 0.07184995 0.07166176\n",
            " 0.06506199 0.06430661 0.06487379 0.05940579 0.05940579 0.0552891\n",
            " 0.04620363 0.05220485 0.06249003 0.0707208  0.07003338 0.06951846\n",
            " 0.0712331  0.07157812 0.07329014 0.07294773 0.07346265 0.07089069\n",
            " 0.07140561 0.07534979 0.07723432 0.07260533 0.06951846 0.07020589\n",
            " 0.07466237 0.07192052 0.0710632  0.07037578 0.07397756 0.06969097\n",
            " 0.07534979 0.07192052 0.07620449 0.07963376 0.07277784 0.07192052\n",
            " 0.07826414 0.08409285 0.08477766 0.09151989]\n",
            "1 day output [[0.09681171]]\n",
            "2 day input [0.05563411 0.05563411 0.05846221 0.05789503 0.05770683 0.05808322\n",
            " 0.05525512 0.05186244 0.05035168 0.05261521 0.05487873 0.05525512\n",
            " 0.05676326 0.05563411 0.0560105  0.0588386  0.05940579 0.05412335\n",
            " 0.0531824  0.05582231 0.05714226 0.05940579 0.05997036 0.05978217\n",
            " 0.05902679 0.05940579 0.05902679 0.0616667  0.06072574 0.06091393\n",
            " 0.06242208 0.06034674 0.05827402 0.05827402 0.06072574 0.0616667\n",
            " 0.06147851 0.0675137  0.07015361 0.07241714 0.07336071 0.0707208\n",
            " 0.06807828 0.06902185 0.06807828 0.06770189 0.06789009 0.06732551\n",
            " 0.06902185 0.07015361 0.0707208  0.06902185 0.06713732 0.06506199\n",
            " 0.06732551 0.06789009 0.06789009 0.07184995 0.07166176 0.06506199\n",
            " 0.06430661 0.06487379 0.05940579 0.05940579 0.0552891  0.04620363\n",
            " 0.05220485 0.06249003 0.0707208  0.07003338 0.06951846 0.0712331\n",
            " 0.07157812 0.07329014 0.07294773 0.07346265 0.07089069 0.07140561\n",
            " 0.07534979 0.07723432 0.07260533 0.06951846 0.07020589 0.07466237\n",
            " 0.07192052 0.0710632  0.07037578 0.07397756 0.06969097 0.07534979\n",
            " 0.07192052 0.07620449 0.07963376 0.07277784 0.07192052 0.07826414\n",
            " 0.08409285 0.08477766 0.09151989 0.09681171]\n",
            "2 day output [[0.1011325]]\n",
            "3 day input [0.05563411 0.05846221 0.05789503 0.05770683 0.05808322 0.05525512\n",
            " 0.05186244 0.05035168 0.05261521 0.05487873 0.05525512 0.05676326\n",
            " 0.05563411 0.0560105  0.0588386  0.05940579 0.05412335 0.0531824\n",
            " 0.05582231 0.05714226 0.05940579 0.05997036 0.05978217 0.05902679\n",
            " 0.05940579 0.05902679 0.0616667  0.06072574 0.06091393 0.06242208\n",
            " 0.06034674 0.05827402 0.05827402 0.06072574 0.0616667  0.06147851\n",
            " 0.0675137  0.07015361 0.07241714 0.07336071 0.0707208  0.06807828\n",
            " 0.06902185 0.06807828 0.06770189 0.06789009 0.06732551 0.06902185\n",
            " 0.07015361 0.0707208  0.06902185 0.06713732 0.06506199 0.06732551\n",
            " 0.06789009 0.06789009 0.07184995 0.07166176 0.06506199 0.06430661\n",
            " 0.06487379 0.05940579 0.05940579 0.0552891  0.04620363 0.05220485\n",
            " 0.06249003 0.0707208  0.07003338 0.06951846 0.0712331  0.07157812\n",
            " 0.07329014 0.07294773 0.07346265 0.07089069 0.07140561 0.07534979\n",
            " 0.07723432 0.07260533 0.06951846 0.07020589 0.07466237 0.07192052\n",
            " 0.0710632  0.07037578 0.07397756 0.06969097 0.07534979 0.07192052\n",
            " 0.07620449 0.07963376 0.07277784 0.07192052 0.07826414 0.08409285\n",
            " 0.08477766 0.09151989 0.09681171 0.1011325 ]\n",
            "3 day output [[0.10717627]]\n",
            "4 day input [0.05846221 0.05789503 0.05770683 0.05808322 0.05525512 0.05186244\n",
            " 0.05035168 0.05261521 0.05487873 0.05525512 0.05676326 0.05563411\n",
            " 0.0560105  0.0588386  0.05940579 0.05412335 0.0531824  0.05582231\n",
            " 0.05714226 0.05940579 0.05997036 0.05978217 0.05902679 0.05940579\n",
            " 0.05902679 0.0616667  0.06072574 0.06091393 0.06242208 0.06034674\n",
            " 0.05827402 0.05827402 0.06072574 0.0616667  0.06147851 0.0675137\n",
            " 0.07015361 0.07241714 0.07336071 0.0707208  0.06807828 0.06902185\n",
            " 0.06807828 0.06770189 0.06789009 0.06732551 0.06902185 0.07015361\n",
            " 0.0707208  0.06902185 0.06713732 0.06506199 0.06732551 0.06789009\n",
            " 0.06789009 0.07184995 0.07166176 0.06506199 0.06430661 0.06487379\n",
            " 0.05940579 0.05940579 0.0552891  0.04620363 0.05220485 0.06249003\n",
            " 0.0707208  0.07003338 0.06951846 0.0712331  0.07157812 0.07329014\n",
            " 0.07294773 0.07346265 0.07089069 0.07140561 0.07534979 0.07723432\n",
            " 0.07260533 0.06951846 0.07020589 0.07466237 0.07192052 0.0710632\n",
            " 0.07037578 0.07397756 0.06969097 0.07534979 0.07192052 0.07620449\n",
            " 0.07963376 0.07277784 0.07192052 0.07826414 0.08409285 0.08477766\n",
            " 0.09151989 0.09681171 0.1011325  0.10717627]\n",
            "4 day output [[0.11128682]]\n",
            "5 day input [0.05789503 0.05770683 0.05808322 0.05525512 0.05186244 0.05035168\n",
            " 0.05261521 0.05487873 0.05525512 0.05676326 0.05563411 0.0560105\n",
            " 0.0588386  0.05940579 0.05412335 0.0531824  0.05582231 0.05714226\n",
            " 0.05940579 0.05997036 0.05978217 0.05902679 0.05940579 0.05902679\n",
            " 0.0616667  0.06072574 0.06091393 0.06242208 0.06034674 0.05827402\n",
            " 0.05827402 0.06072574 0.0616667  0.06147851 0.0675137  0.07015361\n",
            " 0.07241714 0.07336071 0.0707208  0.06807828 0.06902185 0.06807828\n",
            " 0.06770189 0.06789009 0.06732551 0.06902185 0.07015361 0.0707208\n",
            " 0.06902185 0.06713732 0.06506199 0.06732551 0.06789009 0.06789009\n",
            " 0.07184995 0.07166176 0.06506199 0.06430661 0.06487379 0.05940579\n",
            " 0.05940579 0.0552891  0.04620363 0.05220485 0.06249003 0.0707208\n",
            " 0.07003338 0.06951846 0.0712331  0.07157812 0.07329014 0.07294773\n",
            " 0.07346265 0.07089069 0.07140561 0.07534979 0.07723432 0.07260533\n",
            " 0.06951846 0.07020589 0.07466237 0.07192052 0.0710632  0.07037578\n",
            " 0.07397756 0.06969097 0.07534979 0.07192052 0.07620449 0.07963376\n",
            " 0.07277784 0.07192052 0.07826414 0.08409285 0.08477766 0.09151989\n",
            " 0.09681171 0.1011325  0.10717627 0.11128682]\n",
            "5 day output [[0.11762778]]\n",
            "6 day input [0.05770683 0.05808322 0.05525512 0.05186244 0.05035168 0.05261521\n",
            " 0.05487873 0.05525512 0.05676326 0.05563411 0.0560105  0.0588386\n",
            " 0.05940579 0.05412335 0.0531824  0.05582231 0.05714226 0.05940579\n",
            " 0.05997036 0.05978217 0.05902679 0.05940579 0.05902679 0.0616667\n",
            " 0.06072574 0.06091393 0.06242208 0.06034674 0.05827402 0.05827402\n",
            " 0.06072574 0.0616667  0.06147851 0.0675137  0.07015361 0.07241714\n",
            " 0.07336071 0.0707208  0.06807828 0.06902185 0.06807828 0.06770189\n",
            " 0.06789009 0.06732551 0.06902185 0.07015361 0.0707208  0.06902185\n",
            " 0.06713732 0.06506199 0.06732551 0.06789009 0.06789009 0.07184995\n",
            " 0.07166176 0.06506199 0.06430661 0.06487379 0.05940579 0.05940579\n",
            " 0.0552891  0.04620363 0.05220485 0.06249003 0.0707208  0.07003338\n",
            " 0.06951846 0.0712331  0.07157812 0.07329014 0.07294773 0.07346265\n",
            " 0.07089069 0.07140561 0.07534979 0.07723432 0.07260533 0.06951846\n",
            " 0.07020589 0.07466237 0.07192052 0.0710632  0.07037578 0.07397756\n",
            " 0.06969097 0.07534979 0.07192052 0.07620449 0.07963376 0.07277784\n",
            " 0.07192052 0.07826414 0.08409285 0.08477766 0.09151989 0.09681171\n",
            " 0.1011325  0.10717627 0.11128682 0.11762778]\n",
            "6 day output [[0.12116647]]\n",
            "7 day input [0.05808322 0.05525512 0.05186244 0.05035168 0.05261521 0.05487873\n",
            " 0.05525512 0.05676326 0.05563411 0.0560105  0.0588386  0.05940579\n",
            " 0.05412335 0.0531824  0.05582231 0.05714226 0.05940579 0.05997036\n",
            " 0.05978217 0.05902679 0.05940579 0.05902679 0.0616667  0.06072574\n",
            " 0.06091393 0.06242208 0.06034674 0.05827402 0.05827402 0.06072574\n",
            " 0.0616667  0.06147851 0.0675137  0.07015361 0.07241714 0.07336071\n",
            " 0.0707208  0.06807828 0.06902185 0.06807828 0.06770189 0.06789009\n",
            " 0.06732551 0.06902185 0.07015361 0.0707208  0.06902185 0.06713732\n",
            " 0.06506199 0.06732551 0.06789009 0.06789009 0.07184995 0.07166176\n",
            " 0.06506199 0.06430661 0.06487379 0.05940579 0.05940579 0.0552891\n",
            " 0.04620363 0.05220485 0.06249003 0.0707208  0.07003338 0.06951846\n",
            " 0.0712331  0.07157812 0.07329014 0.07294773 0.07346265 0.07089069\n",
            " 0.07140561 0.07534979 0.07723432 0.07260533 0.06951846 0.07020589\n",
            " 0.07466237 0.07192052 0.0710632  0.07037578 0.07397756 0.06969097\n",
            " 0.07534979 0.07192052 0.07620449 0.07963376 0.07277784 0.07192052\n",
            " 0.07826414 0.08409285 0.08477766 0.09151989 0.09681171 0.1011325\n",
            " 0.10717627 0.11128682 0.11762778 0.12116647]\n",
            "7 day output [[0.12654467]]\n",
            "8 day input [0.05525512 0.05186244 0.05035168 0.05261521 0.05487873 0.05525512\n",
            " 0.05676326 0.05563411 0.0560105  0.0588386  0.05940579 0.05412335\n",
            " 0.0531824  0.05582231 0.05714226 0.05940579 0.05997036 0.05978217\n",
            " 0.05902679 0.05940579 0.05902679 0.0616667  0.06072574 0.06091393\n",
            " 0.06242208 0.06034674 0.05827402 0.05827402 0.06072574 0.0616667\n",
            " 0.06147851 0.0675137  0.07015361 0.07241714 0.07336071 0.0707208\n",
            " 0.06807828 0.06902185 0.06807828 0.06770189 0.06789009 0.06732551\n",
            " 0.06902185 0.07015361 0.0707208  0.06902185 0.06713732 0.06506199\n",
            " 0.06732551 0.06789009 0.06789009 0.07184995 0.07166176 0.06506199\n",
            " 0.06430661 0.06487379 0.05940579 0.05940579 0.0552891  0.04620363\n",
            " 0.05220485 0.06249003 0.0707208  0.07003338 0.06951846 0.0712331\n",
            " 0.07157812 0.07329014 0.07294773 0.07346265 0.07089069 0.07140561\n",
            " 0.07534979 0.07723432 0.07260533 0.06951846 0.07020589 0.07466237\n",
            " 0.07192052 0.0710632  0.07037578 0.07397756 0.06969097 0.07534979\n",
            " 0.07192052 0.07620449 0.07963376 0.07277784 0.07192052 0.07826414\n",
            " 0.08409285 0.08477766 0.09151989 0.09681171 0.1011325  0.10717627\n",
            " 0.11128682 0.11762778 0.12116647 0.12654467]\n",
            "8 day output [[0.13148308]]\n",
            "9 day input [0.05186244 0.05035168 0.05261521 0.05487873 0.05525512 0.05676326\n",
            " 0.05563411 0.0560105  0.0588386  0.05940579 0.05412335 0.0531824\n",
            " 0.05582231 0.05714226 0.05940579 0.05997036 0.05978217 0.05902679\n",
            " 0.05940579 0.05902679 0.0616667  0.06072574 0.06091393 0.06242208\n",
            " 0.06034674 0.05827402 0.05827402 0.06072574 0.0616667  0.06147851\n",
            " 0.0675137  0.07015361 0.07241714 0.07336071 0.0707208  0.06807828\n",
            " 0.06902185 0.06807828 0.06770189 0.06789009 0.06732551 0.06902185\n",
            " 0.07015361 0.0707208  0.06902185 0.06713732 0.06506199 0.06732551\n",
            " 0.06789009 0.06789009 0.07184995 0.07166176 0.06506199 0.06430661\n",
            " 0.06487379 0.05940579 0.05940579 0.0552891  0.04620363 0.05220485\n",
            " 0.06249003 0.0707208  0.07003338 0.06951846 0.0712331  0.07157812\n",
            " 0.07329014 0.07294773 0.07346265 0.07089069 0.07140561 0.07534979\n",
            " 0.07723432 0.07260533 0.06951846 0.07020589 0.07466237 0.07192052\n",
            " 0.0710632  0.07037578 0.07397756 0.06969097 0.07534979 0.07192052\n",
            " 0.07620449 0.07963376 0.07277784 0.07192052 0.07826414 0.08409285\n",
            " 0.08477766 0.09151989 0.09681171 0.1011325  0.10717627 0.11128682\n",
            " 0.11762778 0.12116647 0.12654467 0.13148308]\n",
            "9 day output [[0.13589452]]\n",
            "10 day input [0.05035168 0.05261521 0.05487873 0.05525512 0.05676326 0.05563411\n",
            " 0.0560105  0.0588386  0.05940579 0.05412335 0.0531824  0.05582231\n",
            " 0.05714226 0.05940579 0.05997036 0.05978217 0.05902679 0.05940579\n",
            " 0.05902679 0.0616667  0.06072574 0.06091393 0.06242208 0.06034674\n",
            " 0.05827402 0.05827402 0.06072574 0.0616667  0.06147851 0.0675137\n",
            " 0.07015361 0.07241714 0.07336071 0.0707208  0.06807828 0.06902185\n",
            " 0.06807828 0.06770189 0.06789009 0.06732551 0.06902185 0.07015361\n",
            " 0.0707208  0.06902185 0.06713732 0.06506199 0.06732551 0.06789009\n",
            " 0.06789009 0.07184995 0.07166176 0.06506199 0.06430661 0.06487379\n",
            " 0.05940579 0.05940579 0.0552891  0.04620363 0.05220485 0.06249003\n",
            " 0.0707208  0.07003338 0.06951846 0.0712331  0.07157812 0.07329014\n",
            " 0.07294773 0.07346265 0.07089069 0.07140561 0.07534979 0.07723432\n",
            " 0.07260533 0.06951846 0.07020589 0.07466237 0.07192052 0.0710632\n",
            " 0.07037578 0.07397756 0.06969097 0.07534979 0.07192052 0.07620449\n",
            " 0.07963376 0.07277784 0.07192052 0.07826414 0.08409285 0.08477766\n",
            " 0.09151989 0.09681171 0.1011325  0.10717627 0.11128682 0.11762778\n",
            " 0.12116647 0.12654467 0.13148308 0.13589452]\n",
            "10 day output [[0.14099889]]\n",
            "11 day input [0.05261521 0.05487873 0.05525512 0.05676326 0.05563411 0.0560105\n",
            " 0.0588386  0.05940579 0.05412335 0.0531824  0.05582231 0.05714226\n",
            " 0.05940579 0.05997036 0.05978217 0.05902679 0.05940579 0.05902679\n",
            " 0.0616667  0.06072574 0.06091393 0.06242208 0.06034674 0.05827402\n",
            " 0.05827402 0.06072574 0.0616667  0.06147851 0.0675137  0.07015361\n",
            " 0.07241714 0.07336071 0.0707208  0.06807828 0.06902185 0.06807828\n",
            " 0.06770189 0.06789009 0.06732551 0.06902185 0.07015361 0.0707208\n",
            " 0.06902185 0.06713732 0.06506199 0.06732551 0.06789009 0.06789009\n",
            " 0.07184995 0.07166176 0.06506199 0.06430661 0.06487379 0.05940579\n",
            " 0.05940579 0.0552891  0.04620363 0.05220485 0.06249003 0.0707208\n",
            " 0.07003338 0.06951846 0.0712331  0.07157812 0.07329014 0.07294773\n",
            " 0.07346265 0.07089069 0.07140561 0.07534979 0.07723432 0.07260533\n",
            " 0.06951846 0.07020589 0.07466237 0.07192052 0.0710632  0.07037578\n",
            " 0.07397756 0.06969097 0.07534979 0.07192052 0.07620449 0.07963376\n",
            " 0.07277784 0.07192052 0.07826414 0.08409285 0.08477766 0.09151989\n",
            " 0.09681171 0.1011325  0.10717627 0.11128682 0.11762778 0.12116647\n",
            " 0.12654467 0.13148308 0.13589452 0.14099889]\n",
            "11 day output [[0.14559264]]\n",
            "12 day input [0.05487873 0.05525512 0.05676326 0.05563411 0.0560105  0.0588386\n",
            " 0.05940579 0.05412335 0.0531824  0.05582231 0.05714226 0.05940579\n",
            " 0.05997036 0.05978217 0.05902679 0.05940579 0.05902679 0.0616667\n",
            " 0.06072574 0.06091393 0.06242208 0.06034674 0.05827402 0.05827402\n",
            " 0.06072574 0.0616667  0.06147851 0.0675137  0.07015361 0.07241714\n",
            " 0.07336071 0.0707208  0.06807828 0.06902185 0.06807828 0.06770189\n",
            " 0.06789009 0.06732551 0.06902185 0.07015361 0.0707208  0.06902185\n",
            " 0.06713732 0.06506199 0.06732551 0.06789009 0.06789009 0.07184995\n",
            " 0.07166176 0.06506199 0.06430661 0.06487379 0.05940579 0.05940579\n",
            " 0.0552891  0.04620363 0.05220485 0.06249003 0.0707208  0.07003338\n",
            " 0.06951846 0.0712331  0.07157812 0.07329014 0.07294773 0.07346265\n",
            " 0.07089069 0.07140561 0.07534979 0.07723432 0.07260533 0.06951846\n",
            " 0.07020589 0.07466237 0.07192052 0.0710632  0.07037578 0.07397756\n",
            " 0.06969097 0.07534979 0.07192052 0.07620449 0.07963376 0.07277784\n",
            " 0.07192052 0.07826414 0.08409285 0.08477766 0.09151989 0.09681171\n",
            " 0.1011325  0.10717627 0.11128682 0.11762778 0.12116647 0.12654467\n",
            " 0.13148308 0.13589452 0.14099889 0.14559264]\n",
            "12 day output [[0.15102491]]\n",
            "13 day input [0.05525512 0.05676326 0.05563411 0.0560105  0.0588386  0.05940579\n",
            " 0.05412335 0.0531824  0.05582231 0.05714226 0.05940579 0.05997036\n",
            " 0.05978217 0.05902679 0.05940579 0.05902679 0.0616667  0.06072574\n",
            " 0.06091393 0.06242208 0.06034674 0.05827402 0.05827402 0.06072574\n",
            " 0.0616667  0.06147851 0.0675137  0.07015361 0.07241714 0.07336071\n",
            " 0.0707208  0.06807828 0.06902185 0.06807828 0.06770189 0.06789009\n",
            " 0.06732551 0.06902185 0.07015361 0.0707208  0.06902185 0.06713732\n",
            " 0.06506199 0.06732551 0.06789009 0.06789009 0.07184995 0.07166176\n",
            " 0.06506199 0.06430661 0.06487379 0.05940579 0.05940579 0.0552891\n",
            " 0.04620363 0.05220485 0.06249003 0.0707208  0.07003338 0.06951846\n",
            " 0.0712331  0.07157812 0.07329014 0.07294773 0.07346265 0.07089069\n",
            " 0.07140561 0.07534979 0.07723432 0.07260533 0.06951846 0.07020589\n",
            " 0.07466237 0.07192052 0.0710632  0.07037578 0.07397756 0.06969097\n",
            " 0.07534979 0.07192052 0.07620449 0.07963376 0.07277784 0.07192052\n",
            " 0.07826414 0.08409285 0.08477766 0.09151989 0.09681171 0.1011325\n",
            " 0.10717627 0.11128682 0.11762778 0.12116647 0.12654467 0.13148308\n",
            " 0.13589452 0.14099889 0.14559264 0.15102491]\n",
            "13 day output [[0.15633279]]\n",
            "14 day input [0.05676326 0.05563411 0.0560105  0.0588386  0.05940579 0.05412335\n",
            " 0.0531824  0.05582231 0.05714226 0.05940579 0.05997036 0.05978217\n",
            " 0.05902679 0.05940579 0.05902679 0.0616667  0.06072574 0.06091393\n",
            " 0.06242208 0.06034674 0.05827402 0.05827402 0.06072574 0.0616667\n",
            " 0.06147851 0.0675137  0.07015361 0.07241714 0.07336071 0.0707208\n",
            " 0.06807828 0.06902185 0.06807828 0.06770189 0.06789009 0.06732551\n",
            " 0.06902185 0.07015361 0.0707208  0.06902185 0.06713732 0.06506199\n",
            " 0.06732551 0.06789009 0.06789009 0.07184995 0.07166176 0.06506199\n",
            " 0.06430661 0.06487379 0.05940579 0.05940579 0.0552891  0.04620363\n",
            " 0.05220485 0.06249003 0.0707208  0.07003338 0.06951846 0.0712331\n",
            " 0.07157812 0.07329014 0.07294773 0.07346265 0.07089069 0.07140561\n",
            " 0.07534979 0.07723432 0.07260533 0.06951846 0.07020589 0.07466237\n",
            " 0.07192052 0.0710632  0.07037578 0.07397756 0.06969097 0.07534979\n",
            " 0.07192052 0.07620449 0.07963376 0.07277784 0.07192052 0.07826414\n",
            " 0.08409285 0.08477766 0.09151989 0.09681171 0.1011325  0.10717627\n",
            " 0.11128682 0.11762778 0.12116647 0.12654467 0.13148308 0.13589452\n",
            " 0.14099889 0.14559264 0.15102491 0.15633279]\n",
            "14 day output [[0.16166402]]\n",
            "15 day input [0.05563411 0.0560105  0.0588386  0.05940579 0.05412335 0.0531824\n",
            " 0.05582231 0.05714226 0.05940579 0.05997036 0.05978217 0.05902679\n",
            " 0.05940579 0.05902679 0.0616667  0.06072574 0.06091393 0.06242208\n",
            " 0.06034674 0.05827402 0.05827402 0.06072574 0.0616667  0.06147851\n",
            " 0.0675137  0.07015361 0.07241714 0.07336071 0.0707208  0.06807828\n",
            " 0.06902185 0.06807828 0.06770189 0.06789009 0.06732551 0.06902185\n",
            " 0.07015361 0.0707208  0.06902185 0.06713732 0.06506199 0.06732551\n",
            " 0.06789009 0.06789009 0.07184995 0.07166176 0.06506199 0.06430661\n",
            " 0.06487379 0.05940579 0.05940579 0.0552891  0.04620363 0.05220485\n",
            " 0.06249003 0.0707208  0.07003338 0.06951846 0.0712331  0.07157812\n",
            " 0.07329014 0.07294773 0.07346265 0.07089069 0.07140561 0.07534979\n",
            " 0.07723432 0.07260533 0.06951846 0.07020589 0.07466237 0.07192052\n",
            " 0.0710632  0.07037578 0.07397756 0.06969097 0.07534979 0.07192052\n",
            " 0.07620449 0.07963376 0.07277784 0.07192052 0.07826414 0.08409285\n",
            " 0.08477766 0.09151989 0.09681171 0.1011325  0.10717627 0.11128682\n",
            " 0.11762778 0.12116647 0.12654467 0.13148308 0.13589452 0.14099889\n",
            " 0.14559264 0.15102491 0.15633279 0.16166402]\n",
            "15 day output [[0.16576537]]\n",
            "16 day input [0.0560105  0.0588386  0.05940579 0.05412335 0.0531824  0.05582231\n",
            " 0.05714226 0.05940579 0.05997036 0.05978217 0.05902679 0.05940579\n",
            " 0.05902679 0.0616667  0.06072574 0.06091393 0.06242208 0.06034674\n",
            " 0.05827402 0.05827402 0.06072574 0.0616667  0.06147851 0.0675137\n",
            " 0.07015361 0.07241714 0.07336071 0.0707208  0.06807828 0.06902185\n",
            " 0.06807828 0.06770189 0.06789009 0.06732551 0.06902185 0.07015361\n",
            " 0.0707208  0.06902185 0.06713732 0.06506199 0.06732551 0.06789009\n",
            " 0.06789009 0.07184995 0.07166176 0.06506199 0.06430661 0.06487379\n",
            " 0.05940579 0.05940579 0.0552891  0.04620363 0.05220485 0.06249003\n",
            " 0.0707208  0.07003338 0.06951846 0.0712331  0.07157812 0.07329014\n",
            " 0.07294773 0.07346265 0.07089069 0.07140561 0.07534979 0.07723432\n",
            " 0.07260533 0.06951846 0.07020589 0.07466237 0.07192052 0.0710632\n",
            " 0.07037578 0.07397756 0.06969097 0.07534979 0.07192052 0.07620449\n",
            " 0.07963376 0.07277784 0.07192052 0.07826414 0.08409285 0.08477766\n",
            " 0.09151989 0.09681171 0.1011325  0.10717627 0.11128682 0.11762778\n",
            " 0.12116647 0.12654467 0.13148308 0.13589452 0.14099889 0.14559264\n",
            " 0.15102491 0.15633279 0.16166402 0.16576537]\n",
            "16 day output [[0.17064118]]\n",
            "17 day input [0.0588386  0.05940579 0.05412335 0.0531824  0.05582231 0.05714226\n",
            " 0.05940579 0.05997036 0.05978217 0.05902679 0.05940579 0.05902679\n",
            " 0.0616667  0.06072574 0.06091393 0.06242208 0.06034674 0.05827402\n",
            " 0.05827402 0.06072574 0.0616667  0.06147851 0.0675137  0.07015361\n",
            " 0.07241714 0.07336071 0.0707208  0.06807828 0.06902185 0.06807828\n",
            " 0.06770189 0.06789009 0.06732551 0.06902185 0.07015361 0.0707208\n",
            " 0.06902185 0.06713732 0.06506199 0.06732551 0.06789009 0.06789009\n",
            " 0.07184995 0.07166176 0.06506199 0.06430661 0.06487379 0.05940579\n",
            " 0.05940579 0.0552891  0.04620363 0.05220485 0.06249003 0.0707208\n",
            " 0.07003338 0.06951846 0.0712331  0.07157812 0.07329014 0.07294773\n",
            " 0.07346265 0.07089069 0.07140561 0.07534979 0.07723432 0.07260533\n",
            " 0.06951846 0.07020589 0.07466237 0.07192052 0.0710632  0.07037578\n",
            " 0.07397756 0.06969097 0.07534979 0.07192052 0.07620449 0.07963376\n",
            " 0.07277784 0.07192052 0.07826414 0.08409285 0.08477766 0.09151989\n",
            " 0.09681171 0.1011325  0.10717627 0.11128682 0.11762778 0.12116647\n",
            " 0.12654467 0.13148308 0.13589452 0.14099889 0.14559264 0.15102491\n",
            " 0.15633279 0.16166402 0.16576537 0.17064118]\n",
            "17 day output [[0.17484285]]\n",
            "18 day input [0.05940579 0.05412335 0.0531824  0.05582231 0.05714226 0.05940579\n",
            " 0.05997036 0.05978217 0.05902679 0.05940579 0.05902679 0.0616667\n",
            " 0.06072574 0.06091393 0.06242208 0.06034674 0.05827402 0.05827402\n",
            " 0.06072574 0.0616667  0.06147851 0.0675137  0.07015361 0.07241714\n",
            " 0.07336071 0.0707208  0.06807828 0.06902185 0.06807828 0.06770189\n",
            " 0.06789009 0.06732551 0.06902185 0.07015361 0.0707208  0.06902185\n",
            " 0.06713732 0.06506199 0.06732551 0.06789009 0.06789009 0.07184995\n",
            " 0.07166176 0.06506199 0.06430661 0.06487379 0.05940579 0.05940579\n",
            " 0.0552891  0.04620363 0.05220485 0.06249003 0.0707208  0.07003338\n",
            " 0.06951846 0.0712331  0.07157812 0.07329014 0.07294773 0.07346265\n",
            " 0.07089069 0.07140561 0.07534979 0.07723432 0.07260533 0.06951846\n",
            " 0.07020589 0.07466237 0.07192052 0.0710632  0.07037578 0.07397756\n",
            " 0.06969097 0.07534979 0.07192052 0.07620449 0.07963376 0.07277784\n",
            " 0.07192052 0.07826414 0.08409285 0.08477766 0.09151989 0.09681171\n",
            " 0.1011325  0.10717627 0.11128682 0.11762778 0.12116647 0.12654467\n",
            " 0.13148308 0.13589452 0.14099889 0.14559264 0.15102491 0.15633279\n",
            " 0.16166402 0.16576537 0.17064118 0.17484285]\n",
            "18 day output [[0.17909944]]\n",
            "19 day input [0.05412335 0.0531824  0.05582231 0.05714226 0.05940579 0.05997036\n",
            " 0.05978217 0.05902679 0.05940579 0.05902679 0.0616667  0.06072574\n",
            " 0.06091393 0.06242208 0.06034674 0.05827402 0.05827402 0.06072574\n",
            " 0.0616667  0.06147851 0.0675137  0.07015361 0.07241714 0.07336071\n",
            " 0.0707208  0.06807828 0.06902185 0.06807828 0.06770189 0.06789009\n",
            " 0.06732551 0.06902185 0.07015361 0.0707208  0.06902185 0.06713732\n",
            " 0.06506199 0.06732551 0.06789009 0.06789009 0.07184995 0.07166176\n",
            " 0.06506199 0.06430661 0.06487379 0.05940579 0.05940579 0.0552891\n",
            " 0.04620363 0.05220485 0.06249003 0.0707208  0.07003338 0.06951846\n",
            " 0.0712331  0.07157812 0.07329014 0.07294773 0.07346265 0.07089069\n",
            " 0.07140561 0.07534979 0.07723432 0.07260533 0.06951846 0.07020589\n",
            " 0.07466237 0.07192052 0.0710632  0.07037578 0.07397756 0.06969097\n",
            " 0.07534979 0.07192052 0.07620449 0.07963376 0.07277784 0.07192052\n",
            " 0.07826414 0.08409285 0.08477766 0.09151989 0.09681171 0.1011325\n",
            " 0.10717627 0.11128682 0.11762778 0.12116647 0.12654467 0.13148308\n",
            " 0.13589452 0.14099889 0.14559264 0.15102491 0.15633279 0.16166402\n",
            " 0.16576537 0.17064118 0.17484285 0.17909944]\n",
            "19 day output [[0.1833536]]\n",
            "20 day input [0.0531824  0.05582231 0.05714226 0.05940579 0.05997036 0.05978217\n",
            " 0.05902679 0.05940579 0.05902679 0.0616667  0.06072574 0.06091393\n",
            " 0.06242208 0.06034674 0.05827402 0.05827402 0.06072574 0.0616667\n",
            " 0.06147851 0.0675137  0.07015361 0.07241714 0.07336071 0.0707208\n",
            " 0.06807828 0.06902185 0.06807828 0.06770189 0.06789009 0.06732551\n",
            " 0.06902185 0.07015361 0.0707208  0.06902185 0.06713732 0.06506199\n",
            " 0.06732551 0.06789009 0.06789009 0.07184995 0.07166176 0.06506199\n",
            " 0.06430661 0.06487379 0.05940579 0.05940579 0.0552891  0.04620363\n",
            " 0.05220485 0.06249003 0.0707208  0.07003338 0.06951846 0.0712331\n",
            " 0.07157812 0.07329014 0.07294773 0.07346265 0.07089069 0.07140561\n",
            " 0.07534979 0.07723432 0.07260533 0.06951846 0.07020589 0.07466237\n",
            " 0.07192052 0.0710632  0.07037578 0.07397756 0.06969097 0.07534979\n",
            " 0.07192052 0.07620449 0.07963376 0.07277784 0.07192052 0.07826414\n",
            " 0.08409285 0.08477766 0.09151989 0.09681171 0.1011325  0.10717627\n",
            " 0.11128682 0.11762778 0.12116647 0.12654467 0.13148308 0.13589452\n",
            " 0.14099889 0.14559264 0.15102491 0.15633279 0.16166402 0.16576537\n",
            " 0.17064118 0.17484285 0.17909944 0.1833536 ]\n",
            "20 day output [[0.1869963]]\n",
            "21 day input [0.05582231 0.05714226 0.05940579 0.05997036 0.05978217 0.05902679\n",
            " 0.05940579 0.05902679 0.0616667  0.06072574 0.06091393 0.06242208\n",
            " 0.06034674 0.05827402 0.05827402 0.06072574 0.0616667  0.06147851\n",
            " 0.0675137  0.07015361 0.07241714 0.07336071 0.0707208  0.06807828\n",
            " 0.06902185 0.06807828 0.06770189 0.06789009 0.06732551 0.06902185\n",
            " 0.07015361 0.0707208  0.06902185 0.06713732 0.06506199 0.06732551\n",
            " 0.06789009 0.06789009 0.07184995 0.07166176 0.06506199 0.06430661\n",
            " 0.06487379 0.05940579 0.05940579 0.0552891  0.04620363 0.05220485\n",
            " 0.06249003 0.0707208  0.07003338 0.06951846 0.0712331  0.07157812\n",
            " 0.07329014 0.07294773 0.07346265 0.07089069 0.07140561 0.07534979\n",
            " 0.07723432 0.07260533 0.06951846 0.07020589 0.07466237 0.07192052\n",
            " 0.0710632  0.07037578 0.07397756 0.06969097 0.07534979 0.07192052\n",
            " 0.07620449 0.07963376 0.07277784 0.07192052 0.07826414 0.08409285\n",
            " 0.08477766 0.09151989 0.09681171 0.1011325  0.10717627 0.11128682\n",
            " 0.11762778 0.12116647 0.12654467 0.13148308 0.13589452 0.14099889\n",
            " 0.14559264 0.15102491 0.15633279 0.16166402 0.16576537 0.17064118\n",
            " 0.17484285 0.17909944 0.1833536  0.1869963 ]\n",
            "21 day output [[0.19107217]]\n",
            "22 day input [0.05714226 0.05940579 0.05997036 0.05978217 0.05902679 0.05940579\n",
            " 0.05902679 0.0616667  0.06072574 0.06091393 0.06242208 0.06034674\n",
            " 0.05827402 0.05827402 0.06072574 0.0616667  0.06147851 0.0675137\n",
            " 0.07015361 0.07241714 0.07336071 0.0707208  0.06807828 0.06902185\n",
            " 0.06807828 0.06770189 0.06789009 0.06732551 0.06902185 0.07015361\n",
            " 0.0707208  0.06902185 0.06713732 0.06506199 0.06732551 0.06789009\n",
            " 0.06789009 0.07184995 0.07166176 0.06506199 0.06430661 0.06487379\n",
            " 0.05940579 0.05940579 0.0552891  0.04620363 0.05220485 0.06249003\n",
            " 0.0707208  0.07003338 0.06951846 0.0712331  0.07157812 0.07329014\n",
            " 0.07294773 0.07346265 0.07089069 0.07140561 0.07534979 0.07723432\n",
            " 0.07260533 0.06951846 0.07020589 0.07466237 0.07192052 0.0710632\n",
            " 0.07037578 0.07397756 0.06969097 0.07534979 0.07192052 0.07620449\n",
            " 0.07963376 0.07277784 0.07192052 0.07826414 0.08409285 0.08477766\n",
            " 0.09151989 0.09681171 0.1011325  0.10717627 0.11128682 0.11762778\n",
            " 0.12116647 0.12654467 0.13148308 0.13589452 0.14099889 0.14559264\n",
            " 0.15102491 0.15633279 0.16166402 0.16576537 0.17064118 0.17484285\n",
            " 0.17909944 0.1833536  0.1869963  0.19107217]\n",
            "22 day output [[0.1947093]]\n",
            "23 day input [0.05940579 0.05997036 0.05978217 0.05902679 0.05940579 0.05902679\n",
            " 0.0616667  0.06072574 0.06091393 0.06242208 0.06034674 0.05827402\n",
            " 0.05827402 0.06072574 0.0616667  0.06147851 0.0675137  0.07015361\n",
            " 0.07241714 0.07336071 0.0707208  0.06807828 0.06902185 0.06807828\n",
            " 0.06770189 0.06789009 0.06732551 0.06902185 0.07015361 0.0707208\n",
            " 0.06902185 0.06713732 0.06506199 0.06732551 0.06789009 0.06789009\n",
            " 0.07184995 0.07166176 0.06506199 0.06430661 0.06487379 0.05940579\n",
            " 0.05940579 0.0552891  0.04620363 0.05220485 0.06249003 0.0707208\n",
            " 0.07003338 0.06951846 0.0712331  0.07157812 0.07329014 0.07294773\n",
            " 0.07346265 0.07089069 0.07140561 0.07534979 0.07723432 0.07260533\n",
            " 0.06951846 0.07020589 0.07466237 0.07192052 0.0710632  0.07037578\n",
            " 0.07397756 0.06969097 0.07534979 0.07192052 0.07620449 0.07963376\n",
            " 0.07277784 0.07192052 0.07826414 0.08409285 0.08477766 0.09151989\n",
            " 0.09681171 0.1011325  0.10717627 0.11128682 0.11762778 0.12116647\n",
            " 0.12654467 0.13148308 0.13589452 0.14099889 0.14559264 0.15102491\n",
            " 0.15633279 0.16166402 0.16576537 0.17064118 0.17484285 0.17909944\n",
            " 0.1833536  0.1869963  0.19107217 0.1947093 ]\n",
            "23 day output [[0.19860397]]\n",
            "24 day input [0.05997036 0.05978217 0.05902679 0.05940579 0.05902679 0.0616667\n",
            " 0.06072574 0.06091393 0.06242208 0.06034674 0.05827402 0.05827402\n",
            " 0.06072574 0.0616667  0.06147851 0.0675137  0.07015361 0.07241714\n",
            " 0.07336071 0.0707208  0.06807828 0.06902185 0.06807828 0.06770189\n",
            " 0.06789009 0.06732551 0.06902185 0.07015361 0.0707208  0.06902185\n",
            " 0.06713732 0.06506199 0.06732551 0.06789009 0.06789009 0.07184995\n",
            " 0.07166176 0.06506199 0.06430661 0.06487379 0.05940579 0.05940579\n",
            " 0.0552891  0.04620363 0.05220485 0.06249003 0.0707208  0.07003338\n",
            " 0.06951846 0.0712331  0.07157812 0.07329014 0.07294773 0.07346265\n",
            " 0.07089069 0.07140561 0.07534979 0.07723432 0.07260533 0.06951846\n",
            " 0.07020589 0.07466237 0.07192052 0.0710632  0.07037578 0.07397756\n",
            " 0.06969097 0.07534979 0.07192052 0.07620449 0.07963376 0.07277784\n",
            " 0.07192052 0.07826414 0.08409285 0.08477766 0.09151989 0.09681171\n",
            " 0.1011325  0.10717627 0.11128682 0.11762778 0.12116647 0.12654467\n",
            " 0.13148308 0.13589452 0.14099889 0.14559264 0.15102491 0.15633279\n",
            " 0.16166402 0.16576537 0.17064118 0.17484285 0.17909944 0.1833536\n",
            " 0.1869963  0.19107217 0.1947093  0.19860397]\n",
            "24 day output [[0.20223929]]\n",
            "25 day input [0.05978217 0.05902679 0.05940579 0.05902679 0.0616667  0.06072574\n",
            " 0.06091393 0.06242208 0.06034674 0.05827402 0.05827402 0.06072574\n",
            " 0.0616667  0.06147851 0.0675137  0.07015361 0.07241714 0.07336071\n",
            " 0.0707208  0.06807828 0.06902185 0.06807828 0.06770189 0.06789009\n",
            " 0.06732551 0.06902185 0.07015361 0.0707208  0.06902185 0.06713732\n",
            " 0.06506199 0.06732551 0.06789009 0.06789009 0.07184995 0.07166176\n",
            " 0.06506199 0.06430661 0.06487379 0.05940579 0.05940579 0.0552891\n",
            " 0.04620363 0.05220485 0.06249003 0.0707208  0.07003338 0.06951846\n",
            " 0.0712331  0.07157812 0.07329014 0.07294773 0.07346265 0.07089069\n",
            " 0.07140561 0.07534979 0.07723432 0.07260533 0.06951846 0.07020589\n",
            " 0.07466237 0.07192052 0.0710632  0.07037578 0.07397756 0.06969097\n",
            " 0.07534979 0.07192052 0.07620449 0.07963376 0.07277784 0.07192052\n",
            " 0.07826414 0.08409285 0.08477766 0.09151989 0.09681171 0.1011325\n",
            " 0.10717627 0.11128682 0.11762778 0.12116647 0.12654467 0.13148308\n",
            " 0.13589452 0.14099889 0.14559264 0.15102491 0.15633279 0.16166402\n",
            " 0.16576537 0.17064118 0.17484285 0.17909944 0.1833536  0.1869963\n",
            " 0.19107217 0.1947093  0.19860397 0.20223929]\n",
            "25 day output [[0.20593044]]\n",
            "26 day input [0.05902679 0.05940579 0.05902679 0.0616667  0.06072574 0.06091393\n",
            " 0.06242208 0.06034674 0.05827402 0.05827402 0.06072574 0.0616667\n",
            " 0.06147851 0.0675137  0.07015361 0.07241714 0.07336071 0.0707208\n",
            " 0.06807828 0.06902185 0.06807828 0.06770189 0.06789009 0.06732551\n",
            " 0.06902185 0.07015361 0.0707208  0.06902185 0.06713732 0.06506199\n",
            " 0.06732551 0.06789009 0.06789009 0.07184995 0.07166176 0.06506199\n",
            " 0.06430661 0.06487379 0.05940579 0.05940579 0.0552891  0.04620363\n",
            " 0.05220485 0.06249003 0.0707208  0.07003338 0.06951846 0.0712331\n",
            " 0.07157812 0.07329014 0.07294773 0.07346265 0.07089069 0.07140561\n",
            " 0.07534979 0.07723432 0.07260533 0.06951846 0.07020589 0.07466237\n",
            " 0.07192052 0.0710632  0.07037578 0.07397756 0.06969097 0.07534979\n",
            " 0.07192052 0.07620449 0.07963376 0.07277784 0.07192052 0.07826414\n",
            " 0.08409285 0.08477766 0.09151989 0.09681171 0.1011325  0.10717627\n",
            " 0.11128682 0.11762778 0.12116647 0.12654467 0.13148308 0.13589452\n",
            " 0.14099889 0.14559264 0.15102491 0.15633279 0.16166402 0.16576537\n",
            " 0.17064118 0.17484285 0.17909944 0.1833536  0.1869963  0.19107217\n",
            " 0.1947093  0.19860397 0.20223929 0.20593044]\n",
            "26 day output [[0.20938176]]\n",
            "27 day input [0.05940579 0.05902679 0.0616667  0.06072574 0.06091393 0.06242208\n",
            " 0.06034674 0.05827402 0.05827402 0.06072574 0.0616667  0.06147851\n",
            " 0.0675137  0.07015361 0.07241714 0.07336071 0.0707208  0.06807828\n",
            " 0.06902185 0.06807828 0.06770189 0.06789009 0.06732551 0.06902185\n",
            " 0.07015361 0.0707208  0.06902185 0.06713732 0.06506199 0.06732551\n",
            " 0.06789009 0.06789009 0.07184995 0.07166176 0.06506199 0.06430661\n",
            " 0.06487379 0.05940579 0.05940579 0.0552891  0.04620363 0.05220485\n",
            " 0.06249003 0.0707208  0.07003338 0.06951846 0.0712331  0.07157812\n",
            " 0.07329014 0.07294773 0.07346265 0.07089069 0.07140561 0.07534979\n",
            " 0.07723432 0.07260533 0.06951846 0.07020589 0.07466237 0.07192052\n",
            " 0.0710632  0.07037578 0.07397756 0.06969097 0.07534979 0.07192052\n",
            " 0.07620449 0.07963376 0.07277784 0.07192052 0.07826414 0.08409285\n",
            " 0.08477766 0.09151989 0.09681171 0.1011325  0.10717627 0.11128682\n",
            " 0.11762778 0.12116647 0.12654467 0.13148308 0.13589452 0.14099889\n",
            " 0.14559264 0.15102491 0.15633279 0.16166402 0.16576537 0.17064118\n",
            " 0.17484285 0.17909944 0.1833536  0.1869963  0.19107217 0.1947093\n",
            " 0.19860397 0.20223929 0.20593044 0.20938176]\n",
            "27 day output [[0.21284927]]\n",
            "28 day input [0.05902679 0.0616667  0.06072574 0.06091393 0.06242208 0.06034674\n",
            " 0.05827402 0.05827402 0.06072574 0.0616667  0.06147851 0.0675137\n",
            " 0.07015361 0.07241714 0.07336071 0.0707208  0.06807828 0.06902185\n",
            " 0.06807828 0.06770189 0.06789009 0.06732551 0.06902185 0.07015361\n",
            " 0.0707208  0.06902185 0.06713732 0.06506199 0.06732551 0.06789009\n",
            " 0.06789009 0.07184995 0.07166176 0.06506199 0.06430661 0.06487379\n",
            " 0.05940579 0.05940579 0.0552891  0.04620363 0.05220485 0.06249003\n",
            " 0.0707208  0.07003338 0.06951846 0.0712331  0.07157812 0.07329014\n",
            " 0.07294773 0.07346265 0.07089069 0.07140561 0.07534979 0.07723432\n",
            " 0.07260533 0.06951846 0.07020589 0.07466237 0.07192052 0.0710632\n",
            " 0.07037578 0.07397756 0.06969097 0.07534979 0.07192052 0.07620449\n",
            " 0.07963376 0.07277784 0.07192052 0.07826414 0.08409285 0.08477766\n",
            " 0.09151989 0.09681171 0.1011325  0.10717627 0.11128682 0.11762778\n",
            " 0.12116647 0.12654467 0.13148308 0.13589452 0.14099889 0.14559264\n",
            " 0.15102491 0.15633279 0.16166402 0.16576537 0.17064118 0.17484285\n",
            " 0.17909944 0.1833536  0.1869963  0.19107217 0.1947093  0.19860397\n",
            " 0.20223929 0.20593044 0.20938176 0.21284927]\n",
            "28 day output [[0.21610993]]\n",
            "29 day input [0.0616667  0.06072574 0.06091393 0.06242208 0.06034674 0.05827402\n",
            " 0.05827402 0.06072574 0.0616667  0.06147851 0.0675137  0.07015361\n",
            " 0.07241714 0.07336071 0.0707208  0.06807828 0.06902185 0.06807828\n",
            " 0.06770189 0.06789009 0.06732551 0.06902185 0.07015361 0.0707208\n",
            " 0.06902185 0.06713732 0.06506199 0.06732551 0.06789009 0.06789009\n",
            " 0.07184995 0.07166176 0.06506199 0.06430661 0.06487379 0.05940579\n",
            " 0.05940579 0.0552891  0.04620363 0.05220485 0.06249003 0.0707208\n",
            " 0.07003338 0.06951846 0.0712331  0.07157812 0.07329014 0.07294773\n",
            " 0.07346265 0.07089069 0.07140561 0.07534979 0.07723432 0.07260533\n",
            " 0.06951846 0.07020589 0.07466237 0.07192052 0.0710632  0.07037578\n",
            " 0.07397756 0.06969097 0.07534979 0.07192052 0.07620449 0.07963376\n",
            " 0.07277784 0.07192052 0.07826414 0.08409285 0.08477766 0.09151989\n",
            " 0.09681171 0.1011325  0.10717627 0.11128682 0.11762778 0.12116647\n",
            " 0.12654467 0.13148308 0.13589452 0.14099889 0.14559264 0.15102491\n",
            " 0.15633279 0.16166402 0.16576537 0.17064118 0.17484285 0.17909944\n",
            " 0.1833536  0.1869963  0.19107217 0.1947093  0.19860397 0.20223929\n",
            " 0.20593044 0.20938176 0.21284927 0.21610993]\n",
            "29 day output [[0.21915916]]\n"
          ]
        }
      ],
      "source": [
        "\n",
        "# 13. Predict the next 30 days\n",
        "x_input = test_data[-100:].reshape(1, -1)\n",
        "x_input.shape\n",
        "\n",
        "temp_input = list(x_input)\n",
        "temp_input = temp_input[0].tolist()\n",
        "\n",
        "from numpy import array\n",
        "\n",
        "lst_output = []\n",
        "n_steps = 100\n",
        "i = 0\n",
        "while i < 30:\n",
        "    if len(temp_input) > 100:\n",
        "        x_input = np.array(temp_input[1:])\n",
        "        print(\"{} day input {}\".format(i, x_input))\n",
        "        x_input = x_input.reshape(1, -1)\n",
        "        x_input = x_input.reshape((1, n_steps, 1))\n",
        "        yhat = model.predict(x_input, verbose=0)\n",
        "        print(\"{} day output {}\".format(i, yhat))\n",
        "        temp_input.extend(yhat[0].tolist())\n",
        "        temp_input = temp_input[1:]\n",
        "        lst_output.extend(yhat.tolist())\n",
        "        i += 1\n",
        "    else:\n",
        "        x_input = x_input.reshape((1, n_steps, 1))\n",
        "        yhat = model.predict(x_input, verbose=0)\n",
        "        print(yhat[0])\n",
        "        temp_input.extend(yhat[0].tolist())\n",
        "        print(len(temp_input))\n",
        "        lst_output.extend(yhat.tolist())\n",
        "        i += 1"
      ]
    },
    {
      "cell_type": "code",
      "execution_count": 20,
      "metadata": {},
      "outputs": [
        {
          "data": {
            "image/png": "[encoded data removed]",
            "text/plain": [
              "<Figure size 640x480 with 1 Axes>"
            ]
          },
          "metadata": {},
          "output_type": "display_data"
        }
      ],
      "source": [
        "\n",
        "# 14.Vẽ hình\n",
        "train_data_index = pd.RangeIndex(start=0, stop=train_size, step=1)\n",
        "plt.plot(scaler.inverse_transform(train_data))\n",
        "test_data_index = pd.RangeIndex(start=train_size, stop=train_size+test_size, step=1)\n",
        "plt.plot(test_data_index,scaler.inverse_transform(test_data))\n",
        "test_data_index = pd.RangeIndex(start=train_size+101, stop=train_size+test_size, step=1)\n",
        "plt.plot(test_data_index,(y_pred))\n",
        "prediect_data_index = pd.RangeIndex(start=len(df1)-1, stop=len(df1)+29, step=1)\n",
        "plt.plot(prediect_data_index,scaler.inverse_transform(lst_output))\n",
        "plt.legend(['Train','Test','Predict','Predict30days'])\n",
        "plt.show()"
      ]
    },
    {
      "cell_type": "code",
      "execution_count": 21,
      "metadata": {},
      "outputs": [
        {
          "data": {
            "image/png": "[encoded data removed]",
            "text/plain": [
              "<Figure size 640x480 with 1 Axes>"
            ]
          },
          "metadata": {},
          "output_type": "display_data"
        }
      ],
      "source": [
        "# 14.Vẽ hình\n",
        "# Dự đoán 30 ngày tiếp theo\n",
        "prediect_data_index = pd.RangeIndex(start=len(df1)-1, stop=len(df1)+29, step=1)\n",
        "plt.plot(prediect_data_index,scaler.inverse_transform(lst_output))\n",
        "plt.legend(['Predict30days'])\n",
        "plt.show()"
      ]
    },
    {
      "cell_type": "code",
      "execution_count": 22,
      "metadata": {},
      "outputs": [
        {
          "name": "stdout",
          "output_type": "stream",
          "text": [
            "[[ 6784.25040429]\n",
            " [ 6986.70960013]\n",
            " [ 7152.01838185]\n",
            " [ 7383.24606663]\n",
            " [ 7540.51127872]\n",
            " [ 7783.10936356]\n",
            " [ 7918.49576981]\n",
            " [ 8124.25984715]\n",
            " [ 8313.19793301]\n",
            " [ 8481.97493046]\n",
            " [ 8677.26224269]\n",
            " [ 8853.01443855]\n",
            " [ 9060.84684608]\n",
            " [ 9263.92061191]\n",
            " [ 9467.88772764]\n",
            " [ 9624.80090172]\n",
            " [ 9811.34398892]\n",
            " [ 9972.09508991]\n",
            " [10134.947587  ]\n",
            " [10297.70715746]\n",
            " [10437.07259088]\n",
            " [10593.01089048]\n",
            " [10732.16367583]\n",
            " [10881.16953468]\n",
            " [11020.25276758]\n",
            " [11161.47217282]\n",
            " [11293.51578578]\n",
            " [11426.17909966]\n",
            " [11550.92825708]\n",
            " [11667.5882367 ]]\n"
          ]
        }
      ],
      "source": [
        "print(scaler.inverse_transform(lst_output))"
      ]
    }
  ],
  "metadata": {
    "colab": {
      "provenance": []
    },
    "kernelspec": {
      "display_name": "Python 3.11.0 64-bit",
      "language": "python",
      "name": "python3"
    },
    "language_info": {
      "codemirror_mode": {
        "name": "ipython",
        "version": 3
      },
      "file_extension": ".py",
      "mimetype": "text/x-python",
      "name": "python",
      "nbconvert_exporter": "python",
      "pygments_lexer": "ipython3",
      "version": "3.12.3"
    },
    "vscode": {
      "interpreter": {
        "hash": "228ec1c77332413f421e77c28617d1df6074d6a46921cdaeb15ed9feeb460bfe"
      }
    }
  },
  "nbformat": 4,
  "nbformat_minor": 0
}
