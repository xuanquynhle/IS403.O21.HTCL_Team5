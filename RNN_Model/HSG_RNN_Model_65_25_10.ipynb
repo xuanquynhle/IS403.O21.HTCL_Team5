{
  "cells": [
    {
      "cell_type": "markdown",
      "metadata": {
        "id": "Ik-XEHDfAHCb"
      },
      "source": [
        "# HÒA SEN GROUP\n"
      ]
    },
    {
      "cell_type": "code",
      "execution_count": 135,
      "metadata": {
        "id": "FMDKda-XIUAK"
      },
      "outputs": [],
      "source": [
        "# 1. Import thư viện cần thiết\n",
        "import numpy as np\n",
        "import pandas as pd\n",
        "import matplotlib.pyplot as plt\n",
        "from sklearn.preprocessing import MinMaxScaler\n",
        "from keras.models import Sequential\n",
        "from keras.layers import Dense, SimpleRNN"
      ]
    },
    {
      "cell_type": "code",
      "execution_count": 136,
      "metadata": {
        "id": "me8vU9MoAHCe"
      },
      "outputs": [],
      "source": [
        "# 2. Đọc file csv và gắng index với giá Price\n",
        "df = pd.read_csv('HSG Historical Data.csv')\n",
        "df1=df.reset_index()['Price']"
      ]
    },
    {
      "cell_type": "code",
      "source": [
        "df.head()"
      ],
      "metadata": {
        "colab": {
          "base_uri": "https://localhost:8080/",
          "height": 206
        },
        "id": "DF37HodNGwmI",
        "outputId": "f0747532-f08a-4f77-ce22-deaa3027c722"
      },
      "execution_count": 137,
      "outputs": [
        {
          "output_type": "execute_result",
          "data": {
            "text/plain": [
              "        Date  Price   Open   High    Low    Vol.  Change % Unnamed: 7\n",
              "0   3/1/2024  23.05  22.70  23.10  22.65   9.53M         1        32%\n",
              "1  2/29/2024  22.75  22.95  23.10  22.60   9.69M         0        66%\n",
              "2  2/28/2024  22.90  23.00  23.15  22.70   8.26M         0        22%\n",
              "3  2/27/2024  22.85  22.55  23.30  22.50  16.21M         1        78%\n",
              "4  2/26/2024  22.45  22.15  22.50  22.10   8.02M         0        45%"
            ],
            "text/html": [
              "\n",
              "  <div id=\"df-9626b2d1-7ead-48c0-9932-dc6efc40a705\" class=\"colab-df-container\">\n",
              "    <div>\n",
              "<style scoped>\n",
              "    .dataframe tbody tr th:only-of-type {\n",
              "        vertical-align: middle;\n",
              "    }\n",
              "\n",
              "    .dataframe tbody tr th {\n",
              "        vertical-align: top;\n",
              "    }\n",
              "\n",
              "    .dataframe thead th {\n",
              "        text-align: right;\n",
              "    }\n",
              "</style>\n",
              "<table border=\"1\" class=\"dataframe\">\n",
              "  <thead>\n",
              "    <tr style=\"text-align: right;\">\n",
              "      <th></th>\n",
              "      <th>Date</th>\n",
              "      <th>Price</th>\n",
              "      <th>Open</th>\n",
              "      <th>High</th>\n",
              "      <th>Low</th>\n",
              "      <th>Vol.</th>\n",
              "      <th>Change %</th>\n",
              "      <th>Unnamed: 7</th>\n",
              "    </tr>\n",
              "  </thead>\n",
              "  <tbody>\n",
              "    <tr>\n",
              "      <th>0</th>\n",
              "      <td>3/1/2024</td>\n",
              "      <td>23.05</td>\n",
              "      <td>22.70</td>\n",
              "      <td>23.10</td>\n",
              "      <td>22.65</td>\n",
              "      <td>9.53M</td>\n",
              "      <td>1</td>\n",
              "      <td>32%</td>\n",
              "    </tr>\n",
              "    <tr>\n",
              "      <th>1</th>\n",
              "      <td>2/29/2024</td>\n",
              "      <td>22.75</td>\n",
              "      <td>22.95</td>\n",
              "      <td>23.10</td>\n",
              "      <td>22.60</td>\n",
              "      <td>9.69M</td>\n",
              "      <td>0</td>\n",
              "      <td>66%</td>\n",
              "    </tr>\n",
              "    <tr>\n",
              "      <th>2</th>\n",
              "      <td>2/28/2024</td>\n",
              "      <td>22.90</td>\n",
              "      <td>23.00</td>\n",
              "      <td>23.15</td>\n",
              "      <td>22.70</td>\n",
              "      <td>8.26M</td>\n",
              "      <td>0</td>\n",
              "      <td>22%</td>\n",
              "    </tr>\n",
              "    <tr>\n",
              "      <th>3</th>\n",
              "      <td>2/27/2024</td>\n",
              "      <td>22.85</td>\n",
              "      <td>22.55</td>\n",
              "      <td>23.30</td>\n",
              "      <td>22.50</td>\n",
              "      <td>16.21M</td>\n",
              "      <td>1</td>\n",
              "      <td>78%</td>\n",
              "    </tr>\n",
              "    <tr>\n",
              "      <th>4</th>\n",
              "      <td>2/26/2024</td>\n",
              "      <td>22.45</td>\n",
              "      <td>22.15</td>\n",
              "      <td>22.50</td>\n",
              "      <td>22.10</td>\n",
              "      <td>8.02M</td>\n",
              "      <td>0</td>\n",
              "      <td>45%</td>\n",
              "    </tr>\n",
              "  </tbody>\n",
              "</table>\n",
              "</div>\n",
              "    <div class=\"colab-df-buttons\">\n",
              "\n",
              "  <div class=\"colab-df-container\">\n",
              "    <button class=\"colab-df-convert\" onclick=\"convertToInteractive('df-9626b2d1-7ead-48c0-9932-dc6efc40a705')\"\n",
              "            title=\"Convert this dataframe to an interactive table.\"\n",
              "            style=\"display:none;\">\n",
              "\n",
              "  <svg xmlns=\"http://www.w3.org/2000/svg\" height=\"24px\" viewBox=\"0 -960 960 960\">\n",
              "    <path d=\"M120-120v-720h720v720H120Zm60-500h600v-160H180v160Zm220 220h160v-160H400v160Zm0 220h160v-160H400v160ZM180-400h160v-160H180v160Zm440 0h160v-160H620v160ZM180-180h160v-160H180v160Zm440 0h160v-160H620v160Z\"/>\n",
              "  </svg>\n",
              "    </button>\n",
              "\n",
              "  <style>\n",
              "    .colab-df-container {\n",
              "      display:flex;\n",
              "      gap: 12px;\n",
              "    }\n",
              "\n",
              "    .colab-df-convert {\n",
              "      background-color: #E8F0FE;\n",
              "      border: none;\n",
              "      border-radius: 50%;\n",
              "      cursor: pointer;\n",
              "      display: none;\n",
              "      fill: #1967D2;\n",
              "      height: 32px;\n",
              "      padding: 0 0 0 0;\n",
              "      width: 32px;\n",
              "    }\n",
              "\n",
              "    .colab-df-convert:hover {\n",
              "      background-color: #E2EBFA;\n",
              "      box-shadow: 0px 1px 2px rgba(60, 64, 67, 0.3), 0px 1px 3px 1px rgba(60, 64, 67, 0.15);\n",
              "      fill: #174EA6;\n",
              "    }\n",
              "\n",
              "    .colab-df-buttons div {\n",
              "      margin-bottom: 4px;\n",
              "    }\n",
              "\n",
              "    [theme=dark] .colab-df-convert {\n",
              "      background-color: #3B4455;\n",
              "      fill: #D2E3FC;\n",
              "    }\n",
              "\n",
              "    [theme=dark] .colab-df-convert:hover {\n",
              "      background-color: #434B5C;\n",
              "      box-shadow: 0px 1px 3px 1px rgba(0, 0, 0, 0.15);\n",
              "      filter: drop-shadow(0px 1px 2px rgba(0, 0, 0, 0.3));\n",
              "      fill: #FFFFFF;\n",
              "    }\n",
              "  </style>\n",
              "\n",
              "    <script>\n",
              "      const buttonEl =\n",
              "        document.querySelector('#df-9626b2d1-7ead-48c0-9932-dc6efc40a705 button.colab-df-convert');\n",
              "      buttonEl.style.display =\n",
              "        google.colab.kernel.accessAllowed ? 'block' : 'none';\n",
              "\n",
              "      async function convertToInteractive(key) {\n",
              "        const element = document.querySelector('#df-9626b2d1-7ead-48c0-9932-dc6efc40a705');\n",
              "        const dataTable =\n",
              "          await google.colab.kernel.invokeFunction('convertToInteractive',\n",
              "                                                    [key], {});\n",
              "        if (!dataTable) return;\n",
              "\n",
              "        const docLinkHtml = 'Like what you see? Visit the ' +\n",
              "          '<a target=\"_blank\" href=https://colab.research.google.com/notebooks/data_table.ipynb>data table notebook</a>'\n",
              "          + ' to learn more about interactive tables.';\n",
              "        element.innerHTML = '';\n",
              "        dataTable['output_type'] = 'display_data';\n",
              "        await google.colab.output.renderOutput(dataTable, element);\n",
              "        const docLink = document.createElement('div');\n",
              "        docLink.innerHTML = docLinkHtml;\n",
              "        element.appendChild(docLink);\n",
              "      }\n",
              "    </script>\n",
              "  </div>\n",
              "\n",
              "\n",
              "<div id=\"df-122a7975-40a8-4c27-9f3e-51cff1468c52\">\n",
              "  <button class=\"colab-df-quickchart\" onclick=\"quickchart('df-122a7975-40a8-4c27-9f3e-51cff1468c52')\"\n",
              "            title=\"Suggest charts\"\n",
              "            style=\"display:none;\">\n",
              "\n",
              "<svg xmlns=\"http://www.w3.org/2000/svg\" height=\"24px\"viewBox=\"0 0 24 24\"\n",
              "     width=\"24px\">\n",
              "    <g>\n",
              "        <path d=\"M19 3H5c-1.1 0-2 .9-2 2v14c0 1.1.9 2 2 2h14c1.1 0 2-.9 2-2V5c0-1.1-.9-2-2-2zM9 17H7v-7h2v7zm4 0h-2V7h2v10zm4 0h-2v-4h2v4z\"/>\n",
              "    </g>\n",
              "</svg>\n",
              "  </button>\n",
              "\n",
              "<style>\n",
              "  .colab-df-quickchart {\n",
              "      --bg-color: #E8F0FE;\n",
              "      --fill-color: #1967D2;\n",
              "      --hover-bg-color: #E2EBFA;\n",
              "      --hover-fill-color: #174EA6;\n",
              "      --disabled-fill-color: #AAA;\n",
              "      --disabled-bg-color: #DDD;\n",
              "  }\n",
              "\n",
              "  [theme=dark] .colab-df-quickchart {\n",
              "      --bg-color: #3B4455;\n",
              "      --fill-color: #D2E3FC;\n",
              "      --hover-bg-color: #434B5C;\n",
              "      --hover-fill-color: #FFFFFF;\n",
              "      --disabled-bg-color: #3B4455;\n",
              "      --disabled-fill-color: #666;\n",
              "  }\n",
              "\n",
              "  .colab-df-quickchart {\n",
              "    background-color: var(--bg-color);\n",
              "    border: none;\n",
              "    border-radius: 50%;\n",
              "    cursor: pointer;\n",
              "    display: none;\n",
              "    fill: var(--fill-color);\n",
              "    height: 32px;\n",
              "    padding: 0;\n",
              "    width: 32px;\n",
              "  }\n",
              "\n",
              "  .colab-df-quickchart:hover {\n",
              "    background-color: var(--hover-bg-color);\n",
              "    box-shadow: 0 1px 2px rgba(60, 64, 67, 0.3), 0 1px 3px 1px rgba(60, 64, 67, 0.15);\n",
              "    fill: var(--button-hover-fill-color);\n",
              "  }\n",
              "\n",
              "  .colab-df-quickchart-complete:disabled,\n",
              "  .colab-df-quickchart-complete:disabled:hover {\n",
              "    background-color: var(--disabled-bg-color);\n",
              "    fill: var(--disabled-fill-color);\n",
              "    box-shadow: none;\n",
              "  }\n",
              "\n",
              "  .colab-df-spinner {\n",
              "    border: 2px solid var(--fill-color);\n",
              "    border-color: transparent;\n",
              "    border-bottom-color: var(--fill-color);\n",
              "    animation:\n",
              "      spin 1s steps(1) infinite;\n",
              "  }\n",
              "\n",
              "  @keyframes spin {\n",
              "    0% {\n",
              "      border-color: transparent;\n",
              "      border-bottom-color: var(--fill-color);\n",
              "      border-left-color: var(--fill-color);\n",
              "    }\n",
              "    20% {\n",
              "      border-color: transparent;\n",
              "      border-left-color: var(--fill-color);\n",
              "      border-top-color: var(--fill-color);\n",
              "    }\n",
              "    30% {\n",
              "      border-color: transparent;\n",
              "      border-left-color: var(--fill-color);\n",
              "      border-top-color: var(--fill-color);\n",
              "      border-right-color: var(--fill-color);\n",
              "    }\n",
              "    40% {\n",
              "      border-color: transparent;\n",
              "      border-right-color: var(--fill-color);\n",
              "      border-top-color: var(--fill-color);\n",
              "    }\n",
              "    60% {\n",
              "      border-color: transparent;\n",
              "      border-right-color: var(--fill-color);\n",
              "    }\n",
              "    80% {\n",
              "      border-color: transparent;\n",
              "      border-right-color: var(--fill-color);\n",
              "      border-bottom-color: var(--fill-color);\n",
              "    }\n",
              "    90% {\n",
              "      border-color: transparent;\n",
              "      border-bottom-color: var(--fill-color);\n",
              "    }\n",
              "  }\n",
              "</style>\n",
              "\n",
              "  <script>\n",
              "    async function quickchart(key) {\n",
              "      const quickchartButtonEl =\n",
              "        document.querySelector('#' + key + ' button');\n",
              "      quickchartButtonEl.disabled = true;  // To prevent multiple clicks.\n",
              "      quickchartButtonEl.classList.add('colab-df-spinner');\n",
              "      try {\n",
              "        const charts = await google.colab.kernel.invokeFunction(\n",
              "            'suggestCharts', [key], {});\n",
              "      } catch (error) {\n",
              "        console.error('Error during call to suggestCharts:', error);\n",
              "      }\n",
              "      quickchartButtonEl.classList.remove('colab-df-spinner');\n",
              "      quickchartButtonEl.classList.add('colab-df-quickchart-complete');\n",
              "    }\n",
              "    (() => {\n",
              "      let quickchartButtonEl =\n",
              "        document.querySelector('#df-122a7975-40a8-4c27-9f3e-51cff1468c52 button');\n",
              "      quickchartButtonEl.style.display =\n",
              "        google.colab.kernel.accessAllowed ? 'block' : 'none';\n",
              "    })();\n",
              "  </script>\n",
              "</div>\n",
              "    </div>\n",
              "  </div>\n"
            ],
            "application/vnd.google.colaboratory.intrinsic+json": {
              "type": "dataframe",
              "variable_name": "df",
              "summary": "{\n  \"name\": \"df\",\n  \"rows\": 1252,\n  \"fields\": [\n    {\n      \"column\": \"Date\",\n      \"properties\": {\n        \"dtype\": \"object\",\n        \"num_unique_values\": 1252,\n        \"samples\": [\n          \"4/12/2021\",\n          \"3/19/2019\",\n          \"11/21/2019\"\n        ],\n        \"semantic_type\": \"\",\n        \"description\": \"\"\n      }\n    },\n    {\n      \"column\": \"Price\",\n      \"properties\": {\n        \"dtype\": \"number\",\n        \"std\": 9.686416199597062,\n        \"min\": 3.28,\n        \"max\": 41.54,\n        \"num_unique_values\": 732,\n        \"samples\": [\n          4.11,\n          21.45,\n          25.75\n        ],\n        \"semantic_type\": \"\",\n        \"description\": \"\"\n      }\n    },\n    {\n      \"column\": \"Open\",\n      \"properties\": {\n        \"dtype\": \"number\",\n        \"std\": 9.7110348724117,\n        \"min\": 3.247,\n        \"max\": 41.75,\n        \"num_unique_values\": 765,\n        \"samples\": [\n          39.792,\n          27.792,\n          5.969\n        ],\n        \"semantic_type\": \"\",\n        \"description\": \"\"\n      }\n    },\n    {\n      \"column\": \"High\",\n      \"properties\": {\n        \"dtype\": \"number\",\n        \"std\": 9.87610598667655,\n        \"min\": 3.463,\n        \"max\": 42.75,\n        \"num_unique_values\": 787,\n        \"samples\": [\n          12.197,\n          21.45,\n          14.25\n        ],\n        \"semantic_type\": \"\",\n        \"description\": \"\"\n      }\n    },\n    {\n      \"column\": \"Low\",\n      \"properties\": {\n        \"dtype\": \"number\",\n        \"std\": 9.534180799861861,\n        \"min\": 3.146,\n        \"max\": 41.333,\n        \"num_unique_values\": 776,\n        \"samples\": [\n          22.045,\n          4.762,\n          33.25\n        ],\n        \"semantic_type\": \"\",\n        \"description\": \"\"\n      }\n    },\n    {\n      \"column\": \"Vol.\",\n      \"properties\": {\n        \"dtype\": \"string\",\n        \"num_unique_values\": 961,\n        \"samples\": [\n          \"8.15M\",\n          \"7.88M\",\n          \"13.19M\"\n        ],\n        \"semantic_type\": \"\",\n        \"description\": \"\"\n      }\n    },\n    {\n      \"column\": \"Change %\",\n      \"properties\": {\n        \"dtype\": \"number\",\n        \"std\": 2,\n        \"min\": -7,\n        \"max\": 7,\n        \"num_unique_values\": 15,\n        \"samples\": [\n          -5,\n          -3,\n          1\n        ],\n        \"semantic_type\": \"\",\n        \"description\": \"\"\n      }\n    },\n    {\n      \"column\": \"Unnamed: 7\",\n      \"properties\": {\n        \"dtype\": \"category\",\n        \"num_unique_values\": 100,\n        \"samples\": [\n          \"90%\",\n          \"72%\",\n          \"49%\"\n        ],\n        \"semantic_type\": \"\",\n        \"description\": \"\"\n      }\n    }\n  ]\n}"
            }
          },
          "metadata": {},
          "execution_count": 137
        }
      ]
    },
    {
      "cell_type": "code",
      "source": [
        "df1.head()"
      ],
      "metadata": {
        "colab": {
          "base_uri": "https://localhost:8080/"
        },
        "id": "JFHc2RydGqCH",
        "outputId": "a0582dcb-3b35-43e9-f201-5d0508fb8917"
      },
      "execution_count": 138,
      "outputs": [
        {
          "output_type": "execute_result",
          "data": {
            "text/plain": [
              "0    23.05\n",
              "1    22.75\n",
              "2    22.90\n",
              "3    22.85\n",
              "4    22.45\n",
              "Name: Price, dtype: float64"
            ]
          },
          "metadata": {},
          "execution_count": 138
        }
      ]
    },
    {
      "cell_type": "code",
      "execution_count": 139,
      "metadata": {
        "id": "RdVpDho2JgL5"
      },
      "outputs": [],
      "source": [
        "# 3. Scaler data\n",
        "scaler=MinMaxScaler(feature_range=(0,1))\n",
        "df1=scaler.fit_transform(np.array(df1).reshape(-1,1))"
      ]
    },
    {
      "cell_type": "code",
      "execution_count": 140,
      "metadata": {
        "id": "B5JXpenzJoR3"
      },
      "outputs": [],
      "source": [
        "# 4. Chia train test\n",
        "train_size = int(0.65 * len(df1))\n",
        "test_size = int(0.25 * len(df1))\n",
        "val_size = len(df1) - train_size - test_size\n",
        "\n",
        "train_data = df1[:train_size]\n",
        "test_data = df1[train_size:train_size+test_size]\n",
        "val_data = df1[train_size+test_size:]"
      ]
    },
    {
      "cell_type": "code",
      "execution_count": 141,
      "metadata": {
        "id": "yJfmuBORLSfC"
      },
      "outputs": [],
      "source": [
        "# 5. Hàm Create Dataset\n",
        "import numpy\n",
        "# convert an array of values into a dataset matrix\n",
        "def create_dataset(dataset, time_step=1):\n",
        "\tdataX, dataY = [], []\n",
        "\tfor i in range(len(dataset)-time_step-1):\n",
        "\t\ta = dataset[i:(i+time_step), 0]   ###i=0, X=0,1,2,3-----99   Y=100\n",
        "\t\tdataX.append(a)\n",
        "\t\tdataY.append(dataset[i + time_step, 0])\n",
        "\treturn numpy.array(dataX), numpy.array(dataY)"
      ]
    },
    {
      "cell_type": "code",
      "execution_count": 142,
      "metadata": {
        "id": "e81cKq03LXFB"
      },
      "outputs": [],
      "source": [
        "#6. Reshape into X=t,t+1,t+2..t+99 and Y=t+100\n",
        "time_step = 100\n",
        "X_train, y_train = create_dataset(train_data, time_step)\n",
        "X_val, yval = create_dataset(val_data, time_step)\n",
        "X_test, ytest = create_dataset(test_data, time_step)"
      ]
    },
    {
      "cell_type": "code",
      "execution_count": 143,
      "metadata": {
        "id": "RdBVfku7O2qb"
      },
      "outputs": [],
      "source": [
        "# 7. Reshape input to be [samples, time steps, features] which is required for LSTM\n",
        "X_train =X_train.reshape(X_train.shape[0],X_train.shape[1] , 1)\n",
        "X_test = X_test.reshape(X_test.shape[0],X_test.shape[1] , 1)\n",
        "X_val = X_val.reshape(X_val.shape[0],X_val.shape[1] , 1)"
      ]
    },
    {
      "cell_type": "code",
      "execution_count": 144,
      "metadata": {
        "id": "sSfxrE7BO9vX"
      },
      "outputs": [],
      "source": [
        "# 8. Define LSTM Model\n",
        "model = Sequential()\n",
        "model.add(SimpleRNN(50, input_shape=(time_step, 1)))\n",
        "model.add(Dense(1))\n",
        "model.compile(loss='mean_squared_error',optimizer='adam')"
      ]
    },
    {
      "cell_type": "code",
      "execution_count": 145,
      "metadata": {
        "colab": {
          "base_uri": "https://localhost:8080/"
        },
        "id": "zgfeujZSPEKr",
        "outputId": "5095cb44-d9f8-4e9a-fecd-8b96797b415c"
      },
      "outputs": [
        {
          "output_type": "stream",
          "name": "stdout",
          "text": [
            "Epoch 1/100\n",
            "12/12 [==============================] - 2s 44ms/step - loss: 0.0347 - val_loss: 0.0055\n",
            "Epoch 2/100\n",
            "12/12 [==============================] - 0s 24ms/step - loss: 0.0057 - val_loss: 0.0010\n",
            "Epoch 3/100\n",
            "12/12 [==============================] - 0s 27ms/step - loss: 0.0021 - val_loss: 2.1623e-04\n",
            "Epoch 4/100\n",
            "12/12 [==============================] - 0s 30ms/step - loss: 7.7685e-04 - val_loss: 5.5426e-04\n",
            "Epoch 5/100\n",
            "12/12 [==============================] - 0s 30ms/step - loss: 7.0857e-04 - val_loss: 1.6004e-04\n",
            "Epoch 6/100\n",
            "12/12 [==============================] - 0s 24ms/step - loss: 6.5288e-04 - val_loss: 1.0536e-04\n",
            "Epoch 7/100\n",
            "12/12 [==============================] - 0s 24ms/step - loss: 6.2679e-04 - val_loss: 1.8638e-04\n",
            "Epoch 8/100\n",
            "12/12 [==============================] - 0s 24ms/step - loss: 6.2478e-04 - val_loss: 1.7925e-04\n",
            "Epoch 9/100\n",
            "12/12 [==============================] - 0s 37ms/step - loss: 5.9426e-04 - val_loss: 1.2597e-04\n",
            "Epoch 10/100\n",
            "12/12 [==============================] - 1s 43ms/step - loss: 5.7927e-04 - val_loss: 1.3031e-04\n",
            "Epoch 11/100\n",
            "12/12 [==============================] - 0s 38ms/step - loss: 5.6975e-04 - val_loss: 1.6988e-04\n",
            "Epoch 12/100\n",
            "12/12 [==============================] - 1s 46ms/step - loss: 5.6496e-04 - val_loss: 1.0266e-04\n",
            "Epoch 13/100\n",
            "12/12 [==============================] - 0s 42ms/step - loss: 5.3834e-04 - val_loss: 1.2504e-04\n",
            "Epoch 14/100\n",
            "12/12 [==============================] - 1s 42ms/step - loss: 5.2921e-04 - val_loss: 1.4968e-04\n",
            "Epoch 15/100\n",
            "12/12 [==============================] - 1s 43ms/step - loss: 5.3121e-04 - val_loss: 1.7750e-04\n",
            "Epoch 16/100\n",
            "12/12 [==============================] - 0s 38ms/step - loss: 5.7018e-04 - val_loss: 9.8940e-05\n",
            "Epoch 17/100\n",
            "12/12 [==============================] - 0s 23ms/step - loss: 5.0126e-04 - val_loss: 1.4413e-04\n",
            "Epoch 18/100\n",
            "12/12 [==============================] - 0s 25ms/step - loss: 4.9933e-04 - val_loss: 1.7627e-04\n",
            "Epoch 19/100\n",
            "12/12 [==============================] - 0s 28ms/step - loss: 4.8931e-04 - val_loss: 1.7938e-04\n",
            "Epoch 20/100\n",
            "12/12 [==============================] - 0s 26ms/step - loss: 4.8273e-04 - val_loss: 1.2713e-04\n",
            "Epoch 21/100\n",
            "12/12 [==============================] - 0s 27ms/step - loss: 4.6945e-04 - val_loss: 1.2253e-04\n",
            "Epoch 22/100\n",
            "12/12 [==============================] - 0s 23ms/step - loss: 4.6524e-04 - val_loss: 1.2930e-04\n",
            "Epoch 23/100\n",
            "12/12 [==============================] - 0s 23ms/step - loss: 4.4967e-04 - val_loss: 9.6654e-05\n",
            "Epoch 24/100\n",
            "12/12 [==============================] - 0s 22ms/step - loss: 4.9864e-04 - val_loss: 1.4434e-04\n",
            "Epoch 25/100\n",
            "12/12 [==============================] - 0s 24ms/step - loss: 4.6480e-04 - val_loss: 1.3722e-04\n",
            "Epoch 26/100\n",
            "12/12 [==============================] - 0s 24ms/step - loss: 4.5240e-04 - val_loss: 1.1722e-04\n",
            "Epoch 27/100\n",
            "12/12 [==============================] - 0s 23ms/step - loss: 4.3779e-04 - val_loss: 1.2278e-04\n",
            "Epoch 28/100\n",
            "12/12 [==============================] - 0s 24ms/step - loss: 4.5502e-04 - val_loss: 1.6021e-04\n",
            "Epoch 29/100\n",
            "12/12 [==============================] - 0s 23ms/step - loss: 4.5074e-04 - val_loss: 1.5009e-04\n",
            "Epoch 30/100\n",
            "12/12 [==============================] - 0s 23ms/step - loss: 4.3622e-04 - val_loss: 1.5922e-04\n",
            "Epoch 31/100\n",
            "12/12 [==============================] - 0s 22ms/step - loss: 4.2521e-04 - val_loss: 1.7633e-04\n",
            "Epoch 32/100\n",
            "12/12 [==============================] - 0s 24ms/step - loss: 4.6204e-04 - val_loss: 1.4644e-04\n",
            "Epoch 33/100\n",
            "12/12 [==============================] - 0s 23ms/step - loss: 4.1945e-04 - val_loss: 1.1011e-04\n",
            "Epoch 34/100\n",
            "12/12 [==============================] - 0s 23ms/step - loss: 4.1036e-04 - val_loss: 1.0069e-04\n",
            "Epoch 35/100\n",
            "12/12 [==============================] - 0s 23ms/step - loss: 4.1295e-04 - val_loss: 1.4352e-04\n",
            "Epoch 36/100\n",
            "12/12 [==============================] - 0s 23ms/step - loss: 4.0721e-04 - val_loss: 1.0063e-04\n",
            "Epoch 37/100\n",
            "12/12 [==============================] - 0s 23ms/step - loss: 4.3542e-04 - val_loss: 1.4420e-04\n",
            "Epoch 38/100\n",
            "12/12 [==============================] - 0s 23ms/step - loss: 5.1985e-04 - val_loss: 1.0691e-04\n",
            "Epoch 39/100\n",
            "12/12 [==============================] - 0s 24ms/step - loss: 4.3320e-04 - val_loss: 1.4001e-04\n",
            "Epoch 40/100\n",
            "12/12 [==============================] - 0s 24ms/step - loss: 4.0931e-04 - val_loss: 1.6453e-04\n",
            "Epoch 41/100\n",
            "12/12 [==============================] - 0s 23ms/step - loss: 3.9636e-04 - val_loss: 1.7324e-04\n",
            "Epoch 42/100\n",
            "12/12 [==============================] - 0s 23ms/step - loss: 3.9286e-04 - val_loss: 1.7191e-04\n",
            "Epoch 43/100\n",
            "12/12 [==============================] - 0s 24ms/step - loss: 3.9874e-04 - val_loss: 1.2643e-04\n",
            "Epoch 44/100\n",
            "12/12 [==============================] - 0s 22ms/step - loss: 4.1636e-04 - val_loss: 1.7991e-04\n",
            "Epoch 45/100\n",
            "12/12 [==============================] - 0s 23ms/step - loss: 3.9391e-04 - val_loss: 1.2718e-04\n",
            "Epoch 46/100\n",
            "12/12 [==============================] - 0s 23ms/step - loss: 3.9554e-04 - val_loss: 1.4831e-04\n",
            "Epoch 47/100\n",
            "12/12 [==============================] - 0s 24ms/step - loss: 3.9182e-04 - val_loss: 2.2087e-04\n",
            "Epoch 48/100\n",
            "12/12 [==============================] - 0s 23ms/step - loss: 3.9062e-04 - val_loss: 2.5530e-04\n",
            "Epoch 49/100\n",
            "12/12 [==============================] - 0s 22ms/step - loss: 4.1807e-04 - val_loss: 2.3055e-04\n",
            "Epoch 50/100\n",
            "12/12 [==============================] - 0s 24ms/step - loss: 3.8246e-04 - val_loss: 1.3751e-04\n",
            "Epoch 51/100\n",
            "12/12 [==============================] - 0s 24ms/step - loss: 3.8528e-04 - val_loss: 1.5736e-04\n",
            "Epoch 52/100\n",
            "12/12 [==============================] - 0s 42ms/step - loss: 3.8154e-04 - val_loss: 1.9624e-04\n",
            "Epoch 53/100\n",
            "12/12 [==============================] - 0s 42ms/step - loss: 3.7424e-04 - val_loss: 1.6993e-04\n",
            "Epoch 54/100\n",
            "12/12 [==============================] - 0s 40ms/step - loss: 3.7788e-04 - val_loss: 1.4846e-04\n",
            "Epoch 55/100\n",
            "12/12 [==============================] - 0s 38ms/step - loss: 3.7725e-04 - val_loss: 1.3671e-04\n",
            "Epoch 56/100\n",
            "12/12 [==============================] - 1s 43ms/step - loss: 4.0308e-04 - val_loss: 1.5879e-04\n",
            "Epoch 57/100\n",
            "12/12 [==============================] - 1s 43ms/step - loss: 3.6822e-04 - val_loss: 1.5277e-04\n",
            "Epoch 58/100\n",
            "12/12 [==============================] - 0s 36ms/step - loss: 3.7107e-04 - val_loss: 1.2400e-04\n",
            "Epoch 59/100\n",
            "12/12 [==============================] - 0s 23ms/step - loss: 3.7356e-04 - val_loss: 2.0760e-04\n",
            "Epoch 60/100\n",
            "12/12 [==============================] - 0s 24ms/step - loss: 4.2103e-04 - val_loss: 2.2428e-04\n",
            "Epoch 61/100\n",
            "12/12 [==============================] - 0s 23ms/step - loss: 3.8856e-04 - val_loss: 1.6297e-04\n",
            "Epoch 62/100\n",
            "12/12 [==============================] - 0s 22ms/step - loss: 3.6406e-04 - val_loss: 1.9305e-04\n",
            "Epoch 63/100\n",
            "12/12 [==============================] - 0s 24ms/step - loss: 3.6359e-04 - val_loss: 1.5221e-04\n",
            "Epoch 64/100\n",
            "12/12 [==============================] - 0s 25ms/step - loss: 4.0191e-04 - val_loss: 1.5038e-04\n",
            "Epoch 65/100\n",
            "12/12 [==============================] - 0s 23ms/step - loss: 3.8145e-04 - val_loss: 2.3085e-04\n",
            "Epoch 66/100\n",
            "12/12 [==============================] - 0s 24ms/step - loss: 3.8636e-04 - val_loss: 1.2298e-04\n",
            "Epoch 67/100\n",
            "12/12 [==============================] - 0s 24ms/step - loss: 3.7212e-04 - val_loss: 1.1219e-04\n",
            "Epoch 68/100\n",
            "12/12 [==============================] - 0s 22ms/step - loss: 3.8105e-04 - val_loss: 1.5798e-04\n",
            "Epoch 69/100\n",
            "12/12 [==============================] - 0s 23ms/step - loss: 3.5646e-04 - val_loss: 1.9316e-04\n",
            "Epoch 70/100\n",
            "12/12 [==============================] - 0s 23ms/step - loss: 3.6466e-04 - val_loss: 2.1197e-04\n",
            "Epoch 71/100\n",
            "12/12 [==============================] - 0s 24ms/step - loss: 4.7640e-04 - val_loss: 3.3585e-04\n",
            "Epoch 72/100\n",
            "12/12 [==============================] - 0s 23ms/step - loss: 4.4526e-04 - val_loss: 1.5669e-04\n",
            "Epoch 73/100\n",
            "12/12 [==============================] - 0s 24ms/step - loss: 3.7321e-04 - val_loss: 1.4120e-04\n",
            "Epoch 74/100\n",
            "12/12 [==============================] - 0s 24ms/step - loss: 3.7737e-04 - val_loss: 1.9034e-04\n",
            "Epoch 75/100\n",
            "12/12 [==============================] - 0s 23ms/step - loss: 3.5737e-04 - val_loss: 1.5631e-04\n",
            "Epoch 76/100\n",
            "12/12 [==============================] - 0s 23ms/step - loss: 3.5213e-04 - val_loss: 1.7817e-04\n",
            "Epoch 77/100\n",
            "12/12 [==============================] - 0s 23ms/step - loss: 3.4917e-04 - val_loss: 1.7639e-04\n",
            "Epoch 78/100\n",
            "12/12 [==============================] - 0s 25ms/step - loss: 3.7082e-04 - val_loss: 2.7235e-04\n",
            "Epoch 79/100\n",
            "12/12 [==============================] - 0s 22ms/step - loss: 3.9581e-04 - val_loss: 1.5310e-04\n",
            "Epoch 80/100\n",
            "12/12 [==============================] - 0s 23ms/step - loss: 3.5496e-04 - val_loss: 1.3332e-04\n",
            "Epoch 81/100\n",
            "12/12 [==============================] - 0s 23ms/step - loss: 3.6308e-04 - val_loss: 1.4013e-04\n",
            "Epoch 82/100\n",
            "12/12 [==============================] - 0s 25ms/step - loss: 3.5136e-04 - val_loss: 1.1352e-04\n",
            "Epoch 83/100\n",
            "12/12 [==============================] - 0s 23ms/step - loss: 3.6979e-04 - val_loss: 1.2285e-04\n",
            "Epoch 84/100\n",
            "12/12 [==============================] - 0s 23ms/step - loss: 3.7481e-04 - val_loss: 1.6979e-04\n",
            "Epoch 85/100\n",
            "12/12 [==============================] - 0s 26ms/step - loss: 3.8831e-04 - val_loss: 2.9162e-04\n",
            "Epoch 86/100\n",
            "12/12 [==============================] - 0s 23ms/step - loss: 4.2430e-04 - val_loss: 1.5984e-04\n",
            "Epoch 87/100\n",
            "12/12 [==============================] - 0s 24ms/step - loss: 3.6276e-04 - val_loss: 1.1384e-04\n",
            "Epoch 88/100\n",
            "12/12 [==============================] - 0s 23ms/step - loss: 3.4573e-04 - val_loss: 1.0807e-04\n",
            "Epoch 89/100\n",
            "12/12 [==============================] - 0s 25ms/step - loss: 3.4626e-04 - val_loss: 1.4841e-04\n",
            "Epoch 90/100\n",
            "12/12 [==============================] - 0s 22ms/step - loss: 3.6277e-04 - val_loss: 1.1534e-04\n",
            "Epoch 91/100\n",
            "12/12 [==============================] - 0s 23ms/step - loss: 3.4091e-04 - val_loss: 1.3371e-04\n",
            "Epoch 92/100\n",
            "12/12 [==============================] - 0s 23ms/step - loss: 3.4389e-04 - val_loss: 1.2199e-04\n",
            "Epoch 93/100\n",
            "12/12 [==============================] - 0s 31ms/step - loss: 3.4914e-04 - val_loss: 1.4270e-04\n",
            "Epoch 94/100\n",
            "12/12 [==============================] - 0s 39ms/step - loss: 3.4795e-04 - val_loss: 2.1520e-04\n",
            "Epoch 95/100\n",
            "12/12 [==============================] - 1s 45ms/step - loss: 3.6155e-04 - val_loss: 9.9722e-05\n",
            "Epoch 96/100\n",
            "12/12 [==============================] - 0s 41ms/step - loss: 3.5656e-04 - val_loss: 7.6561e-05\n",
            "Epoch 97/100\n",
            "12/12 [==============================] - 1s 44ms/step - loss: 3.4504e-04 - val_loss: 8.2361e-05\n",
            "Epoch 98/100\n",
            "12/12 [==============================] - 0s 40ms/step - loss: 3.9512e-04 - val_loss: 1.2667e-04\n",
            "Epoch 99/100\n",
            "12/12 [==============================] - 1s 44ms/step - loss: 3.4423e-04 - val_loss: 1.2346e-04\n",
            "Epoch 100/100\n",
            "12/12 [==============================] - 0s 38ms/step - loss: 3.4469e-04 - val_loss: 1.7124e-04\n"
          ]
        },
        {
          "output_type": "execute_result",
          "data": {
            "text/plain": [
              "<keras.src.callbacks.History at 0x7cd4f1a495a0>"
            ]
          },
          "metadata": {},
          "execution_count": 145
        }
      ],
      "source": [
        "# 9. Fit mô hình với dữ liệu train\n",
        "model.fit(X_train,y_train,validation_data=(X_test,ytest),epochs=100,batch_size=64,verbose=1)"
      ]
    },
    {
      "cell_type": "code",
      "execution_count": 146,
      "metadata": {
        "colab": {
          "base_uri": "https://localhost:8080/"
        },
        "id": "Rxx_KQSkQpBG",
        "outputId": "899092b1-f191-4735-dd30-c23781e593ee"
      },
      "outputs": [
        {
          "output_type": "stream",
          "name": "stdout",
          "text": [
            "23/23 [==============================] - 0s 7ms/step\n",
            "7/7 [==============================] - 0s 6ms/step\n",
            "1/1 [==============================] - 0s 31ms/step\n"
          ]
        }
      ],
      "source": [
        "# 10. Dự báo dữ liệu test, val\n",
        "train_predict=model.predict(X_train)\n",
        "y_pred=model.predict(X_test)\n",
        "y_pred_val=model.predict(X_val)"
      ]
    },
    {
      "cell_type": "code",
      "execution_count": 148,
      "metadata": {
        "id": "5rwTN10LQ7rj"
      },
      "outputs": [],
      "source": [
        "# 11. Chuẩn hóa dữ liệu y_pred, y_pred_val\n",
        "train_predict=scaler.inverse_transform(train_predict)\n",
        "y_pred=scaler.inverse_transform(y_pred)\n",
        "y_pred_val=scaler.inverse_transform(y_pred_val)"
      ]
    },
    {
      "cell_type": "code",
      "execution_count": 149,
      "metadata": {
        "id": "r3PeRHARAHCh"
      },
      "outputs": [],
      "source": [
        "ytest = scaler.inverse_transform(ytest.reshape(-1,1))\n",
        "yval = scaler.inverse_transform(yval.reshape(-1,1))"
      ]
    },
    {
      "cell_type": "code",
      "execution_count": 150,
      "metadata": {
        "colab": {
          "base_uri": "https://localhost:8080/"
        },
        "id": "wu_9j94kRonD",
        "outputId": "7c0de47f-b896-4396-8c0f-59454961a433"
      },
      "outputs": [
        {
          "output_type": "stream",
          "name": "stdout",
          "text": [
            "Validation RMSE: 250.41957474898038\n",
            "Testing RMSE: 241.86409056783663\n"
          ]
        }
      ],
      "source": [
        "# 12. Đánh giá độ chính xác thuật toán bằng RMSE\n",
        "valid_rmse = np.sqrt(np.mean((y_pred_val - yval)**2))\n",
        "test_rmse = np.sqrt(np.mean((y_pred - ytest)**2))\n",
        "print('Validation RMSE:', valid_rmse)\n",
        "print('Testing RMSE:', test_rmse)"
      ]
    },
    {
      "cell_type": "code",
      "execution_count": 151,
      "metadata": {
        "colab": {
          "base_uri": "https://localhost:8080/"
        },
        "id": "-Tind_8TAHCh",
        "outputId": "02c1d891-ed17-40d8-f351-14687627f076"
      },
      "outputs": [
        {
          "output_type": "stream",
          "name": "stdout",
          "text": [
            "Validation MAE: 250.36768493652346\n",
            "Testing MAE: 236.951769973467\n"
          ]
        }
      ],
      "source": [
        "# Đánh giá độ chính xác thuật toán bằng MAE\n",
        "valid_mae = np.mean(abs(y_pred_val - yval))\n",
        "test_mae = np.mean(abs(y_pred - ytest))\n",
        "print('Validation MAE:', valid_mae)\n",
        "print('Testing MAE:', test_mae)"
      ]
    },
    {
      "cell_type": "code",
      "execution_count": 152,
      "metadata": {
        "colab": {
          "base_uri": "https://localhost:8080/"
        },
        "id": "gDFbKEkMAHCi",
        "outputId": "4cd02509-1589-4376-e59b-4939ba7dead4"
      },
      "outputs": [
        {
          "output_type": "stream",
          "name": "stdout",
          "text": [
            "Validation MAPE: 0.9761357808815369\n",
            "Testing MAPE: 0.9761442776001841\n"
          ]
        }
      ],
      "source": [
        "# Đánh giá độ chính xác thuật toán bằng MAPE\n",
        "valid_mape = np.mean(np.abs(y_pred_val - yval)/np.abs(y_pred_val))\n",
        "test_mape = np.mean(np.abs(y_pred - ytest)/np.abs(y_pred))\n",
        "\n",
        "print('Validation MAPE:', valid_mape)\n",
        "print('Testing MAPE:', test_mape)"
      ]
    },
    {
      "cell_type": "code",
      "execution_count": 153,
      "metadata": {
        "colab": {
          "base_uri": "https://localhost:8080/",
          "height": 430
        },
        "id": "0xzNLNCPAHCi",
        "outputId": "a0e880f4-b1ee-4d9c-8367-a3bdb0119a2f"
      },
      "outputs": [
        {
          "output_type": "display_data",
          "data": {
            "text/plain": [
              "<Figure size 640x480 with 1 Axes>"
            ],
            "image/png": "[encoded data removed]"
          },
          "metadata": {}
        }
      ],
      "source": [
        "# 14.Vẽ hình\n",
        "# Train\n",
        "train_data_index = pd.RangeIndex(start=0, stop=train_size, step=1)\n",
        "plt.plot(scaler.inverse_transform(train_data))\n",
        "# Test\n",
        "test_data_index = pd.RangeIndex(start=train_size, stop=train_size+test_size, step=1)\n",
        "plt.plot(test_data_index,scaler.inverse_transform(test_data))\n",
        "# Dự đoán trên tập test\n",
        "test_data_index = pd.RangeIndex(start=train_size+101, stop=train_size+test_size, step=1)\n",
        "plt.plot(test_data_index,(y_pred))\n",
        "# Validate\n",
        "val_data_index = pd.RangeIndex(start=train_size+test_size, stop=train_size+test_size+val_size, step=1)\n",
        "plt.plot(val_data_index,scaler.inverse_transform(val_data))\n",
        "# Dự đoán trên tập validated\n",
        "val_data_index = pd.RangeIndex(start=train_size+test_size+101, stop=train_size+test_size+val_size, step=1)\n",
        "plt.plot(val_data_index,y_pred_val)\n",
        "plt.legend(['Train','Test','Predict','Validate','ValidatePred'])\n",
        "plt.show()"
      ]
    }
  ],
  "metadata": {
    "colab": {
      "provenance": []
    },
    "kernelspec": {
      "display_name": "Python 3.11.0 64-bit",
      "language": "python",
      "name": "python3"
    },
    "language_info": {
      "codemirror_mode": {
        "name": "ipython",
        "version": 3
      },
      "file_extension": ".py",
      "mimetype": "text/x-python",
      "name": "python",
      "nbconvert_exporter": "python",
      "pygments_lexer": "ipython3",
      "version": "3.12.3"
    },
    "vscode": {
      "interpreter": {
        "hash": "228ec1c77332413f421e77c28617d1df6074d6a46921cdaeb15ed9feeb460bfe"
      }
    }
  },
  "nbformat": 4,
  "nbformat_minor": 0
}