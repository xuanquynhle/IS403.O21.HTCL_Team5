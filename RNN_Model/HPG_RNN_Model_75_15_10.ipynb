{
  "cells": [
    {
      "cell_type": "code",
      "execution_count": 1,
      "metadata": {
        "id": "FMDKda-XIUAK"
      },
      "outputs": [],
      "source": [
        "# 1. Import thư viện cần thiết\n",
        "import numpy as np\n",
        "import pandas as pd\n",
        "import matplotlib.pyplot as plt\n",
        "from sklearn.preprocessing import MinMaxScaler\n",
        "from keras.models import Sequential\n",
        "from keras.layers import Dense, SimpleRNN"
      ]
    },
    {
      "cell_type": "code",
      "execution_count": 2,
      "metadata": {
        "id": "aRm9GQ8KJJ5N"
      },
      "outputs": [],
      "source": [
        "# 2. Đọc file csv và gắng index với giá Price\n",
        "df = pd.read_csv('HPG Historical Data.csv')\n",
        "df1=df.reset_index()['Price']"
      ]
    },
    {
      "cell_type": "code",
      "execution_count": 3,
      "metadata": {
        "id": "RdVpDho2JgL5"
      },
      "outputs": [],
      "source": [
        "# 3. Scaler data\n",
        "scaler=MinMaxScaler(feature_range=(0,1))\n",
        "df1=scaler.fit_transform(np.array(df1).reshape(-1,1))"
      ]
    },
    {
      "cell_type": "code",
      "execution_count": 4,
      "metadata": {
        "id": "B5JXpenzJoR3"
      },
      "outputs": [],
      "source": [
        "# 4. Chia train test\n",
        "train_size = int(0.75 * len(df1))\n",
        "test_size = int(0.15 * len(df1))\n",
        "val_size = len(df1) - train_size - test_size\n",
        "\n",
        "train_data = df1[:train_size]\n",
        "test_data = df1[train_size:train_size+test_size]\n",
        "val_data = df1[train_size+test_size:]"
      ]
    },
    {
      "cell_type": "code",
      "execution_count": 5,
      "metadata": {
        "id": "yJfmuBORLSfC"
      },
      "outputs": [],
      "source": [
        "# 5. Hàm Create Dataset\n",
        "import numpy\n",
        "# convert an array of values into a dataset matrix\n",
        "def create_dataset(dataset, time_step=1):\n",
        "\tdataX, dataY = [], []\n",
        "\tfor i in range(len(dataset)-time_step-1):\n",
        "\t\ta = dataset[i:(i+time_step), 0]   ###i=0, X=0,1,2,3-----99   Y=100\n",
        "\t\tdataX.append(a)\n",
        "\t\tdataY.append(dataset[i + time_step, 0])\n",
        "\treturn numpy.array(dataX), numpy.array(dataY)"
      ]
    },
    {
      "cell_type": "code",
      "execution_count": 6,
      "metadata": {
        "id": "e81cKq03LXFB"
      },
      "outputs": [],
      "source": [
        "#6. Reshape into X=t,t+1,t+2..t+99 and Y=t+100\n",
        "time_step = 100\n",
        "X_train, y_train = create_dataset(train_data, time_step)\n",
        "X_val, yval = create_dataset(val_data, time_step)\n",
        "X_test, ytest = create_dataset(test_data, time_step)"
      ]
    },
    {
      "cell_type": "code",
      "execution_count": 7,
      "metadata": {
        "id": "RdBVfku7O2qb"
      },
      "outputs": [],
      "source": [
        "# 7. Reshape input to be [samples, time steps, features] which is required for LSTM\n",
        "X_train =X_train.reshape(X_train.shape[0],X_train.shape[1] , 1)\n",
        "X_test = X_test.reshape(X_test.shape[0],X_test.shape[1] , 1)\n",
        "X_val = X_val.reshape(X_val.shape[0],X_val.shape[1] , 1)"
      ]
    },
    {
      "cell_type": "code",
      "execution_count": 8,
      "metadata": {
        "id": "sSfxrE7BO9vX"
      },
      "outputs": [],
      "source": [
        "# 8. Define LSTM Model\n",
        "model = Sequential()\n",
        "model.add(SimpleRNN(50, input_shape=(time_step, 1)))\n",
        "model.add(Dense(1))\n",
        "model.compile(loss='mean_squared_error',optimizer='adam')"
      ]
    },
    {
      "cell_type": "code",
      "execution_count": 9,
      "metadata": {
        "colab": {
          "base_uri": "https://localhost:8080/"
        },
        "id": "zgfeujZSPEKr",
        "outputId": "50b30347-f194-4733-ffc8-b4c63432c741"
      },
      "outputs": [
        {
          "output_type": "stream",
          "name": "stdout",
          "text": [
            "Epoch 1/100\n",
            "14/14 [==============================] - 2s 42ms/step - loss: 0.0789 - val_loss: 0.0254\n",
            "Epoch 2/100\n",
            "14/14 [==============================] - 0s 25ms/step - loss: 0.0054 - val_loss: 0.0074\n",
            "Epoch 3/100\n",
            "14/14 [==============================] - 1s 50ms/step - loss: 0.0025 - val_loss: 0.0041\n",
            "Epoch 4/100\n",
            "14/14 [==============================] - 1s 49ms/step - loss: 0.0018 - val_loss: 0.0020\n",
            "Epoch 5/100\n",
            "14/14 [==============================] - 1s 59ms/step - loss: 0.0015 - val_loss: 0.0028\n",
            "Epoch 6/100\n",
            "14/14 [==============================] - 1s 50ms/step - loss: 0.0014 - val_loss: 0.0016\n",
            "Epoch 7/100\n",
            "14/14 [==============================] - 1s 55ms/step - loss: 0.0012 - val_loss: 3.8152e-04\n",
            "Epoch 8/100\n",
            "14/14 [==============================] - 1s 49ms/step - loss: 0.0012 - val_loss: 4.9083e-04\n",
            "Epoch 9/100\n",
            "14/14 [==============================] - 1s 53ms/step - loss: 0.0010 - val_loss: 2.7116e-04\n",
            "Epoch 10/100\n",
            "14/14 [==============================] - 1s 46ms/step - loss: 9.7671e-04 - val_loss: 3.1199e-04\n",
            "Epoch 11/100\n",
            "14/14 [==============================] - 1s 70ms/step - loss: 9.5109e-04 - val_loss: 3.2488e-04\n",
            "Epoch 12/100\n",
            "14/14 [==============================] - 1s 70ms/step - loss: 0.0011 - val_loss: 5.0427e-04\n",
            "Epoch 13/100\n",
            "14/14 [==============================] - 1s 74ms/step - loss: 8.5824e-04 - val_loss: 4.4025e-04\n",
            "Epoch 14/100\n",
            "14/14 [==============================] - 1s 75ms/step - loss: 8.3351e-04 - val_loss: 4.6345e-04\n",
            "Epoch 15/100\n",
            "14/14 [==============================] - 1s 65ms/step - loss: 9.4990e-04 - val_loss: 0.0013\n",
            "Epoch 16/100\n",
            "14/14 [==============================] - 1s 38ms/step - loss: 9.6150e-04 - val_loss: 8.4429e-04\n",
            "Epoch 17/100\n",
            "14/14 [==============================] - 1s 44ms/step - loss: 7.7120e-04 - val_loss: 3.9841e-04\n",
            "Epoch 18/100\n",
            "14/14 [==============================] - 1s 50ms/step - loss: 7.8681e-04 - val_loss: 6.2047e-04\n",
            "Epoch 19/100\n",
            "14/14 [==============================] - 1s 57ms/step - loss: 7.4958e-04 - val_loss: 2.8430e-04\n",
            "Epoch 20/100\n",
            "14/14 [==============================] - 1s 47ms/step - loss: 7.1269e-04 - val_loss: 2.3983e-04\n",
            "Epoch 21/100\n",
            "14/14 [==============================] - 1s 47ms/step - loss: 7.4122e-04 - val_loss: 2.5646e-04\n",
            "Epoch 22/100\n",
            "14/14 [==============================] - 1s 54ms/step - loss: 7.2052e-04 - val_loss: 3.1489e-04\n",
            "Epoch 23/100\n",
            "14/14 [==============================] - 1s 57ms/step - loss: 6.9449e-04 - val_loss: 5.3124e-04\n",
            "Epoch 24/100\n",
            "14/14 [==============================] - 0s 22ms/step - loss: 7.8136e-04 - val_loss: 5.6528e-04\n",
            "Epoch 25/100\n",
            "14/14 [==============================] - 0s 23ms/step - loss: 9.1222e-04 - val_loss: 1.7809e-04\n",
            "Epoch 26/100\n",
            "14/14 [==============================] - 0s 22ms/step - loss: 8.2129e-04 - val_loss: 2.4010e-04\n",
            "Epoch 27/100\n",
            "14/14 [==============================] - 0s 22ms/step - loss: 6.4030e-04 - val_loss: 5.3508e-04\n",
            "Epoch 28/100\n",
            "14/14 [==============================] - 0s 23ms/step - loss: 5.9782e-04 - val_loss: 3.6212e-04\n",
            "Epoch 29/100\n",
            "14/14 [==============================] - 0s 22ms/step - loss: 5.8674e-04 - val_loss: 5.5067e-04\n",
            "Epoch 30/100\n",
            "14/14 [==============================] - 0s 22ms/step - loss: 6.5525e-04 - val_loss: 3.6481e-04\n",
            "Epoch 31/100\n",
            "14/14 [==============================] - 0s 24ms/step - loss: 5.6831e-04 - val_loss: 2.3833e-04\n",
            "Epoch 32/100\n",
            "14/14 [==============================] - 0s 22ms/step - loss: 5.5909e-04 - val_loss: 3.2678e-04\n",
            "Epoch 33/100\n",
            "14/14 [==============================] - 0s 22ms/step - loss: 5.4913e-04 - val_loss: 2.0779e-04\n",
            "Epoch 34/100\n",
            "14/14 [==============================] - 0s 24ms/step - loss: 5.3664e-04 - val_loss: 1.4151e-04\n",
            "Epoch 35/100\n",
            "14/14 [==============================] - 0s 23ms/step - loss: 6.6040e-04 - val_loss: 1.1677e-04\n",
            "Epoch 36/100\n",
            "14/14 [==============================] - 0s 26ms/step - loss: 8.9438e-04 - val_loss: 4.7751e-04\n",
            "Epoch 37/100\n",
            "14/14 [==============================] - 1s 44ms/step - loss: 7.0511e-04 - val_loss: 5.0760e-04\n",
            "Epoch 38/100\n",
            "14/14 [==============================] - 1s 42ms/step - loss: 6.6960e-04 - val_loss: 2.6364e-04\n",
            "Epoch 39/100\n",
            "14/14 [==============================] - 1s 41ms/step - loss: 6.0920e-04 - val_loss: 1.9560e-04\n",
            "Epoch 40/100\n",
            "14/14 [==============================] - 1s 42ms/step - loss: 5.5782e-04 - val_loss: 2.0539e-04\n",
            "Epoch 41/100\n",
            "14/14 [==============================] - 1s 44ms/step - loss: 6.3735e-04 - val_loss: 6.3748e-04\n",
            "Epoch 42/100\n",
            "14/14 [==============================] - 1s 41ms/step - loss: 5.5248e-04 - val_loss: 2.9183e-04\n",
            "Epoch 43/100\n",
            "14/14 [==============================] - 0s 22ms/step - loss: 5.1725e-04 - val_loss: 2.0927e-04\n",
            "Epoch 44/100\n",
            "14/14 [==============================] - 0s 19ms/step - loss: 5.1793e-04 - val_loss: 1.8549e-04\n",
            "Epoch 45/100\n",
            "14/14 [==============================] - 0s 23ms/step - loss: 4.9181e-04 - val_loss: 3.4440e-04\n",
            "Epoch 46/100\n",
            "14/14 [==============================] - 0s 21ms/step - loss: 4.7470e-04 - val_loss: 2.4198e-04\n",
            "Epoch 47/100\n",
            "14/14 [==============================] - 0s 21ms/step - loss: 5.1009e-04 - val_loss: 2.3036e-04\n",
            "Epoch 48/100\n",
            "14/14 [==============================] - 0s 21ms/step - loss: 4.8969e-04 - val_loss: 3.0024e-04\n",
            "Epoch 49/100\n",
            "14/14 [==============================] - 0s 21ms/step - loss: 5.0527e-04 - val_loss: 1.5045e-04\n",
            "Epoch 50/100\n",
            "14/14 [==============================] - 0s 20ms/step - loss: 4.8764e-04 - val_loss: 1.2391e-04\n",
            "Epoch 51/100\n",
            "14/14 [==============================] - 0s 19ms/step - loss: 4.5841e-04 - val_loss: 1.7593e-04\n",
            "Epoch 52/100\n",
            "14/14 [==============================] - 0s 20ms/step - loss: 4.7135e-04 - val_loss: 4.1365e-04\n",
            "Epoch 53/100\n",
            "14/14 [==============================] - 0s 22ms/step - loss: 5.0997e-04 - val_loss: 2.2905e-04\n",
            "Epoch 54/100\n",
            "14/14 [==============================] - 0s 19ms/step - loss: 4.5814e-04 - val_loss: 1.2202e-04\n",
            "Epoch 55/100\n",
            "14/14 [==============================] - 0s 20ms/step - loss: 5.1179e-04 - val_loss: 1.3380e-04\n",
            "Epoch 56/100\n",
            "14/14 [==============================] - 0s 20ms/step - loss: 4.7587e-04 - val_loss: 1.4006e-04\n",
            "Epoch 57/100\n",
            "14/14 [==============================] - 0s 19ms/step - loss: 4.5602e-04 - val_loss: 1.3273e-04\n",
            "Epoch 58/100\n",
            "14/14 [==============================] - 0s 20ms/step - loss: 4.3367e-04 - val_loss: 1.0647e-04\n",
            "Epoch 59/100\n",
            "14/14 [==============================] - 0s 19ms/step - loss: 4.5079e-04 - val_loss: 8.2311e-05\n",
            "Epoch 60/100\n",
            "14/14 [==============================] - 0s 21ms/step - loss: 5.0711e-04 - val_loss: 9.2863e-05\n",
            "Epoch 61/100\n",
            "14/14 [==============================] - 0s 19ms/step - loss: 4.6690e-04 - val_loss: 1.4392e-04\n",
            "Epoch 62/100\n",
            "14/14 [==============================] - 0s 20ms/step - loss: 4.2502e-04 - val_loss: 1.7609e-04\n",
            "Epoch 63/100\n",
            "14/14 [==============================] - 0s 21ms/step - loss: 4.4430e-04 - val_loss: 1.3628e-04\n",
            "Epoch 64/100\n",
            "14/14 [==============================] - 0s 21ms/step - loss: 4.3626e-04 - val_loss: 1.4408e-04\n",
            "Epoch 65/100\n",
            "14/14 [==============================] - 0s 19ms/step - loss: 4.6331e-04 - val_loss: 1.6032e-04\n",
            "Epoch 66/100\n",
            "14/14 [==============================] - 0s 20ms/step - loss: 4.1359e-04 - val_loss: 1.2760e-04\n",
            "Epoch 67/100\n",
            "14/14 [==============================] - 0s 21ms/step - loss: 4.2453e-04 - val_loss: 9.0796e-05\n",
            "Epoch 68/100\n",
            "14/14 [==============================] - 0s 20ms/step - loss: 4.8225e-04 - val_loss: 7.5662e-05\n",
            "Epoch 69/100\n",
            "14/14 [==============================] - 0s 20ms/step - loss: 5.4243e-04 - val_loss: 7.7355e-05\n",
            "Epoch 70/100\n",
            "14/14 [==============================] - 0s 20ms/step - loss: 4.5014e-04 - val_loss: 1.2220e-04\n",
            "Epoch 71/100\n",
            "14/14 [==============================] - 0s 21ms/step - loss: 4.3434e-04 - val_loss: 1.6232e-04\n",
            "Epoch 72/100\n",
            "14/14 [==============================] - 0s 19ms/step - loss: 4.7252e-04 - val_loss: 2.7199e-04\n",
            "Epoch 73/100\n",
            "14/14 [==============================] - 0s 19ms/step - loss: 4.2523e-04 - val_loss: 2.7198e-04\n",
            "Epoch 74/100\n",
            "14/14 [==============================] - 0s 19ms/step - loss: 4.2055e-04 - val_loss: 1.1869e-04\n",
            "Epoch 75/100\n",
            "14/14 [==============================] - 0s 20ms/step - loss: 4.1240e-04 - val_loss: 1.0231e-04\n",
            "Epoch 76/100\n",
            "14/14 [==============================] - 0s 21ms/step - loss: 4.8371e-04 - val_loss: 9.1929e-05\n",
            "Epoch 77/100\n",
            "14/14 [==============================] - 0s 23ms/step - loss: 4.1929e-04 - val_loss: 1.7044e-04\n",
            "Epoch 78/100\n",
            "14/14 [==============================] - 1s 37ms/step - loss: 4.0256e-04 - val_loss: 1.3036e-04\n",
            "Epoch 79/100\n",
            "14/14 [==============================] - 0s 34ms/step - loss: 3.9986e-04 - val_loss: 1.9228e-04\n",
            "Epoch 80/100\n",
            "14/14 [==============================] - 0s 35ms/step - loss: 4.2756e-04 - val_loss: 2.2553e-04\n",
            "Epoch 81/100\n",
            "14/14 [==============================] - 1s 37ms/step - loss: 3.9559e-04 - val_loss: 1.2042e-04\n",
            "Epoch 82/100\n",
            "14/14 [==============================] - 1s 36ms/step - loss: 3.9272e-04 - val_loss: 1.3851e-04\n",
            "Epoch 83/100\n",
            "14/14 [==============================] - 0s 36ms/step - loss: 3.8440e-04 - val_loss: 1.4082e-04\n",
            "Epoch 84/100\n",
            "14/14 [==============================] - 0s 36ms/step - loss: 4.3498e-04 - val_loss: 7.6193e-05\n",
            "Epoch 85/100\n",
            "14/14 [==============================] - 0s 34ms/step - loss: 4.7736e-04 - val_loss: 1.2000e-04\n",
            "Epoch 86/100\n",
            "14/14 [==============================] - 0s 20ms/step - loss: 4.0454e-04 - val_loss: 9.2443e-05\n",
            "Epoch 87/100\n",
            "14/14 [==============================] - 0s 23ms/step - loss: 4.2397e-04 - val_loss: 1.2868e-04\n",
            "Epoch 88/100\n",
            "14/14 [==============================] - 0s 23ms/step - loss: 3.8160e-04 - val_loss: 1.5563e-04\n",
            "Epoch 89/100\n",
            "14/14 [==============================] - 0s 23ms/step - loss: 3.9048e-04 - val_loss: 1.9764e-04\n",
            "Epoch 90/100\n",
            "14/14 [==============================] - 0s 24ms/step - loss: 3.7695e-04 - val_loss: 8.2127e-05\n",
            "Epoch 91/100\n",
            "14/14 [==============================] - 0s 20ms/step - loss: 4.1689e-04 - val_loss: 9.4409e-05\n",
            "Epoch 92/100\n",
            "14/14 [==============================] - 0s 20ms/step - loss: 3.7497e-04 - val_loss: 7.2336e-05\n",
            "Epoch 93/100\n",
            "14/14 [==============================] - 0s 21ms/step - loss: 4.1882e-04 - val_loss: 1.1477e-04\n",
            "Epoch 94/100\n",
            "14/14 [==============================] - 0s 21ms/step - loss: 4.0055e-04 - val_loss: 7.9526e-05\n",
            "Epoch 95/100\n",
            "14/14 [==============================] - 0s 20ms/step - loss: 4.8669e-04 - val_loss: 1.0869e-04\n",
            "Epoch 96/100\n",
            "14/14 [==============================] - 0s 19ms/step - loss: 4.8467e-04 - val_loss: 1.4920e-04\n",
            "Epoch 97/100\n",
            "14/14 [==============================] - 0s 21ms/step - loss: 4.4738e-04 - val_loss: 2.4244e-04\n",
            "Epoch 98/100\n",
            "14/14 [==============================] - 0s 21ms/step - loss: 5.9835e-04 - val_loss: 4.5476e-04\n",
            "Epoch 99/100\n",
            "14/14 [==============================] - 0s 19ms/step - loss: 5.2368e-04 - val_loss: 1.7267e-04\n",
            "Epoch 100/100\n",
            "14/14 [==============================] - 0s 20ms/step - loss: 4.1879e-04 - val_loss: 2.3716e-04\n"
          ]
        },
        {
          "output_type": "execute_result",
          "data": {
            "text/plain": [
              "<keras.src.callbacks.History at 0x7fe19b99b9a0>"
            ]
          },
          "metadata": {},
          "execution_count": 9
        }
      ],
      "source": [
        "# 9. Fit mô hình với dữ liệu train\n",
        "model.fit(X_train,y_train,validation_data=(X_test,ytest),epochs=100,batch_size=64,verbose=1)"
      ]
    },
    {
      "cell_type": "code",
      "execution_count": 10,
      "metadata": {
        "colab": {
          "base_uri": "https://localhost:8080/"
        },
        "id": "Rxx_KQSkQpBG",
        "outputId": "91b68f11-b725-4ad1-f8e4-da220cab69a2"
      },
      "outputs": [
        {
          "output_type": "stream",
          "name": "stdout",
          "text": [
            "27/27 [==============================] - 1s 11ms/step\n",
            "3/3 [==============================] - 0s 15ms/step\n",
            "1/1 [==============================] - 0s 43ms/step\n"
          ]
        }
      ],
      "source": [
        "# 10. Dự báo dữ liệu test, val\n",
        "train_predict=model.predict(X_train)\n",
        "y_pred=model.predict(X_test)\n",
        "y_pred_val=model.predict(X_val)"
      ]
    },
    {
      "cell_type": "code",
      "execution_count": 11,
      "metadata": {
        "id": "5rwTN10LQ7rj"
      },
      "outputs": [],
      "source": [
        "# 11. Chuẩn hóa dữ liệu y_pred, y_pred_val\n",
        "train_predict=scaler.inverse_transform(train_predict)\n",
        "y_pred=scaler.inverse_transform(y_pred)\n",
        "y_pred_val=scaler.inverse_transform(y_pred_val)"
      ]
    },
    {
      "cell_type": "code",
      "execution_count": 12,
      "metadata": {
        "id": "8u12aHBXNPjR"
      },
      "outputs": [],
      "source": [
        "ytest = scaler.inverse_transform(ytest.reshape(-1,1))\n",
        "yval = scaler.inverse_transform(yval.reshape(-1,1))"
      ]
    },
    {
      "cell_type": "code",
      "execution_count": 13,
      "metadata": {
        "colab": {
          "base_uri": "https://localhost:8080/"
        },
        "id": "wu_9j94kRonD",
        "outputId": "d2280d0d-4a6c-437f-ff92-1c93838a52e8"
      },
      "outputs": [
        {
          "output_type": "stream",
          "name": "stdout",
          "text": [
            "Validation RMSE: 0.40200208854620373\n",
            "Testing RMSE: 0.5618499173329488\n"
          ]
        }
      ],
      "source": [
        "# 12. Đánh giá độ chính xác thuật toán bằng RMSE\n",
        "valid_rmse = np.sqrt(np.mean((y_pred_val - yval)**2))\n",
        "test_rmse = np.sqrt(np.mean((y_pred - ytest)**2))\n",
        "print('Validation RMSE:', valid_rmse)\n",
        "print('Testing RMSE:', test_rmse)"
      ]
    },
    {
      "cell_type": "code",
      "execution_count": 14,
      "metadata": {
        "colab": {
          "base_uri": "https://localhost:8080/"
        },
        "id": "AFQd1oObNPjR",
        "outputId": "92eb6425-ce9f-480b-fcfd-1af65ae3d4da"
      },
      "outputs": [
        {
          "output_type": "stream",
          "name": "stdout",
          "text": [
            "Validation MAE: 0.3309940304565429\n",
            "Testing MAE: 0.48053953126419424\n"
          ]
        }
      ],
      "source": [
        "# Đánh giá độ chính xác thuật toán bằng MAE\n",
        "valid_mae = np.mean(abs(y_pred_val - yval))\n",
        "test_mae = np.mean(abs(y_pred - ytest))\n",
        "print('Validation MAE:', valid_mae)\n",
        "print('Testing MAE:', test_mae)"
      ]
    },
    {
      "cell_type": "code",
      "execution_count": 15,
      "metadata": {
        "colab": {
          "base_uri": "https://localhost:8080/"
        },
        "id": "IkDc4ydLNPjS",
        "outputId": "5367131f-e77d-4b98-aaa3-6faeac36761f"
      },
      "outputs": [
        {
          "output_type": "stream",
          "name": "stdout",
          "text": [
            "Validation MAPE: 0.02775757452673089\n",
            "Testing MAPE: 0.04427480829158103\n"
          ]
        }
      ],
      "source": [
        "# Đánh giá độ chính xác thuật toán bằng MAPE\n",
        "valid_mape = np.mean(np.abs(y_pred_val - yval)/np.abs(y_pred_val))\n",
        "test_mape = np.mean(np.abs(y_pred - ytest)/np.abs(y_pred))\n",
        "\n",
        "print('Validation MAPE:', valid_mape)\n",
        "print('Testing MAPE:', test_mape)"
      ]
    },
    {
      "cell_type": "code",
      "execution_count": 16,
      "metadata": {
        "colab": {
          "base_uri": "https://localhost:8080/",
          "height": 430
        },
        "id": "BeF_-RuoNPjS",
        "outputId": "8766cf79-a877-41a7-f0d7-666b4502c652"
      },
      "outputs": [
        {
          "output_type": "display_data",
          "data": {
            "text/plain": [
              "<Figure size 640x480 with 1 Axes>"
            ],
            "image/png": "[encoded data removed]"
          },
          "metadata": {}
        }
      ],
      "source": [
        "# 14.Vẽ hình\n",
        "# Train\n",
        "train_data_index = pd.RangeIndex(start=0, stop=train_size, step=1)\n",
        "plt.plot(scaler.inverse_transform(train_data))\n",
        "# Test\n",
        "test_data_index = pd.RangeIndex(start=train_size, stop=train_size+test_size, step=1)\n",
        "plt.plot(test_data_index,scaler.inverse_transform(test_data))\n",
        "# Dự đoán trên tập test\n",
        "test_data_index = pd.RangeIndex(start=train_size+101, stop=train_size+test_size, step=1)\n",
        "plt.plot(test_data_index,(y_pred))\n",
        "# Validate\n",
        "val_data_index = pd.RangeIndex(start=train_size+test_size, stop=train_size+test_size+val_size, step=1)\n",
        "plt.plot(val_data_index,scaler.inverse_transform(val_data))\n",
        "# Dự đoán trên tập validated\n",
        "val_data_index = pd.RangeIndex(start=train_size+test_size+101, stop=train_size+test_size+val_size, step=1)\n",
        "plt.plot(val_data_index,y_pred_val)\n",
        "plt.legend(['Train','Test','Predict','Validate','ValidatePred'])\n",
        "plt.show()"
      ]
    }
  ],
  "metadata": {
    "colab": {
      "provenance": []
    },
    "kernelspec": {
      "display_name": "Python 3.11.0 64-bit",
      "language": "python",
      "name": "python3"
    },
    "language_info": {
      "codemirror_mode": {
        "name": "ipython",
        "version": 3
      },
      "file_extension": ".py",
      "mimetype": "text/x-python",
      "name": "python",
      "nbconvert_exporter": "python",
      "pygments_lexer": "ipython3",
      "version": "3.11.0"
    },
    "vscode": {
      "interpreter": {
        "hash": "228ec1c77332413f421e77c28617d1df6074d6a46921cdaeb15ed9feeb460bfe"
      }
    }
  },
  "nbformat": 4,
  "nbformat_minor": 0
}