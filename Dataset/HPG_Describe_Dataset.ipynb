{
 "cells": [
  {
   "cell_type": "markdown",
   "metadata": {},
   "source": [
    "# Descriptive Statistics \n",
    "\n",
    "Dataset: Hoa Phat Group Joint Stock Company"
   ]
  },
  {
   "cell_type": "markdown",
   "metadata": {},
   "source": [
    "### Step 1. Import modules"
   ]
  },
  {
   "cell_type": "code",
   "execution_count": 1,
   "metadata": {},
   "outputs": [],
   "source": [
    "import numpy as np\n",
    "import pandas as pd\n",
    "import math\n",
    "import statistics as st\n",
    "import matplotlib.pyplot as plt \n",
    "import seaborn as sns\n",
    "from scipy.stats import skew\n",
    "from scipy.stats import kurtosis"
   ]
  },
  {
   "cell_type": "markdown",
   "metadata": {},
   "source": [
    "### Step 2. Read the dataset"
   ]
  },
  {
   "cell_type": "code",
   "execution_count": 2,
   "metadata": {},
   "outputs": [
    {
     "data": {
      "text/html": [
       "<div>\n",
       "<style scoped>\n",
       "    .dataframe tbody tr th:only-of-type {\n",
       "        vertical-align: middle;\n",
       "    }\n",
       "\n",
       "    .dataframe tbody tr th {\n",
       "        vertical-align: top;\n",
       "    }\n",
       "\n",
       "    .dataframe thead th {\n",
       "        text-align: right;\n",
       "    }\n",
       "</style>\n",
       "<table border=\"1\" class=\"dataframe\">\n",
       "  <thead>\n",
       "    <tr style=\"text-align: right;\">\n",
       "      <th></th>\n",
       "      <th>Date</th>\n",
       "      <th>Price</th>\n",
       "      <th>Open</th>\n",
       "      <th>High</th>\n",
       "      <th>Low</th>\n",
       "      <th>Vol.</th>\n",
       "      <th>Change %</th>\n",
       "    </tr>\n",
       "  </thead>\n",
       "  <tbody>\n",
       "    <tr>\n",
       "      <th>0</th>\n",
       "      <td>03/01/2024</td>\n",
       "      <td>30.850</td>\n",
       "      <td>31.200</td>\n",
       "      <td>31.200</td>\n",
       "      <td>30.650</td>\n",
       "      <td>26.96M</td>\n",
       "      <td>-0,48%</td>\n",
       "    </tr>\n",
       "    <tr>\n",
       "      <th>1</th>\n",
       "      <td>02/29/2024</td>\n",
       "      <td>31.000</td>\n",
       "      <td>30.750</td>\n",
       "      <td>31.150</td>\n",
       "      <td>30.500</td>\n",
       "      <td>33.58M</td>\n",
       "      <td>1,31%</td>\n",
       "    </tr>\n",
       "    <tr>\n",
       "      <th>2</th>\n",
       "      <td>02/28/2024</td>\n",
       "      <td>30.600</td>\n",
       "      <td>30.400</td>\n",
       "      <td>30.950</td>\n",
       "      <td>30.150</td>\n",
       "      <td>35.20M</td>\n",
       "      <td>0,82%</td>\n",
       "    </tr>\n",
       "    <tr>\n",
       "      <th>3</th>\n",
       "      <td>02/27/2024</td>\n",
       "      <td>30.350</td>\n",
       "      <td>28.900</td>\n",
       "      <td>30.450</td>\n",
       "      <td>28.800</td>\n",
       "      <td>86.84M</td>\n",
       "      <td>5,38%</td>\n",
       "    </tr>\n",
       "    <tr>\n",
       "      <th>4</th>\n",
       "      <td>02/26/2024</td>\n",
       "      <td>28.800</td>\n",
       "      <td>28.400</td>\n",
       "      <td>28.800</td>\n",
       "      <td>28.300</td>\n",
       "      <td>19.22M</td>\n",
       "      <td>1,05%</td>\n",
       "    </tr>\n",
       "    <tr>\n",
       "      <th>...</th>\n",
       "      <td>...</td>\n",
       "      <td>...</td>\n",
       "      <td>...</td>\n",
       "      <td>...</td>\n",
       "      <td>...</td>\n",
       "      <td>...</td>\n",
       "      <td>...</td>\n",
       "    </tr>\n",
       "    <tr>\n",
       "      <th>1247</th>\n",
       "      <td>03/07/2019</td>\n",
       "      <td>12.001</td>\n",
       "      <td>12.318</td>\n",
       "      <td>12.335</td>\n",
       "      <td>12.001</td>\n",
       "      <td>12.47M</td>\n",
       "      <td>-2,57%</td>\n",
       "    </tr>\n",
       "    <tr>\n",
       "      <th>1248</th>\n",
       "      <td>03/06/2019</td>\n",
       "      <td>12.318</td>\n",
       "      <td>12.318</td>\n",
       "      <td>12.388</td>\n",
       "      <td>12.107</td>\n",
       "      <td>9.24M</td>\n",
       "      <td>-0,14%</td>\n",
       "    </tr>\n",
       "    <tr>\n",
       "      <th>1249</th>\n",
       "      <td>03/05/2019</td>\n",
       "      <td>12.335</td>\n",
       "      <td>12.353</td>\n",
       "      <td>12.529</td>\n",
       "      <td>12.300</td>\n",
       "      <td>15.62M</td>\n",
       "      <td>-0,85%</td>\n",
       "    </tr>\n",
       "    <tr>\n",
       "      <th>1250</th>\n",
       "      <td>03/04/2019</td>\n",
       "      <td>12.441</td>\n",
       "      <td>12.230</td>\n",
       "      <td>12.441</td>\n",
       "      <td>12.212</td>\n",
       "      <td>13.74M</td>\n",
       "      <td>3,21%</td>\n",
       "    </tr>\n",
       "    <tr>\n",
       "      <th>1251</th>\n",
       "      <td>03/01/2019</td>\n",
       "      <td>12.054</td>\n",
       "      <td>11.825</td>\n",
       "      <td>12.054</td>\n",
       "      <td>11.825</td>\n",
       "      <td>12.62M</td>\n",
       "      <td>1,93%</td>\n",
       "    </tr>\n",
       "  </tbody>\n",
       "</table>\n",
       "<p>1252 rows × 7 columns</p>\n",
       "</div>"
      ],
      "text/plain": [
       "            Date   Price    Open    High     Low    Vol. Change %\n",
       "0     03/01/2024  30.850  31.200  31.200  30.650  26.96M   -0,48%\n",
       "1     02/29/2024  31.000  30.750  31.150  30.500  33.58M    1,31%\n",
       "2     02/28/2024  30.600  30.400  30.950  30.150  35.20M    0,82%\n",
       "3     02/27/2024  30.350  28.900  30.450  28.800  86.84M    5,38%\n",
       "4     02/26/2024  28.800  28.400  28.800  28.300  19.22M    1,05%\n",
       "...          ...     ...     ...     ...     ...     ...      ...\n",
       "1247  03/07/2019  12.001  12.318  12.335  12.001  12.47M   -2,57%\n",
       "1248  03/06/2019  12.318  12.318  12.388  12.107   9.24M   -0,14%\n",
       "1249  03/05/2019  12.335  12.353  12.529  12.300  15.62M   -0,85%\n",
       "1250  03/04/2019  12.441  12.230  12.441  12.212  13.74M    3,21%\n",
       "1251  03/01/2019  12.054  11.825  12.054  11.825  12.62M    1,93%\n",
       "\n",
       "[1252 rows x 7 columns]"
      ]
     },
     "execution_count": 2,
     "metadata": {},
     "output_type": "execute_result"
    }
   ],
   "source": [
    "df = pd.read_csv('HPG Historical Data.csv',delimiter=\";\")\n",
    "df\n"
   ]
  },
  {
   "cell_type": "markdown",
   "metadata": {},
   "source": [
    "### Step 3. Data Preprocessing"
   ]
  },
  {
   "cell_type": "code",
   "execution_count": 3,
   "metadata": {},
   "outputs": [],
   "source": [
    "# Convert the data types\n",
    "df['Date'] = pd.to_datetime(df['Date'])\n"
   ]
  },
  {
   "cell_type": "code",
   "execution_count": 53,
   "metadata": {},
   "outputs": [
    {
     "data": {
      "text/plain": [
       "(1252, 7)"
      ]
     },
     "execution_count": 53,
     "metadata": {},
     "output_type": "execute_result"
    }
   ],
   "source": [
    "# Data size\n",
    "df.shape"
   ]
  },
  {
   "cell_type": "code",
   "execution_count": 55,
   "metadata": {},
   "outputs": [
    {
     "name": "stdout",
     "output_type": "stream",
     "text": [
      "<class 'pandas.core.frame.DataFrame'>\n",
      "RangeIndex: 1252 entries, 0 to 1251\n",
      "Data columns (total 7 columns):\n",
      " #   Column    Non-Null Count  Dtype         \n",
      "---  ------    --------------  -----         \n",
      " 0   Date      1252 non-null   datetime64[ns]\n",
      " 1   Price     1252 non-null   float64       \n",
      " 2   Open      1252 non-null   float64       \n",
      " 3   High      1252 non-null   float64       \n",
      " 4   Low       1252 non-null   float64       \n",
      " 5   Vol.      1252 non-null   object        \n",
      " 6   Change %  1252 non-null   object        \n",
      "dtypes: datetime64[ns](1), float64(4), object(2)\n",
      "memory usage: 68.6+ KB\n"
     ]
    }
   ],
   "source": [
    "# Determine the data types\n",
    "df.info()"
   ]
  },
  {
   "cell_type": "markdown",
   "metadata": {},
   "source": [
    "### Step 4. Descriptive Statistics"
   ]
  },
  {
   "cell_type": "code",
   "execution_count": 56,
   "metadata": {},
   "outputs": [
    {
     "data": {
      "text/html": [
       "<div>\n",
       "<style scoped>\n",
       "    .dataframe tbody tr th:only-of-type {\n",
       "        vertical-align: middle;\n",
       "    }\n",
       "\n",
       "    .dataframe tbody tr th {\n",
       "        vertical-align: top;\n",
       "    }\n",
       "\n",
       "    .dataframe thead th {\n",
       "        text-align: right;\n",
       "    }\n",
       "</style>\n",
       "<table border=\"1\" class=\"dataframe\">\n",
       "  <thead>\n",
       "    <tr style=\"text-align: right;\">\n",
       "      <th></th>\n",
       "      <th>Date</th>\n",
       "      <th>Price</th>\n",
       "      <th>Open</th>\n",
       "      <th>High</th>\n",
       "      <th>Low</th>\n",
       "    </tr>\n",
       "  </thead>\n",
       "  <tbody>\n",
       "    <tr>\n",
       "      <th>count</th>\n",
       "      <td>1252</td>\n",
       "      <td>1252.000000</td>\n",
       "      <td>1252.000000</td>\n",
       "      <td>1252.000000</td>\n",
       "      <td>1252.000000</td>\n",
       "    </tr>\n",
       "    <tr>\n",
       "      <th>mean</th>\n",
       "      <td>2021-08-29 00:41:24.345047808</td>\n",
       "      <td>22.135259</td>\n",
       "      <td>22.150447</td>\n",
       "      <td>22.458901</td>\n",
       "      <td>21.845947</td>\n",
       "    </tr>\n",
       "    <tr>\n",
       "      <th>min</th>\n",
       "      <td>2019-03-01 00:00:00</td>\n",
       "      <td>7.412000</td>\n",
       "      <td>7.000000</td>\n",
       "      <td>7.641000</td>\n",
       "      <td>6.977000</td>\n",
       "    </tr>\n",
       "    <tr>\n",
       "      <th>25%</th>\n",
       "      <td>2020-06-01 18:00:00</td>\n",
       "      <td>12.187250</td>\n",
       "      <td>12.124000</td>\n",
       "      <td>12.430250</td>\n",
       "      <td>11.980000</td>\n",
       "    </tr>\n",
       "    <tr>\n",
       "      <th>50%</th>\n",
       "      <td>2021-08-26 12:00:00</td>\n",
       "      <td>21.775000</td>\n",
       "      <td>21.800000</td>\n",
       "      <td>22.100000</td>\n",
       "      <td>21.575000</td>\n",
       "    </tr>\n",
       "    <tr>\n",
       "      <th>75%</th>\n",
       "      <td>2022-11-25 18:00:00</td>\n",
       "      <td>28.000000</td>\n",
       "      <td>28.000000</td>\n",
       "      <td>28.300000</td>\n",
       "      <td>27.739500</td>\n",
       "    </tr>\n",
       "    <tr>\n",
       "      <th>max</th>\n",
       "      <td>2024-03-01 00:00:00</td>\n",
       "      <td>43.896000</td>\n",
       "      <td>43.896000</td>\n",
       "      <td>44.199000</td>\n",
       "      <td>43.517000</td>\n",
       "    </tr>\n",
       "    <tr>\n",
       "      <th>std</th>\n",
       "      <td>NaN</td>\n",
       "      <td>9.680759</td>\n",
       "      <td>9.708412</td>\n",
       "      <td>9.823643</td>\n",
       "      <td>9.577399</td>\n",
       "    </tr>\n",
       "  </tbody>\n",
       "</table>\n",
       "</div>"
      ],
      "text/plain": [
       "                                Date        Price         Open         High  \\\n",
       "count                           1252  1252.000000  1252.000000  1252.000000   \n",
       "mean   2021-08-29 00:41:24.345047808    22.135259    22.150447    22.458901   \n",
       "min              2019-03-01 00:00:00     7.412000     7.000000     7.641000   \n",
       "25%              2020-06-01 18:00:00    12.187250    12.124000    12.430250   \n",
       "50%              2021-08-26 12:00:00    21.775000    21.800000    22.100000   \n",
       "75%              2022-11-25 18:00:00    28.000000    28.000000    28.300000   \n",
       "max              2024-03-01 00:00:00    43.896000    43.896000    44.199000   \n",
       "std                              NaN     9.680759     9.708412     9.823643   \n",
       "\n",
       "               Low  \n",
       "count  1252.000000  \n",
       "mean     21.845947  \n",
       "min       6.977000  \n",
       "25%      11.980000  \n",
       "50%      21.575000  \n",
       "75%      27.739500  \n",
       "max      43.517000  \n",
       "std       9.577399  "
      ]
     },
     "execution_count": 56,
     "metadata": {},
     "output_type": "execute_result"
    }
   ],
   "source": [
    "# Describe the dataset\n",
    "df.describe()"
   ]
  },
  {
   "cell_type": "code",
   "execution_count": 57,
   "metadata": {},
   "outputs": [
    {
     "data": {
      "text/plain": [
       "count    1252.000000\n",
       "mean       22.135259\n",
       "std         9.680759\n",
       "min         7.412000\n",
       "25%        12.187250\n",
       "50%        21.775000\n",
       "75%        28.000000\n",
       "max        43.896000\n",
       "Name: Price, dtype: float64"
      ]
     },
     "execution_count": 57,
     "metadata": {},
     "output_type": "execute_result"
    }
   ],
   "source": [
    "# Describe the 'Price' attribute\n",
    "df['Price'].describe()"
   ]
  },
  {
   "cell_type": "code",
   "execution_count": 61,
   "metadata": {},
   "outputs": [
    {
     "name": "stdout",
     "output_type": "stream",
     "text": [
      "Mode:  20.8\n",
      "Variance:  93.71710364041036\n",
      "Median:  21.775\n",
      "Coefficient of Deviation:  0.4373456641904895\n",
      "Skewness:  0.3305758777773788\n",
      "Kurtosis:  -0.9800664138578177\n",
      "Range:  36.484\n"
     ]
    }
   ],
   "source": [
    "# Mode\n",
    "mode = st.mode(df['Price'])\n",
    "print(\"Mode: \", mode)\n",
    "\n",
    "# Variance\n",
    "var = st.variance(df['Price'])\n",
    "print(\"Variance: \", var)\n",
    "\n",
    "# Median\n",
    "median = st.median(df['Price'])\n",
    "print(\"Median: \", median)\n",
    "\n",
    "# Coefficient of Deviation\n",
    "cv = st.stdev(df['Price']) / st.mean(df['Price'])\n",
    "print(\"Coefficient of Deviation: \", cv)\n",
    "\n",
    "# Skewness\n",
    "skew = skew(df['Price'])\n",
    "print(\"Skewness: \", skew)\n",
    "\n",
    "# Kurtosis\n",
    "kurtosis = kurtosis(df['Price'])\n",
    "print(\"Kurtosis: \", kurtosis)\n",
    "\n",
    "# Range\n",
    "range = max(df['Price']) - min(df['Price'])\n",
    "print(\"Range: \", range)"
   ]
  },
  {
   "cell_type": "markdown",
   "metadata": {},
   "source": [
    "### Step 5. Visualization"
   ]
  },
  {
   "cell_type": "code",
   "execution_count": 32,
   "metadata": {},
   "outputs": [],
   "source": [
    "# Get data\n",
    "df1 = pd.DataFrame(df, columns=['Date', 'Price'])\n",
    "\n",
    "# Set 'Date' column as index for comparison plotting\n",
    "df1.index = df1.Date\n",
    "df1.drop('Date', axis=1, inplace=True)"
   ]
  },
  {
   "cell_type": "code",
   "execution_count": 37,
   "metadata": {},
   "outputs": [
    {
     "data": {
      "image/png": "[encoded data removed]",
      "text/plain": [
       "<Figure size 1000x500 with 1 Axes>"
      ]
     },
     "metadata": {},
     "output_type": "display_data"
    }
   ],
   "source": [
    "# Plot Price\n",
    "plt.figure(figsize=(10,5))\n",
    "plt.plot(df1['Price'], label='Actual price', color='lightblue')\n",
    "\n",
    "# plt.title('HPG stock market')\n",
    "plt.xlabel('Year')\n",
    "plt.ylabel('Price')\n",
    "plt.legend()\n",
    "plt.show()"
   ]
  },
  {
   "cell_type": "code",
   "execution_count": 39,
   "metadata": {},
   "outputs": [
    {
     "data": {
      "text/plain": [
       "Text(0.5, 1.0, 'Boxplot of HPG')"
      ]
     },
     "execution_count": 39,
     "metadata": {},
     "output_type": "execute_result"
    },
    {
     "data": {
      "image/png": "[encoded data removed]",
      "text/plain": [
       "<Figure size 640x480 with 1 Axes>"
      ]
     },
     "metadata": {},
     "output_type": "display_data"
    }
   ],
   "source": [
    "# Boxplot\n",
    "plt.subplot(1, 2, 1)\n",
    "sns.boxplot(df1['Price'], color='lightblue', fliersize=5)\n",
    "plt.title('Boxplot of HPG')"
   ]
  },
  {
   "cell_type": "code",
   "execution_count": 44,
   "metadata": {},
   "outputs": [
    {
     "data": {
      "text/plain": [
       "Text(0, 0.5, 'Frequency')"
      ]
     },
     "execution_count": 44,
     "metadata": {},
     "output_type": "execute_result"
    },
    {
     "data": {
      "image/png": "[encoded data removed]",
      "text/plain": [
       "<Figure size 640x480 with 1 Axes>"
      ]
     },
     "metadata": {},
     "output_type": "display_data"
    }
   ],
   "source": [
    "    # Histogram\n",
    "    plt.subplot(1, 2, 2)\n",
    "    sns.histplot(df1['Price'], bins=15, kde=True, color='lightblue', edgecolor='black')\n",
    "    plt.title('Histogram of HPG')\n",
    "    plt.xlabel('HPG')\n",
    "    plt.ylabel('Frequency')"
   ]
  }
 ],
 "metadata": {
  "kernelspec": {
   "display_name": "Python 3",
   "language": "python",
   "name": "python3"
  },
  "language_info": {
   "codemirror_mode": {
    "name": "ipython",
    "version": 3
   },
   "file_extension": ".py",
   "mimetype": "text/x-python",
   "name": "python",
   "nbconvert_exporter": "python",
   "pygments_lexer": "ipython3",
   "version": "3.12.1"
  }
 },
 "nbformat": 4,
 "nbformat_minor": 2
}
