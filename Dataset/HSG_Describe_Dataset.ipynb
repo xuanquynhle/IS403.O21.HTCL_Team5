{
 "cells": [
  {
   "cell_type": "markdown",
   "metadata": {},
   "source": [
    "# Descriptive Statistics \n",
    "\n",
    "Dataset: Hoa Sen Group Joint Stock Company"
   ]
  },
  {
   "cell_type": "markdown",
   "metadata": {},
   "source": [
    "### Step 1. Import modules"
   ]
  },
  {
   "cell_type": "code",
   "execution_count": 1,
   "metadata": {},
   "outputs": [],
   "source": [
    "import numpy as np\n",
    "import pandas as pd\n",
    "import math\n",
    "import statistics as st\n",
    "import matplotlib.pyplot as plt \n",
    "import seaborn as sns\n",
    "from scipy.stats import skew\n",
    "from scipy.stats import kurtosis"
   ]
  },
  {
   "cell_type": "markdown",
   "metadata": {},
   "source": [
    "### Step 2. Read the dataset"
   ]
  },
  {
   "cell_type": "code",
   "execution_count": 2,
   "metadata": {},
   "outputs": [
    {
     "data": {
      "text/html": [
       "<div>\n",
       "<style scoped>\n",
       "    .dataframe tbody tr th:only-of-type {\n",
       "        vertical-align: middle;\n",
       "    }\n",
       "\n",
       "    .dataframe tbody tr th {\n",
       "        vertical-align: top;\n",
       "    }\n",
       "\n",
       "    .dataframe thead th {\n",
       "        text-align: right;\n",
       "    }\n",
       "</style>\n",
       "<table border=\"1\" class=\"dataframe\">\n",
       "  <thead>\n",
       "    <tr style=\"text-align: right;\">\n",
       "      <th></th>\n",
       "      <th>Date</th>\n",
       "      <th>Price</th>\n",
       "      <th>Open</th>\n",
       "      <th>High</th>\n",
       "      <th>Low</th>\n",
       "      <th>Vol.</th>\n",
       "      <th>Change %</th>\n",
       "    </tr>\n",
       "  </thead>\n",
       "  <tbody>\n",
       "    <tr>\n",
       "      <th>0</th>\n",
       "      <td>03/01/2024</td>\n",
       "      <td>23.050</td>\n",
       "      <td>22.700</td>\n",
       "      <td>23.100</td>\n",
       "      <td>22.650</td>\n",
       "      <td>9.53M</td>\n",
       "      <td>1,32%</td>\n",
       "    </tr>\n",
       "    <tr>\n",
       "      <th>1</th>\n",
       "      <td>02/29/2024</td>\n",
       "      <td>22.750</td>\n",
       "      <td>22.950</td>\n",
       "      <td>23.100</td>\n",
       "      <td>22.600</td>\n",
       "      <td>9.69M</td>\n",
       "      <td>-0,66%</td>\n",
       "    </tr>\n",
       "    <tr>\n",
       "      <th>2</th>\n",
       "      <td>02/28/2024</td>\n",
       "      <td>22.900</td>\n",
       "      <td>23.000</td>\n",
       "      <td>23.150</td>\n",
       "      <td>22.700</td>\n",
       "      <td>8.26M</td>\n",
       "      <td>0,22%</td>\n",
       "    </tr>\n",
       "    <tr>\n",
       "      <th>3</th>\n",
       "      <td>02/27/2024</td>\n",
       "      <td>22.850</td>\n",
       "      <td>22.550</td>\n",
       "      <td>23.300</td>\n",
       "      <td>22.500</td>\n",
       "      <td>16.21M</td>\n",
       "      <td>1,78%</td>\n",
       "    </tr>\n",
       "    <tr>\n",
       "      <th>4</th>\n",
       "      <td>02/26/2024</td>\n",
       "      <td>22.450</td>\n",
       "      <td>22.150</td>\n",
       "      <td>22.500</td>\n",
       "      <td>22.100</td>\n",
       "      <td>8.02M</td>\n",
       "      <td>0,45%</td>\n",
       "    </tr>\n",
       "    <tr>\n",
       "      <th>...</th>\n",
       "      <td>...</td>\n",
       "      <td>...</td>\n",
       "      <td>...</td>\n",
       "      <td>...</td>\n",
       "      <td>...</td>\n",
       "      <td>...</td>\n",
       "      <td>...</td>\n",
       "    </tr>\n",
       "    <tr>\n",
       "      <th>1247</th>\n",
       "      <td>03/07/2019</td>\n",
       "      <td>6.034</td>\n",
       "      <td>6.238</td>\n",
       "      <td>6.277</td>\n",
       "      <td>6.034</td>\n",
       "      <td>9.73M</td>\n",
       "      <td>-3,87%</td>\n",
       "    </tr>\n",
       "    <tr>\n",
       "      <th>1248</th>\n",
       "      <td>03/06/2019</td>\n",
       "      <td>6.277</td>\n",
       "      <td>6.474</td>\n",
       "      <td>6.559</td>\n",
       "      <td>6.107</td>\n",
       "      <td>15.89M</td>\n",
       "      <td>-3,43%</td>\n",
       "    </tr>\n",
       "    <tr>\n",
       "      <th>1249</th>\n",
       "      <td>03/05/2019</td>\n",
       "      <td>6.500</td>\n",
       "      <td>6.559</td>\n",
       "      <td>6.822</td>\n",
       "      <td>6.402</td>\n",
       "      <td>16.02M</td>\n",
       "      <td>-0,40%</td>\n",
       "    </tr>\n",
       "    <tr>\n",
       "      <th>1250</th>\n",
       "      <td>03/04/2019</td>\n",
       "      <td>6.526</td>\n",
       "      <td>6.421</td>\n",
       "      <td>6.526</td>\n",
       "      <td>6.231</td>\n",
       "      <td>14.78M</td>\n",
       "      <td>6,99%</td>\n",
       "    </tr>\n",
       "    <tr>\n",
       "      <th>1251</th>\n",
       "      <td>03/01/2019</td>\n",
       "      <td>6.100</td>\n",
       "      <td>5.897</td>\n",
       "      <td>6.100</td>\n",
       "      <td>5.772</td>\n",
       "      <td>11.57M</td>\n",
       "      <td>6,77%</td>\n",
       "    </tr>\n",
       "  </tbody>\n",
       "</table>\n",
       "<p>1252 rows × 7 columns</p>\n",
       "</div>"
      ],
      "text/plain": [
       "            Date   Price    Open    High     Low    Vol. Change %\n",
       "0     03/01/2024  23.050  22.700  23.100  22.650   9.53M    1,32%\n",
       "1     02/29/2024  22.750  22.950  23.100  22.600   9.69M   -0,66%\n",
       "2     02/28/2024  22.900  23.000  23.150  22.700   8.26M    0,22%\n",
       "3     02/27/2024  22.850  22.550  23.300  22.500  16.21M    1,78%\n",
       "4     02/26/2024  22.450  22.150  22.500  22.100   8.02M    0,45%\n",
       "...          ...     ...     ...     ...     ...     ...      ...\n",
       "1247  03/07/2019   6.034   6.238   6.277   6.034   9.73M   -3,87%\n",
       "1248  03/06/2019   6.277   6.474   6.559   6.107  15.89M   -3,43%\n",
       "1249  03/05/2019   6.500   6.559   6.822   6.402  16.02M   -0,40%\n",
       "1250  03/04/2019   6.526   6.421   6.526   6.231  14.78M    6,99%\n",
       "1251  03/01/2019   6.100   5.897   6.100   5.772  11.57M    6,77%\n",
       "\n",
       "[1252 rows x 7 columns]"
      ]
     },
     "execution_count": 2,
     "metadata": {},
     "output_type": "execute_result"
    }
   ],
   "source": [
    "df = pd.read_csv('HSG Historical Data.csv',delimiter=\";\")\n",
    "df\n"
   ]
  },
  {
   "cell_type": "markdown",
   "metadata": {},
   "source": [
    "### Step 3. Data Preprocessing"
   ]
  },
  {
   "cell_type": "code",
   "execution_count": 3,
   "metadata": {},
   "outputs": [],
   "source": [
    "# Convert the data types\n",
    "df['Date'] = pd.to_datetime(df['Date'])\n"
   ]
  },
  {
   "cell_type": "code",
   "execution_count": 4,
   "metadata": {},
   "outputs": [
    {
     "data": {
      "text/plain": [
       "(1252, 7)"
      ]
     },
     "execution_count": 4,
     "metadata": {},
     "output_type": "execute_result"
    }
   ],
   "source": [
    "# Data size\n",
    "df.shape"
   ]
  },
  {
   "cell_type": "code",
   "execution_count": 5,
   "metadata": {},
   "outputs": [
    {
     "name": "stdout",
     "output_type": "stream",
     "text": [
      "<class 'pandas.core.frame.DataFrame'>\n",
      "RangeIndex: 1252 entries, 0 to 1251\n",
      "Data columns (total 7 columns):\n",
      " #   Column    Non-Null Count  Dtype         \n",
      "---  ------    --------------  -----         \n",
      " 0   Date      1252 non-null   datetime64[ns]\n",
      " 1   Price     1252 non-null   float64       \n",
      " 2   Open      1252 non-null   float64       \n",
      " 3   High      1252 non-null   float64       \n",
      " 4   Low       1252 non-null   float64       \n",
      " 5   Vol.      1252 non-null   object        \n",
      " 6   Change %  1252 non-null   object        \n",
      "dtypes: datetime64[ns](1), float64(4), object(2)\n",
      "memory usage: 68.6+ KB\n"
     ]
    }
   ],
   "source": [
    "# Determine the data types\n",
    "df.info()"
   ]
  },
  {
   "cell_type": "markdown",
   "metadata": {},
   "source": [
    "### Step 4. Descriptive Statistics"
   ]
  },
  {
   "cell_type": "code",
   "execution_count": 6,
   "metadata": {},
   "outputs": [
    {
     "data": {
      "text/html": [
       "<div>\n",
       "<style scoped>\n",
       "    .dataframe tbody tr th:only-of-type {\n",
       "        vertical-align: middle;\n",
       "    }\n",
       "\n",
       "    .dataframe tbody tr th {\n",
       "        vertical-align: top;\n",
       "    }\n",
       "\n",
       "    .dataframe thead th {\n",
       "        text-align: right;\n",
       "    }\n",
       "</style>\n",
       "<table border=\"1\" class=\"dataframe\">\n",
       "  <thead>\n",
       "    <tr style=\"text-align: right;\">\n",
       "      <th></th>\n",
       "      <th>Date</th>\n",
       "      <th>Price</th>\n",
       "      <th>Open</th>\n",
       "      <th>High</th>\n",
       "      <th>Low</th>\n",
       "    </tr>\n",
       "  </thead>\n",
       "  <tbody>\n",
       "    <tr>\n",
       "      <th>count</th>\n",
       "      <td>1252</td>\n",
       "      <td>1252.000000</td>\n",
       "      <td>1252.000000</td>\n",
       "      <td>1252.000000</td>\n",
       "      <td>1252.000000</td>\n",
       "    </tr>\n",
       "    <tr>\n",
       "      <th>mean</th>\n",
       "      <td>2021-08-29 00:41:24.345047808</td>\n",
       "      <td>16.657403</td>\n",
       "      <td>16.674879</td>\n",
       "      <td>17.010263</td>\n",
       "      <td>16.355569</td>\n",
       "    </tr>\n",
       "    <tr>\n",
       "      <th>min</th>\n",
       "      <td>2019-03-01 00:00:00</td>\n",
       "      <td>3.283000</td>\n",
       "      <td>3.247000</td>\n",
       "      <td>3.463000</td>\n",
       "      <td>3.146000</td>\n",
       "    </tr>\n",
       "    <tr>\n",
       "      <th>25%</th>\n",
       "      <td>2020-06-01 18:00:00</td>\n",
       "      <td>7.480750</td>\n",
       "      <td>7.454500</td>\n",
       "      <td>7.679750</td>\n",
       "      <td>7.321750</td>\n",
       "    </tr>\n",
       "    <tr>\n",
       "      <th>50%</th>\n",
       "      <td>2021-08-26 12:00:00</td>\n",
       "      <td>15.816500</td>\n",
       "      <td>15.800000</td>\n",
       "      <td>16.175000</td>\n",
       "      <td>15.575000</td>\n",
       "    </tr>\n",
       "    <tr>\n",
       "      <th>75%</th>\n",
       "      <td>2022-11-25 18:00:00</td>\n",
       "      <td>22.058750</td>\n",
       "      <td>22.105250</td>\n",
       "      <td>22.509500</td>\n",
       "      <td>21.751500</td>\n",
       "    </tr>\n",
       "    <tr>\n",
       "      <th>max</th>\n",
       "      <td>2024-03-01 00:00:00</td>\n",
       "      <td>41.542000</td>\n",
       "      <td>41.750000</td>\n",
       "      <td>42.750000</td>\n",
       "      <td>41.333000</td>\n",
       "    </tr>\n",
       "    <tr>\n",
       "      <th>std</th>\n",
       "      <td>NaN</td>\n",
       "      <td>9.686461</td>\n",
       "      <td>9.711035</td>\n",
       "      <td>9.876106</td>\n",
       "      <td>9.534181</td>\n",
       "    </tr>\n",
       "  </tbody>\n",
       "</table>\n",
       "</div>"
      ],
      "text/plain": [
       "                                Date        Price         Open         High  \\\n",
       "count                           1252  1252.000000  1252.000000  1252.000000   \n",
       "mean   2021-08-29 00:41:24.345047808    16.657403    16.674879    17.010263   \n",
       "min              2019-03-01 00:00:00     3.283000     3.247000     3.463000   \n",
       "25%              2020-06-01 18:00:00     7.480750     7.454500     7.679750   \n",
       "50%              2021-08-26 12:00:00    15.816500    15.800000    16.175000   \n",
       "75%              2022-11-25 18:00:00    22.058750    22.105250    22.509500   \n",
       "max              2024-03-01 00:00:00    41.542000    41.750000    42.750000   \n",
       "std                              NaN     9.686461     9.711035     9.876106   \n",
       "\n",
       "               Low  \n",
       "count  1252.000000  \n",
       "mean     16.355569  \n",
       "min       3.146000  \n",
       "25%       7.321750  \n",
       "50%      15.575000  \n",
       "75%      21.751500  \n",
       "max      41.333000  \n",
       "std       9.534181  "
      ]
     },
     "execution_count": 6,
     "metadata": {},
     "output_type": "execute_result"
    }
   ],
   "source": [
    "# Describe the dataset\n",
    "df.describe()"
   ]
  },
  {
   "cell_type": "code",
   "execution_count": 7,
   "metadata": {},
   "outputs": [
    {
     "data": {
      "text/plain": [
       "count    1252.000000\n",
       "mean       16.657403\n",
       "std         9.686461\n",
       "min         3.283000\n",
       "25%         7.480750\n",
       "50%        15.816500\n",
       "75%        22.058750\n",
       "max        41.542000\n",
       "Name: Price, dtype: float64"
      ]
     },
     "execution_count": 7,
     "metadata": {},
     "output_type": "execute_result"
    }
   ],
   "source": [
    "# Describe the 'Price' attribute\n",
    "df['Price'].describe()"
   ]
  },
  {
   "cell_type": "code",
   "execution_count": 11,
   "metadata": {},
   "outputs": [
    {
     "name": "stdout",
     "output_type": "stream",
     "text": [
      "Mode:  15.5\n",
      "Variance:  93.82752203286317\n",
      "Median:  15.816500000000001\n",
      "Coefficient of Deviation:  0.5815108764012709\n",
      "Skewness:  0.5986074255064947\n",
      "Kurtosis:  -0.5308716125748147\n",
      "Range:  38.259\n"
     ]
    }
   ],
   "source": [
    "# Mode\n",
    "mode = st.mode(df['Price'])\n",
    "print(\"Mode: \", mode)\n",
    "\n",
    "# Variance\n",
    "var = st.variance(df['Price'])\n",
    "print(\"Variance: \", var)\n",
    "\n",
    "# Median\n",
    "median = st.median(df['Price'])\n",
    "print(\"Median: \", median)\n",
    "\n",
    "# Coefficient of Deviation\n",
    "cv = st.stdev(df['Price']) / st.mean(df['Price'])\n",
    "print(\"Coefficient of Deviation: \", cv)\n",
    "\n",
    "# Skewness\n",
    "skew = skew(df['Price'])\n",
    "print(\"Skewness: \", skew)\n",
    "\n",
    "# Kurtosis\n",
    "kurtosis = kurtosis(df['Price'])\n",
    "print(\"Kurtosis: \", kurtosis)\n",
    "\n",
    "# Range\n",
    "range = max(df['Price']) - min(df['Price'])\n",
    "print(\"Range: \", range)"
   ]
  },
  {
   "cell_type": "markdown",
   "metadata": {},
   "source": [
    "### Step 5. Visualization"
   ]
  },
  {
   "cell_type": "code",
   "execution_count": 4,
   "metadata": {},
   "outputs": [],
   "source": [
    "# Get data\n",
    "df1 = pd.DataFrame(df, columns=['Date', 'Price'])\n",
    "\n",
    "# Set 'Date' column as index for comparison plotting\n",
    "df1.index = df1.Date\n",
    "df1.drop('Date', axis=1, inplace=True)"
   ]
  },
  {
   "cell_type": "code",
   "execution_count": 5,
   "metadata": {},
   "outputs": [
    {
     "data": {
      "image/png": "[encoded data removed]",
      "text/plain": [
       "<Figure size 1000x500 with 1 Axes>"
      ]
     },
     "metadata": {},
     "output_type": "display_data"
    }
   ],
   "source": [
    "# Plot Price\n",
    "plt.figure(figsize=(10,5))\n",
    "plt.plot(df1['Price'], label='Actual price', color='lightblue')\n",
    "\n",
    "# plt.title('HSG stock market')\n",
    "plt.xlabel('Year')\n",
    "plt.ylabel('Price')\n",
    "plt.legend()\n",
    "plt.show()"
   ]
  },
  {
   "cell_type": "code",
   "execution_count": 6,
   "metadata": {},
   "outputs": [
    {
     "data": {
      "text/plain": [
       "Text(0.5, 1.0, 'Boxplot of HSG')"
      ]
     },
     "execution_count": 6,
     "metadata": {},
     "output_type": "execute_result"
    },
    {
     "data": {
      "image/png": "[encoded data removed]",
      "text/plain": [
       "<Figure size 640x480 with 1 Axes>"
      ]
     },
     "metadata": {},
     "output_type": "display_data"
    }
   ],
   "source": [
    "# Boxplot\n",
    "plt.subplot(1, 2, 1)\n",
    "sns.boxplot(df1['Price'], color='lightblue', fliersize=5)\n",
    "plt.title('Boxplot of HSG')"
   ]
  },
  {
   "cell_type": "code",
   "execution_count": 7,
   "metadata": {},
   "outputs": [
    {
     "data": {
      "text/plain": [
       "Text(0, 0.5, 'Frequency')"
      ]
     },
     "execution_count": 7,
     "metadata": {},
     "output_type": "execute_result"
    },
    {
     "data": {
      "image/png": "[encoded data removed]",
      "text/plain": [
       "<Figure size 640x480 with 1 Axes>"
      ]
     },
     "metadata": {},
     "output_type": "display_data"
    }
   ],
   "source": [
    "    # Histogram\n",
    "    plt.subplot(1, 2, 2)\n",
    "    sns.histplot(df1['Price'], bins=15, kde=True, color='lightblue', edgecolor='black')\n",
    "    plt.title('Histogram of HSG')\n",
    "    plt.xlabel('HSG')\n",
    "    plt.ylabel('Frequency')"
   ]
  }
 ],
 "metadata": {
  "kernelspec": {
   "display_name": "Python 3",
   "language": "python",
   "name": "python3"
  },
  "language_info": {
   "codemirror_mode": {
    "name": "ipython",
    "version": 3
   },
   "file_extension": ".py",
   "mimetype": "text/x-python",
   "name": "python",
   "nbconvert_exporter": "python",
   "pygments_lexer": "ipython3",
   "version": "3.12.1"
  }
 },
 "nbformat": 4,
 "nbformat_minor": 2
}
