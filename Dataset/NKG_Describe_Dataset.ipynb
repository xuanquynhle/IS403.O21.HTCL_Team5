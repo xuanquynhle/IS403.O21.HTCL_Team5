{
 "cells": [
  {
   "cell_type": "markdown",
   "metadata": {},
   "source": [
    "# Descriptive Statistics \n",
    "\n",
    "Dataset: Nam Kim Steel Joint Stock Company"
   ]
  },
  {
   "cell_type": "markdown",
   "metadata": {},
   "source": [
    "### Step 1. Import modules"
   ]
  },
  {
   "cell_type": "code",
   "execution_count": 1,
   "metadata": {},
   "outputs": [],
   "source": [
    "import numpy as np\n",
    "import pandas as pd\n",
    "import math\n",
    "import statistics as st\n",
    "import matplotlib.pyplot as plt \n",
    "import seaborn as sns\n",
    "from scipy.stats import skew\n",
    "from scipy.stats import kurtosis"
   ]
  },
  {
   "cell_type": "markdown",
   "metadata": {},
   "source": [
    "### Step 2. Read the dataset"
   ]
  },
  {
   "cell_type": "code",
   "execution_count": 2,
   "metadata": {},
   "outputs": [
    {
     "data": {
      "text/html": [
       "<div>\n",
       "<style scoped>\n",
       "    .dataframe tbody tr th:only-of-type {\n",
       "        vertical-align: middle;\n",
       "    }\n",
       "\n",
       "    .dataframe tbody tr th {\n",
       "        vertical-align: top;\n",
       "    }\n",
       "\n",
       "    .dataframe thead th {\n",
       "        text-align: right;\n",
       "    }\n",
       "</style>\n",
       "<table border=\"1\" class=\"dataframe\">\n",
       "  <thead>\n",
       "    <tr style=\"text-align: right;\">\n",
       "      <th></th>\n",
       "      <th>Date</th>\n",
       "      <th>Price</th>\n",
       "      <th>Open</th>\n",
       "      <th>High</th>\n",
       "      <th>Low</th>\n",
       "      <th>Vol.</th>\n",
       "      <th>Change %</th>\n",
       "    </tr>\n",
       "  </thead>\n",
       "  <tbody>\n",
       "    <tr>\n",
       "      <th>0</th>\n",
       "      <td>03/01/2024</td>\n",
       "      <td>24.150</td>\n",
       "      <td>24.000</td>\n",
       "      <td>24.200</td>\n",
       "      <td>23.800</td>\n",
       "      <td>5.94M</td>\n",
       "      <td>0,84%</td>\n",
       "    </tr>\n",
       "    <tr>\n",
       "      <th>1</th>\n",
       "      <td>02/29/2024</td>\n",
       "      <td>23.950</td>\n",
       "      <td>24.250</td>\n",
       "      <td>24.250</td>\n",
       "      <td>23.800</td>\n",
       "      <td>8.67M</td>\n",
       "      <td>-0,83%</td>\n",
       "    </tr>\n",
       "    <tr>\n",
       "      <th>2</th>\n",
       "      <td>02/28/2024</td>\n",
       "      <td>24.150</td>\n",
       "      <td>24.100</td>\n",
       "      <td>24.300</td>\n",
       "      <td>23.900</td>\n",
       "      <td>6.53M</td>\n",
       "      <td>0,21%</td>\n",
       "    </tr>\n",
       "    <tr>\n",
       "      <th>3</th>\n",
       "      <td>02/27/2024</td>\n",
       "      <td>24.100</td>\n",
       "      <td>23.850</td>\n",
       "      <td>24.550</td>\n",
       "      <td>23.800</td>\n",
       "      <td>11.22M</td>\n",
       "      <td>1,69%</td>\n",
       "    </tr>\n",
       "    <tr>\n",
       "      <th>4</th>\n",
       "      <td>02/26/2024</td>\n",
       "      <td>23.700</td>\n",
       "      <td>23.350</td>\n",
       "      <td>23.850</td>\n",
       "      <td>23.250</td>\n",
       "      <td>7.55M</td>\n",
       "      <td>1,07%</td>\n",
       "    </tr>\n",
       "    <tr>\n",
       "      <th>...</th>\n",
       "      <td>...</td>\n",
       "      <td>...</td>\n",
       "      <td>...</td>\n",
       "      <td>...</td>\n",
       "      <td>...</td>\n",
       "      <td>...</td>\n",
       "      <td>...</td>\n",
       "    </tr>\n",
       "    <tr>\n",
       "      <th>1247</th>\n",
       "      <td>03/07/2019</td>\n",
       "      <td>4.935</td>\n",
       "      <td>5.217</td>\n",
       "      <td>5.217</td>\n",
       "      <td>4.935</td>\n",
       "      <td>1.29M</td>\n",
       "      <td>-3,59%</td>\n",
       "    </tr>\n",
       "    <tr>\n",
       "      <th>1248</th>\n",
       "      <td>03/06/2019</td>\n",
       "      <td>5.119</td>\n",
       "      <td>5.224</td>\n",
       "      <td>5.257</td>\n",
       "      <td>5.119</td>\n",
       "      <td>697.98K</td>\n",
       "      <td>-2,01%</td>\n",
       "    </tr>\n",
       "    <tr>\n",
       "      <th>1249</th>\n",
       "      <td>03/05/2019</td>\n",
       "      <td>5.224</td>\n",
       "      <td>5.329</td>\n",
       "      <td>5.388</td>\n",
       "      <td>5.224</td>\n",
       "      <td>2.48M</td>\n",
       "      <td>0,00%</td>\n",
       "    </tr>\n",
       "    <tr>\n",
       "      <th>1250</th>\n",
       "      <td>03/04/2019</td>\n",
       "      <td>5.224</td>\n",
       "      <td>5.257</td>\n",
       "      <td>5.289</td>\n",
       "      <td>5.125</td>\n",
       "      <td>1.92M</td>\n",
       "      <td>3,25%</td>\n",
       "    </tr>\n",
       "    <tr>\n",
       "      <th>1251</th>\n",
       "      <td>03/01/2019</td>\n",
       "      <td>5.059</td>\n",
       "      <td>5.046</td>\n",
       "      <td>5.125</td>\n",
       "      <td>5.040</td>\n",
       "      <td>767.69K</td>\n",
       "      <td>0,00%</td>\n",
       "    </tr>\n",
       "  </tbody>\n",
       "</table>\n",
       "<p>1252 rows × 7 columns</p>\n",
       "</div>"
      ],
      "text/plain": [
       "            Date   Price    Open    High     Low     Vol. Change %\n",
       "0     03/01/2024  24.150  24.000  24.200  23.800    5.94M    0,84%\n",
       "1     02/29/2024  23.950  24.250  24.250  23.800    8.67M   -0,83%\n",
       "2     02/28/2024  24.150  24.100  24.300  23.900    6.53M    0,21%\n",
       "3     02/27/2024  24.100  23.850  24.550  23.800   11.22M    1,69%\n",
       "4     02/26/2024  23.700  23.350  23.850  23.250    7.55M    1,07%\n",
       "...          ...     ...     ...     ...     ...      ...      ...\n",
       "1247  03/07/2019   4.935   5.217   5.217   4.935    1.29M   -3,59%\n",
       "1248  03/06/2019   5.119   5.224   5.257   5.119  697.98K   -2,01%\n",
       "1249  03/05/2019   5.224   5.329   5.388   5.224    2.48M    0,00%\n",
       "1250  03/04/2019   5.224   5.257   5.289   5.125    1.92M    3,25%\n",
       "1251  03/01/2019   5.059   5.046   5.125   5.040  767.69K    0,00%\n",
       "\n",
       "[1252 rows x 7 columns]"
      ]
     },
     "execution_count": 2,
     "metadata": {},
     "output_type": "execute_result"
    }
   ],
   "source": [
    "df = pd.read_csv('NKG Historical Data.csv',delimiter=\";\")\n",
    "df\n"
   ]
  },
  {
   "cell_type": "markdown",
   "metadata": {},
   "source": [
    "### Step 3. Data Preprocessing"
   ]
  },
  {
   "cell_type": "code",
   "execution_count": 3,
   "metadata": {},
   "outputs": [],
   "source": [
    "# Convert the data types\n",
    "df['Date'] = pd.to_datetime(df['Date'])"
   ]
  },
  {
   "cell_type": "code",
   "execution_count": 5,
   "metadata": {},
   "outputs": [
    {
     "data": {
      "text/plain": [
       "(1252, 7)"
      ]
     },
     "execution_count": 5,
     "metadata": {},
     "output_type": "execute_result"
    }
   ],
   "source": [
    "# Data size\n",
    "df.shape"
   ]
  },
  {
   "cell_type": "code",
   "execution_count": 4,
   "metadata": {},
   "outputs": [
    {
     "name": "stdout",
     "output_type": "stream",
     "text": [
      "<class 'pandas.core.frame.DataFrame'>\n",
      "RangeIndex: 1252 entries, 0 to 1251\n",
      "Data columns (total 7 columns):\n",
      " #   Column    Non-Null Count  Dtype         \n",
      "---  ------    --------------  -----         \n",
      " 0   Date      1252 non-null   datetime64[ns]\n",
      " 1   Price     1252 non-null   float64       \n",
      " 2   Open      1252 non-null   float64       \n",
      " 3   High      1252 non-null   float64       \n",
      " 4   Low       1252 non-null   float64       \n",
      " 5   Vol.      1252 non-null   object        \n",
      " 6   Change %  1252 non-null   object        \n",
      "dtypes: datetime64[ns](1), float64(4), object(2)\n",
      "memory usage: 68.6+ KB\n"
     ]
    }
   ],
   "source": [
    "# Determine the data types\n",
    "df.info()"
   ]
  },
  {
   "cell_type": "markdown",
   "metadata": {},
   "source": [
    "### Step 4. Descriptive Statistics"
   ]
  },
  {
   "cell_type": "code",
   "execution_count": 5,
   "metadata": {},
   "outputs": [
    {
     "data": {
      "text/html": [
       "<div>\n",
       "<style scoped>\n",
       "    .dataframe tbody tr th:only-of-type {\n",
       "        vertical-align: middle;\n",
       "    }\n",
       "\n",
       "    .dataframe tbody tr th {\n",
       "        vertical-align: top;\n",
       "    }\n",
       "\n",
       "    .dataframe thead th {\n",
       "        text-align: right;\n",
       "    }\n",
       "</style>\n",
       "<table border=\"1\" class=\"dataframe\">\n",
       "  <thead>\n",
       "    <tr style=\"text-align: right;\">\n",
       "      <th></th>\n",
       "      <th>Date</th>\n",
       "      <th>Price</th>\n",
       "      <th>Open</th>\n",
       "      <th>High</th>\n",
       "      <th>Low</th>\n",
       "    </tr>\n",
       "  </thead>\n",
       "  <tbody>\n",
       "    <tr>\n",
       "      <th>count</th>\n",
       "      <td>1252</td>\n",
       "      <td>1252.000000</td>\n",
       "      <td>1252.000000</td>\n",
       "      <td>1252.000000</td>\n",
       "      <td>1252.000000</td>\n",
       "    </tr>\n",
       "    <tr>\n",
       "      <th>mean</th>\n",
       "      <td>2021-08-29 00:41:24.345047808</td>\n",
       "      <td>15.568201</td>\n",
       "      <td>15.571432</td>\n",
       "      <td>15.905742</td>\n",
       "      <td>15.251147</td>\n",
       "    </tr>\n",
       "    <tr>\n",
       "      <th>min</th>\n",
       "      <td>2019-03-01 00:00:00</td>\n",
       "      <td>2.891000</td>\n",
       "      <td>2.878000</td>\n",
       "      <td>3.088000</td>\n",
       "      <td>2.878000</td>\n",
       "    </tr>\n",
       "    <tr>\n",
       "      <th>25%</th>\n",
       "      <td>2020-06-01 18:00:00</td>\n",
       "      <td>5.041250</td>\n",
       "      <td>5.041250</td>\n",
       "      <td>5.130250</td>\n",
       "      <td>4.959250</td>\n",
       "    </tr>\n",
       "    <tr>\n",
       "      <th>50%</th>\n",
       "      <td>2021-08-26 12:00:00</td>\n",
       "      <td>15.150000</td>\n",
       "      <td>15.175000</td>\n",
       "      <td>15.600000</td>\n",
       "      <td>14.890500</td>\n",
       "    </tr>\n",
       "    <tr>\n",
       "      <th>75%</th>\n",
       "      <td>2022-11-25 18:00:00</td>\n",
       "      <td>22.060750</td>\n",
       "      <td>22.121000</td>\n",
       "      <td>22.562500</td>\n",
       "      <td>21.526000</td>\n",
       "    </tr>\n",
       "    <tr>\n",
       "      <th>max</th>\n",
       "      <td>2024-03-01 00:00:00</td>\n",
       "      <td>44.966000</td>\n",
       "      <td>45.046000</td>\n",
       "      <td>45.449000</td>\n",
       "      <td>44.242000</td>\n",
       "    </tr>\n",
       "    <tr>\n",
       "      <th>std</th>\n",
       "      <td>NaN</td>\n",
       "      <td>10.441359</td>\n",
       "      <td>10.454089</td>\n",
       "      <td>10.675490</td>\n",
       "      <td>10.224088</td>\n",
       "    </tr>\n",
       "  </tbody>\n",
       "</table>\n",
       "</div>"
      ],
      "text/plain": [
       "                                Date        Price         Open         High  \\\n",
       "count                           1252  1252.000000  1252.000000  1252.000000   \n",
       "mean   2021-08-29 00:41:24.345047808    15.568201    15.571432    15.905742   \n",
       "min              2019-03-01 00:00:00     2.891000     2.878000     3.088000   \n",
       "25%              2020-06-01 18:00:00     5.041250     5.041250     5.130250   \n",
       "50%              2021-08-26 12:00:00    15.150000    15.175000    15.600000   \n",
       "75%              2022-11-25 18:00:00    22.060750    22.121000    22.562500   \n",
       "max              2024-03-01 00:00:00    44.966000    45.046000    45.449000   \n",
       "std                              NaN    10.441359    10.454089    10.675490   \n",
       "\n",
       "               Low  \n",
       "count  1252.000000  \n",
       "mean     15.251147  \n",
       "min       2.878000  \n",
       "25%       4.959250  \n",
       "50%      14.890500  \n",
       "75%      21.526000  \n",
       "max      44.242000  \n",
       "std      10.224088  "
      ]
     },
     "execution_count": 5,
     "metadata": {},
     "output_type": "execute_result"
    }
   ],
   "source": [
    "# Describe the dataset\n",
    "df.describe()"
   ]
  },
  {
   "cell_type": "code",
   "execution_count": 6,
   "metadata": {},
   "outputs": [
    {
     "data": {
      "text/plain": [
       "count    1252.000000\n",
       "mean       15.568201\n",
       "std        10.441359\n",
       "min         2.891000\n",
       "25%         5.041250\n",
       "50%        15.150000\n",
       "75%        22.060750\n",
       "max        44.966000\n",
       "Name: Price, dtype: float64"
      ]
     },
     "execution_count": 6,
     "metadata": {},
     "output_type": "execute_result"
    }
   ],
   "source": [
    "# Describe the 'Price' attribute\n",
    "df['Price'].describe()"
   ]
  },
  {
   "cell_type": "code",
   "execution_count": 7,
   "metadata": {},
   "outputs": [
    {
     "name": "stdout",
     "output_type": "stream",
     "text": [
      "Mode:  4.008\n",
      "Variance:  109.02197844546599\n",
      "Median:  15.15\n",
      "Coefficient of Deviation:  0.6706849973272198\n",
      "Skewness:  0.6459956910427457\n",
      "Kurtosis:  -0.3676715255991092\n",
      "Range:  42.075\n"
     ]
    }
   ],
   "source": [
    "# Mode\n",
    "mode = st.mode(df['Price'])\n",
    "print(\"Mode: \", mode)\n",
    "\n",
    "# Variance\n",
    "var = st.variance(df['Price'])\n",
    "print(\"Variance: \", var)\n",
    "\n",
    "# Median\n",
    "median = st.median(df['Price'])\n",
    "print(\"Median: \", median)\n",
    "\n",
    "# Coefficient of Deviation\n",
    "cv = st.stdev(df['Price']) / st.mean(df['Price'])\n",
    "print(\"Coefficient of Deviation: \", cv)\n",
    "\n",
    "# Skewness\n",
    "skew = skew(df['Price'])\n",
    "print(\"Skewness: \", skew)\n",
    "\n",
    "# Kurtosis\n",
    "kurtosis = kurtosis(df['Price'])\n",
    "print(\"Kurtosis: \", kurtosis)\n",
    "\n",
    "# Range\n",
    "range = max(df['Price']) - min(df['Price'])\n",
    "print(\"Range: \", range)"
   ]
  },
  {
   "cell_type": "markdown",
   "metadata": {},
   "source": [
    "### Step 5. Visualization"
   ]
  },
  {
   "cell_type": "code",
   "execution_count": 8,
   "metadata": {},
   "outputs": [],
   "source": [
    "# Get data\n",
    "df1 = pd.DataFrame(df, columns=['Date', 'Price'])\n",
    "\n",
    "# Set 'Date' column as index for comparison plotting\n",
    "df1.index = df1.Date\n",
    "df1.drop('Date', axis=1, inplace=True)"
   ]
  },
  {
   "cell_type": "code",
   "execution_count": 13,
   "metadata": {},
   "outputs": [
    {
     "data": {
      "image/png": "[encoded data removed]",
      "text/plain": [
       "<Figure size 1000x500 with 1 Axes>"
      ]
     },
     "metadata": {},
     "output_type": "display_data"
    }
   ],
   "source": [
    "# Plot Price\n",
    "plt.figure(figsize=(10,5))\n",
    "plt.plot(df1['Price'], label='Actual price', color='lightblue')\n",
    "\n",
    "# plt.title('NKG stock market')\n",
    "plt.xlabel('Year')\n",
    "plt.ylabel('Price')\n",
    "plt.legend()\n",
    "plt.show()"
   ]
  },
  {
   "cell_type": "code",
   "execution_count": 12,
   "metadata": {},
   "outputs": [
    {
     "data": {
      "text/plain": [
       "Text(0.5, 1.0, 'Boxplot of NKG')"
      ]
     },
     "execution_count": 12,
     "metadata": {},
     "output_type": "execute_result"
    },
    {
     "data": {
      "image/png": "[encoded data removed]",
      "text/plain": [
       "<Figure size 640x480 with 1 Axes>"
      ]
     },
     "metadata": {},
     "output_type": "display_data"
    }
   ],
   "source": [
    "# Boxplot\n",
    "plt.subplot(1, 2, 1)\n",
    "sns.boxplot(df1['Price'], color='lightblue', fliersize=5)\n",
    "plt.title('Boxplot of NKG')"
   ]
  },
  {
   "cell_type": "code",
   "execution_count": 14,
   "metadata": {},
   "outputs": [
    {
     "data": {
      "text/plain": [
       "Text(0, 0.5, 'Frequency')"
      ]
     },
     "execution_count": 14,
     "metadata": {},
     "output_type": "execute_result"
    },
    {
     "data": {
      "image/png": "[encoded data removed]",
      "text/plain": [
       "<Figure size 640x480 with 1 Axes>"
      ]
     },
     "metadata": {},
     "output_type": "display_data"
    }
   ],
   "source": [
    "    # Histogram\n",
    "    plt.subplot(1, 2, 2)\n",
    "    sns.histplot(df1['Price'], bins=15, kde=True, color='lightblue', edgecolor='black')\n",
    "    plt.title('Histogram of NKG')\n",
    "    plt.xlabel('NKG')\n",
    "    plt.ylabel('Frequency')"
   ]
  }
 ],
 "metadata": {
  "kernelspec": {
   "display_name": "Python 3",
   "language": "python",
   "name": "python3"
  },
  "language_info": {
   "codemirror_mode": {
    "name": "ipython",
    "version": 3
   },
   "file_extension": ".py",
   "mimetype": "text/x-python",
   "name": "python",
   "nbconvert_exporter": "python",
   "pygments_lexer": "ipython3",
   "version": "3.12.1"
  }
 },
 "nbformat": 4,
 "nbformat_minor": 2
}
