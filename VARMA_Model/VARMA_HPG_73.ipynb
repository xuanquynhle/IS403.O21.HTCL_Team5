{
  "cells": [
    {
      "cell_type": "code",
      "execution_count": 103,
      "metadata": {
        "id": "G3aFDlMWi44W"
      },
      "outputs": [],
      "source": [
        "import pandas as pd\n",
        "import matplotlib.pyplot as plt\n",
        "import seaborn as sns\n",
        "import statsmodels.api as sm\n",
        "from statsmodels.tsa.stattools import adfuller\n",
        "from statsmodels.tsa.vector_ar.var_model import VAR\n",
        "from statsmodels.tsa.statespace.varmax import VARMAX\n",
        "import math\n",
        "from itertools import product\n",
        "import numpy as np"
      ]
    },
    {
      "cell_type": "code",
      "execution_count": 104,
      "metadata": {
        "colab": {
          "base_uri": "https://localhost:8080/"
        },
        "id": "lbU1WxddjDAA",
        "outputId": "134d99f5-7a6e-4366-fb20-fb448cba1b1b"
      },
      "outputs": [
        {
          "name": "stdout",
          "output_type": "stream",
          "text": [
            "               Price      Open      High       Low    Vol. Change %\n",
            "Date                                                               \n",
            "2019-03-01  12,053.9  11,825.1  12,053.9  11,825.1  12.62M    1.93%\n",
            "2019-03-04  12,441.0  12,229.8  12,441.0  12,212.2  13.74M    3.21%\n",
            "2019-03-05  12,335.4  12,353.0  12,529.0  12,300.2  15.62M   -0.85%\n",
            "2019-03-06  12,317.8  12,317.8  12,388.2  12,106.6   9.24M   -0.14%\n",
            "2019-03-07  12,001.1  12,317.8  12,335.4  12,001.1  12.47M   -2.57%\n"
          ]
        }
      ],
      "source": [
        "df = pd.read_csv(\"/content/HPG-Historical-Data.csv\", parse_dates=['Date'], index_col='Date', sep=',')\n",
        "df = df.sort_index(ascending=True)\n",
        "print(df.head())"
      ]
    },
    {
      "cell_type": "code",
      "execution_count": 105,
      "metadata": {
        "colab": {
          "base_uri": "https://localhost:8080/"
        },
        "id": "PPUr7HbsjK-W",
        "outputId": "cdf95966-a640-41a3-99b0-8a96c2395759"
      },
      "outputs": [
        {
          "name": "stdout",
          "output_type": "stream",
          "text": [
            "Price       object\n",
            "Open        object\n",
            "High        object\n",
            "Low         object\n",
            "Vol.        object\n",
            "Change %    object\n",
            "dtype: object\n"
          ]
        }
      ],
      "source": [
        "print(df.dtypes)"
      ]
    },
    {
      "cell_type": "code",
      "execution_count": 106,
      "metadata": {
        "colab": {
          "base_uri": "https://localhost:8080/",
          "height": 363
        },
        "id": "L8LVy5ZZjNDM",
        "outputId": "db369e4c-f75d-4692-9460-11846205d4af"
      },
      "outputs": [
        {
          "name": "stdout",
          "output_type": "stream",
          "text": [
            "Price       float64\n",
            "Open        float64\n",
            "High        float64\n",
            "Low         float64\n",
            "Vol.        float64\n",
            "Change %    float64\n",
            "dtype: object\n"
          ]
        },
        {
          "data": {
            "application/vnd.google.colaboratory.intrinsic+json": {
              "summary": "{\n  \"name\": \"df\",\n  \"rows\": 1313,\n  \"fields\": [\n    {\n      \"column\": \"Date\",\n      \"properties\": {\n        \"dtype\": \"date\",\n        \"min\": \"2019-03-01 00:00:00\",\n        \"max\": \"2024-05-31 00:00:00\",\n        \"num_unique_values\": 1313,\n        \"samples\": [\n          \"2019-05-17 00:00:00\",\n          \"2020-10-09 00:00:00\",\n          \"2022-01-12 00:00:00\"\n        ],\n        \"semantic_type\": \"\",\n        \"description\": \"\"\n      }\n    },\n    {\n      \"column\": \"Price\",\n      \"properties\": {\n        \"dtype\": \"number\",\n        \"std\": 9430.824724158083,\n        \"min\": 7411.8,\n        \"max\": 43895.8,\n        \"num_unique_values\": 746,\n        \"samples\": [\n          14718.4,\n          21938.3,\n          10820.3\n        ],\n        \"semantic_type\": \"\",\n        \"description\": \"\"\n      }\n    },\n    {\n      \"column\": \"Open\",\n      \"properties\": {\n        \"dtype\": \"number\",\n        \"std\": 9457.093548256975,\n        \"min\": 7000.0,\n        \"max\": 43895.8,\n        \"num_unique_values\": 720,\n        \"samples\": [\n          41246.9,\n          25562.1,\n          10339.9\n        ],\n        \"semantic_type\": \"\",\n        \"description\": \"\"\n      }\n    },\n    {\n      \"column\": \"High\",\n      \"properties\": {\n        \"dtype\": \"number\",\n        \"std\": 9566.679793498517,\n        \"min\": 7640.6,\n        \"max\": 44198.5,\n        \"num_unique_values\": 725,\n        \"samples\": [\n          37520.8,\n          22091.0,\n          15818.0\n        ],\n        \"semantic_type\": \"\",\n        \"description\": \"\"\n      }\n    },\n    {\n      \"column\": \"Low\",\n      \"properties\": {\n        \"dtype\": \"number\",\n        \"std\": 9332.295554527615,\n        \"min\": 6977.2,\n        \"max\": 43517.4,\n        \"num_unique_values\": 739,\n        \"samples\": [\n          10545.8,\n          11804.0,\n          10568.7\n        ],\n        \"semantic_type\": \"\",\n        \"description\": \"\"\n      }\n    },\n    {\n      \"column\": \"Vol.\",\n      \"properties\": {\n        \"dtype\": \"number\",\n        \"std\": 14967326.228857616,\n        \"min\": 3320000.0,\n        \"max\": 109620000.0,\n        \"num_unique_values\": 1155,\n        \"samples\": [\n          14390000.0,\n          23250000.0,\n          10090000.0\n        ],\n        \"semantic_type\": \"\",\n        \"description\": \"\"\n      }\n    },\n    {\n      \"column\": \"Change %\",\n      \"properties\": {\n        \"dtype\": \"number\",\n        \"std\": 0.02232958157776034,\n        \"min\": -0.07,\n        \"max\": 0.0694,\n        \"num_unique_values\": 624,\n        \"samples\": [\n          -0.0696,\n          0.018600000000000002,\n          0.0315\n        ],\n        \"semantic_type\": \"\",\n        \"description\": \"\"\n      }\n    }\n  ]\n}",
              "type": "dataframe",
              "variable_name": "df"
            },
            "text/html": [
              "\n",
              "  <div id=\"df-a4b3694f-edc8-484c-91f2-85c4c07f0a45\" class=\"colab-df-container\">\n",
              "    <div>\n",
              "<style scoped>\n",
              "    .dataframe tbody tr th:only-of-type {\n",
              "        vertical-align: middle;\n",
              "    }\n",
              "\n",
              "    .dataframe tbody tr th {\n",
              "        vertical-align: top;\n",
              "    }\n",
              "\n",
              "    .dataframe thead th {\n",
              "        text-align: right;\n",
              "    }\n",
              "</style>\n",
              "<table border=\"1\" class=\"dataframe\">\n",
              "  <thead>\n",
              "    <tr style=\"text-align: right;\">\n",
              "      <th></th>\n",
              "      <th>Price</th>\n",
              "      <th>Open</th>\n",
              "      <th>High</th>\n",
              "      <th>Low</th>\n",
              "      <th>Vol.</th>\n",
              "      <th>Change %</th>\n",
              "    </tr>\n",
              "    <tr>\n",
              "      <th>Date</th>\n",
              "      <th></th>\n",
              "      <th></th>\n",
              "      <th></th>\n",
              "      <th></th>\n",
              "      <th></th>\n",
              "      <th></th>\n",
              "    </tr>\n",
              "  </thead>\n",
              "  <tbody>\n",
              "    <tr>\n",
              "      <th>2019-03-01</th>\n",
              "      <td>12053.9</td>\n",
              "      <td>11825.1</td>\n",
              "      <td>12053.9</td>\n",
              "      <td>11825.1</td>\n",
              "      <td>12620000.0</td>\n",
              "      <td>0.0193</td>\n",
              "    </tr>\n",
              "    <tr>\n",
              "      <th>2019-03-04</th>\n",
              "      <td>12441.0</td>\n",
              "      <td>12229.8</td>\n",
              "      <td>12441.0</td>\n",
              "      <td>12212.2</td>\n",
              "      <td>13740000.0</td>\n",
              "      <td>0.0321</td>\n",
              "    </tr>\n",
              "    <tr>\n",
              "      <th>2019-03-05</th>\n",
              "      <td>12335.4</td>\n",
              "      <td>12353.0</td>\n",
              "      <td>12529.0</td>\n",
              "      <td>12300.2</td>\n",
              "      <td>15620000.0</td>\n",
              "      <td>-0.0085</td>\n",
              "    </tr>\n",
              "    <tr>\n",
              "      <th>2019-03-06</th>\n",
              "      <td>12317.8</td>\n",
              "      <td>12317.8</td>\n",
              "      <td>12388.2</td>\n",
              "      <td>12106.6</td>\n",
              "      <td>9240000.0</td>\n",
              "      <td>-0.0014</td>\n",
              "    </tr>\n",
              "    <tr>\n",
              "      <th>2019-03-07</th>\n",
              "      <td>12001.1</td>\n",
              "      <td>12317.8</td>\n",
              "      <td>12335.4</td>\n",
              "      <td>12001.1</td>\n",
              "      <td>12470000.0</td>\n",
              "      <td>-0.0257</td>\n",
              "    </tr>\n",
              "  </tbody>\n",
              "</table>\n",
              "</div>\n",
              "    <div class=\"colab-df-buttons\">\n",
              "\n",
              "  <div class=\"colab-df-container\">\n",
              "    <button class=\"colab-df-convert\" onclick=\"convertToInteractive('df-a4b3694f-edc8-484c-91f2-85c4c07f0a45')\"\n",
              "            title=\"Convert this dataframe to an interactive table.\"\n",
              "            style=\"display:none;\">\n",
              "\n",
              "  <svg xmlns=\"http://www.w3.org/2000/svg\" height=\"24px\" viewBox=\"0 -960 960 960\">\n",
              "    <path d=\"M120-120v-720h720v720H120Zm60-500h600v-160H180v160Zm220 220h160v-160H400v160Zm0 220h160v-160H400v160ZM180-400h160v-160H180v160Zm440 0h160v-160H620v160ZM180-180h160v-160H180v160Zm440 0h160v-160H620v160Z\"/>\n",
              "  </svg>\n",
              "    </button>\n",
              "\n",
              "  <style>\n",
              "    .colab-df-container {\n",
              "      display:flex;\n",
              "      gap: 12px;\n",
              "    }\n",
              "\n",
              "    .colab-df-convert {\n",
              "      background-color: #E8F0FE;\n",
              "      border: none;\n",
              "      border-radius: 50%;\n",
              "      cursor: pointer;\n",
              "      display: none;\n",
              "      fill: #1967D2;\n",
              "      height: 32px;\n",
              "      padding: 0 0 0 0;\n",
              "      width: 32px;\n",
              "    }\n",
              "\n",
              "    .colab-df-convert:hover {\n",
              "      background-color: #E2EBFA;\n",
              "      box-shadow: 0px 1px 2px rgba(60, 64, 67, 0.3), 0px 1px 3px 1px rgba(60, 64, 67, 0.15);\n",
              "      fill: #174EA6;\n",
              "    }\n",
              "\n",
              "    .colab-df-buttons div {\n",
              "      margin-bottom: 4px;\n",
              "    }\n",
              "\n",
              "    [theme=dark] .colab-df-convert {\n",
              "      background-color: #3B4455;\n",
              "      fill: #D2E3FC;\n",
              "    }\n",
              "\n",
              "    [theme=dark] .colab-df-convert:hover {\n",
              "      background-color: #434B5C;\n",
              "      box-shadow: 0px 1px 3px 1px rgba(0, 0, 0, 0.15);\n",
              "      filter: drop-shadow(0px 1px 2px rgba(0, 0, 0, 0.3));\n",
              "      fill: #FFFFFF;\n",
              "    }\n",
              "  </style>\n",
              "\n",
              "    <script>\n",
              "      const buttonEl =\n",
              "        document.querySelector('#df-a4b3694f-edc8-484c-91f2-85c4c07f0a45 button.colab-df-convert');\n",
              "      buttonEl.style.display =\n",
              "        google.colab.kernel.accessAllowed ? 'block' : 'none';\n",
              "\n",
              "      async function convertToInteractive(key) {\n",
              "        const element = document.querySelector('#df-a4b3694f-edc8-484c-91f2-85c4c07f0a45');\n",
              "        const dataTable =\n",
              "          await google.colab.kernel.invokeFunction('convertToInteractive',\n",
              "                                                    [key], {});\n",
              "        if (!dataTable) return;\n",
              "\n",
              "        const docLinkHtml = 'Like what you see? Visit the ' +\n",
              "          '<a target=\"_blank\" href=https://colab.research.google.com/notebooks/data_table.ipynb>data table notebook</a>'\n",
              "          + ' to learn more about interactive tables.';\n",
              "        element.innerHTML = '';\n",
              "        dataTable['output_type'] = 'display_data';\n",
              "        await google.colab.output.renderOutput(dataTable, element);\n",
              "        const docLink = document.createElement('div');\n",
              "        docLink.innerHTML = docLinkHtml;\n",
              "        element.appendChild(docLink);\n",
              "      }\n",
              "    </script>\n",
              "  </div>\n",
              "\n",
              "\n",
              "<div id=\"df-9f133548-86fd-41d6-ba95-bf4a407f2c71\">\n",
              "  <button class=\"colab-df-quickchart\" onclick=\"quickchart('df-9f133548-86fd-41d6-ba95-bf4a407f2c71')\"\n",
              "            title=\"Suggest charts\"\n",
              "            style=\"display:none;\">\n",
              "\n",
              "<svg xmlns=\"http://www.w3.org/2000/svg\" height=\"24px\"viewBox=\"0 0 24 24\"\n",
              "     width=\"24px\">\n",
              "    <g>\n",
              "        <path d=\"M19 3H5c-1.1 0-2 .9-2 2v14c0 1.1.9 2 2 2h14c1.1 0 2-.9 2-2V5c0-1.1-.9-2-2-2zM9 17H7v-7h2v7zm4 0h-2V7h2v10zm4 0h-2v-4h2v4z\"/>\n",
              "    </g>\n",
              "</svg>\n",
              "  </button>\n",
              "\n",
              "<style>\n",
              "  .colab-df-quickchart {\n",
              "      --bg-color: #E8F0FE;\n",
              "      --fill-color: #1967D2;\n",
              "      --hover-bg-color: #E2EBFA;\n",
              "      --hover-fill-color: #174EA6;\n",
              "      --disabled-fill-color: #AAA;\n",
              "      --disabled-bg-color: #DDD;\n",
              "  }\n",
              "\n",
              "  [theme=dark] .colab-df-quickchart {\n",
              "      --bg-color: #3B4455;\n",
              "      --fill-color: #D2E3FC;\n",
              "      --hover-bg-color: #434B5C;\n",
              "      --hover-fill-color: #FFFFFF;\n",
              "      --disabled-bg-color: #3B4455;\n",
              "      --disabled-fill-color: #666;\n",
              "  }\n",
              "\n",
              "  .colab-df-quickchart {\n",
              "    background-color: var(--bg-color);\n",
              "    border: none;\n",
              "    border-radius: 50%;\n",
              "    cursor: pointer;\n",
              "    display: none;\n",
              "    fill: var(--fill-color);\n",
              "    height: 32px;\n",
              "    padding: 0;\n",
              "    width: 32px;\n",
              "  }\n",
              "\n",
              "  .colab-df-quickchart:hover {\n",
              "    background-color: var(--hover-bg-color);\n",
              "    box-shadow: 0 1px 2px rgba(60, 64, 67, 0.3), 0 1px 3px 1px rgba(60, 64, 67, 0.15);\n",
              "    fill: var(--button-hover-fill-color);\n",
              "  }\n",
              "\n",
              "  .colab-df-quickchart-complete:disabled,\n",
              "  .colab-df-quickchart-complete:disabled:hover {\n",
              "    background-color: var(--disabled-bg-color);\n",
              "    fill: var(--disabled-fill-color);\n",
              "    box-shadow: none;\n",
              "  }\n",
              "\n",
              "  .colab-df-spinner {\n",
              "    border: 2px solid var(--fill-color);\n",
              "    border-color: transparent;\n",
              "    border-bottom-color: var(--fill-color);\n",
              "    animation:\n",
              "      spin 1s steps(1) infinite;\n",
              "  }\n",
              "\n",
              "  @keyframes spin {\n",
              "    0% {\n",
              "      border-color: transparent;\n",
              "      border-bottom-color: var(--fill-color);\n",
              "      border-left-color: var(--fill-color);\n",
              "    }\n",
              "    20% {\n",
              "      border-color: transparent;\n",
              "      border-left-color: var(--fill-color);\n",
              "      border-top-color: var(--fill-color);\n",
              "    }\n",
              "    30% {\n",
              "      border-color: transparent;\n",
              "      border-left-color: var(--fill-color);\n",
              "      border-top-color: var(--fill-color);\n",
              "      border-right-color: var(--fill-color);\n",
              "    }\n",
              "    40% {\n",
              "      border-color: transparent;\n",
              "      border-right-color: var(--fill-color);\n",
              "      border-top-color: var(--fill-color);\n",
              "    }\n",
              "    60% {\n",
              "      border-color: transparent;\n",
              "      border-right-color: var(--fill-color);\n",
              "    }\n",
              "    80% {\n",
              "      border-color: transparent;\n",
              "      border-right-color: var(--fill-color);\n",
              "      border-bottom-color: var(--fill-color);\n",
              "    }\n",
              "    90% {\n",
              "      border-color: transparent;\n",
              "      border-bottom-color: var(--fill-color);\n",
              "    }\n",
              "  }\n",
              "</style>\n",
              "\n",
              "  <script>\n",
              "    async function quickchart(key) {\n",
              "      const quickchartButtonEl =\n",
              "        document.querySelector('#' + key + ' button');\n",
              "      quickchartButtonEl.disabled = true;  // To prevent multiple clicks.\n",
              "      quickchartButtonEl.classList.add('colab-df-spinner');\n",
              "      try {\n",
              "        const charts = await google.colab.kernel.invokeFunction(\n",
              "            'suggestCharts', [key], {});\n",
              "      } catch (error) {\n",
              "        console.error('Error during call to suggestCharts:', error);\n",
              "      }\n",
              "      quickchartButtonEl.classList.remove('colab-df-spinner');\n",
              "      quickchartButtonEl.classList.add('colab-df-quickchart-complete');\n",
              "    }\n",
              "    (() => {\n",
              "      let quickchartButtonEl =\n",
              "        document.querySelector('#df-9f133548-86fd-41d6-ba95-bf4a407f2c71 button');\n",
              "      quickchartButtonEl.style.display =\n",
              "        google.colab.kernel.accessAllowed ? 'block' : 'none';\n",
              "    })();\n",
              "  </script>\n",
              "</div>\n",
              "\n",
              "    </div>\n",
              "  </div>\n"
            ],
            "text/plain": [
              "              Price     Open     High      Low        Vol.  Change %\n",
              "Date                                                                \n",
              "2019-03-01  12053.9  11825.1  12053.9  11825.1  12620000.0    0.0193\n",
              "2019-03-04  12441.0  12229.8  12441.0  12212.2  13740000.0    0.0321\n",
              "2019-03-05  12335.4  12353.0  12529.0  12300.2  15620000.0   -0.0085\n",
              "2019-03-06  12317.8  12317.8  12388.2  12106.6   9240000.0   -0.0014\n",
              "2019-03-07  12001.1  12317.8  12335.4  12001.1  12470000.0   -0.0257"
            ]
          },
          "execution_count": 106,
          "metadata": {},
          "output_type": "execute_result"
        }
      ],
      "source": [
        "df['Vol.'] = df['Vol.'].apply(lambda x: float(x.replace('M', '').replace('K', '')) * (1e6 if 'M' in x else 1e3))\n",
        "\n",
        "df['Change %'] = df['Change %'].str.replace('%', '')\n",
        "df['Change %'] = df['Change %'].str.replace(',', '.').astype(float) / 100\n",
        "df['Price'] = df['Price'].str.replace(',', '').astype(float)\n",
        "df['High'] = df['High'].str.replace(',', '').astype(float)\n",
        "df['Open'] = df['Open'].str.replace(',', '').astype(float)\n",
        "df['Low'] = df['Low'].str.replace(',', '').astype(float)\n",
        "df.dropna(inplace=True)\n",
        "\n",
        "print(df.dtypes)\n",
        "df.head()"
      ]
    },
    {
      "cell_type": "code",
      "execution_count": 107,
      "metadata": {
        "colab": {
          "base_uri": "https://localhost:8080/",
          "height": 689
        },
        "id": "ueF__7rKjP67",
        "outputId": "6048be9c-da29-41f3-b1e0-9c50f1a9aacc"
      },
      "outputs": [
        {
          "name": "stdout",
          "output_type": "stream",
          "text": [
            "Ma trận tương quan:\n",
            "             Price      Open      High       Low      Vol.  Change %\n",
            "Price     1.000000  0.998828  0.999506  0.999455  0.414316  0.015184\n",
            "Open      0.998828  1.000000  0.999496  0.999487  0.412443 -0.025176\n",
            "High      0.999506  0.999496  1.000000  0.999366  0.422356 -0.006228\n",
            "Low       0.999455  0.999487  0.999366  1.000000  0.403603 -0.006027\n",
            "Vol.      0.414316  0.412443  0.422356  0.403603  1.000000  0.008307\n",
            "Change %  0.015184 -0.025176 -0.006228 -0.006027  0.008307  1.000000\n"
          ]
        },
        {
          "data": {
            "image/png": "[encoded data removed]",
            "text/plain": [
              "<Figure size 800x600 with 2 Axes>"
            ]
          },
          "metadata": {},
          "output_type": "display_data"
        }
      ],
      "source": [
        "import pandas as pd\n",
        "import seaborn as sns\n",
        "import matplotlib.pyplot as plt\n",
        "\n",
        "data = pd.DataFrame(df)\n",
        "\n",
        "corr_matrix = data.corr()\n",
        "\n",
        "print(\"Ma trận tương quan:\")\n",
        "print(corr_matrix)\n",
        "\n",
        "plt.figure(figsize=(8, 6))\n",
        "sns.heatmap(corr_matrix, annot=True, cmap='coolwarm', vmin=-1, vmax=1)\n",
        "plt.title('Heatmap của ma trận tương quan')\n",
        "plt.show()"
      ]
    },
    {
      "cell_type": "code",
      "execution_count": 108,
      "metadata": {
        "colab": {
          "base_uri": "https://localhost:8080/",
          "height": 238
        },
        "id": "jLdTpu3XjR8e",
        "outputId": "45c1b299-ad52-4561-e8a2-eaf4a072f7bf"
      },
      "outputs": [
        {
          "data": {
            "application/vnd.google.colaboratory.intrinsic+json": {
              "summary": "{\n  \"name\": \"df\",\n  \"rows\": 1313,\n  \"fields\": [\n    {\n      \"column\": \"Date\",\n      \"properties\": {\n        \"dtype\": \"date\",\n        \"min\": \"2019-03-01 00:00:00\",\n        \"max\": \"2024-05-31 00:00:00\",\n        \"num_unique_values\": 1313,\n        \"samples\": [\n          \"2019-05-17 00:00:00\",\n          \"2020-10-09 00:00:00\",\n          \"2022-01-12 00:00:00\"\n        ],\n        \"semantic_type\": \"\",\n        \"description\": \"\"\n      }\n    },\n    {\n      \"column\": \"Price\",\n      \"properties\": {\n        \"dtype\": \"number\",\n        \"std\": 9430.824724158083,\n        \"min\": 7411.8,\n        \"max\": 43895.8,\n        \"num_unique_values\": 746,\n        \"samples\": [\n          14718.4,\n          21938.3,\n          10820.3\n        ],\n        \"semantic_type\": \"\",\n        \"description\": \"\"\n      }\n    },\n    {\n      \"column\": \"Open\",\n      \"properties\": {\n        \"dtype\": \"number\",\n        \"std\": 9457.093548256975,\n        \"min\": 7000.0,\n        \"max\": 43895.8,\n        \"num_unique_values\": 720,\n        \"samples\": [\n          41246.9,\n          25562.1,\n          10339.9\n        ],\n        \"semantic_type\": \"\",\n        \"description\": \"\"\n      }\n    },\n    {\n      \"column\": \"High\",\n      \"properties\": {\n        \"dtype\": \"number\",\n        \"std\": 9566.679793498517,\n        \"min\": 7640.6,\n        \"max\": 44198.5,\n        \"num_unique_values\": 725,\n        \"samples\": [\n          37520.8,\n          22091.0,\n          15818.0\n        ],\n        \"semantic_type\": \"\",\n        \"description\": \"\"\n      }\n    },\n    {\n      \"column\": \"Low\",\n      \"properties\": {\n        \"dtype\": \"number\",\n        \"std\": 9332.295554527615,\n        \"min\": 6977.2,\n        \"max\": 43517.4,\n        \"num_unique_values\": 739,\n        \"samples\": [\n          10545.8,\n          11804.0,\n          10568.7\n        ],\n        \"semantic_type\": \"\",\n        \"description\": \"\"\n      }\n    }\n  ]\n}",
              "type": "dataframe",
              "variable_name": "df"
            },
            "text/html": [
              "\n",
              "  <div id=\"df-cebfac42-4b62-423b-8893-3a133ddec421\" class=\"colab-df-container\">\n",
              "    <div>\n",
              "<style scoped>\n",
              "    .dataframe tbody tr th:only-of-type {\n",
              "        vertical-align: middle;\n",
              "    }\n",
              "\n",
              "    .dataframe tbody tr th {\n",
              "        vertical-align: top;\n",
              "    }\n",
              "\n",
              "    .dataframe thead th {\n",
              "        text-align: right;\n",
              "    }\n",
              "</style>\n",
              "<table border=\"1\" class=\"dataframe\">\n",
              "  <thead>\n",
              "    <tr style=\"text-align: right;\">\n",
              "      <th></th>\n",
              "      <th>Price</th>\n",
              "      <th>Open</th>\n",
              "      <th>High</th>\n",
              "      <th>Low</th>\n",
              "    </tr>\n",
              "    <tr>\n",
              "      <th>Date</th>\n",
              "      <th></th>\n",
              "      <th></th>\n",
              "      <th></th>\n",
              "      <th></th>\n",
              "    </tr>\n",
              "  </thead>\n",
              "  <tbody>\n",
              "    <tr>\n",
              "      <th>2019-03-01</th>\n",
              "      <td>12053.9</td>\n",
              "      <td>11825.1</td>\n",
              "      <td>12053.9</td>\n",
              "      <td>11825.1</td>\n",
              "    </tr>\n",
              "    <tr>\n",
              "      <th>2019-03-04</th>\n",
              "      <td>12441.0</td>\n",
              "      <td>12229.8</td>\n",
              "      <td>12441.0</td>\n",
              "      <td>12212.2</td>\n",
              "    </tr>\n",
              "    <tr>\n",
              "      <th>2019-03-05</th>\n",
              "      <td>12335.4</td>\n",
              "      <td>12353.0</td>\n",
              "      <td>12529.0</td>\n",
              "      <td>12300.2</td>\n",
              "    </tr>\n",
              "    <tr>\n",
              "      <th>2019-03-06</th>\n",
              "      <td>12317.8</td>\n",
              "      <td>12317.8</td>\n",
              "      <td>12388.2</td>\n",
              "      <td>12106.6</td>\n",
              "    </tr>\n",
              "    <tr>\n",
              "      <th>2019-03-07</th>\n",
              "      <td>12001.1</td>\n",
              "      <td>12317.8</td>\n",
              "      <td>12335.4</td>\n",
              "      <td>12001.1</td>\n",
              "    </tr>\n",
              "  </tbody>\n",
              "</table>\n",
              "</div>\n",
              "    <div class=\"colab-df-buttons\">\n",
              "\n",
              "  <div class=\"colab-df-container\">\n",
              "    <button class=\"colab-df-convert\" onclick=\"convertToInteractive('df-cebfac42-4b62-423b-8893-3a133ddec421')\"\n",
              "            title=\"Convert this dataframe to an interactive table.\"\n",
              "            style=\"display:none;\">\n",
              "\n",
              "  <svg xmlns=\"http://www.w3.org/2000/svg\" height=\"24px\" viewBox=\"0 -960 960 960\">\n",
              "    <path d=\"M120-120v-720h720v720H120Zm60-500h600v-160H180v160Zm220 220h160v-160H400v160Zm0 220h160v-160H400v160ZM180-400h160v-160H180v160Zm440 0h160v-160H620v160ZM180-180h160v-160H180v160Zm440 0h160v-160H620v160Z\"/>\n",
              "  </svg>\n",
              "    </button>\n",
              "\n",
              "  <style>\n",
              "    .colab-df-container {\n",
              "      display:flex;\n",
              "      gap: 12px;\n",
              "    }\n",
              "\n",
              "    .colab-df-convert {\n",
              "      background-color: #E8F0FE;\n",
              "      border: none;\n",
              "      border-radius: 50%;\n",
              "      cursor: pointer;\n",
              "      display: none;\n",
              "      fill: #1967D2;\n",
              "      height: 32px;\n",
              "      padding: 0 0 0 0;\n",
              "      width: 32px;\n",
              "    }\n",
              "\n",
              "    .colab-df-convert:hover {\n",
              "      background-color: #E2EBFA;\n",
              "      box-shadow: 0px 1px 2px rgba(60, 64, 67, 0.3), 0px 1px 3px 1px rgba(60, 64, 67, 0.15);\n",
              "      fill: #174EA6;\n",
              "    }\n",
              "\n",
              "    .colab-df-buttons div {\n",
              "      margin-bottom: 4px;\n",
              "    }\n",
              "\n",
              "    [theme=dark] .colab-df-convert {\n",
              "      background-color: #3B4455;\n",
              "      fill: #D2E3FC;\n",
              "    }\n",
              "\n",
              "    [theme=dark] .colab-df-convert:hover {\n",
              "      background-color: #434B5C;\n",
              "      box-shadow: 0px 1px 3px 1px rgba(0, 0, 0, 0.15);\n",
              "      filter: drop-shadow(0px 1px 2px rgba(0, 0, 0, 0.3));\n",
              "      fill: #FFFFFF;\n",
              "    }\n",
              "  </style>\n",
              "\n",
              "    <script>\n",
              "      const buttonEl =\n",
              "        document.querySelector('#df-cebfac42-4b62-423b-8893-3a133ddec421 button.colab-df-convert');\n",
              "      buttonEl.style.display =\n",
              "        google.colab.kernel.accessAllowed ? 'block' : 'none';\n",
              "\n",
              "      async function convertToInteractive(key) {\n",
              "        const element = document.querySelector('#df-cebfac42-4b62-423b-8893-3a133ddec421');\n",
              "        const dataTable =\n",
              "          await google.colab.kernel.invokeFunction('convertToInteractive',\n",
              "                                                    [key], {});\n",
              "        if (!dataTable) return;\n",
              "\n",
              "        const docLinkHtml = 'Like what you see? Visit the ' +\n",
              "          '<a target=\"_blank\" href=https://colab.research.google.com/notebooks/data_table.ipynb>data table notebook</a>'\n",
              "          + ' to learn more about interactive tables.';\n",
              "        element.innerHTML = '';\n",
              "        dataTable['output_type'] = 'display_data';\n",
              "        await google.colab.output.renderOutput(dataTable, element);\n",
              "        const docLink = document.createElement('div');\n",
              "        docLink.innerHTML = docLinkHtml;\n",
              "        element.appendChild(docLink);\n",
              "      }\n",
              "    </script>\n",
              "  </div>\n",
              "\n",
              "\n",
              "<div id=\"df-bca69eb4-bc5a-442d-a08f-71aec1927193\">\n",
              "  <button class=\"colab-df-quickchart\" onclick=\"quickchart('df-bca69eb4-bc5a-442d-a08f-71aec1927193')\"\n",
              "            title=\"Suggest charts\"\n",
              "            style=\"display:none;\">\n",
              "\n",
              "<svg xmlns=\"http://www.w3.org/2000/svg\" height=\"24px\"viewBox=\"0 0 24 24\"\n",
              "     width=\"24px\">\n",
              "    <g>\n",
              "        <path d=\"M19 3H5c-1.1 0-2 .9-2 2v14c0 1.1.9 2 2 2h14c1.1 0 2-.9 2-2V5c0-1.1-.9-2-2-2zM9 17H7v-7h2v7zm4 0h-2V7h2v10zm4 0h-2v-4h2v4z\"/>\n",
              "    </g>\n",
              "</svg>\n",
              "  </button>\n",
              "\n",
              "<style>\n",
              "  .colab-df-quickchart {\n",
              "      --bg-color: #E8F0FE;\n",
              "      --fill-color: #1967D2;\n",
              "      --hover-bg-color: #E2EBFA;\n",
              "      --hover-fill-color: #174EA6;\n",
              "      --disabled-fill-color: #AAA;\n",
              "      --disabled-bg-color: #DDD;\n",
              "  }\n",
              "\n",
              "  [theme=dark] .colab-df-quickchart {\n",
              "      --bg-color: #3B4455;\n",
              "      --fill-color: #D2E3FC;\n",
              "      --hover-bg-color: #434B5C;\n",
              "      --hover-fill-color: #FFFFFF;\n",
              "      --disabled-bg-color: #3B4455;\n",
              "      --disabled-fill-color: #666;\n",
              "  }\n",
              "\n",
              "  .colab-df-quickchart {\n",
              "    background-color: var(--bg-color);\n",
              "    border: none;\n",
              "    border-radius: 50%;\n",
              "    cursor: pointer;\n",
              "    display: none;\n",
              "    fill: var(--fill-color);\n",
              "    height: 32px;\n",
              "    padding: 0;\n",
              "    width: 32px;\n",
              "  }\n",
              "\n",
              "  .colab-df-quickchart:hover {\n",
              "    background-color: var(--hover-bg-color);\n",
              "    box-shadow: 0 1px 2px rgba(60, 64, 67, 0.3), 0 1px 3px 1px rgba(60, 64, 67, 0.15);\n",
              "    fill: var(--button-hover-fill-color);\n",
              "  }\n",
              "\n",
              "  .colab-df-quickchart-complete:disabled,\n",
              "  .colab-df-quickchart-complete:disabled:hover {\n",
              "    background-color: var(--disabled-bg-color);\n",
              "    fill: var(--disabled-fill-color);\n",
              "    box-shadow: none;\n",
              "  }\n",
              "\n",
              "  .colab-df-spinner {\n",
              "    border: 2px solid var(--fill-color);\n",
              "    border-color: transparent;\n",
              "    border-bottom-color: var(--fill-color);\n",
              "    animation:\n",
              "      spin 1s steps(1) infinite;\n",
              "  }\n",
              "\n",
              "  @keyframes spin {\n",
              "    0% {\n",
              "      border-color: transparent;\n",
              "      border-bottom-color: var(--fill-color);\n",
              "      border-left-color: var(--fill-color);\n",
              "    }\n",
              "    20% {\n",
              "      border-color: transparent;\n",
              "      border-left-color: var(--fill-color);\n",
              "      border-top-color: var(--fill-color);\n",
              "    }\n",
              "    30% {\n",
              "      border-color: transparent;\n",
              "      border-left-color: var(--fill-color);\n",
              "      border-top-color: var(--fill-color);\n",
              "      border-right-color: var(--fill-color);\n",
              "    }\n",
              "    40% {\n",
              "      border-color: transparent;\n",
              "      border-right-color: var(--fill-color);\n",
              "      border-top-color: var(--fill-color);\n",
              "    }\n",
              "    60% {\n",
              "      border-color: transparent;\n",
              "      border-right-color: var(--fill-color);\n",
              "    }\n",
              "    80% {\n",
              "      border-color: transparent;\n",
              "      border-right-color: var(--fill-color);\n",
              "      border-bottom-color: var(--fill-color);\n",
              "    }\n",
              "    90% {\n",
              "      border-color: transparent;\n",
              "      border-bottom-color: var(--fill-color);\n",
              "    }\n",
              "  }\n",
              "</style>\n",
              "\n",
              "  <script>\n",
              "    async function quickchart(key) {\n",
              "      const quickchartButtonEl =\n",
              "        document.querySelector('#' + key + ' button');\n",
              "      quickchartButtonEl.disabled = true;  // To prevent multiple clicks.\n",
              "      quickchartButtonEl.classList.add('colab-df-spinner');\n",
              "      try {\n",
              "        const charts = await google.colab.kernel.invokeFunction(\n",
              "            'suggestCharts', [key], {});\n",
              "      } catch (error) {\n",
              "        console.error('Error during call to suggestCharts:', error);\n",
              "      }\n",
              "      quickchartButtonEl.classList.remove('colab-df-spinner');\n",
              "      quickchartButtonEl.classList.add('colab-df-quickchart-complete');\n",
              "    }\n",
              "    (() => {\n",
              "      let quickchartButtonEl =\n",
              "        document.querySelector('#df-bca69eb4-bc5a-442d-a08f-71aec1927193 button');\n",
              "      quickchartButtonEl.style.display =\n",
              "        google.colab.kernel.accessAllowed ? 'block' : 'none';\n",
              "    })();\n",
              "  </script>\n",
              "</div>\n",
              "\n",
              "    </div>\n",
              "  </div>\n"
            ],
            "text/plain": [
              "              Price     Open     High      Low\n",
              "Date                                          \n",
              "2019-03-01  12053.9  11825.1  12053.9  11825.1\n",
              "2019-03-04  12441.0  12229.8  12441.0  12212.2\n",
              "2019-03-05  12335.4  12353.0  12529.0  12300.2\n",
              "2019-03-06  12317.8  12317.8  12388.2  12106.6\n",
              "2019-03-07  12001.1  12317.8  12335.4  12001.1"
            ]
          },
          "execution_count": 108,
          "metadata": {},
          "output_type": "execute_result"
        }
      ],
      "source": [
        "df = df[[\"Price\", \"Open\", \"High\", \"Low\"]]\n",
        "df.head()"
      ]
    },
    {
      "cell_type": "code",
      "execution_count": 109,
      "metadata": {
        "colab": {
          "base_uri": "https://localhost:8080/"
        },
        "id": "yrSgiTBIjby3",
        "outputId": "f1789d22-9052-44f8-e37a-28da98478f4d"
      },
      "outputs": [
        {
          "name": "stdout",
          "output_type": "stream",
          "text": [
            "1313\n",
            "919\n",
            "394\n"
          ]
        }
      ],
      "source": [
        "train_size = int(len(df) * 0.7)\n",
        "train, test = df[:train_size], df[train_size:]\n",
        "train_df = train\n",
        "train = np.asarray(train)\n",
        "\n",
        "print(len(df))\n",
        "print(len(train))\n",
        "print(len(test))"
      ]
    },
    {
      "cell_type": "code",
      "execution_count": null,
      "metadata": {
        "colab": {
          "base_uri": "https://localhost:8080/"
        },
        "id": "acgb6rpDj6Q_",
        "outputId": "4219e020-994e-494b-846d-e4b64cf91b7c"
      },
      "outputs": [
        {
          "name": "stdout",
          "output_type": "stream",
          "text": [
            "VARMA(1, 1) - Error: 5-th leading minor of the array is not positive definite\n"
          ]
        },
        {
          "name": "stderr",
          "output_type": "stream",
          "text": [
            "/usr/local/lib/python3.10/dist-packages/statsmodels/tsa/statespace/varmax.py:160: EstimationWarning: Estimation of VARMA(p,q) models is not generically robust, due especially to identification issues.\n",
            "  warn('Estimation of VARMA(p,q) models is not generically robust,'\n",
            "/usr/local/lib/python3.10/dist-packages/statsmodels/tsa/base/tsa_model.py:473: ValueWarning: A date index has been provided, but it has no associated frequency information and so will be ignored when e.g. forecasting.\n",
            "  self._init_dates(dates, freq)\n",
            "/usr/local/lib/python3.10/dist-packages/scipy/linalg/_solvers.py:216: LinAlgWarning: Ill-conditioned matrix (rcond=2.21077e-29): result may not be accurate.\n",
            "  x = solve(lhs, q.flatten())\n",
            "/usr/local/lib/python3.10/dist-packages/scipy/linalg/_solvers.py:216: LinAlgWarning: Ill-conditioned matrix (rcond=4.24075e-27): result may not be accurate.\n",
            "  x = solve(lhs, q.flatten())\n",
            "/usr/local/lib/python3.10/dist-packages/statsmodels/tsa/statespace/varmax.py:160: EstimationWarning: Estimation of VARMA(p,q) models is not generically robust, due especially to identification issues.\n",
            "  warn('Estimation of VARMA(p,q) models is not generically robust,'\n",
            "/usr/local/lib/python3.10/dist-packages/statsmodels/tsa/base/tsa_model.py:473: ValueWarning: A date index has been provided, but it has no associated frequency information and so will be ignored when e.g. forecasting.\n",
            "  self._init_dates(dates, freq)\n",
            "/usr/local/lib/python3.10/dist-packages/scipy/linalg/_solvers.py:216: LinAlgWarning: Ill-conditioned matrix (rcond=2.21077e-29): result may not be accurate.\n",
            "  x = solve(lhs, q.flatten())\n",
            "/usr/local/lib/python3.10/dist-packages/statsmodels/base/model.py:607: ConvergenceWarning: Maximum Likelihood optimization failed to converge. Check mle_retvals\n",
            "  warnings.warn(\"Maximum Likelihood optimization failed to \"\n"
          ]
        },
        {
          "name": "stdout",
          "output_type": "stream",
          "text": [
            "VARMA(1, 2) - AIC: 954984.8449075175\n"
          ]
        },
        {
          "name": "stderr",
          "output_type": "stream",
          "text": [
            "/usr/local/lib/python3.10/dist-packages/statsmodels/tsa/statespace/varmax.py:160: EstimationWarning: Estimation of VARMA(p,q) models is not generically robust, due especially to identification issues.\n",
            "  warn('Estimation of VARMA(p,q) models is not generically robust,'\n",
            "/usr/local/lib/python3.10/dist-packages/statsmodels/tsa/base/tsa_model.py:473: ValueWarning: A date index has been provided, but it has no associated frequency information and so will be ignored when e.g. forecasting.\n",
            "  self._init_dates(dates, freq)\n",
            "/usr/local/lib/python3.10/dist-packages/scipy/linalg/_solvers.py:216: LinAlgWarning: Ill-conditioned matrix (rcond=2.21077e-29): result may not be accurate.\n",
            "  x = solve(lhs, q.flatten())\n"
          ]
        },
        {
          "name": "stdout",
          "output_type": "stream",
          "text": [
            "VARMA(1, 3) - Error: Schur decomposition solver error.\n",
            "VARMA(1, 4) - Error: 5-th leading minor of the array is not positive definite\n"
          ]
        },
        {
          "name": "stderr",
          "output_type": "stream",
          "text": [
            "/usr/local/lib/python3.10/dist-packages/statsmodels/tsa/statespace/varmax.py:160: EstimationWarning: Estimation of VARMA(p,q) models is not generically robust, due especially to identification issues.\n",
            "  warn('Estimation of VARMA(p,q) models is not generically robust,'\n",
            "/usr/local/lib/python3.10/dist-packages/statsmodels/tsa/base/tsa_model.py:473: ValueWarning: A date index has been provided, but it has no associated frequency information and so will be ignored when e.g. forecasting.\n",
            "  self._init_dates(dates, freq)\n",
            "/usr/local/lib/python3.10/dist-packages/scipy/linalg/_solvers.py:216: LinAlgWarning: Ill-conditioned matrix (rcond=2.21077e-29): result may not be accurate.\n",
            "  x = solve(lhs, q.flatten())\n",
            "/usr/local/lib/python3.10/dist-packages/statsmodels/tsa/statespace/varmax.py:160: EstimationWarning: Estimation of VARMA(p,q) models is not generically robust, due especially to identification issues.\n",
            "  warn('Estimation of VARMA(p,q) models is not generically robust,'\n",
            "/usr/local/lib/python3.10/dist-packages/statsmodels/tsa/base/tsa_model.py:473: ValueWarning: A date index has been provided, but it has no associated frequency information and so will be ignored when e.g. forecasting.\n",
            "  self._init_dates(dates, freq)\n",
            "/usr/local/lib/python3.10/dist-packages/scipy/linalg/_solvers.py:216: LinAlgWarning: Ill-conditioned matrix (rcond=4.93082e-20): result may not be accurate.\n",
            "  x = solve(lhs, q.flatten())\n",
            "/usr/local/lib/python3.10/dist-packages/statsmodels/base/model.py:607: ConvergenceWarning: Maximum Likelihood optimization failed to converge. Check mle_retvals\n",
            "  warnings.warn(\"Maximum Likelihood optimization failed to \"\n"
          ]
        },
        {
          "name": "stdout",
          "output_type": "stream",
          "text": [
            "VARMA(2, 1) - AIC: 109348.99106895817\n",
            "VARMA(2, 2) - Error: 5-th leading minor of the array is not positive definite\n"
          ]
        },
        {
          "name": "stderr",
          "output_type": "stream",
          "text": [
            "/usr/local/lib/python3.10/dist-packages/statsmodels/tsa/statespace/varmax.py:160: EstimationWarning: Estimation of VARMA(p,q) models is not generically robust, due especially to identification issues.\n",
            "  warn('Estimation of VARMA(p,q) models is not generically robust,'\n",
            "/usr/local/lib/python3.10/dist-packages/statsmodels/tsa/base/tsa_model.py:473: ValueWarning: A date index has been provided, but it has no associated frequency information and so will be ignored when e.g. forecasting.\n",
            "  self._init_dates(dates, freq)\n",
            "/usr/local/lib/python3.10/dist-packages/statsmodels/tsa/statespace/varmax.py:160: EstimationWarning: Estimation of VARMA(p,q) models is not generically robust, due especially to identification issues.\n",
            "  warn('Estimation of VARMA(p,q) models is not generically robust,'\n",
            "/usr/local/lib/python3.10/dist-packages/statsmodels/tsa/base/tsa_model.py:473: ValueWarning: A date index has been provided, but it has no associated frequency information and so will be ignored when e.g. forecasting.\n",
            "  self._init_dates(dates, freq)\n"
          ]
        },
        {
          "name": "stdout",
          "output_type": "stream",
          "text": [
            "VARMA(2, 3) - Error: Schur decomposition solver error.\n"
          ]
        },
        {
          "name": "stderr",
          "output_type": "stream",
          "text": [
            "/usr/local/lib/python3.10/dist-packages/statsmodels/tsa/statespace/varmax.py:160: EstimationWarning: Estimation of VARMA(p,q) models is not generically robust, due especially to identification issues.\n",
            "  warn('Estimation of VARMA(p,q) models is not generically robust,'\n",
            "/usr/local/lib/python3.10/dist-packages/statsmodels/tsa/base/tsa_model.py:473: ValueWarning: A date index has been provided, but it has no associated frequency information and so will be ignored when e.g. forecasting.\n",
            "  self._init_dates(dates, freq)\n"
          ]
        },
        {
          "name": "stdout",
          "output_type": "stream",
          "text": [
            "VARMA(2, 4) - Error: Schur decomposition solver error.\n"
          ]
        },
        {
          "name": "stderr",
          "output_type": "stream",
          "text": [
            "/usr/local/lib/python3.10/dist-packages/statsmodels/tsa/statespace/varmax.py:160: EstimationWarning: Estimation of VARMA(p,q) models is not generically robust, due especially to identification issues.\n",
            "  warn('Estimation of VARMA(p,q) models is not generically robust,'\n",
            "/usr/local/lib/python3.10/dist-packages/statsmodels/tsa/base/tsa_model.py:473: ValueWarning: A date index has been provided, but it has no associated frequency information and so will be ignored when e.g. forecasting.\n",
            "  self._init_dates(dates, freq)\n",
            "/usr/local/lib/python3.10/dist-packages/scipy/linalg/_solvers.py:216: LinAlgWarning: Ill-conditioned matrix (rcond=2.67363e-24): result may not be accurate.\n",
            "  x = solve(lhs, q.flatten())\n"
          ]
        },
        {
          "name": "stdout",
          "output_type": "stream",
          "text": [
            "VARMA(3, 1) - AIC: 109249.96610344332\n"
          ]
        },
        {
          "name": "stderr",
          "output_type": "stream",
          "text": [
            "/usr/local/lib/python3.10/dist-packages/statsmodels/tsa/statespace/varmax.py:160: EstimationWarning: Estimation of VARMA(p,q) models is not generically robust, due especially to identification issues.\n",
            "  warn('Estimation of VARMA(p,q) models is not generically robust,'\n",
            "/usr/local/lib/python3.10/dist-packages/statsmodels/tsa/base/tsa_model.py:473: ValueWarning: A date index has been provided, but it has no associated frequency information and so will be ignored when e.g. forecasting.\n",
            "  self._init_dates(dates, freq)\n",
            "/usr/local/lib/python3.10/dist-packages/statsmodels/base/model.py:607: ConvergenceWarning: Maximum Likelihood optimization failed to converge. Check mle_retvals\n",
            "  warnings.warn(\"Maximum Likelihood optimization failed to \"\n"
          ]
        },
        {
          "name": "stdout",
          "output_type": "stream",
          "text": [
            "VARMA(3, 2) - AIC: 109627.89337639551\n",
            "VARMA(3, 3) - Error: 5-th leading minor of the array is not positive definite\n"
          ]
        },
        {
          "name": "stderr",
          "output_type": "stream",
          "text": [
            "/usr/local/lib/python3.10/dist-packages/statsmodels/tsa/statespace/varmax.py:160: EstimationWarning: Estimation of VARMA(p,q) models is not generically robust, due especially to identification issues.\n",
            "  warn('Estimation of VARMA(p,q) models is not generically robust,'\n",
            "/usr/local/lib/python3.10/dist-packages/statsmodels/tsa/base/tsa_model.py:473: ValueWarning: A date index has been provided, but it has no associated frequency information and so will be ignored when e.g. forecasting.\n",
            "  self._init_dates(dates, freq)\n",
            "/usr/local/lib/python3.10/dist-packages/statsmodels/tsa/statespace/varmax.py:160: EstimationWarning: Estimation of VARMA(p,q) models is not generically robust, due especially to identification issues.\n",
            "  warn('Estimation of VARMA(p,q) models is not generically robust,'\n",
            "/usr/local/lib/python3.10/dist-packages/statsmodels/tsa/base/tsa_model.py:473: ValueWarning: A date index has been provided, but it has no associated frequency information and so will be ignored when e.g. forecasting.\n",
            "  self._init_dates(dates, freq)\n"
          ]
        },
        {
          "name": "stdout",
          "output_type": "stream",
          "text": [
            "VARMA(3, 4) - Error: Schur decomposition solver error.\n"
          ]
        },
        {
          "name": "stderr",
          "output_type": "stream",
          "text": [
            "/usr/local/lib/python3.10/dist-packages/statsmodels/tsa/statespace/varmax.py:160: EstimationWarning: Estimation of VARMA(p,q) models is not generically robust, due especially to identification issues.\n",
            "  warn('Estimation of VARMA(p,q) models is not generically robust,'\n",
            "/usr/local/lib/python3.10/dist-packages/statsmodels/tsa/base/tsa_model.py:473: ValueWarning: A date index has been provided, but it has no associated frequency information and so will be ignored when e.g. forecasting.\n",
            "  self._init_dates(dates, freq)\n",
            "/usr/local/lib/python3.10/dist-packages/scipy/linalg/_solvers.py:216: LinAlgWarning: Ill-conditioned matrix (rcond=2.4841e-24): result may not be accurate.\n",
            "  x = solve(lhs, q.flatten())\n"
          ]
        },
        {
          "name": "stdout",
          "output_type": "stream",
          "text": [
            "VARMA(4, 1) - AIC: 109250.84567690633\n",
            "VARMA(4, 2) - Error: 5-th leading minor of the array is not positive definite\n"
          ]
        },
        {
          "name": "stderr",
          "output_type": "stream",
          "text": [
            "/usr/local/lib/python3.10/dist-packages/statsmodels/tsa/statespace/varmax.py:160: EstimationWarning: Estimation of VARMA(p,q) models is not generically robust, due especially to identification issues.\n",
            "  warn('Estimation of VARMA(p,q) models is not generically robust,'\n",
            "/usr/local/lib/python3.10/dist-packages/statsmodels/tsa/base/tsa_model.py:473: ValueWarning: A date index has been provided, but it has no associated frequency information and so will be ignored when e.g. forecasting.\n",
            "  self._init_dates(dates, freq)\n",
            "/usr/local/lib/python3.10/dist-packages/statsmodels/tsa/statespace/varmax.py:160: EstimationWarning: Estimation of VARMA(p,q) models is not generically robust, due especially to identification issues.\n",
            "  warn('Estimation of VARMA(p,q) models is not generically robust,'\n",
            "/usr/local/lib/python3.10/dist-packages/statsmodels/tsa/base/tsa_model.py:473: ValueWarning: A date index has been provided, but it has no associated frequency information and so will be ignored when e.g. forecasting.\n",
            "  self._init_dates(dates, freq)\n",
            "/usr/local/lib/python3.10/dist-packages/statsmodels/base/model.py:607: ConvergenceWarning: Maximum Likelihood optimization failed to converge. Check mle_retvals\n",
            "  warnings.warn(\"Maximum Likelihood optimization failed to \"\n"
          ]
        },
        {
          "name": "stdout",
          "output_type": "stream",
          "text": [
            "VARMA(4, 3) - AIC: 4298230.094615365\n",
            "VARMA(4, 4) - Error: 5-th leading minor of the array is not positive definite\n",
            "Best VARMA order: (3, 1) - AIC: 109249.96610344332\n"
          ]
        },
        {
          "name": "stderr",
          "output_type": "stream",
          "text": [
            "/usr/local/lib/python3.10/dist-packages/statsmodels/tsa/statespace/varmax.py:160: EstimationWarning: Estimation of VARMA(p,q) models is not generically robust, due especially to identification issues.\n",
            "  warn('Estimation of VARMA(p,q) models is not generically robust,'\n",
            "/usr/local/lib/python3.10/dist-packages/statsmodels/tsa/base/tsa_model.py:473: ValueWarning: A date index has been provided, but it has no associated frequency information and so will be ignored when e.g. forecasting.\n",
            "  self._init_dates(dates, freq)\n"
          ]
        }
      ],
      "source": [
        "#Find best AR and MA for VARMA modeling by evalute AIC.\n",
        "p_values = range(1, 5)\n",
        "q_values = range(1, 5)\n",
        "\n",
        "best_aic = np.inf\n",
        "best_order = (0, 0)\n",
        "\n",
        "for p in p_values:\n",
        "    for q in q_values:\n",
        "        try:\n",
        "            model = VARMAX(data, order=(p, q))\n",
        "            model_fit = model.fit(disp=False)\n",
        "\n",
        "            aic = model_fit.aic\n",
        "\n",
        "            print(f'VARMA({p}, {q}) - AIC: {aic}')\n",
        "\n",
        "            if aic < best_aic:\n",
        "                best_aic = aic\n",
        "                best_order = (p, q)\n",
        "        except Exception as e:\n",
        "            print(f'VARMA({p}, {q}) - Error: {e}')\n",
        "\n",
        "print(f'Best VARMA order: {best_order} - AIC: {best_aic}')"
      ]
    },
    {
      "cell_type": "code",
      "execution_count": 110,
      "metadata": {
        "colab": {
          "base_uri": "https://localhost:8080/"
        },
        "id": "ryOyWHJVjdZ7",
        "outputId": "27097b3d-fa45-4d6e-fc89-5cf9c29374d6"
      },
      "outputs": [
        {
          "name": "stderr",
          "output_type": "stream",
          "text": [
            "/usr/local/lib/python3.10/dist-packages/statsmodels/tsa/statespace/varmax.py:160: EstimationWarning: Estimation of VARMA(p,q) models is not generically robust, due especially to identification issues.\n",
            "  warn('Estimation of VARMA(p,q) models is not generically robust,'\n",
            "/usr/local/lib/python3.10/dist-packages/statsmodels/base/model.py:607: ConvergenceWarning: Maximum Likelihood optimization failed to converge. Check mle_retvals\n",
            "  warnings.warn(\"Maximum Likelihood optimization failed to \"\n"
          ]
        },
        {
          "name": "stdout",
          "output_type": "stream",
          "text": [
            "                              Statespace Model Results                              \n",
            "====================================================================================\n",
            "Dep. Variable:     ['y1', 'y2', 'y3', 'y4']   No. Observations:                  919\n",
            "Model:                           VARMA(4,1)   Log Likelihood              -25281.154\n",
            "                                + intercept   AIC                          50750.308\n",
            "Date:                      Tue, 18 Jun 2024   BIC                          51203.697\n",
            "Time:                              17:03:43   HQIC                         50923.332\n",
            "Sample:                                   0                                         \n",
            "                                      - 919                                         \n",
            "Covariance Type:                        opg                                         \n",
            "=======================================================================================================\n",
            "Ljung-Box (L1) (Q):      0.00, 0.07, 0.00, 0.00   Jarque-Bera (JB):   624.01, 45988.54, 2558.87, 724.73\n",
            "Prob(Q):                 0.95, 0.79, 0.99, 0.99   Prob(JB):                      0.00, 0.00, 0.00, 0.00\n",
            "Heteroskedasticity (H): 9.25, 5.32, 10.93, 8.86   Skew:                        0.19, -1.48, 1.63, -0.98\n",
            "Prob(H) (two-sided):     0.00, 0.00, 0.00, 0.00   Kurtosis:                    7.02, 37.53, 10.50, 6.88\n",
            "                           Results for equation y1                            \n",
            "==============================================================================\n",
            "                 coef    std err          z      P>|z|      [0.025      0.975]\n",
            "------------------------------------------------------------------------------\n",
            "intercept     31.8745    211.793      0.150      0.880    -383.231     446.980\n",
            "L1.y1          0.8844      4.191      0.211      0.833      -7.330       9.099\n",
            "L1.y2         -0.0685      1.922     -0.036      0.972      -3.835       3.698\n",
            "L1.y3          0.0840      1.334      0.063      0.950      -2.530       2.698\n",
            "L1.y4          0.2090      2.961      0.071      0.944      -5.595       6.013\n",
            "L2.y1         -0.1652      1.065     -0.155      0.877      -2.252       1.921\n",
            "L2.y2          0.1200      0.200      0.600      0.549      -0.272       0.512\n",
            "L2.y3          0.1288      0.808      0.159      0.873      -1.456       1.713\n",
            "L2.y4         -0.2112      0.164     -1.286      0.198      -0.533       0.111\n",
            "L3.y1         -0.0889      0.354     -0.251      0.802      -0.783       0.605\n",
            "L3.y2         -0.1884      0.469     -0.402      0.688      -1.108       0.731\n",
            "L3.y3         -0.0012      0.596     -0.002      0.998      -1.169       1.167\n",
            "L3.y4          0.2700      0.720      0.375      0.708      -1.142       1.682\n",
            "L4.y1          0.0511      0.289      0.177      0.860      -0.515       0.618\n",
            "L4.y2          0.0499      0.240      0.208      0.835      -0.420       0.520\n",
            "L4.y3         -0.1491      0.138     -1.076      0.282      -0.420       0.122\n",
            "L4.y4          0.0771      0.290      0.265      0.791      -0.492       0.646\n",
            "L1.e(y1)       0.0175      4.189      0.004      0.997      -8.193       8.228\n",
            "L1.e(y2)      -0.0069      1.930     -0.004      0.997      -3.790       3.776\n",
            "L1.e(y3)      -0.0020      1.347     -0.001      0.999      -2.643       2.639\n",
            "L1.e(y4)      -0.0313      2.963     -0.011      0.992      -5.839       5.776\n",
            "                           Results for equation y2                            \n",
            "==============================================================================\n",
            "                 coef    std err          z      P>|z|      [0.025      0.975]\n",
            "------------------------------------------------------------------------------\n",
            "intercept    -29.5608    103.201     -0.286      0.775    -231.831     172.710\n",
            "L1.y1          1.0122      2.065      0.490      0.624      -3.035       5.059\n",
            "L1.y2          0.0140      1.138      0.012      0.990      -2.216       2.244\n",
            "L1.y3          0.0406      0.680      0.060      0.952      -1.292       1.374\n",
            "L1.y4          0.1132      1.520      0.074      0.941      -2.867       3.093\n",
            "L2.y1         -0.1967      0.615     -0.320      0.749      -1.403       1.009\n",
            "L2.y2          0.0396      0.107      0.369      0.712      -0.171       0.250\n",
            "L2.y3         -0.0405      0.416     -0.097      0.922      -0.856       0.775\n",
            "L2.y4         -0.0408      0.084     -0.489      0.625      -0.205       0.123\n",
            "L3.y1         -0.0070      0.178     -0.039      0.969      -0.356       0.342\n",
            "L3.y2         -0.1185      0.239     -0.495      0.620      -0.587       0.350\n",
            "L3.y3         -0.0047      0.301     -0.015      0.988      -0.595       0.585\n",
            "L3.y4          0.1406      0.368      0.382      0.703      -0.581       0.862\n",
            "L4.y1          0.0840      0.140      0.599      0.549      -0.191       0.359\n",
            "L4.y2          0.0043      0.125      0.034      0.973      -0.242       0.250\n",
            "L4.y3         -0.0401      0.068     -0.586      0.558      -0.174       0.094\n",
            "L4.y4          0.0056      0.158      0.035      0.972      -0.304       0.315\n",
            "L1.e(y1)       0.0274      2.064      0.013      0.989      -4.018       4.073\n",
            "L1.e(y2)       0.0382      1.146      0.033      0.973      -2.209       2.285\n",
            "L1.e(y3)      -0.0063      0.690     -0.009      0.993      -1.358       1.346\n",
            "L1.e(y4)      -0.1276      1.522     -0.084      0.933      -3.110       2.855\n",
            "                           Results for equation y3                            \n",
            "==============================================================================\n",
            "                 coef    std err          z      P>|z|      [0.025      0.975]\n",
            "------------------------------------------------------------------------------\n",
            "intercept     -4.8801    150.505     -0.032      0.974    -299.864     290.104\n",
            "L1.y1          0.9430      3.007      0.314      0.754      -4.950       6.836\n",
            "L1.y2          0.0559      1.356      0.041      0.967      -2.601       2.713\n",
            "L1.y3          0.1751      0.923      0.190      0.850      -1.634       1.985\n",
            "L1.y4         -0.1011      2.110     -0.048      0.962      -4.236       4.034\n",
            "L2.y1         -0.1093      0.772     -0.142      0.887      -1.622       1.404\n",
            "L2.y2          0.0987      0.148      0.668      0.504      -0.191       0.388\n",
            "L2.y3          0.0663      0.567      0.117      0.907      -1.045       1.178\n",
            "L2.y4         -0.1452      0.123     -1.180      0.238      -0.386       0.096\n",
            "L3.y1          0.0058      0.246      0.024      0.981      -0.475       0.487\n",
            "L3.y2         -0.1571      0.335     -0.468      0.640      -0.815       0.500\n",
            "L3.y3         -0.0109      0.416     -0.026      0.979      -0.826       0.804\n",
            "L3.y4          0.0740      0.510      0.145      0.885      -0.926       1.074\n",
            "L4.y1          0.1059      0.205      0.518      0.605      -0.295       0.507\n",
            "L4.y2         -0.0233      0.173     -0.135      0.892      -0.362       0.315\n",
            "L4.y3         -0.0563      0.098     -0.573      0.567      -0.249       0.136\n",
            "L4.y4          0.0897      0.214      0.418      0.676      -0.331       0.510\n",
            "L1.e(y1)      -0.0404      3.009     -0.013      0.989      -5.938       5.857\n",
            "L1.e(y2)      -0.0345      1.367     -0.025      0.980      -2.715       2.645\n",
            "L1.e(y3)       0.0146      0.937      0.016      0.988      -1.821       1.851\n",
            "L1.e(y4)       0.1059      2.115      0.050      0.960      -4.040       4.251\n",
            "                           Results for equation y4                            \n",
            "==============================================================================\n",
            "                 coef    std err          z      P>|z|      [0.025      0.975]\n",
            "------------------------------------------------------------------------------\n",
            "intercept    -13.7112    141.553     -0.097      0.923    -291.150     263.728\n",
            "L1.y1          1.0944      2.773      0.395      0.693      -4.341       6.530\n",
            "L1.y2         -0.0886      1.361     -0.065      0.948      -2.757       2.579\n",
            "L1.y3         -0.1194      0.871     -0.137      0.891      -1.826       1.588\n",
            "L1.y4          0.2236      2.031      0.110      0.912      -3.758       4.205\n",
            "L2.y1         -0.1435      0.741     -0.194      0.846      -1.595       1.308\n",
            "L2.y2          0.0190      0.138      0.137      0.891      -0.252       0.290\n",
            "L2.y3         -0.0060      0.558     -0.011      0.991      -1.101       1.088\n",
            "L2.y4         -0.0674      0.117     -0.574      0.566      -0.298       0.163\n",
            "L3.y1         -0.0255      0.248     -0.103      0.918      -0.512       0.461\n",
            "L3.y2         -0.1952      0.311     -0.627      0.531      -0.806       0.415\n",
            "L3.y3         -0.0365      0.411     -0.089      0.929      -0.842       0.769\n",
            "L3.y4          0.2974      0.479      0.621      0.535      -0.642       1.237\n",
            "L4.y1          0.0937      0.191      0.491      0.623      -0.280       0.468\n",
            "L4.y2          0.0952      0.167      0.571      0.568      -0.232       0.422\n",
            "L4.y3         -0.2215      0.090     -2.461      0.014      -0.398      -0.045\n",
            "L4.y4          0.0808      0.205      0.394      0.694      -0.322       0.483\n",
            "L1.e(y1)      -0.0126      2.774     -0.005      0.996      -5.449       5.424\n",
            "L1.e(y2)      -0.0634      1.361     -0.047      0.963      -2.731       2.605\n",
            "L1.e(y3)      -0.0201      0.879     -0.023      0.982      -1.744       1.704\n",
            "L1.e(y4)       0.0283      2.037      0.014      0.989      -3.963       4.020\n",
            "                             Error covariance matrix                              \n",
            "==================================================================================\n",
            "                     coef    std err          z      P>|z|      [0.025      0.975]\n",
            "----------------------------------------------------------------------------------\n",
            "sqrt.var.y1      523.7999     15.448     33.908      0.000     493.523     554.077\n",
            "sqrt.cov.y1.y2    99.4797      8.377     11.875      0.000      83.060     115.899\n",
            "sqrt.var.y2      199.9448      3.617     55.278      0.000     192.855     207.034\n",
            "sqrt.cov.y1.y3   304.2444     10.661     28.538      0.000     283.349     325.140\n",
            "sqrt.cov.y2.y3    66.0249      7.242      9.117      0.000      51.831      80.218\n",
            "sqrt.var.y3      179.7223      3.637     49.418      0.000     172.594     186.850\n",
            "sqrt.cov.y1.y4   298.1331     12.552     23.752      0.000     273.532     322.734\n",
            "sqrt.cov.y2.y4    91.9502      7.139     12.880      0.000      77.958     105.942\n",
            "sqrt.cov.y3.y4   -66.5340      7.235     -9.196      0.000     -80.715     -52.353\n",
            "sqrt.var.y4      167.9918      3.492     48.106      0.000     161.147     174.836\n",
            "==================================================================================\n",
            "\n",
            "Warnings:\n",
            "[1] Covariance matrix calculated using the outer product of gradients (complex-step).\n",
            "[2] Covariance matrix is singular or near-singular, with condition number 8.24e+13. Standard errors may be unstable.\n"
          ]
        }
      ],
      "source": [
        "model = VARMAX(train, order=(4, 1))\n",
        "model_fit = model.fit(disp=False)\n",
        "\n",
        "print(model_fit.summary())"
      ]
    },
    {
      "cell_type": "code",
      "execution_count": 111,
      "metadata": {
        "colab": {
          "base_uri": "https://localhost:8080/"
        },
        "id": "0p_FdMaRjfcQ",
        "outputId": "3b00d213-7ae8-43d2-b89c-10f3aa5ecf28"
      },
      "outputs": [
        {
          "name": "stdout",
          "output_type": "stream",
          "text": [
            "                   Price          Open          High           Low\n",
            "Date                                                              \n",
            "2022-10-31  15176.129480  15226.568375  15499.164270  14784.744878\n",
            "2022-11-01  15217.221916  15154.579364  15500.014341  14901.594853\n",
            "2022-11-02  15204.945854  15219.342289  15478.321713  14924.730945\n",
            "2022-11-03  15120.311388  15152.129379  15419.928662  14861.383754\n",
            "2022-11-04  15084.770044  15094.045573  15346.173368  14832.860206\n"
          ]
        }
      ],
      "source": [
        "forecast = model_fit.forecast(steps=len(test))\n",
        "\n",
        "forecast = pd.DataFrame(forecast, index=test.index, columns=test.columns)\n",
        "\n",
        "print(forecast.head())"
      ]
    },
    {
      "cell_type": "code",
      "execution_count": 112,
      "metadata": {
        "colab": {
          "base_uri": "https://localhost:8080/",
          "height": 565
        },
        "id": "GpLC1hk6jgdv",
        "outputId": "009f7f05-fe0d-499d-a377-ab7ef3a685b1"
      },
      "outputs": [
        {
          "data": {
            "image/png": "[encoded data removed]",
            "text/plain": [
              "<Figure size 1200x600 with 1 Axes>"
            ]
          },
          "metadata": {},
          "output_type": "display_data"
        }
      ],
      "source": [
        "import matplotlib.pyplot as plt\n",
        "\n",
        "plt.figure(figsize=(12, 6))\n",
        "\n",
        "forecast_horizon = 90\n",
        "next_90_days_forecast = model_fit.forecast(steps=forecast_horizon)\n",
        "forecast_df_90 = pd.DataFrame(next_90_days_forecast, index=pd.date_range(start=df.index[-1], periods=forecast_horizon, freq='D'), columns=df.columns)\n",
        "\n",
        "forecast_horizon = 60\n",
        "next_60_days_forecast = model_fit.forecast(steps=forecast_horizon)\n",
        "forecast_df_60 = pd.DataFrame(next_60_days_forecast, index=pd.date_range(start=df.index[-1], periods=forecast_horizon, freq='D'), columns=df.columns)\n",
        "\n",
        "forecast_horizon = 30\n",
        "next_30_days_forecast = model_fit.forecast(steps=forecast_horizon)\n",
        "forecast_df_30 = pd.DataFrame(next_30_days_forecast, index=pd.date_range(start=df.index[-1], periods=forecast_horizon, freq='D'), columns=df.columns)\n",
        "\n",
        "plt.plot(test.index, test[\"Price\"], label='Test')\n",
        "\n",
        "plt.plot(test.index, forecast[\"Price\"], label='Predict')\n",
        "\n",
        "plt.plot(forecast_df_30.index, forecast_df_30[\"Price\"], label='30Days Price')\n",
        "\n",
        "filtered_df_60 = forecast_df_60.iloc[30:60]\n",
        "\n",
        "plt.plot(filtered_df_60.index, filtered_df_60[\"Price\"], label='60Days Price')\n",
        "\n",
        "filtered_df_90 = forecast_df_90.iloc[60:90]\n",
        "\n",
        "plt.plot(filtered_df_90.index, filtered_df_90[\"Price\"], label='90Days Price')\n",
        "\n",
        "plt.title('Stock Price Forecast for Hòa Phát Group Using VARMA (70:30)')\n",
        "plt.xlabel('Date')\n",
        "plt.ylabel('Price')\n",
        "plt.legend()\n",
        "plt.show()"
      ]
    },
    {
      "cell_type": "code",
      "execution_count": 113,
      "metadata": {
        "colab": {
          "base_uri": "https://localhost:8080/"
        },
        "id": "SpBe_QJ7ji3S",
        "outputId": "42f5bceb-ba48-4cb0-d908-189bb9f69333"
      },
      "outputs": [
        {
          "name": "stdout",
          "output_type": "stream",
          "text": [
            "Mean Absolute Error (MAE): 7232.810078473496\n",
            "Mean Absolute Percentage Error (MAPE): 0.30520564621186663\n",
            "Root Mean Squared Error (RMSE): 7994.30345805615\n"
          ]
        }
      ],
      "source": [
        "from sklearn.metrics import mean_absolute_error, mean_absolute_percentage_error,mean_squared_error\n",
        "\n",
        "mae = mean_absolute_error(test[\"Price\"], forecast[\"Price\"])\n",
        "mape = mean_absolute_percentage_error(test[\"Price\"], forecast[\"Price\"])\n",
        "rmse = np.sqrt(mean_squared_error(test[\"Price\"], forecast[\"Price\"]))\n",
        "\n",
        "print(\"Mean Absolute Error (MAE):\", mae)\n",
        "print(\"Mean Absolute Percentage Error (MAPE):\", mape)\n",
        "print(\"Root Mean Squared Error (RMSE):\", rmse)"
      ]
    },
    {
      "cell_type": "code",
      "execution_count": 114,
      "metadata": {
        "colab": {
          "base_uri": "https://localhost:8080/",
          "height": 607
        },
        "id": "sisAz6GZjpaf",
        "outputId": "34b1bf3f-ce7a-4e48-8b7c-30b133da06af"
      },
      "outputs": [
        {
          "data": {
            "image/png": "[encoded data removed]",
            "text/plain": [
              "<Figure size 1200x600 with 1 Axes>"
            ]
          },
          "metadata": {},
          "output_type": "display_data"
        }
      ],
      "source": [
        "# Forecasting\n",
        "import matplotlib.pyplot as plt\n",
        "\n",
        "plt.figure(figsize=(12, 6))\n",
        "\n",
        "forecast_horizons = [90, 60, 30]\n",
        "forecast_dfs = {}\n",
        "\n",
        "for horizon in forecast_horizons:\n",
        "    forecast = model_fit.forecast(steps=horizon)\n",
        "    forecast_df = pd.DataFrame(\n",
        "        forecast,\n",
        "        index=pd.date_range(start=df.index[-1] + pd.DateOffset(days=1), periods=horizon, freq='D'),\n",
        "        columns=df.columns\n",
        "    )\n",
        "    forecast_dfs[horizon] = forecast_df\n",
        "\n",
        "for horizon, forecast_df in forecast_dfs.items():\n",
        "    plt.plot(forecast_df.index, forecast_df[\"Price\"],\n",
        "             label=f'Forecast ({horizon} Days)', alpha=0.7)\n",
        "\n",
        "plt.title('Stock Price Forecast for Hòa Phát Group Using VARMA (70:30)')\n",
        "plt.xlabel('Date')\n",
        "plt.ylabel('Price')\n",
        "plt.legend()\n",
        "plt.grid(axis='y', alpha=0.5)\n",
        "plt.tight_layout()\n",
        "plt.show()\n"
      ]
    }
  ],
  "metadata": {
    "colab": {
      "provenance": []
    },
    "kernelspec": {
      "display_name": "Python 3",
      "name": "python3"
    },
    "language_info": {
      "name": "python",
      "version": "3.11.9"
    }
  },
  "nbformat": 4,
  "nbformat_minor": 0
}
