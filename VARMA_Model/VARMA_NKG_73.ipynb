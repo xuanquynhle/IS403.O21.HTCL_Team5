{
  "nbformat": 4,
  "nbformat_minor": 0,
  "metadata": {
    "colab": {
      "provenance": []
    },
    "kernelspec": {
      "name": "python3",
      "display_name": "Python 3"
    },
    "language_info": {
      "name": "python"
    }
  },
  "cells": [
    {
      "cell_type": "code",
      "execution_count": 6,
      "metadata": {
        "id": "G3aFDlMWi44W"
      },
      "outputs": [],
      "source": [
        "import pandas as pd\n",
        "import matplotlib.pyplot as plt\n",
        "import seaborn as sns\n",
        "import statsmodels.api as sm\n",
        "from statsmodels.tsa.stattools import adfuller\n",
        "from statsmodels.tsa.vector_ar.var_model import VAR\n",
        "from statsmodels.tsa.statespace.varmax import VARMAX\n",
        "import math\n",
        "from itertools import product\n",
        "import numpy as np"
      ]
    },
    {
      "cell_type": "code",
      "source": [
        "df = pd.read_csv(\"/content/NKG-Historical-Data.csv\", parse_dates=['Date'], index_col='Date', sep=',')\n",
        "df = df.sort_index(ascending=True)\n",
        "print(df.head())"
      ],
      "metadata": {
        "colab": {
          "base_uri": "https://localhost:8080/"
        },
        "id": "lbU1WxddjDAA",
        "outputId": "6e49f58d-6cf3-412a-8605-5f1a0b117b5f"
      },
      "execution_count": 7,
      "outputs": [
        {
          "output_type": "stream",
          "name": "stdout",
          "text": [
            "              Price     Open     High      Low     Vol. Change %\n",
            "Date                                                            \n",
            "2019-03-01  5,059.3  5,046.2  5,125.1  5,039.6  767.69K    0.00%\n",
            "2019-03-04  5,223.6  5,256.5  5,289.3  5,125.1    1.92M    3.25%\n",
            "2019-03-05  5,223.6  5,328.7  5,387.9  5,223.6    2.48M    0.00%\n",
            "2019-03-06  5,118.5  5,223.6  5,256.5  5,118.5  697.98K   -2.01%\n",
            "2019-03-07  4,934.5  5,217.0  5,217.0  4,934.5    1.29M   -3.59%\n"
          ]
        }
      ]
    },
    {
      "cell_type": "code",
      "source": [
        "print(df.dtypes)"
      ],
      "metadata": {
        "colab": {
          "base_uri": "https://localhost:8080/"
        },
        "id": "PPUr7HbsjK-W",
        "outputId": "8d6d9087-4e33-4b93-80af-3e0b237bf4f2"
      },
      "execution_count": 8,
      "outputs": [
        {
          "output_type": "stream",
          "name": "stdout",
          "text": [
            "Price       object\n",
            "Open        object\n",
            "High        object\n",
            "Low         object\n",
            "Vol.        object\n",
            "Change %    object\n",
            "dtype: object\n"
          ]
        }
      ]
    },
    {
      "cell_type": "code",
      "source": [
        "df['Vol.'] = df['Vol.'].apply(lambda x: float(x.replace('M', '').replace('K', '')) * (1e6 if 'M' in x else 1e3))\n",
        "\n",
        "df['Change %'] = df['Change %'].str.replace('%', '')\n",
        "df['Change %'] = df['Change %'].str.replace(',', '.').astype(float) / 100\n",
        "df['Price'] = df['Price'].str.replace(',', '').astype(float)\n",
        "df['High'] = df['High'].str.replace(',', '').astype(float)\n",
        "df['Open'] = df['Open'].str.replace(',', '').astype(float)\n",
        "df['Low'] = df['Low'].str.replace(',', '').astype(float)\n",
        "df.dropna(inplace=True)\n",
        "\n",
        "print(df.dtypes)\n",
        "df.head()"
      ],
      "metadata": {
        "colab": {
          "base_uri": "https://localhost:8080/",
          "height": 363
        },
        "id": "L8LVy5ZZjNDM",
        "outputId": "9d0860d2-e3ea-4831-d329-31e2669ec5e5"
      },
      "execution_count": 9,
      "outputs": [
        {
          "output_type": "stream",
          "name": "stdout",
          "text": [
            "Price       float64\n",
            "Open        float64\n",
            "High        float64\n",
            "Low         float64\n",
            "Vol.        float64\n",
            "Change %    float64\n",
            "dtype: object\n"
          ]
        },
        {
          "output_type": "execute_result",
          "data": {
            "text/plain": [
              "             Price    Open    High     Low       Vol.  Change %\n",
              "Date                                                           \n",
              "2019-03-01  5059.3  5046.2  5125.1  5039.6   767690.0    0.0000\n",
              "2019-03-04  5223.6  5256.5  5289.3  5125.1  1920000.0    0.0325\n",
              "2019-03-05  5223.6  5328.7  5387.9  5223.6  2480000.0    0.0000\n",
              "2019-03-06  5118.5  5223.6  5256.5  5118.5   697980.0   -0.0201\n",
              "2019-03-07  4934.5  5217.0  5217.0  4934.5  1290000.0   -0.0359"
            ],
            "text/html": [
              "\n",
              "  <div id=\"df-05986e06-ed3f-4a79-a1f3-f86d2205d8bd\" class=\"colab-df-container\">\n",
              "    <div>\n",
              "<style scoped>\n",
              "    .dataframe tbody tr th:only-of-type {\n",
              "        vertical-align: middle;\n",
              "    }\n",
              "\n",
              "    .dataframe tbody tr th {\n",
              "        vertical-align: top;\n",
              "    }\n",
              "\n",
              "    .dataframe thead th {\n",
              "        text-align: right;\n",
              "    }\n",
              "</style>\n",
              "<table border=\"1\" class=\"dataframe\">\n",
              "  <thead>\n",
              "    <tr style=\"text-align: right;\">\n",
              "      <th></th>\n",
              "      <th>Price</th>\n",
              "      <th>Open</th>\n",
              "      <th>High</th>\n",
              "      <th>Low</th>\n",
              "      <th>Vol.</th>\n",
              "      <th>Change %</th>\n",
              "    </tr>\n",
              "    <tr>\n",
              "      <th>Date</th>\n",
              "      <th></th>\n",
              "      <th></th>\n",
              "      <th></th>\n",
              "      <th></th>\n",
              "      <th></th>\n",
              "      <th></th>\n",
              "    </tr>\n",
              "  </thead>\n",
              "  <tbody>\n",
              "    <tr>\n",
              "      <th>2019-03-01</th>\n",
              "      <td>5059.3</td>\n",
              "      <td>5046.2</td>\n",
              "      <td>5125.1</td>\n",
              "      <td>5039.6</td>\n",
              "      <td>767690.0</td>\n",
              "      <td>0.0000</td>\n",
              "    </tr>\n",
              "    <tr>\n",
              "      <th>2019-03-04</th>\n",
              "      <td>5223.6</td>\n",
              "      <td>5256.5</td>\n",
              "      <td>5289.3</td>\n",
              "      <td>5125.1</td>\n",
              "      <td>1920000.0</td>\n",
              "      <td>0.0325</td>\n",
              "    </tr>\n",
              "    <tr>\n",
              "      <th>2019-03-05</th>\n",
              "      <td>5223.6</td>\n",
              "      <td>5328.7</td>\n",
              "      <td>5387.9</td>\n",
              "      <td>5223.6</td>\n",
              "      <td>2480000.0</td>\n",
              "      <td>0.0000</td>\n",
              "    </tr>\n",
              "    <tr>\n",
              "      <th>2019-03-06</th>\n",
              "      <td>5118.5</td>\n",
              "      <td>5223.6</td>\n",
              "      <td>5256.5</td>\n",
              "      <td>5118.5</td>\n",
              "      <td>697980.0</td>\n",
              "      <td>-0.0201</td>\n",
              "    </tr>\n",
              "    <tr>\n",
              "      <th>2019-03-07</th>\n",
              "      <td>4934.5</td>\n",
              "      <td>5217.0</td>\n",
              "      <td>5217.0</td>\n",
              "      <td>4934.5</td>\n",
              "      <td>1290000.0</td>\n",
              "      <td>-0.0359</td>\n",
              "    </tr>\n",
              "  </tbody>\n",
              "</table>\n",
              "</div>\n",
              "    <div class=\"colab-df-buttons\">\n",
              "\n",
              "  <div class=\"colab-df-container\">\n",
              "    <button class=\"colab-df-convert\" onclick=\"convertToInteractive('df-05986e06-ed3f-4a79-a1f3-f86d2205d8bd')\"\n",
              "            title=\"Convert this dataframe to an interactive table.\"\n",
              "            style=\"display:none;\">\n",
              "\n",
              "  <svg xmlns=\"http://www.w3.org/2000/svg\" height=\"24px\" viewBox=\"0 -960 960 960\">\n",
              "    <path d=\"M120-120v-720h720v720H120Zm60-500h600v-160H180v160Zm220 220h160v-160H400v160Zm0 220h160v-160H400v160ZM180-400h160v-160H180v160Zm440 0h160v-160H620v160ZM180-180h160v-160H180v160Zm440 0h160v-160H620v160Z\"/>\n",
              "  </svg>\n",
              "    </button>\n",
              "\n",
              "  <style>\n",
              "    .colab-df-container {\n",
              "      display:flex;\n",
              "      gap: 12px;\n",
              "    }\n",
              "\n",
              "    .colab-df-convert {\n",
              "      background-color: #E8F0FE;\n",
              "      border: none;\n",
              "      border-radius: 50%;\n",
              "      cursor: pointer;\n",
              "      display: none;\n",
              "      fill: #1967D2;\n",
              "      height: 32px;\n",
              "      padding: 0 0 0 0;\n",
              "      width: 32px;\n",
              "    }\n",
              "\n",
              "    .colab-df-convert:hover {\n",
              "      background-color: #E2EBFA;\n",
              "      box-shadow: 0px 1px 2px rgba(60, 64, 67, 0.3), 0px 1px 3px 1px rgba(60, 64, 67, 0.15);\n",
              "      fill: #174EA6;\n",
              "    }\n",
              "\n",
              "    .colab-df-buttons div {\n",
              "      margin-bottom: 4px;\n",
              "    }\n",
              "\n",
              "    [theme=dark] .colab-df-convert {\n",
              "      background-color: #3B4455;\n",
              "      fill: #D2E3FC;\n",
              "    }\n",
              "\n",
              "    [theme=dark] .colab-df-convert:hover {\n",
              "      background-color: #434B5C;\n",
              "      box-shadow: 0px 1px 3px 1px rgba(0, 0, 0, 0.15);\n",
              "      filter: drop-shadow(0px 1px 2px rgba(0, 0, 0, 0.3));\n",
              "      fill: #FFFFFF;\n",
              "    }\n",
              "  </style>\n",
              "\n",
              "    <script>\n",
              "      const buttonEl =\n",
              "        document.querySelector('#df-05986e06-ed3f-4a79-a1f3-f86d2205d8bd button.colab-df-convert');\n",
              "      buttonEl.style.display =\n",
              "        google.colab.kernel.accessAllowed ? 'block' : 'none';\n",
              "\n",
              "      async function convertToInteractive(key) {\n",
              "        const element = document.querySelector('#df-05986e06-ed3f-4a79-a1f3-f86d2205d8bd');\n",
              "        const dataTable =\n",
              "          await google.colab.kernel.invokeFunction('convertToInteractive',\n",
              "                                                    [key], {});\n",
              "        if (!dataTable) return;\n",
              "\n",
              "        const docLinkHtml = 'Like what you see? Visit the ' +\n",
              "          '<a target=\"_blank\" href=https://colab.research.google.com/notebooks/data_table.ipynb>data table notebook</a>'\n",
              "          + ' to learn more about interactive tables.';\n",
              "        element.innerHTML = '';\n",
              "        dataTable['output_type'] = 'display_data';\n",
              "        await google.colab.output.renderOutput(dataTable, element);\n",
              "        const docLink = document.createElement('div');\n",
              "        docLink.innerHTML = docLinkHtml;\n",
              "        element.appendChild(docLink);\n",
              "      }\n",
              "    </script>\n",
              "  </div>\n",
              "\n",
              "\n",
              "<div id=\"df-ac42663b-b5b6-498f-87ad-2f3598a1b7c3\">\n",
              "  <button class=\"colab-df-quickchart\" onclick=\"quickchart('df-ac42663b-b5b6-498f-87ad-2f3598a1b7c3')\"\n",
              "            title=\"Suggest charts\"\n",
              "            style=\"display:none;\">\n",
              "\n",
              "<svg xmlns=\"http://www.w3.org/2000/svg\" height=\"24px\"viewBox=\"0 0 24 24\"\n",
              "     width=\"24px\">\n",
              "    <g>\n",
              "        <path d=\"M19 3H5c-1.1 0-2 .9-2 2v14c0 1.1.9 2 2 2h14c1.1 0 2-.9 2-2V5c0-1.1-.9-2-2-2zM9 17H7v-7h2v7zm4 0h-2V7h2v10zm4 0h-2v-4h2v4z\"/>\n",
              "    </g>\n",
              "</svg>\n",
              "  </button>\n",
              "\n",
              "<style>\n",
              "  .colab-df-quickchart {\n",
              "      --bg-color: #E8F0FE;\n",
              "      --fill-color: #1967D2;\n",
              "      --hover-bg-color: #E2EBFA;\n",
              "      --hover-fill-color: #174EA6;\n",
              "      --disabled-fill-color: #AAA;\n",
              "      --disabled-bg-color: #DDD;\n",
              "  }\n",
              "\n",
              "  [theme=dark] .colab-df-quickchart {\n",
              "      --bg-color: #3B4455;\n",
              "      --fill-color: #D2E3FC;\n",
              "      --hover-bg-color: #434B5C;\n",
              "      --hover-fill-color: #FFFFFF;\n",
              "      --disabled-bg-color: #3B4455;\n",
              "      --disabled-fill-color: #666;\n",
              "  }\n",
              "\n",
              "  .colab-df-quickchart {\n",
              "    background-color: var(--bg-color);\n",
              "    border: none;\n",
              "    border-radius: 50%;\n",
              "    cursor: pointer;\n",
              "    display: none;\n",
              "    fill: var(--fill-color);\n",
              "    height: 32px;\n",
              "    padding: 0;\n",
              "    width: 32px;\n",
              "  }\n",
              "\n",
              "  .colab-df-quickchart:hover {\n",
              "    background-color: var(--hover-bg-color);\n",
              "    box-shadow: 0 1px 2px rgba(60, 64, 67, 0.3), 0 1px 3px 1px rgba(60, 64, 67, 0.15);\n",
              "    fill: var(--button-hover-fill-color);\n",
              "  }\n",
              "\n",
              "  .colab-df-quickchart-complete:disabled,\n",
              "  .colab-df-quickchart-complete:disabled:hover {\n",
              "    background-color: var(--disabled-bg-color);\n",
              "    fill: var(--disabled-fill-color);\n",
              "    box-shadow: none;\n",
              "  }\n",
              "\n",
              "  .colab-df-spinner {\n",
              "    border: 2px solid var(--fill-color);\n",
              "    border-color: transparent;\n",
              "    border-bottom-color: var(--fill-color);\n",
              "    animation:\n",
              "      spin 1s steps(1) infinite;\n",
              "  }\n",
              "\n",
              "  @keyframes spin {\n",
              "    0% {\n",
              "      border-color: transparent;\n",
              "      border-bottom-color: var(--fill-color);\n",
              "      border-left-color: var(--fill-color);\n",
              "    }\n",
              "    20% {\n",
              "      border-color: transparent;\n",
              "      border-left-color: var(--fill-color);\n",
              "      border-top-color: var(--fill-color);\n",
              "    }\n",
              "    30% {\n",
              "      border-color: transparent;\n",
              "      border-left-color: var(--fill-color);\n",
              "      border-top-color: var(--fill-color);\n",
              "      border-right-color: var(--fill-color);\n",
              "    }\n",
              "    40% {\n",
              "      border-color: transparent;\n",
              "      border-right-color: var(--fill-color);\n",
              "      border-top-color: var(--fill-color);\n",
              "    }\n",
              "    60% {\n",
              "      border-color: transparent;\n",
              "      border-right-color: var(--fill-color);\n",
              "    }\n",
              "    80% {\n",
              "      border-color: transparent;\n",
              "      border-right-color: var(--fill-color);\n",
              "      border-bottom-color: var(--fill-color);\n",
              "    }\n",
              "    90% {\n",
              "      border-color: transparent;\n",
              "      border-bottom-color: var(--fill-color);\n",
              "    }\n",
              "  }\n",
              "</style>\n",
              "\n",
              "  <script>\n",
              "    async function quickchart(key) {\n",
              "      const quickchartButtonEl =\n",
              "        document.querySelector('#' + key + ' button');\n",
              "      quickchartButtonEl.disabled = true;  // To prevent multiple clicks.\n",
              "      quickchartButtonEl.classList.add('colab-df-spinner');\n",
              "      try {\n",
              "        const charts = await google.colab.kernel.invokeFunction(\n",
              "            'suggestCharts', [key], {});\n",
              "      } catch (error) {\n",
              "        console.error('Error during call to suggestCharts:', error);\n",
              "      }\n",
              "      quickchartButtonEl.classList.remove('colab-df-spinner');\n",
              "      quickchartButtonEl.classList.add('colab-df-quickchart-complete');\n",
              "    }\n",
              "    (() => {\n",
              "      let quickchartButtonEl =\n",
              "        document.querySelector('#df-ac42663b-b5b6-498f-87ad-2f3598a1b7c3 button');\n",
              "      quickchartButtonEl.style.display =\n",
              "        google.colab.kernel.accessAllowed ? 'block' : 'none';\n",
              "    })();\n",
              "  </script>\n",
              "</div>\n",
              "\n",
              "    </div>\n",
              "  </div>\n"
            ],
            "application/vnd.google.colaboratory.intrinsic+json": {
              "type": "dataframe",
              "variable_name": "df",
              "summary": "{\n  \"name\": \"df\",\n  \"rows\": 1313,\n  \"fields\": [\n    {\n      \"column\": \"Date\",\n      \"properties\": {\n        \"dtype\": \"date\",\n        \"min\": \"2019-03-01 00:00:00\",\n        \"max\": \"2024-05-31 00:00:00\",\n        \"num_unique_values\": 1313,\n        \"samples\": [\n          \"2019-05-17 00:00:00\",\n          \"2020-10-09 00:00:00\",\n          \"2022-01-12 00:00:00\"\n        ],\n        \"semantic_type\": \"\",\n        \"description\": \"\"\n      }\n    },\n    {\n      \"column\": \"Price\",\n      \"properties\": {\n        \"dtype\": \"number\",\n        \"std\": 10365.719744655182,\n        \"min\": 2891.1,\n        \"max\": 44965.8,\n        \"num_unique_values\": 754,\n        \"samples\": [\n          12900.0,\n          12635.8,\n          16300.0\n        ],\n        \"semantic_type\": \"\",\n        \"description\": \"\"\n      }\n    },\n    {\n      \"column\": \"Open\",\n      \"properties\": {\n        \"dtype\": \"number\",\n        \"std\": 10379.825376080475,\n        \"min\": 2877.9,\n        \"max\": 45046.3,\n        \"num_unique_values\": 715,\n        \"samples\": [\n          5420.7,\n          8510.0,\n          4198.6\n        ],\n        \"semantic_type\": \"\",\n        \"description\": \"\"\n      }\n    },\n    {\n      \"column\": \"High\",\n      \"properties\": {\n        \"dtype\": \"number\",\n        \"std\": 10593.64601176488,\n        \"min\": 3088.2,\n        \"max\": 45448.5,\n        \"num_unique_values\": 768,\n        \"samples\": [\n          15200.0,\n          22053.9,\n          14900.0\n        ],\n        \"semantic_type\": \"\",\n        \"description\": \"\"\n      }\n    },\n    {\n      \"column\": \"Low\",\n      \"properties\": {\n        \"dtype\": \"number\",\n        \"std\": 10154.918223682083,\n        \"min\": 2877.9,\n        \"max\": 44241.9,\n        \"num_unique_values\": 751,\n        \"samples\": [\n          36318.6,\n          25137.4,\n          5401.0\n        ],\n        \"semantic_type\": \"\",\n        \"description\": \"\"\n      }\n    },\n    {\n      \"column\": \"Vol.\",\n      \"properties\": {\n        \"dtype\": \"number\",\n        \"std\": 5223801.028543398,\n        \"min\": 29400.0,\n        \"max\": 29220000.0,\n        \"num_unique_values\": 1020,\n        \"samples\": [\n          4990000.0,\n          8109999.999999999,\n          7140000.0\n        ],\n        \"semantic_type\": \"\",\n        \"description\": \"\"\n      }\n    },\n    {\n      \"column\": \"Change %\",\n      \"properties\": {\n        \"dtype\": \"number\",\n        \"std\": 0.030518105776543004,\n        \"min\": -0.07,\n        \"max\": 0.07,\n        \"num_unique_values\": 678,\n        \"samples\": [\n          0.0415,\n          0.0209,\n          0.0258\n        ],\n        \"semantic_type\": \"\",\n        \"description\": \"\"\n      }\n    }\n  ]\n}"
            }
          },
          "metadata": {},
          "execution_count": 9
        }
      ]
    },
    {
      "cell_type": "code",
      "source": [
        "import pandas as pd\n",
        "import seaborn as sns\n",
        "import matplotlib.pyplot as plt\n",
        "\n",
        "data = pd.DataFrame(df)\n",
        "\n",
        "corr_matrix = data.corr()\n",
        "\n",
        "print(\"Ma trận tương quan:\")\n",
        "print(corr_matrix)\n",
        "\n",
        "plt.figure(figsize=(8, 6))\n",
        "sns.heatmap(corr_matrix, annot=True, cmap='coolwarm', vmin=-1, vmax=1)\n",
        "plt.title('Heatmap của ma trận tương quan')\n",
        "plt.show()"
      ],
      "metadata": {
        "colab": {
          "base_uri": "https://localhost:8080/",
          "height": 689
        },
        "id": "ueF__7rKjP67",
        "outputId": "f2f98e97-8e98-4e12-f90d-bc62816cc6da"
      },
      "execution_count": 10,
      "outputs": [
        {
          "output_type": "stream",
          "name": "stdout",
          "text": [
            "Ma trận tương quan:\n",
            "             Price      Open      High       Low      Vol.  Change %\n",
            "Price     1.000000  0.998551  0.999344  0.999333  0.579432  0.011632\n",
            "Open      0.998551  1.000000  0.999457  0.999435  0.576682 -0.029441\n",
            "High      0.999344  0.999457  1.000000  0.999360  0.583320 -0.013084\n",
            "Low       0.999333  0.999435  0.999360  1.000000  0.572838 -0.011732\n",
            "Vol.      0.579432  0.576682  0.583320  0.572838  1.000000  0.084546\n",
            "Change %  0.011632 -0.029441 -0.013084 -0.011732  0.084546  1.000000\n"
          ]
        },
        {
          "output_type": "display_data",
          "data": {
            "text/plain": [
              "<Figure size 800x600 with 2 Axes>"
            ],
            "image/png": "[encoded data removed]"
          },
          "metadata": {}
        }
      ]
    },
    {
      "cell_type": "code",
      "source": [
        "df = df[[\"Price\", \"Open\", \"High\", \"Low\"]]\n",
        "df.head()"
      ],
      "metadata": {
        "colab": {
          "base_uri": "https://localhost:8080/",
          "height": 238
        },
        "id": "jLdTpu3XjR8e",
        "outputId": "164cdaf8-6e7f-43bf-ed0c-2d996a63d9bb"
      },
      "execution_count": 11,
      "outputs": [
        {
          "output_type": "execute_result",
          "data": {
            "text/plain": [
              "             Price    Open    High     Low\n",
              "Date                                      \n",
              "2019-03-01  5059.3  5046.2  5125.1  5039.6\n",
              "2019-03-04  5223.6  5256.5  5289.3  5125.1\n",
              "2019-03-05  5223.6  5328.7  5387.9  5223.6\n",
              "2019-03-06  5118.5  5223.6  5256.5  5118.5\n",
              "2019-03-07  4934.5  5217.0  5217.0  4934.5"
            ],
            "text/html": [
              "\n",
              "  <div id=\"df-109d11c5-af59-4ca9-8086-3fde6452e688\" class=\"colab-df-container\">\n",
              "    <div>\n",
              "<style scoped>\n",
              "    .dataframe tbody tr th:only-of-type {\n",
              "        vertical-align: middle;\n",
              "    }\n",
              "\n",
              "    .dataframe tbody tr th {\n",
              "        vertical-align: top;\n",
              "    }\n",
              "\n",
              "    .dataframe thead th {\n",
              "        text-align: right;\n",
              "    }\n",
              "</style>\n",
              "<table border=\"1\" class=\"dataframe\">\n",
              "  <thead>\n",
              "    <tr style=\"text-align: right;\">\n",
              "      <th></th>\n",
              "      <th>Price</th>\n",
              "      <th>Open</th>\n",
              "      <th>High</th>\n",
              "      <th>Low</th>\n",
              "    </tr>\n",
              "    <tr>\n",
              "      <th>Date</th>\n",
              "      <th></th>\n",
              "      <th></th>\n",
              "      <th></th>\n",
              "      <th></th>\n",
              "    </tr>\n",
              "  </thead>\n",
              "  <tbody>\n",
              "    <tr>\n",
              "      <th>2019-03-01</th>\n",
              "      <td>5059.3</td>\n",
              "      <td>5046.2</td>\n",
              "      <td>5125.1</td>\n",
              "      <td>5039.6</td>\n",
              "    </tr>\n",
              "    <tr>\n",
              "      <th>2019-03-04</th>\n",
              "      <td>5223.6</td>\n",
              "      <td>5256.5</td>\n",
              "      <td>5289.3</td>\n",
              "      <td>5125.1</td>\n",
              "    </tr>\n",
              "    <tr>\n",
              "      <th>2019-03-05</th>\n",
              "      <td>5223.6</td>\n",
              "      <td>5328.7</td>\n",
              "      <td>5387.9</td>\n",
              "      <td>5223.6</td>\n",
              "    </tr>\n",
              "    <tr>\n",
              "      <th>2019-03-06</th>\n",
              "      <td>5118.5</td>\n",
              "      <td>5223.6</td>\n",
              "      <td>5256.5</td>\n",
              "      <td>5118.5</td>\n",
              "    </tr>\n",
              "    <tr>\n",
              "      <th>2019-03-07</th>\n",
              "      <td>4934.5</td>\n",
              "      <td>5217.0</td>\n",
              "      <td>5217.0</td>\n",
              "      <td>4934.5</td>\n",
              "    </tr>\n",
              "  </tbody>\n",
              "</table>\n",
              "</div>\n",
              "    <div class=\"colab-df-buttons\">\n",
              "\n",
              "  <div class=\"colab-df-container\">\n",
              "    <button class=\"colab-df-convert\" onclick=\"convertToInteractive('df-109d11c5-af59-4ca9-8086-3fde6452e688')\"\n",
              "            title=\"Convert this dataframe to an interactive table.\"\n",
              "            style=\"display:none;\">\n",
              "\n",
              "  <svg xmlns=\"http://www.w3.org/2000/svg\" height=\"24px\" viewBox=\"0 -960 960 960\">\n",
              "    <path d=\"M120-120v-720h720v720H120Zm60-500h600v-160H180v160Zm220 220h160v-160H400v160Zm0 220h160v-160H400v160ZM180-400h160v-160H180v160Zm440 0h160v-160H620v160ZM180-180h160v-160H180v160Zm440 0h160v-160H620v160Z\"/>\n",
              "  </svg>\n",
              "    </button>\n",
              "\n",
              "  <style>\n",
              "    .colab-df-container {\n",
              "      display:flex;\n",
              "      gap: 12px;\n",
              "    }\n",
              "\n",
              "    .colab-df-convert {\n",
              "      background-color: #E8F0FE;\n",
              "      border: none;\n",
              "      border-radius: 50%;\n",
              "      cursor: pointer;\n",
              "      display: none;\n",
              "      fill: #1967D2;\n",
              "      height: 32px;\n",
              "      padding: 0 0 0 0;\n",
              "      width: 32px;\n",
              "    }\n",
              "\n",
              "    .colab-df-convert:hover {\n",
              "      background-color: #E2EBFA;\n",
              "      box-shadow: 0px 1px 2px rgba(60, 64, 67, 0.3), 0px 1px 3px 1px rgba(60, 64, 67, 0.15);\n",
              "      fill: #174EA6;\n",
              "    }\n",
              "\n",
              "    .colab-df-buttons div {\n",
              "      margin-bottom: 4px;\n",
              "    }\n",
              "\n",
              "    [theme=dark] .colab-df-convert {\n",
              "      background-color: #3B4455;\n",
              "      fill: #D2E3FC;\n",
              "    }\n",
              "\n",
              "    [theme=dark] .colab-df-convert:hover {\n",
              "      background-color: #434B5C;\n",
              "      box-shadow: 0px 1px 3px 1px rgba(0, 0, 0, 0.15);\n",
              "      filter: drop-shadow(0px 1px 2px rgba(0, 0, 0, 0.3));\n",
              "      fill: #FFFFFF;\n",
              "    }\n",
              "  </style>\n",
              "\n",
              "    <script>\n",
              "      const buttonEl =\n",
              "        document.querySelector('#df-109d11c5-af59-4ca9-8086-3fde6452e688 button.colab-df-convert');\n",
              "      buttonEl.style.display =\n",
              "        google.colab.kernel.accessAllowed ? 'block' : 'none';\n",
              "\n",
              "      async function convertToInteractive(key) {\n",
              "        const element = document.querySelector('#df-109d11c5-af59-4ca9-8086-3fde6452e688');\n",
              "        const dataTable =\n",
              "          await google.colab.kernel.invokeFunction('convertToInteractive',\n",
              "                                                    [key], {});\n",
              "        if (!dataTable) return;\n",
              "\n",
              "        const docLinkHtml = 'Like what you see? Visit the ' +\n",
              "          '<a target=\"_blank\" href=https://colab.research.google.com/notebooks/data_table.ipynb>data table notebook</a>'\n",
              "          + ' to learn more about interactive tables.';\n",
              "        element.innerHTML = '';\n",
              "        dataTable['output_type'] = 'display_data';\n",
              "        await google.colab.output.renderOutput(dataTable, element);\n",
              "        const docLink = document.createElement('div');\n",
              "        docLink.innerHTML = docLinkHtml;\n",
              "        element.appendChild(docLink);\n",
              "      }\n",
              "    </script>\n",
              "  </div>\n",
              "\n",
              "\n",
              "<div id=\"df-3f83d21a-e2c6-4243-8a1b-b19148201c27\">\n",
              "  <button class=\"colab-df-quickchart\" onclick=\"quickchart('df-3f83d21a-e2c6-4243-8a1b-b19148201c27')\"\n",
              "            title=\"Suggest charts\"\n",
              "            style=\"display:none;\">\n",
              "\n",
              "<svg xmlns=\"http://www.w3.org/2000/svg\" height=\"24px\"viewBox=\"0 0 24 24\"\n",
              "     width=\"24px\">\n",
              "    <g>\n",
              "        <path d=\"M19 3H5c-1.1 0-2 .9-2 2v14c0 1.1.9 2 2 2h14c1.1 0 2-.9 2-2V5c0-1.1-.9-2-2-2zM9 17H7v-7h2v7zm4 0h-2V7h2v10zm4 0h-2v-4h2v4z\"/>\n",
              "    </g>\n",
              "</svg>\n",
              "  </button>\n",
              "\n",
              "<style>\n",
              "  .colab-df-quickchart {\n",
              "      --bg-color: #E8F0FE;\n",
              "      --fill-color: #1967D2;\n",
              "      --hover-bg-color: #E2EBFA;\n",
              "      --hover-fill-color: #174EA6;\n",
              "      --disabled-fill-color: #AAA;\n",
              "      --disabled-bg-color: #DDD;\n",
              "  }\n",
              "\n",
              "  [theme=dark] .colab-df-quickchart {\n",
              "      --bg-color: #3B4455;\n",
              "      --fill-color: #D2E3FC;\n",
              "      --hover-bg-color: #434B5C;\n",
              "      --hover-fill-color: #FFFFFF;\n",
              "      --disabled-bg-color: #3B4455;\n",
              "      --disabled-fill-color: #666;\n",
              "  }\n",
              "\n",
              "  .colab-df-quickchart {\n",
              "    background-color: var(--bg-color);\n",
              "    border: none;\n",
              "    border-radius: 50%;\n",
              "    cursor: pointer;\n",
              "    display: none;\n",
              "    fill: var(--fill-color);\n",
              "    height: 32px;\n",
              "    padding: 0;\n",
              "    width: 32px;\n",
              "  }\n",
              "\n",
              "  .colab-df-quickchart:hover {\n",
              "    background-color: var(--hover-bg-color);\n",
              "    box-shadow: 0 1px 2px rgba(60, 64, 67, 0.3), 0 1px 3px 1px rgba(60, 64, 67, 0.15);\n",
              "    fill: var(--button-hover-fill-color);\n",
              "  }\n",
              "\n",
              "  .colab-df-quickchart-complete:disabled,\n",
              "  .colab-df-quickchart-complete:disabled:hover {\n",
              "    background-color: var(--disabled-bg-color);\n",
              "    fill: var(--disabled-fill-color);\n",
              "    box-shadow: none;\n",
              "  }\n",
              "\n",
              "  .colab-df-spinner {\n",
              "    border: 2px solid var(--fill-color);\n",
              "    border-color: transparent;\n",
              "    border-bottom-color: var(--fill-color);\n",
              "    animation:\n",
              "      spin 1s steps(1) infinite;\n",
              "  }\n",
              "\n",
              "  @keyframes spin {\n",
              "    0% {\n",
              "      border-color: transparent;\n",
              "      border-bottom-color: var(--fill-color);\n",
              "      border-left-color: var(--fill-color);\n",
              "    }\n",
              "    20% {\n",
              "      border-color: transparent;\n",
              "      border-left-color: var(--fill-color);\n",
              "      border-top-color: var(--fill-color);\n",
              "    }\n",
              "    30% {\n",
              "      border-color: transparent;\n",
              "      border-left-color: var(--fill-color);\n",
              "      border-top-color: var(--fill-color);\n",
              "      border-right-color: var(--fill-color);\n",
              "    }\n",
              "    40% {\n",
              "      border-color: transparent;\n",
              "      border-right-color: var(--fill-color);\n",
              "      border-top-color: var(--fill-color);\n",
              "    }\n",
              "    60% {\n",
              "      border-color: transparent;\n",
              "      border-right-color: var(--fill-color);\n",
              "    }\n",
              "    80% {\n",
              "      border-color: transparent;\n",
              "      border-right-color: var(--fill-color);\n",
              "      border-bottom-color: var(--fill-color);\n",
              "    }\n",
              "    90% {\n",
              "      border-color: transparent;\n",
              "      border-bottom-color: var(--fill-color);\n",
              "    }\n",
              "  }\n",
              "</style>\n",
              "\n",
              "  <script>\n",
              "    async function quickchart(key) {\n",
              "      const quickchartButtonEl =\n",
              "        document.querySelector('#' + key + ' button');\n",
              "      quickchartButtonEl.disabled = true;  // To prevent multiple clicks.\n",
              "      quickchartButtonEl.classList.add('colab-df-spinner');\n",
              "      try {\n",
              "        const charts = await google.colab.kernel.invokeFunction(\n",
              "            'suggestCharts', [key], {});\n",
              "      } catch (error) {\n",
              "        console.error('Error during call to suggestCharts:', error);\n",
              "      }\n",
              "      quickchartButtonEl.classList.remove('colab-df-spinner');\n",
              "      quickchartButtonEl.classList.add('colab-df-quickchart-complete');\n",
              "    }\n",
              "    (() => {\n",
              "      let quickchartButtonEl =\n",
              "        document.querySelector('#df-3f83d21a-e2c6-4243-8a1b-b19148201c27 button');\n",
              "      quickchartButtonEl.style.display =\n",
              "        google.colab.kernel.accessAllowed ? 'block' : 'none';\n",
              "    })();\n",
              "  </script>\n",
              "</div>\n",
              "\n",
              "    </div>\n",
              "  </div>\n"
            ],
            "application/vnd.google.colaboratory.intrinsic+json": {
              "type": "dataframe",
              "variable_name": "df",
              "summary": "{\n  \"name\": \"df\",\n  \"rows\": 1313,\n  \"fields\": [\n    {\n      \"column\": \"Date\",\n      \"properties\": {\n        \"dtype\": \"date\",\n        \"min\": \"2019-03-01 00:00:00\",\n        \"max\": \"2024-05-31 00:00:00\",\n        \"num_unique_values\": 1313,\n        \"samples\": [\n          \"2019-05-17 00:00:00\",\n          \"2020-10-09 00:00:00\",\n          \"2022-01-12 00:00:00\"\n        ],\n        \"semantic_type\": \"\",\n        \"description\": \"\"\n      }\n    },\n    {\n      \"column\": \"Price\",\n      \"properties\": {\n        \"dtype\": \"number\",\n        \"std\": 10365.719744655182,\n        \"min\": 2891.1,\n        \"max\": 44965.8,\n        \"num_unique_values\": 754,\n        \"samples\": [\n          12900.0,\n          12635.8,\n          16300.0\n        ],\n        \"semantic_type\": \"\",\n        \"description\": \"\"\n      }\n    },\n    {\n      \"column\": \"Open\",\n      \"properties\": {\n        \"dtype\": \"number\",\n        \"std\": 10379.825376080475,\n        \"min\": 2877.9,\n        \"max\": 45046.3,\n        \"num_unique_values\": 715,\n        \"samples\": [\n          5420.7,\n          8510.0,\n          4198.6\n        ],\n        \"semantic_type\": \"\",\n        \"description\": \"\"\n      }\n    },\n    {\n      \"column\": \"High\",\n      \"properties\": {\n        \"dtype\": \"number\",\n        \"std\": 10593.64601176488,\n        \"min\": 3088.2,\n        \"max\": 45448.5,\n        \"num_unique_values\": 768,\n        \"samples\": [\n          15200.0,\n          22053.9,\n          14900.0\n        ],\n        \"semantic_type\": \"\",\n        \"description\": \"\"\n      }\n    },\n    {\n      \"column\": \"Low\",\n      \"properties\": {\n        \"dtype\": \"number\",\n        \"std\": 10154.918223682083,\n        \"min\": 2877.9,\n        \"max\": 44241.9,\n        \"num_unique_values\": 751,\n        \"samples\": [\n          36318.6,\n          25137.4,\n          5401.0\n        ],\n        \"semantic_type\": \"\",\n        \"description\": \"\"\n      }\n    }\n  ]\n}"
            }
          },
          "metadata": {},
          "execution_count": 11
        }
      ]
    },
    {
      "cell_type": "code",
      "source": [
        "train_size = int(len(df) * 0.7)\n",
        "train, test = df[:train_size], df[train_size:]\n",
        "train_df = train\n",
        "train = np.asarray(train)\n",
        "\n",
        "print(len(df))\n",
        "print(len(train))\n",
        "print(len(test))"
      ],
      "metadata": {
        "colab": {
          "base_uri": "https://localhost:8080/"
        },
        "id": "yrSgiTBIjby3",
        "outputId": "caf0aae6-3771-4c40-87d2-d71433a1c290"
      },
      "execution_count": 12,
      "outputs": [
        {
          "output_type": "stream",
          "name": "stdout",
          "text": [
            "1313\n",
            "919\n",
            "394\n"
          ]
        }
      ]
    },
    {
      "cell_type": "code",
      "source": [
        "#Find best AR and MA for VARMA modeling by evalute AIC.\n",
        "p_values = range(1, 5)\n",
        "q_values = range(1, 5)\n",
        "\n",
        "best_aic = np.inf\n",
        "best_order = (0, 0)\n",
        "\n",
        "for p in p_values:\n",
        "    for q in q_values:\n",
        "        try:\n",
        "            model = VARMAX(data, order=(p, q))\n",
        "            model_fit = model.fit(disp=False)\n",
        "\n",
        "            aic = model_fit.aic\n",
        "\n",
        "            print(f'VARMA({p}, {q}) - AIC: {aic}')\n",
        "\n",
        "            if aic < best_aic:\n",
        "                best_aic = aic\n",
        "                best_order = (p, q)\n",
        "        except Exception as e:\n",
        "            print(f'VARMA({p}, {q}) - Error: {e}')\n",
        "\n",
        "print(f'Best VARMA order: {best_order} - AIC: {best_aic}')"
      ],
      "metadata": {
        "colab": {
          "base_uri": "https://localhost:8080/"
        },
        "id": "acgb6rpDj6Q_",
        "outputId": "4219e020-994e-494b-846d-e4b64cf91b7c"
      },
      "execution_count": null,
      "outputs": [
        {
          "output_type": "stream",
          "name": "stdout",
          "text": [
            "VARMA(1, 1) - Error: 5-th leading minor of the array is not positive definite\n"
          ]
        },
        {
          "output_type": "stream",
          "name": "stderr",
          "text": [
            "/usr/local/lib/python3.10/dist-packages/statsmodels/tsa/statespace/varmax.py:160: EstimationWarning: Estimation of VARMA(p,q) models is not generically robust, due especially to identification issues.\n",
            "  warn('Estimation of VARMA(p,q) models is not generically robust,'\n",
            "/usr/local/lib/python3.10/dist-packages/statsmodels/tsa/base/tsa_model.py:473: ValueWarning: A date index has been provided, but it has no associated frequency information and so will be ignored when e.g. forecasting.\n",
            "  self._init_dates(dates, freq)\n",
            "/usr/local/lib/python3.10/dist-packages/scipy/linalg/_solvers.py:216: LinAlgWarning: Ill-conditioned matrix (rcond=2.21077e-29): result may not be accurate.\n",
            "  x = solve(lhs, q.flatten())\n",
            "/usr/local/lib/python3.10/dist-packages/scipy/linalg/_solvers.py:216: LinAlgWarning: Ill-conditioned matrix (rcond=4.24075e-27): result may not be accurate.\n",
            "  x = solve(lhs, q.flatten())\n",
            "/usr/local/lib/python3.10/dist-packages/statsmodels/tsa/statespace/varmax.py:160: EstimationWarning: Estimation of VARMA(p,q) models is not generically robust, due especially to identification issues.\n",
            "  warn('Estimation of VARMA(p,q) models is not generically robust,'\n",
            "/usr/local/lib/python3.10/dist-packages/statsmodels/tsa/base/tsa_model.py:473: ValueWarning: A date index has been provided, but it has no associated frequency information and so will be ignored when e.g. forecasting.\n",
            "  self._init_dates(dates, freq)\n",
            "/usr/local/lib/python3.10/dist-packages/scipy/linalg/_solvers.py:216: LinAlgWarning: Ill-conditioned matrix (rcond=2.21077e-29): result may not be accurate.\n",
            "  x = solve(lhs, q.flatten())\n",
            "/usr/local/lib/python3.10/dist-packages/statsmodels/base/model.py:607: ConvergenceWarning: Maximum Likelihood optimization failed to converge. Check mle_retvals\n",
            "  warnings.warn(\"Maximum Likelihood optimization failed to \"\n"
          ]
        },
        {
          "output_type": "stream",
          "name": "stdout",
          "text": [
            "VARMA(1, 2) - AIC: 954984.8449075175\n"
          ]
        },
        {
          "output_type": "stream",
          "name": "stderr",
          "text": [
            "/usr/local/lib/python3.10/dist-packages/statsmodels/tsa/statespace/varmax.py:160: EstimationWarning: Estimation of VARMA(p,q) models is not generically robust, due especially to identification issues.\n",
            "  warn('Estimation of VARMA(p,q) models is not generically robust,'\n",
            "/usr/local/lib/python3.10/dist-packages/statsmodels/tsa/base/tsa_model.py:473: ValueWarning: A date index has been provided, but it has no associated frequency information and so will be ignored when e.g. forecasting.\n",
            "  self._init_dates(dates, freq)\n",
            "/usr/local/lib/python3.10/dist-packages/scipy/linalg/_solvers.py:216: LinAlgWarning: Ill-conditioned matrix (rcond=2.21077e-29): result may not be accurate.\n",
            "  x = solve(lhs, q.flatten())\n"
          ]
        },
        {
          "output_type": "stream",
          "name": "stdout",
          "text": [
            "VARMA(1, 3) - Error: Schur decomposition solver error.\n",
            "VARMA(1, 4) - Error: 5-th leading minor of the array is not positive definite\n"
          ]
        },
        {
          "output_type": "stream",
          "name": "stderr",
          "text": [
            "/usr/local/lib/python3.10/dist-packages/statsmodels/tsa/statespace/varmax.py:160: EstimationWarning: Estimation of VARMA(p,q) models is not generically robust, due especially to identification issues.\n",
            "  warn('Estimation of VARMA(p,q) models is not generically robust,'\n",
            "/usr/local/lib/python3.10/dist-packages/statsmodels/tsa/base/tsa_model.py:473: ValueWarning: A date index has been provided, but it has no associated frequency information and so will be ignored when e.g. forecasting.\n",
            "  self._init_dates(dates, freq)\n",
            "/usr/local/lib/python3.10/dist-packages/scipy/linalg/_solvers.py:216: LinAlgWarning: Ill-conditioned matrix (rcond=2.21077e-29): result may not be accurate.\n",
            "  x = solve(lhs, q.flatten())\n",
            "/usr/local/lib/python3.10/dist-packages/statsmodels/tsa/statespace/varmax.py:160: EstimationWarning: Estimation of VARMA(p,q) models is not generically robust, due especially to identification issues.\n",
            "  warn('Estimation of VARMA(p,q) models is not generically robust,'\n",
            "/usr/local/lib/python3.10/dist-packages/statsmodels/tsa/base/tsa_model.py:473: ValueWarning: A date index has been provided, but it has no associated frequency information and so will be ignored when e.g. forecasting.\n",
            "  self._init_dates(dates, freq)\n",
            "/usr/local/lib/python3.10/dist-packages/scipy/linalg/_solvers.py:216: LinAlgWarning: Ill-conditioned matrix (rcond=4.93082e-20): result may not be accurate.\n",
            "  x = solve(lhs, q.flatten())\n",
            "/usr/local/lib/python3.10/dist-packages/statsmodels/base/model.py:607: ConvergenceWarning: Maximum Likelihood optimization failed to converge. Check mle_retvals\n",
            "  warnings.warn(\"Maximum Likelihood optimization failed to \"\n"
          ]
        },
        {
          "output_type": "stream",
          "name": "stdout",
          "text": [
            "VARMA(2, 1) - AIC: 109348.99106895817\n",
            "VARMA(2, 2) - Error: 5-th leading minor of the array is not positive definite\n"
          ]
        },
        {
          "output_type": "stream",
          "name": "stderr",
          "text": [
            "/usr/local/lib/python3.10/dist-packages/statsmodels/tsa/statespace/varmax.py:160: EstimationWarning: Estimation of VARMA(p,q) models is not generically robust, due especially to identification issues.\n",
            "  warn('Estimation of VARMA(p,q) models is not generically robust,'\n",
            "/usr/local/lib/python3.10/dist-packages/statsmodels/tsa/base/tsa_model.py:473: ValueWarning: A date index has been provided, but it has no associated frequency information and so will be ignored when e.g. forecasting.\n",
            "  self._init_dates(dates, freq)\n",
            "/usr/local/lib/python3.10/dist-packages/statsmodels/tsa/statespace/varmax.py:160: EstimationWarning: Estimation of VARMA(p,q) models is not generically robust, due especially to identification issues.\n",
            "  warn('Estimation of VARMA(p,q) models is not generically robust,'\n",
            "/usr/local/lib/python3.10/dist-packages/statsmodels/tsa/base/tsa_model.py:473: ValueWarning: A date index has been provided, but it has no associated frequency information and so will be ignored when e.g. forecasting.\n",
            "  self._init_dates(dates, freq)\n"
          ]
        },
        {
          "output_type": "stream",
          "name": "stdout",
          "text": [
            "VARMA(2, 3) - Error: Schur decomposition solver error.\n"
          ]
        },
        {
          "output_type": "stream",
          "name": "stderr",
          "text": [
            "/usr/local/lib/python3.10/dist-packages/statsmodels/tsa/statespace/varmax.py:160: EstimationWarning: Estimation of VARMA(p,q) models is not generically robust, due especially to identification issues.\n",
            "  warn('Estimation of VARMA(p,q) models is not generically robust,'\n",
            "/usr/local/lib/python3.10/dist-packages/statsmodels/tsa/base/tsa_model.py:473: ValueWarning: A date index has been provided, but it has no associated frequency information and so will be ignored when e.g. forecasting.\n",
            "  self._init_dates(dates, freq)\n"
          ]
        },
        {
          "output_type": "stream",
          "name": "stdout",
          "text": [
            "VARMA(2, 4) - Error: Schur decomposition solver error.\n"
          ]
        },
        {
          "output_type": "stream",
          "name": "stderr",
          "text": [
            "/usr/local/lib/python3.10/dist-packages/statsmodels/tsa/statespace/varmax.py:160: EstimationWarning: Estimation of VARMA(p,q) models is not generically robust, due especially to identification issues.\n",
            "  warn('Estimation of VARMA(p,q) models is not generically robust,'\n",
            "/usr/local/lib/python3.10/dist-packages/statsmodels/tsa/base/tsa_model.py:473: ValueWarning: A date index has been provided, but it has no associated frequency information and so will be ignored when e.g. forecasting.\n",
            "  self._init_dates(dates, freq)\n",
            "/usr/local/lib/python3.10/dist-packages/scipy/linalg/_solvers.py:216: LinAlgWarning: Ill-conditioned matrix (rcond=2.67363e-24): result may not be accurate.\n",
            "  x = solve(lhs, q.flatten())\n"
          ]
        },
        {
          "output_type": "stream",
          "name": "stdout",
          "text": [
            "VARMA(3, 1) - AIC: 109249.96610344332\n"
          ]
        },
        {
          "output_type": "stream",
          "name": "stderr",
          "text": [
            "/usr/local/lib/python3.10/dist-packages/statsmodels/tsa/statespace/varmax.py:160: EstimationWarning: Estimation of VARMA(p,q) models is not generically robust, due especially to identification issues.\n",
            "  warn('Estimation of VARMA(p,q) models is not generically robust,'\n",
            "/usr/local/lib/python3.10/dist-packages/statsmodels/tsa/base/tsa_model.py:473: ValueWarning: A date index has been provided, but it has no associated frequency information and so will be ignored when e.g. forecasting.\n",
            "  self._init_dates(dates, freq)\n",
            "/usr/local/lib/python3.10/dist-packages/statsmodels/base/model.py:607: ConvergenceWarning: Maximum Likelihood optimization failed to converge. Check mle_retvals\n",
            "  warnings.warn(\"Maximum Likelihood optimization failed to \"\n"
          ]
        },
        {
          "output_type": "stream",
          "name": "stdout",
          "text": [
            "VARMA(3, 2) - AIC: 109627.89337639551\n",
            "VARMA(3, 3) - Error: 5-th leading minor of the array is not positive definite\n"
          ]
        },
        {
          "output_type": "stream",
          "name": "stderr",
          "text": [
            "/usr/local/lib/python3.10/dist-packages/statsmodels/tsa/statespace/varmax.py:160: EstimationWarning: Estimation of VARMA(p,q) models is not generically robust, due especially to identification issues.\n",
            "  warn('Estimation of VARMA(p,q) models is not generically robust,'\n",
            "/usr/local/lib/python3.10/dist-packages/statsmodels/tsa/base/tsa_model.py:473: ValueWarning: A date index has been provided, but it has no associated frequency information and so will be ignored when e.g. forecasting.\n",
            "  self._init_dates(dates, freq)\n",
            "/usr/local/lib/python3.10/dist-packages/statsmodels/tsa/statespace/varmax.py:160: EstimationWarning: Estimation of VARMA(p,q) models is not generically robust, due especially to identification issues.\n",
            "  warn('Estimation of VARMA(p,q) models is not generically robust,'\n",
            "/usr/local/lib/python3.10/dist-packages/statsmodels/tsa/base/tsa_model.py:473: ValueWarning: A date index has been provided, but it has no associated frequency information and so will be ignored when e.g. forecasting.\n",
            "  self._init_dates(dates, freq)\n"
          ]
        },
        {
          "output_type": "stream",
          "name": "stdout",
          "text": [
            "VARMA(3, 4) - Error: Schur decomposition solver error.\n"
          ]
        },
        {
          "output_type": "stream",
          "name": "stderr",
          "text": [
            "/usr/local/lib/python3.10/dist-packages/statsmodels/tsa/statespace/varmax.py:160: EstimationWarning: Estimation of VARMA(p,q) models is not generically robust, due especially to identification issues.\n",
            "  warn('Estimation of VARMA(p,q) models is not generically robust,'\n",
            "/usr/local/lib/python3.10/dist-packages/statsmodels/tsa/base/tsa_model.py:473: ValueWarning: A date index has been provided, but it has no associated frequency information and so will be ignored when e.g. forecasting.\n",
            "  self._init_dates(dates, freq)\n",
            "/usr/local/lib/python3.10/dist-packages/scipy/linalg/_solvers.py:216: LinAlgWarning: Ill-conditioned matrix (rcond=2.4841e-24): result may not be accurate.\n",
            "  x = solve(lhs, q.flatten())\n"
          ]
        },
        {
          "output_type": "stream",
          "name": "stdout",
          "text": [
            "VARMA(4, 1) - AIC: 109250.84567690633\n",
            "VARMA(4, 2) - Error: 5-th leading minor of the array is not positive definite\n"
          ]
        },
        {
          "output_type": "stream",
          "name": "stderr",
          "text": [
            "/usr/local/lib/python3.10/dist-packages/statsmodels/tsa/statespace/varmax.py:160: EstimationWarning: Estimation of VARMA(p,q) models is not generically robust, due especially to identification issues.\n",
            "  warn('Estimation of VARMA(p,q) models is not generically robust,'\n",
            "/usr/local/lib/python3.10/dist-packages/statsmodels/tsa/base/tsa_model.py:473: ValueWarning: A date index has been provided, but it has no associated frequency information and so will be ignored when e.g. forecasting.\n",
            "  self._init_dates(dates, freq)\n",
            "/usr/local/lib/python3.10/dist-packages/statsmodels/tsa/statespace/varmax.py:160: EstimationWarning: Estimation of VARMA(p,q) models is not generically robust, due especially to identification issues.\n",
            "  warn('Estimation of VARMA(p,q) models is not generically robust,'\n",
            "/usr/local/lib/python3.10/dist-packages/statsmodels/tsa/base/tsa_model.py:473: ValueWarning: A date index has been provided, but it has no associated frequency information and so will be ignored when e.g. forecasting.\n",
            "  self._init_dates(dates, freq)\n",
            "/usr/local/lib/python3.10/dist-packages/statsmodels/base/model.py:607: ConvergenceWarning: Maximum Likelihood optimization failed to converge. Check mle_retvals\n",
            "  warnings.warn(\"Maximum Likelihood optimization failed to \"\n"
          ]
        },
        {
          "output_type": "stream",
          "name": "stdout",
          "text": [
            "VARMA(4, 3) - AIC: 4298230.094615365\n",
            "VARMA(4, 4) - Error: 5-th leading minor of the array is not positive definite\n",
            "Best VARMA order: (3, 1) - AIC: 109249.96610344332\n"
          ]
        },
        {
          "output_type": "stream",
          "name": "stderr",
          "text": [
            "/usr/local/lib/python3.10/dist-packages/statsmodels/tsa/statespace/varmax.py:160: EstimationWarning: Estimation of VARMA(p,q) models is not generically robust, due especially to identification issues.\n",
            "  warn('Estimation of VARMA(p,q) models is not generically robust,'\n",
            "/usr/local/lib/python3.10/dist-packages/statsmodels/tsa/base/tsa_model.py:473: ValueWarning: A date index has been provided, but it has no associated frequency information and so will be ignored when e.g. forecasting.\n",
            "  self._init_dates(dates, freq)\n"
          ]
        }
      ]
    },
    {
      "cell_type": "code",
      "source": [
        "model = VARMAX(train, order=(4, 1))\n",
        "model_fit = model.fit(disp=False)\n",
        "\n",
        "print(model_fit.summary())"
      ],
      "metadata": {
        "colab": {
          "base_uri": "https://localhost:8080/"
        },
        "id": "ryOyWHJVjdZ7",
        "outputId": "355d509f-3bbe-4aa9-9e7b-9416d2894d5b"
      },
      "execution_count": 13,
      "outputs": [
        {
          "output_type": "stream",
          "name": "stderr",
          "text": [
            "/usr/local/lib/python3.10/dist-packages/statsmodels/tsa/statespace/varmax.py:160: EstimationWarning: Estimation of VARMA(p,q) models is not generically robust, due especially to identification issues.\n",
            "  warn('Estimation of VARMA(p,q) models is not generically robust,'\n",
            "/usr/local/lib/python3.10/dist-packages/statsmodels/base/model.py:607: ConvergenceWarning: Maximum Likelihood optimization failed to converge. Check mle_retvals\n",
            "  warnings.warn(\"Maximum Likelihood optimization failed to \"\n"
          ]
        },
        {
          "output_type": "stream",
          "name": "stdout",
          "text": [
            "                              Statespace Model Results                              \n",
            "====================================================================================\n",
            "Dep. Variable:     ['y1', 'y2', 'y3', 'y4']   No. Observations:                  919\n",
            "Model:                           VARMA(4,1)   Log Likelihood              -25806.019\n",
            "                                + intercept   AIC                          51800.039\n",
            "Date:                      Tue, 18 Jun 2024   BIC                          52253.428\n",
            "Time:                              17:37:20   HQIC                         51973.063\n",
            "Sample:                                   0                                         \n",
            "                                      - 919                                         \n",
            "Covariance Type:                        opg                                         \n",
            "==========================================================================================================\n",
            "Ljung-Box (L1) (Q):         0.10, 0.04, 0.01, 0.02   Jarque-Bera (JB):   400.70, 2314.56, 2992.41, 1072.42\n",
            "Prob(Q):                    0.75, 0.84, 0.94, 0.88   Prob(JB):                      0.00, 0.00, 0.00, 0.00\n",
            "Heteroskedasticity (H): 59.07, 20.07, 41.75, 40.09   Skew:                        0.02, -0.27, 1.31, -0.46\n",
            "Prob(H) (two-sided):        0.00, 0.00, 0.00, 0.00   Kurtosis:                    6.23, 10.76, 11.44, 8.21\n",
            "                           Results for equation y1                            \n",
            "==============================================================================\n",
            "                 coef    std err          z      P>|z|      [0.025      0.975]\n",
            "------------------------------------------------------------------------------\n",
            "intercept     25.5717     62.273      0.411      0.681     -96.481     147.624\n",
            "L1.y1          1.2035      1.287      0.935      0.350      -1.320       3.727\n",
            "L1.y2          0.1007      0.751      0.134      0.893      -1.371       1.573\n",
            "L1.y3         -0.0682      2.219     -0.031      0.975      -4.417       4.280\n",
            "L1.y4         -0.1511      0.729     -0.207      0.836      -1.581       1.279\n",
            "L2.y1         -0.3011      1.194     -0.252      0.801      -2.641       2.039\n",
            "L2.y2          0.0586      0.119      0.494      0.621      -0.174       0.291\n",
            "L2.y3          0.4744      0.167      2.845      0.004       0.148       0.801\n",
            "L2.y4          0.0326      0.377      0.086      0.931      -0.707       0.772\n",
            "L3.y1         -0.2914      0.421     -0.692      0.489      -1.116       0.534\n",
            "L3.y2          0.0301      0.163      0.185      0.853      -0.289       0.349\n",
            "L3.y3         -0.3287      0.322     -1.021      0.307      -0.960       0.302\n",
            "L3.y4          0.1017      0.250      0.406      0.684      -0.389       0.592\n",
            "L4.y1          0.2612      0.214      1.223      0.221      -0.158       0.680\n",
            "L4.y2          0.1115      0.105      1.059      0.290      -0.095       0.318\n",
            "L4.y3         -0.2476      0.173     -1.433      0.152      -0.586       0.091\n",
            "L4.y4          0.0159      0.162      0.098      0.922      -0.302       0.334\n",
            "L1.e(y1)      -0.0726      1.297     -0.056      0.955      -2.615       2.470\n",
            "L1.e(y2)      -0.0104      0.751     -0.014      0.989      -1.481       1.461\n",
            "L1.e(y3)       0.0110      2.221      0.005      0.996      -4.342       4.364\n",
            "L1.e(y4)       0.2475      0.735      0.337      0.736      -1.194       1.689\n",
            "                           Results for equation y2                            \n",
            "==============================================================================\n",
            "                 coef    std err          z      P>|z|      [0.025      0.975]\n",
            "------------------------------------------------------------------------------\n",
            "intercept     -9.0532     30.405     -0.298      0.766     -68.646      50.539\n",
            "L1.y1          1.2785      0.589      2.169      0.030       0.123       2.434\n",
            "L1.y2          0.0428      0.380      0.113      0.910      -0.702       0.787\n",
            "L1.y3         -0.1477      1.036     -0.143      0.887      -2.178       1.882\n",
            "L1.y4         -0.1517      0.277     -0.548      0.584      -0.694       0.391\n",
            "L2.y1         -0.0766      0.563     -0.136      0.892      -1.179       1.026\n",
            "L2.y2          0.1694      0.040      4.192      0.000       0.090       0.249\n",
            "L2.y3         -0.0188      0.073     -0.259      0.795      -0.161       0.123\n",
            "L2.y4          0.0412      0.189      0.218      0.828      -0.329       0.412\n",
            "L3.y1         -0.2526      0.192     -1.313      0.189      -0.630       0.124\n",
            "L3.y2         -0.0749      0.068     -1.096      0.273      -0.209       0.059\n",
            "L3.y3         -0.0436      0.153     -0.285      0.776      -0.343       0.256\n",
            "L3.y4          0.1661      0.102      1.623      0.105      -0.035       0.367\n",
            "L4.y1          0.1717      0.109      1.575      0.115      -0.042       0.385\n",
            "L4.y2          0.1315      0.046      2.867      0.004       0.042       0.221\n",
            "L4.y3         -0.1265      0.082     -1.535      0.125      -0.288       0.035\n",
            "L4.y4         -0.1014      0.074     -1.367      0.172      -0.247       0.044\n",
            "L1.e(y1)      -0.0033      0.591     -0.006      0.996      -1.163       1.156\n",
            "L1.e(y2)      -0.0012      0.384     -0.003      0.998      -0.753       0.751\n",
            "L1.e(y3)       0.0313      1.034      0.030      0.976      -1.996       2.058\n",
            "L1.e(y4)       0.0540      0.279      0.194      0.847      -0.493       0.601\n",
            "                           Results for equation y3                            \n",
            "==============================================================================\n",
            "                 coef    std err          z      P>|z|      [0.025      0.975]\n",
            "------------------------------------------------------------------------------\n",
            "intercept     -1.6785     45.872     -0.037      0.971     -91.587      88.230\n",
            "L1.y1          1.1011      0.871      1.264      0.206      -0.607       2.809\n",
            "L1.y2         -0.0532      0.514     -0.104      0.917      -1.060       0.954\n",
            "L1.y3         -0.0161      1.489     -0.011      0.991      -2.935       2.903\n",
            "L1.y4         -0.1426      0.427     -0.334      0.738      -0.979       0.694\n",
            "L2.y1          0.1146      0.766      0.150      0.881      -1.387       1.616\n",
            "L2.y2          0.0989      0.079      1.246      0.213      -0.057       0.255\n",
            "L2.y3          0.1572      0.103      1.521      0.128      -0.045       0.360\n",
            "L2.y4         -0.0776      0.255     -0.304      0.761      -0.578       0.422\n",
            "L3.y1         -0.1638      0.296     -0.554      0.579      -0.743       0.415\n",
            "L3.y2         -0.0189      0.098     -0.192      0.848      -0.212       0.174\n",
            "L3.y3         -0.0916      0.224     -0.408      0.683      -0.532       0.348\n",
            "L3.y4          0.0569      0.165      0.345      0.730      -0.267       0.380\n",
            "L4.y1          0.1228      0.153      0.804      0.422      -0.177       0.422\n",
            "L4.y2          0.0661      0.075      0.886      0.375      -0.080       0.212\n",
            "L4.y3         -0.1332      0.113     -1.177      0.239      -0.355       0.089\n",
            "L4.y4          0.0005      0.105      0.005      0.996      -0.204       0.205\n",
            "L1.e(y1)       0.0521      0.878      0.059      0.953      -1.669       1.773\n",
            "L1.e(y2)       0.1323      0.510      0.259      0.795      -0.868       1.132\n",
            "L1.e(y3)       0.0064      1.494      0.004      0.997      -2.922       2.934\n",
            "L1.e(y4)       0.0144      0.430      0.034      0.973      -0.828       0.857\n",
            "                           Results for equation y4                            \n",
            "==============================================================================\n",
            "                 coef    std err          z      P>|z|      [0.025      0.975]\n",
            "------------------------------------------------------------------------------\n",
            "intercept     19.8964     38.150      0.522      0.602     -54.877      94.670\n",
            "L1.y1          1.2766      0.815      1.567      0.117      -0.320       2.873\n",
            "L1.y2         -0.0609      0.481     -0.127      0.899      -1.004       0.882\n",
            "L1.y3         -0.2325      1.480     -0.157      0.875      -3.133       2.668\n",
            "L1.y4          0.1825      0.406      0.449      0.653      -0.614       0.979\n",
            "L2.y1         -0.2192      0.789     -0.278      0.781      -1.766       1.328\n",
            "L2.y2          0.1675      0.067      2.487      0.013       0.036       0.300\n",
            "L2.y3          0.1529      0.102      1.501      0.133      -0.047       0.352\n",
            "L2.y4         -0.1485      0.252     -0.589      0.556      -0.642       0.345\n",
            "L3.y1         -0.1726      0.260     -0.663      0.508      -0.683       0.338\n",
            "L3.y2         -0.0945      0.099     -0.959      0.338      -0.288       0.099\n",
            "L3.y3         -0.2771      0.203     -1.366      0.172      -0.675       0.120\n",
            "L3.y4          0.2829      0.150      1.884      0.060      -0.011       0.577\n",
            "L4.y1          0.1612      0.137      1.174      0.240      -0.108       0.430\n",
            "L4.y2          0.0723      0.060      1.199      0.231      -0.046       0.191\n",
            "L4.y3         -0.0840      0.107     -0.783      0.433      -0.294       0.126\n",
            "L4.y4         -0.0125      0.095     -0.131      0.896      -0.200       0.175\n",
            "L1.e(y1)       0.0341      0.817      0.042      0.967      -1.567       1.635\n",
            "L1.e(y2)       0.0284      0.485      0.059      0.953      -0.922       0.979\n",
            "L1.e(y3)      -0.0145      1.476     -0.010      0.992      -2.907       2.877\n",
            "L1.e(y4)      -0.0564      0.412     -0.137      0.891      -0.864       0.751\n",
            "                             Error covariance matrix                              \n",
            "==================================================================================\n",
            "                     coef    std err          z      P>|z|      [0.025      0.975]\n",
            "----------------------------------------------------------------------------------\n",
            "sqrt.var.y1      592.4291     14.556     40.699      0.000     563.899     620.959\n",
            "sqrt.cov.y1.y2    72.9685      8.291      8.801      0.000      56.719      89.218\n",
            "sqrt.var.y2      231.8230      4.145     55.934      0.000     223.700     239.946\n",
            "sqrt.cov.y1.y3   305.6918      9.480     32.247      0.000     287.112     324.272\n",
            "sqrt.cov.y2.y3    79.6967      5.658     14.085      0.000      68.607      90.787\n",
            "sqrt.var.y3      208.0701      4.529     45.945      0.000     199.194     216.946\n",
            "sqrt.cov.y1.y4   297.7347     10.030     29.685      0.000     278.077     317.393\n",
            "sqrt.cov.y2.y4    86.6976      6.823     12.707      0.000      73.325     100.070\n",
            "sqrt.cov.y3.y4   -56.8378      8.036     -7.073      0.000     -72.589     -41.087\n",
            "sqrt.var.y4      195.8813      3.359     58.323      0.000     189.299     202.464\n",
            "==================================================================================\n",
            "\n",
            "Warnings:\n",
            "[1] Covariance matrix calculated using the outer product of gradients (complex-step).\n"
          ]
        }
      ]
    },
    {
      "cell_type": "code",
      "source": [
        "forecast = model_fit.forecast(steps=len(test))\n",
        "\n",
        "forecast = pd.DataFrame(forecast, index=test.index, columns=test.columns)\n",
        "\n",
        "print(forecast.head())"
      ],
      "metadata": {
        "colab": {
          "base_uri": "https://localhost:8080/"
        },
        "id": "0p_FdMaRjfcQ",
        "outputId": "b5a556c9-289e-4c7d-bab8-0d9374c4f591"
      },
      "execution_count": 14,
      "outputs": [
        {
          "output_type": "stream",
          "name": "stdout",
          "text": [
            "                   Price          Open          High           Low\n",
            "Date                                                              \n",
            "2022-10-31  14303.349030  14248.878651  14831.973958  13700.770655\n",
            "2022-11-01  14350.104085  14319.898253  14741.429325  13901.941826\n",
            "2022-11-02  14196.179616  14282.417184  14628.363341  13838.452827\n",
            "2022-11-03  14069.507654  14165.711334  14495.896161  13768.322751\n",
            "2022-11-04  13954.612395  14015.966989  14353.718634  13659.719557\n"
          ]
        }
      ]
    },
    {
      "cell_type": "code",
      "source": [
        "from sklearn.metrics import mean_absolute_error, mean_absolute_percentage_error,mean_squared_error\n",
        "\n",
        "mae = mean_absolute_error(test[\"Price\"], forecast[\"Price\"])\n",
        "mape = mean_absolute_percentage_error(test[\"Price\"], forecast[\"Price\"])\n",
        "rmse = np.sqrt(mean_squared_error(test[\"Price\"], forecast[\"Price\"]))\n",
        "\n",
        "print(\"Mean Absolute Error (MAE):\", mae)\n",
        "print(\"Mean Absolute Percentage Error (MAPE):\", mape)\n",
        "print(\"Root Mean Squared Error (RMSE):\", rmse)"
      ],
      "metadata": {
        "colab": {
          "base_uri": "https://localhost:8080/"
        },
        "id": "_zMuna3lafn3",
        "outputId": "4d4f934c-df3c-415c-c09a-32a0c79e4c7f"
      },
      "execution_count": 15,
      "outputs": [
        {
          "output_type": "stream",
          "name": "stdout",
          "text": [
            "Mean Absolute Error (MAE): 5457.522880539548\n",
            "Mean Absolute Percentage Error (MAPE): 0.26567094964254345\n",
            "Root Mean Squared Error (RMSE): 6645.967436118088\n"
          ]
        }
      ]
    },
    {
      "cell_type": "code",
      "source": [
        "import matplotlib.pyplot as plt\n",
        "\n",
        "plt.figure(figsize=(12, 6))\n",
        "\n",
        "forecast_horizon = 90\n",
        "next_90_days_forecast = model_fit.forecast(steps=forecast_horizon)\n",
        "forecast_df_90 = pd.DataFrame(next_90_days_forecast, index=pd.date_range(start=df.index[-1], periods=forecast_horizon, freq='D'), columns=df.columns)\n",
        "\n",
        "forecast_horizon = 60\n",
        "next_60_days_forecast = model_fit.forecast(steps=forecast_horizon)\n",
        "forecast_df_60 = pd.DataFrame(next_60_days_forecast, index=pd.date_range(start=df.index[-1], periods=forecast_horizon, freq='D'), columns=df.columns)\n",
        "\n",
        "forecast_horizon = 30\n",
        "next_30_days_forecast = model_fit.forecast(steps=forecast_horizon)\n",
        "forecast_df_30 = pd.DataFrame(next_30_days_forecast, index=pd.date_range(start=df.index[-1], periods=forecast_horizon, freq='D'), columns=df.columns)\n",
        "\n",
        "plt.plot(test.index, test[\"Price\"], label='Test')\n",
        "\n",
        "plt.plot(test.index, forecast[\"Price\"], label='Predict')\n",
        "\n",
        "plt.plot(forecast_df_30.index, forecast_df_30[\"Price\"], label='30Days Price')\n",
        "\n",
        "filtered_df_60 = forecast_df_60.iloc[30:60]\n",
        "\n",
        "plt.plot(filtered_df_60.index, filtered_df_60[\"Price\"], label='60Days Price')\n",
        "\n",
        "filtered_df_90 = forecast_df_90.iloc[60:90]\n",
        "\n",
        "plt.plot(filtered_df_90.index, filtered_df_90[\"Price\"], label='90Days Price')\n",
        "\n",
        "plt.title('Stock Price Forecast for Nam Kinh Group Using VARMA (70:30)')\n",
        "plt.xlabel('Date')\n",
        "plt.ylabel('Price')\n",
        "plt.legend()\n",
        "plt.show()"
      ],
      "metadata": {
        "colab": {
          "base_uri": "https://localhost:8080/",
          "height": 564
        },
        "id": "GpLC1hk6jgdv",
        "outputId": "94b752c0-a2ea-4227-ae47-6eee833b93ff"
      },
      "execution_count": 16,
      "outputs": [
        {
          "output_type": "display_data",
          "data": {
            "text/plain": [
              "<Figure size 1200x600 with 1 Axes>"
            ],
            "image/png": "[encoded data removed]"
          },
          "metadata": {}
        }
      ]
    },
    {
      "cell_type": "code",
      "source": [
        "# Forecasting\n",
        "import matplotlib.pyplot as plt\n",
        "\n",
        "plt.figure(figsize=(12, 6))\n",
        "\n",
        "forecast_horizons = [90, 60, 30]\n",
        "forecast_dfs = {}\n",
        "\n",
        "for horizon in forecast_horizons:\n",
        "    forecast = model_fit.forecast(steps=horizon)\n",
        "    forecast_df = pd.DataFrame(\n",
        "        forecast,\n",
        "        index=pd.date_range(start=df.index[-1] + pd.DateOffset(days=1), periods=horizon, freq='D'),\n",
        "        columns=df.columns\n",
        "    )\n",
        "    forecast_dfs[horizon] = forecast_df\n",
        "\n",
        "for horizon, forecast_df in forecast_dfs.items():\n",
        "    plt.plot(forecast_df.index, forecast_df[\"Price\"],\n",
        "             label=f'Forecast ({horizon} Days)', alpha=0.7)\n",
        "\n",
        "plt.title('Stock Price Forecast for Nam Kinh Group Using VARMA (70:30)')\n",
        "plt.xlabel('Date')\n",
        "plt.ylabel('Price')\n",
        "plt.legend()\n",
        "plt.grid(axis='y', alpha=0.5)\n",
        "plt.tight_layout()\n",
        "plt.show()\n"
      ],
      "metadata": {
        "colab": {
          "base_uri": "https://localhost:8080/",
          "height": 549
        },
        "id": "sisAz6GZjpaf",
        "outputId": "76bccd7f-3043-4216-e302-ccac03990b51"
      },
      "execution_count": 17,
      "outputs": [
        {
          "output_type": "display_data",
          "data": {
            "text/plain": [
              "<Figure size 1200x600 with 1 Axes>"
            ],
            "image/png": "[encoded data removed]"
          },
          "metadata": {}
        }
      ]
    }
  ]
}